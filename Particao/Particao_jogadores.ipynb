{
  "nbformat": 4,
  "nbformat_minor": 0,
  "metadata": {
    "colab": {
      "provenance": []
    },
    "kernelspec": {
      "name": "python3",
      "display_name": "Python 3"
    },
    "language_info": {
      "name": "python"
    }
  },
  "cells": [
    {
      "cell_type": "markdown",
      "source": [
        "# Partição dos dados"
      ],
      "metadata": {
        "id": "serRFnYdrHHX"
      }
    },
    {
      "cell_type": "code",
      "execution_count": null,
      "metadata": {
        "id": "YCct8qMX10a4"
      },
      "outputs": [],
      "source": [
        "!pip install pyspark"
      ]
    },
    {
      "cell_type": "code",
      "source": [
        "import pyspark\n",
        "#conexão\n",
        "from pyspark.sql import SparkSession \n",
        "from pyspark.sql.functions import max, count, col, asc, desc\n",
        "#plots\n",
        "import pandas as pd\n",
        "import plotly.express as px"
      ],
      "metadata": {
        "id": "h26NW_ek8H3R"
      },
      "execution_count": 2,
      "outputs": []
    },
    {
      "cell_type": "markdown",
      "source": [
        "#### Transformando o arquivo em um dataframe"
      ],
      "metadata": {
        "id": "4e_u_5fNrNV5"
      }
    },
    {
      "cell_type": "code",
      "source": [
        "spark = SparkSession.builder\\\n",
        "      .master(\"local\")\\\n",
        "      .appName(\"Particao\")\\\n",
        "      .getOrCreate()"
      ],
      "metadata": {
        "id": "bSXyeBDO8Um-"
      },
      "execution_count": 3,
      "outputs": []
    },
    {
      "cell_type": "code",
      "source": [
        "df = spark.read.csv(\"/content/2022-2023 Football Player Stats.csv\", header= True, inferSchema = True, sep=\";\")"
      ],
      "metadata": {
        "id": "MgRCgnJz8ey7"
      },
      "execution_count": 5,
      "outputs": []
    },
    {
      "cell_type": "code",
      "source": [
        "base = df.toPandas()\n",
        "base['Pos'].value_counts()"
      ],
      "metadata": {
        "id": "MPjtMxdq95ac",
        "colab": {
          "base_uri": "https://localhost:8080/"
        },
        "outputId": "b9191583-8c54-4a3f-ff03-55e2c3f73869"
      },
      "execution_count": 7,
      "outputs": [
        {
          "output_type": "execute_result",
          "data": {
            "text/plain": [
              "DF      825\n",
              "MF      608\n",
              "FW      409\n",
              "FWMF    244\n",
              "MFFW    208\n",
              "GK      164\n",
              "DFMF    101\n",
              "MFDF     62\n",
              "DFFW     38\n",
              "FWDF     30\n",
              "Name: Pos, dtype: int64"
            ]
          },
          "metadata": {},
          "execution_count": 7
        }
      ]
    },
    {
      "cell_type": "markdown",
      "source": [
        "#### categorizando as posições para realizar uma partição de dados que atendam aos nossos objetivos, separando eles por Defensor, Meio_Campo, Goleiro e Atacante"
      ],
      "metadata": {
        "id": "_Qh0Khh2rggh"
      }
    },
    {
      "cell_type": "code",
      "source": [
        "# o script abaixo foi criado para simplificar as posições dos jogadores\n",
        "encoder = {'GK' : 'Goleiro',\n",
        "#defensores\n",
        "'DF':'Defensor','DFFW' : 'Defensor',\n",
        "#meias\n",
        "'MF': 'Meio_Campo', 'DFMF': 'Meio_Campo', 'MFFW': 'Meio_Campo', 'MFDF': 'Meio_Campo',\n",
        "#atacantes\n",
        "'FW': 'Atacante', 'FWDF' : 'Atacante', 'FWMF' : 'Atacante'}\n",
        "Players = base.copy()\n",
        "Players['funcao'] = Players.Pos.replace(encoder)"
      ],
      "metadata": {
        "id": "mQvceVxkNmFf"
      },
      "execution_count": 8,
      "outputs": []
    },
    {
      "cell_type": "code",
      "source": [
        "base['GPJ'] = base['Goals'] / base['MP']\n",
        "base.head()"
      ],
      "metadata": {
        "colab": {
          "base_uri": "https://localhost:8080/",
          "height": 387
        },
        "id": "TpCGaiU3A6Qm",
        "outputId": "3df01c65-b1f8-465e-dd94-643fc31f9d23"
      },
      "execution_count": 10,
      "outputs": [
        {
          "output_type": "execute_result",
          "data": {
            "text/plain": [
              "   Rk             Player Nation   Pos         Squad            Comp  Age  \\\n",
              "0   1   Brenden Aaronson    USA  MFFW  Leeds United  Premier League   22   \n",
              "1   2   Yunis Abdelhamid    MAR    DF         Reims         Ligue 1   35   \n",
              "2   3      Himad Abdelli    FRA  MFFW        Angers         Ligue 1   23   \n",
              "3   4  Salis Abdul Samed    GHA    MF          Lens         Ligue 1   22   \n",
              "4   5    Laurent Abergel    FRA    MF       Lorient         Ligue 1   30   \n",
              "\n",
              "   Born  MP  Starts  ...   Crs  TklW  PKwon  PKcon    OG  Recov  AerWon  \\\n",
              "0  2000  20      19  ...  2.54  0.51    0.0    0.0  0.00   4.86    0.34   \n",
              "1  1987  22      22  ...  0.18  1.59    0.0    0.0  0.00   6.64    2.18   \n",
              "2  1999  14       8  ...  1.05  1.40    0.0    0.0  0.00   8.14    0.93   \n",
              "3  2000  20      20  ...  0.35  0.80    0.0    0.0  0.05   6.60    0.50   \n",
              "4  1993  15      15  ...  0.23  2.02    0.0    0.0  0.00   6.51    0.31   \n",
              "\n",
              "   AerLost  AerWon%   GPJ  \n",
              "0     1.19     22.2  0.05  \n",
              "1     1.23     64.0  0.00  \n",
              "2     1.05     47.1  0.00  \n",
              "3     0.50     50.0  0.05  \n",
              "4     0.39     44.4  0.00  \n",
              "\n",
              "[5 rows x 125 columns]"
            ],
            "text/html": [
              "\n",
              "  <div id=\"df-7c407545-f043-4973-b31b-b685bc19368f\">\n",
              "    <div class=\"colab-df-container\">\n",
              "      <div>\n",
              "<style scoped>\n",
              "    .dataframe tbody tr th:only-of-type {\n",
              "        vertical-align: middle;\n",
              "    }\n",
              "\n",
              "    .dataframe tbody tr th {\n",
              "        vertical-align: top;\n",
              "    }\n",
              "\n",
              "    .dataframe thead th {\n",
              "        text-align: right;\n",
              "    }\n",
              "</style>\n",
              "<table border=\"1\" class=\"dataframe\">\n",
              "  <thead>\n",
              "    <tr style=\"text-align: right;\">\n",
              "      <th></th>\n",
              "      <th>Rk</th>\n",
              "      <th>Player</th>\n",
              "      <th>Nation</th>\n",
              "      <th>Pos</th>\n",
              "      <th>Squad</th>\n",
              "      <th>Comp</th>\n",
              "      <th>Age</th>\n",
              "      <th>Born</th>\n",
              "      <th>MP</th>\n",
              "      <th>Starts</th>\n",
              "      <th>...</th>\n",
              "      <th>Crs</th>\n",
              "      <th>TklW</th>\n",
              "      <th>PKwon</th>\n",
              "      <th>PKcon</th>\n",
              "      <th>OG</th>\n",
              "      <th>Recov</th>\n",
              "      <th>AerWon</th>\n",
              "      <th>AerLost</th>\n",
              "      <th>AerWon%</th>\n",
              "      <th>GPJ</th>\n",
              "    </tr>\n",
              "  </thead>\n",
              "  <tbody>\n",
              "    <tr>\n",
              "      <th>0</th>\n",
              "      <td>1</td>\n",
              "      <td>Brenden Aaronson</td>\n",
              "      <td>USA</td>\n",
              "      <td>MFFW</td>\n",
              "      <td>Leeds United</td>\n",
              "      <td>Premier League</td>\n",
              "      <td>22</td>\n",
              "      <td>2000</td>\n",
              "      <td>20</td>\n",
              "      <td>19</td>\n",
              "      <td>...</td>\n",
              "      <td>2.54</td>\n",
              "      <td>0.51</td>\n",
              "      <td>0.0</td>\n",
              "      <td>0.0</td>\n",
              "      <td>0.00</td>\n",
              "      <td>4.86</td>\n",
              "      <td>0.34</td>\n",
              "      <td>1.19</td>\n",
              "      <td>22.2</td>\n",
              "      <td>0.05</td>\n",
              "    </tr>\n",
              "    <tr>\n",
              "      <th>1</th>\n",
              "      <td>2</td>\n",
              "      <td>Yunis Abdelhamid</td>\n",
              "      <td>MAR</td>\n",
              "      <td>DF</td>\n",
              "      <td>Reims</td>\n",
              "      <td>Ligue 1</td>\n",
              "      <td>35</td>\n",
              "      <td>1987</td>\n",
              "      <td>22</td>\n",
              "      <td>22</td>\n",
              "      <td>...</td>\n",
              "      <td>0.18</td>\n",
              "      <td>1.59</td>\n",
              "      <td>0.0</td>\n",
              "      <td>0.0</td>\n",
              "      <td>0.00</td>\n",
              "      <td>6.64</td>\n",
              "      <td>2.18</td>\n",
              "      <td>1.23</td>\n",
              "      <td>64.0</td>\n",
              "      <td>0.00</td>\n",
              "    </tr>\n",
              "    <tr>\n",
              "      <th>2</th>\n",
              "      <td>3</td>\n",
              "      <td>Himad Abdelli</td>\n",
              "      <td>FRA</td>\n",
              "      <td>MFFW</td>\n",
              "      <td>Angers</td>\n",
              "      <td>Ligue 1</td>\n",
              "      <td>23</td>\n",
              "      <td>1999</td>\n",
              "      <td>14</td>\n",
              "      <td>8</td>\n",
              "      <td>...</td>\n",
              "      <td>1.05</td>\n",
              "      <td>1.40</td>\n",
              "      <td>0.0</td>\n",
              "      <td>0.0</td>\n",
              "      <td>0.00</td>\n",
              "      <td>8.14</td>\n",
              "      <td>0.93</td>\n",
              "      <td>1.05</td>\n",
              "      <td>47.1</td>\n",
              "      <td>0.00</td>\n",
              "    </tr>\n",
              "    <tr>\n",
              "      <th>3</th>\n",
              "      <td>4</td>\n",
              "      <td>Salis Abdul Samed</td>\n",
              "      <td>GHA</td>\n",
              "      <td>MF</td>\n",
              "      <td>Lens</td>\n",
              "      <td>Ligue 1</td>\n",
              "      <td>22</td>\n",
              "      <td>2000</td>\n",
              "      <td>20</td>\n",
              "      <td>20</td>\n",
              "      <td>...</td>\n",
              "      <td>0.35</td>\n",
              "      <td>0.80</td>\n",
              "      <td>0.0</td>\n",
              "      <td>0.0</td>\n",
              "      <td>0.05</td>\n",
              "      <td>6.60</td>\n",
              "      <td>0.50</td>\n",
              "      <td>0.50</td>\n",
              "      <td>50.0</td>\n",
              "      <td>0.05</td>\n",
              "    </tr>\n",
              "    <tr>\n",
              "      <th>4</th>\n",
              "      <td>5</td>\n",
              "      <td>Laurent Abergel</td>\n",
              "      <td>FRA</td>\n",
              "      <td>MF</td>\n",
              "      <td>Lorient</td>\n",
              "      <td>Ligue 1</td>\n",
              "      <td>30</td>\n",
              "      <td>1993</td>\n",
              "      <td>15</td>\n",
              "      <td>15</td>\n",
              "      <td>...</td>\n",
              "      <td>0.23</td>\n",
              "      <td>2.02</td>\n",
              "      <td>0.0</td>\n",
              "      <td>0.0</td>\n",
              "      <td>0.00</td>\n",
              "      <td>6.51</td>\n",
              "      <td>0.31</td>\n",
              "      <td>0.39</td>\n",
              "      <td>44.4</td>\n",
              "      <td>0.00</td>\n",
              "    </tr>\n",
              "  </tbody>\n",
              "</table>\n",
              "<p>5 rows × 125 columns</p>\n",
              "</div>\n",
              "      <button class=\"colab-df-convert\" onclick=\"convertToInteractive('df-7c407545-f043-4973-b31b-b685bc19368f')\"\n",
              "              title=\"Convert this dataframe to an interactive table.\"\n",
              "              style=\"display:none;\">\n",
              "        \n",
              "  <svg xmlns=\"http://www.w3.org/2000/svg\" height=\"24px\"viewBox=\"0 0 24 24\"\n",
              "       width=\"24px\">\n",
              "    <path d=\"M0 0h24v24H0V0z\" fill=\"none\"/>\n",
              "    <path d=\"M18.56 5.44l.94 2.06.94-2.06 2.06-.94-2.06-.94-.94-2.06-.94 2.06-2.06.94zm-11 1L8.5 8.5l.94-2.06 2.06-.94-2.06-.94L8.5 2.5l-.94 2.06-2.06.94zm10 10l.94 2.06.94-2.06 2.06-.94-2.06-.94-.94-2.06-.94 2.06-2.06.94z\"/><path d=\"M17.41 7.96l-1.37-1.37c-.4-.4-.92-.59-1.43-.59-.52 0-1.04.2-1.43.59L10.3 9.45l-7.72 7.72c-.78.78-.78 2.05 0 2.83L4 21.41c.39.39.9.59 1.41.59.51 0 1.02-.2 1.41-.59l7.78-7.78 2.81-2.81c.8-.78.8-2.07 0-2.86zM5.41 20L4 18.59l7.72-7.72 1.47 1.35L5.41 20z\"/>\n",
              "  </svg>\n",
              "      </button>\n",
              "      \n",
              "  <style>\n",
              "    .colab-df-container {\n",
              "      display:flex;\n",
              "      flex-wrap:wrap;\n",
              "      gap: 12px;\n",
              "    }\n",
              "\n",
              "    .colab-df-convert {\n",
              "      background-color: #E8F0FE;\n",
              "      border: none;\n",
              "      border-radius: 50%;\n",
              "      cursor: pointer;\n",
              "      display: none;\n",
              "      fill: #1967D2;\n",
              "      height: 32px;\n",
              "      padding: 0 0 0 0;\n",
              "      width: 32px;\n",
              "    }\n",
              "\n",
              "    .colab-df-convert:hover {\n",
              "      background-color: #E2EBFA;\n",
              "      box-shadow: 0px 1px 2px rgba(60, 64, 67, 0.3), 0px 1px 3px 1px rgba(60, 64, 67, 0.15);\n",
              "      fill: #174EA6;\n",
              "    }\n",
              "\n",
              "    [theme=dark] .colab-df-convert {\n",
              "      background-color: #3B4455;\n",
              "      fill: #D2E3FC;\n",
              "    }\n",
              "\n",
              "    [theme=dark] .colab-df-convert:hover {\n",
              "      background-color: #434B5C;\n",
              "      box-shadow: 0px 1px 3px 1px rgba(0, 0, 0, 0.15);\n",
              "      filter: drop-shadow(0px 1px 2px rgba(0, 0, 0, 0.3));\n",
              "      fill: #FFFFFF;\n",
              "    }\n",
              "  </style>\n",
              "\n",
              "      <script>\n",
              "        const buttonEl =\n",
              "          document.querySelector('#df-7c407545-f043-4973-b31b-b685bc19368f button.colab-df-convert');\n",
              "        buttonEl.style.display =\n",
              "          google.colab.kernel.accessAllowed ? 'block' : 'none';\n",
              "\n",
              "        async function convertToInteractive(key) {\n",
              "          const element = document.querySelector('#df-7c407545-f043-4973-b31b-b685bc19368f');\n",
              "          const dataTable =\n",
              "            await google.colab.kernel.invokeFunction('convertToInteractive',\n",
              "                                                     [key], {});\n",
              "          if (!dataTable) return;\n",
              "\n",
              "          const docLinkHtml = 'Like what you see? Visit the ' +\n",
              "            '<a target=\"_blank\" href=https://colab.research.google.com/notebooks/data_table.ipynb>data table notebook</a>'\n",
              "            + ' to learn more about interactive tables.';\n",
              "          element.innerHTML = '';\n",
              "          dataTable['output_type'] = 'display_data';\n",
              "          await google.colab.output.renderOutput(dataTable, element);\n",
              "          const docLink = document.createElement('div');\n",
              "          docLink.innerHTML = docLinkHtml;\n",
              "          element.appendChild(docLink);\n",
              "        }\n",
              "      </script>\n",
              "    </div>\n",
              "  </div>\n",
              "  "
            ]
          },
          "metadata": {},
          "execution_count": 10
        }
      ]
    },
    {
      "cell_type": "code",
      "source": [
        "Players.to_csv('/content/Players_2022-2023.csv')\n",
        "df2 = spark.read.csv('/content/Players_2022-2023.csv', header = True, inferSchema= True)"
      ],
      "metadata": {
        "id": "SltuKLXtoa3w"
      },
      "execution_count": 11,
      "outputs": []
    },
    {
      "cell_type": "markdown",
      "source": [
        "Logo após criar uma coluna para simplificar as posições dos jogadores é realizada a partição de dados a partir da coluna funcao."
      ],
      "metadata": {
        "id": "LcqQDT1Zse8v"
      }
    },
    {
      "cell_type": "code",
      "source": [
        "df2.write.partitionBy('funcao').mode('overwrite').save('/content/jogadores-posicao')"
      ],
      "metadata": {
        "id": "INdQiZVVmDi-"
      },
      "execution_count": 12,
      "outputs": []
    }
  ]
}