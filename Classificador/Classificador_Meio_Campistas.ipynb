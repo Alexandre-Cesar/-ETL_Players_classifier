{
 "cells": [
  {
   "cell_type": "code",
   "execution_count": 2005,
   "metadata": {},
   "outputs": [],
   "source": [
    "import pandas as pd\n",
    "import plotly.express as px\n",
    "import numpy as np"
   ]
  },
  {
   "cell_type": "code",
   "execution_count": 2006,
   "metadata": {},
   "outputs": [],
   "source": [
    "Meias = pd.read_parquet('C:\\\\Users\\\\alexa\\\\OneDrive\\\\Área de Trabalho\\\\Prj\\\\Classificador\\\\Content\\\\Meio_Campistas.c000.snappy.parquet', engine='pyarrow')"
   ]
  },
  {
   "cell_type": "code",
   "execution_count": 2007,
   "metadata": {},
   "outputs": [
    {
     "data": {
      "text/html": [
       "<div>\n",
       "<style scoped>\n",
       "    .dataframe tbody tr th:only-of-type {\n",
       "        vertical-align: middle;\n",
       "    }\n",
       "\n",
       "    .dataframe tbody tr th {\n",
       "        vertical-align: top;\n",
       "    }\n",
       "\n",
       "    .dataframe thead th {\n",
       "        text-align: right;\n",
       "    }\n",
       "</style>\n",
       "<table border=\"1\" class=\"dataframe\">\n",
       "  <thead>\n",
       "    <tr style=\"text-align: right;\">\n",
       "      <th></th>\n",
       "      <th>_c0</th>\n",
       "      <th>Rk</th>\n",
       "      <th>Player</th>\n",
       "      <th>Nation</th>\n",
       "      <th>Pos</th>\n",
       "      <th>Squad</th>\n",
       "      <th>Comp</th>\n",
       "      <th>Age</th>\n",
       "      <th>Born</th>\n",
       "      <th>MP</th>\n",
       "      <th>...</th>\n",
       "      <th>Off</th>\n",
       "      <th>Crs</th>\n",
       "      <th>TklW</th>\n",
       "      <th>PKwon</th>\n",
       "      <th>PKcon</th>\n",
       "      <th>OG</th>\n",
       "      <th>Recov</th>\n",
       "      <th>AerWon</th>\n",
       "      <th>AerLost</th>\n",
       "      <th>AerWon%</th>\n",
       "    </tr>\n",
       "  </thead>\n",
       "  <tbody>\n",
       "    <tr>\n",
       "      <th>0</th>\n",
       "      <td>0</td>\n",
       "      <td>1</td>\n",
       "      <td>Brenden Aaronson</td>\n",
       "      <td>USA</td>\n",
       "      <td>MFFW</td>\n",
       "      <td>Leeds United</td>\n",
       "      <td>Premier League</td>\n",
       "      <td>22</td>\n",
       "      <td>2000</td>\n",
       "      <td>20</td>\n",
       "      <td>...</td>\n",
       "      <td>0.17</td>\n",
       "      <td>2.54</td>\n",
       "      <td>0.51</td>\n",
       "      <td>0.0</td>\n",
       "      <td>0.00</td>\n",
       "      <td>0.00</td>\n",
       "      <td>4.86</td>\n",
       "      <td>0.34</td>\n",
       "      <td>1.19</td>\n",
       "      <td>22.2</td>\n",
       "    </tr>\n",
       "    <tr>\n",
       "      <th>1</th>\n",
       "      <td>2</td>\n",
       "      <td>3</td>\n",
       "      <td>Himad Abdelli</td>\n",
       "      <td>FRA</td>\n",
       "      <td>MFFW</td>\n",
       "      <td>Angers</td>\n",
       "      <td>Ligue 1</td>\n",
       "      <td>23</td>\n",
       "      <td>1999</td>\n",
       "      <td>14</td>\n",
       "      <td>...</td>\n",
       "      <td>0.00</td>\n",
       "      <td>1.05</td>\n",
       "      <td>1.40</td>\n",
       "      <td>0.0</td>\n",
       "      <td>0.00</td>\n",
       "      <td>0.00</td>\n",
       "      <td>8.14</td>\n",
       "      <td>0.93</td>\n",
       "      <td>1.05</td>\n",
       "      <td>47.1</td>\n",
       "    </tr>\n",
       "    <tr>\n",
       "      <th>2</th>\n",
       "      <td>3</td>\n",
       "      <td>4</td>\n",
       "      <td>Salis Abdul Samed</td>\n",
       "      <td>GHA</td>\n",
       "      <td>MF</td>\n",
       "      <td>Lens</td>\n",
       "      <td>Ligue 1</td>\n",
       "      <td>22</td>\n",
       "      <td>2000</td>\n",
       "      <td>20</td>\n",
       "      <td>...</td>\n",
       "      <td>0.00</td>\n",
       "      <td>0.35</td>\n",
       "      <td>0.80</td>\n",
       "      <td>0.0</td>\n",
       "      <td>0.00</td>\n",
       "      <td>0.05</td>\n",
       "      <td>6.60</td>\n",
       "      <td>0.50</td>\n",
       "      <td>0.50</td>\n",
       "      <td>50.0</td>\n",
       "    </tr>\n",
       "    <tr>\n",
       "      <th>3</th>\n",
       "      <td>4</td>\n",
       "      <td>5</td>\n",
       "      <td>Laurent Abergel</td>\n",
       "      <td>FRA</td>\n",
       "      <td>MF</td>\n",
       "      <td>Lorient</td>\n",
       "      <td>Ligue 1</td>\n",
       "      <td>30</td>\n",
       "      <td>1993</td>\n",
       "      <td>15</td>\n",
       "      <td>...</td>\n",
       "      <td>0.00</td>\n",
       "      <td>0.23</td>\n",
       "      <td>2.02</td>\n",
       "      <td>0.0</td>\n",
       "      <td>0.00</td>\n",
       "      <td>0.00</td>\n",
       "      <td>6.51</td>\n",
       "      <td>0.31</td>\n",
       "      <td>0.39</td>\n",
       "      <td>44.4</td>\n",
       "    </tr>\n",
       "    <tr>\n",
       "      <th>4</th>\n",
       "      <td>5</td>\n",
       "      <td>6</td>\n",
       "      <td>Oliver Abildgaard</td>\n",
       "      <td>DEN</td>\n",
       "      <td>MF</td>\n",
       "      <td>Hellas Verona</td>\n",
       "      <td>Serie A</td>\n",
       "      <td>26</td>\n",
       "      <td>1996</td>\n",
       "      <td>1</td>\n",
       "      <td>...</td>\n",
       "      <td>0.00</td>\n",
       "      <td>0.00</td>\n",
       "      <td>10.00</td>\n",
       "      <td>0.0</td>\n",
       "      <td>0.00</td>\n",
       "      <td>0.00</td>\n",
       "      <td>10.00</td>\n",
       "      <td>0.00</td>\n",
       "      <td>10.00</td>\n",
       "      <td>0.0</td>\n",
       "    </tr>\n",
       "    <tr>\n",
       "      <th>5</th>\n",
       "      <td>15</td>\n",
       "      <td>16</td>\n",
       "      <td>Tyler Adams</td>\n",
       "      <td>USA</td>\n",
       "      <td>MF</td>\n",
       "      <td>Leeds United</td>\n",
       "      <td>Premier League</td>\n",
       "      <td>23</td>\n",
       "      <td>1999</td>\n",
       "      <td>19</td>\n",
       "      <td>...</td>\n",
       "      <td>0.05</td>\n",
       "      <td>0.11</td>\n",
       "      <td>2.00</td>\n",
       "      <td>0.0</td>\n",
       "      <td>0.00</td>\n",
       "      <td>0.00</td>\n",
       "      <td>8.68</td>\n",
       "      <td>0.89</td>\n",
       "      <td>0.63</td>\n",
       "      <td>58.6</td>\n",
       "    </tr>\n",
       "    <tr>\n",
       "      <th>6</th>\n",
       "      <td>18</td>\n",
       "      <td>19</td>\n",
       "      <td>Martin Adeline</td>\n",
       "      <td>FRA</td>\n",
       "      <td>MFFW</td>\n",
       "      <td>Reims</td>\n",
       "      <td>Ligue 1</td>\n",
       "      <td>19</td>\n",
       "      <td>2003</td>\n",
       "      <td>5</td>\n",
       "      <td>...</td>\n",
       "      <td>0.00</td>\n",
       "      <td>0.00</td>\n",
       "      <td>2.50</td>\n",
       "      <td>0.0</td>\n",
       "      <td>0.00</td>\n",
       "      <td>0.00</td>\n",
       "      <td>9.17</td>\n",
       "      <td>5.00</td>\n",
       "      <td>4.17</td>\n",
       "      <td>54.5</td>\n",
       "    </tr>\n",
       "    <tr>\n",
       "      <th>7</th>\n",
       "      <td>21</td>\n",
       "      <td>22</td>\n",
       "      <td>Yacine Adli</td>\n",
       "      <td>FRA</td>\n",
       "      <td>MFFW</td>\n",
       "      <td>Milan</td>\n",
       "      <td>Serie A</td>\n",
       "      <td>22</td>\n",
       "      <td>2000</td>\n",
       "      <td>4</td>\n",
       "      <td>...</td>\n",
       "      <td>0.00</td>\n",
       "      <td>3.08</td>\n",
       "      <td>2.31</td>\n",
       "      <td>0.0</td>\n",
       "      <td>0.00</td>\n",
       "      <td>0.00</td>\n",
       "      <td>3.85</td>\n",
       "      <td>0.00</td>\n",
       "      <td>2.31</td>\n",
       "      <td>0.0</td>\n",
       "    </tr>\n",
       "    <tr>\n",
       "      <th>8</th>\n",
       "      <td>25</td>\n",
       "      <td>26</td>\n",
       "      <td>Lucien Agoume</td>\n",
       "      <td>FRA</td>\n",
       "      <td>MF</td>\n",
       "      <td>Troyes</td>\n",
       "      <td>Ligue 1</td>\n",
       "      <td>21</td>\n",
       "      <td>2002</td>\n",
       "      <td>5</td>\n",
       "      <td>...</td>\n",
       "      <td>0.31</td>\n",
       "      <td>0.94</td>\n",
       "      <td>2.19</td>\n",
       "      <td>0.0</td>\n",
       "      <td>0.00</td>\n",
       "      <td>0.00</td>\n",
       "      <td>5.63</td>\n",
       "      <td>3.13</td>\n",
       "      <td>0.63</td>\n",
       "      <td>83.3</td>\n",
       "    </tr>\n",
       "    <tr>\n",
       "      <th>9</th>\n",
       "      <td>27</td>\n",
       "      <td>28</td>\n",
       "      <td>�lvaro Aguado</td>\n",
       "      <td>ESP</td>\n",
       "      <td>MF</td>\n",
       "      <td>Valladolid</td>\n",
       "      <td>La Liga</td>\n",
       "      <td>26</td>\n",
       "      <td>1996</td>\n",
       "      <td>19</td>\n",
       "      <td>...</td>\n",
       "      <td>0.00</td>\n",
       "      <td>2.22</td>\n",
       "      <td>0.48</td>\n",
       "      <td>0.0</td>\n",
       "      <td>0.08</td>\n",
       "      <td>0.00</td>\n",
       "      <td>5.71</td>\n",
       "      <td>0.95</td>\n",
       "      <td>1.03</td>\n",
       "      <td>48.0</td>\n",
       "    </tr>\n",
       "    <tr>\n",
       "      <th>10</th>\n",
       "      <td>28</td>\n",
       "      <td>29</td>\n",
       "      <td>Kevin Agudelo</td>\n",
       "      <td>COL</td>\n",
       "      <td>MFFW</td>\n",
       "      <td>Spezia</td>\n",
       "      <td>Serie A</td>\n",
       "      <td>24</td>\n",
       "      <td>1998</td>\n",
       "      <td>21</td>\n",
       "      <td>...</td>\n",
       "      <td>0.13</td>\n",
       "      <td>1.31</td>\n",
       "      <td>1.38</td>\n",
       "      <td>0.0</td>\n",
       "      <td>0.00</td>\n",
       "      <td>0.00</td>\n",
       "      <td>5.69</td>\n",
       "      <td>0.56</td>\n",
       "      <td>1.25</td>\n",
       "      <td>31.0</td>\n",
       "    </tr>\n",
       "    <tr>\n",
       "      <th>11</th>\n",
       "      <td>31</td>\n",
       "      <td>32</td>\n",
       "      <td>Naouirou Ahamada</td>\n",
       "      <td>FRA</td>\n",
       "      <td>MFFW</td>\n",
       "      <td>Crystal Palace</td>\n",
       "      <td>Premier League</td>\n",
       "      <td>20</td>\n",
       "      <td>2002</td>\n",
       "      <td>2</td>\n",
       "      <td>...</td>\n",
       "      <td>5.00</td>\n",
       "      <td>5.00</td>\n",
       "      <td>0.00</td>\n",
       "      <td>0.0</td>\n",
       "      <td>0.00</td>\n",
       "      <td>0.00</td>\n",
       "      <td>10.00</td>\n",
       "      <td>0.00</td>\n",
       "      <td>0.00</td>\n",
       "      <td>0.0</td>\n",
       "    </tr>\n",
       "    <tr>\n",
       "      <th>12</th>\n",
       "      <td>32</td>\n",
       "      <td>33</td>\n",
       "      <td>Naouirou Ahamada</td>\n",
       "      <td>FRA</td>\n",
       "      <td>MF</td>\n",
       "      <td>Stuttgart</td>\n",
       "      <td>Bundesliga</td>\n",
       "      <td>20</td>\n",
       "      <td>2002</td>\n",
       "      <td>17</td>\n",
       "      <td>...</td>\n",
       "      <td>0.06</td>\n",
       "      <td>0.39</td>\n",
       "      <td>0.71</td>\n",
       "      <td>0.0</td>\n",
       "      <td>0.06</td>\n",
       "      <td>0.00</td>\n",
       "      <td>5.68</td>\n",
       "      <td>0.45</td>\n",
       "      <td>1.03</td>\n",
       "      <td>30.4</td>\n",
       "    </tr>\n",
       "    <tr>\n",
       "      <th>13</th>\n",
       "      <td>34</td>\n",
       "      <td>35</td>\n",
       "      <td>Jean-Eudes Aholou</td>\n",
       "      <td>CIV</td>\n",
       "      <td>MF</td>\n",
       "      <td>Strasbourg</td>\n",
       "      <td>Ligue 1</td>\n",
       "      <td>28</td>\n",
       "      <td>1994</td>\n",
       "      <td>19</td>\n",
       "      <td>...</td>\n",
       "      <td>0.11</td>\n",
       "      <td>0.43</td>\n",
       "      <td>1.40</td>\n",
       "      <td>0.0</td>\n",
       "      <td>0.00</td>\n",
       "      <td>0.00</td>\n",
       "      <td>5.27</td>\n",
       "      <td>1.51</td>\n",
       "      <td>1.40</td>\n",
       "      <td>51.9</td>\n",
       "    </tr>\n",
       "    <tr>\n",
       "      <th>14</th>\n",
       "      <td>45</td>\n",
       "      <td>46</td>\n",
       "      <td>Maghnes Akliouche</td>\n",
       "      <td>FRA</td>\n",
       "      <td>MFDF</td>\n",
       "      <td>Monaco</td>\n",
       "      <td>Ligue 1</td>\n",
       "      <td>20</td>\n",
       "      <td>2002</td>\n",
       "      <td>6</td>\n",
       "      <td>...</td>\n",
       "      <td>0.00</td>\n",
       "      <td>3.21</td>\n",
       "      <td>1.07</td>\n",
       "      <td>0.0</td>\n",
       "      <td>0.00</td>\n",
       "      <td>0.00</td>\n",
       "      <td>6.43</td>\n",
       "      <td>0.71</td>\n",
       "      <td>1.07</td>\n",
       "      <td>40.0</td>\n",
       "    </tr>\n",
       "    <tr>\n",
       "      <th>15</th>\n",
       "      <td>46</td>\n",
       "      <td>47</td>\n",
       "      <td>Paul Akouokou</td>\n",
       "      <td>CIV</td>\n",
       "      <td>MF</td>\n",
       "      <td>Betis</td>\n",
       "      <td>La Liga</td>\n",
       "      <td>25</td>\n",
       "      <td>1997</td>\n",
       "      <td>6</td>\n",
       "      <td>...</td>\n",
       "      <td>0.00</td>\n",
       "      <td>0.00</td>\n",
       "      <td>1.92</td>\n",
       "      <td>0.0</td>\n",
       "      <td>0.00</td>\n",
       "      <td>0.00</td>\n",
       "      <td>6.54</td>\n",
       "      <td>0.38</td>\n",
       "      <td>2.31</td>\n",
       "      <td>14.3</td>\n",
       "    </tr>\n",
       "    <tr>\n",
       "      <th>16</th>\n",
       "      <td>47</td>\n",
       "      <td>48</td>\n",
       "      <td>Jean-Daniel Akpa-Akpro</td>\n",
       "      <td>CIV</td>\n",
       "      <td>MF</td>\n",
       "      <td>Empoli</td>\n",
       "      <td>Serie A</td>\n",
       "      <td>30</td>\n",
       "      <td>1992</td>\n",
       "      <td>12</td>\n",
       "      <td>...</td>\n",
       "      <td>0.00</td>\n",
       "      <td>0.60</td>\n",
       "      <td>2.39</td>\n",
       "      <td>0.0</td>\n",
       "      <td>0.00</td>\n",
       "      <td>0.00</td>\n",
       "      <td>4.78</td>\n",
       "      <td>0.90</td>\n",
       "      <td>0.60</td>\n",
       "      <td>60.0</td>\n",
       "    </tr>\n",
       "    <tr>\n",
       "      <th>17</th>\n",
       "      <td>50</td>\n",
       "      <td>51</td>\n",
       "      <td>Tom�s Alarc�n</td>\n",
       "      <td>CHI</td>\n",
       "      <td>MF</td>\n",
       "      <td>C�diz</td>\n",
       "      <td>La Liga</td>\n",
       "      <td>24</td>\n",
       "      <td>1999</td>\n",
       "      <td>4</td>\n",
       "      <td>...</td>\n",
       "      <td>0.00</td>\n",
       "      <td>2.40</td>\n",
       "      <td>0.80</td>\n",
       "      <td>0.0</td>\n",
       "      <td>0.00</td>\n",
       "      <td>0.00</td>\n",
       "      <td>5.60</td>\n",
       "      <td>1.20</td>\n",
       "      <td>0.40</td>\n",
       "      <td>75.0</td>\n",
       "    </tr>\n",
       "    <tr>\n",
       "      <th>18</th>\n",
       "      <td>53</td>\n",
       "      <td>54</td>\n",
       "      <td>Luis Alberto</td>\n",
       "      <td>ESP</td>\n",
       "      <td>MF</td>\n",
       "      <td>Lazio</td>\n",
       "      <td>Serie A</td>\n",
       "      <td>30</td>\n",
       "      <td>1992</td>\n",
       "      <td>19</td>\n",
       "      <td>...</td>\n",
       "      <td>0.17</td>\n",
       "      <td>5.47</td>\n",
       "      <td>0.94</td>\n",
       "      <td>0.0</td>\n",
       "      <td>0.00</td>\n",
       "      <td>0.00</td>\n",
       "      <td>6.07</td>\n",
       "      <td>0.26</td>\n",
       "      <td>0.60</td>\n",
       "      <td>30.0</td>\n",
       "    </tr>\n",
       "    <tr>\n",
       "      <th>19</th>\n",
       "      <td>56</td>\n",
       "      <td>57</td>\n",
       "      <td>Thiago Alc�ntara</td>\n",
       "      <td>ESP</td>\n",
       "      <td>MF</td>\n",
       "      <td>Liverpool</td>\n",
       "      <td>Premier League</td>\n",
       "      <td>31</td>\n",
       "      <td>1991</td>\n",
       "      <td>14</td>\n",
       "      <td>...</td>\n",
       "      <td>0.00</td>\n",
       "      <td>0.08</td>\n",
       "      <td>1.80</td>\n",
       "      <td>0.0</td>\n",
       "      <td>0.08</td>\n",
       "      <td>0.00</td>\n",
       "      <td>8.13</td>\n",
       "      <td>1.09</td>\n",
       "      <td>1.88</td>\n",
       "      <td>36.8</td>\n",
       "    </tr>\n",
       "  </tbody>\n",
       "</table>\n",
       "<p>20 rows × 125 columns</p>\n",
       "</div>"
      ],
      "text/plain": [
       "    _c0  Rk                  Player Nation   Pos           Squad  \\\n",
       "0     0   1        Brenden Aaronson    USA  MFFW    Leeds United   \n",
       "1     2   3           Himad Abdelli    FRA  MFFW          Angers   \n",
       "2     3   4       Salis Abdul Samed    GHA    MF            Lens   \n",
       "3     4   5         Laurent Abergel    FRA    MF         Lorient   \n",
       "4     5   6       Oliver Abildgaard    DEN    MF   Hellas Verona   \n",
       "5    15  16             Tyler Adams    USA    MF    Leeds United   \n",
       "6    18  19          Martin Adeline    FRA  MFFW           Reims   \n",
       "7    21  22             Yacine Adli    FRA  MFFW           Milan   \n",
       "8    25  26           Lucien Agoume    FRA    MF          Troyes   \n",
       "9    27  28           �lvaro Aguado    ESP    MF      Valladolid   \n",
       "10   28  29           Kevin Agudelo    COL  MFFW          Spezia   \n",
       "11   31  32        Naouirou Ahamada    FRA  MFFW  Crystal Palace   \n",
       "12   32  33        Naouirou Ahamada    FRA    MF       Stuttgart   \n",
       "13   34  35       Jean-Eudes Aholou    CIV    MF      Strasbourg   \n",
       "14   45  46       Maghnes Akliouche    FRA  MFDF          Monaco   \n",
       "15   46  47           Paul Akouokou    CIV    MF           Betis   \n",
       "16   47  48  Jean-Daniel Akpa-Akpro    CIV    MF          Empoli   \n",
       "17   50  51           Tom�s Alarc�n    CHI    MF           C�diz   \n",
       "18   53  54            Luis Alberto    ESP    MF           Lazio   \n",
       "19   56  57        Thiago Alc�ntara    ESP    MF       Liverpool   \n",
       "\n",
       "              Comp  Age  Born  MP  ...   Off   Crs   TklW  PKwon  PKcon    OG  \\\n",
       "0   Premier League   22  2000  20  ...  0.17  2.54   0.51    0.0   0.00  0.00   \n",
       "1          Ligue 1   23  1999  14  ...  0.00  1.05   1.40    0.0   0.00  0.00   \n",
       "2          Ligue 1   22  2000  20  ...  0.00  0.35   0.80    0.0   0.00  0.05   \n",
       "3          Ligue 1   30  1993  15  ...  0.00  0.23   2.02    0.0   0.00  0.00   \n",
       "4          Serie A   26  1996   1  ...  0.00  0.00  10.00    0.0   0.00  0.00   \n",
       "5   Premier League   23  1999  19  ...  0.05  0.11   2.00    0.0   0.00  0.00   \n",
       "6          Ligue 1   19  2003   5  ...  0.00  0.00   2.50    0.0   0.00  0.00   \n",
       "7          Serie A   22  2000   4  ...  0.00  3.08   2.31    0.0   0.00  0.00   \n",
       "8          Ligue 1   21  2002   5  ...  0.31  0.94   2.19    0.0   0.00  0.00   \n",
       "9          La Liga   26  1996  19  ...  0.00  2.22   0.48    0.0   0.08  0.00   \n",
       "10         Serie A   24  1998  21  ...  0.13  1.31   1.38    0.0   0.00  0.00   \n",
       "11  Premier League   20  2002   2  ...  5.00  5.00   0.00    0.0   0.00  0.00   \n",
       "12      Bundesliga   20  2002  17  ...  0.06  0.39   0.71    0.0   0.06  0.00   \n",
       "13         Ligue 1   28  1994  19  ...  0.11  0.43   1.40    0.0   0.00  0.00   \n",
       "14         Ligue 1   20  2002   6  ...  0.00  3.21   1.07    0.0   0.00  0.00   \n",
       "15         La Liga   25  1997   6  ...  0.00  0.00   1.92    0.0   0.00  0.00   \n",
       "16         Serie A   30  1992  12  ...  0.00  0.60   2.39    0.0   0.00  0.00   \n",
       "17         La Liga   24  1999   4  ...  0.00  2.40   0.80    0.0   0.00  0.00   \n",
       "18         Serie A   30  1992  19  ...  0.17  5.47   0.94    0.0   0.00  0.00   \n",
       "19  Premier League   31  1991  14  ...  0.00  0.08   1.80    0.0   0.08  0.00   \n",
       "\n",
       "    Recov  AerWon  AerLost  AerWon%  \n",
       "0    4.86    0.34     1.19     22.2  \n",
       "1    8.14    0.93     1.05     47.1  \n",
       "2    6.60    0.50     0.50     50.0  \n",
       "3    6.51    0.31     0.39     44.4  \n",
       "4   10.00    0.00    10.00      0.0  \n",
       "5    8.68    0.89     0.63     58.6  \n",
       "6    9.17    5.00     4.17     54.5  \n",
       "7    3.85    0.00     2.31      0.0  \n",
       "8    5.63    3.13     0.63     83.3  \n",
       "9    5.71    0.95     1.03     48.0  \n",
       "10   5.69    0.56     1.25     31.0  \n",
       "11  10.00    0.00     0.00      0.0  \n",
       "12   5.68    0.45     1.03     30.4  \n",
       "13   5.27    1.51     1.40     51.9  \n",
       "14   6.43    0.71     1.07     40.0  \n",
       "15   6.54    0.38     2.31     14.3  \n",
       "16   4.78    0.90     0.60     60.0  \n",
       "17   5.60    1.20     0.40     75.0  \n",
       "18   6.07    0.26     0.60     30.0  \n",
       "19   8.13    1.09     1.88     36.8  \n",
       "\n",
       "[20 rows x 125 columns]"
      ]
     },
     "execution_count": 2007,
     "metadata": {},
     "output_type": "execute_result"
    }
   ],
   "source": [
    "Meias.head(20)"
   ]
  },
  {
   "cell_type": "code",
   "execution_count": 2008,
   "metadata": {},
   "outputs": [
    {
     "data": {
      "application/vnd.plotly.v1+json": {
       "config": {
        "plotlyServerURL": "https://plot.ly"
       },
       "data": [
        {
         "alignmentgroup": "True",
         "bingroup": "x",
         "hovertemplate": "Comp=%{x}<br>count=%{y}<extra></extra>",
         "legendgroup": "Premier League",
         "marker": {
          "color": "#636efa",
          "pattern": {
           "shape": ""
          }
         },
         "name": "Premier League",
         "offsetgroup": "Premier League",
         "orientation": "v",
         "showlegend": true,
         "type": "histogram",
         "x": [
          "Premier League",
          "Premier League",
          "Premier League",
          "Premier League",
          "Premier League",
          "Premier League",
          "Premier League",
          "Premier League",
          "Premier League",
          "Premier League",
          "Premier League",
          "Premier League",
          "Premier League",
          "Premier League",
          "Premier League",
          "Premier League",
          "Premier League",
          "Premier League",
          "Premier League",
          "Premier League",
          "Premier League",
          "Premier League",
          "Premier League",
          "Premier League",
          "Premier League",
          "Premier League",
          "Premier League",
          "Premier League",
          "Premier League",
          "Premier League",
          "Premier League",
          "Premier League",
          "Premier League",
          "Premier League",
          "Premier League",
          "Premier League",
          "Premier League",
          "Premier League",
          "Premier League",
          "Premier League",
          "Premier League",
          "Premier League",
          "Premier League",
          "Premier League",
          "Premier League",
          "Premier League",
          "Premier League",
          "Premier League",
          "Premier League",
          "Premier League",
          "Premier League",
          "Premier League",
          "Premier League",
          "Premier League",
          "Premier League",
          "Premier League",
          "Premier League",
          "Premier League",
          "Premier League",
          "Premier League",
          "Premier League",
          "Premier League",
          "Premier League",
          "Premier League",
          "Premier League",
          "Premier League",
          "Premier League",
          "Premier League",
          "Premier League",
          "Premier League",
          "Premier League",
          "Premier League",
          "Premier League",
          "Premier League",
          "Premier League",
          "Premier League",
          "Premier League",
          "Premier League",
          "Premier League",
          "Premier League",
          "Premier League",
          "Premier League",
          "Premier League",
          "Premier League",
          "Premier League",
          "Premier League",
          "Premier League",
          "Premier League",
          "Premier League",
          "Premier League",
          "Premier League",
          "Premier League",
          "Premier League",
          "Premier League",
          "Premier League",
          "Premier League",
          "Premier League",
          "Premier League",
          "Premier League",
          "Premier League",
          "Premier League",
          "Premier League",
          "Premier League",
          "Premier League",
          "Premier League",
          "Premier League",
          "Premier League",
          "Premier League",
          "Premier League",
          "Premier League",
          "Premier League",
          "Premier League",
          "Premier League",
          "Premier League",
          "Premier League",
          "Premier League",
          "Premier League",
          "Premier League",
          "Premier League",
          "Premier League",
          "Premier League",
          "Premier League",
          "Premier League",
          "Premier League",
          "Premier League",
          "Premier League",
          "Premier League",
          "Premier League",
          "Premier League",
          "Premier League",
          "Premier League",
          "Premier League",
          "Premier League",
          "Premier League",
          "Premier League",
          "Premier League",
          "Premier League",
          "Premier League",
          "Premier League",
          "Premier League",
          "Premier League",
          "Premier League",
          "Premier League",
          "Premier League",
          "Premier League",
          "Premier League",
          "Premier League",
          "Premier League",
          "Premier League",
          "Premier League",
          "Premier League",
          "Premier League",
          "Premier League",
          "Premier League",
          "Premier League",
          "Premier League",
          "Premier League",
          "Premier League",
          "Premier League",
          "Premier League",
          "Premier League",
          "Premier League",
          "Premier League",
          "Premier League",
          "Premier League",
          "Premier League",
          "Premier League",
          "Premier League",
          "Premier League",
          "Premier League",
          "Premier League",
          "Premier League",
          "Premier League",
          "Premier League",
          "Premier League",
          "Premier League",
          "Premier League",
          "Premier League",
          "Premier League",
          "Premier League",
          "Premier League",
          "Premier League",
          "Premier League",
          "Premier League",
          "Premier League",
          "Premier League"
         ],
         "xaxis": "x",
         "yaxis": "y"
        },
        {
         "alignmentgroup": "True",
         "bingroup": "x",
         "hovertemplate": "Comp=%{x}<br>count=%{y}<extra></extra>",
         "legendgroup": "Ligue 1",
         "marker": {
          "color": "#EF553B",
          "pattern": {
           "shape": ""
          }
         },
         "name": "Ligue 1",
         "offsetgroup": "Ligue 1",
         "orientation": "v",
         "showlegend": true,
         "type": "histogram",
         "x": [
          "Ligue 1",
          "Ligue 1",
          "Ligue 1",
          "Ligue 1",
          "Ligue 1",
          "Ligue 1",
          "Ligue 1",
          "Ligue 1",
          "Ligue 1",
          "Ligue 1",
          "Ligue 1",
          "Ligue 1",
          "Ligue 1",
          "Ligue 1",
          "Ligue 1",
          "Ligue 1",
          "Ligue 1",
          "Ligue 1",
          "Ligue 1",
          "Ligue 1",
          "Ligue 1",
          "Ligue 1",
          "Ligue 1",
          "Ligue 1",
          "Ligue 1",
          "Ligue 1",
          "Ligue 1",
          "Ligue 1",
          "Ligue 1",
          "Ligue 1",
          "Ligue 1",
          "Ligue 1",
          "Ligue 1",
          "Ligue 1",
          "Ligue 1",
          "Ligue 1",
          "Ligue 1",
          "Ligue 1",
          "Ligue 1",
          "Ligue 1",
          "Ligue 1",
          "Ligue 1",
          "Ligue 1",
          "Ligue 1",
          "Ligue 1",
          "Ligue 1",
          "Ligue 1",
          "Ligue 1",
          "Ligue 1",
          "Ligue 1",
          "Ligue 1",
          "Ligue 1",
          "Ligue 1",
          "Ligue 1",
          "Ligue 1",
          "Ligue 1",
          "Ligue 1",
          "Ligue 1",
          "Ligue 1",
          "Ligue 1",
          "Ligue 1",
          "Ligue 1",
          "Ligue 1",
          "Ligue 1",
          "Ligue 1",
          "Ligue 1",
          "Ligue 1",
          "Ligue 1",
          "Ligue 1",
          "Ligue 1",
          "Ligue 1",
          "Ligue 1",
          "Ligue 1",
          "Ligue 1",
          "Ligue 1",
          "Ligue 1",
          "Ligue 1",
          "Ligue 1",
          "Ligue 1",
          "Ligue 1",
          "Ligue 1",
          "Ligue 1",
          "Ligue 1",
          "Ligue 1",
          "Ligue 1",
          "Ligue 1",
          "Ligue 1",
          "Ligue 1",
          "Ligue 1",
          "Ligue 1",
          "Ligue 1",
          "Ligue 1",
          "Ligue 1",
          "Ligue 1",
          "Ligue 1",
          "Ligue 1",
          "Ligue 1",
          "Ligue 1",
          "Ligue 1",
          "Ligue 1",
          "Ligue 1",
          "Ligue 1",
          "Ligue 1",
          "Ligue 1",
          "Ligue 1",
          "Ligue 1",
          "Ligue 1",
          "Ligue 1",
          "Ligue 1",
          "Ligue 1",
          "Ligue 1",
          "Ligue 1",
          "Ligue 1",
          "Ligue 1",
          "Ligue 1",
          "Ligue 1",
          "Ligue 1",
          "Ligue 1",
          "Ligue 1",
          "Ligue 1",
          "Ligue 1",
          "Ligue 1",
          "Ligue 1",
          "Ligue 1",
          "Ligue 1",
          "Ligue 1",
          "Ligue 1",
          "Ligue 1",
          "Ligue 1",
          "Ligue 1",
          "Ligue 1",
          "Ligue 1",
          "Ligue 1",
          "Ligue 1",
          "Ligue 1",
          "Ligue 1",
          "Ligue 1",
          "Ligue 1",
          "Ligue 1",
          "Ligue 1",
          "Ligue 1",
          "Ligue 1",
          "Ligue 1",
          "Ligue 1",
          "Ligue 1",
          "Ligue 1",
          "Ligue 1",
          "Ligue 1",
          "Ligue 1",
          "Ligue 1",
          "Ligue 1",
          "Ligue 1",
          "Ligue 1",
          "Ligue 1",
          "Ligue 1",
          "Ligue 1",
          "Ligue 1",
          "Ligue 1",
          "Ligue 1",
          "Ligue 1",
          "Ligue 1",
          "Ligue 1",
          "Ligue 1",
          "Ligue 1",
          "Ligue 1",
          "Ligue 1",
          "Ligue 1",
          "Ligue 1",
          "Ligue 1",
          "Ligue 1",
          "Ligue 1",
          "Ligue 1",
          "Ligue 1",
          "Ligue 1",
          "Ligue 1",
          "Ligue 1",
          "Ligue 1",
          "Ligue 1",
          "Ligue 1",
          "Ligue 1",
          "Ligue 1",
          "Ligue 1",
          "Ligue 1",
          "Ligue 1",
          "Ligue 1",
          "Ligue 1",
          "Ligue 1",
          "Ligue 1",
          "Ligue 1",
          "Ligue 1",
          "Ligue 1",
          "Ligue 1",
          "Ligue 1",
          "Ligue 1",
          "Ligue 1",
          "Ligue 1",
          "Ligue 1",
          "Ligue 1",
          "Ligue 1",
          "Ligue 1",
          "Ligue 1",
          "Ligue 1",
          "Ligue 1",
          "Ligue 1",
          "Ligue 1",
          "Ligue 1",
          "Ligue 1",
          "Ligue 1",
          "Ligue 1",
          "Ligue 1",
          "Ligue 1",
          "Ligue 1",
          "Ligue 1",
          "Ligue 1"
         ],
         "xaxis": "x",
         "yaxis": "y"
        },
        {
         "alignmentgroup": "True",
         "bingroup": "x",
         "hovertemplate": "Comp=%{x}<br>count=%{y}<extra></extra>",
         "legendgroup": "Serie A",
         "marker": {
          "color": "#00cc96",
          "pattern": {
           "shape": ""
          }
         },
         "name": "Serie A",
         "offsetgroup": "Serie A",
         "orientation": "v",
         "showlegend": true,
         "type": "histogram",
         "x": [
          "Serie A",
          "Serie A",
          "Serie A",
          "Serie A",
          "Serie A",
          "Serie A",
          "Serie A",
          "Serie A",
          "Serie A",
          "Serie A",
          "Serie A",
          "Serie A",
          "Serie A",
          "Serie A",
          "Serie A",
          "Serie A",
          "Serie A",
          "Serie A",
          "Serie A",
          "Serie A",
          "Serie A",
          "Serie A",
          "Serie A",
          "Serie A",
          "Serie A",
          "Serie A",
          "Serie A",
          "Serie A",
          "Serie A",
          "Serie A",
          "Serie A",
          "Serie A",
          "Serie A",
          "Serie A",
          "Serie A",
          "Serie A",
          "Serie A",
          "Serie A",
          "Serie A",
          "Serie A",
          "Serie A",
          "Serie A",
          "Serie A",
          "Serie A",
          "Serie A",
          "Serie A",
          "Serie A",
          "Serie A",
          "Serie A",
          "Serie A",
          "Serie A",
          "Serie A",
          "Serie A",
          "Serie A",
          "Serie A",
          "Serie A",
          "Serie A",
          "Serie A",
          "Serie A",
          "Serie A",
          "Serie A",
          "Serie A",
          "Serie A",
          "Serie A",
          "Serie A",
          "Serie A",
          "Serie A",
          "Serie A",
          "Serie A",
          "Serie A",
          "Serie A",
          "Serie A",
          "Serie A",
          "Serie A",
          "Serie A",
          "Serie A",
          "Serie A",
          "Serie A",
          "Serie A",
          "Serie A",
          "Serie A",
          "Serie A",
          "Serie A",
          "Serie A",
          "Serie A",
          "Serie A",
          "Serie A",
          "Serie A",
          "Serie A",
          "Serie A",
          "Serie A",
          "Serie A",
          "Serie A",
          "Serie A",
          "Serie A",
          "Serie A",
          "Serie A",
          "Serie A",
          "Serie A",
          "Serie A",
          "Serie A",
          "Serie A",
          "Serie A",
          "Serie A",
          "Serie A",
          "Serie A",
          "Serie A",
          "Serie A",
          "Serie A",
          "Serie A",
          "Serie A",
          "Serie A",
          "Serie A",
          "Serie A",
          "Serie A",
          "Serie A",
          "Serie A",
          "Serie A",
          "Serie A",
          "Serie A",
          "Serie A",
          "Serie A",
          "Serie A",
          "Serie A",
          "Serie A",
          "Serie A",
          "Serie A",
          "Serie A",
          "Serie A",
          "Serie A",
          "Serie A",
          "Serie A",
          "Serie A",
          "Serie A",
          "Serie A",
          "Serie A",
          "Serie A",
          "Serie A",
          "Serie A",
          "Serie A",
          "Serie A",
          "Serie A",
          "Serie A",
          "Serie A",
          "Serie A",
          "Serie A",
          "Serie A",
          "Serie A",
          "Serie A",
          "Serie A",
          "Serie A",
          "Serie A",
          "Serie A",
          "Serie A",
          "Serie A",
          "Serie A",
          "Serie A",
          "Serie A",
          "Serie A",
          "Serie A",
          "Serie A",
          "Serie A",
          "Serie A",
          "Serie A",
          "Serie A",
          "Serie A",
          "Serie A",
          "Serie A",
          "Serie A",
          "Serie A",
          "Serie A",
          "Serie A",
          "Serie A",
          "Serie A",
          "Serie A",
          "Serie A",
          "Serie A",
          "Serie A",
          "Serie A",
          "Serie A",
          "Serie A",
          "Serie A",
          "Serie A",
          "Serie A",
          "Serie A",
          "Serie A",
          "Serie A",
          "Serie A",
          "Serie A",
          "Serie A",
          "Serie A",
          "Serie A",
          "Serie A",
          "Serie A",
          "Serie A",
          "Serie A",
          "Serie A"
         ],
         "xaxis": "x",
         "yaxis": "y"
        },
        {
         "alignmentgroup": "True",
         "bingroup": "x",
         "hovertemplate": "Comp=%{x}<br>count=%{y}<extra></extra>",
         "legendgroup": "La Liga",
         "marker": {
          "color": "#ab63fa",
          "pattern": {
           "shape": ""
          }
         },
         "name": "La Liga",
         "offsetgroup": "La Liga",
         "orientation": "v",
         "showlegend": true,
         "type": "histogram",
         "x": [
          "La Liga",
          "La Liga",
          "La Liga",
          "La Liga",
          "La Liga",
          "La Liga",
          "La Liga",
          "La Liga",
          "La Liga",
          "La Liga",
          "La Liga",
          "La Liga",
          "La Liga",
          "La Liga",
          "La Liga",
          "La Liga",
          "La Liga",
          "La Liga",
          "La Liga",
          "La Liga",
          "La Liga",
          "La Liga",
          "La Liga",
          "La Liga",
          "La Liga",
          "La Liga",
          "La Liga",
          "La Liga",
          "La Liga",
          "La Liga",
          "La Liga",
          "La Liga",
          "La Liga",
          "La Liga",
          "La Liga",
          "La Liga",
          "La Liga",
          "La Liga",
          "La Liga",
          "La Liga",
          "La Liga",
          "La Liga",
          "La Liga",
          "La Liga",
          "La Liga",
          "La Liga",
          "La Liga",
          "La Liga",
          "La Liga",
          "La Liga",
          "La Liga",
          "La Liga",
          "La Liga",
          "La Liga",
          "La Liga",
          "La Liga",
          "La Liga",
          "La Liga",
          "La Liga",
          "La Liga",
          "La Liga",
          "La Liga",
          "La Liga",
          "La Liga",
          "La Liga",
          "La Liga",
          "La Liga",
          "La Liga",
          "La Liga",
          "La Liga",
          "La Liga",
          "La Liga",
          "La Liga",
          "La Liga",
          "La Liga",
          "La Liga",
          "La Liga",
          "La Liga",
          "La Liga",
          "La Liga",
          "La Liga",
          "La Liga",
          "La Liga",
          "La Liga",
          "La Liga",
          "La Liga",
          "La Liga",
          "La Liga",
          "La Liga",
          "La Liga",
          "La Liga",
          "La Liga",
          "La Liga",
          "La Liga",
          "La Liga",
          "La Liga",
          "La Liga",
          "La Liga",
          "La Liga",
          "La Liga",
          "La Liga",
          "La Liga",
          "La Liga",
          "La Liga",
          "La Liga",
          "La Liga",
          "La Liga",
          "La Liga",
          "La Liga",
          "La Liga",
          "La Liga",
          "La Liga",
          "La Liga",
          "La Liga",
          "La Liga",
          "La Liga",
          "La Liga",
          "La Liga",
          "La Liga",
          "La Liga",
          "La Liga",
          "La Liga",
          "La Liga",
          "La Liga",
          "La Liga",
          "La Liga",
          "La Liga",
          "La Liga",
          "La Liga",
          "La Liga",
          "La Liga",
          "La Liga",
          "La Liga",
          "La Liga",
          "La Liga",
          "La Liga",
          "La Liga",
          "La Liga",
          "La Liga",
          "La Liga",
          "La Liga",
          "La Liga",
          "La Liga",
          "La Liga",
          "La Liga",
          "La Liga",
          "La Liga",
          "La Liga",
          "La Liga",
          "La Liga",
          "La Liga",
          "La Liga",
          "La Liga",
          "La Liga",
          "La Liga",
          "La Liga",
          "La Liga",
          "La Liga",
          "La Liga",
          "La Liga",
          "La Liga",
          "La Liga",
          "La Liga",
          "La Liga",
          "La Liga",
          "La Liga",
          "La Liga",
          "La Liga",
          "La Liga",
          "La Liga",
          "La Liga",
          "La Liga",
          "La Liga",
          "La Liga",
          "La Liga",
          "La Liga",
          "La Liga",
          "La Liga",
          "La Liga",
          "La Liga",
          "La Liga",
          "La Liga",
          "La Liga",
          "La Liga",
          "La Liga",
          "La Liga",
          "La Liga",
          "La Liga",
          "La Liga",
          "La Liga",
          "La Liga",
          "La Liga",
          "La Liga",
          "La Liga",
          "La Liga",
          "La Liga",
          "La Liga",
          "La Liga",
          "La Liga",
          "La Liga",
          "La Liga",
          "La Liga",
          "La Liga",
          "La Liga",
          "La Liga",
          "La Liga",
          "La Liga",
          "La Liga"
         ],
         "xaxis": "x",
         "yaxis": "y"
        },
        {
         "alignmentgroup": "True",
         "bingroup": "x",
         "hovertemplate": "Comp=%{x}<br>count=%{y}<extra></extra>",
         "legendgroup": "Bundesliga",
         "marker": {
          "color": "#FFA15A",
          "pattern": {
           "shape": ""
          }
         },
         "name": "Bundesliga",
         "offsetgroup": "Bundesliga",
         "orientation": "v",
         "showlegend": true,
         "type": "histogram",
         "x": [
          "Bundesliga",
          "Bundesliga",
          "Bundesliga",
          "Bundesliga",
          "Bundesliga",
          "Bundesliga",
          "Bundesliga",
          "Bundesliga",
          "Bundesliga",
          "Bundesliga",
          "Bundesliga",
          "Bundesliga",
          "Bundesliga",
          "Bundesliga",
          "Bundesliga",
          "Bundesliga",
          "Bundesliga",
          "Bundesliga",
          "Bundesliga",
          "Bundesliga",
          "Bundesliga",
          "Bundesliga",
          "Bundesliga",
          "Bundesliga",
          "Bundesliga",
          "Bundesliga",
          "Bundesliga",
          "Bundesliga",
          "Bundesliga",
          "Bundesliga",
          "Bundesliga",
          "Bundesliga",
          "Bundesliga",
          "Bundesliga",
          "Bundesliga",
          "Bundesliga",
          "Bundesliga",
          "Bundesliga",
          "Bundesliga",
          "Bundesliga",
          "Bundesliga",
          "Bundesliga",
          "Bundesliga",
          "Bundesliga",
          "Bundesliga",
          "Bundesliga",
          "Bundesliga",
          "Bundesliga",
          "Bundesliga",
          "Bundesliga",
          "Bundesliga",
          "Bundesliga",
          "Bundesliga",
          "Bundesliga",
          "Bundesliga",
          "Bundesliga",
          "Bundesliga",
          "Bundesliga",
          "Bundesliga",
          "Bundesliga",
          "Bundesliga",
          "Bundesliga",
          "Bundesliga",
          "Bundesliga",
          "Bundesliga",
          "Bundesliga",
          "Bundesliga",
          "Bundesliga",
          "Bundesliga",
          "Bundesliga",
          "Bundesliga",
          "Bundesliga",
          "Bundesliga",
          "Bundesliga",
          "Bundesliga",
          "Bundesliga",
          "Bundesliga",
          "Bundesliga",
          "Bundesliga",
          "Bundesliga",
          "Bundesliga",
          "Bundesliga",
          "Bundesliga",
          "Bundesliga",
          "Bundesliga",
          "Bundesliga",
          "Bundesliga",
          "Bundesliga",
          "Bundesliga",
          "Bundesliga",
          "Bundesliga",
          "Bundesliga",
          "Bundesliga",
          "Bundesliga",
          "Bundesliga",
          "Bundesliga",
          "Bundesliga",
          "Bundesliga",
          "Bundesliga",
          "Bundesliga",
          "Bundesliga",
          "Bundesliga",
          "Bundesliga",
          "Bundesliga",
          "Bundesliga",
          "Bundesliga",
          "Bundesliga",
          "Bundesliga",
          "Bundesliga",
          "Bundesliga",
          "Bundesliga",
          "Bundesliga",
          "Bundesliga",
          "Bundesliga",
          "Bundesliga",
          "Bundesliga",
          "Bundesliga",
          "Bundesliga",
          "Bundesliga",
          "Bundesliga",
          "Bundesliga",
          "Bundesliga",
          "Bundesliga",
          "Bundesliga",
          "Bundesliga",
          "Bundesliga",
          "Bundesliga",
          "Bundesliga",
          "Bundesliga",
          "Bundesliga",
          "Bundesliga",
          "Bundesliga",
          "Bundesliga",
          "Bundesliga",
          "Bundesliga",
          "Bundesliga",
          "Bundesliga",
          "Bundesliga",
          "Bundesliga",
          "Bundesliga",
          "Bundesliga",
          "Bundesliga",
          "Bundesliga",
          "Bundesliga",
          "Bundesliga",
          "Bundesliga",
          "Bundesliga",
          "Bundesliga",
          "Bundesliga",
          "Bundesliga",
          "Bundesliga",
          "Bundesliga",
          "Bundesliga",
          "Bundesliga",
          "Bundesliga",
          "Bundesliga",
          "Bundesliga",
          "Bundesliga",
          "Bundesliga",
          "Bundesliga",
          "Bundesliga",
          "Bundesliga",
          "Bundesliga",
          "Bundesliga",
          "Bundesliga",
          "Bundesliga",
          "Bundesliga",
          "Bundesliga",
          "Bundesliga",
          "Bundesliga",
          "Bundesliga",
          "Bundesliga",
          "Bundesliga",
          "Bundesliga"
         ],
         "xaxis": "x",
         "yaxis": "y"
        }
       ],
       "layout": {
        "barmode": "relative",
        "legend": {
         "title": {
          "text": "Comp"
         },
         "tracegroupgap": 0
        },
        "margin": {
         "t": 60
        },
        "template": {
         "data": {
          "bar": [
           {
            "error_x": {
             "color": "#2a3f5f"
            },
            "error_y": {
             "color": "#2a3f5f"
            },
            "marker": {
             "line": {
              "color": "#E5ECF6",
              "width": 0.5
             },
             "pattern": {
              "fillmode": "overlay",
              "size": 10,
              "solidity": 0.2
             }
            },
            "type": "bar"
           }
          ],
          "barpolar": [
           {
            "marker": {
             "line": {
              "color": "#E5ECF6",
              "width": 0.5
             },
             "pattern": {
              "fillmode": "overlay",
              "size": 10,
              "solidity": 0.2
             }
            },
            "type": "barpolar"
           }
          ],
          "carpet": [
           {
            "aaxis": {
             "endlinecolor": "#2a3f5f",
             "gridcolor": "white",
             "linecolor": "white",
             "minorgridcolor": "white",
             "startlinecolor": "#2a3f5f"
            },
            "baxis": {
             "endlinecolor": "#2a3f5f",
             "gridcolor": "white",
             "linecolor": "white",
             "minorgridcolor": "white",
             "startlinecolor": "#2a3f5f"
            },
            "type": "carpet"
           }
          ],
          "choropleth": [
           {
            "colorbar": {
             "outlinewidth": 0,
             "ticks": ""
            },
            "type": "choropleth"
           }
          ],
          "contour": [
           {
            "colorbar": {
             "outlinewidth": 0,
             "ticks": ""
            },
            "colorscale": [
             [
              0,
              "#0d0887"
             ],
             [
              0.1111111111111111,
              "#46039f"
             ],
             [
              0.2222222222222222,
              "#7201a8"
             ],
             [
              0.3333333333333333,
              "#9c179e"
             ],
             [
              0.4444444444444444,
              "#bd3786"
             ],
             [
              0.5555555555555556,
              "#d8576b"
             ],
             [
              0.6666666666666666,
              "#ed7953"
             ],
             [
              0.7777777777777778,
              "#fb9f3a"
             ],
             [
              0.8888888888888888,
              "#fdca26"
             ],
             [
              1,
              "#f0f921"
             ]
            ],
            "type": "contour"
           }
          ],
          "contourcarpet": [
           {
            "colorbar": {
             "outlinewidth": 0,
             "ticks": ""
            },
            "type": "contourcarpet"
           }
          ],
          "heatmap": [
           {
            "colorbar": {
             "outlinewidth": 0,
             "ticks": ""
            },
            "colorscale": [
             [
              0,
              "#0d0887"
             ],
             [
              0.1111111111111111,
              "#46039f"
             ],
             [
              0.2222222222222222,
              "#7201a8"
             ],
             [
              0.3333333333333333,
              "#9c179e"
             ],
             [
              0.4444444444444444,
              "#bd3786"
             ],
             [
              0.5555555555555556,
              "#d8576b"
             ],
             [
              0.6666666666666666,
              "#ed7953"
             ],
             [
              0.7777777777777778,
              "#fb9f3a"
             ],
             [
              0.8888888888888888,
              "#fdca26"
             ],
             [
              1,
              "#f0f921"
             ]
            ],
            "type": "heatmap"
           }
          ],
          "heatmapgl": [
           {
            "colorbar": {
             "outlinewidth": 0,
             "ticks": ""
            },
            "colorscale": [
             [
              0,
              "#0d0887"
             ],
             [
              0.1111111111111111,
              "#46039f"
             ],
             [
              0.2222222222222222,
              "#7201a8"
             ],
             [
              0.3333333333333333,
              "#9c179e"
             ],
             [
              0.4444444444444444,
              "#bd3786"
             ],
             [
              0.5555555555555556,
              "#d8576b"
             ],
             [
              0.6666666666666666,
              "#ed7953"
             ],
             [
              0.7777777777777778,
              "#fb9f3a"
             ],
             [
              0.8888888888888888,
              "#fdca26"
             ],
             [
              1,
              "#f0f921"
             ]
            ],
            "type": "heatmapgl"
           }
          ],
          "histogram": [
           {
            "marker": {
             "pattern": {
              "fillmode": "overlay",
              "size": 10,
              "solidity": 0.2
             }
            },
            "type": "histogram"
           }
          ],
          "histogram2d": [
           {
            "colorbar": {
             "outlinewidth": 0,
             "ticks": ""
            },
            "colorscale": [
             [
              0,
              "#0d0887"
             ],
             [
              0.1111111111111111,
              "#46039f"
             ],
             [
              0.2222222222222222,
              "#7201a8"
             ],
             [
              0.3333333333333333,
              "#9c179e"
             ],
             [
              0.4444444444444444,
              "#bd3786"
             ],
             [
              0.5555555555555556,
              "#d8576b"
             ],
             [
              0.6666666666666666,
              "#ed7953"
             ],
             [
              0.7777777777777778,
              "#fb9f3a"
             ],
             [
              0.8888888888888888,
              "#fdca26"
             ],
             [
              1,
              "#f0f921"
             ]
            ],
            "type": "histogram2d"
           }
          ],
          "histogram2dcontour": [
           {
            "colorbar": {
             "outlinewidth": 0,
             "ticks": ""
            },
            "colorscale": [
             [
              0,
              "#0d0887"
             ],
             [
              0.1111111111111111,
              "#46039f"
             ],
             [
              0.2222222222222222,
              "#7201a8"
             ],
             [
              0.3333333333333333,
              "#9c179e"
             ],
             [
              0.4444444444444444,
              "#bd3786"
             ],
             [
              0.5555555555555556,
              "#d8576b"
             ],
             [
              0.6666666666666666,
              "#ed7953"
             ],
             [
              0.7777777777777778,
              "#fb9f3a"
             ],
             [
              0.8888888888888888,
              "#fdca26"
             ],
             [
              1,
              "#f0f921"
             ]
            ],
            "type": "histogram2dcontour"
           }
          ],
          "mesh3d": [
           {
            "colorbar": {
             "outlinewidth": 0,
             "ticks": ""
            },
            "type": "mesh3d"
           }
          ],
          "parcoords": [
           {
            "line": {
             "colorbar": {
              "outlinewidth": 0,
              "ticks": ""
             }
            },
            "type": "parcoords"
           }
          ],
          "pie": [
           {
            "automargin": true,
            "type": "pie"
           }
          ],
          "scatter": [
           {
            "fillpattern": {
             "fillmode": "overlay",
             "size": 10,
             "solidity": 0.2
            },
            "type": "scatter"
           }
          ],
          "scatter3d": [
           {
            "line": {
             "colorbar": {
              "outlinewidth": 0,
              "ticks": ""
             }
            },
            "marker": {
             "colorbar": {
              "outlinewidth": 0,
              "ticks": ""
             }
            },
            "type": "scatter3d"
           }
          ],
          "scattercarpet": [
           {
            "marker": {
             "colorbar": {
              "outlinewidth": 0,
              "ticks": ""
             }
            },
            "type": "scattercarpet"
           }
          ],
          "scattergeo": [
           {
            "marker": {
             "colorbar": {
              "outlinewidth": 0,
              "ticks": ""
             }
            },
            "type": "scattergeo"
           }
          ],
          "scattergl": [
           {
            "marker": {
             "colorbar": {
              "outlinewidth": 0,
              "ticks": ""
             }
            },
            "type": "scattergl"
           }
          ],
          "scattermapbox": [
           {
            "marker": {
             "colorbar": {
              "outlinewidth": 0,
              "ticks": ""
             }
            },
            "type": "scattermapbox"
           }
          ],
          "scatterpolar": [
           {
            "marker": {
             "colorbar": {
              "outlinewidth": 0,
              "ticks": ""
             }
            },
            "type": "scatterpolar"
           }
          ],
          "scatterpolargl": [
           {
            "marker": {
             "colorbar": {
              "outlinewidth": 0,
              "ticks": ""
             }
            },
            "type": "scatterpolargl"
           }
          ],
          "scatterternary": [
           {
            "marker": {
             "colorbar": {
              "outlinewidth": 0,
              "ticks": ""
             }
            },
            "type": "scatterternary"
           }
          ],
          "surface": [
           {
            "colorbar": {
             "outlinewidth": 0,
             "ticks": ""
            },
            "colorscale": [
             [
              0,
              "#0d0887"
             ],
             [
              0.1111111111111111,
              "#46039f"
             ],
             [
              0.2222222222222222,
              "#7201a8"
             ],
             [
              0.3333333333333333,
              "#9c179e"
             ],
             [
              0.4444444444444444,
              "#bd3786"
             ],
             [
              0.5555555555555556,
              "#d8576b"
             ],
             [
              0.6666666666666666,
              "#ed7953"
             ],
             [
              0.7777777777777778,
              "#fb9f3a"
             ],
             [
              0.8888888888888888,
              "#fdca26"
             ],
             [
              1,
              "#f0f921"
             ]
            ],
            "type": "surface"
           }
          ],
          "table": [
           {
            "cells": {
             "fill": {
              "color": "#EBF0F8"
             },
             "line": {
              "color": "white"
             }
            },
            "header": {
             "fill": {
              "color": "#C8D4E3"
             },
             "line": {
              "color": "white"
             }
            },
            "type": "table"
           }
          ]
         },
         "layout": {
          "annotationdefaults": {
           "arrowcolor": "#2a3f5f",
           "arrowhead": 0,
           "arrowwidth": 1
          },
          "autotypenumbers": "strict",
          "coloraxis": {
           "colorbar": {
            "outlinewidth": 0,
            "ticks": ""
           }
          },
          "colorscale": {
           "diverging": [
            [
             0,
             "#8e0152"
            ],
            [
             0.1,
             "#c51b7d"
            ],
            [
             0.2,
             "#de77ae"
            ],
            [
             0.3,
             "#f1b6da"
            ],
            [
             0.4,
             "#fde0ef"
            ],
            [
             0.5,
             "#f7f7f7"
            ],
            [
             0.6,
             "#e6f5d0"
            ],
            [
             0.7,
             "#b8e186"
            ],
            [
             0.8,
             "#7fbc41"
            ],
            [
             0.9,
             "#4d9221"
            ],
            [
             1,
             "#276419"
            ]
           ],
           "sequential": [
            [
             0,
             "#0d0887"
            ],
            [
             0.1111111111111111,
             "#46039f"
            ],
            [
             0.2222222222222222,
             "#7201a8"
            ],
            [
             0.3333333333333333,
             "#9c179e"
            ],
            [
             0.4444444444444444,
             "#bd3786"
            ],
            [
             0.5555555555555556,
             "#d8576b"
            ],
            [
             0.6666666666666666,
             "#ed7953"
            ],
            [
             0.7777777777777778,
             "#fb9f3a"
            ],
            [
             0.8888888888888888,
             "#fdca26"
            ],
            [
             1,
             "#f0f921"
            ]
           ],
           "sequentialminus": [
            [
             0,
             "#0d0887"
            ],
            [
             0.1111111111111111,
             "#46039f"
            ],
            [
             0.2222222222222222,
             "#7201a8"
            ],
            [
             0.3333333333333333,
             "#9c179e"
            ],
            [
             0.4444444444444444,
             "#bd3786"
            ],
            [
             0.5555555555555556,
             "#d8576b"
            ],
            [
             0.6666666666666666,
             "#ed7953"
            ],
            [
             0.7777777777777778,
             "#fb9f3a"
            ],
            [
             0.8888888888888888,
             "#fdca26"
            ],
            [
             1,
             "#f0f921"
            ]
           ]
          },
          "colorway": [
           "#636efa",
           "#EF553B",
           "#00cc96",
           "#ab63fa",
           "#FFA15A",
           "#19d3f3",
           "#FF6692",
           "#B6E880",
           "#FF97FF",
           "#FECB52"
          ],
          "font": {
           "color": "#2a3f5f"
          },
          "geo": {
           "bgcolor": "white",
           "lakecolor": "white",
           "landcolor": "#E5ECF6",
           "showlakes": true,
           "showland": true,
           "subunitcolor": "white"
          },
          "hoverlabel": {
           "align": "left"
          },
          "hovermode": "closest",
          "mapbox": {
           "style": "light"
          },
          "paper_bgcolor": "white",
          "plot_bgcolor": "#E5ECF6",
          "polar": {
           "angularaxis": {
            "gridcolor": "white",
            "linecolor": "white",
            "ticks": ""
           },
           "bgcolor": "#E5ECF6",
           "radialaxis": {
            "gridcolor": "white",
            "linecolor": "white",
            "ticks": ""
           }
          },
          "scene": {
           "xaxis": {
            "backgroundcolor": "#E5ECF6",
            "gridcolor": "white",
            "gridwidth": 2,
            "linecolor": "white",
            "showbackground": true,
            "ticks": "",
            "zerolinecolor": "white"
           },
           "yaxis": {
            "backgroundcolor": "#E5ECF6",
            "gridcolor": "white",
            "gridwidth": 2,
            "linecolor": "white",
            "showbackground": true,
            "ticks": "",
            "zerolinecolor": "white"
           },
           "zaxis": {
            "backgroundcolor": "#E5ECF6",
            "gridcolor": "white",
            "gridwidth": 2,
            "linecolor": "white",
            "showbackground": true,
            "ticks": "",
            "zerolinecolor": "white"
           }
          },
          "shapedefaults": {
           "line": {
            "color": "#2a3f5f"
           }
          },
          "ternary": {
           "aaxis": {
            "gridcolor": "white",
            "linecolor": "white",
            "ticks": ""
           },
           "baxis": {
            "gridcolor": "white",
            "linecolor": "white",
            "ticks": ""
           },
           "bgcolor": "#E5ECF6",
           "caxis": {
            "gridcolor": "white",
            "linecolor": "white",
            "ticks": ""
           }
          },
          "title": {
           "x": 0.05
          },
          "xaxis": {
           "automargin": true,
           "gridcolor": "white",
           "linecolor": "white",
           "ticks": "",
           "title": {
            "standoff": 15
           },
           "zerolinecolor": "white",
           "zerolinewidth": 2
          },
          "yaxis": {
           "automargin": true,
           "gridcolor": "white",
           "linecolor": "white",
           "ticks": "",
           "title": {
            "standoff": 15
           },
           "zerolinecolor": "white",
           "zerolinewidth": 2
          }
         }
        },
        "xaxis": {
         "anchor": "y",
         "categoryarray": [
          "Premier League",
          "Ligue 1",
          "Serie A",
          "La Liga",
          "Bundesliga"
         ],
         "categoryorder": "array",
         "domain": [
          0,
          1
         ],
         "title": {
          "text": "Comp"
         }
        },
        "yaxis": {
         "anchor": "x",
         "domain": [
          0,
          1
         ],
         "title": {
          "text": "count"
         }
        }
       }
      }
     },
     "metadata": {},
     "output_type": "display_data"
    }
   ],
   "source": [
    "px.histogram(Meias, x = \"Comp\",   color = \"Comp\").show()"
   ]
  },
  {
   "attachments": {},
   "cell_type": "markdown",
   "metadata": {},
   "source": [
    "#### Meias goleadores"
   ]
  },
  {
   "cell_type": "code",
   "execution_count": 2009,
   "metadata": {},
   "outputs": [
    {
     "data": {
      "application/vnd.plotly.v1+json": {
       "config": {
        "plotlyServerURL": "https://plot.ly"
       },
       "data": [
        {
         "alignmentgroup": "True",
         "bingroup": "x",
         "hovertemplate": "Player=Emanuel Vignato<br>GPJ=%{x}<br>count=%{y}<extra></extra>",
         "legendgroup": "Emanuel Vignato",
         "marker": {
          "color": "#636efa",
          "pattern": {
           "shape": ""
          }
         },
         "name": "Emanuel Vignato",
         "offsetgroup": "Emanuel Vignato",
         "orientation": "v",
         "showlegend": true,
         "type": "histogram",
         "x": [
          1
         ],
         "xaxis": "x",
         "yaxis": "y"
        },
        {
         "alignmentgroup": "True",
         "bingroup": "x",
         "hovertemplate": "Player=Ante Palaversa<br>GPJ=%{x}<br>count=%{y}<extra></extra>",
         "legendgroup": "Ante Palaversa",
         "marker": {
          "color": "#EF553B",
          "pattern": {
           "shape": ""
          }
         },
         "name": "Ante Palaversa",
         "offsetgroup": "Ante Palaversa",
         "orientation": "v",
         "showlegend": true,
         "type": "histogram",
         "x": [
          1
         ],
         "xaxis": "x",
         "yaxis": "y"
        },
        {
         "alignmentgroup": "True",
         "bingroup": "x",
         "hovertemplate": "Player=Sofiane Diop<br>GPJ=%{x}<br>count=%{y}<extra></extra>",
         "legendgroup": "Sofiane Diop",
         "marker": {
          "color": "#00cc96",
          "pattern": {
           "shape": ""
          }
         },
         "name": "Sofiane Diop",
         "offsetgroup": "Sofiane Diop",
         "orientation": "v",
         "showlegend": true,
         "type": "histogram",
         "x": [
          1
         ],
         "xaxis": "x",
         "yaxis": "y"
        },
        {
         "alignmentgroup": "True",
         "bingroup": "x",
         "hovertemplate": "Player=Jo�o Gomes<br>GPJ=%{x}<br>count=%{y}<extra></extra>",
         "legendgroup": "Jo�o Gomes",
         "marker": {
          "color": "#ab63fa",
          "pattern": {
           "shape": ""
          }
         },
         "name": "Jo�o Gomes",
         "offsetgroup": "Jo�o Gomes",
         "orientation": "v",
         "showlegend": true,
         "type": "histogram",
         "x": [
          1
         ],
         "xaxis": "x",
         "yaxis": "y"
        },
        {
         "alignmentgroup": "True",
         "bingroup": "x",
         "hovertemplate": "Player=Gonzalo Escalante<br>GPJ=%{x}<br>count=%{y}<extra></extra>",
         "legendgroup": "Gonzalo Escalante",
         "marker": {
          "color": "#FFA15A",
          "pattern": {
           "shape": ""
          }
         },
         "name": "Gonzalo Escalante",
         "offsetgroup": "Gonzalo Escalante",
         "orientation": "v",
         "showlegend": true,
         "type": "histogram",
         "x": [
          0.6666666666666666
         ],
         "xaxis": "x",
         "yaxis": "y"
        },
        {
         "alignmentgroup": "True",
         "bingroup": "x",
         "hovertemplate": "Player=Neymar<br>GPJ=%{x}<br>count=%{y}<extra></extra>",
         "legendgroup": "Neymar",
         "marker": {
          "color": "#19d3f3",
          "pattern": {
           "shape": ""
          }
         },
         "name": "Neymar",
         "offsetgroup": "Neymar",
         "orientation": "v",
         "showlegend": true,
         "type": "histogram",
         "x": [
          0.631578947368421
         ],
         "xaxis": "x",
         "yaxis": "y"
        },
        {
         "alignmentgroup": "True",
         "bingroup": "x",
         "hovertemplate": "Player=James Maddison<br>GPJ=%{x}<br>count=%{y}<extra></extra>",
         "legendgroup": "James Maddison",
         "marker": {
          "color": "#FF6692",
          "pattern": {
           "shape": ""
          }
         },
         "name": "James Maddison",
         "offsetgroup": "James Maddison",
         "orientation": "v",
         "showlegend": true,
         "type": "histogram",
         "x": [
          0.5625
         ],
         "xaxis": "x",
         "yaxis": "y"
        },
        {
         "alignmentgroup": "True",
         "bingroup": "x",
         "hovertemplate": "Player=Lionel Messi<br>GPJ=%{x}<br>count=%{y}<extra></extra>",
         "legendgroup": "Lionel Messi",
         "marker": {
          "color": "#B6E880",
          "pattern": {
           "shape": ""
          }
         },
         "name": "Lionel Messi",
         "offsetgroup": "Lionel Messi",
         "orientation": "v",
         "showlegend": true,
         "type": "histogram",
         "x": [
          0.5555555555555556
         ],
         "xaxis": "x",
         "yaxis": "y"
        },
        {
         "alignmentgroup": "True",
         "bingroup": "x",
         "hovertemplate": "Player=Jamal Musiala<br>GPJ=%{x}<br>count=%{y}<extra></extra>",
         "legendgroup": "Jamal Musiala",
         "marker": {
          "color": "#FF97FF",
          "pattern": {
           "shape": ""
          }
         },
         "name": "Jamal Musiala",
         "offsetgroup": "Jamal Musiala",
         "orientation": "v",
         "showlegend": true,
         "type": "histogram",
         "x": [
          0.5263157894736842
         ],
         "xaxis": "x",
         "yaxis": "y"
        },
        {
         "alignmentgroup": "True",
         "bingroup": "x",
         "hovertemplate": "Player=Bryan<br>GPJ=%{x}<br>count=%{y}<extra></extra>",
         "legendgroup": "Bryan",
         "marker": {
          "color": "#FECB52",
          "pattern": {
           "shape": ""
          }
         },
         "name": "Bryan",
         "offsetgroup": "Bryan",
         "orientation": "v",
         "showlegend": true,
         "type": "histogram",
         "x": [
          0.5
         ],
         "xaxis": "x",
         "yaxis": "y"
        },
        {
         "alignmentgroup": "True",
         "bingroup": "x",
         "hovertemplate": "Player=Jo�o F�lix<br>GPJ=%{x}<br>count=%{y}<extra></extra>",
         "legendgroup": "Jo�o F�lix",
         "marker": {
          "color": "#636efa",
          "pattern": {
           "shape": ""
          }
         },
         "name": "Jo�o F�lix",
         "offsetgroup": "Jo�o F�lix",
         "orientation": "v",
         "showlegend": true,
         "type": "histogram",
         "x": [
          0.5
         ],
         "xaxis": "x",
         "yaxis": "y"
        },
        {
         "alignmentgroup": "True",
         "bingroup": "x",
         "hovertemplate": "Player=Moussa Soumano<br>GPJ=%{x}<br>count=%{y}<extra></extra>",
         "legendgroup": "Moussa Soumano",
         "marker": {
          "color": "#EF553B",
          "pattern": {
           "shape": ""
          }
         },
         "name": "Moussa Soumano",
         "offsetgroup": "Moussa Soumano",
         "orientation": "v",
         "showlegend": true,
         "type": "histogram",
         "x": [
          0.5
         ],
         "xaxis": "x",
         "yaxis": "y"
        },
        {
         "alignmentgroup": "True",
         "bingroup": "x",
         "hovertemplate": "Player=Paulo Dybala<br>GPJ=%{x}<br>count=%{y}<extra></extra>",
         "legendgroup": "Paulo Dybala",
         "marker": {
          "color": "#00cc96",
          "pattern": {
           "shape": ""
          }
         },
         "name": "Paulo Dybala",
         "offsetgroup": "Paulo Dybala",
         "orientation": "v",
         "showlegend": true,
         "type": "histogram",
         "x": [
          0.5
         ],
         "xaxis": "x",
         "yaxis": "y"
        },
        {
         "alignmentgroup": "True",
         "bingroup": "x",
         "hovertemplate": "Player=Youcef Bela�li<br>GPJ=%{x}<br>count=%{y}<extra></extra>",
         "legendgroup": "Youcef Bela�li",
         "marker": {
          "color": "#ab63fa",
          "pattern": {
           "shape": ""
          }
         },
         "name": "Youcef Bela�li",
         "offsetgroup": "Youcef Bela�li",
         "orientation": "v",
         "showlegend": true,
         "type": "histogram",
         "x": [
          0.4166666666666667
         ],
         "xaxis": "x",
         "yaxis": "y"
        },
        {
         "alignmentgroup": "True",
         "bingroup": "x",
         "hovertemplate": "Player=Daichi Kamada<br>GPJ=%{x}<br>count=%{y}<extra></extra>",
         "legendgroup": "Daichi Kamada",
         "marker": {
          "color": "#FFA15A",
          "pattern": {
           "shape": ""
          }
         },
         "name": "Daichi Kamada",
         "offsetgroup": "Daichi Kamada",
         "orientation": "v",
         "showlegend": true,
         "type": "histogram",
         "x": [
          0.4117647058823529
         ],
         "xaxis": "x",
         "yaxis": "y"
        },
        {
         "alignmentgroup": "True",
         "bingroup": "x",
         "hovertemplate": "Player=Martin �degaard<br>GPJ=%{x}<br>count=%{y}<extra></extra>",
         "legendgroup": "Martin �degaard",
         "marker": {
          "color": "#19d3f3",
          "pattern": {
           "shape": ""
          }
         },
         "name": "Martin �degaard",
         "offsetgroup": "Martin �degaard",
         "orientation": "v",
         "showlegend": true,
         "type": "histogram",
         "x": [
          0.4
         ],
         "xaxis": "x",
         "yaxis": "y"
        },
        {
         "alignmentgroup": "True",
         "bingroup": "x",
         "hovertemplate": "Player=Harvey Barnes<br>GPJ=%{x}<br>count=%{y}<extra></extra>",
         "legendgroup": "Harvey Barnes",
         "marker": {
          "color": "#FF6692",
          "pattern": {
           "shape": ""
          }
         },
         "name": "Harvey Barnes",
         "offsetgroup": "Harvey Barnes",
         "orientation": "v",
         "showlegend": true,
         "type": "histogram",
         "x": [
          0.4
         ],
         "xaxis": "x",
         "yaxis": "y"
        },
        {
         "alignmentgroup": "True",
         "bingroup": "x",
         "hovertemplate": "Player=Jesper Lindstr�m<br>GPJ=%{x}<br>count=%{y}<extra></extra>",
         "legendgroup": "Jesper Lindstr�m",
         "marker": {
          "color": "#B6E880",
          "pattern": {
           "shape": ""
          }
         },
         "name": "Jesper Lindstr�m",
         "offsetgroup": "Jesper Lindstr�m",
         "orientation": "v",
         "showlegend": true,
         "type": "histogram",
         "x": [
          0.3888888888888889
         ],
         "xaxis": "x",
         "yaxis": "y"
        },
        {
         "alignmentgroup": "True",
         "bingroup": "x",
         "hovertemplate": "Player=T�ji Savanier<br>GPJ=%{x}<br>count=%{y}<extra></extra>",
         "legendgroup": "T�ji Savanier",
         "marker": {
          "color": "#FF97FF",
          "pattern": {
           "shape": ""
          }
         },
         "name": "T�ji Savanier",
         "offsetgroup": "T�ji Savanier",
         "orientation": "v",
         "showlegend": true,
         "type": "histogram",
         "x": [
          0.3888888888888889
         ],
         "xaxis": "x",
         "yaxis": "y"
        },
        {
         "alignmentgroup": "True",
         "bingroup": "x",
         "hovertemplate": "Player=Oihan Sancet<br>GPJ=%{x}<br>count=%{y}<extra></extra>",
         "legendgroup": "Oihan Sancet",
         "marker": {
          "color": "#FECB52",
          "pattern": {
           "shape": ""
          }
         },
         "name": "Oihan Sancet",
         "offsetgroup": "Oihan Sancet",
         "orientation": "v",
         "showlegend": true,
         "type": "histogram",
         "x": [
          0.38095238095238093
         ],
         "xaxis": "x",
         "yaxis": "y"
        },
        {
         "alignmentgroup": "True",
         "bingroup": "x",
         "hovertemplate": "Player=Brais M�ndez<br>GPJ=%{x}<br>count=%{y}<extra></extra>",
         "legendgroup": "Brais M�ndez",
         "marker": {
          "color": "#636efa",
          "pattern": {
           "shape": ""
          }
         },
         "name": "Brais M�ndez",
         "offsetgroup": "Brais M�ndez",
         "orientation": "v",
         "showlegend": true,
         "type": "histogram",
         "x": [
          0.3684210526315789
         ],
         "xaxis": "x",
         "yaxis": "y"
        },
        {
         "alignmentgroup": "True",
         "bingroup": "x",
         "hovertemplate": "Player=Carlos Soler<br>GPJ=%{x}<br>count=%{y}<extra></extra>",
         "legendgroup": "Carlos Soler",
         "marker": {
          "color": "#EF553B",
          "pattern": {
           "shape": ""
          }
         },
         "name": "Carlos Soler",
         "offsetgroup": "Carlos Soler",
         "orientation": "v",
         "showlegend": true,
         "type": "histogram",
         "x": [
          0.3333333333333333
         ],
         "xaxis": "x",
         "yaxis": "y"
        },
        {
         "alignmentgroup": "True",
         "bingroup": "x",
         "hovertemplate": "Player=Leroy San�<br>GPJ=%{x}<br>count=%{y}<extra></extra>",
         "legendgroup": "Leroy San�",
         "marker": {
          "color": "#00cc96",
          "pattern": {
           "shape": ""
          }
         },
         "name": "Leroy San�",
         "offsetgroup": "Leroy San�",
         "orientation": "v",
         "showlegend": true,
         "type": "histogram",
         "x": [
          0.3333333333333333
         ],
         "xaxis": "x",
         "yaxis": "y"
        },
        {
         "alignmentgroup": "True",
         "bingroup": "x",
         "hovertemplate": "Player=David ?olina<br>GPJ=%{x}<br>count=%{y}<extra></extra>",
         "legendgroup": "David ?olina",
         "marker": {
          "color": "#ab63fa",
          "pattern": {
           "shape": ""
          }
         },
         "name": "David ?olina",
         "offsetgroup": "David ?olina",
         "orientation": "v",
         "showlegend": true,
         "type": "histogram",
         "x": [
          0.3333333333333333
         ],
         "xaxis": "x",
         "yaxis": "y"
        },
        {
         "alignmentgroup": "True",
         "bingroup": "x",
         "hovertemplate": "Player=Anuar<br>GPJ=%{x}<br>count=%{y}<extra></extra>",
         "legendgroup": "Anuar",
         "marker": {
          "color": "#FFA15A",
          "pattern": {
           "shape": ""
          }
         },
         "name": "Anuar",
         "offsetgroup": "Anuar",
         "orientation": "v",
         "showlegend": true,
         "type": "histogram",
         "x": [
          0.3333333333333333
         ],
         "xaxis": "x",
         "yaxis": "y"
        },
        {
         "alignmentgroup": "True",
         "bingroup": "x",
         "hovertemplate": "Player=Carlos Alcaraz<br>GPJ=%{x}<br>count=%{y}<extra></extra>",
         "legendgroup": "Carlos Alcaraz",
         "marker": {
          "color": "#19d3f3",
          "pattern": {
           "shape": ""
          }
         },
         "name": "Carlos Alcaraz",
         "offsetgroup": "Carlos Alcaraz",
         "orientation": "v",
         "showlegend": true,
         "type": "histogram",
         "x": [
          0.3333333333333333
         ],
         "xaxis": "x",
         "yaxis": "y"
        },
        {
         "alignmentgroup": "True",
         "bingroup": "x",
         "hovertemplate": "Player=Carmona<br>GPJ=%{x}<br>count=%{y}<extra></extra>",
         "legendgroup": "Carmona",
         "marker": {
          "color": "#FF6692",
          "pattern": {
           "shape": ""
          }
         },
         "name": "Carmona",
         "offsetgroup": "Carmona",
         "orientation": "v",
         "showlegend": true,
         "type": "histogram",
         "x": [
          0.3333333333333333
         ],
         "xaxis": "x",
         "yaxis": "y"
        },
        {
         "alignmentgroup": "True",
         "bingroup": "x",
         "hovertemplate": "Player=Azzedine Ounahi<br>GPJ=%{x}<br>count=%{y}<extra></extra>",
         "legendgroup": "Azzedine Ounahi",
         "marker": {
          "color": "#B6E880",
          "pattern": {
           "shape": ""
          }
         },
         "name": "Azzedine Ounahi",
         "offsetgroup": "Azzedine Ounahi",
         "orientation": "v",
         "showlegend": true,
         "type": "histogram",
         "x": [
          0.3333333333333333
         ],
         "xaxis": "x",
         "yaxis": "y"
        },
        {
         "alignmentgroup": "True",
         "bingroup": "x",
         "hovertemplate": "Player=Gabriel Veiga<br>GPJ=%{x}<br>count=%{y}<extra></extra>",
         "legendgroup": "Gabriel Veiga",
         "marker": {
          "color": "#FF97FF",
          "pattern": {
           "shape": ""
          }
         },
         "name": "Gabriel Veiga",
         "offsetgroup": "Gabriel Veiga",
         "orientation": "v",
         "showlegend": true,
         "type": "histogram",
         "x": [
          0.3157894736842105
         ],
         "xaxis": "x",
         "yaxis": "y"
        },
        {
         "alignmentgroup": "True",
         "bingroup": "x",
         "hovertemplate": "Player=Tommaso Baldanzi<br>GPJ=%{x}<br>count=%{y}<extra></extra>",
         "legendgroup": "Tommaso Baldanzi",
         "marker": {
          "color": "#FECB52",
          "pattern": {
           "shape": ""
          }
         },
         "name": "Tommaso Baldanzi",
         "offsetgroup": "Tommaso Baldanzi",
         "orientation": "v",
         "showlegend": true,
         "type": "histogram",
         "x": [
          0.3076923076923077
         ],
         "xaxis": "x",
         "yaxis": "y"
        },
        {
         "alignmentgroup": "True",
         "bingroup": "x",
         "hovertemplate": "Player=Lee Jae-sung<br>GPJ=%{x}<br>count=%{y}<extra></extra>",
         "legendgroup": "Lee Jae-sung",
         "marker": {
          "color": "#636efa",
          "pattern": {
           "shape": ""
          }
         },
         "name": "Lee Jae-sung",
         "offsetgroup": "Lee Jae-sung",
         "orientation": "v",
         "showlegend": true,
         "type": "histogram",
         "x": [
          0.3
         ],
         "xaxis": "x",
         "yaxis": "y"
        },
        {
         "alignmentgroup": "True",
         "bingroup": "x",
         "hovertemplate": "Player=Julian Brandt<br>GPJ=%{x}<br>count=%{y}<extra></extra>",
         "legendgroup": "Julian Brandt",
         "marker": {
          "color": "#EF553B",
          "pattern": {
           "shape": ""
          }
         },
         "name": "Julian Brandt",
         "offsetgroup": "Julian Brandt",
         "orientation": "v",
         "showlegend": true,
         "type": "histogram",
         "x": [
          0.3
         ],
         "xaxis": "x",
         "yaxis": "y"
        },
        {
         "alignmentgroup": "True",
         "bingroup": "x",
         "hovertemplate": "Player=Teun Koopmeiners<br>GPJ=%{x}<br>count=%{y}<extra></extra>",
         "legendgroup": "Teun Koopmeiners",
         "marker": {
          "color": "#00cc96",
          "pattern": {
           "shape": ""
          }
         },
         "name": "Teun Koopmeiners",
         "offsetgroup": "Teun Koopmeiners",
         "orientation": "v",
         "showlegend": true,
         "type": "histogram",
         "x": [
          0.2857142857142857
         ],
         "xaxis": "x",
         "yaxis": "y"
        },
        {
         "alignmentgroup": "True",
         "bingroup": "x",
         "hovertemplate": "Player=Pascal Gro�<br>GPJ=%{x}<br>count=%{y}<extra></extra>",
         "legendgroup": "Pascal Gro�",
         "marker": {
          "color": "#ab63fa",
          "pattern": {
           "shape": ""
          }
         },
         "name": "Pascal Gro�",
         "offsetgroup": "Pascal Gro�",
         "orientation": "v",
         "showlegend": true,
         "type": "histogram",
         "x": [
          0.2857142857142857
         ],
         "xaxis": "x",
         "yaxis": "y"
        },
        {
         "alignmentgroup": "True",
         "bingroup": "x",
         "hovertemplate": "Player=Rodrigo Bentancur<br>GPJ=%{x}<br>count=%{y}<extra></extra>",
         "legendgroup": "Rodrigo Bentancur",
         "marker": {
          "color": "#FFA15A",
          "pattern": {
           "shape": ""
          }
         },
         "name": "Rodrigo Bentancur",
         "offsetgroup": "Rodrigo Bentancur",
         "orientation": "v",
         "showlegend": true,
         "type": "histogram",
         "x": [
          0.2777777777777778
         ],
         "xaxis": "x",
         "yaxis": "y"
        },
        {
         "alignmentgroup": "True",
         "bingroup": "x",
         "hovertemplate": "Player=Florian Kainz<br>GPJ=%{x}<br>count=%{y}<extra></extra>",
         "legendgroup": "Florian Kainz",
         "marker": {
          "color": "#19d3f3",
          "pattern": {
           "shape": ""
          }
         },
         "name": "Florian Kainz",
         "offsetgroup": "Florian Kainz",
         "orientation": "v",
         "showlegend": true,
         "type": "histogram",
         "x": [
          0.2777777777777778
         ],
         "xaxis": "x",
         "yaxis": "y"
        },
        {
         "alignmentgroup": "True",
         "bingroup": "x",
         "hovertemplate": "Player=Janik Haberer<br>GPJ=%{x}<br>count=%{y}<extra></extra>",
         "legendgroup": "Janik Haberer",
         "marker": {
          "color": "#FF6692",
          "pattern": {
           "shape": ""
          }
         },
         "name": "Janik Haberer",
         "offsetgroup": "Janik Haberer",
         "orientation": "v",
         "showlegend": true,
         "type": "histogram",
         "x": [
          0.2777777777777778
         ],
         "xaxis": "x",
         "yaxis": "y"
        },
        {
         "alignmentgroup": "True",
         "bingroup": "x",
         "hovertemplate": "Player=Alexis Mac Allister<br>GPJ=%{x}<br>count=%{y}<extra></extra>",
         "legendgroup": "Alexis Mac Allister",
         "marker": {
          "color": "#B6E880",
          "pattern": {
           "shape": ""
          }
         },
         "name": "Alexis Mac Allister",
         "offsetgroup": "Alexis Mac Allister",
         "orientation": "v",
         "showlegend": true,
         "type": "histogram",
         "x": [
          0.2777777777777778
         ],
         "xaxis": "x",
         "yaxis": "y"
        },
        {
         "alignmentgroup": "True",
         "bingroup": "x",
         "hovertemplate": "Player=Florian Sotoca<br>GPJ=%{x}<br>count=%{y}<extra></extra>",
         "legendgroup": "Florian Sotoca",
         "marker": {
          "color": "#FF97FF",
          "pattern": {
           "shape": ""
          }
         },
         "name": "Florian Sotoca",
         "offsetgroup": "Florian Sotoca",
         "orientation": "v",
         "showlegend": true,
         "type": "histogram",
         "x": [
          0.2727272727272727
         ],
         "xaxis": "x",
         "yaxis": "y"
        },
        {
         "alignmentgroup": "True",
         "bingroup": "x",
         "hovertemplate": "Player=Yannick Gerhardt<br>GPJ=%{x}<br>count=%{y}<extra></extra>",
         "legendgroup": "Yannick Gerhardt",
         "marker": {
          "color": "#FECB52",
          "pattern": {
           "shape": ""
          }
         },
         "name": "Yannick Gerhardt",
         "offsetgroup": "Yannick Gerhardt",
         "orientation": "v",
         "showlegend": true,
         "type": "histogram",
         "x": [
          0.26666666666666666
         ],
         "xaxis": "x",
         "yaxis": "y"
        },
        {
         "alignmentgroup": "True",
         "bingroup": "x",
         "hovertemplate": "Player=Andrej Kramari?<br>GPJ=%{x}<br>count=%{y}<extra></extra>",
         "legendgroup": "Andrej Kramari?",
         "marker": {
          "color": "#636efa",
          "pattern": {
           "shape": ""
          }
         },
         "name": "Andrej Kramari?",
         "offsetgroup": "Andrej Kramari?",
         "orientation": "v",
         "showlegend": true,
         "type": "histogram",
         "x": [
          0.2631578947368421
         ],
         "xaxis": "x",
         "yaxis": "y"
        },
        {
         "alignmentgroup": "True",
         "bingroup": "x",
         "hovertemplate": "Player=�ngel Correa<br>GPJ=%{x}<br>count=%{y}<extra></extra>",
         "legendgroup": "�ngel Correa",
         "marker": {
          "color": "#EF553B",
          "pattern": {
           "shape": ""
          }
         },
         "name": "�ngel Correa",
         "offsetgroup": "�ngel Correa",
         "orientation": "v",
         "showlegend": true,
         "type": "histogram",
         "x": [
          0.2631578947368421
         ],
         "xaxis": "x",
         "yaxis": "y"
        },
        {
         "alignmentgroup": "True",
         "bingroup": "x",
         "hovertemplate": "Player=Nuno Tavares<br>GPJ=%{x}<br>count=%{y}<extra></extra>",
         "legendgroup": "Nuno Tavares",
         "marker": {
          "color": "#00cc96",
          "pattern": {
           "shape": ""
          }
         },
         "name": "Nuno Tavares",
         "offsetgroup": "Nuno Tavares",
         "orientation": "v",
         "showlegend": true,
         "type": "histogram",
         "x": [
          0.2631578947368421
         ],
         "xaxis": "x",
         "yaxis": "y"
        },
        {
         "alignmentgroup": "True",
         "bingroup": "x",
         "hovertemplate": "Player=R�my Cabella<br>GPJ=%{x}<br>count=%{y}<extra></extra>",
         "legendgroup": "R�my Cabella",
         "marker": {
          "color": "#ab63fa",
          "pattern": {
           "shape": ""
          }
         },
         "name": "R�my Cabella",
         "offsetgroup": "R�my Cabella",
         "orientation": "v",
         "showlegend": true,
         "type": "histogram",
         "x": [
          0.25
         ],
         "xaxis": "x",
         "yaxis": "y"
        },
        {
         "alignmentgroup": "True",
         "bingroup": "x",
         "hovertemplate": "Player=Nicol� Barella<br>GPJ=%{x}<br>count=%{y}<extra></extra>",
         "legendgroup": "Nicol� Barella",
         "marker": {
          "color": "#FFA15A",
          "pattern": {
           "shape": ""
          }
         },
         "name": "Nicol� Barella",
         "offsetgroup": "Nicol� Barella",
         "orientation": "v",
         "showlegend": true,
         "type": "histogram",
         "x": [
          0.25
         ],
         "xaxis": "x",
         "yaxis": "y"
        },
        {
         "alignmentgroup": "True",
         "bingroup": "x",
         "hovertemplate": "Player=Christoph Baumgartner<br>GPJ=%{x}<br>count=%{y}<extra></extra>",
         "legendgroup": "Christoph Baumgartner",
         "marker": {
          "color": "#19d3f3",
          "pattern": {
           "shape": ""
          }
         },
         "name": "Christoph Baumgartner",
         "offsetgroup": "Christoph Baumgartner",
         "orientation": "v",
         "showlegend": true,
         "type": "histogram",
         "x": [
          0.25
         ],
         "xaxis": "x",
         "yaxis": "y"
        },
        {
         "alignmentgroup": "True",
         "bingroup": "x",
         "hovertemplate": "Player=Pedri<br>GPJ=%{x}<br>count=%{y}<extra></extra>",
         "legendgroup": "Pedri",
         "marker": {
          "color": "#FF6692",
          "pattern": {
           "shape": ""
          }
         },
         "name": "Pedri",
         "offsetgroup": "Pedri",
         "orientation": "v",
         "showlegend": true,
         "type": "histogram",
         "x": [
          0.25
         ],
         "xaxis": "x",
         "yaxis": "y"
        },
        {
         "alignmentgroup": "True",
         "bingroup": "x",
         "hovertemplate": "Player=Pierre Kunde<br>GPJ=%{x}<br>count=%{y}<extra></extra>",
         "legendgroup": "Pierre Kunde",
         "marker": {
          "color": "#B6E880",
          "pattern": {
           "shape": ""
          }
         },
         "name": "Pierre Kunde",
         "offsetgroup": "Pierre Kunde",
         "orientation": "v",
         "showlegend": true,
         "type": "histogram",
         "x": [
          0.25
         ],
         "xaxis": "x",
         "yaxis": "y"
        },
        {
         "alignmentgroup": "True",
         "bingroup": "x",
         "hovertemplate": "Player=Samuel S�iz<br>GPJ=%{x}<br>count=%{y}<extra></extra>",
         "legendgroup": "Samuel S�iz",
         "marker": {
          "color": "#FF97FF",
          "pattern": {
           "shape": ""
          }
         },
         "name": "Samuel S�iz",
         "offsetgroup": "Samuel S�iz",
         "orientation": "v",
         "showlegend": true,
         "type": "histogram",
         "x": [
          0.25
         ],
         "xaxis": "x",
         "yaxis": "y"
        },
        {
         "alignmentgroup": "True",
         "bingroup": "x",
         "hovertemplate": "Player=Aleksei Miranchuk<br>GPJ=%{x}<br>count=%{y}<extra></extra>",
         "legendgroup": "Aleksei Miranchuk",
         "marker": {
          "color": "#FECB52",
          "pattern": {
           "shape": ""
          }
         },
         "name": "Aleksei Miranchuk",
         "offsetgroup": "Aleksei Miranchuk",
         "orientation": "v",
         "showlegend": true,
         "type": "histogram",
         "x": [
          0.25
         ],
         "xaxis": "x",
         "yaxis": "y"
        }
       ],
       "layout": {
        "barmode": "relative",
        "legend": {
         "title": {
          "text": "Player"
         },
         "tracegroupgap": 0
        },
        "margin": {
         "t": 60
        },
        "template": {
         "data": {
          "bar": [
           {
            "error_x": {
             "color": "#2a3f5f"
            },
            "error_y": {
             "color": "#2a3f5f"
            },
            "marker": {
             "line": {
              "color": "#E5ECF6",
              "width": 0.5
             },
             "pattern": {
              "fillmode": "overlay",
              "size": 10,
              "solidity": 0.2
             }
            },
            "type": "bar"
           }
          ],
          "barpolar": [
           {
            "marker": {
             "line": {
              "color": "#E5ECF6",
              "width": 0.5
             },
             "pattern": {
              "fillmode": "overlay",
              "size": 10,
              "solidity": 0.2
             }
            },
            "type": "barpolar"
           }
          ],
          "carpet": [
           {
            "aaxis": {
             "endlinecolor": "#2a3f5f",
             "gridcolor": "white",
             "linecolor": "white",
             "minorgridcolor": "white",
             "startlinecolor": "#2a3f5f"
            },
            "baxis": {
             "endlinecolor": "#2a3f5f",
             "gridcolor": "white",
             "linecolor": "white",
             "minorgridcolor": "white",
             "startlinecolor": "#2a3f5f"
            },
            "type": "carpet"
           }
          ],
          "choropleth": [
           {
            "colorbar": {
             "outlinewidth": 0,
             "ticks": ""
            },
            "type": "choropleth"
           }
          ],
          "contour": [
           {
            "colorbar": {
             "outlinewidth": 0,
             "ticks": ""
            },
            "colorscale": [
             [
              0,
              "#0d0887"
             ],
             [
              0.1111111111111111,
              "#46039f"
             ],
             [
              0.2222222222222222,
              "#7201a8"
             ],
             [
              0.3333333333333333,
              "#9c179e"
             ],
             [
              0.4444444444444444,
              "#bd3786"
             ],
             [
              0.5555555555555556,
              "#d8576b"
             ],
             [
              0.6666666666666666,
              "#ed7953"
             ],
             [
              0.7777777777777778,
              "#fb9f3a"
             ],
             [
              0.8888888888888888,
              "#fdca26"
             ],
             [
              1,
              "#f0f921"
             ]
            ],
            "type": "contour"
           }
          ],
          "contourcarpet": [
           {
            "colorbar": {
             "outlinewidth": 0,
             "ticks": ""
            },
            "type": "contourcarpet"
           }
          ],
          "heatmap": [
           {
            "colorbar": {
             "outlinewidth": 0,
             "ticks": ""
            },
            "colorscale": [
             [
              0,
              "#0d0887"
             ],
             [
              0.1111111111111111,
              "#46039f"
             ],
             [
              0.2222222222222222,
              "#7201a8"
             ],
             [
              0.3333333333333333,
              "#9c179e"
             ],
             [
              0.4444444444444444,
              "#bd3786"
             ],
             [
              0.5555555555555556,
              "#d8576b"
             ],
             [
              0.6666666666666666,
              "#ed7953"
             ],
             [
              0.7777777777777778,
              "#fb9f3a"
             ],
             [
              0.8888888888888888,
              "#fdca26"
             ],
             [
              1,
              "#f0f921"
             ]
            ],
            "type": "heatmap"
           }
          ],
          "heatmapgl": [
           {
            "colorbar": {
             "outlinewidth": 0,
             "ticks": ""
            },
            "colorscale": [
             [
              0,
              "#0d0887"
             ],
             [
              0.1111111111111111,
              "#46039f"
             ],
             [
              0.2222222222222222,
              "#7201a8"
             ],
             [
              0.3333333333333333,
              "#9c179e"
             ],
             [
              0.4444444444444444,
              "#bd3786"
             ],
             [
              0.5555555555555556,
              "#d8576b"
             ],
             [
              0.6666666666666666,
              "#ed7953"
             ],
             [
              0.7777777777777778,
              "#fb9f3a"
             ],
             [
              0.8888888888888888,
              "#fdca26"
             ],
             [
              1,
              "#f0f921"
             ]
            ],
            "type": "heatmapgl"
           }
          ],
          "histogram": [
           {
            "marker": {
             "pattern": {
              "fillmode": "overlay",
              "size": 10,
              "solidity": 0.2
             }
            },
            "type": "histogram"
           }
          ],
          "histogram2d": [
           {
            "colorbar": {
             "outlinewidth": 0,
             "ticks": ""
            },
            "colorscale": [
             [
              0,
              "#0d0887"
             ],
             [
              0.1111111111111111,
              "#46039f"
             ],
             [
              0.2222222222222222,
              "#7201a8"
             ],
             [
              0.3333333333333333,
              "#9c179e"
             ],
             [
              0.4444444444444444,
              "#bd3786"
             ],
             [
              0.5555555555555556,
              "#d8576b"
             ],
             [
              0.6666666666666666,
              "#ed7953"
             ],
             [
              0.7777777777777778,
              "#fb9f3a"
             ],
             [
              0.8888888888888888,
              "#fdca26"
             ],
             [
              1,
              "#f0f921"
             ]
            ],
            "type": "histogram2d"
           }
          ],
          "histogram2dcontour": [
           {
            "colorbar": {
             "outlinewidth": 0,
             "ticks": ""
            },
            "colorscale": [
             [
              0,
              "#0d0887"
             ],
             [
              0.1111111111111111,
              "#46039f"
             ],
             [
              0.2222222222222222,
              "#7201a8"
             ],
             [
              0.3333333333333333,
              "#9c179e"
             ],
             [
              0.4444444444444444,
              "#bd3786"
             ],
             [
              0.5555555555555556,
              "#d8576b"
             ],
             [
              0.6666666666666666,
              "#ed7953"
             ],
             [
              0.7777777777777778,
              "#fb9f3a"
             ],
             [
              0.8888888888888888,
              "#fdca26"
             ],
             [
              1,
              "#f0f921"
             ]
            ],
            "type": "histogram2dcontour"
           }
          ],
          "mesh3d": [
           {
            "colorbar": {
             "outlinewidth": 0,
             "ticks": ""
            },
            "type": "mesh3d"
           }
          ],
          "parcoords": [
           {
            "line": {
             "colorbar": {
              "outlinewidth": 0,
              "ticks": ""
             }
            },
            "type": "parcoords"
           }
          ],
          "pie": [
           {
            "automargin": true,
            "type": "pie"
           }
          ],
          "scatter": [
           {
            "fillpattern": {
             "fillmode": "overlay",
             "size": 10,
             "solidity": 0.2
            },
            "type": "scatter"
           }
          ],
          "scatter3d": [
           {
            "line": {
             "colorbar": {
              "outlinewidth": 0,
              "ticks": ""
             }
            },
            "marker": {
             "colorbar": {
              "outlinewidth": 0,
              "ticks": ""
             }
            },
            "type": "scatter3d"
           }
          ],
          "scattercarpet": [
           {
            "marker": {
             "colorbar": {
              "outlinewidth": 0,
              "ticks": ""
             }
            },
            "type": "scattercarpet"
           }
          ],
          "scattergeo": [
           {
            "marker": {
             "colorbar": {
              "outlinewidth": 0,
              "ticks": ""
             }
            },
            "type": "scattergeo"
           }
          ],
          "scattergl": [
           {
            "marker": {
             "colorbar": {
              "outlinewidth": 0,
              "ticks": ""
             }
            },
            "type": "scattergl"
           }
          ],
          "scattermapbox": [
           {
            "marker": {
             "colorbar": {
              "outlinewidth": 0,
              "ticks": ""
             }
            },
            "type": "scattermapbox"
           }
          ],
          "scatterpolar": [
           {
            "marker": {
             "colorbar": {
              "outlinewidth": 0,
              "ticks": ""
             }
            },
            "type": "scatterpolar"
           }
          ],
          "scatterpolargl": [
           {
            "marker": {
             "colorbar": {
              "outlinewidth": 0,
              "ticks": ""
             }
            },
            "type": "scatterpolargl"
           }
          ],
          "scatterternary": [
           {
            "marker": {
             "colorbar": {
              "outlinewidth": 0,
              "ticks": ""
             }
            },
            "type": "scatterternary"
           }
          ],
          "surface": [
           {
            "colorbar": {
             "outlinewidth": 0,
             "ticks": ""
            },
            "colorscale": [
             [
              0,
              "#0d0887"
             ],
             [
              0.1111111111111111,
              "#46039f"
             ],
             [
              0.2222222222222222,
              "#7201a8"
             ],
             [
              0.3333333333333333,
              "#9c179e"
             ],
             [
              0.4444444444444444,
              "#bd3786"
             ],
             [
              0.5555555555555556,
              "#d8576b"
             ],
             [
              0.6666666666666666,
              "#ed7953"
             ],
             [
              0.7777777777777778,
              "#fb9f3a"
             ],
             [
              0.8888888888888888,
              "#fdca26"
             ],
             [
              1,
              "#f0f921"
             ]
            ],
            "type": "surface"
           }
          ],
          "table": [
           {
            "cells": {
             "fill": {
              "color": "#EBF0F8"
             },
             "line": {
              "color": "white"
             }
            },
            "header": {
             "fill": {
              "color": "#C8D4E3"
             },
             "line": {
              "color": "white"
             }
            },
            "type": "table"
           }
          ]
         },
         "layout": {
          "annotationdefaults": {
           "arrowcolor": "#2a3f5f",
           "arrowhead": 0,
           "arrowwidth": 1
          },
          "autotypenumbers": "strict",
          "coloraxis": {
           "colorbar": {
            "outlinewidth": 0,
            "ticks": ""
           }
          },
          "colorscale": {
           "diverging": [
            [
             0,
             "#8e0152"
            ],
            [
             0.1,
             "#c51b7d"
            ],
            [
             0.2,
             "#de77ae"
            ],
            [
             0.3,
             "#f1b6da"
            ],
            [
             0.4,
             "#fde0ef"
            ],
            [
             0.5,
             "#f7f7f7"
            ],
            [
             0.6,
             "#e6f5d0"
            ],
            [
             0.7,
             "#b8e186"
            ],
            [
             0.8,
             "#7fbc41"
            ],
            [
             0.9,
             "#4d9221"
            ],
            [
             1,
             "#276419"
            ]
           ],
           "sequential": [
            [
             0,
             "#0d0887"
            ],
            [
             0.1111111111111111,
             "#46039f"
            ],
            [
             0.2222222222222222,
             "#7201a8"
            ],
            [
             0.3333333333333333,
             "#9c179e"
            ],
            [
             0.4444444444444444,
             "#bd3786"
            ],
            [
             0.5555555555555556,
             "#d8576b"
            ],
            [
             0.6666666666666666,
             "#ed7953"
            ],
            [
             0.7777777777777778,
             "#fb9f3a"
            ],
            [
             0.8888888888888888,
             "#fdca26"
            ],
            [
             1,
             "#f0f921"
            ]
           ],
           "sequentialminus": [
            [
             0,
             "#0d0887"
            ],
            [
             0.1111111111111111,
             "#46039f"
            ],
            [
             0.2222222222222222,
             "#7201a8"
            ],
            [
             0.3333333333333333,
             "#9c179e"
            ],
            [
             0.4444444444444444,
             "#bd3786"
            ],
            [
             0.5555555555555556,
             "#d8576b"
            ],
            [
             0.6666666666666666,
             "#ed7953"
            ],
            [
             0.7777777777777778,
             "#fb9f3a"
            ],
            [
             0.8888888888888888,
             "#fdca26"
            ],
            [
             1,
             "#f0f921"
            ]
           ]
          },
          "colorway": [
           "#636efa",
           "#EF553B",
           "#00cc96",
           "#ab63fa",
           "#FFA15A",
           "#19d3f3",
           "#FF6692",
           "#B6E880",
           "#FF97FF",
           "#FECB52"
          ],
          "font": {
           "color": "#2a3f5f"
          },
          "geo": {
           "bgcolor": "white",
           "lakecolor": "white",
           "landcolor": "#E5ECF6",
           "showlakes": true,
           "showland": true,
           "subunitcolor": "white"
          },
          "hoverlabel": {
           "align": "left"
          },
          "hovermode": "closest",
          "mapbox": {
           "style": "light"
          },
          "paper_bgcolor": "white",
          "plot_bgcolor": "#E5ECF6",
          "polar": {
           "angularaxis": {
            "gridcolor": "white",
            "linecolor": "white",
            "ticks": ""
           },
           "bgcolor": "#E5ECF6",
           "radialaxis": {
            "gridcolor": "white",
            "linecolor": "white",
            "ticks": ""
           }
          },
          "scene": {
           "xaxis": {
            "backgroundcolor": "#E5ECF6",
            "gridcolor": "white",
            "gridwidth": 2,
            "linecolor": "white",
            "showbackground": true,
            "ticks": "",
            "zerolinecolor": "white"
           },
           "yaxis": {
            "backgroundcolor": "#E5ECF6",
            "gridcolor": "white",
            "gridwidth": 2,
            "linecolor": "white",
            "showbackground": true,
            "ticks": "",
            "zerolinecolor": "white"
           },
           "zaxis": {
            "backgroundcolor": "#E5ECF6",
            "gridcolor": "white",
            "gridwidth": 2,
            "linecolor": "white",
            "showbackground": true,
            "ticks": "",
            "zerolinecolor": "white"
           }
          },
          "shapedefaults": {
           "line": {
            "color": "#2a3f5f"
           }
          },
          "ternary": {
           "aaxis": {
            "gridcolor": "white",
            "linecolor": "white",
            "ticks": ""
           },
           "baxis": {
            "gridcolor": "white",
            "linecolor": "white",
            "ticks": ""
           },
           "bgcolor": "#E5ECF6",
           "caxis": {
            "gridcolor": "white",
            "linecolor": "white",
            "ticks": ""
           }
          },
          "title": {
           "x": 0.05
          },
          "xaxis": {
           "automargin": true,
           "gridcolor": "white",
           "linecolor": "white",
           "ticks": "",
           "title": {
            "standoff": 15
           },
           "zerolinecolor": "white",
           "zerolinewidth": 2
          },
          "yaxis": {
           "automargin": true,
           "gridcolor": "white",
           "linecolor": "white",
           "ticks": "",
           "title": {
            "standoff": 15
           },
           "zerolinecolor": "white",
           "zerolinewidth": 2
          }
         }
        },
        "xaxis": {
         "anchor": "y",
         "domain": [
          0,
          1
         ],
         "title": {
          "text": "GPJ"
         }
        },
        "yaxis": {
         "anchor": "x",
         "domain": [
          0,
          1
         ],
         "title": {
          "text": "count"
         }
        }
       }
      }
     },
     "metadata": {},
     "output_type": "display_data"
    }
   ],
   "source": [
    "Meias['GPJ'] = Meias['Goals'] / Meias['MP']\n",
    "Meias.sort_values(['GPJ'], ascending = False, inplace = True)\n",
    "px.histogram(Meias.head(50), x = \"GPJ\", color = 'Player').show()"
   ]
  },
  {
   "cell_type": "code",
   "execution_count": 2010,
   "metadata": {},
   "outputs": [],
   "source": [
    "positivos = Meias['MP'] + Meias['Goals'] * 10 + Meias['Assists'] * 5 + (Meias['PasTotCmp'] / 65) + (Meias['Rec'] / Meias['MP']) +  (Meias['Recov'] / Meias['MP']) + Meias['Blocks'] + Meias['PasCmp'] + Meias['GCA'] * 3 + Meias['SCA'] * 3 + ( Meias['TklW'] / Meias['MP']) + Meias['TB'] * 3 + Meias['Sw'] * 3 + Meias['TI'] + Meias['TouDefPen'] * 3 + Meias['RecProg'] * 5\n",
    "\n",
    "negativos = Meias['Err'] * 10 + Meias['Fls'] * 6 + Meias['CrdY'] * 6 + Meias['CrdR'] * 8 + Meias['PasOff'] * 4 + Meias[\"CarDis\"] * 2"
   ]
  },
  {
   "cell_type": "code",
   "execution_count": 2011,
   "metadata": {},
   "outputs": [
    {
     "data": {
      "text/html": [
       "<div>\n",
       "<style scoped>\n",
       "    .dataframe tbody tr th:only-of-type {\n",
       "        vertical-align: middle;\n",
       "    }\n",
       "\n",
       "    .dataframe tbody tr th {\n",
       "        vertical-align: top;\n",
       "    }\n",
       "\n",
       "    .dataframe thead th {\n",
       "        text-align: right;\n",
       "    }\n",
       "</style>\n",
       "<table border=\"1\" class=\"dataframe\">\n",
       "  <thead>\n",
       "    <tr style=\"text-align: right;\">\n",
       "      <th></th>\n",
       "      <th>Player</th>\n",
       "      <th>Pos</th>\n",
       "      <th>score</th>\n",
       "    </tr>\n",
       "  </thead>\n",
       "  <tbody>\n",
       "    <tr>\n",
       "      <th>117</th>\n",
       "      <td>Antonin Bobichon</td>\n",
       "      <td>MF</td>\n",
       "      <td>342.256410</td>\n",
       "    </tr>\n",
       "    <tr>\n",
       "      <th>233</th>\n",
       "      <td>Diego Demme</td>\n",
       "      <td>MF</td>\n",
       "      <td>324.948718</td>\n",
       "    </tr>\n",
       "    <tr>\n",
       "      <th>637</th>\n",
       "      <td>Neymar</td>\n",
       "      <td>MFFW</td>\n",
       "      <td>254.306842</td>\n",
       "    </tr>\n",
       "    <tr>\n",
       "      <th>106</th>\n",
       "      <td>Jean-Claude Billong</td>\n",
       "      <td>MF</td>\n",
       "      <td>252.622308</td>\n",
       "    </tr>\n",
       "    <tr>\n",
       "      <th>592</th>\n",
       "      <td>Lionel Messi</td>\n",
       "      <td>MFFW</td>\n",
       "      <td>240.663333</td>\n",
       "    </tr>\n",
       "  </tbody>\n",
       "</table>\n",
       "</div>"
      ],
      "text/plain": [
       "                  Player   Pos       score\n",
       "117     Antonin Bobichon    MF  342.256410\n",
       "233          Diego Demme    MF  324.948718\n",
       "637               Neymar  MFFW  254.306842\n",
       "106  Jean-Claude Billong    MF  252.622308\n",
       "592         Lionel Messi  MFFW  240.663333"
      ]
     },
     "execution_count": 2011,
     "metadata": {},
     "output_type": "execute_result"
    }
   ],
   "source": [
    "Meias['score'] = positivos - negativos\n",
    "Meias.sort_values(['score'], ascending = False, inplace = True)\n",
    "Meias[['Player', 'Pos','score']].head()"
   ]
  },
  {
   "cell_type": "code",
   "execution_count": 2012,
   "metadata": {},
   "outputs": [
    {
     "data": {
      "text/html": [
       "<div>\n",
       "<style scoped>\n",
       "    .dataframe tbody tr th:only-of-type {\n",
       "        vertical-align: middle;\n",
       "    }\n",
       "\n",
       "    .dataframe tbody tr th {\n",
       "        vertical-align: top;\n",
       "    }\n",
       "\n",
       "    .dataframe thead th {\n",
       "        text-align: right;\n",
       "    }\n",
       "</style>\n",
       "<table border=\"1\" class=\"dataframe\">\n",
       "  <thead>\n",
       "    <tr style=\"text-align: right;\">\n",
       "      <th></th>\n",
       "      <th>_c0</th>\n",
       "      <th>Rk</th>\n",
       "      <th>Player</th>\n",
       "      <th>Nation</th>\n",
       "      <th>Pos</th>\n",
       "      <th>Squad</th>\n",
       "      <th>Comp</th>\n",
       "      <th>Age</th>\n",
       "      <th>Born</th>\n",
       "      <th>MP</th>\n",
       "      <th>...</th>\n",
       "      <th>TklW</th>\n",
       "      <th>PKwon</th>\n",
       "      <th>PKcon</th>\n",
       "      <th>OG</th>\n",
       "      <th>Recov</th>\n",
       "      <th>AerWon</th>\n",
       "      <th>AerLost</th>\n",
       "      <th>AerWon%</th>\n",
       "      <th>GPJ</th>\n",
       "      <th>score</th>\n",
       "    </tr>\n",
       "  </thead>\n",
       "  <tbody>\n",
       "    <tr>\n",
       "      <th>117</th>\n",
       "      <td>305</td>\n",
       "      <td>306</td>\n",
       "      <td>Antonin Bobichon</td>\n",
       "      <td>FRA</td>\n",
       "      <td>MF</td>\n",
       "      <td>Angers</td>\n",
       "      <td>Ligue 1</td>\n",
       "      <td>27</td>\n",
       "      <td>1995</td>\n",
       "      <td>3</td>\n",
       "      <td>...</td>\n",
       "      <td>0.00</td>\n",
       "      <td>0.00</td>\n",
       "      <td>0.0</td>\n",
       "      <td>0.0</td>\n",
       "      <td>10.00</td>\n",
       "      <td>0.00</td>\n",
       "      <td>5.00</td>\n",
       "      <td>0.0</td>\n",
       "      <td>0.000000</td>\n",
       "      <td>342.256410</td>\n",
       "    </tr>\n",
       "    <tr>\n",
       "      <th>233</th>\n",
       "      <td>640</td>\n",
       "      <td>641</td>\n",
       "      <td>Diego Demme</td>\n",
       "      <td>GER</td>\n",
       "      <td>MF</td>\n",
       "      <td>Napoli</td>\n",
       "      <td>Serie A</td>\n",
       "      <td>31</td>\n",
       "      <td>1991</td>\n",
       "      <td>3</td>\n",
       "      <td>...</td>\n",
       "      <td>0.00</td>\n",
       "      <td>0.00</td>\n",
       "      <td>0.0</td>\n",
       "      <td>0.0</td>\n",
       "      <td>5.00</td>\n",
       "      <td>0.00</td>\n",
       "      <td>5.00</td>\n",
       "      <td>0.0</td>\n",
       "      <td>0.000000</td>\n",
       "      <td>324.948718</td>\n",
       "    </tr>\n",
       "    <tr>\n",
       "      <th>637</th>\n",
       "      <td>1780</td>\n",
       "      <td>1781</td>\n",
       "      <td>Neymar</td>\n",
       "      <td>BRA</td>\n",
       "      <td>MFFW</td>\n",
       "      <td>Paris S-G</td>\n",
       "      <td>Ligue 1</td>\n",
       "      <td>31</td>\n",
       "      <td>1992</td>\n",
       "      <td>19</td>\n",
       "      <td>...</td>\n",
       "      <td>0.84</td>\n",
       "      <td>0.06</td>\n",
       "      <td>0.0</td>\n",
       "      <td>0.0</td>\n",
       "      <td>3.55</td>\n",
       "      <td>0.06</td>\n",
       "      <td>0.12</td>\n",
       "      <td>33.3</td>\n",
       "      <td>0.631579</td>\n",
       "      <td>254.306842</td>\n",
       "    </tr>\n",
       "    <tr>\n",
       "      <th>106</th>\n",
       "      <td>284</td>\n",
       "      <td>285</td>\n",
       "      <td>Jean-Claude Billong</td>\n",
       "      <td>CMR</td>\n",
       "      <td>MF</td>\n",
       "      <td>Clermont Foot</td>\n",
       "      <td>Ligue 1</td>\n",
       "      <td>29</td>\n",
       "      <td>1993</td>\n",
       "      <td>1</td>\n",
       "      <td>...</td>\n",
       "      <td>0.00</td>\n",
       "      <td>0.00</td>\n",
       "      <td>0.0</td>\n",
       "      <td>0.0</td>\n",
       "      <td>10.00</td>\n",
       "      <td>6.67</td>\n",
       "      <td>6.67</td>\n",
       "      <td>50.0</td>\n",
       "      <td>0.000000</td>\n",
       "      <td>252.622308</td>\n",
       "    </tr>\n",
       "    <tr>\n",
       "      <th>592</th>\n",
       "      <td>1650</td>\n",
       "      <td>1651</td>\n",
       "      <td>Lionel Messi</td>\n",
       "      <td>ARG</td>\n",
       "      <td>MFFW</td>\n",
       "      <td>Paris S-G</td>\n",
       "      <td>Ligue 1</td>\n",
       "      <td>35</td>\n",
       "      <td>1987</td>\n",
       "      <td>18</td>\n",
       "      <td>...</td>\n",
       "      <td>0.74</td>\n",
       "      <td>0.00</td>\n",
       "      <td>0.0</td>\n",
       "      <td>0.0</td>\n",
       "      <td>2.34</td>\n",
       "      <td>0.00</td>\n",
       "      <td>0.17</td>\n",
       "      <td>0.0</td>\n",
       "      <td>0.555556</td>\n",
       "      <td>240.663333</td>\n",
       "    </tr>\n",
       "    <tr>\n",
       "      <th>741</th>\n",
       "      <td>2060</td>\n",
       "      <td>2061</td>\n",
       "      <td>Jeff Reine-Ad�la�de</td>\n",
       "      <td>FRA</td>\n",
       "      <td>MF</td>\n",
       "      <td>Troyes</td>\n",
       "      <td>Ligue 1</td>\n",
       "      <td>25</td>\n",
       "      <td>1998</td>\n",
       "      <td>1</td>\n",
       "      <td>...</td>\n",
       "      <td>0.00</td>\n",
       "      <td>0.00</td>\n",
       "      <td>0.0</td>\n",
       "      <td>0.0</td>\n",
       "      <td>10.00</td>\n",
       "      <td>3.33</td>\n",
       "      <td>0.00</td>\n",
       "      <td>100.0</td>\n",
       "      <td>0.000000</td>\n",
       "      <td>239.073846</td>\n",
       "    </tr>\n",
       "    <tr>\n",
       "      <th>503</th>\n",
       "      <td>1425</td>\n",
       "      <td>1426</td>\n",
       "      <td>Ruan Levine</td>\n",
       "      <td>BRA</td>\n",
       "      <td>MF</td>\n",
       "      <td>Ajaccio</td>\n",
       "      <td>Ligue 1</td>\n",
       "      <td>24</td>\n",
       "      <td>1999</td>\n",
       "      <td>1</td>\n",
       "      <td>...</td>\n",
       "      <td>10.00</td>\n",
       "      <td>0.00</td>\n",
       "      <td>0.0</td>\n",
       "      <td>0.0</td>\n",
       "      <td>10.00</td>\n",
       "      <td>0.00</td>\n",
       "      <td>0.00</td>\n",
       "      <td>0.0</td>\n",
       "      <td>0.000000</td>\n",
       "      <td>231.461538</td>\n",
       "    </tr>\n",
       "    <tr>\n",
       "      <th>664</th>\n",
       "      <td>1865</td>\n",
       "      <td>1866</td>\n",
       "      <td>Azzedine Ounahi</td>\n",
       "      <td>MAR</td>\n",
       "      <td>MF</td>\n",
       "      <td>Marseille</td>\n",
       "      <td>Ligue 1</td>\n",
       "      <td>22</td>\n",
       "      <td>2000</td>\n",
       "      <td>3</td>\n",
       "      <td>...</td>\n",
       "      <td>0.00</td>\n",
       "      <td>0.00</td>\n",
       "      <td>0.0</td>\n",
       "      <td>0.0</td>\n",
       "      <td>10.00</td>\n",
       "      <td>0.00</td>\n",
       "      <td>2.50</td>\n",
       "      <td>0.0</td>\n",
       "      <td>0.333333</td>\n",
       "      <td>211.961538</td>\n",
       "    </tr>\n",
       "    <tr>\n",
       "      <th>683</th>\n",
       "      <td>1904</td>\n",
       "      <td>1905</td>\n",
       "      <td>Marco Pa�ali?</td>\n",
       "      <td>CRO</td>\n",
       "      <td>MF</td>\n",
       "      <td>Dortmund</td>\n",
       "      <td>Bundesliga</td>\n",
       "      <td>22</td>\n",
       "      <td>2000</td>\n",
       "      <td>1</td>\n",
       "      <td>...</td>\n",
       "      <td>0.00</td>\n",
       "      <td>0.00</td>\n",
       "      <td>0.0</td>\n",
       "      <td>0.0</td>\n",
       "      <td>20.00</td>\n",
       "      <td>0.00</td>\n",
       "      <td>0.00</td>\n",
       "      <td>0.0</td>\n",
       "      <td>0.000000</td>\n",
       "      <td>211.923077</td>\n",
       "    </tr>\n",
       "    <tr>\n",
       "      <th>204</th>\n",
       "      <td>547</td>\n",
       "      <td>548</td>\n",
       "      <td>Alessandro Cortinovis</td>\n",
       "      <td>ITA</td>\n",
       "      <td>MF</td>\n",
       "      <td>Hellas Verona</td>\n",
       "      <td>Serie A</td>\n",
       "      <td>22</td>\n",
       "      <td>2001</td>\n",
       "      <td>1</td>\n",
       "      <td>...</td>\n",
       "      <td>0.00</td>\n",
       "      <td>0.00</td>\n",
       "      <td>0.0</td>\n",
       "      <td>0.0</td>\n",
       "      <td>0.00</td>\n",
       "      <td>0.00</td>\n",
       "      <td>30.00</td>\n",
       "      <td>0.0</td>\n",
       "      <td>0.000000</td>\n",
       "      <td>211.769231</td>\n",
       "    </tr>\n",
       "  </tbody>\n",
       "</table>\n",
       "<p>10 rows × 127 columns</p>\n",
       "</div>"
      ],
      "text/plain": [
       "      _c0    Rk                 Player Nation   Pos          Squad  \\\n",
       "117   305   306       Antonin Bobichon    FRA    MF         Angers   \n",
       "233   640   641            Diego Demme    GER    MF         Napoli   \n",
       "637  1780  1781                 Neymar    BRA  MFFW      Paris S-G   \n",
       "106   284   285    Jean-Claude Billong    CMR    MF  Clermont Foot   \n",
       "592  1650  1651           Lionel Messi    ARG  MFFW      Paris S-G   \n",
       "741  2060  2061    Jeff Reine-Ad�la�de    FRA    MF         Troyes   \n",
       "503  1425  1426            Ruan Levine    BRA    MF        Ajaccio   \n",
       "664  1865  1866        Azzedine Ounahi    MAR    MF      Marseille   \n",
       "683  1904  1905          Marco Pa�ali?    CRO    MF       Dortmund   \n",
       "204   547   548  Alessandro Cortinovis    ITA    MF  Hellas Verona   \n",
       "\n",
       "           Comp  Age  Born  MP  ...   TklW  PKwon  PKcon   OG  Recov  AerWon  \\\n",
       "117     Ligue 1   27  1995   3  ...   0.00   0.00    0.0  0.0  10.00    0.00   \n",
       "233     Serie A   31  1991   3  ...   0.00   0.00    0.0  0.0   5.00    0.00   \n",
       "637     Ligue 1   31  1992  19  ...   0.84   0.06    0.0  0.0   3.55    0.06   \n",
       "106     Ligue 1   29  1993   1  ...   0.00   0.00    0.0  0.0  10.00    6.67   \n",
       "592     Ligue 1   35  1987  18  ...   0.74   0.00    0.0  0.0   2.34    0.00   \n",
       "741     Ligue 1   25  1998   1  ...   0.00   0.00    0.0  0.0  10.00    3.33   \n",
       "503     Ligue 1   24  1999   1  ...  10.00   0.00    0.0  0.0  10.00    0.00   \n",
       "664     Ligue 1   22  2000   3  ...   0.00   0.00    0.0  0.0  10.00    0.00   \n",
       "683  Bundesliga   22  2000   1  ...   0.00   0.00    0.0  0.0  20.00    0.00   \n",
       "204     Serie A   22  2001   1  ...   0.00   0.00    0.0  0.0   0.00    0.00   \n",
       "\n",
       "     AerLost  AerWon%       GPJ       score  \n",
       "117     5.00      0.0  0.000000  342.256410  \n",
       "233     5.00      0.0  0.000000  324.948718  \n",
       "637     0.12     33.3  0.631579  254.306842  \n",
       "106     6.67     50.0  0.000000  252.622308  \n",
       "592     0.17      0.0  0.555556  240.663333  \n",
       "741     0.00    100.0  0.000000  239.073846  \n",
       "503     0.00      0.0  0.000000  231.461538  \n",
       "664     2.50      0.0  0.333333  211.961538  \n",
       "683     0.00      0.0  0.000000  211.923077  \n",
       "204    30.00      0.0  0.000000  211.769231  \n",
       "\n",
       "[10 rows x 127 columns]"
      ]
     },
     "execution_count": 2012,
     "metadata": {},
     "output_type": "execute_result"
    }
   ],
   "source": [
    "Meias.head(10)"
   ]
  },
  {
   "cell_type": "code",
   "execution_count": 2013,
   "metadata": {},
   "outputs": [
    {
     "data": {
      "application/vnd.plotly.v1+json": {
       "config": {
        "plotlyServerURL": "https://plot.ly"
       },
       "data": [
        {
         "alignmentgroup": "True",
         "bingroup": "x",
         "hovertemplate": "score=%{x}<br>count=%{y}<extra></extra>",
         "legendgroup": "",
         "marker": {
          "color": "#636efa",
          "pattern": {
           "shape": ""
          }
         },
         "name": "",
         "offsetgroup": "",
         "orientation": "v",
         "showlegend": false,
         "type": "histogram",
         "x": [
          342.2564102564103,
          324.94871794871796,
          254.30684210526306,
          252.62230769230771,
          240.66333333333333,
          239.07384615384618,
          231.46153846153845,
          211.96153846153845,
          211.9230769230769,
          211.76923076923077,
          211.46153846153845,
          211.15384615384616,
          210.85307692307688,
          209.82481781376515,
          205.26923076923077,
          192.95,
          186.71545787545787,
          186.08133603238866,
          185.95384615384614,
          182.9855769230769,
          181.59975524475522,
          181.4807692307692,
          180.80873076923078,
          178.8994615384615,
          177.71461538461537,
          175.70725961538463,
          175.4671153846154,
          171.9230769230769,
          171.30769230769232,
          170.12820512820514,
          169.95688259109312,
          169.89192307692312,
          167.3311923076923,
          166.73446153846155,
          166.01538461538462,
          164.54601398601397,
          164.44907692307692,
          164.42468531468532,
          162.81402714932125,
          162.1210931174089,
          161.9230769230769,
          161.46153846153845,
          161.18186813186813,
          161.06307692307692,
          160.1141153846154,
          159.23076923076923,
          158.81000000000003,
          158.71999999999997,
          158.4863076923077,
          158.38886446886445,
          157.93542735042735,
          157.85765182186236,
          157.23663003663,
          157.15384615384616,
          156.88846153846154,
          156.53846153846155,
          154.87842105263158,
          154.78322344322345,
          154.11020979020978,
          154.02564102564102,
          153.63335664335665,
          152.8557894736842,
          152.80826923076924,
          152.76923076923077,
          152.6978137651822,
          152.65173076923077,
          152.0769230769231,
          151.6153846153846,
          150.92672064777327,
          150.41115384615387,
          150.00210526315792,
          149.3601282051282,
          148.35240384615386,
          148.02886446886447,
          147.2814285714286,
          146.76525641025637,
          146.23076923076923,
          145.97897435897437,
          145.5845,
          145.269,
          142.1313919413919,
          141.9230769230769,
          141.6153846153846,
          141.0628571428571,
          141,
          140.62,
          140.4337692307692,
          140.33846153846156,
          140.00128205128206,
          139.54311036789295,
          139.4230769230769,
          139.05108391608388,
          138.98858974358976,
          138.56139194139192,
          137.84538461538463,
          137.6363986013986,
          136.1561538461538,
          136.09291208791205,
          136.0918552036199,
          136.01326923076925,
          135.99318681318684,
          135.25853846153848,
          135.15384615384616,
          134.79428571428568,
          134.34504273504274,
          134.123547008547,
          133.33006993006995,
          133.1103296703297,
          132.8382186234818,
          132.80010489510488,
          132.42113553113555,
          132.2031730769231,
          131.8926153846154,
          131.60893772893775,
          131.30884615384616,
          130.89153846153846,
          130.70639860139858,
          130.29601398601397,
          130.2146153846154,
          130.02321070234112,
          129.99016483516482,
          129.97392712550607,
          129.38489510489512,
          128.3442307692308,
          128.3357264957265,
          128.2286234817814,
          127.30346153846153,
          127.09512820512822,
          126.92069597069597,
          126.8951282051282,
          126.70628205128206,
          126.60384615384616,
          126.37707692307688,
          126.02649572649577,
          125.95717948717947,
          125.91914979757088,
          125.04555555555555,
          125.0056108597285,
          124.47329670329673,
          124.38423076923075,
          123.83793522267204,
          123.81593406593407,
          123.47496503496502,
          123.44627530364373,
          123.04435897435897,
          122.80165384615385,
          122.66142857142859,
          121.75623076923074,
          121.73076923076923,
          121.5015811965812,
          121.15692307692308,
          121.10515837104072,
          121.01115384615386,
          120.62512820512822,
          120.52919230769228,
          120.3133653846154,
          120.231978021978,
          119.71437246963562,
          119.2843956043956,
          119.2803076923077,
          119.25289592760181,
          118.93230769230769,
          118.73323076923076,
          118.56665158371041,
          118.26653846153846,
          118.19623931623933,
          118.09589743589743,
          117.76923076923077,
          117.65092307692306,
          117.54518218623483,
          117.42820512820514,
          117.19794871794872,
          116.9945,
          116.98461538461538,
          116.62461538461538,
          116.09602564102562,
          116.03392307692307,
          116.03230769230768,
          115.9487330316742,
          115.8014358974359,
          115.6511282051282,
          115.10923076923076,
          115.05846153846153,
          115.04551282051283,
          115.02246963562753,
          114.84025641025643,
          114.40967611336032,
          114.35712820512819,
          114.07172161172161,
          114.00029914529915,
          113.86524475524476,
          113.78794871794874,
          113.76514170040487,
          113.73192307692307,
          113.53618881118882,
          113.51021978021977,
          113.50126373626372,
          113.38829059829058,
          113.16923076923077,
          112.97361538461539,
          112.87738461538463,
          112.76923076923077,
          112.6622596153846,
          112.54565384615381,
          112.52685314685316,
          112.41813186813187,
          112.41440559440557,
          112.3611355311355,
          112.32166666666669,
          112.14062937062937,
          111.79734265734265,
          111.76670940170939,
          111.46161538461538,
          111.30976588628762,
          111.3076923076923,
          111.2536842105263,
          111.04372469635625,
          110.78200854700853,
          110.652036199095,
          110.25662393162395,
          110.2,
          109.79185520361989,
          109.58076923076922,
          109.48643724696356,
          109.23538461538462,
          109.18619909502263,
          109.17131868131868,
          109.15908653846152,
          109.07650000000001,
          109.04235897435899,
          108.87326923076922,
          108.62059829059827,
          108.55384615384615,
          108.3956993006993,
          108.3482783882784,
          108.3195104895105,
          107.94461538461537,
          107.60769230769232,
          107.54788461538463,
          107.5274898785425,
          107.46882591093116,
          107.25761538461538,
          107.2129020979021,
          107.12990384615384,
          107.05968325791852,
          106.97373076923078,
          106.86299595141702,
          106.72601398601398,
          106.63503846153846,
          106.61538461538461,
          106.49337606837608,
          106.37774038461536,
          106.30048076923077,
          106.22948717948717,
          106.22081730769233,
          106.21866666666666,
          106.19138461538459,
          106.1066153846154,
          106.09897435897437,
          105.94610576923075,
          105.71016483516483,
          105.58489010989011,
          105.5769230769231,
          105.51303846153844,
          105.44753846153847,
          105.33434615384617,
          105.11207692307694,
          105.02042735042735,
          104.9053846153846,
          104.8546153846154,
          104.80628959276017,
          104.76894230769231,
          104.6965641025641,
          104.5251282051282,
          104.3138056680162,
          104.18873076923077,
          104.17251282051281,
          104.15336538461537,
          103.99497975708502,
          103.95549999999999,
          103.76923076923076,
          103.71558704453439,
          103.68788461538463,
          103.62730769230768,
          103.33871794871796,
          103.30833333333334,
          103.28904761904762,
          103.08017094017094,
          103.01057692307693,
          103.01041025641027,
          102.92430769230768,
          102.84133333333332,
          102.76081196581197,
          102.36304195804196,
          102.01800904977375,
          101.96057692307693,
          101.88171945701357,
          101.61538461538461,
          101.59815384615385,
          101.46179487179487,
          101.43153846153845,
          101.43076923076923,
          101.41346153846155,
          101.16607287449392,
          101.15384615384616,
          101.02076923076922,
          100.87826923076923,
          100.80483516483517,
          100.8020512820513,
          100.72797202797206,
          100.67990950226242,
          100.63337606837608,
          100.62056680161942,
          100.42298642533936,
          100.28615384615384,
          100.26891402714931,
          100.24123076923078,
          100.11271794871794,
          100.05192307692309,
          99.96369230769233,
          99.78120879120878,
          99.64738461538461,
          99.64615384615385,
          99.47057692307693,
          99.23076923076923,
          99.05474358974358,
          99.00956043956045,
          99.00352564102563,
          98.95476923076922,
          98.87119658119659,
          98.62391941391941,
          98.49237762237763,
          98.44480769230769,
          98.33333333333334,
          98.3111740890688,
          98.2038866396761,
          98.19762237762237,
          98.19061538461538,
          97.99171945701357,
          97.94393162393162,
          97.86673076923076,
          97.82097435897437,
          97.74880769230771,
          97.61115384615383,
          97.53584615384614,
          97.47200000000001,
          97.45623076923077,
          97.44889423076924,
          97.2035576923077,
          97.1983076923077,
          97.08957264957264,
          97.04399267399268,
          97.0392735042735,
          96.87295546558705,
          96.83423076923077,
          96.75115384615387,
          96.56207692307692,
          96.45248251748254,
          96.05445344129555,
          95.97369230769232,
          95.95388663967611,
          95.93500000000002,
          95.8923076923077,
          95.81807692307692,
          95.78846153846155,
          95.78461538461539,
          95.7603846153846,
          95.67692307692307,
          95.52673076923077,
          95.4853846153846,
          95.40368131868132,
          95.37899038461538,
          95.16153846153847,
          95.12854700854702,
          95.12161943319839,
          95.08430069930068,
          95.04391025641026,
          95.04341880341883,
          94.79866666666669,
          94.77384615384615,
          94.65989743589746,
          94.53210702341138,
          94.52192307692309,
          94.45389423076925,
          94.4202564102564,
          94.37474358974357,
          94.23980769230769,
          94.05846153846154,
          93.89158653846155,
          93.86974358974356,
          93.84923076923076,
          93.7278947368421,
          93.66153846153847,
          93.64286713286714,
          93.43846153846154,
          93.2596923076923,
          93.18234817813764,
          93.13216346153847,
          93.03517482517483,
          92.88106837606836,
          92.86153846153846,
          92.84303167420813,
          92.68392307692308,
          92.66802197802198,
          92.6497863247863,
          92.61833333333334,
          92.57473684210527,
          92.13257692307694,
          91.91062937062935,
          91.80341880341881,
          91.74238461538461,
          91.6246153846154,
          91.61646153846155,
          91.60710407239819,
          91.56941176470588,
          91.3076923076923,
          91.292,
          91.24205128205128,
          91.1557142857143,
          90.91615384615383,
          90.90991902834007,
          90.74940170940171,
          90.74631868131867,
          90.58615384615383,
          90.56666666666666,
          90.54782051282052,
          90.52968325791855,
          90.49230769230769,
          90.42876923076923,
          90.41390109890112,
          90.37173076923077,
          90.32548076923077,
          90.2051282051282,
          89.99230769230769,
          89.83747863247862,
          89.81717948717947,
          89.61150000000002,
          89.57965811965812,
          89.52769230769229,
          89.5237062937063,
          89.49701923076923,
          89.39410256410255,
          89.04423076923078,
          88.92307692307692,
          88.86461538461538,
          88.78342307692306,
          88.52423076923077,
          88.48303167420815,
          88.38153846153847,
          88.26542307692308,
          88.25811965811968,
          88.17685314685316,
          88.16198380566802,
          88.06338461538462,
          88.0425480769231,
          88.03681318681319,
          87.98626373626374,
          87.93397435897437,
          87.86315789473686,
          87.76412587412585,
          87.72014652014653,
          87.37416666666667,
          87.31623931623932,
          86.99253393665161,
          86.87948717948719,
          86.78696153846154,
          86.59487179487179,
          86.57522267206474,
          86.56364372469635,
          86.47226495726495,
          86.4379487179487,
          86.39769230769231,
          86.17333333333332,
          86.07846153846154,
          86.0065034965035,
          85.99599190283404,
          85.96576923076924,
          85.90242307692306,
          85.89886877828056,
          85.88596153846154,
          85.82591346153845,
          85.82076923076922,
          85.69085470085471,
          85.5751923076923,
          85.55587912087914,
          85.47903010033447,
          85.38131221719455,
          85.35252747252747,
          85.16410256410256,
          85.09119658119657,
          84.96153846153845,
          84.91358974358975,
          84.8873076923077,
          84.84170329670329,
          84.82046153846153,
          84.80220512820513,
          84.64321266968327,
          84.43971659919028,
          84.376993006993,
          84.33346153846153,
          84.18923076923076,
          84.16774725274726,
          84.03846153846155,
          83.99138461538462,
          83.9380769230769,
          83.93241758241757,
          83.79353846153847,
          83.76615384615386,
          83.74102564102564,
          83.72307692307692,
          83.58341346153848,
          83.25307692307692,
          82.95897435897434,
          82.93797570850201,
          82.84615384615384,
          82.79080769230767,
          82.73333333333333,
          82.59713286713287,
          82.46072874493927,
          82.4228021978022,
          82.1746153846154,
          81.84945054945054,
          81.76923076923077,
          81.61538461538461,
          81.5798717948718,
          81.44373626373627,
          81.37401709401709,
          81.25523076923079,
          81.01524038461537,
          80.9941346153846,
          80.92534188034188,
          80.76356643356644,
          80.72799145299143,
          80.72793522267207,
          80.63730769230767,
          80.62769230769231,
          80.44866396761132,
          80.37923076923077,
          80.37447115384616,
          80.36666666666667,
          80.22748987854251,
          80.22394871794874,
          80.19868131868132,
          80.07903846153845,
          79.99230769230769,
          79.95551282051281,
          79.93423076923077,
          79.73716599190283,
          79.72523076923076,
          79.72384615384615,
          79.4455244755245,
          79.39111538461539,
          79.3425641025641,
          79.15591346153843,
          79.10946153846152,
          78.84097902097902,
          78.81959514170042,
          78.55696832579187,
          78.53895104895106,
          78.46084615384615,
          78.40384615384616,
          78.34815384615385,
          78.34794871794873,
          78.34257692307693,
          78.25615384615385,
          78.1010859728507,
          77.80580419580421,
          77.745625,
          77.72149321266969,
          77.6676923076923,
          77.57850678733031,
          77.52679487179486,
          77.51478632478631,
          77.3076923076923,
          77.22927350427352,
          76.98706959706959,
          76.94260683760685,
          76.90746153846153,
          76.75676923076922,
          76.69333333333331,
          76.58394871794872,
          76.46934065934067,
          76.22961538461539,
          76.21290598290598,
          76.12307692307692,
          76.09160839160839,
          76.06947115384614,
          75.86076923076922,
          75.81891402714933,
          75.77188034188032,
          75.76076923076923,
          75.67897435897436,
          75.54564102564103,
          75.44415384615384,
          75.34338461538462,
          75.3076923076923,
          75.29211538461539,
          75.28140271493213,
          75.20171945701355,
          75.12967032967032,
          75.02874999999999,
          75.02288461538463,
          74.99797202797203,
          74.88115384615386,
          74.83169230769231,
          74.67405594405594,
          74.63615384615386,
          74.61741258741259,
          74.50764102564104,
          74.44021978021976,
          74.3831174089069,
          74.3605769230769,
          74.04307692307692,
          73.96153846153845,
          73.76282051282053,
          73.76125874125873,
          73.66276923076923,
          73.57326923076923,
          73.54093117408908,
          73.50300699300699,
          73.3909090909091,
          73.3773076923077,
          73.3762393162393,
          73.19529914529915,
          73.07138461538463,
          73.06725274725275,
          73.00561538461538,
          72.95348416289593,
          72.86452991452991,
          72.84361990950225,
          72.76225274725275,
          72.66625641025641,
          72.63149797570851,
          72.62692307692306,
          72.5372222222222,
          72.51230769230769,
          72.48937500000001,
          72.42604395604396,
          72.24312499999999,
          72.18961538461538,
          72.0328205128205,
          71.98732793522267,
          71.91430069930068,
          71.88490384615385,
          71.88461538461539,
          71.8276923076923,
          71.71700854700855,
          71.68457489878541,
          71.65461538461538,
          71.63286713286712,
          71.62520146520149,
          71.5913076923077,
          71.55692307692307,
          71.45692307692308,
          71.39136752136751,
          71.3899230769231,
          71.36076923076924,
          71.3076923076923,
          71.28776223776225,
          71.24454545454547,
          71.23076923076923,
          71.155,
          71.15384615384616,
          71.07858974358975,
          70.99070512820514,
          70.97331983805667,
          70.95822115384615,
          70.74855769230768,
          70.73517094017095,
          70.71533333333335,
          70.701,
          70.67076923076922,
          70.53862348178137,
          70.35557692307694,
          70.30437246963565,
          70.11538461538461,
          70.01220512820514,
          69.528141025641,
          69.3452097902098,
          69.24650349650351,
          69.0863675213675,
          69.01061538461538,
          69.00364102564103,
          69.00134615384616,
          68.87192307692308,
          68.74811538461537,
          68.73395604395604,
          68.62628205128205,
          68.56682692307692,
          68.43705882352941,
          68.30025641025642,
          68.26715384615383,
          68.1814932126697,
          68.06060728744939,
          67.88951417004048,
          67.67923076923077,
          67.60685897435897,
          67.59841025641025,
          67.45,
          67.44461538461539,
          67.42717948717947,
          67.3982051282051,
          67.25846153846152,
          67.0898076923077,
          66.94736263736263,
          66.77867132867132,
          66.74865384615384,
          66.7105,
          66.50017094017095,
          66.1923076923077,
          66.15032967032967,
          66.13384615384615,
          66.08858299595143,
          66.05776223776225,
          66.05384615384615,
          66.02250000000001,
          65.97942307692308,
          65.76615384615386,
          65.58897435897435,
          65.50570512820512,
          65.27692307692308,
          65.1148717948718,
          65.10923076923076,
          65.08365384615385,
          65.03252747252745,
          64.82000000000001,
          64.81980769230769,
          64.81592307692307,
          64.81303418803421,
          64.63574898785426,
          64.43426573426574,
          64.26145299145298,
          64.22512820512821,
          64.22282051282053,
          64.18307692307692,
          64.15553846153847,
          63.89476923076922,
          63.889692307692314,
          63.8598076923077,
          63.797820512820515,
          63.77333333333333,
          63.76884615384614,
          63.581250000000004,
          63.51461538461538,
          63.50437500000001,
          63.326373626373616,
          63.26376923076922,
          63.08230769230768,
          63.08020242914981,
          63.07546153846154,
          62.973547008547,
          62.922,
          62.59307692307691,
          62.555846153846154,
          62.314615384615394,
          62.087828054298654,
          62.07538461538459,
          62.07174825174825,
          62.013846153846146,
          61.95570135746606,
          61.85837606837606,
          61.72453846153846,
          61.655897435897444,
          61.56730769230769,
          61.53846153846155,
          61.50190045248869,
          61.420384615384606,
          61.3189230769231,
          61.30769230769231,
          61.26098901098902,
          61.241538461538454,
          61.03964102564103,
          61,
          60.99111888111887,
          60.91923076923078,
          60.88230769230769,
          60.833566433566425,
          60.75774038461539,
          60.6426923076923,
          60.42598901098901,
          60.40485829959513,
          60.398547008547,
          60.28004807692306,
          60.27942307692308,
          60.2246794871795,
          60.22055944055944,
          60.11619230769231,
          60.10846153846154,
          60.08999999999999,
          60.06353846153847,
          59.96153846153845,
          59.94615384615384,
          59.64615384615385,
          59.594871794871814,
          59.42153846153845,
          59.14256410256411,
          59.094780219780226,
          58.850109890109884,
          58.80923076923078,
          58.772527472527486,
          58.539300699300696,
          58.44722222222222,
          58.26784615384615,
          57.895734265734255,
          57.63418803418803,
          57.56476923076922,
          57.34778280542987,
          57.22246153846154,
          57.02634615384615,
          57.024358974358975,
          56.98471794871794,
          56.974615384615376,
          56.966666666666654,
          56.74879120879122,
          56.713615384615395,
          56.31215384615385,
          56.13319838056681,
          56.108846153846144,
          56.022747252747244,
          55.94791208791208,
          55.83553846153846,
          55.71943589743591,
          55.713846153846156,
          55.70923076923074,
          55.68384615384615,
          55.370000000000005,
          55.26772893772894,
          55.2473076923077,
          55.17307692307692,
          55.03210526315789,
          54.815384615384616,
          54.65538461538461,
          54.45051282051283,
          54.36246153846153,
          54.06538461538462,
          53.821615384615384,
          53.809538461538466,
          53.62288461538463,
          53.448076923076925,
          53.36923076923077,
          53.12365384615384,
          52.9625641025641,
          52.87846153846154,
          52.83169230769231,
          52.814230769230775,
          52.8085067873303,
          52.52889423076925,
          52.50895104895106,
          52.18965811965813,
          51.53230769230769,
          51.44923076923078,
          51.37653846153847,
          51.30769230769231,
          51.30769230769231,
          51.178782051282056,
          51.01846153846153,
          50.628538461538454,
          50.617999999999995,
          50.59134615384615,
          50.372461538461536,
          50.36769230769231,
          50.19587412587413,
          50.07061538461539,
          49.92326923076922,
          49.90097165991903,
          49.48000000000002,
          49.40076923076923,
          49.39412587412587,
          49.25021978021978,
          49.243269230769236,
          49.23102564102564,
          49.17879120879121,
          49.135555555555555,
          48.66521367521368,
          48.660054945054945,
          48.55333333333333,
          48.53184615384616,
          48.32391608391609,
          48.22317948717951,
          47.98692307692308,
          47.91033653846154,
          47.883706293706304,
          47.689615384615394,
          46.91538461538461,
          46.91320512820512,
          46.70019230769229,
          46.38584615384615,
          46.374102564102564,
          46.24570512820513,
          46.225538461538456,
          46.174017094017096,
          46.15897435897436,
          45.96269230769231,
          45.87428571428572,
          45.778,
          45.46692307692309,
          45.32274038461538,
          45.081999999999994,
          44.92692307692307,
          44.53846153846154,
          44.51846153846154,
          44.24371794871796,
          44.15461538461538,
          43.762692307692305,
          43.17008097165992,
          42.940384615384616,
          42.71538461538462,
          42.30769230769231,
          42.13749999999999,
          41.15384615384616,
          40.94012820512821,
          40.86049773755657,
          40.51923076923078,
          40.50211538461538,
          40.331538461538464,
          39.66505494505494,
          39.58153846153846,
          39.23120879120879,
          39.06175824175824,
          38.26230769230769,
          37.58171945701358,
          37.30769230769231,
          36.27384615384615,
          35.480769230769226,
          35.2201923076923,
          34.57076923076922,
          33.276923076923076,
          32.30769230769231,
          31.174423076923077,
          31.153846153846153,
          30.95192307692308,
          28.480989010989006,
          27.46769230769231,
          27.060769230769232,
          26.153846153846153,
          26.128153846153847,
          25.15384615384616,
          24.55384615384616,
          24.014285714285712,
          21.138461538461538,
          20.506307692307693,
          20.169230769230765,
          20.06153846153846,
          20.020384615384614,
          19.54813186813187,
          19.11384615384615,
          15.046153846153846,
          14.607692307692304,
          13.134615384615387,
          11,
          8.015384615384615,
          7.338461538461537,
          6.030769230769231,
          5.030769230769231,
          5.030769230769231,
          5.030769230769231,
          5.015384615384615,
          4.015384615384615,
          4.015384615384615,
          4.015384615384615,
          3.0153846153846153,
          3.0153846153846153,
          3,
          1.0307692307692307,
          1,
          1,
          1,
          1,
          1,
          0.22875000000000156,
          -1.2687692307692302,
          -7.846153846153847,
          -17.538461538461547,
          -32.88461538461539,
          -37.69230769230769,
          -43.92307692307692,
          -49,
          -68.6923076923077,
          -88.84615384615384
         ],
         "xaxis": "x",
         "yaxis": "y"
        }
       ],
       "layout": {
        "barmode": "relative",
        "legend": {
         "tracegroupgap": 0
        },
        "margin": {
         "t": 60
        },
        "template": {
         "data": {
          "bar": [
           {
            "error_x": {
             "color": "#2a3f5f"
            },
            "error_y": {
             "color": "#2a3f5f"
            },
            "marker": {
             "line": {
              "color": "#E5ECF6",
              "width": 0.5
             },
             "pattern": {
              "fillmode": "overlay",
              "size": 10,
              "solidity": 0.2
             }
            },
            "type": "bar"
           }
          ],
          "barpolar": [
           {
            "marker": {
             "line": {
              "color": "#E5ECF6",
              "width": 0.5
             },
             "pattern": {
              "fillmode": "overlay",
              "size": 10,
              "solidity": 0.2
             }
            },
            "type": "barpolar"
           }
          ],
          "carpet": [
           {
            "aaxis": {
             "endlinecolor": "#2a3f5f",
             "gridcolor": "white",
             "linecolor": "white",
             "minorgridcolor": "white",
             "startlinecolor": "#2a3f5f"
            },
            "baxis": {
             "endlinecolor": "#2a3f5f",
             "gridcolor": "white",
             "linecolor": "white",
             "minorgridcolor": "white",
             "startlinecolor": "#2a3f5f"
            },
            "type": "carpet"
           }
          ],
          "choropleth": [
           {
            "colorbar": {
             "outlinewidth": 0,
             "ticks": ""
            },
            "type": "choropleth"
           }
          ],
          "contour": [
           {
            "colorbar": {
             "outlinewidth": 0,
             "ticks": ""
            },
            "colorscale": [
             [
              0,
              "#0d0887"
             ],
             [
              0.1111111111111111,
              "#46039f"
             ],
             [
              0.2222222222222222,
              "#7201a8"
             ],
             [
              0.3333333333333333,
              "#9c179e"
             ],
             [
              0.4444444444444444,
              "#bd3786"
             ],
             [
              0.5555555555555556,
              "#d8576b"
             ],
             [
              0.6666666666666666,
              "#ed7953"
             ],
             [
              0.7777777777777778,
              "#fb9f3a"
             ],
             [
              0.8888888888888888,
              "#fdca26"
             ],
             [
              1,
              "#f0f921"
             ]
            ],
            "type": "contour"
           }
          ],
          "contourcarpet": [
           {
            "colorbar": {
             "outlinewidth": 0,
             "ticks": ""
            },
            "type": "contourcarpet"
           }
          ],
          "heatmap": [
           {
            "colorbar": {
             "outlinewidth": 0,
             "ticks": ""
            },
            "colorscale": [
             [
              0,
              "#0d0887"
             ],
             [
              0.1111111111111111,
              "#46039f"
             ],
             [
              0.2222222222222222,
              "#7201a8"
             ],
             [
              0.3333333333333333,
              "#9c179e"
             ],
             [
              0.4444444444444444,
              "#bd3786"
             ],
             [
              0.5555555555555556,
              "#d8576b"
             ],
             [
              0.6666666666666666,
              "#ed7953"
             ],
             [
              0.7777777777777778,
              "#fb9f3a"
             ],
             [
              0.8888888888888888,
              "#fdca26"
             ],
             [
              1,
              "#f0f921"
             ]
            ],
            "type": "heatmap"
           }
          ],
          "heatmapgl": [
           {
            "colorbar": {
             "outlinewidth": 0,
             "ticks": ""
            },
            "colorscale": [
             [
              0,
              "#0d0887"
             ],
             [
              0.1111111111111111,
              "#46039f"
             ],
             [
              0.2222222222222222,
              "#7201a8"
             ],
             [
              0.3333333333333333,
              "#9c179e"
             ],
             [
              0.4444444444444444,
              "#bd3786"
             ],
             [
              0.5555555555555556,
              "#d8576b"
             ],
             [
              0.6666666666666666,
              "#ed7953"
             ],
             [
              0.7777777777777778,
              "#fb9f3a"
             ],
             [
              0.8888888888888888,
              "#fdca26"
             ],
             [
              1,
              "#f0f921"
             ]
            ],
            "type": "heatmapgl"
           }
          ],
          "histogram": [
           {
            "marker": {
             "pattern": {
              "fillmode": "overlay",
              "size": 10,
              "solidity": 0.2
             }
            },
            "type": "histogram"
           }
          ],
          "histogram2d": [
           {
            "colorbar": {
             "outlinewidth": 0,
             "ticks": ""
            },
            "colorscale": [
             [
              0,
              "#0d0887"
             ],
             [
              0.1111111111111111,
              "#46039f"
             ],
             [
              0.2222222222222222,
              "#7201a8"
             ],
             [
              0.3333333333333333,
              "#9c179e"
             ],
             [
              0.4444444444444444,
              "#bd3786"
             ],
             [
              0.5555555555555556,
              "#d8576b"
             ],
             [
              0.6666666666666666,
              "#ed7953"
             ],
             [
              0.7777777777777778,
              "#fb9f3a"
             ],
             [
              0.8888888888888888,
              "#fdca26"
             ],
             [
              1,
              "#f0f921"
             ]
            ],
            "type": "histogram2d"
           }
          ],
          "histogram2dcontour": [
           {
            "colorbar": {
             "outlinewidth": 0,
             "ticks": ""
            },
            "colorscale": [
             [
              0,
              "#0d0887"
             ],
             [
              0.1111111111111111,
              "#46039f"
             ],
             [
              0.2222222222222222,
              "#7201a8"
             ],
             [
              0.3333333333333333,
              "#9c179e"
             ],
             [
              0.4444444444444444,
              "#bd3786"
             ],
             [
              0.5555555555555556,
              "#d8576b"
             ],
             [
              0.6666666666666666,
              "#ed7953"
             ],
             [
              0.7777777777777778,
              "#fb9f3a"
             ],
             [
              0.8888888888888888,
              "#fdca26"
             ],
             [
              1,
              "#f0f921"
             ]
            ],
            "type": "histogram2dcontour"
           }
          ],
          "mesh3d": [
           {
            "colorbar": {
             "outlinewidth": 0,
             "ticks": ""
            },
            "type": "mesh3d"
           }
          ],
          "parcoords": [
           {
            "line": {
             "colorbar": {
              "outlinewidth": 0,
              "ticks": ""
             }
            },
            "type": "parcoords"
           }
          ],
          "pie": [
           {
            "automargin": true,
            "type": "pie"
           }
          ],
          "scatter": [
           {
            "fillpattern": {
             "fillmode": "overlay",
             "size": 10,
             "solidity": 0.2
            },
            "type": "scatter"
           }
          ],
          "scatter3d": [
           {
            "line": {
             "colorbar": {
              "outlinewidth": 0,
              "ticks": ""
             }
            },
            "marker": {
             "colorbar": {
              "outlinewidth": 0,
              "ticks": ""
             }
            },
            "type": "scatter3d"
           }
          ],
          "scattercarpet": [
           {
            "marker": {
             "colorbar": {
              "outlinewidth": 0,
              "ticks": ""
             }
            },
            "type": "scattercarpet"
           }
          ],
          "scattergeo": [
           {
            "marker": {
             "colorbar": {
              "outlinewidth": 0,
              "ticks": ""
             }
            },
            "type": "scattergeo"
           }
          ],
          "scattergl": [
           {
            "marker": {
             "colorbar": {
              "outlinewidth": 0,
              "ticks": ""
             }
            },
            "type": "scattergl"
           }
          ],
          "scattermapbox": [
           {
            "marker": {
             "colorbar": {
              "outlinewidth": 0,
              "ticks": ""
             }
            },
            "type": "scattermapbox"
           }
          ],
          "scatterpolar": [
           {
            "marker": {
             "colorbar": {
              "outlinewidth": 0,
              "ticks": ""
             }
            },
            "type": "scatterpolar"
           }
          ],
          "scatterpolargl": [
           {
            "marker": {
             "colorbar": {
              "outlinewidth": 0,
              "ticks": ""
             }
            },
            "type": "scatterpolargl"
           }
          ],
          "scatterternary": [
           {
            "marker": {
             "colorbar": {
              "outlinewidth": 0,
              "ticks": ""
             }
            },
            "type": "scatterternary"
           }
          ],
          "surface": [
           {
            "colorbar": {
             "outlinewidth": 0,
             "ticks": ""
            },
            "colorscale": [
             [
              0,
              "#0d0887"
             ],
             [
              0.1111111111111111,
              "#46039f"
             ],
             [
              0.2222222222222222,
              "#7201a8"
             ],
             [
              0.3333333333333333,
              "#9c179e"
             ],
             [
              0.4444444444444444,
              "#bd3786"
             ],
             [
              0.5555555555555556,
              "#d8576b"
             ],
             [
              0.6666666666666666,
              "#ed7953"
             ],
             [
              0.7777777777777778,
              "#fb9f3a"
             ],
             [
              0.8888888888888888,
              "#fdca26"
             ],
             [
              1,
              "#f0f921"
             ]
            ],
            "type": "surface"
           }
          ],
          "table": [
           {
            "cells": {
             "fill": {
              "color": "#EBF0F8"
             },
             "line": {
              "color": "white"
             }
            },
            "header": {
             "fill": {
              "color": "#C8D4E3"
             },
             "line": {
              "color": "white"
             }
            },
            "type": "table"
           }
          ]
         },
         "layout": {
          "annotationdefaults": {
           "arrowcolor": "#2a3f5f",
           "arrowhead": 0,
           "arrowwidth": 1
          },
          "autotypenumbers": "strict",
          "coloraxis": {
           "colorbar": {
            "outlinewidth": 0,
            "ticks": ""
           }
          },
          "colorscale": {
           "diverging": [
            [
             0,
             "#8e0152"
            ],
            [
             0.1,
             "#c51b7d"
            ],
            [
             0.2,
             "#de77ae"
            ],
            [
             0.3,
             "#f1b6da"
            ],
            [
             0.4,
             "#fde0ef"
            ],
            [
             0.5,
             "#f7f7f7"
            ],
            [
             0.6,
             "#e6f5d0"
            ],
            [
             0.7,
             "#b8e186"
            ],
            [
             0.8,
             "#7fbc41"
            ],
            [
             0.9,
             "#4d9221"
            ],
            [
             1,
             "#276419"
            ]
           ],
           "sequential": [
            [
             0,
             "#0d0887"
            ],
            [
             0.1111111111111111,
             "#46039f"
            ],
            [
             0.2222222222222222,
             "#7201a8"
            ],
            [
             0.3333333333333333,
             "#9c179e"
            ],
            [
             0.4444444444444444,
             "#bd3786"
            ],
            [
             0.5555555555555556,
             "#d8576b"
            ],
            [
             0.6666666666666666,
             "#ed7953"
            ],
            [
             0.7777777777777778,
             "#fb9f3a"
            ],
            [
             0.8888888888888888,
             "#fdca26"
            ],
            [
             1,
             "#f0f921"
            ]
           ],
           "sequentialminus": [
            [
             0,
             "#0d0887"
            ],
            [
             0.1111111111111111,
             "#46039f"
            ],
            [
             0.2222222222222222,
             "#7201a8"
            ],
            [
             0.3333333333333333,
             "#9c179e"
            ],
            [
             0.4444444444444444,
             "#bd3786"
            ],
            [
             0.5555555555555556,
             "#d8576b"
            ],
            [
             0.6666666666666666,
             "#ed7953"
            ],
            [
             0.7777777777777778,
             "#fb9f3a"
            ],
            [
             0.8888888888888888,
             "#fdca26"
            ],
            [
             1,
             "#f0f921"
            ]
           ]
          },
          "colorway": [
           "#636efa",
           "#EF553B",
           "#00cc96",
           "#ab63fa",
           "#FFA15A",
           "#19d3f3",
           "#FF6692",
           "#B6E880",
           "#FF97FF",
           "#FECB52"
          ],
          "font": {
           "color": "#2a3f5f"
          },
          "geo": {
           "bgcolor": "white",
           "lakecolor": "white",
           "landcolor": "#E5ECF6",
           "showlakes": true,
           "showland": true,
           "subunitcolor": "white"
          },
          "hoverlabel": {
           "align": "left"
          },
          "hovermode": "closest",
          "mapbox": {
           "style": "light"
          },
          "paper_bgcolor": "white",
          "plot_bgcolor": "#E5ECF6",
          "polar": {
           "angularaxis": {
            "gridcolor": "white",
            "linecolor": "white",
            "ticks": ""
           },
           "bgcolor": "#E5ECF6",
           "radialaxis": {
            "gridcolor": "white",
            "linecolor": "white",
            "ticks": ""
           }
          },
          "scene": {
           "xaxis": {
            "backgroundcolor": "#E5ECF6",
            "gridcolor": "white",
            "gridwidth": 2,
            "linecolor": "white",
            "showbackground": true,
            "ticks": "",
            "zerolinecolor": "white"
           },
           "yaxis": {
            "backgroundcolor": "#E5ECF6",
            "gridcolor": "white",
            "gridwidth": 2,
            "linecolor": "white",
            "showbackground": true,
            "ticks": "",
            "zerolinecolor": "white"
           },
           "zaxis": {
            "backgroundcolor": "#E5ECF6",
            "gridcolor": "white",
            "gridwidth": 2,
            "linecolor": "white",
            "showbackground": true,
            "ticks": "",
            "zerolinecolor": "white"
           }
          },
          "shapedefaults": {
           "line": {
            "color": "#2a3f5f"
           }
          },
          "ternary": {
           "aaxis": {
            "gridcolor": "white",
            "linecolor": "white",
            "ticks": ""
           },
           "baxis": {
            "gridcolor": "white",
            "linecolor": "white",
            "ticks": ""
           },
           "bgcolor": "#E5ECF6",
           "caxis": {
            "gridcolor": "white",
            "linecolor": "white",
            "ticks": ""
           }
          },
          "title": {
           "x": 0.05
          },
          "xaxis": {
           "automargin": true,
           "gridcolor": "white",
           "linecolor": "white",
           "ticks": "",
           "title": {
            "standoff": 15
           },
           "zerolinecolor": "white",
           "zerolinewidth": 2
          },
          "yaxis": {
           "automargin": true,
           "gridcolor": "white",
           "linecolor": "white",
           "ticks": "",
           "title": {
            "standoff": 15
           },
           "zerolinecolor": "white",
           "zerolinewidth": 2
          }
         }
        },
        "xaxis": {
         "anchor": "y",
         "domain": [
          0,
          1
         ],
         "title": {
          "text": "score"
         }
        },
        "yaxis": {
         "anchor": "x",
         "domain": [
          0,
          1
         ],
         "title": {
          "text": "count"
         }
        }
       }
      }
     },
     "metadata": {},
     "output_type": "display_data"
    }
   ],
   "source": [
    "px.histogram(Meias, x='score').show()"
   ]
  },
  {
   "cell_type": "code",
   "execution_count": 2014,
   "metadata": {},
   "outputs": [
    {
     "name": "stdout",
     "output_type": "stream",
     "text": [
      "desvio de 40.87562188144174\n",
      "media de 88.13551327172098\n"
     ]
    }
   ],
   "source": [
    "dev = Meias['score'].std()\n",
    "media = Meias['score'].mean()\n",
    "print(f'desvio de {dev}\\nmedia de {media}')"
   ]
  },
  {
   "cell_type": "code",
   "execution_count": 2015,
   "metadata": {},
   "outputs": [],
   "source": [
    "bom = media + dev * 2\n",
    "normal = media  + dev\n",
    "fraco = media - dev\n",
    "muito_fraco = media - dev * 2"
   ]
  },
  {
   "cell_type": "code",
   "execution_count": 2016,
   "metadata": {},
   "outputs": [],
   "source": [
    "def assign_score(score):\n",
    "    if score > bom:\n",
    "        return 'Excelente'\n",
    "    elif score > normal:\n",
    "        return 'Bom'\n",
    "    elif score > fraco:\n",
    "        return 'Mediano'\n",
    "    elif score > muito_fraco:\n",
    "        return 'Ruim'\n",
    "    else:\n",
    "        return 'Pessimo'"
   ]
  },
  {
   "cell_type": "code",
   "execution_count": 2017,
   "metadata": {},
   "outputs": [],
   "source": [
    "Meias['Desempenho'] = Meias['score'].apply(assign_score)"
   ]
  },
  {
   "cell_type": "code",
   "execution_count": 2018,
   "metadata": {},
   "outputs": [
    {
     "data": {
      "application/vnd.plotly.v1+json": {
       "config": {
        "plotlyServerURL": "https://plot.ly"
       },
       "data": [
        {
         "alignmentgroup": "True",
         "bingroup": "x",
         "hovertemplate": "Desempenho=%{x}<br>count=%{y}<extra></extra>",
         "legendgroup": "",
         "marker": {
          "color": "#636efa",
          "pattern": {
           "shape": ""
          }
         },
         "name": "",
         "offsetgroup": "",
         "orientation": "v",
         "showlegend": false,
         "type": "histogram",
         "x": [
          "Excelente",
          "Excelente",
          "Excelente",
          "Excelente",
          "Excelente",
          "Excelente",
          "Excelente",
          "Excelente",
          "Excelente",
          "Excelente",
          "Excelente",
          "Excelente",
          "Excelente",
          "Excelente",
          "Excelente",
          "Excelente",
          "Excelente",
          "Excelente",
          "Excelente",
          "Excelente",
          "Excelente",
          "Excelente",
          "Excelente",
          "Excelente",
          "Excelente",
          "Excelente",
          "Excelente",
          "Excelente",
          "Excelente",
          "Excelente",
          "Excelente",
          "Excelente",
          "Bom",
          "Bom",
          "Bom",
          "Bom",
          "Bom",
          "Bom",
          "Bom",
          "Bom",
          "Bom",
          "Bom",
          "Bom",
          "Bom",
          "Bom",
          "Bom",
          "Bom",
          "Bom",
          "Bom",
          "Bom",
          "Bom",
          "Bom",
          "Bom",
          "Bom",
          "Bom",
          "Bom",
          "Bom",
          "Bom",
          "Bom",
          "Bom",
          "Bom",
          "Bom",
          "Bom",
          "Bom",
          "Bom",
          "Bom",
          "Bom",
          "Bom",
          "Bom",
          "Bom",
          "Bom",
          "Bom",
          "Bom",
          "Bom",
          "Bom",
          "Bom",
          "Bom",
          "Bom",
          "Bom",
          "Bom",
          "Bom",
          "Bom",
          "Bom",
          "Bom",
          "Bom",
          "Bom",
          "Bom",
          "Bom",
          "Bom",
          "Bom",
          "Bom",
          "Bom",
          "Bom",
          "Bom",
          "Bom",
          "Bom",
          "Bom",
          "Bom",
          "Bom",
          "Bom",
          "Bom",
          "Bom",
          "Bom",
          "Bom",
          "Bom",
          "Bom",
          "Bom",
          "Bom",
          "Bom",
          "Bom",
          "Bom",
          "Bom",
          "Bom",
          "Bom",
          "Bom",
          "Bom",
          "Bom",
          "Bom",
          "Bom",
          "Bom",
          "Bom",
          "Bom",
          "Bom",
          "Mediano",
          "Mediano",
          "Mediano",
          "Mediano",
          "Mediano",
          "Mediano",
          "Mediano",
          "Mediano",
          "Mediano",
          "Mediano",
          "Mediano",
          "Mediano",
          "Mediano",
          "Mediano",
          "Mediano",
          "Mediano",
          "Mediano",
          "Mediano",
          "Mediano",
          "Mediano",
          "Mediano",
          "Mediano",
          "Mediano",
          "Mediano",
          "Mediano",
          "Mediano",
          "Mediano",
          "Mediano",
          "Mediano",
          "Mediano",
          "Mediano",
          "Mediano",
          "Mediano",
          "Mediano",
          "Mediano",
          "Mediano",
          "Mediano",
          "Mediano",
          "Mediano",
          "Mediano",
          "Mediano",
          "Mediano",
          "Mediano",
          "Mediano",
          "Mediano",
          "Mediano",
          "Mediano",
          "Mediano",
          "Mediano",
          "Mediano",
          "Mediano",
          "Mediano",
          "Mediano",
          "Mediano",
          "Mediano",
          "Mediano",
          "Mediano",
          "Mediano",
          "Mediano",
          "Mediano",
          "Mediano",
          "Mediano",
          "Mediano",
          "Mediano",
          "Mediano",
          "Mediano",
          "Mediano",
          "Mediano",
          "Mediano",
          "Mediano",
          "Mediano",
          "Mediano",
          "Mediano",
          "Mediano",
          "Mediano",
          "Mediano",
          "Mediano",
          "Mediano",
          "Mediano",
          "Mediano",
          "Mediano",
          "Mediano",
          "Mediano",
          "Mediano",
          "Mediano",
          "Mediano",
          "Mediano",
          "Mediano",
          "Mediano",
          "Mediano",
          "Mediano",
          "Mediano",
          "Mediano",
          "Mediano",
          "Mediano",
          "Mediano",
          "Mediano",
          "Mediano",
          "Mediano",
          "Mediano",
          "Mediano",
          "Mediano",
          "Mediano",
          "Mediano",
          "Mediano",
          "Mediano",
          "Mediano",
          "Mediano",
          "Mediano",
          "Mediano",
          "Mediano",
          "Mediano",
          "Mediano",
          "Mediano",
          "Mediano",
          "Mediano",
          "Mediano",
          "Mediano",
          "Mediano",
          "Mediano",
          "Mediano",
          "Mediano",
          "Mediano",
          "Mediano",
          "Mediano",
          "Mediano",
          "Mediano",
          "Mediano",
          "Mediano",
          "Mediano",
          "Mediano",
          "Mediano",
          "Mediano",
          "Mediano",
          "Mediano",
          "Mediano",
          "Mediano",
          "Mediano",
          "Mediano",
          "Mediano",
          "Mediano",
          "Mediano",
          "Mediano",
          "Mediano",
          "Mediano",
          "Mediano",
          "Mediano",
          "Mediano",
          "Mediano",
          "Mediano",
          "Mediano",
          "Mediano",
          "Mediano",
          "Mediano",
          "Mediano",
          "Mediano",
          "Mediano",
          "Mediano",
          "Mediano",
          "Mediano",
          "Mediano",
          "Mediano",
          "Mediano",
          "Mediano",
          "Mediano",
          "Mediano",
          "Mediano",
          "Mediano",
          "Mediano",
          "Mediano",
          "Mediano",
          "Mediano",
          "Mediano",
          "Mediano",
          "Mediano",
          "Mediano",
          "Mediano",
          "Mediano",
          "Mediano",
          "Mediano",
          "Mediano",
          "Mediano",
          "Mediano",
          "Mediano",
          "Mediano",
          "Mediano",
          "Mediano",
          "Mediano",
          "Mediano",
          "Mediano",
          "Mediano",
          "Mediano",
          "Mediano",
          "Mediano",
          "Mediano",
          "Mediano",
          "Mediano",
          "Mediano",
          "Mediano",
          "Mediano",
          "Mediano",
          "Mediano",
          "Mediano",
          "Mediano",
          "Mediano",
          "Mediano",
          "Mediano",
          "Mediano",
          "Mediano",
          "Mediano",
          "Mediano",
          "Mediano",
          "Mediano",
          "Mediano",
          "Mediano",
          "Mediano",
          "Mediano",
          "Mediano",
          "Mediano",
          "Mediano",
          "Mediano",
          "Mediano",
          "Mediano",
          "Mediano",
          "Mediano",
          "Mediano",
          "Mediano",
          "Mediano",
          "Mediano",
          "Mediano",
          "Mediano",
          "Mediano",
          "Mediano",
          "Mediano",
          "Mediano",
          "Mediano",
          "Mediano",
          "Mediano",
          "Mediano",
          "Mediano",
          "Mediano",
          "Mediano",
          "Mediano",
          "Mediano",
          "Mediano",
          "Mediano",
          "Mediano",
          "Mediano",
          "Mediano",
          "Mediano",
          "Mediano",
          "Mediano",
          "Mediano",
          "Mediano",
          "Mediano",
          "Mediano",
          "Mediano",
          "Mediano",
          "Mediano",
          "Mediano",
          "Mediano",
          "Mediano",
          "Mediano",
          "Mediano",
          "Mediano",
          "Mediano",
          "Mediano",
          "Mediano",
          "Mediano",
          "Mediano",
          "Mediano",
          "Mediano",
          "Mediano",
          "Mediano",
          "Mediano",
          "Mediano",
          "Mediano",
          "Mediano",
          "Mediano",
          "Mediano",
          "Mediano",
          "Mediano",
          "Mediano",
          "Mediano",
          "Mediano",
          "Mediano",
          "Mediano",
          "Mediano",
          "Mediano",
          "Mediano",
          "Mediano",
          "Mediano",
          "Mediano",
          "Mediano",
          "Mediano",
          "Mediano",
          "Mediano",
          "Mediano",
          "Mediano",
          "Mediano",
          "Mediano",
          "Mediano",
          "Mediano",
          "Mediano",
          "Mediano",
          "Mediano",
          "Mediano",
          "Mediano",
          "Mediano",
          "Mediano",
          "Mediano",
          "Mediano",
          "Mediano",
          "Mediano",
          "Mediano",
          "Mediano",
          "Mediano",
          "Mediano",
          "Mediano",
          "Mediano",
          "Mediano",
          "Mediano",
          "Mediano",
          "Mediano",
          "Mediano",
          "Mediano",
          "Mediano",
          "Mediano",
          "Mediano",
          "Mediano",
          "Mediano",
          "Mediano",
          "Mediano",
          "Mediano",
          "Mediano",
          "Mediano",
          "Mediano",
          "Mediano",
          "Mediano",
          "Mediano",
          "Mediano",
          "Mediano",
          "Mediano",
          "Mediano",
          "Mediano",
          "Mediano",
          "Mediano",
          "Mediano",
          "Mediano",
          "Mediano",
          "Mediano",
          "Mediano",
          "Mediano",
          "Mediano",
          "Mediano",
          "Mediano",
          "Mediano",
          "Mediano",
          "Mediano",
          "Mediano",
          "Mediano",
          "Mediano",
          "Mediano",
          "Mediano",
          "Mediano",
          "Mediano",
          "Mediano",
          "Mediano",
          "Mediano",
          "Mediano",
          "Mediano",
          "Mediano",
          "Mediano",
          "Mediano",
          "Mediano",
          "Mediano",
          "Mediano",
          "Mediano",
          "Mediano",
          "Mediano",
          "Mediano",
          "Mediano",
          "Mediano",
          "Mediano",
          "Mediano",
          "Mediano",
          "Mediano",
          "Mediano",
          "Mediano",
          "Mediano",
          "Mediano",
          "Mediano",
          "Mediano",
          "Mediano",
          "Mediano",
          "Mediano",
          "Mediano",
          "Mediano",
          "Mediano",
          "Mediano",
          "Mediano",
          "Mediano",
          "Mediano",
          "Mediano",
          "Mediano",
          "Mediano",
          "Mediano",
          "Mediano",
          "Mediano",
          "Mediano",
          "Mediano",
          "Mediano",
          "Mediano",
          "Mediano",
          "Mediano",
          "Mediano",
          "Mediano",
          "Mediano",
          "Mediano",
          "Mediano",
          "Mediano",
          "Mediano",
          "Mediano",
          "Mediano",
          "Mediano",
          "Mediano",
          "Mediano",
          "Mediano",
          "Mediano",
          "Mediano",
          "Mediano",
          "Mediano",
          "Mediano",
          "Mediano",
          "Mediano",
          "Mediano",
          "Mediano",
          "Mediano",
          "Mediano",
          "Mediano",
          "Mediano",
          "Mediano",
          "Mediano",
          "Mediano",
          "Mediano",
          "Mediano",
          "Mediano",
          "Mediano",
          "Mediano",
          "Mediano",
          "Mediano",
          "Mediano",
          "Mediano",
          "Mediano",
          "Mediano",
          "Mediano",
          "Mediano",
          "Mediano",
          "Mediano",
          "Mediano",
          "Mediano",
          "Mediano",
          "Mediano",
          "Mediano",
          "Mediano",
          "Mediano",
          "Mediano",
          "Mediano",
          "Mediano",
          "Mediano",
          "Mediano",
          "Mediano",
          "Mediano",
          "Mediano",
          "Mediano",
          "Mediano",
          "Mediano",
          "Mediano",
          "Mediano",
          "Mediano",
          "Mediano",
          "Mediano",
          "Mediano",
          "Mediano",
          "Mediano",
          "Mediano",
          "Mediano",
          "Mediano",
          "Mediano",
          "Mediano",
          "Mediano",
          "Mediano",
          "Mediano",
          "Mediano",
          "Mediano",
          "Mediano",
          "Mediano",
          "Mediano",
          "Mediano",
          "Mediano",
          "Mediano",
          "Mediano",
          "Mediano",
          "Mediano",
          "Mediano",
          "Mediano",
          "Mediano",
          "Mediano",
          "Mediano",
          "Mediano",
          "Mediano",
          "Mediano",
          "Mediano",
          "Mediano",
          "Mediano",
          "Mediano",
          "Mediano",
          "Mediano",
          "Mediano",
          "Mediano",
          "Mediano",
          "Mediano",
          "Mediano",
          "Mediano",
          "Mediano",
          "Mediano",
          "Mediano",
          "Mediano",
          "Mediano",
          "Mediano",
          "Mediano",
          "Mediano",
          "Mediano",
          "Mediano",
          "Mediano",
          "Mediano",
          "Mediano",
          "Mediano",
          "Mediano",
          "Mediano",
          "Mediano",
          "Mediano",
          "Mediano",
          "Mediano",
          "Mediano",
          "Mediano",
          "Mediano",
          "Mediano",
          "Mediano",
          "Mediano",
          "Mediano",
          "Mediano",
          "Mediano",
          "Mediano",
          "Mediano",
          "Mediano",
          "Mediano",
          "Mediano",
          "Mediano",
          "Mediano",
          "Mediano",
          "Mediano",
          "Mediano",
          "Mediano",
          "Mediano",
          "Mediano",
          "Mediano",
          "Mediano",
          "Mediano",
          "Mediano",
          "Mediano",
          "Mediano",
          "Mediano",
          "Mediano",
          "Mediano",
          "Mediano",
          "Mediano",
          "Mediano",
          "Mediano",
          "Mediano",
          "Mediano",
          "Mediano",
          "Mediano",
          "Mediano",
          "Mediano",
          "Mediano",
          "Mediano",
          "Mediano",
          "Mediano",
          "Mediano",
          "Mediano",
          "Mediano",
          "Mediano",
          "Mediano",
          "Mediano",
          "Mediano",
          "Mediano",
          "Mediano",
          "Mediano",
          "Mediano",
          "Mediano",
          "Mediano",
          "Mediano",
          "Mediano",
          "Mediano",
          "Mediano",
          "Mediano",
          "Mediano",
          "Mediano",
          "Mediano",
          "Mediano",
          "Mediano",
          "Mediano",
          "Mediano",
          "Mediano",
          "Mediano",
          "Mediano",
          "Mediano",
          "Mediano",
          "Mediano",
          "Mediano",
          "Mediano",
          "Mediano",
          "Mediano",
          "Mediano",
          "Mediano",
          "Mediano",
          "Mediano",
          "Mediano",
          "Mediano",
          "Mediano",
          "Mediano",
          "Mediano",
          "Mediano",
          "Mediano",
          "Mediano",
          "Mediano",
          "Mediano",
          "Mediano",
          "Mediano",
          "Mediano",
          "Mediano",
          "Mediano",
          "Mediano",
          "Mediano",
          "Mediano",
          "Mediano",
          "Mediano",
          "Mediano",
          "Mediano",
          "Mediano",
          "Mediano",
          "Mediano",
          "Mediano",
          "Mediano",
          "Mediano",
          "Mediano",
          "Mediano",
          "Mediano",
          "Mediano",
          "Mediano",
          "Mediano",
          "Mediano",
          "Mediano",
          "Mediano",
          "Mediano",
          "Mediano",
          "Mediano",
          "Mediano",
          "Mediano",
          "Mediano",
          "Mediano",
          "Mediano",
          "Mediano",
          "Mediano",
          "Mediano",
          "Mediano",
          "Mediano",
          "Mediano",
          "Mediano",
          "Mediano",
          "Mediano",
          "Mediano",
          "Mediano",
          "Mediano",
          "Mediano",
          "Mediano",
          "Mediano",
          "Mediano",
          "Mediano",
          "Mediano",
          "Mediano",
          "Mediano",
          "Mediano",
          "Mediano",
          "Mediano",
          "Mediano",
          "Mediano",
          "Mediano",
          "Mediano",
          "Mediano",
          "Mediano",
          "Mediano",
          "Mediano",
          "Mediano",
          "Mediano",
          "Mediano",
          "Mediano",
          "Mediano",
          "Mediano",
          "Mediano",
          "Mediano",
          "Mediano",
          "Mediano",
          "Mediano",
          "Mediano",
          "Mediano",
          "Mediano",
          "Mediano",
          "Mediano",
          "Mediano",
          "Mediano",
          "Mediano",
          "Mediano",
          "Mediano",
          "Mediano",
          "Mediano",
          "Mediano",
          "Mediano",
          "Mediano",
          "Mediano",
          "Mediano",
          "Mediano",
          "Mediano",
          "Mediano",
          "Mediano",
          "Mediano",
          "Mediano",
          "Mediano",
          "Mediano",
          "Mediano",
          "Mediano",
          "Mediano",
          "Mediano",
          "Mediano",
          "Mediano",
          "Mediano",
          "Mediano",
          "Mediano",
          "Mediano",
          "Mediano",
          "Mediano",
          "Mediano",
          "Mediano",
          "Mediano",
          "Mediano",
          "Mediano",
          "Mediano",
          "Mediano",
          "Mediano",
          "Ruim",
          "Ruim",
          "Ruim",
          "Ruim",
          "Ruim",
          "Ruim",
          "Ruim",
          "Ruim",
          "Ruim",
          "Ruim",
          "Ruim",
          "Ruim",
          "Ruim",
          "Ruim",
          "Ruim",
          "Ruim",
          "Ruim",
          "Ruim",
          "Ruim",
          "Ruim",
          "Ruim",
          "Ruim",
          "Ruim",
          "Ruim",
          "Ruim",
          "Ruim",
          "Ruim",
          "Ruim",
          "Ruim",
          "Ruim",
          "Ruim",
          "Ruim",
          "Ruim",
          "Ruim",
          "Ruim",
          "Ruim",
          "Ruim",
          "Ruim",
          "Ruim",
          "Ruim",
          "Ruim",
          "Ruim",
          "Ruim",
          "Ruim",
          "Ruim",
          "Ruim",
          "Ruim",
          "Ruim",
          "Ruim",
          "Ruim",
          "Ruim",
          "Ruim",
          "Ruim",
          "Ruim",
          "Ruim",
          "Ruim",
          "Ruim",
          "Ruim",
          "Ruim",
          "Ruim",
          "Ruim",
          "Ruim",
          "Ruim",
          "Ruim",
          "Ruim",
          "Ruim",
          "Ruim",
          "Ruim",
          "Ruim",
          "Pessimo",
          "Pessimo",
          "Pessimo",
          "Pessimo",
          "Pessimo",
          "Pessimo",
          "Pessimo",
          "Pessimo",
          "Pessimo",
          "Pessimo",
          "Pessimo",
          "Pessimo",
          "Pessimo",
          "Pessimo",
          "Pessimo",
          "Pessimo",
          "Pessimo",
          "Pessimo",
          "Pessimo",
          "Pessimo",
          "Pessimo",
          "Pessimo",
          "Pessimo",
          "Pessimo",
          "Pessimo",
          "Pessimo",
          "Pessimo"
         ],
         "xaxis": "x",
         "yaxis": "y"
        }
       ],
       "layout": {
        "barmode": "relative",
        "legend": {
         "tracegroupgap": 0
        },
        "margin": {
         "t": 60
        },
        "template": {
         "data": {
          "bar": [
           {
            "error_x": {
             "color": "#2a3f5f"
            },
            "error_y": {
             "color": "#2a3f5f"
            },
            "marker": {
             "line": {
              "color": "#E5ECF6",
              "width": 0.5
             },
             "pattern": {
              "fillmode": "overlay",
              "size": 10,
              "solidity": 0.2
             }
            },
            "type": "bar"
           }
          ],
          "barpolar": [
           {
            "marker": {
             "line": {
              "color": "#E5ECF6",
              "width": 0.5
             },
             "pattern": {
              "fillmode": "overlay",
              "size": 10,
              "solidity": 0.2
             }
            },
            "type": "barpolar"
           }
          ],
          "carpet": [
           {
            "aaxis": {
             "endlinecolor": "#2a3f5f",
             "gridcolor": "white",
             "linecolor": "white",
             "minorgridcolor": "white",
             "startlinecolor": "#2a3f5f"
            },
            "baxis": {
             "endlinecolor": "#2a3f5f",
             "gridcolor": "white",
             "linecolor": "white",
             "minorgridcolor": "white",
             "startlinecolor": "#2a3f5f"
            },
            "type": "carpet"
           }
          ],
          "choropleth": [
           {
            "colorbar": {
             "outlinewidth": 0,
             "ticks": ""
            },
            "type": "choropleth"
           }
          ],
          "contour": [
           {
            "colorbar": {
             "outlinewidth": 0,
             "ticks": ""
            },
            "colorscale": [
             [
              0,
              "#0d0887"
             ],
             [
              0.1111111111111111,
              "#46039f"
             ],
             [
              0.2222222222222222,
              "#7201a8"
             ],
             [
              0.3333333333333333,
              "#9c179e"
             ],
             [
              0.4444444444444444,
              "#bd3786"
             ],
             [
              0.5555555555555556,
              "#d8576b"
             ],
             [
              0.6666666666666666,
              "#ed7953"
             ],
             [
              0.7777777777777778,
              "#fb9f3a"
             ],
             [
              0.8888888888888888,
              "#fdca26"
             ],
             [
              1,
              "#f0f921"
             ]
            ],
            "type": "contour"
           }
          ],
          "contourcarpet": [
           {
            "colorbar": {
             "outlinewidth": 0,
             "ticks": ""
            },
            "type": "contourcarpet"
           }
          ],
          "heatmap": [
           {
            "colorbar": {
             "outlinewidth": 0,
             "ticks": ""
            },
            "colorscale": [
             [
              0,
              "#0d0887"
             ],
             [
              0.1111111111111111,
              "#46039f"
             ],
             [
              0.2222222222222222,
              "#7201a8"
             ],
             [
              0.3333333333333333,
              "#9c179e"
             ],
             [
              0.4444444444444444,
              "#bd3786"
             ],
             [
              0.5555555555555556,
              "#d8576b"
             ],
             [
              0.6666666666666666,
              "#ed7953"
             ],
             [
              0.7777777777777778,
              "#fb9f3a"
             ],
             [
              0.8888888888888888,
              "#fdca26"
             ],
             [
              1,
              "#f0f921"
             ]
            ],
            "type": "heatmap"
           }
          ],
          "heatmapgl": [
           {
            "colorbar": {
             "outlinewidth": 0,
             "ticks": ""
            },
            "colorscale": [
             [
              0,
              "#0d0887"
             ],
             [
              0.1111111111111111,
              "#46039f"
             ],
             [
              0.2222222222222222,
              "#7201a8"
             ],
             [
              0.3333333333333333,
              "#9c179e"
             ],
             [
              0.4444444444444444,
              "#bd3786"
             ],
             [
              0.5555555555555556,
              "#d8576b"
             ],
             [
              0.6666666666666666,
              "#ed7953"
             ],
             [
              0.7777777777777778,
              "#fb9f3a"
             ],
             [
              0.8888888888888888,
              "#fdca26"
             ],
             [
              1,
              "#f0f921"
             ]
            ],
            "type": "heatmapgl"
           }
          ],
          "histogram": [
           {
            "marker": {
             "pattern": {
              "fillmode": "overlay",
              "size": 10,
              "solidity": 0.2
             }
            },
            "type": "histogram"
           }
          ],
          "histogram2d": [
           {
            "colorbar": {
             "outlinewidth": 0,
             "ticks": ""
            },
            "colorscale": [
             [
              0,
              "#0d0887"
             ],
             [
              0.1111111111111111,
              "#46039f"
             ],
             [
              0.2222222222222222,
              "#7201a8"
             ],
             [
              0.3333333333333333,
              "#9c179e"
             ],
             [
              0.4444444444444444,
              "#bd3786"
             ],
             [
              0.5555555555555556,
              "#d8576b"
             ],
             [
              0.6666666666666666,
              "#ed7953"
             ],
             [
              0.7777777777777778,
              "#fb9f3a"
             ],
             [
              0.8888888888888888,
              "#fdca26"
             ],
             [
              1,
              "#f0f921"
             ]
            ],
            "type": "histogram2d"
           }
          ],
          "histogram2dcontour": [
           {
            "colorbar": {
             "outlinewidth": 0,
             "ticks": ""
            },
            "colorscale": [
             [
              0,
              "#0d0887"
             ],
             [
              0.1111111111111111,
              "#46039f"
             ],
             [
              0.2222222222222222,
              "#7201a8"
             ],
             [
              0.3333333333333333,
              "#9c179e"
             ],
             [
              0.4444444444444444,
              "#bd3786"
             ],
             [
              0.5555555555555556,
              "#d8576b"
             ],
             [
              0.6666666666666666,
              "#ed7953"
             ],
             [
              0.7777777777777778,
              "#fb9f3a"
             ],
             [
              0.8888888888888888,
              "#fdca26"
             ],
             [
              1,
              "#f0f921"
             ]
            ],
            "type": "histogram2dcontour"
           }
          ],
          "mesh3d": [
           {
            "colorbar": {
             "outlinewidth": 0,
             "ticks": ""
            },
            "type": "mesh3d"
           }
          ],
          "parcoords": [
           {
            "line": {
             "colorbar": {
              "outlinewidth": 0,
              "ticks": ""
             }
            },
            "type": "parcoords"
           }
          ],
          "pie": [
           {
            "automargin": true,
            "type": "pie"
           }
          ],
          "scatter": [
           {
            "fillpattern": {
             "fillmode": "overlay",
             "size": 10,
             "solidity": 0.2
            },
            "type": "scatter"
           }
          ],
          "scatter3d": [
           {
            "line": {
             "colorbar": {
              "outlinewidth": 0,
              "ticks": ""
             }
            },
            "marker": {
             "colorbar": {
              "outlinewidth": 0,
              "ticks": ""
             }
            },
            "type": "scatter3d"
           }
          ],
          "scattercarpet": [
           {
            "marker": {
             "colorbar": {
              "outlinewidth": 0,
              "ticks": ""
             }
            },
            "type": "scattercarpet"
           }
          ],
          "scattergeo": [
           {
            "marker": {
             "colorbar": {
              "outlinewidth": 0,
              "ticks": ""
             }
            },
            "type": "scattergeo"
           }
          ],
          "scattergl": [
           {
            "marker": {
             "colorbar": {
              "outlinewidth": 0,
              "ticks": ""
             }
            },
            "type": "scattergl"
           }
          ],
          "scattermapbox": [
           {
            "marker": {
             "colorbar": {
              "outlinewidth": 0,
              "ticks": ""
             }
            },
            "type": "scattermapbox"
           }
          ],
          "scatterpolar": [
           {
            "marker": {
             "colorbar": {
              "outlinewidth": 0,
              "ticks": ""
             }
            },
            "type": "scatterpolar"
           }
          ],
          "scatterpolargl": [
           {
            "marker": {
             "colorbar": {
              "outlinewidth": 0,
              "ticks": ""
             }
            },
            "type": "scatterpolargl"
           }
          ],
          "scatterternary": [
           {
            "marker": {
             "colorbar": {
              "outlinewidth": 0,
              "ticks": ""
             }
            },
            "type": "scatterternary"
           }
          ],
          "surface": [
           {
            "colorbar": {
             "outlinewidth": 0,
             "ticks": ""
            },
            "colorscale": [
             [
              0,
              "#0d0887"
             ],
             [
              0.1111111111111111,
              "#46039f"
             ],
             [
              0.2222222222222222,
              "#7201a8"
             ],
             [
              0.3333333333333333,
              "#9c179e"
             ],
             [
              0.4444444444444444,
              "#bd3786"
             ],
             [
              0.5555555555555556,
              "#d8576b"
             ],
             [
              0.6666666666666666,
              "#ed7953"
             ],
             [
              0.7777777777777778,
              "#fb9f3a"
             ],
             [
              0.8888888888888888,
              "#fdca26"
             ],
             [
              1,
              "#f0f921"
             ]
            ],
            "type": "surface"
           }
          ],
          "table": [
           {
            "cells": {
             "fill": {
              "color": "#EBF0F8"
             },
             "line": {
              "color": "white"
             }
            },
            "header": {
             "fill": {
              "color": "#C8D4E3"
             },
             "line": {
              "color": "white"
             }
            },
            "type": "table"
           }
          ]
         },
         "layout": {
          "annotationdefaults": {
           "arrowcolor": "#2a3f5f",
           "arrowhead": 0,
           "arrowwidth": 1
          },
          "autotypenumbers": "strict",
          "coloraxis": {
           "colorbar": {
            "outlinewidth": 0,
            "ticks": ""
           }
          },
          "colorscale": {
           "diverging": [
            [
             0,
             "#8e0152"
            ],
            [
             0.1,
             "#c51b7d"
            ],
            [
             0.2,
             "#de77ae"
            ],
            [
             0.3,
             "#f1b6da"
            ],
            [
             0.4,
             "#fde0ef"
            ],
            [
             0.5,
             "#f7f7f7"
            ],
            [
             0.6,
             "#e6f5d0"
            ],
            [
             0.7,
             "#b8e186"
            ],
            [
             0.8,
             "#7fbc41"
            ],
            [
             0.9,
             "#4d9221"
            ],
            [
             1,
             "#276419"
            ]
           ],
           "sequential": [
            [
             0,
             "#0d0887"
            ],
            [
             0.1111111111111111,
             "#46039f"
            ],
            [
             0.2222222222222222,
             "#7201a8"
            ],
            [
             0.3333333333333333,
             "#9c179e"
            ],
            [
             0.4444444444444444,
             "#bd3786"
            ],
            [
             0.5555555555555556,
             "#d8576b"
            ],
            [
             0.6666666666666666,
             "#ed7953"
            ],
            [
             0.7777777777777778,
             "#fb9f3a"
            ],
            [
             0.8888888888888888,
             "#fdca26"
            ],
            [
             1,
             "#f0f921"
            ]
           ],
           "sequentialminus": [
            [
             0,
             "#0d0887"
            ],
            [
             0.1111111111111111,
             "#46039f"
            ],
            [
             0.2222222222222222,
             "#7201a8"
            ],
            [
             0.3333333333333333,
             "#9c179e"
            ],
            [
             0.4444444444444444,
             "#bd3786"
            ],
            [
             0.5555555555555556,
             "#d8576b"
            ],
            [
             0.6666666666666666,
             "#ed7953"
            ],
            [
             0.7777777777777778,
             "#fb9f3a"
            ],
            [
             0.8888888888888888,
             "#fdca26"
            ],
            [
             1,
             "#f0f921"
            ]
           ]
          },
          "colorway": [
           "#636efa",
           "#EF553B",
           "#00cc96",
           "#ab63fa",
           "#FFA15A",
           "#19d3f3",
           "#FF6692",
           "#B6E880",
           "#FF97FF",
           "#FECB52"
          ],
          "font": {
           "color": "#2a3f5f"
          },
          "geo": {
           "bgcolor": "white",
           "lakecolor": "white",
           "landcolor": "#E5ECF6",
           "showlakes": true,
           "showland": true,
           "subunitcolor": "white"
          },
          "hoverlabel": {
           "align": "left"
          },
          "hovermode": "closest",
          "mapbox": {
           "style": "light"
          },
          "paper_bgcolor": "white",
          "plot_bgcolor": "#E5ECF6",
          "polar": {
           "angularaxis": {
            "gridcolor": "white",
            "linecolor": "white",
            "ticks": ""
           },
           "bgcolor": "#E5ECF6",
           "radialaxis": {
            "gridcolor": "white",
            "linecolor": "white",
            "ticks": ""
           }
          },
          "scene": {
           "xaxis": {
            "backgroundcolor": "#E5ECF6",
            "gridcolor": "white",
            "gridwidth": 2,
            "linecolor": "white",
            "showbackground": true,
            "ticks": "",
            "zerolinecolor": "white"
           },
           "yaxis": {
            "backgroundcolor": "#E5ECF6",
            "gridcolor": "white",
            "gridwidth": 2,
            "linecolor": "white",
            "showbackground": true,
            "ticks": "",
            "zerolinecolor": "white"
           },
           "zaxis": {
            "backgroundcolor": "#E5ECF6",
            "gridcolor": "white",
            "gridwidth": 2,
            "linecolor": "white",
            "showbackground": true,
            "ticks": "",
            "zerolinecolor": "white"
           }
          },
          "shapedefaults": {
           "line": {
            "color": "#2a3f5f"
           }
          },
          "ternary": {
           "aaxis": {
            "gridcolor": "white",
            "linecolor": "white",
            "ticks": ""
           },
           "baxis": {
            "gridcolor": "white",
            "linecolor": "white",
            "ticks": ""
           },
           "bgcolor": "#E5ECF6",
           "caxis": {
            "gridcolor": "white",
            "linecolor": "white",
            "ticks": ""
           }
          },
          "title": {
           "x": 0.05
          },
          "xaxis": {
           "automargin": true,
           "gridcolor": "white",
           "linecolor": "white",
           "ticks": "",
           "title": {
            "standoff": 15
           },
           "zerolinecolor": "white",
           "zerolinewidth": 2
          },
          "yaxis": {
           "automargin": true,
           "gridcolor": "white",
           "linecolor": "white",
           "ticks": "",
           "title": {
            "standoff": 15
           },
           "zerolinecolor": "white",
           "zerolinewidth": 2
          }
         }
        },
        "xaxis": {
         "anchor": "y",
         "domain": [
          0,
          1
         ],
         "title": {
          "text": "Desempenho"
         }
        },
        "yaxis": {
         "anchor": "x",
         "domain": [
          0,
          1
         ],
         "title": {
          "text": "count"
         }
        }
       }
      }
     },
     "metadata": {},
     "output_type": "display_data"
    }
   ],
   "source": [
    "px.histogram(Meias, x = 'Desempenho').show()"
   ]
  },
  {
   "cell_type": "code",
   "execution_count": 2021,
   "metadata": {},
   "outputs": [
    {
     "data": {
      "text/html": [
       "<div>\n",
       "<style scoped>\n",
       "    .dataframe tbody tr th:only-of-type {\n",
       "        vertical-align: middle;\n",
       "    }\n",
       "\n",
       "    .dataframe tbody tr th {\n",
       "        vertical-align: top;\n",
       "    }\n",
       "\n",
       "    .dataframe thead th {\n",
       "        text-align: right;\n",
       "    }\n",
       "</style>\n",
       "<table border=\"1\" class=\"dataframe\">\n",
       "  <thead>\n",
       "    <tr style=\"text-align: right;\">\n",
       "      <th></th>\n",
       "      <th>_c0</th>\n",
       "      <th>Rk</th>\n",
       "      <th>Player</th>\n",
       "      <th>Nation</th>\n",
       "      <th>Pos</th>\n",
       "      <th>Squad</th>\n",
       "      <th>Comp</th>\n",
       "      <th>Age</th>\n",
       "      <th>Born</th>\n",
       "      <th>MP</th>\n",
       "      <th>...</th>\n",
       "      <th>PKwon</th>\n",
       "      <th>PKcon</th>\n",
       "      <th>OG</th>\n",
       "      <th>Recov</th>\n",
       "      <th>AerWon</th>\n",
       "      <th>AerLost</th>\n",
       "      <th>AerWon%</th>\n",
       "      <th>GPJ</th>\n",
       "      <th>score</th>\n",
       "      <th>Desempenho</th>\n",
       "    </tr>\n",
       "  </thead>\n",
       "  <tbody>\n",
       "    <tr>\n",
       "      <th>690</th>\n",
       "      <td>1920</td>\n",
       "      <td>1921</td>\n",
       "      <td>Pedri</td>\n",
       "      <td>ESP</td>\n",
       "      <td>MFFW</td>\n",
       "      <td>Barcelona</td>\n",
       "      <td>La Liga</td>\n",
       "      <td>20</td>\n",
       "      <td>2002</td>\n",
       "      <td>20</td>\n",
       "      <td>...</td>\n",
       "      <td>0.00</td>\n",
       "      <td>0.00</td>\n",
       "      <td>0.00</td>\n",
       "      <td>6.26</td>\n",
       "      <td>0.06</td>\n",
       "      <td>0.12</td>\n",
       "      <td>33.3</td>\n",
       "      <td>0.250000</td>\n",
       "      <td>167.331192</td>\n",
       "      <td>Bom</td>\n",
       "    </tr>\n",
       "    <tr>\n",
       "      <th>224</th>\n",
       "      <td>612</td>\n",
       "      <td>613</td>\n",
       "      <td>Kevin De Bruyne</td>\n",
       "      <td>BEL</td>\n",
       "      <td>MF</td>\n",
       "      <td>Manchester City</td>\n",
       "      <td>Premier League</td>\n",
       "      <td>31</td>\n",
       "      <td>1991</td>\n",
       "      <td>20</td>\n",
       "      <td>...</td>\n",
       "      <td>0.06</td>\n",
       "      <td>0.00</td>\n",
       "      <td>0.00</td>\n",
       "      <td>3.71</td>\n",
       "      <td>0.45</td>\n",
       "      <td>0.56</td>\n",
       "      <td>44.4</td>\n",
       "      <td>0.150000</td>\n",
       "      <td>166.734462</td>\n",
       "      <td>Bom</td>\n",
       "    </tr>\n",
       "    <tr>\n",
       "      <th>736</th>\n",
       "      <td>2041</td>\n",
       "      <td>2042</td>\n",
       "      <td>Lilian Raolisoa</td>\n",
       "      <td>FRA</td>\n",
       "      <td>MFDF</td>\n",
       "      <td>Angers</td>\n",
       "      <td>Ligue 1</td>\n",
       "      <td>22</td>\n",
       "      <td>2000</td>\n",
       "      <td>2</td>\n",
       "      <td>...</td>\n",
       "      <td>0.00</td>\n",
       "      <td>0.00</td>\n",
       "      <td>0.00</td>\n",
       "      <td>10.00</td>\n",
       "      <td>0.00</td>\n",
       "      <td>0.00</td>\n",
       "      <td>0.0</td>\n",
       "      <td>0.000000</td>\n",
       "      <td>166.015385</td>\n",
       "      <td>Bom</td>\n",
       "    </tr>\n",
       "    <tr>\n",
       "      <th>234</th>\n",
       "      <td>642</td>\n",
       "      <td>643</td>\n",
       "      <td>Branco van den Boomen</td>\n",
       "      <td>NED</td>\n",
       "      <td>MF</td>\n",
       "      <td>Toulouse</td>\n",
       "      <td>Ligue 1</td>\n",
       "      <td>27</td>\n",
       "      <td>1995</td>\n",
       "      <td>22</td>\n",
       "      <td>...</td>\n",
       "      <td>0.00</td>\n",
       "      <td>0.00</td>\n",
       "      <td>0.00</td>\n",
       "      <td>6.03</td>\n",
       "      <td>0.28</td>\n",
       "      <td>0.51</td>\n",
       "      <td>35.3</td>\n",
       "      <td>0.227273</td>\n",
       "      <td>164.546014</td>\n",
       "      <td>Bom</td>\n",
       "    </tr>\n",
       "    <tr>\n",
       "      <th>76</th>\n",
       "      <td>202</td>\n",
       "      <td>203</td>\n",
       "      <td>Harvey Barnes</td>\n",
       "      <td>ENG</td>\n",
       "      <td>MFFW</td>\n",
       "      <td>Leicester City</td>\n",
       "      <td>Premier League</td>\n",
       "      <td>25</td>\n",
       "      <td>1997</td>\n",
       "      <td>20</td>\n",
       "      <td>...</td>\n",
       "      <td>0.00</td>\n",
       "      <td>0.00</td>\n",
       "      <td>0.00</td>\n",
       "      <td>3.03</td>\n",
       "      <td>1.01</td>\n",
       "      <td>1.91</td>\n",
       "      <td>34.5</td>\n",
       "      <td>0.400000</td>\n",
       "      <td>164.449077</td>\n",
       "      <td>Bom</td>\n",
       "    </tr>\n",
       "    <tr>\n",
       "      <th>314</th>\n",
       "      <td>885</td>\n",
       "      <td>886</td>\n",
       "      <td>Przemys?aw Frankowski</td>\n",
       "      <td>POL</td>\n",
       "      <td>DFMF</td>\n",
       "      <td>Lens</td>\n",
       "      <td>Ligue 1</td>\n",
       "      <td>27</td>\n",
       "      <td>1995</td>\n",
       "      <td>22</td>\n",
       "      <td>...</td>\n",
       "      <td>0.00</td>\n",
       "      <td>0.00</td>\n",
       "      <td>0.00</td>\n",
       "      <td>4.63</td>\n",
       "      <td>0.40</td>\n",
       "      <td>0.63</td>\n",
       "      <td>38.9</td>\n",
       "      <td>0.090909</td>\n",
       "      <td>164.424685</td>\n",
       "      <td>Bom</td>\n",
       "    </tr>\n",
       "    <tr>\n",
       "      <th>473</th>\n",
       "      <td>1337</td>\n",
       "      <td>1338</td>\n",
       "      <td>Toni Kroos</td>\n",
       "      <td>GER</td>\n",
       "      <td>MF</td>\n",
       "      <td>Real Madrid</td>\n",
       "      <td>La Liga</td>\n",
       "      <td>33</td>\n",
       "      <td>1990</td>\n",
       "      <td>17</td>\n",
       "      <td>...</td>\n",
       "      <td>0.00</td>\n",
       "      <td>0.00</td>\n",
       "      <td>0.00</td>\n",
       "      <td>6.67</td>\n",
       "      <td>0.37</td>\n",
       "      <td>0.30</td>\n",
       "      <td>55.6</td>\n",
       "      <td>0.117647</td>\n",
       "      <td>162.814027</td>\n",
       "      <td>Bom</td>\n",
       "    </tr>\n",
       "    <tr>\n",
       "      <th>457</th>\n",
       "      <td>1293</td>\n",
       "      <td>1294</td>\n",
       "      <td>Joshua Kimmich</td>\n",
       "      <td>GER</td>\n",
       "      <td>MF</td>\n",
       "      <td>Bayern Munich</td>\n",
       "      <td>Bundesliga</td>\n",
       "      <td>28</td>\n",
       "      <td>1995</td>\n",
       "      <td>19</td>\n",
       "      <td>...</td>\n",
       "      <td>0.00</td>\n",
       "      <td>0.00</td>\n",
       "      <td>0.00</td>\n",
       "      <td>9.10</td>\n",
       "      <td>0.62</td>\n",
       "      <td>1.07</td>\n",
       "      <td>36.7</td>\n",
       "      <td>0.157895</td>\n",
       "      <td>162.121093</td>\n",
       "      <td>Bom</td>\n",
       "    </tr>\n",
       "    <tr>\n",
       "      <th>924</th>\n",
       "      <td>2549</td>\n",
       "      <td>2550</td>\n",
       "      <td>Emanuel Vignato</td>\n",
       "      <td>ITA</td>\n",
       "      <td>MF</td>\n",
       "      <td>Empoli</td>\n",
       "      <td>Serie A</td>\n",
       "      <td>22</td>\n",
       "      <td>2000</td>\n",
       "      <td>1</td>\n",
       "      <td>...</td>\n",
       "      <td>0.00</td>\n",
       "      <td>0.00</td>\n",
       "      <td>0.00</td>\n",
       "      <td>10.00</td>\n",
       "      <td>0.00</td>\n",
       "      <td>10.00</td>\n",
       "      <td>0.0</td>\n",
       "      <td>1.000000</td>\n",
       "      <td>161.923077</td>\n",
       "      <td>Bom</td>\n",
       "    </tr>\n",
       "    <tr>\n",
       "      <th>946</th>\n",
       "      <td>2602</td>\n",
       "      <td>2603</td>\n",
       "      <td>Harvey White</td>\n",
       "      <td>ENG</td>\n",
       "      <td>MF</td>\n",
       "      <td>Tottenham</td>\n",
       "      <td>Premier League</td>\n",
       "      <td>21</td>\n",
       "      <td>2001</td>\n",
       "      <td>1</td>\n",
       "      <td>...</td>\n",
       "      <td>0.00</td>\n",
       "      <td>0.00</td>\n",
       "      <td>0.00</td>\n",
       "      <td>0.00</td>\n",
       "      <td>10.00</td>\n",
       "      <td>0.00</td>\n",
       "      <td>100.0</td>\n",
       "      <td>0.000000</td>\n",
       "      <td>161.461538</td>\n",
       "      <td>Bom</td>\n",
       "    </tr>\n",
       "    <tr>\n",
       "      <th>128</th>\n",
       "      <td>333</td>\n",
       "      <td>334</td>\n",
       "      <td>Benjamin Bourigeaud</td>\n",
       "      <td>FRA</td>\n",
       "      <td>MFFW</td>\n",
       "      <td>Rennes</td>\n",
       "      <td>Ligue 1</td>\n",
       "      <td>29</td>\n",
       "      <td>1994</td>\n",
       "      <td>21</td>\n",
       "      <td>...</td>\n",
       "      <td>0.00</td>\n",
       "      <td>0.00</td>\n",
       "      <td>0.00</td>\n",
       "      <td>5.24</td>\n",
       "      <td>0.21</td>\n",
       "      <td>1.06</td>\n",
       "      <td>16.7</td>\n",
       "      <td>0.142857</td>\n",
       "      <td>161.181868</td>\n",
       "      <td>Bom</td>\n",
       "    </tr>\n",
       "    <tr>\n",
       "      <th>348</th>\n",
       "      <td>977</td>\n",
       "      <td>978</td>\n",
       "      <td>Sergio G�mez</td>\n",
       "      <td>ESP</td>\n",
       "      <td>DFMF</td>\n",
       "      <td>Manchester City</td>\n",
       "      <td>Premier League</td>\n",
       "      <td>22</td>\n",
       "      <td>2000</td>\n",
       "      <td>5</td>\n",
       "      <td>...</td>\n",
       "      <td>0.00</td>\n",
       "      <td>0.00</td>\n",
       "      <td>0.00</td>\n",
       "      <td>4.17</td>\n",
       "      <td>0.83</td>\n",
       "      <td>1.67</td>\n",
       "      <td>33.3</td>\n",
       "      <td>0.000000</td>\n",
       "      <td>161.063077</td>\n",
       "      <td>Bom</td>\n",
       "    </tr>\n",
       "    <tr>\n",
       "      <th>318</th>\n",
       "      <td>895</td>\n",
       "      <td>896</td>\n",
       "      <td>Jeremie Frimpong</td>\n",
       "      <td>NED</td>\n",
       "      <td>DFMF</td>\n",
       "      <td>Leverkusen</td>\n",
       "      <td>Bundesliga</td>\n",
       "      <td>22</td>\n",
       "      <td>2000</td>\n",
       "      <td>20</td>\n",
       "      <td>...</td>\n",
       "      <td>0.00</td>\n",
       "      <td>0.00</td>\n",
       "      <td>0.00</td>\n",
       "      <td>4.08</td>\n",
       "      <td>0.50</td>\n",
       "      <td>0.95</td>\n",
       "      <td>34.6</td>\n",
       "      <td>0.250000</td>\n",
       "      <td>160.114115</td>\n",
       "      <td>Bom</td>\n",
       "    </tr>\n",
       "    <tr>\n",
       "      <th>748</th>\n",
       "      <td>2074</td>\n",
       "      <td>2075</td>\n",
       "      <td>Franck Rib�ry</td>\n",
       "      <td>FRA</td>\n",
       "      <td>MF</td>\n",
       "      <td>Salernitana</td>\n",
       "      <td>Serie A</td>\n",
       "      <td>39</td>\n",
       "      <td>1983</td>\n",
       "      <td>1</td>\n",
       "      <td>...</td>\n",
       "      <td>0.00</td>\n",
       "      <td>0.00</td>\n",
       "      <td>0.00</td>\n",
       "      <td>5.00</td>\n",
       "      <td>0.00</td>\n",
       "      <td>0.00</td>\n",
       "      <td>0.0</td>\n",
       "      <td>0.000000</td>\n",
       "      <td>159.230769</td>\n",
       "      <td>Bom</td>\n",
       "    </tr>\n",
       "    <tr>\n",
       "      <th>676</th>\n",
       "      <td>1894</td>\n",
       "      <td>1895</td>\n",
       "      <td>Lucas Paquet�</td>\n",
       "      <td>BRA</td>\n",
       "      <td>MF</td>\n",
       "      <td>Lyon</td>\n",
       "      <td>Ligue 1</td>\n",
       "      <td>25</td>\n",
       "      <td>1997</td>\n",
       "      <td>2</td>\n",
       "      <td>...</td>\n",
       "      <td>0.00</td>\n",
       "      <td>0.00</td>\n",
       "      <td>0.00</td>\n",
       "      <td>5.56</td>\n",
       "      <td>2.22</td>\n",
       "      <td>0.56</td>\n",
       "      <td>80.0</td>\n",
       "      <td>0.000000</td>\n",
       "      <td>158.810000</td>\n",
       "      <td>Bom</td>\n",
       "    </tr>\n",
       "    <tr>\n",
       "      <th>444</th>\n",
       "      <td>1252</td>\n",
       "      <td>1253</td>\n",
       "      <td>Daichi Kamada</td>\n",
       "      <td>JPN</td>\n",
       "      <td>MFFW</td>\n",
       "      <td>Eint Frankfurt</td>\n",
       "      <td>Bundesliga</td>\n",
       "      <td>26</td>\n",
       "      <td>1996</td>\n",
       "      <td>17</td>\n",
       "      <td>...</td>\n",
       "      <td>0.00</td>\n",
       "      <td>0.00</td>\n",
       "      <td>0.00</td>\n",
       "      <td>6.54</td>\n",
       "      <td>0.60</td>\n",
       "      <td>1.35</td>\n",
       "      <td>30.8</td>\n",
       "      <td>0.411765</td>\n",
       "      <td>158.720000</td>\n",
       "      <td>Bom</td>\n",
       "    </tr>\n",
       "    <tr>\n",
       "      <th>426</th>\n",
       "      <td>1190</td>\n",
       "      <td>1191</td>\n",
       "      <td>Reece James</td>\n",
       "      <td>ENG</td>\n",
       "      <td>DFMF</td>\n",
       "      <td>Chelsea</td>\n",
       "      <td>Premier League</td>\n",
       "      <td>23</td>\n",
       "      <td>1999</td>\n",
       "      <td>10</td>\n",
       "      <td>...</td>\n",
       "      <td>0.00</td>\n",
       "      <td>0.00</td>\n",
       "      <td>0.00</td>\n",
       "      <td>6.43</td>\n",
       "      <td>1.55</td>\n",
       "      <td>1.07</td>\n",
       "      <td>59.1</td>\n",
       "      <td>0.100000</td>\n",
       "      <td>158.486308</td>\n",
       "      <td>Bom</td>\n",
       "    </tr>\n",
       "    <tr>\n",
       "      <th>463</th>\n",
       "      <td>1316</td>\n",
       "      <td>1317</td>\n",
       "      <td>Teun Koopmeiners</td>\n",
       "      <td>NED</td>\n",
       "      <td>MF</td>\n",
       "      <td>Atalanta</td>\n",
       "      <td>Serie A</td>\n",
       "      <td>24</td>\n",
       "      <td>1998</td>\n",
       "      <td>21</td>\n",
       "      <td>...</td>\n",
       "      <td>0.00</td>\n",
       "      <td>0.00</td>\n",
       "      <td>0.00</td>\n",
       "      <td>6.03</td>\n",
       "      <td>1.03</td>\n",
       "      <td>0.59</td>\n",
       "      <td>63.6</td>\n",
       "      <td>0.285714</td>\n",
       "      <td>158.388864</td>\n",
       "      <td>Bom</td>\n",
       "    </tr>\n",
       "    <tr>\n",
       "      <th>804</th>\n",
       "      <td>2212</td>\n",
       "      <td>2213</td>\n",
       "      <td>T�ji Savanier</td>\n",
       "      <td>FRA</td>\n",
       "      <td>MF</td>\n",
       "      <td>Montpellier</td>\n",
       "      <td>Ligue 1</td>\n",
       "      <td>31</td>\n",
       "      <td>1991</td>\n",
       "      <td>18</td>\n",
       "      <td>...</td>\n",
       "      <td>0.00</td>\n",
       "      <td>0.00</td>\n",
       "      <td>0.00</td>\n",
       "      <td>7.86</td>\n",
       "      <td>0.35</td>\n",
       "      <td>0.92</td>\n",
       "      <td>27.3</td>\n",
       "      <td>0.388889</td>\n",
       "      <td>157.935427</td>\n",
       "      <td>Bom</td>\n",
       "    </tr>\n",
       "    <tr>\n",
       "      <th>586</th>\n",
       "      <td>1634</td>\n",
       "      <td>1635</td>\n",
       "      <td>Brais M�ndez</td>\n",
       "      <td>ESP</td>\n",
       "      <td>MF</td>\n",
       "      <td>Real Sociedad</td>\n",
       "      <td>La Liga</td>\n",
       "      <td>26</td>\n",
       "      <td>1997</td>\n",
       "      <td>19</td>\n",
       "      <td>...</td>\n",
       "      <td>0.00</td>\n",
       "      <td>0.00</td>\n",
       "      <td>0.00</td>\n",
       "      <td>4.84</td>\n",
       "      <td>0.81</td>\n",
       "      <td>0.81</td>\n",
       "      <td>50.0</td>\n",
       "      <td>0.368421</td>\n",
       "      <td>157.857652</td>\n",
       "      <td>Bom</td>\n",
       "    </tr>\n",
       "    <tr>\n",
       "      <th>300</th>\n",
       "      <td>839</td>\n",
       "      <td>840</td>\n",
       "      <td>Bruno Fernandes</td>\n",
       "      <td>POR</td>\n",
       "      <td>MFFW</td>\n",
       "      <td>Manchester Utd</td>\n",
       "      <td>Premier League</td>\n",
       "      <td>28</td>\n",
       "      <td>1994</td>\n",
       "      <td>21</td>\n",
       "      <td>...</td>\n",
       "      <td>0.00</td>\n",
       "      <td>0.00</td>\n",
       "      <td>0.00</td>\n",
       "      <td>6.29</td>\n",
       "      <td>0.48</td>\n",
       "      <td>1.52</td>\n",
       "      <td>23.8</td>\n",
       "      <td>0.238095</td>\n",
       "      <td>157.236630</td>\n",
       "      <td>Bom</td>\n",
       "    </tr>\n",
       "    <tr>\n",
       "      <th>667</th>\n",
       "      <td>1876</td>\n",
       "      <td>1877</td>\n",
       "      <td>Levin �ztunal�</td>\n",
       "      <td>GER</td>\n",
       "      <td>MF</td>\n",
       "      <td>Union Berlin</td>\n",
       "      <td>Bundesliga</td>\n",
       "      <td>26</td>\n",
       "      <td>1996</td>\n",
       "      <td>2</td>\n",
       "      <td>...</td>\n",
       "      <td>0.00</td>\n",
       "      <td>0.00</td>\n",
       "      <td>0.00</td>\n",
       "      <td>10.00</td>\n",
       "      <td>0.00</td>\n",
       "      <td>10.00</td>\n",
       "      <td>0.0</td>\n",
       "      <td>0.000000</td>\n",
       "      <td>157.153846</td>\n",
       "      <td>Bom</td>\n",
       "    </tr>\n",
       "    <tr>\n",
       "      <th>302</th>\n",
       "      <td>845</td>\n",
       "      <td>846</td>\n",
       "      <td>Enzo Fern�ndez</td>\n",
       "      <td>ARG</td>\n",
       "      <td>MF</td>\n",
       "      <td>Chelsea</td>\n",
       "      <td>Premier League</td>\n",
       "      <td>22</td>\n",
       "      <td>2001</td>\n",
       "      <td>2</td>\n",
       "      <td>...</td>\n",
       "      <td>0.00</td>\n",
       "      <td>0.00</td>\n",
       "      <td>0.00</td>\n",
       "      <td>8.50</td>\n",
       "      <td>0.50</td>\n",
       "      <td>0.50</td>\n",
       "      <td>50.0</td>\n",
       "      <td>0.000000</td>\n",
       "      <td>156.888462</td>\n",
       "      <td>Bom</td>\n",
       "    </tr>\n",
       "    <tr>\n",
       "      <th>412</th>\n",
       "      <td>1152</td>\n",
       "      <td>1153</td>\n",
       "      <td>Arijon Ibrahimovi?</td>\n",
       "      <td>GER</td>\n",
       "      <td>MF</td>\n",
       "      <td>Bayern Munich</td>\n",
       "      <td>Bundesliga</td>\n",
       "      <td>17</td>\n",
       "      <td>2005</td>\n",
       "      <td>1</td>\n",
       "      <td>...</td>\n",
       "      <td>0.00</td>\n",
       "      <td>0.00</td>\n",
       "      <td>0.00</td>\n",
       "      <td>5.00</td>\n",
       "      <td>10.00</td>\n",
       "      <td>0.00</td>\n",
       "      <td>100.0</td>\n",
       "      <td>0.000000</td>\n",
       "      <td>156.538462</td>\n",
       "      <td>Bom</td>\n",
       "    </tr>\n",
       "    <tr>\n",
       "      <th>626</th>\n",
       "      <td>1754</td>\n",
       "      <td>1755</td>\n",
       "      <td>Joakim M�hle</td>\n",
       "      <td>DEN</td>\n",
       "      <td>DFMF</td>\n",
       "      <td>Atalanta</td>\n",
       "      <td>Serie A</td>\n",
       "      <td>25</td>\n",
       "      <td>1997</td>\n",
       "      <td>19</td>\n",
       "      <td>...</td>\n",
       "      <td>0.00</td>\n",
       "      <td>0.00</td>\n",
       "      <td>0.00</td>\n",
       "      <td>6.07</td>\n",
       "      <td>0.26</td>\n",
       "      <td>0.51</td>\n",
       "      <td>33.3</td>\n",
       "      <td>0.105263</td>\n",
       "      <td>154.878421</td>\n",
       "      <td>Bom</td>\n",
       "    </tr>\n",
       "    <tr>\n",
       "      <th>794</th>\n",
       "      <td>2187</td>\n",
       "      <td>2188</td>\n",
       "      <td>Oihan Sancet</td>\n",
       "      <td>ESP</td>\n",
       "      <td>MF</td>\n",
       "      <td>Athletic Club</td>\n",
       "      <td>La Liga</td>\n",
       "      <td>22</td>\n",
       "      <td>2000</td>\n",
       "      <td>21</td>\n",
       "      <td>...</td>\n",
       "      <td>0.00</td>\n",
       "      <td>0.00</td>\n",
       "      <td>0.00</td>\n",
       "      <td>5.61</td>\n",
       "      <td>0.83</td>\n",
       "      <td>0.64</td>\n",
       "      <td>56.5</td>\n",
       "      <td>0.380952</td>\n",
       "      <td>154.783223</td>\n",
       "      <td>Bom</td>\n",
       "    </tr>\n",
       "    <tr>\n",
       "      <th>341</th>\n",
       "      <td>966</td>\n",
       "      <td>967</td>\n",
       "      <td>Aleksandr Golovin</td>\n",
       "      <td>RUS</td>\n",
       "      <td>MFFW</td>\n",
       "      <td>Monaco</td>\n",
       "      <td>Ligue 1</td>\n",
       "      <td>26</td>\n",
       "      <td>1996</td>\n",
       "      <td>22</td>\n",
       "      <td>...</td>\n",
       "      <td>0.00</td>\n",
       "      <td>0.00</td>\n",
       "      <td>0.00</td>\n",
       "      <td>5.37</td>\n",
       "      <td>0.69</td>\n",
       "      <td>1.03</td>\n",
       "      <td>40.0</td>\n",
       "      <td>0.227273</td>\n",
       "      <td>154.110210</td>\n",
       "      <td>Bom</td>\n",
       "    </tr>\n",
       "    <tr>\n",
       "      <th>270</th>\n",
       "      <td>758</td>\n",
       "      <td>759</td>\n",
       "      <td>Malcolm Ebiowei</td>\n",
       "      <td>ENG</td>\n",
       "      <td>MFFW</td>\n",
       "      <td>Crystal Palace</td>\n",
       "      <td>Premier League</td>\n",
       "      <td>19</td>\n",
       "      <td>2003</td>\n",
       "      <td>3</td>\n",
       "      <td>...</td>\n",
       "      <td>0.00</td>\n",
       "      <td>0.00</td>\n",
       "      <td>0.00</td>\n",
       "      <td>0.00</td>\n",
       "      <td>0.00</td>\n",
       "      <td>0.00</td>\n",
       "      <td>0.0</td>\n",
       "      <td>0.000000</td>\n",
       "      <td>154.025641</td>\n",
       "      <td>Bom</td>\n",
       "    </tr>\n",
       "    <tr>\n",
       "      <th>409</th>\n",
       "      <td>1147</td>\n",
       "      <td>1148</td>\n",
       "      <td>Pierre H�jbjerg</td>\n",
       "      <td>DEN</td>\n",
       "      <td>MF</td>\n",
       "      <td>Tottenham</td>\n",
       "      <td>Premier League</td>\n",
       "      <td>27</td>\n",
       "      <td>1995</td>\n",
       "      <td>22</td>\n",
       "      <td>...</td>\n",
       "      <td>0.00</td>\n",
       "      <td>0.00</td>\n",
       "      <td>0.00</td>\n",
       "      <td>7.61</td>\n",
       "      <td>0.69</td>\n",
       "      <td>0.18</td>\n",
       "      <td>78.9</td>\n",
       "      <td>0.181818</td>\n",
       "      <td>153.633357</td>\n",
       "      <td>Bom</td>\n",
       "    </tr>\n",
       "    <tr>\n",
       "      <th>203</th>\n",
       "      <td>544</td>\n",
       "      <td>545</td>\n",
       "      <td>�ngel Correa</td>\n",
       "      <td>ARG</td>\n",
       "      <td>MFFW</td>\n",
       "      <td>Atl�tico Madrid</td>\n",
       "      <td>La Liga</td>\n",
       "      <td>27</td>\n",
       "      <td>1995</td>\n",
       "      <td>19</td>\n",
       "      <td>...</td>\n",
       "      <td>0.00</td>\n",
       "      <td>0.00</td>\n",
       "      <td>0.00</td>\n",
       "      <td>3.52</td>\n",
       "      <td>0.22</td>\n",
       "      <td>1.10</td>\n",
       "      <td>16.7</td>\n",
       "      <td>0.263158</td>\n",
       "      <td>152.855789</td>\n",
       "      <td>Bom</td>\n",
       "    </tr>\n",
       "    <tr>\n",
       "      <th>823</th>\n",
       "      <td>2268</td>\n",
       "      <td>2269</td>\n",
       "      <td>Bernardo Silva</td>\n",
       "      <td>POR</td>\n",
       "      <td>MFFW</td>\n",
       "      <td>Manchester City</td>\n",
       "      <td>Premier League</td>\n",
       "      <td>28</td>\n",
       "      <td>1994</td>\n",
       "      <td>20</td>\n",
       "      <td>...</td>\n",
       "      <td>0.06</td>\n",
       "      <td>0.00</td>\n",
       "      <td>0.00</td>\n",
       "      <td>4.46</td>\n",
       "      <td>0.13</td>\n",
       "      <td>0.32</td>\n",
       "      <td>28.6</td>\n",
       "      <td>0.100000</td>\n",
       "      <td>152.808269</td>\n",
       "      <td>Bom</td>\n",
       "    </tr>\n",
       "    <tr>\n",
       "      <th>163</th>\n",
       "      <td>431</td>\n",
       "      <td>432</td>\n",
       "      <td>Valentin Carboni</td>\n",
       "      <td>ITA</td>\n",
       "      <td>MFFW</td>\n",
       "      <td>Inter</td>\n",
       "      <td>Serie A</td>\n",
       "      <td>17</td>\n",
       "      <td>2005</td>\n",
       "      <td>2</td>\n",
       "      <td>...</td>\n",
       "      <td>0.00</td>\n",
       "      <td>0.00</td>\n",
       "      <td>0.00</td>\n",
       "      <td>20.00</td>\n",
       "      <td>0.00</td>\n",
       "      <td>0.00</td>\n",
       "      <td>0.0</td>\n",
       "      <td>0.000000</td>\n",
       "      <td>152.769231</td>\n",
       "      <td>Bom</td>\n",
       "    </tr>\n",
       "    <tr>\n",
       "      <th>470</th>\n",
       "      <td>1332</td>\n",
       "      <td>1333</td>\n",
       "      <td>Andrej Kramari?</td>\n",
       "      <td>CRO</td>\n",
       "      <td>MFFW</td>\n",
       "      <td>Hoffenheim</td>\n",
       "      <td>Bundesliga</td>\n",
       "      <td>31</td>\n",
       "      <td>1991</td>\n",
       "      <td>19</td>\n",
       "      <td>...</td>\n",
       "      <td>0.00</td>\n",
       "      <td>0.00</td>\n",
       "      <td>0.00</td>\n",
       "      <td>4.01</td>\n",
       "      <td>0.39</td>\n",
       "      <td>0.20</td>\n",
       "      <td>66.7</td>\n",
       "      <td>0.263158</td>\n",
       "      <td>152.697814</td>\n",
       "      <td>Bom</td>\n",
       "    </tr>\n",
       "    <tr>\n",
       "      <th>74</th>\n",
       "      <td>198</td>\n",
       "      <td>199</td>\n",
       "      <td>Nicol� Barella</td>\n",
       "      <td>ITA</td>\n",
       "      <td>MF</td>\n",
       "      <td>Inter</td>\n",
       "      <td>Serie A</td>\n",
       "      <td>26</td>\n",
       "      <td>1997</td>\n",
       "      <td>20</td>\n",
       "      <td>...</td>\n",
       "      <td>0.00</td>\n",
       "      <td>0.00</td>\n",
       "      <td>0.00</td>\n",
       "      <td>5.92</td>\n",
       "      <td>0.78</td>\n",
       "      <td>0.39</td>\n",
       "      <td>66.7</td>\n",
       "      <td>0.250000</td>\n",
       "      <td>152.651731</td>\n",
       "      <td>Bom</td>\n",
       "    </tr>\n",
       "    <tr>\n",
       "      <th>172</th>\n",
       "      <td>451</td>\n",
       "      <td>452</td>\n",
       "      <td>Casemiro</td>\n",
       "      <td>BRA</td>\n",
       "      <td>MF</td>\n",
       "      <td>Real Madrid</td>\n",
       "      <td>La Liga</td>\n",
       "      <td>30</td>\n",
       "      <td>1992</td>\n",
       "      <td>1</td>\n",
       "      <td>...</td>\n",
       "      <td>0.00</td>\n",
       "      <td>0.00</td>\n",
       "      <td>0.00</td>\n",
       "      <td>10.00</td>\n",
       "      <td>0.00</td>\n",
       "      <td>0.00</td>\n",
       "      <td>0.0</td>\n",
       "      <td>0.000000</td>\n",
       "      <td>152.076923</td>\n",
       "      <td>Bom</td>\n",
       "    </tr>\n",
       "    <tr>\n",
       "      <th>668</th>\n",
       "      <td>1880</td>\n",
       "      <td>1881</td>\n",
       "      <td>Simone Pafundi</td>\n",
       "      <td>ITA</td>\n",
       "      <td>MF</td>\n",
       "      <td>Udinese</td>\n",
       "      <td>Serie A</td>\n",
       "      <td>16</td>\n",
       "      <td>2006</td>\n",
       "      <td>1</td>\n",
       "      <td>...</td>\n",
       "      <td>0.00</td>\n",
       "      <td>0.00</td>\n",
       "      <td>0.00</td>\n",
       "      <td>20.00</td>\n",
       "      <td>0.00</td>\n",
       "      <td>0.00</td>\n",
       "      <td>0.0</td>\n",
       "      <td>0.000000</td>\n",
       "      <td>151.615385</td>\n",
       "      <td>Bom</td>\n",
       "    </tr>\n",
       "    <tr>\n",
       "      <th>603</th>\n",
       "      <td>1685</td>\n",
       "      <td>1686</td>\n",
       "      <td>Luka Modri?</td>\n",
       "      <td>CRO</td>\n",
       "      <td>MF</td>\n",
       "      <td>Real Madrid</td>\n",
       "      <td>La Liga</td>\n",
       "      <td>37</td>\n",
       "      <td>1985</td>\n",
       "      <td>19</td>\n",
       "      <td>...</td>\n",
       "      <td>0.00</td>\n",
       "      <td>0.00</td>\n",
       "      <td>0.00</td>\n",
       "      <td>3.76</td>\n",
       "      <td>0.56</td>\n",
       "      <td>0.48</td>\n",
       "      <td>53.8</td>\n",
       "      <td>0.157895</td>\n",
       "      <td>150.926721</td>\n",
       "      <td>Bom</td>\n",
       "    </tr>\n",
       "    <tr>\n",
       "      <th>756</th>\n",
       "      <td>2092</td>\n",
       "      <td>2093</td>\n",
       "      <td>Joel Roca</td>\n",
       "      <td>ESP</td>\n",
       "      <td>MFFW</td>\n",
       "      <td>Girona</td>\n",
       "      <td>La Liga</td>\n",
       "      <td>17</td>\n",
       "      <td>2005</td>\n",
       "      <td>4</td>\n",
       "      <td>...</td>\n",
       "      <td>0.00</td>\n",
       "      <td>0.00</td>\n",
       "      <td>0.00</td>\n",
       "      <td>7.14</td>\n",
       "      <td>0.00</td>\n",
       "      <td>0.00</td>\n",
       "      <td>0.0</td>\n",
       "      <td>0.000000</td>\n",
       "      <td>150.411154</td>\n",
       "      <td>Bom</td>\n",
       "    </tr>\n",
       "    <tr>\n",
       "      <th>18</th>\n",
       "      <td>53</td>\n",
       "      <td>54</td>\n",
       "      <td>Luis Alberto</td>\n",
       "      <td>ESP</td>\n",
       "      <td>MF</td>\n",
       "      <td>Lazio</td>\n",
       "      <td>Serie A</td>\n",
       "      <td>30</td>\n",
       "      <td>1992</td>\n",
       "      <td>19</td>\n",
       "      <td>...</td>\n",
       "      <td>0.00</td>\n",
       "      <td>0.00</td>\n",
       "      <td>0.00</td>\n",
       "      <td>6.07</td>\n",
       "      <td>0.26</td>\n",
       "      <td>0.60</td>\n",
       "      <td>30.0</td>\n",
       "      <td>0.210526</td>\n",
       "      <td>150.002105</td>\n",
       "      <td>Bom</td>\n",
       "    </tr>\n",
       "    <tr>\n",
       "      <th>506</th>\n",
       "      <td>1435</td>\n",
       "      <td>1436</td>\n",
       "      <td>Jesper Lindstr�m</td>\n",
       "      <td>DEN</td>\n",
       "      <td>MFFW</td>\n",
       "      <td>Eint Frankfurt</td>\n",
       "      <td>Bundesliga</td>\n",
       "      <td>22</td>\n",
       "      <td>2000</td>\n",
       "      <td>18</td>\n",
       "      <td>...</td>\n",
       "      <td>0.07</td>\n",
       "      <td>0.00</td>\n",
       "      <td>0.00</td>\n",
       "      <td>5.07</td>\n",
       "      <td>0.45</td>\n",
       "      <td>1.27</td>\n",
       "      <td>26.1</td>\n",
       "      <td>0.388889</td>\n",
       "      <td>149.360128</td>\n",
       "      <td>Bom</td>\n",
       "    </tr>\n",
       "    <tr>\n",
       "      <th>818</th>\n",
       "      <td>2258</td>\n",
       "      <td>2259</td>\n",
       "      <td>Stephan El Shaarawy</td>\n",
       "      <td>ITA</td>\n",
       "      <td>DFMF</td>\n",
       "      <td>Roma</td>\n",
       "      <td>Serie A</td>\n",
       "      <td>30</td>\n",
       "      <td>1992</td>\n",
       "      <td>16</td>\n",
       "      <td>...</td>\n",
       "      <td>0.00</td>\n",
       "      <td>0.00</td>\n",
       "      <td>0.00</td>\n",
       "      <td>5.57</td>\n",
       "      <td>0.76</td>\n",
       "      <td>1.01</td>\n",
       "      <td>42.9</td>\n",
       "      <td>0.187500</td>\n",
       "      <td>148.352404</td>\n",
       "      <td>Bom</td>\n",
       "    </tr>\n",
       "    <tr>\n",
       "      <th>636</th>\n",
       "      <td>1779</td>\n",
       "      <td>1780</td>\n",
       "      <td>R�ben Neves</td>\n",
       "      <td>POR</td>\n",
       "      <td>MF</td>\n",
       "      <td>Wolves</td>\n",
       "      <td>Premier League</td>\n",
       "      <td>25</td>\n",
       "      <td>1997</td>\n",
       "      <td>21</td>\n",
       "      <td>...</td>\n",
       "      <td>0.00</td>\n",
       "      <td>0.05</td>\n",
       "      <td>0.00</td>\n",
       "      <td>7.14</td>\n",
       "      <td>0.76</td>\n",
       "      <td>0.81</td>\n",
       "      <td>48.5</td>\n",
       "      <td>0.238095</td>\n",
       "      <td>148.028864</td>\n",
       "      <td>Bom</td>\n",
       "    </tr>\n",
       "    <tr>\n",
       "      <th>584</th>\n",
       "      <td>1632</td>\n",
       "      <td>1633</td>\n",
       "      <td>Nuno Mendes</td>\n",
       "      <td>POR</td>\n",
       "      <td>DFMF</td>\n",
       "      <td>Paris S-G</td>\n",
       "      <td>Ligue 1</td>\n",
       "      <td>20</td>\n",
       "      <td>2002</td>\n",
       "      <td>14</td>\n",
       "      <td>...</td>\n",
       "      <td>0.00</td>\n",
       "      <td>0.00</td>\n",
       "      <td>0.00</td>\n",
       "      <td>5.00</td>\n",
       "      <td>0.60</td>\n",
       "      <td>0.30</td>\n",
       "      <td>66.7</td>\n",
       "      <td>0.071429</td>\n",
       "      <td>147.281429</td>\n",
       "      <td>Bom</td>\n",
       "    </tr>\n",
       "    <tr>\n",
       "      <th>119</th>\n",
       "      <td>307</td>\n",
       "      <td>308</td>\n",
       "      <td>Jeremie Boga</td>\n",
       "      <td>CIV</td>\n",
       "      <td>MFFW</td>\n",
       "      <td>Atalanta</td>\n",
       "      <td>Serie A</td>\n",
       "      <td>26</td>\n",
       "      <td>1997</td>\n",
       "      <td>12</td>\n",
       "      <td>...</td>\n",
       "      <td>0.00</td>\n",
       "      <td>0.00</td>\n",
       "      <td>0.00</td>\n",
       "      <td>3.41</td>\n",
       "      <td>0.68</td>\n",
       "      <td>0.68</td>\n",
       "      <td>50.0</td>\n",
       "      <td>0.083333</td>\n",
       "      <td>146.765256</td>\n",
       "      <td>Bom</td>\n",
       "    </tr>\n",
       "    <tr>\n",
       "      <th>165</th>\n",
       "      <td>439</td>\n",
       "      <td>440</td>\n",
       "      <td>Jos� Carlos Lazo</td>\n",
       "      <td>ESP</td>\n",
       "      <td>MFFW</td>\n",
       "      <td>Almer�a</td>\n",
       "      <td>La Liga</td>\n",
       "      <td>26</td>\n",
       "      <td>1996</td>\n",
       "      <td>1</td>\n",
       "      <td>...</td>\n",
       "      <td>0.00</td>\n",
       "      <td>0.00</td>\n",
       "      <td>0.00</td>\n",
       "      <td>5.00</td>\n",
       "      <td>0.00</td>\n",
       "      <td>0.00</td>\n",
       "      <td>0.0</td>\n",
       "      <td>0.000000</td>\n",
       "      <td>146.230769</td>\n",
       "      <td>Bom</td>\n",
       "    </tr>\n",
       "    <tr>\n",
       "      <th>102</th>\n",
       "      <td>265</td>\n",
       "      <td>266</td>\n",
       "      <td>Patrick Berg</td>\n",
       "      <td>NOR</td>\n",
       "      <td>MFFW</td>\n",
       "      <td>Lens</td>\n",
       "      <td>Ligue 1</td>\n",
       "      <td>25</td>\n",
       "      <td>1997</td>\n",
       "      <td>3</td>\n",
       "      <td>...</td>\n",
       "      <td>0.00</td>\n",
       "      <td>0.00</td>\n",
       "      <td>0.00</td>\n",
       "      <td>3.33</td>\n",
       "      <td>0.00</td>\n",
       "      <td>0.00</td>\n",
       "      <td>0.0</td>\n",
       "      <td>0.000000</td>\n",
       "      <td>145.978974</td>\n",
       "      <td>Bom</td>\n",
       "    </tr>\n",
       "    <tr>\n",
       "      <th>759</th>\n",
       "      <td>2098</td>\n",
       "      <td>2099</td>\n",
       "      <td>Rodri</td>\n",
       "      <td>ESP</td>\n",
       "      <td>MF</td>\n",
       "      <td>Manchester City</td>\n",
       "      <td>Premier League</td>\n",
       "      <td>26</td>\n",
       "      <td>1996</td>\n",
       "      <td>20</td>\n",
       "      <td>...</td>\n",
       "      <td>0.00</td>\n",
       "      <td>0.00</td>\n",
       "      <td>0.00</td>\n",
       "      <td>9.74</td>\n",
       "      <td>2.44</td>\n",
       "      <td>1.19</td>\n",
       "      <td>67.1</td>\n",
       "      <td>0.050000</td>\n",
       "      <td>145.584500</td>\n",
       "      <td>Bom</td>\n",
       "    </tr>\n",
       "    <tr>\n",
       "      <th>307</th>\n",
       "      <td>866</td>\n",
       "      <td>867</td>\n",
       "      <td>Seko Fofana</td>\n",
       "      <td>CIV</td>\n",
       "      <td>MF</td>\n",
       "      <td>Lens</td>\n",
       "      <td>Ligue 1</td>\n",
       "      <td>27</td>\n",
       "      <td>1995</td>\n",
       "      <td>20</td>\n",
       "      <td>...</td>\n",
       "      <td>0.05</td>\n",
       "      <td>0.00</td>\n",
       "      <td>0.00</td>\n",
       "      <td>5.52</td>\n",
       "      <td>0.62</td>\n",
       "      <td>0.52</td>\n",
       "      <td>54.5</td>\n",
       "      <td>0.150000</td>\n",
       "      <td>145.269000</td>\n",
       "      <td>Bom</td>\n",
       "    </tr>\n",
       "    <tr>\n",
       "      <th>972</th>\n",
       "      <td>2671</td>\n",
       "      <td>2672</td>\n",
       "      <td>Piotr Zieli?ski</td>\n",
       "      <td>POL</td>\n",
       "      <td>MF</td>\n",
       "      <td>Napoli</td>\n",
       "      <td>Serie A</td>\n",
       "      <td>28</td>\n",
       "      <td>1994</td>\n",
       "      <td>21</td>\n",
       "      <td>...</td>\n",
       "      <td>0.00</td>\n",
       "      <td>0.00</td>\n",
       "      <td>0.00</td>\n",
       "      <td>4.04</td>\n",
       "      <td>0.14</td>\n",
       "      <td>0.55</td>\n",
       "      <td>20.0</td>\n",
       "      <td>0.142857</td>\n",
       "      <td>142.131392</td>\n",
       "      <td>Bom</td>\n",
       "    </tr>\n",
       "    <tr>\n",
       "      <th>685</th>\n",
       "      <td>1907</td>\n",
       "      <td>1908</td>\n",
       "      <td>Javier Pastore</td>\n",
       "      <td>ARG</td>\n",
       "      <td>MF</td>\n",
       "      <td>Elche</td>\n",
       "      <td>La Liga</td>\n",
       "      <td>33</td>\n",
       "      <td>1989</td>\n",
       "      <td>1</td>\n",
       "      <td>...</td>\n",
       "      <td>0.00</td>\n",
       "      <td>0.00</td>\n",
       "      <td>0.00</td>\n",
       "      <td>10.00</td>\n",
       "      <td>0.00</td>\n",
       "      <td>0.00</td>\n",
       "      <td>0.0</td>\n",
       "      <td>0.000000</td>\n",
       "      <td>141.923077</td>\n",
       "      <td>Bom</td>\n",
       "    </tr>\n",
       "    <tr>\n",
       "      <th>722</th>\n",
       "      <td>2011</td>\n",
       "      <td>2012</td>\n",
       "      <td>Mehdi Puch Herrantz</td>\n",
       "      <td>FRA</td>\n",
       "      <td>MF</td>\n",
       "      <td>Ajaccio</td>\n",
       "      <td>Ligue 1</td>\n",
       "      <td>19</td>\n",
       "      <td>2004</td>\n",
       "      <td>1</td>\n",
       "      <td>...</td>\n",
       "      <td>0.00</td>\n",
       "      <td>0.00</td>\n",
       "      <td>0.00</td>\n",
       "      <td>20.00</td>\n",
       "      <td>0.00</td>\n",
       "      <td>0.00</td>\n",
       "      <td>0.0</td>\n",
       "      <td>0.000000</td>\n",
       "      <td>141.615385</td>\n",
       "      <td>Bom</td>\n",
       "    </tr>\n",
       "    <tr>\n",
       "      <th>954</th>\n",
       "      <td>2631</td>\n",
       "      <td>2632</td>\n",
       "      <td>Granit Xhaka</td>\n",
       "      <td>SUI</td>\n",
       "      <td>MF</td>\n",
       "      <td>Arsenal</td>\n",
       "      <td>Premier League</td>\n",
       "      <td>30</td>\n",
       "      <td>1992</td>\n",
       "      <td>21</td>\n",
       "      <td>...</td>\n",
       "      <td>0.00</td>\n",
       "      <td>0.00</td>\n",
       "      <td>0.00</td>\n",
       "      <td>4.65</td>\n",
       "      <td>1.06</td>\n",
       "      <td>0.86</td>\n",
       "      <td>55.3</td>\n",
       "      <td>0.142857</td>\n",
       "      <td>141.062857</td>\n",
       "      <td>Bom</td>\n",
       "    </tr>\n",
       "    <tr>\n",
       "      <th>48</th>\n",
       "      <td>123</td>\n",
       "      <td>124</td>\n",
       "      <td>Roberto Arroyo</td>\n",
       "      <td>ESP</td>\n",
       "      <td>MF</td>\n",
       "      <td>Valladolid</td>\n",
       "      <td>La Liga</td>\n",
       "      <td>19</td>\n",
       "      <td>2003</td>\n",
       "      <td>1</td>\n",
       "      <td>...</td>\n",
       "      <td>0.00</td>\n",
       "      <td>0.00</td>\n",
       "      <td>0.00</td>\n",
       "      <td>0.00</td>\n",
       "      <td>0.00</td>\n",
       "      <td>0.00</td>\n",
       "      <td>0.0</td>\n",
       "      <td>0.000000</td>\n",
       "      <td>141.000000</td>\n",
       "      <td>Bom</td>\n",
       "    </tr>\n",
       "    <tr>\n",
       "      <th>861</th>\n",
       "      <td>2385</td>\n",
       "      <td>2386</td>\n",
       "      <td>Dominik Szoboszlai</td>\n",
       "      <td>HUN</td>\n",
       "      <td>MFFW</td>\n",
       "      <td>RB Leipzig</td>\n",
       "      <td>Bundesliga</td>\n",
       "      <td>22</td>\n",
       "      <td>2000</td>\n",
       "      <td>18</td>\n",
       "      <td>...</td>\n",
       "      <td>0.00</td>\n",
       "      <td>0.00</td>\n",
       "      <td>0.00</td>\n",
       "      <td>6.67</td>\n",
       "      <td>0.27</td>\n",
       "      <td>0.60</td>\n",
       "      <td>30.8</td>\n",
       "      <td>0.166667</td>\n",
       "      <td>140.620000</td>\n",
       "      <td>Bom</td>\n",
       "    </tr>\n",
       "    <tr>\n",
       "      <th>422</th>\n",
       "      <td>1181</td>\n",
       "      <td>1182</td>\n",
       "      <td>Lee Jae-sung</td>\n",
       "      <td>KOR</td>\n",
       "      <td>MF</td>\n",
       "      <td>Mainz 05</td>\n",
       "      <td>Bundesliga</td>\n",
       "      <td>30</td>\n",
       "      <td>1992</td>\n",
       "      <td>20</td>\n",
       "      <td>...</td>\n",
       "      <td>0.00</td>\n",
       "      <td>0.00</td>\n",
       "      <td>0.00</td>\n",
       "      <td>6.05</td>\n",
       "      <td>2.02</td>\n",
       "      <td>2.02</td>\n",
       "      <td>50.0</td>\n",
       "      <td>0.300000</td>\n",
       "      <td>140.433769</td>\n",
       "      <td>Bom</td>\n",
       "    </tr>\n",
       "    <tr>\n",
       "      <th>95</th>\n",
       "      <td>246</td>\n",
       "      <td>247</td>\n",
       "      <td>Jude Bellingham</td>\n",
       "      <td>ENG</td>\n",
       "      <td>MF</td>\n",
       "      <td>Dortmund</td>\n",
       "      <td>Bundesliga</td>\n",
       "      <td>19</td>\n",
       "      <td>2003</td>\n",
       "      <td>19</td>\n",
       "      <td>...</td>\n",
       "      <td>0.00</td>\n",
       "      <td>0.00</td>\n",
       "      <td>0.00</td>\n",
       "      <td>7.71</td>\n",
       "      <td>1.38</td>\n",
       "      <td>1.06</td>\n",
       "      <td>56.5</td>\n",
       "      <td>0.210526</td>\n",
       "      <td>140.338462</td>\n",
       "      <td>Bom</td>\n",
       "    </tr>\n",
       "    <tr>\n",
       "      <th>687</th>\n",
       "      <td>1915</td>\n",
       "      <td>1916</td>\n",
       "      <td>Dimitri Payet</td>\n",
       "      <td>FRA</td>\n",
       "      <td>MFFW</td>\n",
       "      <td>Marseille</td>\n",
       "      <td>Ligue 1</td>\n",
       "      <td>35</td>\n",
       "      <td>1987</td>\n",
       "      <td>18</td>\n",
       "      <td>...</td>\n",
       "      <td>0.00</td>\n",
       "      <td>0.00</td>\n",
       "      <td>0.00</td>\n",
       "      <td>5.00</td>\n",
       "      <td>0.13</td>\n",
       "      <td>0.38</td>\n",
       "      <td>25.0</td>\n",
       "      <td>0.111111</td>\n",
       "      <td>140.001282</td>\n",
       "      <td>Bom</td>\n",
       "    </tr>\n",
       "    <tr>\n",
       "      <th>914</th>\n",
       "      <td>2535</td>\n",
       "      <td>2536</td>\n",
       "      <td>Jordan Veretout</td>\n",
       "      <td>FRA</td>\n",
       "      <td>MF</td>\n",
       "      <td>Marseille</td>\n",
       "      <td>Ligue 1</td>\n",
       "      <td>29</td>\n",
       "      <td>1993</td>\n",
       "      <td>23</td>\n",
       "      <td>...</td>\n",
       "      <td>0.00</td>\n",
       "      <td>0.00</td>\n",
       "      <td>0.06</td>\n",
       "      <td>7.44</td>\n",
       "      <td>0.65</td>\n",
       "      <td>0.83</td>\n",
       "      <td>44.0</td>\n",
       "      <td>0.130435</td>\n",
       "      <td>139.543110</td>\n",
       "      <td>Bom</td>\n",
       "    </tr>\n",
       "    <tr>\n",
       "      <th>436</th>\n",
       "      <td>1217</td>\n",
       "      <td>1218</td>\n",
       "      <td>Jorginho</td>\n",
       "      <td>ITA</td>\n",
       "      <td>MF</td>\n",
       "      <td>Arsenal</td>\n",
       "      <td>Premier League</td>\n",
       "      <td>31</td>\n",
       "      <td>1991</td>\n",
       "      <td>1</td>\n",
       "      <td>...</td>\n",
       "      <td>0.00</td>\n",
       "      <td>0.00</td>\n",
       "      <td>0.00</td>\n",
       "      <td>7.50</td>\n",
       "      <td>2.50</td>\n",
       "      <td>2.50</td>\n",
       "      <td>50.0</td>\n",
       "      <td>0.000000</td>\n",
       "      <td>139.423077</td>\n",
       "      <td>Bom</td>\n",
       "    </tr>\n",
       "    <tr>\n",
       "      <th>492</th>\n",
       "      <td>1396</td>\n",
       "      <td>1397</td>\n",
       "      <td>Enzo Le F�e</td>\n",
       "      <td>FRA</td>\n",
       "      <td>MF</td>\n",
       "      <td>Lorient</td>\n",
       "      <td>Ligue 1</td>\n",
       "      <td>23</td>\n",
       "      <td>2000</td>\n",
       "      <td>22</td>\n",
       "      <td>...</td>\n",
       "      <td>0.00</td>\n",
       "      <td>0.00</td>\n",
       "      <td>0.00</td>\n",
       "      <td>7.38</td>\n",
       "      <td>0.42</td>\n",
       "      <td>0.89</td>\n",
       "      <td>32.1</td>\n",
       "      <td>0.181818</td>\n",
       "      <td>139.051084</td>\n",
       "      <td>Bom</td>\n",
       "    </tr>\n",
       "  </tbody>\n",
       "</table>\n",
       "<p>60 rows × 128 columns</p>\n",
       "</div>"
      ],
      "text/plain": [
       "      _c0    Rk                 Player Nation   Pos            Squad  \\\n",
       "690  1920  1921                  Pedri    ESP  MFFW        Barcelona   \n",
       "224   612   613        Kevin De Bruyne    BEL    MF  Manchester City   \n",
       "736  2041  2042        Lilian Raolisoa    FRA  MFDF           Angers   \n",
       "234   642   643  Branco van den Boomen    NED    MF         Toulouse   \n",
       "76    202   203          Harvey Barnes    ENG  MFFW   Leicester City   \n",
       "314   885   886  Przemys?aw Frankowski    POL  DFMF             Lens   \n",
       "473  1337  1338             Toni Kroos    GER    MF      Real Madrid   \n",
       "457  1293  1294         Joshua Kimmich    GER    MF    Bayern Munich   \n",
       "924  2549  2550        Emanuel Vignato    ITA    MF           Empoli   \n",
       "946  2602  2603           Harvey White    ENG    MF        Tottenham   \n",
       "128   333   334    Benjamin Bourigeaud    FRA  MFFW           Rennes   \n",
       "348   977   978           Sergio G�mez    ESP  DFMF  Manchester City   \n",
       "318   895   896       Jeremie Frimpong    NED  DFMF       Leverkusen   \n",
       "748  2074  2075          Franck Rib�ry    FRA    MF      Salernitana   \n",
       "676  1894  1895          Lucas Paquet�    BRA    MF             Lyon   \n",
       "444  1252  1253          Daichi Kamada    JPN  MFFW   Eint Frankfurt   \n",
       "426  1190  1191            Reece James    ENG  DFMF          Chelsea   \n",
       "463  1316  1317       Teun Koopmeiners    NED    MF         Atalanta   \n",
       "804  2212  2213          T�ji Savanier    FRA    MF      Montpellier   \n",
       "586  1634  1635           Brais M�ndez    ESP    MF    Real Sociedad   \n",
       "300   839   840        Bruno Fernandes    POR  MFFW   Manchester Utd   \n",
       "667  1876  1877         Levin �ztunal�    GER    MF     Union Berlin   \n",
       "302   845   846         Enzo Fern�ndez    ARG    MF          Chelsea   \n",
       "412  1152  1153     Arijon Ibrahimovi?    GER    MF    Bayern Munich   \n",
       "626  1754  1755           Joakim M�hle    DEN  DFMF         Atalanta   \n",
       "794  2187  2188           Oihan Sancet    ESP    MF    Athletic Club   \n",
       "341   966   967      Aleksandr Golovin    RUS  MFFW           Monaco   \n",
       "270   758   759        Malcolm Ebiowei    ENG  MFFW   Crystal Palace   \n",
       "409  1147  1148        Pierre H�jbjerg    DEN    MF        Tottenham   \n",
       "203   544   545           �ngel Correa    ARG  MFFW  Atl�tico Madrid   \n",
       "823  2268  2269         Bernardo Silva    POR  MFFW  Manchester City   \n",
       "163   431   432       Valentin Carboni    ITA  MFFW            Inter   \n",
       "470  1332  1333        Andrej Kramari?    CRO  MFFW       Hoffenheim   \n",
       "74    198   199         Nicol� Barella    ITA    MF            Inter   \n",
       "172   451   452               Casemiro    BRA    MF      Real Madrid   \n",
       "668  1880  1881         Simone Pafundi    ITA    MF          Udinese   \n",
       "603  1685  1686            Luka Modri?    CRO    MF      Real Madrid   \n",
       "756  2092  2093              Joel Roca    ESP  MFFW           Girona   \n",
       "18     53    54           Luis Alberto    ESP    MF            Lazio   \n",
       "506  1435  1436       Jesper Lindstr�m    DEN  MFFW   Eint Frankfurt   \n",
       "818  2258  2259    Stephan El Shaarawy    ITA  DFMF             Roma   \n",
       "636  1779  1780            R�ben Neves    POR    MF           Wolves   \n",
       "584  1632  1633            Nuno Mendes    POR  DFMF        Paris S-G   \n",
       "119   307   308           Jeremie Boga    CIV  MFFW         Atalanta   \n",
       "165   439   440       Jos� Carlos Lazo    ESP  MFFW          Almer�a   \n",
       "102   265   266           Patrick Berg    NOR  MFFW             Lens   \n",
       "759  2098  2099                  Rodri    ESP    MF  Manchester City   \n",
       "307   866   867            Seko Fofana    CIV    MF             Lens   \n",
       "972  2671  2672        Piotr Zieli?ski    POL    MF           Napoli   \n",
       "685  1907  1908         Javier Pastore    ARG    MF            Elche   \n",
       "722  2011  2012    Mehdi Puch Herrantz    FRA    MF          Ajaccio   \n",
       "954  2631  2632           Granit Xhaka    SUI    MF          Arsenal   \n",
       "48    123   124         Roberto Arroyo    ESP    MF       Valladolid   \n",
       "861  2385  2386     Dominik Szoboszlai    HUN  MFFW       RB Leipzig   \n",
       "422  1181  1182           Lee Jae-sung    KOR    MF         Mainz 05   \n",
       "95    246   247        Jude Bellingham    ENG    MF         Dortmund   \n",
       "687  1915  1916          Dimitri Payet    FRA  MFFW        Marseille   \n",
       "914  2535  2536        Jordan Veretout    FRA    MF        Marseille   \n",
       "436  1217  1218               Jorginho    ITA    MF          Arsenal   \n",
       "492  1396  1397            Enzo Le F�e    FRA    MF          Lorient   \n",
       "\n",
       "               Comp  Age  Born  MP  ...  PKwon  PKcon    OG  Recov  AerWon  \\\n",
       "690         La Liga   20  2002  20  ...   0.00   0.00  0.00   6.26    0.06   \n",
       "224  Premier League   31  1991  20  ...   0.06   0.00  0.00   3.71    0.45   \n",
       "736         Ligue 1   22  2000   2  ...   0.00   0.00  0.00  10.00    0.00   \n",
       "234         Ligue 1   27  1995  22  ...   0.00   0.00  0.00   6.03    0.28   \n",
       "76   Premier League   25  1997  20  ...   0.00   0.00  0.00   3.03    1.01   \n",
       "314         Ligue 1   27  1995  22  ...   0.00   0.00  0.00   4.63    0.40   \n",
       "473         La Liga   33  1990  17  ...   0.00   0.00  0.00   6.67    0.37   \n",
       "457      Bundesliga   28  1995  19  ...   0.00   0.00  0.00   9.10    0.62   \n",
       "924         Serie A   22  2000   1  ...   0.00   0.00  0.00  10.00    0.00   \n",
       "946  Premier League   21  2001   1  ...   0.00   0.00  0.00   0.00   10.00   \n",
       "128         Ligue 1   29  1994  21  ...   0.00   0.00  0.00   5.24    0.21   \n",
       "348  Premier League   22  2000   5  ...   0.00   0.00  0.00   4.17    0.83   \n",
       "318      Bundesliga   22  2000  20  ...   0.00   0.00  0.00   4.08    0.50   \n",
       "748         Serie A   39  1983   1  ...   0.00   0.00  0.00   5.00    0.00   \n",
       "676         Ligue 1   25  1997   2  ...   0.00   0.00  0.00   5.56    2.22   \n",
       "444      Bundesliga   26  1996  17  ...   0.00   0.00  0.00   6.54    0.60   \n",
       "426  Premier League   23  1999  10  ...   0.00   0.00  0.00   6.43    1.55   \n",
       "463         Serie A   24  1998  21  ...   0.00   0.00  0.00   6.03    1.03   \n",
       "804         Ligue 1   31  1991  18  ...   0.00   0.00  0.00   7.86    0.35   \n",
       "586         La Liga   26  1997  19  ...   0.00   0.00  0.00   4.84    0.81   \n",
       "300  Premier League   28  1994  21  ...   0.00   0.00  0.00   6.29    0.48   \n",
       "667      Bundesliga   26  1996   2  ...   0.00   0.00  0.00  10.00    0.00   \n",
       "302  Premier League   22  2001   2  ...   0.00   0.00  0.00   8.50    0.50   \n",
       "412      Bundesliga   17  2005   1  ...   0.00   0.00  0.00   5.00   10.00   \n",
       "626         Serie A   25  1997  19  ...   0.00   0.00  0.00   6.07    0.26   \n",
       "794         La Liga   22  2000  21  ...   0.00   0.00  0.00   5.61    0.83   \n",
       "341         Ligue 1   26  1996  22  ...   0.00   0.00  0.00   5.37    0.69   \n",
       "270  Premier League   19  2003   3  ...   0.00   0.00  0.00   0.00    0.00   \n",
       "409  Premier League   27  1995  22  ...   0.00   0.00  0.00   7.61    0.69   \n",
       "203         La Liga   27  1995  19  ...   0.00   0.00  0.00   3.52    0.22   \n",
       "823  Premier League   28  1994  20  ...   0.06   0.00  0.00   4.46    0.13   \n",
       "163         Serie A   17  2005   2  ...   0.00   0.00  0.00  20.00    0.00   \n",
       "470      Bundesliga   31  1991  19  ...   0.00   0.00  0.00   4.01    0.39   \n",
       "74          Serie A   26  1997  20  ...   0.00   0.00  0.00   5.92    0.78   \n",
       "172         La Liga   30  1992   1  ...   0.00   0.00  0.00  10.00    0.00   \n",
       "668         Serie A   16  2006   1  ...   0.00   0.00  0.00  20.00    0.00   \n",
       "603         La Liga   37  1985  19  ...   0.00   0.00  0.00   3.76    0.56   \n",
       "756         La Liga   17  2005   4  ...   0.00   0.00  0.00   7.14    0.00   \n",
       "18          Serie A   30  1992  19  ...   0.00   0.00  0.00   6.07    0.26   \n",
       "506      Bundesliga   22  2000  18  ...   0.07   0.00  0.00   5.07    0.45   \n",
       "818         Serie A   30  1992  16  ...   0.00   0.00  0.00   5.57    0.76   \n",
       "636  Premier League   25  1997  21  ...   0.00   0.05  0.00   7.14    0.76   \n",
       "584         Ligue 1   20  2002  14  ...   0.00   0.00  0.00   5.00    0.60   \n",
       "119         Serie A   26  1997  12  ...   0.00   0.00  0.00   3.41    0.68   \n",
       "165         La Liga   26  1996   1  ...   0.00   0.00  0.00   5.00    0.00   \n",
       "102         Ligue 1   25  1997   3  ...   0.00   0.00  0.00   3.33    0.00   \n",
       "759  Premier League   26  1996  20  ...   0.00   0.00  0.00   9.74    2.44   \n",
       "307         Ligue 1   27  1995  20  ...   0.05   0.00  0.00   5.52    0.62   \n",
       "972         Serie A   28  1994  21  ...   0.00   0.00  0.00   4.04    0.14   \n",
       "685         La Liga   33  1989   1  ...   0.00   0.00  0.00  10.00    0.00   \n",
       "722         Ligue 1   19  2004   1  ...   0.00   0.00  0.00  20.00    0.00   \n",
       "954  Premier League   30  1992  21  ...   0.00   0.00  0.00   4.65    1.06   \n",
       "48          La Liga   19  2003   1  ...   0.00   0.00  0.00   0.00    0.00   \n",
       "861      Bundesliga   22  2000  18  ...   0.00   0.00  0.00   6.67    0.27   \n",
       "422      Bundesliga   30  1992  20  ...   0.00   0.00  0.00   6.05    2.02   \n",
       "95       Bundesliga   19  2003  19  ...   0.00   0.00  0.00   7.71    1.38   \n",
       "687         Ligue 1   35  1987  18  ...   0.00   0.00  0.00   5.00    0.13   \n",
       "914         Ligue 1   29  1993  23  ...   0.00   0.00  0.06   7.44    0.65   \n",
       "436  Premier League   31  1991   1  ...   0.00   0.00  0.00   7.50    2.50   \n",
       "492         Ligue 1   23  2000  22  ...   0.00   0.00  0.00   7.38    0.42   \n",
       "\n",
       "     AerLost  AerWon%       GPJ       score  Desempenho  \n",
       "690     0.12     33.3  0.250000  167.331192         Bom  \n",
       "224     0.56     44.4  0.150000  166.734462         Bom  \n",
       "736     0.00      0.0  0.000000  166.015385         Bom  \n",
       "234     0.51     35.3  0.227273  164.546014         Bom  \n",
       "76      1.91     34.5  0.400000  164.449077         Bom  \n",
       "314     0.63     38.9  0.090909  164.424685         Bom  \n",
       "473     0.30     55.6  0.117647  162.814027         Bom  \n",
       "457     1.07     36.7  0.157895  162.121093         Bom  \n",
       "924    10.00      0.0  1.000000  161.923077         Bom  \n",
       "946     0.00    100.0  0.000000  161.461538         Bom  \n",
       "128     1.06     16.7  0.142857  161.181868         Bom  \n",
       "348     1.67     33.3  0.000000  161.063077         Bom  \n",
       "318     0.95     34.6  0.250000  160.114115         Bom  \n",
       "748     0.00      0.0  0.000000  159.230769         Bom  \n",
       "676     0.56     80.0  0.000000  158.810000         Bom  \n",
       "444     1.35     30.8  0.411765  158.720000         Bom  \n",
       "426     1.07     59.1  0.100000  158.486308         Bom  \n",
       "463     0.59     63.6  0.285714  158.388864         Bom  \n",
       "804     0.92     27.3  0.388889  157.935427         Bom  \n",
       "586     0.81     50.0  0.368421  157.857652         Bom  \n",
       "300     1.52     23.8  0.238095  157.236630         Bom  \n",
       "667    10.00      0.0  0.000000  157.153846         Bom  \n",
       "302     0.50     50.0  0.000000  156.888462         Bom  \n",
       "412     0.00    100.0  0.000000  156.538462         Bom  \n",
       "626     0.51     33.3  0.105263  154.878421         Bom  \n",
       "794     0.64     56.5  0.380952  154.783223         Bom  \n",
       "341     1.03     40.0  0.227273  154.110210         Bom  \n",
       "270     0.00      0.0  0.000000  154.025641         Bom  \n",
       "409     0.18     78.9  0.181818  153.633357         Bom  \n",
       "203     1.10     16.7  0.263158  152.855789         Bom  \n",
       "823     0.32     28.6  0.100000  152.808269         Bom  \n",
       "163     0.00      0.0  0.000000  152.769231         Bom  \n",
       "470     0.20     66.7  0.263158  152.697814         Bom  \n",
       "74      0.39     66.7  0.250000  152.651731         Bom  \n",
       "172     0.00      0.0  0.000000  152.076923         Bom  \n",
       "668     0.00      0.0  0.000000  151.615385         Bom  \n",
       "603     0.48     53.8  0.157895  150.926721         Bom  \n",
       "756     0.00      0.0  0.000000  150.411154         Bom  \n",
       "18      0.60     30.0  0.210526  150.002105         Bom  \n",
       "506     1.27     26.1  0.388889  149.360128         Bom  \n",
       "818     1.01     42.9  0.187500  148.352404         Bom  \n",
       "636     0.81     48.5  0.238095  148.028864         Bom  \n",
       "584     0.30     66.7  0.071429  147.281429         Bom  \n",
       "119     0.68     50.0  0.083333  146.765256         Bom  \n",
       "165     0.00      0.0  0.000000  146.230769         Bom  \n",
       "102     0.00      0.0  0.000000  145.978974         Bom  \n",
       "759     1.19     67.1  0.050000  145.584500         Bom  \n",
       "307     0.52     54.5  0.150000  145.269000         Bom  \n",
       "972     0.55     20.0  0.142857  142.131392         Bom  \n",
       "685     0.00      0.0  0.000000  141.923077         Bom  \n",
       "722     0.00      0.0  0.000000  141.615385         Bom  \n",
       "954     0.86     55.3  0.142857  141.062857         Bom  \n",
       "48      0.00      0.0  0.000000  141.000000         Bom  \n",
       "861     0.60     30.8  0.166667  140.620000         Bom  \n",
       "422     2.02     50.0  0.300000  140.433769         Bom  \n",
       "95      1.06     56.5  0.210526  140.338462         Bom  \n",
       "687     0.38     25.0  0.111111  140.001282         Bom  \n",
       "914     0.83     44.0  0.130435  139.543110         Bom  \n",
       "436     2.50     50.0  0.000000  139.423077         Bom  \n",
       "492     0.89     32.1  0.181818  139.051084         Bom  \n",
       "\n",
       "[60 rows x 128 columns]"
      ]
     },
     "execution_count": 2021,
     "metadata": {},
     "output_type": "execute_result"
    }
   ],
   "source": [
    "Meias[Meias['Desempenho'] == 'Bom'].head(60)"
   ]
  },
  {
   "cell_type": "code",
   "execution_count": 2020,
   "metadata": {},
   "outputs": [],
   "source": [
    "Meias.to_csv('C:\\\\Users\\\\alexa\\\\OneDrive\\\\Área de Trabalho\\\\Prj\\\\Classificador\\\\Content\\\\Meias.csv')"
   ]
  }
 ],
 "metadata": {
  "kernelspec": {
   "display_name": "base",
   "language": "python",
   "name": "python3"
  },
  "language_info": {
   "codemirror_mode": {
    "name": "ipython",
    "version": 3
   },
   "file_extension": ".py",
   "mimetype": "text/x-python",
   "name": "python",
   "nbconvert_exporter": "python",
   "pygments_lexer": "ipython3",
   "version": "3.9.7"
  },
  "orig_nbformat": 4
 },
 "nbformat": 4,
 "nbformat_minor": 2
}
