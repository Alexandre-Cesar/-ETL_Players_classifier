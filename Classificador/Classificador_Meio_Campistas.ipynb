{
 "cells": [
  {
   "cell_type": "code",
   "execution_count": 1,
   "metadata": {},
   "outputs": [],
   "source": [
    "import pandas as pd\n",
    "import plotly.express as px\n",
    "import numpy as np"
   ]
  },
  {
   "cell_type": "code",
   "execution_count": 7,
   "metadata": {},
   "outputs": [],
   "source": [
    "Meias = pd.read_parquet('C:\\\\Users\\\\alexa\\\\OneDrive\\\\Área de Trabalho\\\\Prj\\\\Classificador\\\\Content\\\\Meio_Campistas.c000.snappy.parquet', engine='pyarrow')"
   ]
  },
  {
   "cell_type": "code",
   "execution_count": 9,
   "metadata": {},
   "outputs": [
    {
     "data": {
      "text/html": [
       "<div>\n",
       "<style scoped>\n",
       "    .dataframe tbody tr th:only-of-type {\n",
       "        vertical-align: middle;\n",
       "    }\n",
       "\n",
       "    .dataframe tbody tr th {\n",
       "        vertical-align: top;\n",
       "    }\n",
       "\n",
       "    .dataframe thead th {\n",
       "        text-align: right;\n",
       "    }\n",
       "</style>\n",
       "<table border=\"1\" class=\"dataframe\">\n",
       "  <thead>\n",
       "    <tr style=\"text-align: right;\">\n",
       "      <th></th>\n",
       "      <th>_c0</th>\n",
       "      <th>Rk</th>\n",
       "      <th>Player</th>\n",
       "      <th>Nation</th>\n",
       "      <th>Pos</th>\n",
       "      <th>Squad</th>\n",
       "      <th>Comp</th>\n",
       "      <th>Age</th>\n",
       "      <th>Born</th>\n",
       "      <th>MP</th>\n",
       "      <th>...</th>\n",
       "      <th>Off</th>\n",
       "      <th>Crs</th>\n",
       "      <th>TklW</th>\n",
       "      <th>PKwon</th>\n",
       "      <th>PKcon</th>\n",
       "      <th>OG</th>\n",
       "      <th>Recov</th>\n",
       "      <th>AerWon</th>\n",
       "      <th>AerLost</th>\n",
       "      <th>AerWon%</th>\n",
       "    </tr>\n",
       "  </thead>\n",
       "  <tbody>\n",
       "    <tr>\n",
       "      <th>0</th>\n",
       "      <td>0</td>\n",
       "      <td>1</td>\n",
       "      <td>Brenden Aaronson</td>\n",
       "      <td>USA</td>\n",
       "      <td>MFFW</td>\n",
       "      <td>Leeds United</td>\n",
       "      <td>Premier League</td>\n",
       "      <td>22</td>\n",
       "      <td>2000</td>\n",
       "      <td>20</td>\n",
       "      <td>...</td>\n",
       "      <td>0.17</td>\n",
       "      <td>2.54</td>\n",
       "      <td>0.51</td>\n",
       "      <td>0.0</td>\n",
       "      <td>0.00</td>\n",
       "      <td>0.00</td>\n",
       "      <td>4.86</td>\n",
       "      <td>0.34</td>\n",
       "      <td>1.19</td>\n",
       "      <td>22.2</td>\n",
       "    </tr>\n",
       "    <tr>\n",
       "      <th>1</th>\n",
       "      <td>2</td>\n",
       "      <td>3</td>\n",
       "      <td>Himad Abdelli</td>\n",
       "      <td>FRA</td>\n",
       "      <td>MFFW</td>\n",
       "      <td>Angers</td>\n",
       "      <td>Ligue 1</td>\n",
       "      <td>23</td>\n",
       "      <td>1999</td>\n",
       "      <td>14</td>\n",
       "      <td>...</td>\n",
       "      <td>0.00</td>\n",
       "      <td>1.05</td>\n",
       "      <td>1.40</td>\n",
       "      <td>0.0</td>\n",
       "      <td>0.00</td>\n",
       "      <td>0.00</td>\n",
       "      <td>8.14</td>\n",
       "      <td>0.93</td>\n",
       "      <td>1.05</td>\n",
       "      <td>47.1</td>\n",
       "    </tr>\n",
       "    <tr>\n",
       "      <th>2</th>\n",
       "      <td>3</td>\n",
       "      <td>4</td>\n",
       "      <td>Salis Abdul Samed</td>\n",
       "      <td>GHA</td>\n",
       "      <td>MF</td>\n",
       "      <td>Lens</td>\n",
       "      <td>Ligue 1</td>\n",
       "      <td>22</td>\n",
       "      <td>2000</td>\n",
       "      <td>20</td>\n",
       "      <td>...</td>\n",
       "      <td>0.00</td>\n",
       "      <td>0.35</td>\n",
       "      <td>0.80</td>\n",
       "      <td>0.0</td>\n",
       "      <td>0.00</td>\n",
       "      <td>0.05</td>\n",
       "      <td>6.60</td>\n",
       "      <td>0.50</td>\n",
       "      <td>0.50</td>\n",
       "      <td>50.0</td>\n",
       "    </tr>\n",
       "    <tr>\n",
       "      <th>3</th>\n",
       "      <td>4</td>\n",
       "      <td>5</td>\n",
       "      <td>Laurent Abergel</td>\n",
       "      <td>FRA</td>\n",
       "      <td>MF</td>\n",
       "      <td>Lorient</td>\n",
       "      <td>Ligue 1</td>\n",
       "      <td>30</td>\n",
       "      <td>1993</td>\n",
       "      <td>15</td>\n",
       "      <td>...</td>\n",
       "      <td>0.00</td>\n",
       "      <td>0.23</td>\n",
       "      <td>2.02</td>\n",
       "      <td>0.0</td>\n",
       "      <td>0.00</td>\n",
       "      <td>0.00</td>\n",
       "      <td>6.51</td>\n",
       "      <td>0.31</td>\n",
       "      <td>0.39</td>\n",
       "      <td>44.4</td>\n",
       "    </tr>\n",
       "    <tr>\n",
       "      <th>4</th>\n",
       "      <td>5</td>\n",
       "      <td>6</td>\n",
       "      <td>Oliver Abildgaard</td>\n",
       "      <td>DEN</td>\n",
       "      <td>MF</td>\n",
       "      <td>Hellas Verona</td>\n",
       "      <td>Serie A</td>\n",
       "      <td>26</td>\n",
       "      <td>1996</td>\n",
       "      <td>1</td>\n",
       "      <td>...</td>\n",
       "      <td>0.00</td>\n",
       "      <td>0.00</td>\n",
       "      <td>10.00</td>\n",
       "      <td>0.0</td>\n",
       "      <td>0.00</td>\n",
       "      <td>0.00</td>\n",
       "      <td>10.00</td>\n",
       "      <td>0.00</td>\n",
       "      <td>10.00</td>\n",
       "      <td>0.0</td>\n",
       "    </tr>\n",
       "    <tr>\n",
       "      <th>5</th>\n",
       "      <td>15</td>\n",
       "      <td>16</td>\n",
       "      <td>Tyler Adams</td>\n",
       "      <td>USA</td>\n",
       "      <td>MF</td>\n",
       "      <td>Leeds United</td>\n",
       "      <td>Premier League</td>\n",
       "      <td>23</td>\n",
       "      <td>1999</td>\n",
       "      <td>19</td>\n",
       "      <td>...</td>\n",
       "      <td>0.05</td>\n",
       "      <td>0.11</td>\n",
       "      <td>2.00</td>\n",
       "      <td>0.0</td>\n",
       "      <td>0.00</td>\n",
       "      <td>0.00</td>\n",
       "      <td>8.68</td>\n",
       "      <td>0.89</td>\n",
       "      <td>0.63</td>\n",
       "      <td>58.6</td>\n",
       "    </tr>\n",
       "    <tr>\n",
       "      <th>6</th>\n",
       "      <td>18</td>\n",
       "      <td>19</td>\n",
       "      <td>Martin Adeline</td>\n",
       "      <td>FRA</td>\n",
       "      <td>MFFW</td>\n",
       "      <td>Reims</td>\n",
       "      <td>Ligue 1</td>\n",
       "      <td>19</td>\n",
       "      <td>2003</td>\n",
       "      <td>5</td>\n",
       "      <td>...</td>\n",
       "      <td>0.00</td>\n",
       "      <td>0.00</td>\n",
       "      <td>2.50</td>\n",
       "      <td>0.0</td>\n",
       "      <td>0.00</td>\n",
       "      <td>0.00</td>\n",
       "      <td>9.17</td>\n",
       "      <td>5.00</td>\n",
       "      <td>4.17</td>\n",
       "      <td>54.5</td>\n",
       "    </tr>\n",
       "    <tr>\n",
       "      <th>7</th>\n",
       "      <td>21</td>\n",
       "      <td>22</td>\n",
       "      <td>Yacine Adli</td>\n",
       "      <td>FRA</td>\n",
       "      <td>MFFW</td>\n",
       "      <td>Milan</td>\n",
       "      <td>Serie A</td>\n",
       "      <td>22</td>\n",
       "      <td>2000</td>\n",
       "      <td>4</td>\n",
       "      <td>...</td>\n",
       "      <td>0.00</td>\n",
       "      <td>3.08</td>\n",
       "      <td>2.31</td>\n",
       "      <td>0.0</td>\n",
       "      <td>0.00</td>\n",
       "      <td>0.00</td>\n",
       "      <td>3.85</td>\n",
       "      <td>0.00</td>\n",
       "      <td>2.31</td>\n",
       "      <td>0.0</td>\n",
       "    </tr>\n",
       "    <tr>\n",
       "      <th>8</th>\n",
       "      <td>25</td>\n",
       "      <td>26</td>\n",
       "      <td>Lucien Agoume</td>\n",
       "      <td>FRA</td>\n",
       "      <td>MF</td>\n",
       "      <td>Troyes</td>\n",
       "      <td>Ligue 1</td>\n",
       "      <td>21</td>\n",
       "      <td>2002</td>\n",
       "      <td>5</td>\n",
       "      <td>...</td>\n",
       "      <td>0.31</td>\n",
       "      <td>0.94</td>\n",
       "      <td>2.19</td>\n",
       "      <td>0.0</td>\n",
       "      <td>0.00</td>\n",
       "      <td>0.00</td>\n",
       "      <td>5.63</td>\n",
       "      <td>3.13</td>\n",
       "      <td>0.63</td>\n",
       "      <td>83.3</td>\n",
       "    </tr>\n",
       "    <tr>\n",
       "      <th>9</th>\n",
       "      <td>27</td>\n",
       "      <td>28</td>\n",
       "      <td>�lvaro Aguado</td>\n",
       "      <td>ESP</td>\n",
       "      <td>MF</td>\n",
       "      <td>Valladolid</td>\n",
       "      <td>La Liga</td>\n",
       "      <td>26</td>\n",
       "      <td>1996</td>\n",
       "      <td>19</td>\n",
       "      <td>...</td>\n",
       "      <td>0.00</td>\n",
       "      <td>2.22</td>\n",
       "      <td>0.48</td>\n",
       "      <td>0.0</td>\n",
       "      <td>0.08</td>\n",
       "      <td>0.00</td>\n",
       "      <td>5.71</td>\n",
       "      <td>0.95</td>\n",
       "      <td>1.03</td>\n",
       "      <td>48.0</td>\n",
       "    </tr>\n",
       "    <tr>\n",
       "      <th>10</th>\n",
       "      <td>28</td>\n",
       "      <td>29</td>\n",
       "      <td>Kevin Agudelo</td>\n",
       "      <td>COL</td>\n",
       "      <td>MFFW</td>\n",
       "      <td>Spezia</td>\n",
       "      <td>Serie A</td>\n",
       "      <td>24</td>\n",
       "      <td>1998</td>\n",
       "      <td>21</td>\n",
       "      <td>...</td>\n",
       "      <td>0.13</td>\n",
       "      <td>1.31</td>\n",
       "      <td>1.38</td>\n",
       "      <td>0.0</td>\n",
       "      <td>0.00</td>\n",
       "      <td>0.00</td>\n",
       "      <td>5.69</td>\n",
       "      <td>0.56</td>\n",
       "      <td>1.25</td>\n",
       "      <td>31.0</td>\n",
       "    </tr>\n",
       "    <tr>\n",
       "      <th>11</th>\n",
       "      <td>31</td>\n",
       "      <td>32</td>\n",
       "      <td>Naouirou Ahamada</td>\n",
       "      <td>FRA</td>\n",
       "      <td>MFFW</td>\n",
       "      <td>Crystal Palace</td>\n",
       "      <td>Premier League</td>\n",
       "      <td>20</td>\n",
       "      <td>2002</td>\n",
       "      <td>2</td>\n",
       "      <td>...</td>\n",
       "      <td>5.00</td>\n",
       "      <td>5.00</td>\n",
       "      <td>0.00</td>\n",
       "      <td>0.0</td>\n",
       "      <td>0.00</td>\n",
       "      <td>0.00</td>\n",
       "      <td>10.00</td>\n",
       "      <td>0.00</td>\n",
       "      <td>0.00</td>\n",
       "      <td>0.0</td>\n",
       "    </tr>\n",
       "    <tr>\n",
       "      <th>12</th>\n",
       "      <td>32</td>\n",
       "      <td>33</td>\n",
       "      <td>Naouirou Ahamada</td>\n",
       "      <td>FRA</td>\n",
       "      <td>MF</td>\n",
       "      <td>Stuttgart</td>\n",
       "      <td>Bundesliga</td>\n",
       "      <td>20</td>\n",
       "      <td>2002</td>\n",
       "      <td>17</td>\n",
       "      <td>...</td>\n",
       "      <td>0.06</td>\n",
       "      <td>0.39</td>\n",
       "      <td>0.71</td>\n",
       "      <td>0.0</td>\n",
       "      <td>0.06</td>\n",
       "      <td>0.00</td>\n",
       "      <td>5.68</td>\n",
       "      <td>0.45</td>\n",
       "      <td>1.03</td>\n",
       "      <td>30.4</td>\n",
       "    </tr>\n",
       "    <tr>\n",
       "      <th>13</th>\n",
       "      <td>34</td>\n",
       "      <td>35</td>\n",
       "      <td>Jean-Eudes Aholou</td>\n",
       "      <td>CIV</td>\n",
       "      <td>MF</td>\n",
       "      <td>Strasbourg</td>\n",
       "      <td>Ligue 1</td>\n",
       "      <td>28</td>\n",
       "      <td>1994</td>\n",
       "      <td>19</td>\n",
       "      <td>...</td>\n",
       "      <td>0.11</td>\n",
       "      <td>0.43</td>\n",
       "      <td>1.40</td>\n",
       "      <td>0.0</td>\n",
       "      <td>0.00</td>\n",
       "      <td>0.00</td>\n",
       "      <td>5.27</td>\n",
       "      <td>1.51</td>\n",
       "      <td>1.40</td>\n",
       "      <td>51.9</td>\n",
       "    </tr>\n",
       "    <tr>\n",
       "      <th>14</th>\n",
       "      <td>45</td>\n",
       "      <td>46</td>\n",
       "      <td>Maghnes Akliouche</td>\n",
       "      <td>FRA</td>\n",
       "      <td>MFDF</td>\n",
       "      <td>Monaco</td>\n",
       "      <td>Ligue 1</td>\n",
       "      <td>20</td>\n",
       "      <td>2002</td>\n",
       "      <td>6</td>\n",
       "      <td>...</td>\n",
       "      <td>0.00</td>\n",
       "      <td>3.21</td>\n",
       "      <td>1.07</td>\n",
       "      <td>0.0</td>\n",
       "      <td>0.00</td>\n",
       "      <td>0.00</td>\n",
       "      <td>6.43</td>\n",
       "      <td>0.71</td>\n",
       "      <td>1.07</td>\n",
       "      <td>40.0</td>\n",
       "    </tr>\n",
       "    <tr>\n",
       "      <th>15</th>\n",
       "      <td>46</td>\n",
       "      <td>47</td>\n",
       "      <td>Paul Akouokou</td>\n",
       "      <td>CIV</td>\n",
       "      <td>MF</td>\n",
       "      <td>Betis</td>\n",
       "      <td>La Liga</td>\n",
       "      <td>25</td>\n",
       "      <td>1997</td>\n",
       "      <td>6</td>\n",
       "      <td>...</td>\n",
       "      <td>0.00</td>\n",
       "      <td>0.00</td>\n",
       "      <td>1.92</td>\n",
       "      <td>0.0</td>\n",
       "      <td>0.00</td>\n",
       "      <td>0.00</td>\n",
       "      <td>6.54</td>\n",
       "      <td>0.38</td>\n",
       "      <td>2.31</td>\n",
       "      <td>14.3</td>\n",
       "    </tr>\n",
       "    <tr>\n",
       "      <th>16</th>\n",
       "      <td>47</td>\n",
       "      <td>48</td>\n",
       "      <td>Jean-Daniel Akpa-Akpro</td>\n",
       "      <td>CIV</td>\n",
       "      <td>MF</td>\n",
       "      <td>Empoli</td>\n",
       "      <td>Serie A</td>\n",
       "      <td>30</td>\n",
       "      <td>1992</td>\n",
       "      <td>12</td>\n",
       "      <td>...</td>\n",
       "      <td>0.00</td>\n",
       "      <td>0.60</td>\n",
       "      <td>2.39</td>\n",
       "      <td>0.0</td>\n",
       "      <td>0.00</td>\n",
       "      <td>0.00</td>\n",
       "      <td>4.78</td>\n",
       "      <td>0.90</td>\n",
       "      <td>0.60</td>\n",
       "      <td>60.0</td>\n",
       "    </tr>\n",
       "    <tr>\n",
       "      <th>17</th>\n",
       "      <td>50</td>\n",
       "      <td>51</td>\n",
       "      <td>Tom�s Alarc�n</td>\n",
       "      <td>CHI</td>\n",
       "      <td>MF</td>\n",
       "      <td>C�diz</td>\n",
       "      <td>La Liga</td>\n",
       "      <td>24</td>\n",
       "      <td>1999</td>\n",
       "      <td>4</td>\n",
       "      <td>...</td>\n",
       "      <td>0.00</td>\n",
       "      <td>2.40</td>\n",
       "      <td>0.80</td>\n",
       "      <td>0.0</td>\n",
       "      <td>0.00</td>\n",
       "      <td>0.00</td>\n",
       "      <td>5.60</td>\n",
       "      <td>1.20</td>\n",
       "      <td>0.40</td>\n",
       "      <td>75.0</td>\n",
       "    </tr>\n",
       "    <tr>\n",
       "      <th>18</th>\n",
       "      <td>53</td>\n",
       "      <td>54</td>\n",
       "      <td>Luis Alberto</td>\n",
       "      <td>ESP</td>\n",
       "      <td>MF</td>\n",
       "      <td>Lazio</td>\n",
       "      <td>Serie A</td>\n",
       "      <td>30</td>\n",
       "      <td>1992</td>\n",
       "      <td>19</td>\n",
       "      <td>...</td>\n",
       "      <td>0.17</td>\n",
       "      <td>5.47</td>\n",
       "      <td>0.94</td>\n",
       "      <td>0.0</td>\n",
       "      <td>0.00</td>\n",
       "      <td>0.00</td>\n",
       "      <td>6.07</td>\n",
       "      <td>0.26</td>\n",
       "      <td>0.60</td>\n",
       "      <td>30.0</td>\n",
       "    </tr>\n",
       "    <tr>\n",
       "      <th>19</th>\n",
       "      <td>56</td>\n",
       "      <td>57</td>\n",
       "      <td>Thiago Alc�ntara</td>\n",
       "      <td>ESP</td>\n",
       "      <td>MF</td>\n",
       "      <td>Liverpool</td>\n",
       "      <td>Premier League</td>\n",
       "      <td>31</td>\n",
       "      <td>1991</td>\n",
       "      <td>14</td>\n",
       "      <td>...</td>\n",
       "      <td>0.00</td>\n",
       "      <td>0.08</td>\n",
       "      <td>1.80</td>\n",
       "      <td>0.0</td>\n",
       "      <td>0.08</td>\n",
       "      <td>0.00</td>\n",
       "      <td>8.13</td>\n",
       "      <td>1.09</td>\n",
       "      <td>1.88</td>\n",
       "      <td>36.8</td>\n",
       "    </tr>\n",
       "  </tbody>\n",
       "</table>\n",
       "<p>20 rows × 125 columns</p>\n",
       "</div>"
      ],
      "text/plain": [
       "    _c0  Rk                  Player Nation   Pos           Squad  \\\n",
       "0     0   1        Brenden Aaronson    USA  MFFW    Leeds United   \n",
       "1     2   3           Himad Abdelli    FRA  MFFW          Angers   \n",
       "2     3   4       Salis Abdul Samed    GHA    MF            Lens   \n",
       "3     4   5         Laurent Abergel    FRA    MF         Lorient   \n",
       "4     5   6       Oliver Abildgaard    DEN    MF   Hellas Verona   \n",
       "5    15  16             Tyler Adams    USA    MF    Leeds United   \n",
       "6    18  19          Martin Adeline    FRA  MFFW           Reims   \n",
       "7    21  22             Yacine Adli    FRA  MFFW           Milan   \n",
       "8    25  26           Lucien Agoume    FRA    MF          Troyes   \n",
       "9    27  28           �lvaro Aguado    ESP    MF      Valladolid   \n",
       "10   28  29           Kevin Agudelo    COL  MFFW          Spezia   \n",
       "11   31  32        Naouirou Ahamada    FRA  MFFW  Crystal Palace   \n",
       "12   32  33        Naouirou Ahamada    FRA    MF       Stuttgart   \n",
       "13   34  35       Jean-Eudes Aholou    CIV    MF      Strasbourg   \n",
       "14   45  46       Maghnes Akliouche    FRA  MFDF          Monaco   \n",
       "15   46  47           Paul Akouokou    CIV    MF           Betis   \n",
       "16   47  48  Jean-Daniel Akpa-Akpro    CIV    MF          Empoli   \n",
       "17   50  51           Tom�s Alarc�n    CHI    MF           C�diz   \n",
       "18   53  54            Luis Alberto    ESP    MF           Lazio   \n",
       "19   56  57        Thiago Alc�ntara    ESP    MF       Liverpool   \n",
       "\n",
       "              Comp  Age  Born  MP  ...   Off   Crs   TklW  PKwon  PKcon    OG  \\\n",
       "0   Premier League   22  2000  20  ...  0.17  2.54   0.51    0.0   0.00  0.00   \n",
       "1          Ligue 1   23  1999  14  ...  0.00  1.05   1.40    0.0   0.00  0.00   \n",
       "2          Ligue 1   22  2000  20  ...  0.00  0.35   0.80    0.0   0.00  0.05   \n",
       "3          Ligue 1   30  1993  15  ...  0.00  0.23   2.02    0.0   0.00  0.00   \n",
       "4          Serie A   26  1996   1  ...  0.00  0.00  10.00    0.0   0.00  0.00   \n",
       "5   Premier League   23  1999  19  ...  0.05  0.11   2.00    0.0   0.00  0.00   \n",
       "6          Ligue 1   19  2003   5  ...  0.00  0.00   2.50    0.0   0.00  0.00   \n",
       "7          Serie A   22  2000   4  ...  0.00  3.08   2.31    0.0   0.00  0.00   \n",
       "8          Ligue 1   21  2002   5  ...  0.31  0.94   2.19    0.0   0.00  0.00   \n",
       "9          La Liga   26  1996  19  ...  0.00  2.22   0.48    0.0   0.08  0.00   \n",
       "10         Serie A   24  1998  21  ...  0.13  1.31   1.38    0.0   0.00  0.00   \n",
       "11  Premier League   20  2002   2  ...  5.00  5.00   0.00    0.0   0.00  0.00   \n",
       "12      Bundesliga   20  2002  17  ...  0.06  0.39   0.71    0.0   0.06  0.00   \n",
       "13         Ligue 1   28  1994  19  ...  0.11  0.43   1.40    0.0   0.00  0.00   \n",
       "14         Ligue 1   20  2002   6  ...  0.00  3.21   1.07    0.0   0.00  0.00   \n",
       "15         La Liga   25  1997   6  ...  0.00  0.00   1.92    0.0   0.00  0.00   \n",
       "16         Serie A   30  1992  12  ...  0.00  0.60   2.39    0.0   0.00  0.00   \n",
       "17         La Liga   24  1999   4  ...  0.00  2.40   0.80    0.0   0.00  0.00   \n",
       "18         Serie A   30  1992  19  ...  0.17  5.47   0.94    0.0   0.00  0.00   \n",
       "19  Premier League   31  1991  14  ...  0.00  0.08   1.80    0.0   0.08  0.00   \n",
       "\n",
       "    Recov  AerWon  AerLost  AerWon%  \n",
       "0    4.86    0.34     1.19     22.2  \n",
       "1    8.14    0.93     1.05     47.1  \n",
       "2    6.60    0.50     0.50     50.0  \n",
       "3    6.51    0.31     0.39     44.4  \n",
       "4   10.00    0.00    10.00      0.0  \n",
       "5    8.68    0.89     0.63     58.6  \n",
       "6    9.17    5.00     4.17     54.5  \n",
       "7    3.85    0.00     2.31      0.0  \n",
       "8    5.63    3.13     0.63     83.3  \n",
       "9    5.71    0.95     1.03     48.0  \n",
       "10   5.69    0.56     1.25     31.0  \n",
       "11  10.00    0.00     0.00      0.0  \n",
       "12   5.68    0.45     1.03     30.4  \n",
       "13   5.27    1.51     1.40     51.9  \n",
       "14   6.43    0.71     1.07     40.0  \n",
       "15   6.54    0.38     2.31     14.3  \n",
       "16   4.78    0.90     0.60     60.0  \n",
       "17   5.60    1.20     0.40     75.0  \n",
       "18   6.07    0.26     0.60     30.0  \n",
       "19   8.13    1.09     1.88     36.8  \n",
       "\n",
       "[20 rows x 125 columns]"
      ]
     },
     "execution_count": 9,
     "metadata": {},
     "output_type": "execute_result"
    }
   ],
   "source": [
    "Meias.head(20)"
   ]
  },
  {
   "attachments": {},
   "cell_type": "markdown",
   "metadata": {},
   "source": [
    "#### Meias goleadores"
   ]
  },
  {
   "cell_type": "code",
   "execution_count": 14,
   "metadata": {},
   "outputs": [
    {
     "data": {
      "application/vnd.plotly.v1+json": {
       "config": {
        "plotlyServerURL": "https://plot.ly"
       },
       "data": [
        {
         "alignmentgroup": "True",
         "bingroup": "x",
         "hovertemplate": "Player=Emanuel Vignato<br>GPJ=%{x}<br>count=%{y}<extra></extra>",
         "legendgroup": "Emanuel Vignato",
         "marker": {
          "color": "#636efa",
          "pattern": {
           "shape": ""
          }
         },
         "name": "Emanuel Vignato",
         "offsetgroup": "Emanuel Vignato",
         "orientation": "v",
         "showlegend": true,
         "type": "histogram",
         "x": [
          1
         ],
         "xaxis": "x",
         "yaxis": "y"
        },
        {
         "alignmentgroup": "True",
         "bingroup": "x",
         "hovertemplate": "Player=Ante Palaversa<br>GPJ=%{x}<br>count=%{y}<extra></extra>",
         "legendgroup": "Ante Palaversa",
         "marker": {
          "color": "#EF553B",
          "pattern": {
           "shape": ""
          }
         },
         "name": "Ante Palaversa",
         "offsetgroup": "Ante Palaversa",
         "orientation": "v",
         "showlegend": true,
         "type": "histogram",
         "x": [
          1
         ],
         "xaxis": "x",
         "yaxis": "y"
        },
        {
         "alignmentgroup": "True",
         "bingroup": "x",
         "hovertemplate": "Player=Jo�o Gomes<br>GPJ=%{x}<br>count=%{y}<extra></extra>",
         "legendgroup": "Jo�o Gomes",
         "marker": {
          "color": "#00cc96",
          "pattern": {
           "shape": ""
          }
         },
         "name": "Jo�o Gomes",
         "offsetgroup": "Jo�o Gomes",
         "orientation": "v",
         "showlegend": true,
         "type": "histogram",
         "x": [
          1
         ],
         "xaxis": "x",
         "yaxis": "y"
        },
        {
         "alignmentgroup": "True",
         "bingroup": "x",
         "hovertemplate": "Player=Sofiane Diop<br>GPJ=%{x}<br>count=%{y}<extra></extra>",
         "legendgroup": "Sofiane Diop",
         "marker": {
          "color": "#ab63fa",
          "pattern": {
           "shape": ""
          }
         },
         "name": "Sofiane Diop",
         "offsetgroup": "Sofiane Diop",
         "orientation": "v",
         "showlegend": true,
         "type": "histogram",
         "x": [
          1
         ],
         "xaxis": "x",
         "yaxis": "y"
        },
        {
         "alignmentgroup": "True",
         "bingroup": "x",
         "hovertemplate": "Player=Gonzalo Escalante<br>GPJ=%{x}<br>count=%{y}<extra></extra>",
         "legendgroup": "Gonzalo Escalante",
         "marker": {
          "color": "#FFA15A",
          "pattern": {
           "shape": ""
          }
         },
         "name": "Gonzalo Escalante",
         "offsetgroup": "Gonzalo Escalante",
         "orientation": "v",
         "showlegend": true,
         "type": "histogram",
         "x": [
          0.6666666666666666
         ],
         "xaxis": "x",
         "yaxis": "y"
        },
        {
         "alignmentgroup": "True",
         "bingroup": "x",
         "hovertemplate": "Player=Neymar<br>GPJ=%{x}<br>count=%{y}<extra></extra>",
         "legendgroup": "Neymar",
         "marker": {
          "color": "#19d3f3",
          "pattern": {
           "shape": ""
          }
         },
         "name": "Neymar",
         "offsetgroup": "Neymar",
         "orientation": "v",
         "showlegend": true,
         "type": "histogram",
         "x": [
          0.631578947368421
         ],
         "xaxis": "x",
         "yaxis": "y"
        },
        {
         "alignmentgroup": "True",
         "bingroup": "x",
         "hovertemplate": "Player=James Maddison<br>GPJ=%{x}<br>count=%{y}<extra></extra>",
         "legendgroup": "James Maddison",
         "marker": {
          "color": "#FF6692",
          "pattern": {
           "shape": ""
          }
         },
         "name": "James Maddison",
         "offsetgroup": "James Maddison",
         "orientation": "v",
         "showlegend": true,
         "type": "histogram",
         "x": [
          0.5625
         ],
         "xaxis": "x",
         "yaxis": "y"
        },
        {
         "alignmentgroup": "True",
         "bingroup": "x",
         "hovertemplate": "Player=Lionel Messi<br>GPJ=%{x}<br>count=%{y}<extra></extra>",
         "legendgroup": "Lionel Messi",
         "marker": {
          "color": "#B6E880",
          "pattern": {
           "shape": ""
          }
         },
         "name": "Lionel Messi",
         "offsetgroup": "Lionel Messi",
         "orientation": "v",
         "showlegend": true,
         "type": "histogram",
         "x": [
          0.5555555555555556
         ],
         "xaxis": "x",
         "yaxis": "y"
        },
        {
         "alignmentgroup": "True",
         "bingroup": "x",
         "hovertemplate": "Player=Jamal Musiala<br>GPJ=%{x}<br>count=%{y}<extra></extra>",
         "legendgroup": "Jamal Musiala",
         "marker": {
          "color": "#FF97FF",
          "pattern": {
           "shape": ""
          }
         },
         "name": "Jamal Musiala",
         "offsetgroup": "Jamal Musiala",
         "orientation": "v",
         "showlegend": true,
         "type": "histogram",
         "x": [
          0.5263157894736842
         ],
         "xaxis": "x",
         "yaxis": "y"
        },
        {
         "alignmentgroup": "True",
         "bingroup": "x",
         "hovertemplate": "Player=Moussa Soumano<br>GPJ=%{x}<br>count=%{y}<extra></extra>",
         "legendgroup": "Moussa Soumano",
         "marker": {
          "color": "#FECB52",
          "pattern": {
           "shape": ""
          }
         },
         "name": "Moussa Soumano",
         "offsetgroup": "Moussa Soumano",
         "orientation": "v",
         "showlegend": true,
         "type": "histogram",
         "x": [
          0.5
         ],
         "xaxis": "x",
         "yaxis": "y"
        },
        {
         "alignmentgroup": "True",
         "bingroup": "x",
         "hovertemplate": "Player=Bryan<br>GPJ=%{x}<br>count=%{y}<extra></extra>",
         "legendgroup": "Bryan",
         "marker": {
          "color": "#636efa",
          "pattern": {
           "shape": ""
          }
         },
         "name": "Bryan",
         "offsetgroup": "Bryan",
         "orientation": "v",
         "showlegend": true,
         "type": "histogram",
         "x": [
          0.5
         ],
         "xaxis": "x",
         "yaxis": "y"
        },
        {
         "alignmentgroup": "True",
         "bingroup": "x",
         "hovertemplate": "Player=Paulo Dybala<br>GPJ=%{x}<br>count=%{y}<extra></extra>",
         "legendgroup": "Paulo Dybala",
         "marker": {
          "color": "#EF553B",
          "pattern": {
           "shape": ""
          }
         },
         "name": "Paulo Dybala",
         "offsetgroup": "Paulo Dybala",
         "orientation": "v",
         "showlegend": true,
         "type": "histogram",
         "x": [
          0.5
         ],
         "xaxis": "x",
         "yaxis": "y"
        },
        {
         "alignmentgroup": "True",
         "bingroup": "x",
         "hovertemplate": "Player=Jo�o F�lix<br>GPJ=%{x}<br>count=%{y}<extra></extra>",
         "legendgroup": "Jo�o F�lix",
         "marker": {
          "color": "#00cc96",
          "pattern": {
           "shape": ""
          }
         },
         "name": "Jo�o F�lix",
         "offsetgroup": "Jo�o F�lix",
         "orientation": "v",
         "showlegend": true,
         "type": "histogram",
         "x": [
          0.5
         ],
         "xaxis": "x",
         "yaxis": "y"
        },
        {
         "alignmentgroup": "True",
         "bingroup": "x",
         "hovertemplate": "Player=Youcef Bela�li<br>GPJ=%{x}<br>count=%{y}<extra></extra>",
         "legendgroup": "Youcef Bela�li",
         "marker": {
          "color": "#ab63fa",
          "pattern": {
           "shape": ""
          }
         },
         "name": "Youcef Bela�li",
         "offsetgroup": "Youcef Bela�li",
         "orientation": "v",
         "showlegend": true,
         "type": "histogram",
         "x": [
          0.4166666666666667
         ],
         "xaxis": "x",
         "yaxis": "y"
        },
        {
         "alignmentgroup": "True",
         "bingroup": "x",
         "hovertemplate": "Player=Daichi Kamada<br>GPJ=%{x}<br>count=%{y}<extra></extra>",
         "legendgroup": "Daichi Kamada",
         "marker": {
          "color": "#FFA15A",
          "pattern": {
           "shape": ""
          }
         },
         "name": "Daichi Kamada",
         "offsetgroup": "Daichi Kamada",
         "orientation": "v",
         "showlegend": true,
         "type": "histogram",
         "x": [
          0.4117647058823529
         ],
         "xaxis": "x",
         "yaxis": "y"
        },
        {
         "alignmentgroup": "True",
         "bingroup": "x",
         "hovertemplate": "Player=Harvey Barnes<br>GPJ=%{x}<br>count=%{y}<extra></extra>",
         "legendgroup": "Harvey Barnes",
         "marker": {
          "color": "#19d3f3",
          "pattern": {
           "shape": ""
          }
         },
         "name": "Harvey Barnes",
         "offsetgroup": "Harvey Barnes",
         "orientation": "v",
         "showlegend": true,
         "type": "histogram",
         "x": [
          0.4
         ],
         "xaxis": "x",
         "yaxis": "y"
        },
        {
         "alignmentgroup": "True",
         "bingroup": "x",
         "hovertemplate": "Player=Martin �degaard<br>GPJ=%{x}<br>count=%{y}<extra></extra>",
         "legendgroup": "Martin �degaard",
         "marker": {
          "color": "#FF6692",
          "pattern": {
           "shape": ""
          }
         },
         "name": "Martin �degaard",
         "offsetgroup": "Martin �degaard",
         "orientation": "v",
         "showlegend": true,
         "type": "histogram",
         "x": [
          0.4
         ],
         "xaxis": "x",
         "yaxis": "y"
        },
        {
         "alignmentgroup": "True",
         "bingroup": "x",
         "hovertemplate": "Player=Jesper Lindstr�m<br>GPJ=%{x}<br>count=%{y}<extra></extra>",
         "legendgroup": "Jesper Lindstr�m",
         "marker": {
          "color": "#B6E880",
          "pattern": {
           "shape": ""
          }
         },
         "name": "Jesper Lindstr�m",
         "offsetgroup": "Jesper Lindstr�m",
         "orientation": "v",
         "showlegend": true,
         "type": "histogram",
         "x": [
          0.3888888888888889
         ],
         "xaxis": "x",
         "yaxis": "y"
        },
        {
         "alignmentgroup": "True",
         "bingroup": "x",
         "hovertemplate": "Player=T�ji Savanier<br>GPJ=%{x}<br>count=%{y}<extra></extra>",
         "legendgroup": "T�ji Savanier",
         "marker": {
          "color": "#FF97FF",
          "pattern": {
           "shape": ""
          }
         },
         "name": "T�ji Savanier",
         "offsetgroup": "T�ji Savanier",
         "orientation": "v",
         "showlegend": true,
         "type": "histogram",
         "x": [
          0.3888888888888889
         ],
         "xaxis": "x",
         "yaxis": "y"
        },
        {
         "alignmentgroup": "True",
         "bingroup": "x",
         "hovertemplate": "Player=Oihan Sancet<br>GPJ=%{x}<br>count=%{y}<extra></extra>",
         "legendgroup": "Oihan Sancet",
         "marker": {
          "color": "#FECB52",
          "pattern": {
           "shape": ""
          }
         },
         "name": "Oihan Sancet",
         "offsetgroup": "Oihan Sancet",
         "orientation": "v",
         "showlegend": true,
         "type": "histogram",
         "x": [
          0.38095238095238093
         ],
         "xaxis": "x",
         "yaxis": "y"
        },
        {
         "alignmentgroup": "True",
         "bingroup": "x",
         "hovertemplate": "Player=Brais M�ndez<br>GPJ=%{x}<br>count=%{y}<extra></extra>",
         "legendgroup": "Brais M�ndez",
         "marker": {
          "color": "#636efa",
          "pattern": {
           "shape": ""
          }
         },
         "name": "Brais M�ndez",
         "offsetgroup": "Brais M�ndez",
         "orientation": "v",
         "showlegend": true,
         "type": "histogram",
         "x": [
          0.3684210526315789
         ],
         "xaxis": "x",
         "yaxis": "y"
        },
        {
         "alignmentgroup": "True",
         "bingroup": "x",
         "hovertemplate": "Player=David ?olina<br>GPJ=%{x}<br>count=%{y}<extra></extra>",
         "legendgroup": "David ?olina",
         "marker": {
          "color": "#EF553B",
          "pattern": {
           "shape": ""
          }
         },
         "name": "David ?olina",
         "offsetgroup": "David ?olina",
         "orientation": "v",
         "showlegend": true,
         "type": "histogram",
         "x": [
          0.3333333333333333
         ],
         "xaxis": "x",
         "yaxis": "y"
        },
        {
         "alignmentgroup": "True",
         "bingroup": "x",
         "hovertemplate": "Player=Carmona<br>GPJ=%{x}<br>count=%{y}<extra></extra>",
         "legendgroup": "Carmona",
         "marker": {
          "color": "#00cc96",
          "pattern": {
           "shape": ""
          }
         },
         "name": "Carmona",
         "offsetgroup": "Carmona",
         "orientation": "v",
         "showlegend": true,
         "type": "histogram",
         "x": [
          0.3333333333333333
         ],
         "xaxis": "x",
         "yaxis": "y"
        },
        {
         "alignmentgroup": "True",
         "bingroup": "x",
         "hovertemplate": "Player=Anuar<br>GPJ=%{x}<br>count=%{y}<extra></extra>",
         "legendgroup": "Anuar",
         "marker": {
          "color": "#ab63fa",
          "pattern": {
           "shape": ""
          }
         },
         "name": "Anuar",
         "offsetgroup": "Anuar",
         "orientation": "v",
         "showlegend": true,
         "type": "histogram",
         "x": [
          0.3333333333333333
         ],
         "xaxis": "x",
         "yaxis": "y"
        },
        {
         "alignmentgroup": "True",
         "bingroup": "x",
         "hovertemplate": "Player=Leroy San�<br>GPJ=%{x}<br>count=%{y}<extra></extra>",
         "legendgroup": "Leroy San�",
         "marker": {
          "color": "#FFA15A",
          "pattern": {
           "shape": ""
          }
         },
         "name": "Leroy San�",
         "offsetgroup": "Leroy San�",
         "orientation": "v",
         "showlegend": true,
         "type": "histogram",
         "x": [
          0.3333333333333333
         ],
         "xaxis": "x",
         "yaxis": "y"
        },
        {
         "alignmentgroup": "True",
         "bingroup": "x",
         "hovertemplate": "Player=Carlos Soler<br>GPJ=%{x}<br>count=%{y}<extra></extra>",
         "legendgroup": "Carlos Soler",
         "marker": {
          "color": "#19d3f3",
          "pattern": {
           "shape": ""
          }
         },
         "name": "Carlos Soler",
         "offsetgroup": "Carlos Soler",
         "orientation": "v",
         "showlegend": true,
         "type": "histogram",
         "x": [
          0.3333333333333333
         ],
         "xaxis": "x",
         "yaxis": "y"
        },
        {
         "alignmentgroup": "True",
         "bingroup": "x",
         "hovertemplate": "Player=Carlos Alcaraz<br>GPJ=%{x}<br>count=%{y}<extra></extra>",
         "legendgroup": "Carlos Alcaraz",
         "marker": {
          "color": "#FF6692",
          "pattern": {
           "shape": ""
          }
         },
         "name": "Carlos Alcaraz",
         "offsetgroup": "Carlos Alcaraz",
         "orientation": "v",
         "showlegend": true,
         "type": "histogram",
         "x": [
          0.3333333333333333
         ],
         "xaxis": "x",
         "yaxis": "y"
        },
        {
         "alignmentgroup": "True",
         "bingroup": "x",
         "hovertemplate": "Player=Azzedine Ounahi<br>GPJ=%{x}<br>count=%{y}<extra></extra>",
         "legendgroup": "Azzedine Ounahi",
         "marker": {
          "color": "#B6E880",
          "pattern": {
           "shape": ""
          }
         },
         "name": "Azzedine Ounahi",
         "offsetgroup": "Azzedine Ounahi",
         "orientation": "v",
         "showlegend": true,
         "type": "histogram",
         "x": [
          0.3333333333333333
         ],
         "xaxis": "x",
         "yaxis": "y"
        },
        {
         "alignmentgroup": "True",
         "bingroup": "x",
         "hovertemplate": "Player=Gabriel Veiga<br>GPJ=%{x}<br>count=%{y}<extra></extra>",
         "legendgroup": "Gabriel Veiga",
         "marker": {
          "color": "#FF97FF",
          "pattern": {
           "shape": ""
          }
         },
         "name": "Gabriel Veiga",
         "offsetgroup": "Gabriel Veiga",
         "orientation": "v",
         "showlegend": true,
         "type": "histogram",
         "x": [
          0.3157894736842105
         ],
         "xaxis": "x",
         "yaxis": "y"
        },
        {
         "alignmentgroup": "True",
         "bingroup": "x",
         "hovertemplate": "Player=Tommaso Baldanzi<br>GPJ=%{x}<br>count=%{y}<extra></extra>",
         "legendgroup": "Tommaso Baldanzi",
         "marker": {
          "color": "#FECB52",
          "pattern": {
           "shape": ""
          }
         },
         "name": "Tommaso Baldanzi",
         "offsetgroup": "Tommaso Baldanzi",
         "orientation": "v",
         "showlegend": true,
         "type": "histogram",
         "x": [
          0.3076923076923077
         ],
         "xaxis": "x",
         "yaxis": "y"
        },
        {
         "alignmentgroup": "True",
         "bingroup": "x",
         "hovertemplate": "Player=Julian Brandt<br>GPJ=%{x}<br>count=%{y}<extra></extra>",
         "legendgroup": "Julian Brandt",
         "marker": {
          "color": "#636efa",
          "pattern": {
           "shape": ""
          }
         },
         "name": "Julian Brandt",
         "offsetgroup": "Julian Brandt",
         "orientation": "v",
         "showlegend": true,
         "type": "histogram",
         "x": [
          0.3
         ],
         "xaxis": "x",
         "yaxis": "y"
        },
        {
         "alignmentgroup": "True",
         "bingroup": "x",
         "hovertemplate": "Player=Lee Jae-sung<br>GPJ=%{x}<br>count=%{y}<extra></extra>",
         "legendgroup": "Lee Jae-sung",
         "marker": {
          "color": "#EF553B",
          "pattern": {
           "shape": ""
          }
         },
         "name": "Lee Jae-sung",
         "offsetgroup": "Lee Jae-sung",
         "orientation": "v",
         "showlegend": true,
         "type": "histogram",
         "x": [
          0.3
         ],
         "xaxis": "x",
         "yaxis": "y"
        },
        {
         "alignmentgroup": "True",
         "bingroup": "x",
         "hovertemplate": "Player=Pascal Gro�<br>GPJ=%{x}<br>count=%{y}<extra></extra>",
         "legendgroup": "Pascal Gro�",
         "marker": {
          "color": "#00cc96",
          "pattern": {
           "shape": ""
          }
         },
         "name": "Pascal Gro�",
         "offsetgroup": "Pascal Gro�",
         "orientation": "v",
         "showlegend": true,
         "type": "histogram",
         "x": [
          0.2857142857142857
         ],
         "xaxis": "x",
         "yaxis": "y"
        },
        {
         "alignmentgroup": "True",
         "bingroup": "x",
         "hovertemplate": "Player=Teun Koopmeiners<br>GPJ=%{x}<br>count=%{y}<extra></extra>",
         "legendgroup": "Teun Koopmeiners",
         "marker": {
          "color": "#ab63fa",
          "pattern": {
           "shape": ""
          }
         },
         "name": "Teun Koopmeiners",
         "offsetgroup": "Teun Koopmeiners",
         "orientation": "v",
         "showlegend": true,
         "type": "histogram",
         "x": [
          0.2857142857142857
         ],
         "xaxis": "x",
         "yaxis": "y"
        },
        {
         "alignmentgroup": "True",
         "bingroup": "x",
         "hovertemplate": "Player=Florian Kainz<br>GPJ=%{x}<br>count=%{y}<extra></extra>",
         "legendgroup": "Florian Kainz",
         "marker": {
          "color": "#FFA15A",
          "pattern": {
           "shape": ""
          }
         },
         "name": "Florian Kainz",
         "offsetgroup": "Florian Kainz",
         "orientation": "v",
         "showlegend": true,
         "type": "histogram",
         "x": [
          0.2777777777777778
         ],
         "xaxis": "x",
         "yaxis": "y"
        },
        {
         "alignmentgroup": "True",
         "bingroup": "x",
         "hovertemplate": "Player=Janik Haberer<br>GPJ=%{x}<br>count=%{y}<extra></extra>",
         "legendgroup": "Janik Haberer",
         "marker": {
          "color": "#19d3f3",
          "pattern": {
           "shape": ""
          }
         },
         "name": "Janik Haberer",
         "offsetgroup": "Janik Haberer",
         "orientation": "v",
         "showlegend": true,
         "type": "histogram",
         "x": [
          0.2777777777777778
         ],
         "xaxis": "x",
         "yaxis": "y"
        },
        {
         "alignmentgroup": "True",
         "bingroup": "x",
         "hovertemplate": "Player=Alexis Mac Allister<br>GPJ=%{x}<br>count=%{y}<extra></extra>",
         "legendgroup": "Alexis Mac Allister",
         "marker": {
          "color": "#FF6692",
          "pattern": {
           "shape": ""
          }
         },
         "name": "Alexis Mac Allister",
         "offsetgroup": "Alexis Mac Allister",
         "orientation": "v",
         "showlegend": true,
         "type": "histogram",
         "x": [
          0.2777777777777778
         ],
         "xaxis": "x",
         "yaxis": "y"
        },
        {
         "alignmentgroup": "True",
         "bingroup": "x",
         "hovertemplate": "Player=Rodrigo Bentancur<br>GPJ=%{x}<br>count=%{y}<extra></extra>",
         "legendgroup": "Rodrigo Bentancur",
         "marker": {
          "color": "#B6E880",
          "pattern": {
           "shape": ""
          }
         },
         "name": "Rodrigo Bentancur",
         "offsetgroup": "Rodrigo Bentancur",
         "orientation": "v",
         "showlegend": true,
         "type": "histogram",
         "x": [
          0.2777777777777778
         ],
         "xaxis": "x",
         "yaxis": "y"
        },
        {
         "alignmentgroup": "True",
         "bingroup": "x",
         "hovertemplate": "Player=Florian Sotoca<br>GPJ=%{x}<br>count=%{y}<extra></extra>",
         "legendgroup": "Florian Sotoca",
         "marker": {
          "color": "#FF97FF",
          "pattern": {
           "shape": ""
          }
         },
         "name": "Florian Sotoca",
         "offsetgroup": "Florian Sotoca",
         "orientation": "v",
         "showlegend": true,
         "type": "histogram",
         "x": [
          0.2727272727272727
         ],
         "xaxis": "x",
         "yaxis": "y"
        },
        {
         "alignmentgroup": "True",
         "bingroup": "x",
         "hovertemplate": "Player=Yannick Gerhardt<br>GPJ=%{x}<br>count=%{y}<extra></extra>",
         "legendgroup": "Yannick Gerhardt",
         "marker": {
          "color": "#FECB52",
          "pattern": {
           "shape": ""
          }
         },
         "name": "Yannick Gerhardt",
         "offsetgroup": "Yannick Gerhardt",
         "orientation": "v",
         "showlegend": true,
         "type": "histogram",
         "x": [
          0.26666666666666666
         ],
         "xaxis": "x",
         "yaxis": "y"
        },
        {
         "alignmentgroup": "True",
         "bingroup": "x",
         "hovertemplate": "Player=Andrej Kramari?<br>GPJ=%{x}<br>count=%{y}<extra></extra>",
         "legendgroup": "Andrej Kramari?",
         "marker": {
          "color": "#636efa",
          "pattern": {
           "shape": ""
          }
         },
         "name": "Andrej Kramari?",
         "offsetgroup": "Andrej Kramari?",
         "orientation": "v",
         "showlegend": true,
         "type": "histogram",
         "x": [
          0.2631578947368421
         ],
         "xaxis": "x",
         "yaxis": "y"
        },
        {
         "alignmentgroup": "True",
         "bingroup": "x",
         "hovertemplate": "Player=�ngel Correa<br>GPJ=%{x}<br>count=%{y}<extra></extra>",
         "legendgroup": "�ngel Correa",
         "marker": {
          "color": "#EF553B",
          "pattern": {
           "shape": ""
          }
         },
         "name": "�ngel Correa",
         "offsetgroup": "�ngel Correa",
         "orientation": "v",
         "showlegend": true,
         "type": "histogram",
         "x": [
          0.2631578947368421
         ],
         "xaxis": "x",
         "yaxis": "y"
        },
        {
         "alignmentgroup": "True",
         "bingroup": "x",
         "hovertemplate": "Player=Nuno Tavares<br>GPJ=%{x}<br>count=%{y}<extra></extra>",
         "legendgroup": "Nuno Tavares",
         "marker": {
          "color": "#00cc96",
          "pattern": {
           "shape": ""
          }
         },
         "name": "Nuno Tavares",
         "offsetgroup": "Nuno Tavares",
         "orientation": "v",
         "showlegend": true,
         "type": "histogram",
         "x": [
          0.2631578947368421
         ],
         "xaxis": "x",
         "yaxis": "y"
        },
        {
         "alignmentgroup": "True",
         "bingroup": "x",
         "hovertemplate": "Player=Jeremie Frimpong<br>GPJ=%{x}<br>count=%{y}<extra></extra>",
         "legendgroup": "Jeremie Frimpong",
         "marker": {
          "color": "#ab63fa",
          "pattern": {
           "shape": ""
          }
         },
         "name": "Jeremie Frimpong",
         "offsetgroup": "Jeremie Frimpong",
         "orientation": "v",
         "showlegend": true,
         "type": "histogram",
         "x": [
          0.25
         ],
         "xaxis": "x",
         "yaxis": "y"
        },
        {
         "alignmentgroup": "True",
         "bingroup": "x",
         "hovertemplate": "Player=Denis Huseinbasic<br>GPJ=%{x}<br>count=%{y}<extra></extra>",
         "legendgroup": "Denis Huseinbasic",
         "marker": {
          "color": "#FFA15A",
          "pattern": {
           "shape": ""
          }
         },
         "name": "Denis Huseinbasic",
         "offsetgroup": "Denis Huseinbasic",
         "orientation": "v",
         "showlegend": true,
         "type": "histogram",
         "x": [
          0.25
         ],
         "xaxis": "x",
         "yaxis": "y"
        },
        {
         "alignmentgroup": "True",
         "bingroup": "x",
         "hovertemplate": "Player=Christoph Baumgartner<br>GPJ=%{x}<br>count=%{y}<extra></extra>",
         "legendgroup": "Christoph Baumgartner",
         "marker": {
          "color": "#19d3f3",
          "pattern": {
           "shape": ""
          }
         },
         "name": "Christoph Baumgartner",
         "offsetgroup": "Christoph Baumgartner",
         "orientation": "v",
         "showlegend": true,
         "type": "histogram",
         "x": [
          0.25
         ],
         "xaxis": "x",
         "yaxis": "y"
        },
        {
         "alignmentgroup": "True",
         "bingroup": "x",
         "hovertemplate": "Player=R�my Cabella<br>GPJ=%{x}<br>count=%{y}<extra></extra>",
         "legendgroup": "R�my Cabella",
         "marker": {
          "color": "#FF6692",
          "pattern": {
           "shape": ""
          }
         },
         "name": "R�my Cabella",
         "offsetgroup": "R�my Cabella",
         "orientation": "v",
         "showlegend": true,
         "type": "histogram",
         "x": [
          0.25
         ],
         "xaxis": "x",
         "yaxis": "y"
        },
        {
         "alignmentgroup": "True",
         "bingroup": "x",
         "hovertemplate": "Player=Kevin Volland<br>GPJ=%{x}<br>count=%{y}<extra></extra>",
         "legendgroup": "Kevin Volland",
         "marker": {
          "color": "#B6E880",
          "pattern": {
           "shape": ""
          }
         },
         "name": "Kevin Volland",
         "offsetgroup": "Kevin Volland",
         "orientation": "v",
         "showlegend": true,
         "type": "histogram",
         "x": [
          0.25
         ],
         "xaxis": "x",
         "yaxis": "y"
        },
        {
         "alignmentgroup": "True",
         "bingroup": "x",
         "hovertemplate": "Player=Aleksei Miranchuk<br>GPJ=%{x}<br>count=%{y}<extra></extra>",
         "legendgroup": "Aleksei Miranchuk",
         "marker": {
          "color": "#FF97FF",
          "pattern": {
           "shape": ""
          }
         },
         "name": "Aleksei Miranchuk",
         "offsetgroup": "Aleksei Miranchuk",
         "orientation": "v",
         "showlegend": true,
         "type": "histogram",
         "x": [
          0.25
         ],
         "xaxis": "x",
         "yaxis": "y"
        },
        {
         "alignmentgroup": "True",
         "bingroup": "x",
         "hovertemplate": "Player=Yusuf Yaz�c�<br>GPJ=%{x}<br>count=%{y}<extra></extra>",
         "legendgroup": "Yusuf Yaz�c�",
         "marker": {
          "color": "#FECB52",
          "pattern": {
           "shape": ""
          }
         },
         "name": "Yusuf Yaz�c�",
         "offsetgroup": "Yusuf Yaz�c�",
         "orientation": "v",
         "showlegend": true,
         "type": "histogram",
         "x": [
          0.25
         ],
         "xaxis": "x",
         "yaxis": "y"
        }
       ],
       "layout": {
        "barmode": "relative",
        "legend": {
         "title": {
          "text": "Player"
         },
         "tracegroupgap": 0
        },
        "margin": {
         "t": 60
        },
        "template": {
         "data": {
          "bar": [
           {
            "error_x": {
             "color": "#2a3f5f"
            },
            "error_y": {
             "color": "#2a3f5f"
            },
            "marker": {
             "line": {
              "color": "#E5ECF6",
              "width": 0.5
             },
             "pattern": {
              "fillmode": "overlay",
              "size": 10,
              "solidity": 0.2
             }
            },
            "type": "bar"
           }
          ],
          "barpolar": [
           {
            "marker": {
             "line": {
              "color": "#E5ECF6",
              "width": 0.5
             },
             "pattern": {
              "fillmode": "overlay",
              "size": 10,
              "solidity": 0.2
             }
            },
            "type": "barpolar"
           }
          ],
          "carpet": [
           {
            "aaxis": {
             "endlinecolor": "#2a3f5f",
             "gridcolor": "white",
             "linecolor": "white",
             "minorgridcolor": "white",
             "startlinecolor": "#2a3f5f"
            },
            "baxis": {
             "endlinecolor": "#2a3f5f",
             "gridcolor": "white",
             "linecolor": "white",
             "minorgridcolor": "white",
             "startlinecolor": "#2a3f5f"
            },
            "type": "carpet"
           }
          ],
          "choropleth": [
           {
            "colorbar": {
             "outlinewidth": 0,
             "ticks": ""
            },
            "type": "choropleth"
           }
          ],
          "contour": [
           {
            "colorbar": {
             "outlinewidth": 0,
             "ticks": ""
            },
            "colorscale": [
             [
              0,
              "#0d0887"
             ],
             [
              0.1111111111111111,
              "#46039f"
             ],
             [
              0.2222222222222222,
              "#7201a8"
             ],
             [
              0.3333333333333333,
              "#9c179e"
             ],
             [
              0.4444444444444444,
              "#bd3786"
             ],
             [
              0.5555555555555556,
              "#d8576b"
             ],
             [
              0.6666666666666666,
              "#ed7953"
             ],
             [
              0.7777777777777778,
              "#fb9f3a"
             ],
             [
              0.8888888888888888,
              "#fdca26"
             ],
             [
              1,
              "#f0f921"
             ]
            ],
            "type": "contour"
           }
          ],
          "contourcarpet": [
           {
            "colorbar": {
             "outlinewidth": 0,
             "ticks": ""
            },
            "type": "contourcarpet"
           }
          ],
          "heatmap": [
           {
            "colorbar": {
             "outlinewidth": 0,
             "ticks": ""
            },
            "colorscale": [
             [
              0,
              "#0d0887"
             ],
             [
              0.1111111111111111,
              "#46039f"
             ],
             [
              0.2222222222222222,
              "#7201a8"
             ],
             [
              0.3333333333333333,
              "#9c179e"
             ],
             [
              0.4444444444444444,
              "#bd3786"
             ],
             [
              0.5555555555555556,
              "#d8576b"
             ],
             [
              0.6666666666666666,
              "#ed7953"
             ],
             [
              0.7777777777777778,
              "#fb9f3a"
             ],
             [
              0.8888888888888888,
              "#fdca26"
             ],
             [
              1,
              "#f0f921"
             ]
            ],
            "type": "heatmap"
           }
          ],
          "heatmapgl": [
           {
            "colorbar": {
             "outlinewidth": 0,
             "ticks": ""
            },
            "colorscale": [
             [
              0,
              "#0d0887"
             ],
             [
              0.1111111111111111,
              "#46039f"
             ],
             [
              0.2222222222222222,
              "#7201a8"
             ],
             [
              0.3333333333333333,
              "#9c179e"
             ],
             [
              0.4444444444444444,
              "#bd3786"
             ],
             [
              0.5555555555555556,
              "#d8576b"
             ],
             [
              0.6666666666666666,
              "#ed7953"
             ],
             [
              0.7777777777777778,
              "#fb9f3a"
             ],
             [
              0.8888888888888888,
              "#fdca26"
             ],
             [
              1,
              "#f0f921"
             ]
            ],
            "type": "heatmapgl"
           }
          ],
          "histogram": [
           {
            "marker": {
             "pattern": {
              "fillmode": "overlay",
              "size": 10,
              "solidity": 0.2
             }
            },
            "type": "histogram"
           }
          ],
          "histogram2d": [
           {
            "colorbar": {
             "outlinewidth": 0,
             "ticks": ""
            },
            "colorscale": [
             [
              0,
              "#0d0887"
             ],
             [
              0.1111111111111111,
              "#46039f"
             ],
             [
              0.2222222222222222,
              "#7201a8"
             ],
             [
              0.3333333333333333,
              "#9c179e"
             ],
             [
              0.4444444444444444,
              "#bd3786"
             ],
             [
              0.5555555555555556,
              "#d8576b"
             ],
             [
              0.6666666666666666,
              "#ed7953"
             ],
             [
              0.7777777777777778,
              "#fb9f3a"
             ],
             [
              0.8888888888888888,
              "#fdca26"
             ],
             [
              1,
              "#f0f921"
             ]
            ],
            "type": "histogram2d"
           }
          ],
          "histogram2dcontour": [
           {
            "colorbar": {
             "outlinewidth": 0,
             "ticks": ""
            },
            "colorscale": [
             [
              0,
              "#0d0887"
             ],
             [
              0.1111111111111111,
              "#46039f"
             ],
             [
              0.2222222222222222,
              "#7201a8"
             ],
             [
              0.3333333333333333,
              "#9c179e"
             ],
             [
              0.4444444444444444,
              "#bd3786"
             ],
             [
              0.5555555555555556,
              "#d8576b"
             ],
             [
              0.6666666666666666,
              "#ed7953"
             ],
             [
              0.7777777777777778,
              "#fb9f3a"
             ],
             [
              0.8888888888888888,
              "#fdca26"
             ],
             [
              1,
              "#f0f921"
             ]
            ],
            "type": "histogram2dcontour"
           }
          ],
          "mesh3d": [
           {
            "colorbar": {
             "outlinewidth": 0,
             "ticks": ""
            },
            "type": "mesh3d"
           }
          ],
          "parcoords": [
           {
            "line": {
             "colorbar": {
              "outlinewidth": 0,
              "ticks": ""
             }
            },
            "type": "parcoords"
           }
          ],
          "pie": [
           {
            "automargin": true,
            "type": "pie"
           }
          ],
          "scatter": [
           {
            "fillpattern": {
             "fillmode": "overlay",
             "size": 10,
             "solidity": 0.2
            },
            "type": "scatter"
           }
          ],
          "scatter3d": [
           {
            "line": {
             "colorbar": {
              "outlinewidth": 0,
              "ticks": ""
             }
            },
            "marker": {
             "colorbar": {
              "outlinewidth": 0,
              "ticks": ""
             }
            },
            "type": "scatter3d"
           }
          ],
          "scattercarpet": [
           {
            "marker": {
             "colorbar": {
              "outlinewidth": 0,
              "ticks": ""
             }
            },
            "type": "scattercarpet"
           }
          ],
          "scattergeo": [
           {
            "marker": {
             "colorbar": {
              "outlinewidth": 0,
              "ticks": ""
             }
            },
            "type": "scattergeo"
           }
          ],
          "scattergl": [
           {
            "marker": {
             "colorbar": {
              "outlinewidth": 0,
              "ticks": ""
             }
            },
            "type": "scattergl"
           }
          ],
          "scattermapbox": [
           {
            "marker": {
             "colorbar": {
              "outlinewidth": 0,
              "ticks": ""
             }
            },
            "type": "scattermapbox"
           }
          ],
          "scatterpolar": [
           {
            "marker": {
             "colorbar": {
              "outlinewidth": 0,
              "ticks": ""
             }
            },
            "type": "scatterpolar"
           }
          ],
          "scatterpolargl": [
           {
            "marker": {
             "colorbar": {
              "outlinewidth": 0,
              "ticks": ""
             }
            },
            "type": "scatterpolargl"
           }
          ],
          "scatterternary": [
           {
            "marker": {
             "colorbar": {
              "outlinewidth": 0,
              "ticks": ""
             }
            },
            "type": "scatterternary"
           }
          ],
          "surface": [
           {
            "colorbar": {
             "outlinewidth": 0,
             "ticks": ""
            },
            "colorscale": [
             [
              0,
              "#0d0887"
             ],
             [
              0.1111111111111111,
              "#46039f"
             ],
             [
              0.2222222222222222,
              "#7201a8"
             ],
             [
              0.3333333333333333,
              "#9c179e"
             ],
             [
              0.4444444444444444,
              "#bd3786"
             ],
             [
              0.5555555555555556,
              "#d8576b"
             ],
             [
              0.6666666666666666,
              "#ed7953"
             ],
             [
              0.7777777777777778,
              "#fb9f3a"
             ],
             [
              0.8888888888888888,
              "#fdca26"
             ],
             [
              1,
              "#f0f921"
             ]
            ],
            "type": "surface"
           }
          ],
          "table": [
           {
            "cells": {
             "fill": {
              "color": "#EBF0F8"
             },
             "line": {
              "color": "white"
             }
            },
            "header": {
             "fill": {
              "color": "#C8D4E3"
             },
             "line": {
              "color": "white"
             }
            },
            "type": "table"
           }
          ]
         },
         "layout": {
          "annotationdefaults": {
           "arrowcolor": "#2a3f5f",
           "arrowhead": 0,
           "arrowwidth": 1
          },
          "autotypenumbers": "strict",
          "coloraxis": {
           "colorbar": {
            "outlinewidth": 0,
            "ticks": ""
           }
          },
          "colorscale": {
           "diverging": [
            [
             0,
             "#8e0152"
            ],
            [
             0.1,
             "#c51b7d"
            ],
            [
             0.2,
             "#de77ae"
            ],
            [
             0.3,
             "#f1b6da"
            ],
            [
             0.4,
             "#fde0ef"
            ],
            [
             0.5,
             "#f7f7f7"
            ],
            [
             0.6,
             "#e6f5d0"
            ],
            [
             0.7,
             "#b8e186"
            ],
            [
             0.8,
             "#7fbc41"
            ],
            [
             0.9,
             "#4d9221"
            ],
            [
             1,
             "#276419"
            ]
           ],
           "sequential": [
            [
             0,
             "#0d0887"
            ],
            [
             0.1111111111111111,
             "#46039f"
            ],
            [
             0.2222222222222222,
             "#7201a8"
            ],
            [
             0.3333333333333333,
             "#9c179e"
            ],
            [
             0.4444444444444444,
             "#bd3786"
            ],
            [
             0.5555555555555556,
             "#d8576b"
            ],
            [
             0.6666666666666666,
             "#ed7953"
            ],
            [
             0.7777777777777778,
             "#fb9f3a"
            ],
            [
             0.8888888888888888,
             "#fdca26"
            ],
            [
             1,
             "#f0f921"
            ]
           ],
           "sequentialminus": [
            [
             0,
             "#0d0887"
            ],
            [
             0.1111111111111111,
             "#46039f"
            ],
            [
             0.2222222222222222,
             "#7201a8"
            ],
            [
             0.3333333333333333,
             "#9c179e"
            ],
            [
             0.4444444444444444,
             "#bd3786"
            ],
            [
             0.5555555555555556,
             "#d8576b"
            ],
            [
             0.6666666666666666,
             "#ed7953"
            ],
            [
             0.7777777777777778,
             "#fb9f3a"
            ],
            [
             0.8888888888888888,
             "#fdca26"
            ],
            [
             1,
             "#f0f921"
            ]
           ]
          },
          "colorway": [
           "#636efa",
           "#EF553B",
           "#00cc96",
           "#ab63fa",
           "#FFA15A",
           "#19d3f3",
           "#FF6692",
           "#B6E880",
           "#FF97FF",
           "#FECB52"
          ],
          "font": {
           "color": "#2a3f5f"
          },
          "geo": {
           "bgcolor": "white",
           "lakecolor": "white",
           "landcolor": "#E5ECF6",
           "showlakes": true,
           "showland": true,
           "subunitcolor": "white"
          },
          "hoverlabel": {
           "align": "left"
          },
          "hovermode": "closest",
          "mapbox": {
           "style": "light"
          },
          "paper_bgcolor": "white",
          "plot_bgcolor": "#E5ECF6",
          "polar": {
           "angularaxis": {
            "gridcolor": "white",
            "linecolor": "white",
            "ticks": ""
           },
           "bgcolor": "#E5ECF6",
           "radialaxis": {
            "gridcolor": "white",
            "linecolor": "white",
            "ticks": ""
           }
          },
          "scene": {
           "xaxis": {
            "backgroundcolor": "#E5ECF6",
            "gridcolor": "white",
            "gridwidth": 2,
            "linecolor": "white",
            "showbackground": true,
            "ticks": "",
            "zerolinecolor": "white"
           },
           "yaxis": {
            "backgroundcolor": "#E5ECF6",
            "gridcolor": "white",
            "gridwidth": 2,
            "linecolor": "white",
            "showbackground": true,
            "ticks": "",
            "zerolinecolor": "white"
           },
           "zaxis": {
            "backgroundcolor": "#E5ECF6",
            "gridcolor": "white",
            "gridwidth": 2,
            "linecolor": "white",
            "showbackground": true,
            "ticks": "",
            "zerolinecolor": "white"
           }
          },
          "shapedefaults": {
           "line": {
            "color": "#2a3f5f"
           }
          },
          "ternary": {
           "aaxis": {
            "gridcolor": "white",
            "linecolor": "white",
            "ticks": ""
           },
           "baxis": {
            "gridcolor": "white",
            "linecolor": "white",
            "ticks": ""
           },
           "bgcolor": "#E5ECF6",
           "caxis": {
            "gridcolor": "white",
            "linecolor": "white",
            "ticks": ""
           }
          },
          "title": {
           "x": 0.05
          },
          "xaxis": {
           "automargin": true,
           "gridcolor": "white",
           "linecolor": "white",
           "ticks": "",
           "title": {
            "standoff": 15
           },
           "zerolinecolor": "white",
           "zerolinewidth": 2
          },
          "yaxis": {
           "automargin": true,
           "gridcolor": "white",
           "linecolor": "white",
           "ticks": "",
           "title": {
            "standoff": 15
           },
           "zerolinecolor": "white",
           "zerolinewidth": 2
          }
         }
        },
        "xaxis": {
         "anchor": "y",
         "domain": [
          0,
          1
         ],
         "title": {
          "text": "GPJ"
         }
        },
        "yaxis": {
         "anchor": "x",
         "domain": [
          0,
          1
         ],
         "title": {
          "text": "count"
         }
        }
       }
      }
     },
     "metadata": {},
     "output_type": "display_data"
    }
   ],
   "source": [
    "Meias['GPJ'] = Meias['Goals'] / Meias['MP']\n",
    "Meias.sort_values(['GPJ'], ascending = False, inplace = True)\n",
    "px.histogram(Meias.head(50), x = \"GPJ\", color = 'Player').show()"
   ]
  },
  {
   "cell_type": "code",
   "execution_count": 83,
   "metadata": {},
   "outputs": [],
   "source": [
    "positivos = Meias['Goals'] * 4  + Meias['Assists'] * 2 + Meias['MP'] * 2 + Meias['Starts'] + Meias['Recov'] + Meias['Blocks'] + Meias['BlkPass'] + Meias['TB'] + Meias['PasAss'] *2 + Meias['Tkl+Int'] * 2 + Meias['TI']\n",
    "\n",
    "negativos = (Meias['Shots'] - Meias['Goals']) * 3 + Meias['PasOff'] + Meias['Off'] + Meias['CrdY'] * 2 + Meias['CrdR'] * 3 + Meias['Fls'] * 2  + Meias['Err'] * 3"
   ]
  },
  {
   "cell_type": "code",
   "execution_count": 84,
   "metadata": {},
   "outputs": [
    {
     "data": {
      "text/html": [
       "<div>\n",
       "<style scoped>\n",
       "    .dataframe tbody tr th:only-of-type {\n",
       "        vertical-align: middle;\n",
       "    }\n",
       "\n",
       "    .dataframe tbody tr th {\n",
       "        vertical-align: top;\n",
       "    }\n",
       "\n",
       "    .dataframe thead th {\n",
       "        text-align: right;\n",
       "    }\n",
       "</style>\n",
       "<table border=\"1\" class=\"dataframe\">\n",
       "  <thead>\n",
       "    <tr style=\"text-align: right;\">\n",
       "      <th></th>\n",
       "      <th>Player</th>\n",
       "      <th>Pos</th>\n",
       "      <th>score</th>\n",
       "    </tr>\n",
       "  </thead>\n",
       "  <tbody>\n",
       "    <tr>\n",
       "      <th>637</th>\n",
       "      <td>Neymar</td>\n",
       "      <td>MFFW</td>\n",
       "      <td>144.23</td>\n",
       "    </tr>\n",
       "    <tr>\n",
       "      <th>624</th>\n",
       "      <td>Jamal Musiala</td>\n",
       "      <td>MFFW</td>\n",
       "      <td>132.92</td>\n",
       "    </tr>\n",
       "    <tr>\n",
       "      <th>592</th>\n",
       "      <td>Lionel Messi</td>\n",
       "      <td>MFFW</td>\n",
       "      <td>122.04</td>\n",
       "    </tr>\n",
       "    <tr>\n",
       "      <th>977</th>\n",
       "      <td>Martin �degaard</td>\n",
       "      <td>MF</td>\n",
       "      <td>119.90</td>\n",
       "    </tr>\n",
       "    <tr>\n",
       "      <th>794</th>\n",
       "      <td>Oihan Sancet</td>\n",
       "      <td>MF</td>\n",
       "      <td>119.00</td>\n",
       "    </tr>\n",
       "  </tbody>\n",
       "</table>\n",
       "</div>"
      ],
      "text/plain": [
       "              Player   Pos   score\n",
       "637           Neymar  MFFW  144.23\n",
       "624    Jamal Musiala  MFFW  132.92\n",
       "592     Lionel Messi  MFFW  122.04\n",
       "977  Martin �degaard    MF  119.90\n",
       "794     Oihan Sancet    MF  119.00"
      ]
     },
     "execution_count": 84,
     "metadata": {},
     "output_type": "execute_result"
    }
   ],
   "source": [
    "Meias['score'] = positivos - negativos\n",
    "Meias.sort_values(['score'], ascending = False, inplace = True)\n",
    "Meias[['Player', 'Pos','score']].head()"
   ]
  },
  {
   "cell_type": "code",
   "execution_count": 86,
   "metadata": {},
   "outputs": [
    {
     "data": {
      "text/html": [
       "<div>\n",
       "<style scoped>\n",
       "    .dataframe tbody tr th:only-of-type {\n",
       "        vertical-align: middle;\n",
       "    }\n",
       "\n",
       "    .dataframe tbody tr th {\n",
       "        vertical-align: top;\n",
       "    }\n",
       "\n",
       "    .dataframe thead th {\n",
       "        text-align: right;\n",
       "    }\n",
       "</style>\n",
       "<table border=\"1\" class=\"dataframe\">\n",
       "  <thead>\n",
       "    <tr style=\"text-align: right;\">\n",
       "      <th></th>\n",
       "      <th>_c0</th>\n",
       "      <th>Rk</th>\n",
       "      <th>Player</th>\n",
       "      <th>Nation</th>\n",
       "      <th>Pos</th>\n",
       "      <th>Squad</th>\n",
       "      <th>Comp</th>\n",
       "      <th>Age</th>\n",
       "      <th>Born</th>\n",
       "      <th>MP</th>\n",
       "      <th>...</th>\n",
       "      <th>TklW</th>\n",
       "      <th>PKwon</th>\n",
       "      <th>PKcon</th>\n",
       "      <th>OG</th>\n",
       "      <th>Recov</th>\n",
       "      <th>AerWon</th>\n",
       "      <th>AerLost</th>\n",
       "      <th>AerWon%</th>\n",
       "      <th>GPJ</th>\n",
       "      <th>score</th>\n",
       "    </tr>\n",
       "  </thead>\n",
       "  <tbody>\n",
       "    <tr>\n",
       "      <th>637</th>\n",
       "      <td>1780</td>\n",
       "      <td>1781</td>\n",
       "      <td>Neymar</td>\n",
       "      <td>BRA</td>\n",
       "      <td>MFFW</td>\n",
       "      <td>Paris S-G</td>\n",
       "      <td>Ligue 1</td>\n",
       "      <td>31</td>\n",
       "      <td>1992</td>\n",
       "      <td>19</td>\n",
       "      <td>...</td>\n",
       "      <td>0.84</td>\n",
       "      <td>0.06</td>\n",
       "      <td>0.00</td>\n",
       "      <td>0.00</td>\n",
       "      <td>3.55</td>\n",
       "      <td>0.06</td>\n",
       "      <td>0.12</td>\n",
       "      <td>33.3</td>\n",
       "      <td>0.631579</td>\n",
       "      <td>144.23</td>\n",
       "    </tr>\n",
       "    <tr>\n",
       "      <th>624</th>\n",
       "      <td>1748</td>\n",
       "      <td>1749</td>\n",
       "      <td>Jamal Musiala</td>\n",
       "      <td>GER</td>\n",
       "      <td>MFFW</td>\n",
       "      <td>Bayern Munich</td>\n",
       "      <td>Bundesliga</td>\n",
       "      <td>19</td>\n",
       "      <td>2003</td>\n",
       "      <td>19</td>\n",
       "      <td>...</td>\n",
       "      <td>0.99</td>\n",
       "      <td>0.00</td>\n",
       "      <td>0.00</td>\n",
       "      <td>0.00</td>\n",
       "      <td>5.56</td>\n",
       "      <td>0.60</td>\n",
       "      <td>0.53</td>\n",
       "      <td>52.9</td>\n",
       "      <td>0.526316</td>\n",
       "      <td>132.92</td>\n",
       "    </tr>\n",
       "    <tr>\n",
       "      <th>592</th>\n",
       "      <td>1650</td>\n",
       "      <td>1651</td>\n",
       "      <td>Lionel Messi</td>\n",
       "      <td>ARG</td>\n",
       "      <td>MFFW</td>\n",
       "      <td>Paris S-G</td>\n",
       "      <td>Ligue 1</td>\n",
       "      <td>35</td>\n",
       "      <td>1987</td>\n",
       "      <td>18</td>\n",
       "      <td>...</td>\n",
       "      <td>0.74</td>\n",
       "      <td>0.00</td>\n",
       "      <td>0.00</td>\n",
       "      <td>0.00</td>\n",
       "      <td>2.34</td>\n",
       "      <td>0.00</td>\n",
       "      <td>0.17</td>\n",
       "      <td>0.0</td>\n",
       "      <td>0.555556</td>\n",
       "      <td>122.04</td>\n",
       "    </tr>\n",
       "    <tr>\n",
       "      <th>977</th>\n",
       "      <td>2686</td>\n",
       "      <td>2687</td>\n",
       "      <td>Martin �degaard</td>\n",
       "      <td>NOR</td>\n",
       "      <td>MF</td>\n",
       "      <td>Arsenal</td>\n",
       "      <td>Premier League</td>\n",
       "      <td>24</td>\n",
       "      <td>1998</td>\n",
       "      <td>20</td>\n",
       "      <td>...</td>\n",
       "      <td>0.70</td>\n",
       "      <td>0.00</td>\n",
       "      <td>0.00</td>\n",
       "      <td>0.00</td>\n",
       "      <td>5.19</td>\n",
       "      <td>0.48</td>\n",
       "      <td>0.70</td>\n",
       "      <td>40.9</td>\n",
       "      <td>0.400000</td>\n",
       "      <td>119.90</td>\n",
       "    </tr>\n",
       "    <tr>\n",
       "      <th>794</th>\n",
       "      <td>2187</td>\n",
       "      <td>2188</td>\n",
       "      <td>Oihan Sancet</td>\n",
       "      <td>ESP</td>\n",
       "      <td>MF</td>\n",
       "      <td>Athletic Club</td>\n",
       "      <td>La Liga</td>\n",
       "      <td>22</td>\n",
       "      <td>2000</td>\n",
       "      <td>21</td>\n",
       "      <td>...</td>\n",
       "      <td>0.51</td>\n",
       "      <td>0.00</td>\n",
       "      <td>0.00</td>\n",
       "      <td>0.00</td>\n",
       "      <td>5.61</td>\n",
       "      <td>0.83</td>\n",
       "      <td>0.64</td>\n",
       "      <td>56.5</td>\n",
       "      <td>0.380952</td>\n",
       "      <td>119.00</td>\n",
       "    </tr>\n",
       "    <tr>\n",
       "      <th>363</th>\n",
       "      <td>1015</td>\n",
       "      <td>1016</td>\n",
       "      <td>Pascal Gro�</td>\n",
       "      <td>GER</td>\n",
       "      <td>MFDF</td>\n",
       "      <td>Brighton</td>\n",
       "      <td>Premier League</td>\n",
       "      <td>31</td>\n",
       "      <td>1991</td>\n",
       "      <td>21</td>\n",
       "      <td>...</td>\n",
       "      <td>0.89</td>\n",
       "      <td>0.00</td>\n",
       "      <td>0.05</td>\n",
       "      <td>0.00</td>\n",
       "      <td>3.56</td>\n",
       "      <td>0.15</td>\n",
       "      <td>1.14</td>\n",
       "      <td>11.5</td>\n",
       "      <td>0.285714</td>\n",
       "      <td>116.14</td>\n",
       "    </tr>\n",
       "    <tr>\n",
       "      <th>76</th>\n",
       "      <td>202</td>\n",
       "      <td>203</td>\n",
       "      <td>Harvey Barnes</td>\n",
       "      <td>ENG</td>\n",
       "      <td>MFFW</td>\n",
       "      <td>Leicester City</td>\n",
       "      <td>Premier League</td>\n",
       "      <td>25</td>\n",
       "      <td>1997</td>\n",
       "      <td>20</td>\n",
       "      <td>...</td>\n",
       "      <td>0.59</td>\n",
       "      <td>0.00</td>\n",
       "      <td>0.00</td>\n",
       "      <td>0.00</td>\n",
       "      <td>3.03</td>\n",
       "      <td>1.01</td>\n",
       "      <td>1.91</td>\n",
       "      <td>34.5</td>\n",
       "      <td>0.400000</td>\n",
       "      <td>114.32</td>\n",
       "    </tr>\n",
       "    <tr>\n",
       "      <th>804</th>\n",
       "      <td>2212</td>\n",
       "      <td>2213</td>\n",
       "      <td>T�ji Savanier</td>\n",
       "      <td>FRA</td>\n",
       "      <td>MF</td>\n",
       "      <td>Montpellier</td>\n",
       "      <td>Ligue 1</td>\n",
       "      <td>31</td>\n",
       "      <td>1991</td>\n",
       "      <td>18</td>\n",
       "      <td>...</td>\n",
       "      <td>1.33</td>\n",
       "      <td>0.00</td>\n",
       "      <td>0.00</td>\n",
       "      <td>0.00</td>\n",
       "      <td>7.86</td>\n",
       "      <td>0.35</td>\n",
       "      <td>0.92</td>\n",
       "      <td>27.3</td>\n",
       "      <td>0.388889</td>\n",
       "      <td>113.65</td>\n",
       "    </tr>\n",
       "    <tr>\n",
       "      <th>463</th>\n",
       "      <td>1316</td>\n",
       "      <td>1317</td>\n",
       "      <td>Teun Koopmeiners</td>\n",
       "      <td>NED</td>\n",
       "      <td>MF</td>\n",
       "      <td>Atalanta</td>\n",
       "      <td>Serie A</td>\n",
       "      <td>24</td>\n",
       "      <td>1998</td>\n",
       "      <td>21</td>\n",
       "      <td>...</td>\n",
       "      <td>0.78</td>\n",
       "      <td>0.00</td>\n",
       "      <td>0.00</td>\n",
       "      <td>0.00</td>\n",
       "      <td>6.03</td>\n",
       "      <td>1.03</td>\n",
       "      <td>0.59</td>\n",
       "      <td>63.6</td>\n",
       "      <td>0.285714</td>\n",
       "      <td>112.65</td>\n",
       "    </tr>\n",
       "    <tr>\n",
       "      <th>941</th>\n",
       "      <td>2588</td>\n",
       "      <td>2589</td>\n",
       "      <td>James Ward-Prowse</td>\n",
       "      <td>ENG</td>\n",
       "      <td>MF</td>\n",
       "      <td>Southampton</td>\n",
       "      <td>Premier League</td>\n",
       "      <td>28</td>\n",
       "      <td>1994</td>\n",
       "      <td>22</td>\n",
       "      <td>...</td>\n",
       "      <td>0.86</td>\n",
       "      <td>0.00</td>\n",
       "      <td>0.00</td>\n",
       "      <td>0.05</td>\n",
       "      <td>5.73</td>\n",
       "      <td>1.68</td>\n",
       "      <td>1.18</td>\n",
       "      <td>58.7</td>\n",
       "      <td>0.227273</td>\n",
       "      <td>112.62</td>\n",
       "    </tr>\n",
       "    <tr>\n",
       "      <th>234</th>\n",
       "      <td>642</td>\n",
       "      <td>643</td>\n",
       "      <td>Branco van den Boomen</td>\n",
       "      <td>NED</td>\n",
       "      <td>MF</td>\n",
       "      <td>Toulouse</td>\n",
       "      <td>Ligue 1</td>\n",
       "      <td>27</td>\n",
       "      <td>1995</td>\n",
       "      <td>22</td>\n",
       "      <td>...</td>\n",
       "      <td>0.79</td>\n",
       "      <td>0.00</td>\n",
       "      <td>0.00</td>\n",
       "      <td>0.00</td>\n",
       "      <td>6.03</td>\n",
       "      <td>0.28</td>\n",
       "      <td>0.51</td>\n",
       "      <td>35.3</td>\n",
       "      <td>0.227273</td>\n",
       "      <td>112.12</td>\n",
       "    </tr>\n",
       "    <tr>\n",
       "      <th>533</th>\n",
       "      <td>1494</td>\n",
       "      <td>1495</td>\n",
       "      <td>James Maddison</td>\n",
       "      <td>ENG</td>\n",
       "      <td>MFFW</td>\n",
       "      <td>Leicester City</td>\n",
       "      <td>Premier League</td>\n",
       "      <td>26</td>\n",
       "      <td>1996</td>\n",
       "      <td>16</td>\n",
       "      <td>...</td>\n",
       "      <td>0.78</td>\n",
       "      <td>0.00</td>\n",
       "      <td>0.00</td>\n",
       "      <td>0.00</td>\n",
       "      <td>3.12</td>\n",
       "      <td>0.14</td>\n",
       "      <td>0.50</td>\n",
       "      <td>22.2</td>\n",
       "      <td>0.562500</td>\n",
       "      <td>112.03</td>\n",
       "    </tr>\n",
       "    <tr>\n",
       "      <th>840</th>\n",
       "      <td>2325</td>\n",
       "      <td>2326</td>\n",
       "      <td>Florian Sotoca</td>\n",
       "      <td>FRA</td>\n",
       "      <td>MFFW</td>\n",
       "      <td>Lens</td>\n",
       "      <td>Ligue 1</td>\n",
       "      <td>32</td>\n",
       "      <td>1990</td>\n",
       "      <td>22</td>\n",
       "      <td>...</td>\n",
       "      <td>0.60</td>\n",
       "      <td>0.05</td>\n",
       "      <td>0.00</td>\n",
       "      <td>0.00</td>\n",
       "      <td>3.27</td>\n",
       "      <td>1.41</td>\n",
       "      <td>1.41</td>\n",
       "      <td>50.0</td>\n",
       "      <td>0.272727</td>\n",
       "      <td>111.73</td>\n",
       "    </tr>\n",
       "    <tr>\n",
       "      <th>492</th>\n",
       "      <td>1396</td>\n",
       "      <td>1397</td>\n",
       "      <td>Enzo Le F�e</td>\n",
       "      <td>FRA</td>\n",
       "      <td>MF</td>\n",
       "      <td>Lorient</td>\n",
       "      <td>Ligue 1</td>\n",
       "      <td>23</td>\n",
       "      <td>2000</td>\n",
       "      <td>22</td>\n",
       "      <td>...</td>\n",
       "      <td>2.15</td>\n",
       "      <td>0.00</td>\n",
       "      <td>0.00</td>\n",
       "      <td>0.00</td>\n",
       "      <td>7.38</td>\n",
       "      <td>0.42</td>\n",
       "      <td>0.89</td>\n",
       "      <td>32.1</td>\n",
       "      <td>0.181818</td>\n",
       "      <td>111.31</td>\n",
       "    </tr>\n",
       "    <tr>\n",
       "      <th>131</th>\n",
       "      <td>342</td>\n",
       "      <td>343</td>\n",
       "      <td>Julian Brandt</td>\n",
       "      <td>GER</td>\n",
       "      <td>MFFW</td>\n",
       "      <td>Dortmund</td>\n",
       "      <td>Bundesliga</td>\n",
       "      <td>26</td>\n",
       "      <td>1996</td>\n",
       "      <td>20</td>\n",
       "      <td>...</td>\n",
       "      <td>0.72</td>\n",
       "      <td>0.00</td>\n",
       "      <td>0.00</td>\n",
       "      <td>0.00</td>\n",
       "      <td>5.30</td>\n",
       "      <td>0.42</td>\n",
       "      <td>1.02</td>\n",
       "      <td>29.2</td>\n",
       "      <td>0.300000</td>\n",
       "      <td>110.31</td>\n",
       "    </tr>\n",
       "    <tr>\n",
       "      <th>318</th>\n",
       "      <td>895</td>\n",
       "      <td>896</td>\n",
       "      <td>Jeremie Frimpong</td>\n",
       "      <td>NED</td>\n",
       "      <td>DFMF</td>\n",
       "      <td>Leverkusen</td>\n",
       "      <td>Bundesliga</td>\n",
       "      <td>22</td>\n",
       "      <td>2000</td>\n",
       "      <td>20</td>\n",
       "      <td>...</td>\n",
       "      <td>1.01</td>\n",
       "      <td>0.00</td>\n",
       "      <td>0.00</td>\n",
       "      <td>0.00</td>\n",
       "      <td>4.08</td>\n",
       "      <td>0.50</td>\n",
       "      <td>0.95</td>\n",
       "      <td>34.6</td>\n",
       "      <td>0.250000</td>\n",
       "      <td>110.31</td>\n",
       "    </tr>\n",
       "    <tr>\n",
       "      <th>300</th>\n",
       "      <td>839</td>\n",
       "      <td>840</td>\n",
       "      <td>Bruno Fernandes</td>\n",
       "      <td>POR</td>\n",
       "      <td>MFFW</td>\n",
       "      <td>Manchester Utd</td>\n",
       "      <td>Premier League</td>\n",
       "      <td>28</td>\n",
       "      <td>1994</td>\n",
       "      <td>21</td>\n",
       "      <td>...</td>\n",
       "      <td>1.38</td>\n",
       "      <td>0.00</td>\n",
       "      <td>0.00</td>\n",
       "      <td>0.00</td>\n",
       "      <td>6.29</td>\n",
       "      <td>0.48</td>\n",
       "      <td>1.52</td>\n",
       "      <td>23.8</td>\n",
       "      <td>0.238095</td>\n",
       "      <td>109.48</td>\n",
       "    </tr>\n",
       "    <tr>\n",
       "      <th>636</th>\n",
       "      <td>1779</td>\n",
       "      <td>1780</td>\n",
       "      <td>R�ben Neves</td>\n",
       "      <td>POR</td>\n",
       "      <td>MF</td>\n",
       "      <td>Wolves</td>\n",
       "      <td>Premier League</td>\n",
       "      <td>25</td>\n",
       "      <td>1997</td>\n",
       "      <td>21</td>\n",
       "      <td>...</td>\n",
       "      <td>1.19</td>\n",
       "      <td>0.00</td>\n",
       "      <td>0.05</td>\n",
       "      <td>0.00</td>\n",
       "      <td>7.14</td>\n",
       "      <td>0.76</td>\n",
       "      <td>0.81</td>\n",
       "      <td>48.5</td>\n",
       "      <td>0.238095</td>\n",
       "      <td>108.81</td>\n",
       "    </tr>\n",
       "    <tr>\n",
       "      <th>341</th>\n",
       "      <td>966</td>\n",
       "      <td>967</td>\n",
       "      <td>Aleksandr Golovin</td>\n",
       "      <td>RUS</td>\n",
       "      <td>MFFW</td>\n",
       "      <td>Monaco</td>\n",
       "      <td>Ligue 1</td>\n",
       "      <td>26</td>\n",
       "      <td>1996</td>\n",
       "      <td>22</td>\n",
       "      <td>...</td>\n",
       "      <td>1.37</td>\n",
       "      <td>0.00</td>\n",
       "      <td>0.00</td>\n",
       "      <td>0.00</td>\n",
       "      <td>5.37</td>\n",
       "      <td>0.69</td>\n",
       "      <td>1.03</td>\n",
       "      <td>40.0</td>\n",
       "      <td>0.227273</td>\n",
       "      <td>108.20</td>\n",
       "    </tr>\n",
       "    <tr>\n",
       "      <th>586</th>\n",
       "      <td>1634</td>\n",
       "      <td>1635</td>\n",
       "      <td>Brais M�ndez</td>\n",
       "      <td>ESP</td>\n",
       "      <td>MF</td>\n",
       "      <td>Real Sociedad</td>\n",
       "      <td>La Liga</td>\n",
       "      <td>26</td>\n",
       "      <td>1997</td>\n",
       "      <td>19</td>\n",
       "      <td>...</td>\n",
       "      <td>1.43</td>\n",
       "      <td>0.00</td>\n",
       "      <td>0.00</td>\n",
       "      <td>0.00</td>\n",
       "      <td>4.84</td>\n",
       "      <td>0.81</td>\n",
       "      <td>0.81</td>\n",
       "      <td>50.0</td>\n",
       "      <td>0.368421</td>\n",
       "      <td>107.87</td>\n",
       "    </tr>\n",
       "    <tr>\n",
       "      <th>269</th>\n",
       "      <td>756</td>\n",
       "      <td>757</td>\n",
       "      <td>Paulo Dybala</td>\n",
       "      <td>ARG</td>\n",
       "      <td>MFFW</td>\n",
       "      <td>Roma</td>\n",
       "      <td>Serie A</td>\n",
       "      <td>29</td>\n",
       "      <td>1993</td>\n",
       "      <td>16</td>\n",
       "      <td>...</td>\n",
       "      <td>0.15</td>\n",
       "      <td>0.15</td>\n",
       "      <td>0.00</td>\n",
       "      <td>0.00</td>\n",
       "      <td>4.27</td>\n",
       "      <td>0.15</td>\n",
       "      <td>0.69</td>\n",
       "      <td>18.2</td>\n",
       "      <td>0.500000</td>\n",
       "      <td>107.76</td>\n",
       "    </tr>\n",
       "    <tr>\n",
       "      <th>409</th>\n",
       "      <td>1147</td>\n",
       "      <td>1148</td>\n",
       "      <td>Pierre H�jbjerg</td>\n",
       "      <td>DEN</td>\n",
       "      <td>MF</td>\n",
       "      <td>Tottenham</td>\n",
       "      <td>Premier League</td>\n",
       "      <td>27</td>\n",
       "      <td>1995</td>\n",
       "      <td>22</td>\n",
       "      <td>...</td>\n",
       "      <td>0.73</td>\n",
       "      <td>0.00</td>\n",
       "      <td>0.00</td>\n",
       "      <td>0.00</td>\n",
       "      <td>7.61</td>\n",
       "      <td>0.69</td>\n",
       "      <td>0.18</td>\n",
       "      <td>78.9</td>\n",
       "      <td>0.181818</td>\n",
       "      <td>107.55</td>\n",
       "    </tr>\n",
       "    <tr>\n",
       "      <th>690</th>\n",
       "      <td>1920</td>\n",
       "      <td>1921</td>\n",
       "      <td>Pedri</td>\n",
       "      <td>ESP</td>\n",
       "      <td>MFFW</td>\n",
       "      <td>Barcelona</td>\n",
       "      <td>La Liga</td>\n",
       "      <td>20</td>\n",
       "      <td>2002</td>\n",
       "      <td>20</td>\n",
       "      <td>...</td>\n",
       "      <td>1.11</td>\n",
       "      <td>0.00</td>\n",
       "      <td>0.00</td>\n",
       "      <td>0.00</td>\n",
       "      <td>6.26</td>\n",
       "      <td>0.06</td>\n",
       "      <td>0.12</td>\n",
       "      <td>33.3</td>\n",
       "      <td>0.250000</td>\n",
       "      <td>106.93</td>\n",
       "    </tr>\n",
       "    <tr>\n",
       "      <th>429</th>\n",
       "      <td>1202</td>\n",
       "      <td>1203</td>\n",
       "      <td>Mathias Jensen</td>\n",
       "      <td>DEN</td>\n",
       "      <td>MF</td>\n",
       "      <td>Brentford</td>\n",
       "      <td>Premier League</td>\n",
       "      <td>27</td>\n",
       "      <td>1996</td>\n",
       "      <td>22</td>\n",
       "      <td>...</td>\n",
       "      <td>1.13</td>\n",
       "      <td>0.00</td>\n",
       "      <td>0.00</td>\n",
       "      <td>0.00</td>\n",
       "      <td>6.24</td>\n",
       "      <td>0.38</td>\n",
       "      <td>0.70</td>\n",
       "      <td>35.0</td>\n",
       "      <td>0.136364</td>\n",
       "      <td>106.92</td>\n",
       "    </tr>\n",
       "    <tr>\n",
       "      <th>422</th>\n",
       "      <td>1181</td>\n",
       "      <td>1182</td>\n",
       "      <td>Lee Jae-sung</td>\n",
       "      <td>KOR</td>\n",
       "      <td>MF</td>\n",
       "      <td>Mainz 05</td>\n",
       "      <td>Bundesliga</td>\n",
       "      <td>30</td>\n",
       "      <td>1992</td>\n",
       "      <td>20</td>\n",
       "      <td>...</td>\n",
       "      <td>0.81</td>\n",
       "      <td>0.00</td>\n",
       "      <td>0.00</td>\n",
       "      <td>0.00</td>\n",
       "      <td>6.05</td>\n",
       "      <td>2.02</td>\n",
       "      <td>2.02</td>\n",
       "      <td>50.0</td>\n",
       "      <td>0.300000</td>\n",
       "      <td>105.84</td>\n",
       "    </tr>\n",
       "    <tr>\n",
       "      <th>444</th>\n",
       "      <td>1252</td>\n",
       "      <td>1253</td>\n",
       "      <td>Daichi Kamada</td>\n",
       "      <td>JPN</td>\n",
       "      <td>MFFW</td>\n",
       "      <td>Eint Frankfurt</td>\n",
       "      <td>Bundesliga</td>\n",
       "      <td>26</td>\n",
       "      <td>1996</td>\n",
       "      <td>17</td>\n",
       "      <td>...</td>\n",
       "      <td>1.28</td>\n",
       "      <td>0.00</td>\n",
       "      <td>0.00</td>\n",
       "      <td>0.00</td>\n",
       "      <td>6.54</td>\n",
       "      <td>0.60</td>\n",
       "      <td>1.35</td>\n",
       "      <td>30.8</td>\n",
       "      <td>0.411765</td>\n",
       "      <td>105.69</td>\n",
       "    </tr>\n",
       "    <tr>\n",
       "      <th>506</th>\n",
       "      <td>1435</td>\n",
       "      <td>1436</td>\n",
       "      <td>Jesper Lindstr�m</td>\n",
       "      <td>DEN</td>\n",
       "      <td>MFFW</td>\n",
       "      <td>Eint Frankfurt</td>\n",
       "      <td>Bundesliga</td>\n",
       "      <td>22</td>\n",
       "      <td>2000</td>\n",
       "      <td>18</td>\n",
       "      <td>...</td>\n",
       "      <td>0.60</td>\n",
       "      <td>0.07</td>\n",
       "      <td>0.00</td>\n",
       "      <td>0.00</td>\n",
       "      <td>5.07</td>\n",
       "      <td>0.45</td>\n",
       "      <td>1.27</td>\n",
       "      <td>26.1</td>\n",
       "      <td>0.388889</td>\n",
       "      <td>105.15</td>\n",
       "    </tr>\n",
       "    <tr>\n",
       "      <th>315</th>\n",
       "      <td>887</td>\n",
       "      <td>888</td>\n",
       "      <td>Davide Frattesi</td>\n",
       "      <td>ITA</td>\n",
       "      <td>MF</td>\n",
       "      <td>Sassuolo</td>\n",
       "      <td>Serie A</td>\n",
       "      <td>23</td>\n",
       "      <td>1999</td>\n",
       "      <td>21</td>\n",
       "      <td>...</td>\n",
       "      <td>0.99</td>\n",
       "      <td>0.00</td>\n",
       "      <td>0.00</td>\n",
       "      <td>0.00</td>\n",
       "      <td>5.21</td>\n",
       "      <td>0.83</td>\n",
       "      <td>0.63</td>\n",
       "      <td>57.1</td>\n",
       "      <td>0.238095</td>\n",
       "      <td>103.19</td>\n",
       "    </tr>\n",
       "    <tr>\n",
       "      <th>74</th>\n",
       "      <td>198</td>\n",
       "      <td>199</td>\n",
       "      <td>Nicol� Barella</td>\n",
       "      <td>ITA</td>\n",
       "      <td>MF</td>\n",
       "      <td>Inter</td>\n",
       "      <td>Serie A</td>\n",
       "      <td>26</td>\n",
       "      <td>1997</td>\n",
       "      <td>20</td>\n",
       "      <td>...</td>\n",
       "      <td>0.73</td>\n",
       "      <td>0.00</td>\n",
       "      <td>0.00</td>\n",
       "      <td>0.00</td>\n",
       "      <td>5.92</td>\n",
       "      <td>0.78</td>\n",
       "      <td>0.39</td>\n",
       "      <td>66.7</td>\n",
       "      <td>0.250000</td>\n",
       "      <td>103.11</td>\n",
       "    </tr>\n",
       "    <tr>\n",
       "      <th>386</th>\n",
       "      <td>1066</td>\n",
       "      <td>1067</td>\n",
       "      <td>Achraf Hakimi</td>\n",
       "      <td>MAR</td>\n",
       "      <td>DFMF</td>\n",
       "      <td>Paris S-G</td>\n",
       "      <td>Ligue 1</td>\n",
       "      <td>24</td>\n",
       "      <td>1998</td>\n",
       "      <td>21</td>\n",
       "      <td>...</td>\n",
       "      <td>1.43</td>\n",
       "      <td>0.00</td>\n",
       "      <td>0.00</td>\n",
       "      <td>0.00</td>\n",
       "      <td>5.60</td>\n",
       "      <td>0.30</td>\n",
       "      <td>0.36</td>\n",
       "      <td>45.5</td>\n",
       "      <td>0.190476</td>\n",
       "      <td>102.81</td>\n",
       "    </tr>\n",
       "  </tbody>\n",
       "</table>\n",
       "<p>30 rows × 127 columns</p>\n",
       "</div>"
      ],
      "text/plain": [
       "      _c0    Rk                 Player Nation   Pos           Squad  \\\n",
       "637  1780  1781                 Neymar    BRA  MFFW       Paris S-G   \n",
       "624  1748  1749          Jamal Musiala    GER  MFFW   Bayern Munich   \n",
       "592  1650  1651           Lionel Messi    ARG  MFFW       Paris S-G   \n",
       "977  2686  2687        Martin �degaard    NOR    MF         Arsenal   \n",
       "794  2187  2188           Oihan Sancet    ESP    MF   Athletic Club   \n",
       "363  1015  1016            Pascal Gro�    GER  MFDF        Brighton   \n",
       "76    202   203          Harvey Barnes    ENG  MFFW  Leicester City   \n",
       "804  2212  2213          T�ji Savanier    FRA    MF     Montpellier   \n",
       "463  1316  1317       Teun Koopmeiners    NED    MF        Atalanta   \n",
       "941  2588  2589      James Ward-Prowse    ENG    MF     Southampton   \n",
       "234   642   643  Branco van den Boomen    NED    MF        Toulouse   \n",
       "533  1494  1495         James Maddison    ENG  MFFW  Leicester City   \n",
       "840  2325  2326         Florian Sotoca    FRA  MFFW            Lens   \n",
       "492  1396  1397            Enzo Le F�e    FRA    MF         Lorient   \n",
       "131   342   343          Julian Brandt    GER  MFFW        Dortmund   \n",
       "318   895   896       Jeremie Frimpong    NED  DFMF      Leverkusen   \n",
       "300   839   840        Bruno Fernandes    POR  MFFW  Manchester Utd   \n",
       "636  1779  1780            R�ben Neves    POR    MF          Wolves   \n",
       "341   966   967      Aleksandr Golovin    RUS  MFFW          Monaco   \n",
       "586  1634  1635           Brais M�ndez    ESP    MF   Real Sociedad   \n",
       "269   756   757           Paulo Dybala    ARG  MFFW            Roma   \n",
       "409  1147  1148        Pierre H�jbjerg    DEN    MF       Tottenham   \n",
       "690  1920  1921                  Pedri    ESP  MFFW       Barcelona   \n",
       "429  1202  1203         Mathias Jensen    DEN    MF       Brentford   \n",
       "422  1181  1182           Lee Jae-sung    KOR    MF        Mainz 05   \n",
       "444  1252  1253          Daichi Kamada    JPN  MFFW  Eint Frankfurt   \n",
       "506  1435  1436       Jesper Lindstr�m    DEN  MFFW  Eint Frankfurt   \n",
       "315   887   888        Davide Frattesi    ITA    MF        Sassuolo   \n",
       "74    198   199         Nicol� Barella    ITA    MF           Inter   \n",
       "386  1066  1067          Achraf Hakimi    MAR  DFMF       Paris S-G   \n",
       "\n",
       "               Comp  Age  Born  MP  ...  TklW  PKwon  PKcon    OG  Recov  \\\n",
       "637         Ligue 1   31  1992  19  ...  0.84   0.06   0.00  0.00   3.55   \n",
       "624      Bundesliga   19  2003  19  ...  0.99   0.00   0.00  0.00   5.56   \n",
       "592         Ligue 1   35  1987  18  ...  0.74   0.00   0.00  0.00   2.34   \n",
       "977  Premier League   24  1998  20  ...  0.70   0.00   0.00  0.00   5.19   \n",
       "794         La Liga   22  2000  21  ...  0.51   0.00   0.00  0.00   5.61   \n",
       "363  Premier League   31  1991  21  ...  0.89   0.00   0.05  0.00   3.56   \n",
       "76   Premier League   25  1997  20  ...  0.59   0.00   0.00  0.00   3.03   \n",
       "804         Ligue 1   31  1991  18  ...  1.33   0.00   0.00  0.00   7.86   \n",
       "463         Serie A   24  1998  21  ...  0.78   0.00   0.00  0.00   6.03   \n",
       "941  Premier League   28  1994  22  ...  0.86   0.00   0.00  0.05   5.73   \n",
       "234         Ligue 1   27  1995  22  ...  0.79   0.00   0.00  0.00   6.03   \n",
       "533  Premier League   26  1996  16  ...  0.78   0.00   0.00  0.00   3.12   \n",
       "840         Ligue 1   32  1990  22  ...  0.60   0.05   0.00  0.00   3.27   \n",
       "492         Ligue 1   23  2000  22  ...  2.15   0.00   0.00  0.00   7.38   \n",
       "131      Bundesliga   26  1996  20  ...  0.72   0.00   0.00  0.00   5.30   \n",
       "318      Bundesliga   22  2000  20  ...  1.01   0.00   0.00  0.00   4.08   \n",
       "300  Premier League   28  1994  21  ...  1.38   0.00   0.00  0.00   6.29   \n",
       "636  Premier League   25  1997  21  ...  1.19   0.00   0.05  0.00   7.14   \n",
       "341         Ligue 1   26  1996  22  ...  1.37   0.00   0.00  0.00   5.37   \n",
       "586         La Liga   26  1997  19  ...  1.43   0.00   0.00  0.00   4.84   \n",
       "269         Serie A   29  1993  16  ...  0.15   0.15   0.00  0.00   4.27   \n",
       "409  Premier League   27  1995  22  ...  0.73   0.00   0.00  0.00   7.61   \n",
       "690         La Liga   20  2002  20  ...  1.11   0.00   0.00  0.00   6.26   \n",
       "429  Premier League   27  1996  22  ...  1.13   0.00   0.00  0.00   6.24   \n",
       "422      Bundesliga   30  1992  20  ...  0.81   0.00   0.00  0.00   6.05   \n",
       "444      Bundesliga   26  1996  17  ...  1.28   0.00   0.00  0.00   6.54   \n",
       "506      Bundesliga   22  2000  18  ...  0.60   0.07   0.00  0.00   5.07   \n",
       "315         Serie A   23  1999  21  ...  0.99   0.00   0.00  0.00   5.21   \n",
       "74          Serie A   26  1997  20  ...  0.73   0.00   0.00  0.00   5.92   \n",
       "386         Ligue 1   24  1998  21  ...  1.43   0.00   0.00  0.00   5.60   \n",
       "\n",
       "     AerWon  AerLost  AerWon%       GPJ   score  \n",
       "637    0.06     0.12     33.3  0.631579  144.23  \n",
       "624    0.60     0.53     52.9  0.526316  132.92  \n",
       "592    0.00     0.17      0.0  0.555556  122.04  \n",
       "977    0.48     0.70     40.9  0.400000  119.90  \n",
       "794    0.83     0.64     56.5  0.380952  119.00  \n",
       "363    0.15     1.14     11.5  0.285714  116.14  \n",
       "76     1.01     1.91     34.5  0.400000  114.32  \n",
       "804    0.35     0.92     27.3  0.388889  113.65  \n",
       "463    1.03     0.59     63.6  0.285714  112.65  \n",
       "941    1.68     1.18     58.7  0.227273  112.62  \n",
       "234    0.28     0.51     35.3  0.227273  112.12  \n",
       "533    0.14     0.50     22.2  0.562500  112.03  \n",
       "840    1.41     1.41     50.0  0.272727  111.73  \n",
       "492    0.42     0.89     32.1  0.181818  111.31  \n",
       "131    0.42     1.02     29.2  0.300000  110.31  \n",
       "318    0.50     0.95     34.6  0.250000  110.31  \n",
       "300    0.48     1.52     23.8  0.238095  109.48  \n",
       "636    0.76     0.81     48.5  0.238095  108.81  \n",
       "341    0.69     1.03     40.0  0.227273  108.20  \n",
       "586    0.81     0.81     50.0  0.368421  107.87  \n",
       "269    0.15     0.69     18.2  0.500000  107.76  \n",
       "409    0.69     0.18     78.9  0.181818  107.55  \n",
       "690    0.06     0.12     33.3  0.250000  106.93  \n",
       "429    0.38     0.70     35.0  0.136364  106.92  \n",
       "422    2.02     2.02     50.0  0.300000  105.84  \n",
       "444    0.60     1.35     30.8  0.411765  105.69  \n",
       "506    0.45     1.27     26.1  0.388889  105.15  \n",
       "315    0.83     0.63     57.1  0.238095  103.19  \n",
       "74     0.78     0.39     66.7  0.250000  103.11  \n",
       "386    0.30     0.36     45.5  0.190476  102.81  \n",
       "\n",
       "[30 rows x 127 columns]"
      ]
     },
     "execution_count": 86,
     "metadata": {},
     "output_type": "execute_result"
    }
   ],
   "source": [
    "Meias.head(30)"
   ]
  },
  {
   "cell_type": "code",
   "execution_count": 87,
   "metadata": {},
   "outputs": [
    {
     "data": {
      "application/vnd.plotly.v1+json": {
       "config": {
        "plotlyServerURL": "https://plot.ly"
       },
       "data": [
        {
         "alignmentgroup": "True",
         "bingroup": "x",
         "hovertemplate": "score=%{x}<br>count=%{y}<extra></extra>",
         "legendgroup": "",
         "marker": {
          "color": "#636efa",
          "pattern": {
           "shape": ""
          }
         },
         "name": "",
         "offsetgroup": "",
         "orientation": "v",
         "showlegend": false,
         "type": "histogram",
         "x": [
          144.23,
          132.92,
          122.04000000000002,
          119.89999999999998,
          119,
          116.13999999999999,
          114.32,
          113.65,
          112.64999999999999,
          112.62,
          112.12,
          112.02999999999997,
          111.72999999999999,
          111.31000000000002,
          110.31,
          110.30999999999999,
          109.48000000000002,
          108.81,
          108.19999999999999,
          107.87,
          107.75999999999999,
          107.55,
          106.93,
          106.92,
          105.84,
          105.69000000000001,
          105.15,
          103.18999999999998,
          103.11,
          102.80999999999999,
          101.85000000000001,
          101.18999999999998,
          101.16,
          100.68,
          100.33,
          99.06000000000002,
          98.92,
          98.75999999999999,
          98.65,
          97.55999999999999,
          97.47,
          96.86,
          96.58000000000001,
          95.72000000000001,
          95.35,
          95.31,
          95.27000000000001,
          94.36,
          93.38999999999999,
          93,
          92.12,
          91.98999999999998,
          91.94000000000001,
          91.24999999999999,
          91.16000000000001,
          90.66999999999999,
          90.55999999999999,
          90.39999999999999,
          89.96,
          89.35,
          89.23000000000002,
          89.14999999999999,
          89.06,
          88.45,
          88.41000000000003,
          88.36999999999998,
          88.13,
          88.09999999999998,
          88.09,
          87.92000000000002,
          87.89999999999999,
          87.36000000000003,
          87.32000000000001,
          86.73000000000002,
          86.46000000000001,
          86.43,
          86.38000000000001,
          86.20000000000002,
          86.16999999999999,
          86.03999999999998,
          85.55999999999999,
          85.14999999999999,
          85.09000000000002,
          84.94999999999999,
          84.80999999999999,
          84.78999999999998,
          84.71000000000001,
          84.66,
          84.58999999999999,
          84.51999999999998,
          84.22,
          84.19000000000001,
          83.99999999999999,
          83.96000000000002,
          83.87999999999998,
          83.78,
          83.75,
          83.74999999999997,
          83.66999999999999,
          83.57,
          83.53999999999999,
          83.49000000000001,
          83.08999999999999,
          83.06,
          82.95999999999998,
          82.67999999999999,
          82.66000000000001,
          82.59,
          82.46000000000001,
          82.34,
          82.11,
          82.01,
          82,
          81.97,
          81.56000000000003,
          81.48,
          81.32000000000001,
          81.23999999999998,
          81.18999999999998,
          80.99999999999999,
          80.99000000000002,
          80.68,
          80.58999999999999,
          80.56,
          80.52000000000001,
          80.51999999999998,
          80.46999999999998,
          80.33999999999997,
          80.17000000000002,
          80.14,
          80.04,
          79.96999999999998,
          79.91,
          79.87,
          79.83999999999999,
          79.83,
          79.47,
          79.46,
          79.44999999999999,
          79.35,
          79.33,
          79.31,
          78.97000000000001,
          78.77000000000001,
          78.73000000000002,
          78.67,
          78.42,
          78.38,
          78.37,
          78.22,
          78.12,
          78.08,
          78.07,
          78.06000000000002,
          78.06,
          77.9,
          77.84,
          77.67,
          77.47000000000003,
          77.44,
          77.36000000000001,
          77.35999999999999,
          77.01000000000002,
          76.69000000000001,
          76.65,
          76.26000000000002,
          75.92,
          75.72999999999999,
          75.69,
          75.50000000000001,
          75.41000000000001,
          75.30000000000001,
          75.25999999999999,
          75.22999999999999,
          75.01,
          74.91,
          74.86000000000001,
          74.85,
          74.55999999999999,
          74.46000000000001,
          74.27,
          74.25000000000001,
          74.02000000000001,
          73.97,
          73.83,
          73.82000000000001,
          73.80000000000001,
          73.79,
          73.73,
          73.64,
          73.60000000000001,
          73.54,
          73.52000000000002,
          73.50000000000001,
          73.39,
          73.19999999999999,
          72.88000000000001,
          72.24999999999997,
          72.24000000000001,
          72.13999999999999,
          72.04,
          71.78999999999999,
          71.63999999999999,
          71.62,
          71.44999999999999,
          71.44000000000001,
          71.34000000000002,
          71.20000000000002,
          71.2,
          71.16000000000001,
          71.13000000000001,
          71.10000000000001,
          71.09000000000002,
          71.00999999999999,
          70.94,
          70.92999999999999,
          70.88999999999999,
          70.76999999999998,
          70.69000000000001,
          70.68,
          70.62,
          70.5,
          70.49000000000001,
          70.41,
          70.4,
          70.24,
          70.04,
          69.95,
          69.93,
          69.92,
          69.71000000000001,
          69.64,
          69.60999999999999,
          69.51,
          69.47999999999999,
          69.42000000000002,
          69.23999999999998,
          69.22999999999999,
          69.11999999999999,
          69.03999999999999,
          68.96000000000001,
          68.93,
          68.85000000000002,
          68.63000000000002,
          68.62000000000002,
          68.61,
          68.52,
          68.49000000000001,
          68.39,
          68.33000000000001,
          68.27000000000002,
          68.26,
          68.14,
          68.03999999999999,
          67.78999999999999,
          67.67999999999999,
          67.64,
          67.63000000000001,
          67.63000000000001,
          67.47999999999998,
          67.45,
          67.44,
          67.16,
          67.16,
          67.05999999999999,
          67.05000000000001,
          66.94999999999999,
          66.89999999999999,
          66.79999999999998,
          66.78,
          66.73999999999998,
          66.72,
          66.71000000000001,
          66.68999999999998,
          66.38000000000001,
          66.30999999999999,
          66.3,
          66.29,
          65.99,
          65.99,
          65.79,
          65.74000000000001,
          65.65,
          65.48,
          65.39999999999999,
          65.28,
          65.08999999999999,
          65.08,
          65.05000000000001,
          64.97,
          64.86,
          64.67,
          64.51,
          64.41999999999999,
          64.27,
          64.14999999999999,
          64.12,
          64.1,
          64.02000000000001,
          64,
          63.96,
          63.68999999999999,
          63.65999999999999,
          63.62,
          63.5,
          63.42,
          63.410000000000004,
          63.31000000000002,
          63.28999999999999,
          63.20000000000002,
          63.17000000000001,
          63.169999999999995,
          63.16000000000001,
          63.089999999999996,
          62.970000000000006,
          62.97,
          62.87,
          62.760000000000005,
          62.58999999999999,
          62.40000000000002,
          62.39999999999999,
          62.320000000000014,
          62.27000000000001,
          62.269999999999996,
          62.14,
          62.13,
          62.01000000000001,
          61.88,
          61.6,
          61.53000000000001,
          61.449999999999996,
          61.199999999999996,
          61.15000000000001,
          61.07,
          60.99999999999999,
          60.919999999999995,
          60.889999999999986,
          60.85000000000001,
          60.69,
          60.66000000000001,
          60.64,
          60.54999999999999,
          60.49,
          60.470000000000006,
          60.300000000000004,
          60.17,
          60.06000000000001,
          59.98,
          59.65999999999999,
          59.31,
          59.20000000000001,
          59.13999999999999,
          59.03999999999999,
          59.03,
          59.02999999999999,
          59.02,
          58.97,
          58.940000000000005,
          58.9,
          58.76,
          58.64000000000001,
          58.56999999999999,
          58.56,
          58.46000000000001,
          58.43,
          58.40999999999999,
          58.35,
          58.349999999999994,
          58.330000000000005,
          58.199999999999996,
          57.98999999999999,
          57.900000000000006,
          57.87,
          57.86000000000001,
          57.85999999999999,
          57.82000000000001,
          57.699999999999996,
          57.67999999999999,
          57.64,
          57.56000000000002,
          57.52999999999999,
          57.5,
          57.45,
          57.26,
          57.209999999999994,
          57.18,
          57.07,
          57.059999999999995,
          56.97,
          56.84,
          56.780000000000015,
          56.55,
          56.43000000000001,
          56.260000000000005,
          56.05000000000001,
          56.029999999999994,
          55.930000000000014,
          55.77000000000001,
          55.64,
          55.46999999999999,
          55.3,
          55.29,
          55.16000000000001,
          55.150000000000006,
          55.1,
          54.80000000000001,
          54.8,
          54.8,
          54.74999999999999,
          54.67000000000001,
          54.629999999999995,
          54.48,
          54.26,
          54.23000000000001,
          54.050000000000004,
          54,
          53.95,
          53.699999999999996,
          53.699999999999996,
          53.68999999999999,
          53.66000000000001,
          53.57000000000001,
          53.5,
          53.459999999999994,
          53.35000000000001,
          53.300000000000004,
          53.2,
          53.17999999999999,
          53.08,
          52.88,
          52.73999999999999,
          52.709999999999994,
          52.629999999999995,
          52.580000000000005,
          52.58,
          52.529999999999994,
          52.52,
          52.45,
          52.42999999999999,
          52.38,
          52.37,
          52.349999999999994,
          52.309999999999995,
          52,
          52,
          51.99000000000001,
          51.84,
          51.58,
          51.57000000000001,
          51.52999999999999,
          51.50999999999999,
          51.440000000000005,
          51.4,
          51.11999999999999,
          51.08,
          51.07000000000001,
          51.03000000000001,
          51,
          50.989999999999995,
          50.859999999999985,
          50.85,
          50.849999999999994,
          50.62,
          50.59,
          50.519999999999996,
          50.34,
          50.330000000000005,
          50.33,
          50.27,
          50.13999999999999,
          50.10000000000001,
          49.86,
          49.739999999999995,
          49.580000000000005,
          49.5,
          49.300000000000004,
          49.3,
          49,
          49,
          48.920000000000016,
          48.79999999999999,
          48.79,
          48.71,
          48.679999999999986,
          48.609999999999985,
          48.59,
          48.33,
          48.29,
          48.11000000000001,
          47.75,
          47.68,
          47.67,
          47.65,
          47.54,
          47.480000000000004,
          47.42,
          47.35,
          47.32,
          46.95,
          46.7,
          46.67,
          46.559999999999995,
          46.459999999999994,
          46.45,
          46.290000000000006,
          46.239999999999995,
          46.22,
          46.18,
          46.16999999999999,
          46.099999999999994,
          46,
          46,
          45.949999999999996,
          45.739999999999995,
          45.69,
          45.63,
          45.55,
          45.49999999999999,
          45.46,
          45.23,
          45.08,
          45.02,
          44.980000000000004,
          44.769999999999996,
          44.760000000000005,
          44.62,
          44.58,
          44.57,
          44.46,
          44.440000000000005,
          44.4,
          44.05,
          44.02000000000001,
          44,
          44,
          44,
          43.94,
          43.68000000000001,
          43.54999999999999,
          43.44,
          43.4,
          43.38999999999999,
          43.239999999999995,
          43.19999999999999,
          43.160000000000004,
          43.08,
          42.93000000000001,
          42.82,
          42.81,
          42.8,
          42.64999999999999,
          42.640000000000015,
          42.43,
          42.339999999999996,
          42,
          42,
          42,
          41.94999999999999,
          41.879999999999995,
          41.769999999999996,
          41.720000000000006,
          41.62,
          41.46,
          41.31,
          41.099999999999994,
          41.05,
          40.99999999999999,
          40.97,
          40.75,
          40.74999999999999,
          40.6,
          40.57,
          40.510000000000005,
          40.43000000000001,
          40.28,
          40.230000000000004,
          40.11,
          40.10000000000001,
          40.05,
          40,
          40,
          39.85,
          39.62999999999998,
          39.62,
          39.45,
          39.45,
          39.44,
          39.35000000000001,
          39.29,
          39.27,
          39.18,
          39.12000000000001,
          39.11999999999998,
          39,
          38.94,
          38.87,
          38.79999999999999,
          38.65,
          38.45999999999999,
          38.40000000000001,
          38.169999999999995,
          38.10000000000001,
          38,
          38,
          37.97,
          37.809999999999995,
          37.58,
          37.4,
          37.35,
          37.32999999999999,
          37.10999999999999,
          37.109999999999985,
          37.08,
          37.05999999999999,
          36.99,
          36.989999999999995,
          36.69,
          36.51,
          36.41999999999999,
          36,
          36,
          35.96999999999999,
          35.87,
          35.84,
          35.800000000000004,
          35.5,
          35.480000000000004,
          35.44,
          35.419999999999995,
          35.40999999999999,
          35.4,
          35.309999999999995,
          35.28999999999999,
          35.24000000000001,
          35,
          34.739999999999995,
          34.709999999999994,
          34.58,
          34.55999999999999,
          34.550000000000004,
          34.34,
          34.260000000000005,
          34.18,
          34.04,
          33.83,
          33.81,
          33.56,
          33.22,
          33.11,
          33.01,
          33,
          32.790000000000006,
          32.74,
          32.7,
          32.660000000000004,
          32.45,
          32.379999999999995,
          32.31999999999999,
          32.290000000000006,
          32.059999999999995,
          32,
          32,
          32,
          32,
          31.82,
          31.619999999999994,
          31.580000000000005,
          31.5,
          31.419999999999998,
          31.410000000000004,
          31.380000000000003,
          31.36999999999999,
          31.360000000000007,
          31.36,
          31.28,
          31.27,
          31.090000000000014,
          30.98,
          30.840000000000003,
          30.829999999999995,
          30.82,
          30.72,
          30.700000000000003,
          30.469999999999995,
          30.41,
          30.32,
          30.159999999999997,
          30.1,
          30.009999999999998,
          29.93,
          29.92,
          29.879999999999995,
          29.79,
          29.759999999999998,
          29.630000000000003,
          29.540000000000006,
          29.43,
          29.400000000000006,
          29.4,
          29.02999999999999,
          29.000000000000004,
          29,
          29,
          28.970000000000002,
          28.830000000000002,
          28.690000000000005,
          28.580000000000002,
          28.5,
          28.43,
          28.140000000000004,
          27.99,
          27.980000000000008,
          27.97999999999999,
          27.750000000000004,
          27.67,
          27.630000000000003,
          27.619999999999997,
          27.619999999999994,
          27.6,
          27.58,
          27.54,
          27.450000000000003,
          27.349999999999998,
          27.28,
          27.169999999999998,
          27.160000000000004,
          27.08,
          27.000000000000004,
          26.89,
          26.75,
          26.749999999999993,
          26.660000000000004,
          26.120000000000005,
          26.069999999999997,
          26.020000000000003,
          26,
          26,
          26,
          26,
          25.64,
          25.359999999999996,
          25.25,
          25.089999999999996,
          25.080000000000002,
          25.02,
          24.8,
          24.630000000000003,
          24.490000000000002,
          24.43,
          24.32,
          24.32,
          24.260000000000005,
          24.130000000000003,
          24.04,
          24,
          24,
          24,
          24,
          23.659999999999997,
          23.560000000000006,
          23.5,
          23.379999999999995,
          23.229999999999997,
          23.119999999999997,
          23.009999999999998,
          23,
          23,
          23,
          22.93,
          22.93,
          22.56,
          22.5,
          22.35,
          22.14,
          22.04,
          22,
          22,
          22,
          22,
          22,
          22,
          22,
          22,
          21.990000000000002,
          21.979999999999997,
          21.92,
          21.900000000000002,
          21.75,
          21.72,
          21.629999999999995,
          21.5,
          21.5,
          21.46,
          21.009999999999998,
          21,
          21,
          21,
          20.99,
          20.919999999999998,
          20.739999999999995,
          20.729999999999997,
          20.67,
          20.669999999999998,
          20.5,
          20.5,
          20.349999999999998,
          20.32,
          20.280000000000005,
          20.25,
          20.179999999999996,
          20,
          20,
          19.929999999999993,
          19.820000000000004,
          19.809999999999995,
          19.800000000000004,
          19.680000000000003,
          19.519999999999996,
          19.5,
          19.200000000000003,
          18.77,
          18.69,
          18.68,
          18.240000000000002,
          18.219999999999995,
          18,
          18,
          18,
          18,
          17.98,
          17.979999999999997,
          17.5,
          17.49,
          17.349999999999998,
          17.14,
          17,
          16.889999999999997,
          16.740000000000002,
          16.65,
          16.559999999999995,
          16.5,
          16.099999999999998,
          16.09,
          16,
          15.989999999999998,
          15.989999999999998,
          15.98,
          15.75,
          15.720000000000002,
          15.619999999999997,
          15.559999999999999,
          15.32,
          15.149999999999999,
          15.13,
          15.01,
          14.849999999999998,
          14.740000000000002,
          14.600000000000001,
          14.509999999999998,
          14.43,
          14.38,
          14.25,
          14.010000000000002,
          14,
          14,
          13.999999999999998,
          13.78,
          13.379999999999999,
          12.769999999999996,
          12.65,
          12.239999999999998,
          12,
          12,
          12,
          12,
          12,
          12,
          12,
          12,
          11.139999999999999,
          11.000000000000002,
          11,
          10.9,
          10.75,
          10.67,
          10.66,
          10.659999999999997,
          10.5,
          10.480000000000002,
          10.389999999999997,
          10.000000000000004,
          10,
          9.73,
          9.5,
          9.25,
          9,
          9,
          8.67,
          8.66,
          8.5,
          7.989999999999998,
          7.889999999999999,
          7.849999999999998,
          7.659999999999997,
          7,
          7,
          6.970000000000001,
          6,
          5.99,
          5.34,
          5,
          4.5,
          4,
          4,
          4,
          4,
          4,
          4,
          4,
          4,
          4,
          3.5,
          3,
          3,
          3,
          3,
          2,
          2,
          2,
          2,
          2,
          2,
          2,
          2,
          2,
          2,
          2,
          2,
          2,
          2,
          1.5,
          1.1199999999999974,
          0.4999999999999929,
          0.020000000000003126,
          -0.44000000000000483,
          -1,
          -1.3399999999999963,
          -2.5,
          -3,
          -3,
          -3,
          -3,
          -4,
          -6,
          -6,
          -6.5,
          -8,
          -8,
          -8,
          -8.989999999999995,
          -11,
          -11.73,
          -14,
          -14.009999999999998,
          -14.679999999999998,
          -16,
          -16,
          -18,
          -18,
          -18,
          -18,
          -26,
          -28,
          -28,
          -33,
          -36,
          -38,
          -68,
          -71
         ],
         "xaxis": "x",
         "yaxis": "y"
        }
       ],
       "layout": {
        "barmode": "relative",
        "legend": {
         "tracegroupgap": 0
        },
        "margin": {
         "t": 60
        },
        "template": {
         "data": {
          "bar": [
           {
            "error_x": {
             "color": "#2a3f5f"
            },
            "error_y": {
             "color": "#2a3f5f"
            },
            "marker": {
             "line": {
              "color": "#E5ECF6",
              "width": 0.5
             },
             "pattern": {
              "fillmode": "overlay",
              "size": 10,
              "solidity": 0.2
             }
            },
            "type": "bar"
           }
          ],
          "barpolar": [
           {
            "marker": {
             "line": {
              "color": "#E5ECF6",
              "width": 0.5
             },
             "pattern": {
              "fillmode": "overlay",
              "size": 10,
              "solidity": 0.2
             }
            },
            "type": "barpolar"
           }
          ],
          "carpet": [
           {
            "aaxis": {
             "endlinecolor": "#2a3f5f",
             "gridcolor": "white",
             "linecolor": "white",
             "minorgridcolor": "white",
             "startlinecolor": "#2a3f5f"
            },
            "baxis": {
             "endlinecolor": "#2a3f5f",
             "gridcolor": "white",
             "linecolor": "white",
             "minorgridcolor": "white",
             "startlinecolor": "#2a3f5f"
            },
            "type": "carpet"
           }
          ],
          "choropleth": [
           {
            "colorbar": {
             "outlinewidth": 0,
             "ticks": ""
            },
            "type": "choropleth"
           }
          ],
          "contour": [
           {
            "colorbar": {
             "outlinewidth": 0,
             "ticks": ""
            },
            "colorscale": [
             [
              0,
              "#0d0887"
             ],
             [
              0.1111111111111111,
              "#46039f"
             ],
             [
              0.2222222222222222,
              "#7201a8"
             ],
             [
              0.3333333333333333,
              "#9c179e"
             ],
             [
              0.4444444444444444,
              "#bd3786"
             ],
             [
              0.5555555555555556,
              "#d8576b"
             ],
             [
              0.6666666666666666,
              "#ed7953"
             ],
             [
              0.7777777777777778,
              "#fb9f3a"
             ],
             [
              0.8888888888888888,
              "#fdca26"
             ],
             [
              1,
              "#f0f921"
             ]
            ],
            "type": "contour"
           }
          ],
          "contourcarpet": [
           {
            "colorbar": {
             "outlinewidth": 0,
             "ticks": ""
            },
            "type": "contourcarpet"
           }
          ],
          "heatmap": [
           {
            "colorbar": {
             "outlinewidth": 0,
             "ticks": ""
            },
            "colorscale": [
             [
              0,
              "#0d0887"
             ],
             [
              0.1111111111111111,
              "#46039f"
             ],
             [
              0.2222222222222222,
              "#7201a8"
             ],
             [
              0.3333333333333333,
              "#9c179e"
             ],
             [
              0.4444444444444444,
              "#bd3786"
             ],
             [
              0.5555555555555556,
              "#d8576b"
             ],
             [
              0.6666666666666666,
              "#ed7953"
             ],
             [
              0.7777777777777778,
              "#fb9f3a"
             ],
             [
              0.8888888888888888,
              "#fdca26"
             ],
             [
              1,
              "#f0f921"
             ]
            ],
            "type": "heatmap"
           }
          ],
          "heatmapgl": [
           {
            "colorbar": {
             "outlinewidth": 0,
             "ticks": ""
            },
            "colorscale": [
             [
              0,
              "#0d0887"
             ],
             [
              0.1111111111111111,
              "#46039f"
             ],
             [
              0.2222222222222222,
              "#7201a8"
             ],
             [
              0.3333333333333333,
              "#9c179e"
             ],
             [
              0.4444444444444444,
              "#bd3786"
             ],
             [
              0.5555555555555556,
              "#d8576b"
             ],
             [
              0.6666666666666666,
              "#ed7953"
             ],
             [
              0.7777777777777778,
              "#fb9f3a"
             ],
             [
              0.8888888888888888,
              "#fdca26"
             ],
             [
              1,
              "#f0f921"
             ]
            ],
            "type": "heatmapgl"
           }
          ],
          "histogram": [
           {
            "marker": {
             "pattern": {
              "fillmode": "overlay",
              "size": 10,
              "solidity": 0.2
             }
            },
            "type": "histogram"
           }
          ],
          "histogram2d": [
           {
            "colorbar": {
             "outlinewidth": 0,
             "ticks": ""
            },
            "colorscale": [
             [
              0,
              "#0d0887"
             ],
             [
              0.1111111111111111,
              "#46039f"
             ],
             [
              0.2222222222222222,
              "#7201a8"
             ],
             [
              0.3333333333333333,
              "#9c179e"
             ],
             [
              0.4444444444444444,
              "#bd3786"
             ],
             [
              0.5555555555555556,
              "#d8576b"
             ],
             [
              0.6666666666666666,
              "#ed7953"
             ],
             [
              0.7777777777777778,
              "#fb9f3a"
             ],
             [
              0.8888888888888888,
              "#fdca26"
             ],
             [
              1,
              "#f0f921"
             ]
            ],
            "type": "histogram2d"
           }
          ],
          "histogram2dcontour": [
           {
            "colorbar": {
             "outlinewidth": 0,
             "ticks": ""
            },
            "colorscale": [
             [
              0,
              "#0d0887"
             ],
             [
              0.1111111111111111,
              "#46039f"
             ],
             [
              0.2222222222222222,
              "#7201a8"
             ],
             [
              0.3333333333333333,
              "#9c179e"
             ],
             [
              0.4444444444444444,
              "#bd3786"
             ],
             [
              0.5555555555555556,
              "#d8576b"
             ],
             [
              0.6666666666666666,
              "#ed7953"
             ],
             [
              0.7777777777777778,
              "#fb9f3a"
             ],
             [
              0.8888888888888888,
              "#fdca26"
             ],
             [
              1,
              "#f0f921"
             ]
            ],
            "type": "histogram2dcontour"
           }
          ],
          "mesh3d": [
           {
            "colorbar": {
             "outlinewidth": 0,
             "ticks": ""
            },
            "type": "mesh3d"
           }
          ],
          "parcoords": [
           {
            "line": {
             "colorbar": {
              "outlinewidth": 0,
              "ticks": ""
             }
            },
            "type": "parcoords"
           }
          ],
          "pie": [
           {
            "automargin": true,
            "type": "pie"
           }
          ],
          "scatter": [
           {
            "fillpattern": {
             "fillmode": "overlay",
             "size": 10,
             "solidity": 0.2
            },
            "type": "scatter"
           }
          ],
          "scatter3d": [
           {
            "line": {
             "colorbar": {
              "outlinewidth": 0,
              "ticks": ""
             }
            },
            "marker": {
             "colorbar": {
              "outlinewidth": 0,
              "ticks": ""
             }
            },
            "type": "scatter3d"
           }
          ],
          "scattercarpet": [
           {
            "marker": {
             "colorbar": {
              "outlinewidth": 0,
              "ticks": ""
             }
            },
            "type": "scattercarpet"
           }
          ],
          "scattergeo": [
           {
            "marker": {
             "colorbar": {
              "outlinewidth": 0,
              "ticks": ""
             }
            },
            "type": "scattergeo"
           }
          ],
          "scattergl": [
           {
            "marker": {
             "colorbar": {
              "outlinewidth": 0,
              "ticks": ""
             }
            },
            "type": "scattergl"
           }
          ],
          "scattermapbox": [
           {
            "marker": {
             "colorbar": {
              "outlinewidth": 0,
              "ticks": ""
             }
            },
            "type": "scattermapbox"
           }
          ],
          "scatterpolar": [
           {
            "marker": {
             "colorbar": {
              "outlinewidth": 0,
              "ticks": ""
             }
            },
            "type": "scatterpolar"
           }
          ],
          "scatterpolargl": [
           {
            "marker": {
             "colorbar": {
              "outlinewidth": 0,
              "ticks": ""
             }
            },
            "type": "scatterpolargl"
           }
          ],
          "scatterternary": [
           {
            "marker": {
             "colorbar": {
              "outlinewidth": 0,
              "ticks": ""
             }
            },
            "type": "scatterternary"
           }
          ],
          "surface": [
           {
            "colorbar": {
             "outlinewidth": 0,
             "ticks": ""
            },
            "colorscale": [
             [
              0,
              "#0d0887"
             ],
             [
              0.1111111111111111,
              "#46039f"
             ],
             [
              0.2222222222222222,
              "#7201a8"
             ],
             [
              0.3333333333333333,
              "#9c179e"
             ],
             [
              0.4444444444444444,
              "#bd3786"
             ],
             [
              0.5555555555555556,
              "#d8576b"
             ],
             [
              0.6666666666666666,
              "#ed7953"
             ],
             [
              0.7777777777777778,
              "#fb9f3a"
             ],
             [
              0.8888888888888888,
              "#fdca26"
             ],
             [
              1,
              "#f0f921"
             ]
            ],
            "type": "surface"
           }
          ],
          "table": [
           {
            "cells": {
             "fill": {
              "color": "#EBF0F8"
             },
             "line": {
              "color": "white"
             }
            },
            "header": {
             "fill": {
              "color": "#C8D4E3"
             },
             "line": {
              "color": "white"
             }
            },
            "type": "table"
           }
          ]
         },
         "layout": {
          "annotationdefaults": {
           "arrowcolor": "#2a3f5f",
           "arrowhead": 0,
           "arrowwidth": 1
          },
          "autotypenumbers": "strict",
          "coloraxis": {
           "colorbar": {
            "outlinewidth": 0,
            "ticks": ""
           }
          },
          "colorscale": {
           "diverging": [
            [
             0,
             "#8e0152"
            ],
            [
             0.1,
             "#c51b7d"
            ],
            [
             0.2,
             "#de77ae"
            ],
            [
             0.3,
             "#f1b6da"
            ],
            [
             0.4,
             "#fde0ef"
            ],
            [
             0.5,
             "#f7f7f7"
            ],
            [
             0.6,
             "#e6f5d0"
            ],
            [
             0.7,
             "#b8e186"
            ],
            [
             0.8,
             "#7fbc41"
            ],
            [
             0.9,
             "#4d9221"
            ],
            [
             1,
             "#276419"
            ]
           ],
           "sequential": [
            [
             0,
             "#0d0887"
            ],
            [
             0.1111111111111111,
             "#46039f"
            ],
            [
             0.2222222222222222,
             "#7201a8"
            ],
            [
             0.3333333333333333,
             "#9c179e"
            ],
            [
             0.4444444444444444,
             "#bd3786"
            ],
            [
             0.5555555555555556,
             "#d8576b"
            ],
            [
             0.6666666666666666,
             "#ed7953"
            ],
            [
             0.7777777777777778,
             "#fb9f3a"
            ],
            [
             0.8888888888888888,
             "#fdca26"
            ],
            [
             1,
             "#f0f921"
            ]
           ],
           "sequentialminus": [
            [
             0,
             "#0d0887"
            ],
            [
             0.1111111111111111,
             "#46039f"
            ],
            [
             0.2222222222222222,
             "#7201a8"
            ],
            [
             0.3333333333333333,
             "#9c179e"
            ],
            [
             0.4444444444444444,
             "#bd3786"
            ],
            [
             0.5555555555555556,
             "#d8576b"
            ],
            [
             0.6666666666666666,
             "#ed7953"
            ],
            [
             0.7777777777777778,
             "#fb9f3a"
            ],
            [
             0.8888888888888888,
             "#fdca26"
            ],
            [
             1,
             "#f0f921"
            ]
           ]
          },
          "colorway": [
           "#636efa",
           "#EF553B",
           "#00cc96",
           "#ab63fa",
           "#FFA15A",
           "#19d3f3",
           "#FF6692",
           "#B6E880",
           "#FF97FF",
           "#FECB52"
          ],
          "font": {
           "color": "#2a3f5f"
          },
          "geo": {
           "bgcolor": "white",
           "lakecolor": "white",
           "landcolor": "#E5ECF6",
           "showlakes": true,
           "showland": true,
           "subunitcolor": "white"
          },
          "hoverlabel": {
           "align": "left"
          },
          "hovermode": "closest",
          "mapbox": {
           "style": "light"
          },
          "paper_bgcolor": "white",
          "plot_bgcolor": "#E5ECF6",
          "polar": {
           "angularaxis": {
            "gridcolor": "white",
            "linecolor": "white",
            "ticks": ""
           },
           "bgcolor": "#E5ECF6",
           "radialaxis": {
            "gridcolor": "white",
            "linecolor": "white",
            "ticks": ""
           }
          },
          "scene": {
           "xaxis": {
            "backgroundcolor": "#E5ECF6",
            "gridcolor": "white",
            "gridwidth": 2,
            "linecolor": "white",
            "showbackground": true,
            "ticks": "",
            "zerolinecolor": "white"
           },
           "yaxis": {
            "backgroundcolor": "#E5ECF6",
            "gridcolor": "white",
            "gridwidth": 2,
            "linecolor": "white",
            "showbackground": true,
            "ticks": "",
            "zerolinecolor": "white"
           },
           "zaxis": {
            "backgroundcolor": "#E5ECF6",
            "gridcolor": "white",
            "gridwidth": 2,
            "linecolor": "white",
            "showbackground": true,
            "ticks": "",
            "zerolinecolor": "white"
           }
          },
          "shapedefaults": {
           "line": {
            "color": "#2a3f5f"
           }
          },
          "ternary": {
           "aaxis": {
            "gridcolor": "white",
            "linecolor": "white",
            "ticks": ""
           },
           "baxis": {
            "gridcolor": "white",
            "linecolor": "white",
            "ticks": ""
           },
           "bgcolor": "#E5ECF6",
           "caxis": {
            "gridcolor": "white",
            "linecolor": "white",
            "ticks": ""
           }
          },
          "title": {
           "x": 0.05
          },
          "xaxis": {
           "automargin": true,
           "gridcolor": "white",
           "linecolor": "white",
           "ticks": "",
           "title": {
            "standoff": 15
           },
           "zerolinecolor": "white",
           "zerolinewidth": 2
          },
          "yaxis": {
           "automargin": true,
           "gridcolor": "white",
           "linecolor": "white",
           "ticks": "",
           "title": {
            "standoff": 15
           },
           "zerolinecolor": "white",
           "zerolinewidth": 2
          }
         }
        },
        "xaxis": {
         "anchor": "y",
         "domain": [
          0,
          1
         ],
         "title": {
          "text": "score"
         }
        },
        "yaxis": {
         "anchor": "x",
         "domain": [
          0,
          1
         ],
         "title": {
          "text": "count"
         }
        }
       }
      }
     },
     "metadata": {},
     "output_type": "display_data"
    }
   ],
   "source": [
    "px.histogram(Meias, x='score').show()"
   ]
  },
  {
   "cell_type": "code",
   "execution_count": 88,
   "metadata": {},
   "outputs": [
    {
     "name": "stdout",
     "output_type": "stream",
     "text": [
      "desvio de 29.124230690702028\n",
      "media de 47.577936670071495\n"
     ]
    }
   ],
   "source": [
    "dev = Meias['score'].std()\n",
    "media = Meias['score'].mean()\n",
    "print(f'desvio de {dev}\\nmedia de {media}')"
   ]
  },
  {
   "cell_type": "code",
   "execution_count": 89,
   "metadata": {},
   "outputs": [],
   "source": [
    "bom = media + dev * 2\n",
    "normal = media  + dev\n",
    "fraco = media - dev\n",
    "muito_fraco = media - dev * 2"
   ]
  },
  {
   "cell_type": "code",
   "execution_count": 90,
   "metadata": {},
   "outputs": [],
   "source": [
    "def assign_score(score):\n",
    "    if score > bom:\n",
    "        return 'Excelente'\n",
    "    elif score > normal:\n",
    "        return 'Bom'\n",
    "    elif score > fraco:\n",
    "        return 'Mediano'\n",
    "    elif score > muito_fraco:\n",
    "        return 'Ruim'\n",
    "    else:\n",
    "        return 'Muito_ruim'"
   ]
  },
  {
   "cell_type": "code",
   "execution_count": 91,
   "metadata": {},
   "outputs": [],
   "source": [
    "Meias['Desempenho'] = Meias['score'].apply(assign_score)"
   ]
  },
  {
   "cell_type": "code",
   "execution_count": 92,
   "metadata": {},
   "outputs": [
    {
     "data": {
      "application/vnd.plotly.v1+json": {
       "config": {
        "plotlyServerURL": "https://plot.ly"
       },
       "data": [
        {
         "alignmentgroup": "True",
         "bingroup": "x",
         "hovertemplate": "Desempenho=%{x}<br>count=%{y}<extra></extra>",
         "legendgroup": "",
         "marker": {
          "color": "#636efa",
          "pattern": {
           "shape": ""
          }
         },
         "name": "",
         "offsetgroup": "",
         "orientation": "v",
         "showlegend": false,
         "type": "histogram",
         "x": [
          "Excelente",
          "Excelente",
          "Excelente",
          "Excelente",
          "Excelente",
          "Excelente",
          "Excelente",
          "Excelente",
          "Excelente",
          "Excelente",
          "Excelente",
          "Excelente",
          "Excelente",
          "Excelente",
          "Excelente",
          "Excelente",
          "Excelente",
          "Excelente",
          "Excelente",
          "Excelente",
          "Excelente",
          "Excelente",
          "Excelente",
          "Excelente",
          "Excelente",
          "Bom",
          "Bom",
          "Bom",
          "Bom",
          "Bom",
          "Bom",
          "Bom",
          "Bom",
          "Bom",
          "Bom",
          "Bom",
          "Bom",
          "Bom",
          "Bom",
          "Bom",
          "Bom",
          "Bom",
          "Bom",
          "Bom",
          "Bom",
          "Bom",
          "Bom",
          "Bom",
          "Bom",
          "Bom",
          "Bom",
          "Bom",
          "Bom",
          "Bom",
          "Bom",
          "Bom",
          "Bom",
          "Bom",
          "Bom",
          "Bom",
          "Bom",
          "Bom",
          "Bom",
          "Bom",
          "Bom",
          "Bom",
          "Bom",
          "Bom",
          "Bom",
          "Bom",
          "Bom",
          "Bom",
          "Bom",
          "Bom",
          "Bom",
          "Bom",
          "Bom",
          "Bom",
          "Bom",
          "Bom",
          "Bom",
          "Bom",
          "Bom",
          "Bom",
          "Bom",
          "Bom",
          "Bom",
          "Bom",
          "Bom",
          "Bom",
          "Bom",
          "Bom",
          "Bom",
          "Bom",
          "Bom",
          "Bom",
          "Bom",
          "Bom",
          "Bom",
          "Bom",
          "Bom",
          "Bom",
          "Bom",
          "Bom",
          "Bom",
          "Bom",
          "Bom",
          "Bom",
          "Bom",
          "Bom",
          "Bom",
          "Bom",
          "Bom",
          "Bom",
          "Bom",
          "Bom",
          "Bom",
          "Bom",
          "Bom",
          "Bom",
          "Bom",
          "Bom",
          "Bom",
          "Bom",
          "Bom",
          "Bom",
          "Bom",
          "Bom",
          "Bom",
          "Bom",
          "Bom",
          "Bom",
          "Bom",
          "Bom",
          "Bom",
          "Bom",
          "Bom",
          "Bom",
          "Bom",
          "Bom",
          "Bom",
          "Bom",
          "Bom",
          "Bom",
          "Bom",
          "Bom",
          "Bom",
          "Bom",
          "Bom",
          "Bom",
          "Bom",
          "Bom",
          "Bom",
          "Bom",
          "Bom",
          "Bom",
          "Bom",
          "Bom",
          "Bom",
          "Bom",
          "Bom",
          "Bom",
          "Bom",
          "Mediano",
          "Mediano",
          "Mediano",
          "Mediano",
          "Mediano",
          "Mediano",
          "Mediano",
          "Mediano",
          "Mediano",
          "Mediano",
          "Mediano",
          "Mediano",
          "Mediano",
          "Mediano",
          "Mediano",
          "Mediano",
          "Mediano",
          "Mediano",
          "Mediano",
          "Mediano",
          "Mediano",
          "Mediano",
          "Mediano",
          "Mediano",
          "Mediano",
          "Mediano",
          "Mediano",
          "Mediano",
          "Mediano",
          "Mediano",
          "Mediano",
          "Mediano",
          "Mediano",
          "Mediano",
          "Mediano",
          "Mediano",
          "Mediano",
          "Mediano",
          "Mediano",
          "Mediano",
          "Mediano",
          "Mediano",
          "Mediano",
          "Mediano",
          "Mediano",
          "Mediano",
          "Mediano",
          "Mediano",
          "Mediano",
          "Mediano",
          "Mediano",
          "Mediano",
          "Mediano",
          "Mediano",
          "Mediano",
          "Mediano",
          "Mediano",
          "Mediano",
          "Mediano",
          "Mediano",
          "Mediano",
          "Mediano",
          "Mediano",
          "Mediano",
          "Mediano",
          "Mediano",
          "Mediano",
          "Mediano",
          "Mediano",
          "Mediano",
          "Mediano",
          "Mediano",
          "Mediano",
          "Mediano",
          "Mediano",
          "Mediano",
          "Mediano",
          "Mediano",
          "Mediano",
          "Mediano",
          "Mediano",
          "Mediano",
          "Mediano",
          "Mediano",
          "Mediano",
          "Mediano",
          "Mediano",
          "Mediano",
          "Mediano",
          "Mediano",
          "Mediano",
          "Mediano",
          "Mediano",
          "Mediano",
          "Mediano",
          "Mediano",
          "Mediano",
          "Mediano",
          "Mediano",
          "Mediano",
          "Mediano",
          "Mediano",
          "Mediano",
          "Mediano",
          "Mediano",
          "Mediano",
          "Mediano",
          "Mediano",
          "Mediano",
          "Mediano",
          "Mediano",
          "Mediano",
          "Mediano",
          "Mediano",
          "Mediano",
          "Mediano",
          "Mediano",
          "Mediano",
          "Mediano",
          "Mediano",
          "Mediano",
          "Mediano",
          "Mediano",
          "Mediano",
          "Mediano",
          "Mediano",
          "Mediano",
          "Mediano",
          "Mediano",
          "Mediano",
          "Mediano",
          "Mediano",
          "Mediano",
          "Mediano",
          "Mediano",
          "Mediano",
          "Mediano",
          "Mediano",
          "Mediano",
          "Mediano",
          "Mediano",
          "Mediano",
          "Mediano",
          "Mediano",
          "Mediano",
          "Mediano",
          "Mediano",
          "Mediano",
          "Mediano",
          "Mediano",
          "Mediano",
          "Mediano",
          "Mediano",
          "Mediano",
          "Mediano",
          "Mediano",
          "Mediano",
          "Mediano",
          "Mediano",
          "Mediano",
          "Mediano",
          "Mediano",
          "Mediano",
          "Mediano",
          "Mediano",
          "Mediano",
          "Mediano",
          "Mediano",
          "Mediano",
          "Mediano",
          "Mediano",
          "Mediano",
          "Mediano",
          "Mediano",
          "Mediano",
          "Mediano",
          "Mediano",
          "Mediano",
          "Mediano",
          "Mediano",
          "Mediano",
          "Mediano",
          "Mediano",
          "Mediano",
          "Mediano",
          "Mediano",
          "Mediano",
          "Mediano",
          "Mediano",
          "Mediano",
          "Mediano",
          "Mediano",
          "Mediano",
          "Mediano",
          "Mediano",
          "Mediano",
          "Mediano",
          "Mediano",
          "Mediano",
          "Mediano",
          "Mediano",
          "Mediano",
          "Mediano",
          "Mediano",
          "Mediano",
          "Mediano",
          "Mediano",
          "Mediano",
          "Mediano",
          "Mediano",
          "Mediano",
          "Mediano",
          "Mediano",
          "Mediano",
          "Mediano",
          "Mediano",
          "Mediano",
          "Mediano",
          "Mediano",
          "Mediano",
          "Mediano",
          "Mediano",
          "Mediano",
          "Mediano",
          "Mediano",
          "Mediano",
          "Mediano",
          "Mediano",
          "Mediano",
          "Mediano",
          "Mediano",
          "Mediano",
          "Mediano",
          "Mediano",
          "Mediano",
          "Mediano",
          "Mediano",
          "Mediano",
          "Mediano",
          "Mediano",
          "Mediano",
          "Mediano",
          "Mediano",
          "Mediano",
          "Mediano",
          "Mediano",
          "Mediano",
          "Mediano",
          "Mediano",
          "Mediano",
          "Mediano",
          "Mediano",
          "Mediano",
          "Mediano",
          "Mediano",
          "Mediano",
          "Mediano",
          "Mediano",
          "Mediano",
          "Mediano",
          "Mediano",
          "Mediano",
          "Mediano",
          "Mediano",
          "Mediano",
          "Mediano",
          "Mediano",
          "Mediano",
          "Mediano",
          "Mediano",
          "Mediano",
          "Mediano",
          "Mediano",
          "Mediano",
          "Mediano",
          "Mediano",
          "Mediano",
          "Mediano",
          "Mediano",
          "Mediano",
          "Mediano",
          "Mediano",
          "Mediano",
          "Mediano",
          "Mediano",
          "Mediano",
          "Mediano",
          "Mediano",
          "Mediano",
          "Mediano",
          "Mediano",
          "Mediano",
          "Mediano",
          "Mediano",
          "Mediano",
          "Mediano",
          "Mediano",
          "Mediano",
          "Mediano",
          "Mediano",
          "Mediano",
          "Mediano",
          "Mediano",
          "Mediano",
          "Mediano",
          "Mediano",
          "Mediano",
          "Mediano",
          "Mediano",
          "Mediano",
          "Mediano",
          "Mediano",
          "Mediano",
          "Mediano",
          "Mediano",
          "Mediano",
          "Mediano",
          "Mediano",
          "Mediano",
          "Mediano",
          "Mediano",
          "Mediano",
          "Mediano",
          "Mediano",
          "Mediano",
          "Mediano",
          "Mediano",
          "Mediano",
          "Mediano",
          "Mediano",
          "Mediano",
          "Mediano",
          "Mediano",
          "Mediano",
          "Mediano",
          "Mediano",
          "Mediano",
          "Mediano",
          "Mediano",
          "Mediano",
          "Mediano",
          "Mediano",
          "Mediano",
          "Mediano",
          "Mediano",
          "Mediano",
          "Mediano",
          "Mediano",
          "Mediano",
          "Mediano",
          "Mediano",
          "Mediano",
          "Mediano",
          "Mediano",
          "Mediano",
          "Mediano",
          "Mediano",
          "Mediano",
          "Mediano",
          "Mediano",
          "Mediano",
          "Mediano",
          "Mediano",
          "Mediano",
          "Mediano",
          "Mediano",
          "Mediano",
          "Mediano",
          "Mediano",
          "Mediano",
          "Mediano",
          "Mediano",
          "Mediano",
          "Mediano",
          "Mediano",
          "Mediano",
          "Mediano",
          "Mediano",
          "Mediano",
          "Mediano",
          "Mediano",
          "Mediano",
          "Mediano",
          "Mediano",
          "Mediano",
          "Mediano",
          "Mediano",
          "Mediano",
          "Mediano",
          "Mediano",
          "Mediano",
          "Mediano",
          "Mediano",
          "Mediano",
          "Mediano",
          "Mediano",
          "Mediano",
          "Mediano",
          "Mediano",
          "Mediano",
          "Mediano",
          "Mediano",
          "Mediano",
          "Mediano",
          "Mediano",
          "Mediano",
          "Mediano",
          "Mediano",
          "Mediano",
          "Mediano",
          "Mediano",
          "Mediano",
          "Mediano",
          "Mediano",
          "Mediano",
          "Mediano",
          "Mediano",
          "Mediano",
          "Mediano",
          "Mediano",
          "Mediano",
          "Mediano",
          "Mediano",
          "Mediano",
          "Mediano",
          "Mediano",
          "Mediano",
          "Mediano",
          "Mediano",
          "Mediano",
          "Mediano",
          "Mediano",
          "Mediano",
          "Mediano",
          "Mediano",
          "Mediano",
          "Mediano",
          "Mediano",
          "Mediano",
          "Mediano",
          "Mediano",
          "Mediano",
          "Mediano",
          "Mediano",
          "Mediano",
          "Mediano",
          "Mediano",
          "Mediano",
          "Mediano",
          "Mediano",
          "Mediano",
          "Mediano",
          "Mediano",
          "Mediano",
          "Mediano",
          "Mediano",
          "Mediano",
          "Mediano",
          "Mediano",
          "Mediano",
          "Mediano",
          "Mediano",
          "Mediano",
          "Mediano",
          "Mediano",
          "Mediano",
          "Mediano",
          "Mediano",
          "Mediano",
          "Mediano",
          "Mediano",
          "Mediano",
          "Mediano",
          "Mediano",
          "Mediano",
          "Mediano",
          "Mediano",
          "Mediano",
          "Mediano",
          "Mediano",
          "Mediano",
          "Mediano",
          "Mediano",
          "Mediano",
          "Mediano",
          "Mediano",
          "Mediano",
          "Mediano",
          "Mediano",
          "Mediano",
          "Mediano",
          "Mediano",
          "Mediano",
          "Mediano",
          "Mediano",
          "Mediano",
          "Mediano",
          "Mediano",
          "Mediano",
          "Mediano",
          "Mediano",
          "Mediano",
          "Mediano",
          "Mediano",
          "Mediano",
          "Mediano",
          "Mediano",
          "Mediano",
          "Mediano",
          "Mediano",
          "Mediano",
          "Mediano",
          "Mediano",
          "Mediano",
          "Mediano",
          "Mediano",
          "Mediano",
          "Mediano",
          "Mediano",
          "Mediano",
          "Mediano",
          "Mediano",
          "Mediano",
          "Mediano",
          "Mediano",
          "Mediano",
          "Mediano",
          "Mediano",
          "Mediano",
          "Mediano",
          "Mediano",
          "Mediano",
          "Mediano",
          "Mediano",
          "Mediano",
          "Mediano",
          "Mediano",
          "Mediano",
          "Mediano",
          "Mediano",
          "Mediano",
          "Mediano",
          "Mediano",
          "Mediano",
          "Mediano",
          "Mediano",
          "Mediano",
          "Mediano",
          "Mediano",
          "Mediano",
          "Mediano",
          "Mediano",
          "Mediano",
          "Mediano",
          "Mediano",
          "Mediano",
          "Mediano",
          "Mediano",
          "Mediano",
          "Mediano",
          "Mediano",
          "Mediano",
          "Mediano",
          "Mediano",
          "Mediano",
          "Mediano",
          "Mediano",
          "Mediano",
          "Mediano",
          "Mediano",
          "Mediano",
          "Mediano",
          "Mediano",
          "Mediano",
          "Mediano",
          "Mediano",
          "Mediano",
          "Mediano",
          "Mediano",
          "Mediano",
          "Mediano",
          "Mediano",
          "Mediano",
          "Mediano",
          "Mediano",
          "Mediano",
          "Mediano",
          "Mediano",
          "Mediano",
          "Mediano",
          "Mediano",
          "Mediano",
          "Mediano",
          "Mediano",
          "Mediano",
          "Mediano",
          "Mediano",
          "Mediano",
          "Mediano",
          "Mediano",
          "Mediano",
          "Mediano",
          "Mediano",
          "Mediano",
          "Mediano",
          "Mediano",
          "Mediano",
          "Mediano",
          "Mediano",
          "Mediano",
          "Mediano",
          "Mediano",
          "Mediano",
          "Mediano",
          "Mediano",
          "Mediano",
          "Mediano",
          "Mediano",
          "Mediano",
          "Mediano",
          "Mediano",
          "Mediano",
          "Mediano",
          "Mediano",
          "Mediano",
          "Mediano",
          "Mediano",
          "Mediano",
          "Mediano",
          "Mediano",
          "Mediano",
          "Mediano",
          "Mediano",
          "Mediano",
          "Mediano",
          "Mediano",
          "Mediano",
          "Mediano",
          "Mediano",
          "Mediano",
          "Mediano",
          "Mediano",
          "Mediano",
          "Mediano",
          "Mediano",
          "Mediano",
          "Mediano",
          "Mediano",
          "Mediano",
          "Mediano",
          "Mediano",
          "Mediano",
          "Mediano",
          "Mediano",
          "Mediano",
          "Mediano",
          "Mediano",
          "Mediano",
          "Mediano",
          "Mediano",
          "Ruim",
          "Ruim",
          "Ruim",
          "Ruim",
          "Ruim",
          "Ruim",
          "Ruim",
          "Ruim",
          "Ruim",
          "Ruim",
          "Ruim",
          "Ruim",
          "Ruim",
          "Ruim",
          "Ruim",
          "Ruim",
          "Ruim",
          "Ruim",
          "Ruim",
          "Ruim",
          "Ruim",
          "Ruim",
          "Ruim",
          "Ruim",
          "Ruim",
          "Ruim",
          "Ruim",
          "Ruim",
          "Ruim",
          "Ruim",
          "Ruim",
          "Ruim",
          "Ruim",
          "Ruim",
          "Ruim",
          "Ruim",
          "Ruim",
          "Ruim",
          "Ruim",
          "Ruim",
          "Ruim",
          "Ruim",
          "Ruim",
          "Ruim",
          "Ruim",
          "Ruim",
          "Ruim",
          "Ruim",
          "Ruim",
          "Ruim",
          "Ruim",
          "Ruim",
          "Ruim",
          "Ruim",
          "Ruim",
          "Ruim",
          "Ruim",
          "Ruim",
          "Ruim",
          "Ruim",
          "Ruim",
          "Ruim",
          "Ruim",
          "Ruim",
          "Ruim",
          "Ruim",
          "Ruim",
          "Ruim",
          "Ruim",
          "Ruim",
          "Ruim",
          "Ruim",
          "Ruim",
          "Ruim",
          "Ruim",
          "Ruim",
          "Ruim",
          "Ruim",
          "Ruim",
          "Ruim",
          "Ruim",
          "Ruim",
          "Ruim",
          "Ruim",
          "Ruim",
          "Ruim",
          "Ruim",
          "Ruim",
          "Ruim",
          "Ruim",
          "Ruim",
          "Ruim",
          "Ruim",
          "Ruim",
          "Ruim",
          "Ruim",
          "Ruim",
          "Ruim",
          "Ruim",
          "Ruim",
          "Ruim",
          "Ruim",
          "Ruim",
          "Ruim",
          "Ruim",
          "Ruim",
          "Ruim",
          "Ruim",
          "Ruim",
          "Ruim",
          "Ruim",
          "Ruim",
          "Ruim",
          "Ruim",
          "Ruim",
          "Ruim",
          "Ruim",
          "Ruim",
          "Ruim",
          "Ruim",
          "Ruim",
          "Ruim",
          "Ruim",
          "Ruim",
          "Ruim",
          "Ruim",
          "Ruim",
          "Ruim",
          "Ruim",
          "Ruim",
          "Ruim",
          "Ruim",
          "Ruim",
          "Ruim",
          "Ruim",
          "Ruim",
          "Ruim",
          "Muito_ruim",
          "Muito_ruim",
          "Muito_ruim",
          "Muito_ruim",
          "Muito_ruim",
          "Muito_ruim",
          "Muito_ruim",
          "Muito_ruim",
          "Muito_ruim",
          "Muito_ruim",
          "Muito_ruim",
          "Muito_ruim",
          "Muito_ruim",
          "Muito_ruim",
          "Muito_ruim",
          "Muito_ruim",
          "Muito_ruim",
          "Muito_ruim",
          "Muito_ruim"
         ],
         "xaxis": "x",
         "yaxis": "y"
        }
       ],
       "layout": {
        "barmode": "relative",
        "legend": {
         "tracegroupgap": 0
        },
        "margin": {
         "t": 60
        },
        "template": {
         "data": {
          "bar": [
           {
            "error_x": {
             "color": "#2a3f5f"
            },
            "error_y": {
             "color": "#2a3f5f"
            },
            "marker": {
             "line": {
              "color": "#E5ECF6",
              "width": 0.5
             },
             "pattern": {
              "fillmode": "overlay",
              "size": 10,
              "solidity": 0.2
             }
            },
            "type": "bar"
           }
          ],
          "barpolar": [
           {
            "marker": {
             "line": {
              "color": "#E5ECF6",
              "width": 0.5
             },
             "pattern": {
              "fillmode": "overlay",
              "size": 10,
              "solidity": 0.2
             }
            },
            "type": "barpolar"
           }
          ],
          "carpet": [
           {
            "aaxis": {
             "endlinecolor": "#2a3f5f",
             "gridcolor": "white",
             "linecolor": "white",
             "minorgridcolor": "white",
             "startlinecolor": "#2a3f5f"
            },
            "baxis": {
             "endlinecolor": "#2a3f5f",
             "gridcolor": "white",
             "linecolor": "white",
             "minorgridcolor": "white",
             "startlinecolor": "#2a3f5f"
            },
            "type": "carpet"
           }
          ],
          "choropleth": [
           {
            "colorbar": {
             "outlinewidth": 0,
             "ticks": ""
            },
            "type": "choropleth"
           }
          ],
          "contour": [
           {
            "colorbar": {
             "outlinewidth": 0,
             "ticks": ""
            },
            "colorscale": [
             [
              0,
              "#0d0887"
             ],
             [
              0.1111111111111111,
              "#46039f"
             ],
             [
              0.2222222222222222,
              "#7201a8"
             ],
             [
              0.3333333333333333,
              "#9c179e"
             ],
             [
              0.4444444444444444,
              "#bd3786"
             ],
             [
              0.5555555555555556,
              "#d8576b"
             ],
             [
              0.6666666666666666,
              "#ed7953"
             ],
             [
              0.7777777777777778,
              "#fb9f3a"
             ],
             [
              0.8888888888888888,
              "#fdca26"
             ],
             [
              1,
              "#f0f921"
             ]
            ],
            "type": "contour"
           }
          ],
          "contourcarpet": [
           {
            "colorbar": {
             "outlinewidth": 0,
             "ticks": ""
            },
            "type": "contourcarpet"
           }
          ],
          "heatmap": [
           {
            "colorbar": {
             "outlinewidth": 0,
             "ticks": ""
            },
            "colorscale": [
             [
              0,
              "#0d0887"
             ],
             [
              0.1111111111111111,
              "#46039f"
             ],
             [
              0.2222222222222222,
              "#7201a8"
             ],
             [
              0.3333333333333333,
              "#9c179e"
             ],
             [
              0.4444444444444444,
              "#bd3786"
             ],
             [
              0.5555555555555556,
              "#d8576b"
             ],
             [
              0.6666666666666666,
              "#ed7953"
             ],
             [
              0.7777777777777778,
              "#fb9f3a"
             ],
             [
              0.8888888888888888,
              "#fdca26"
             ],
             [
              1,
              "#f0f921"
             ]
            ],
            "type": "heatmap"
           }
          ],
          "heatmapgl": [
           {
            "colorbar": {
             "outlinewidth": 0,
             "ticks": ""
            },
            "colorscale": [
             [
              0,
              "#0d0887"
             ],
             [
              0.1111111111111111,
              "#46039f"
             ],
             [
              0.2222222222222222,
              "#7201a8"
             ],
             [
              0.3333333333333333,
              "#9c179e"
             ],
             [
              0.4444444444444444,
              "#bd3786"
             ],
             [
              0.5555555555555556,
              "#d8576b"
             ],
             [
              0.6666666666666666,
              "#ed7953"
             ],
             [
              0.7777777777777778,
              "#fb9f3a"
             ],
             [
              0.8888888888888888,
              "#fdca26"
             ],
             [
              1,
              "#f0f921"
             ]
            ],
            "type": "heatmapgl"
           }
          ],
          "histogram": [
           {
            "marker": {
             "pattern": {
              "fillmode": "overlay",
              "size": 10,
              "solidity": 0.2
             }
            },
            "type": "histogram"
           }
          ],
          "histogram2d": [
           {
            "colorbar": {
             "outlinewidth": 0,
             "ticks": ""
            },
            "colorscale": [
             [
              0,
              "#0d0887"
             ],
             [
              0.1111111111111111,
              "#46039f"
             ],
             [
              0.2222222222222222,
              "#7201a8"
             ],
             [
              0.3333333333333333,
              "#9c179e"
             ],
             [
              0.4444444444444444,
              "#bd3786"
             ],
             [
              0.5555555555555556,
              "#d8576b"
             ],
             [
              0.6666666666666666,
              "#ed7953"
             ],
             [
              0.7777777777777778,
              "#fb9f3a"
             ],
             [
              0.8888888888888888,
              "#fdca26"
             ],
             [
              1,
              "#f0f921"
             ]
            ],
            "type": "histogram2d"
           }
          ],
          "histogram2dcontour": [
           {
            "colorbar": {
             "outlinewidth": 0,
             "ticks": ""
            },
            "colorscale": [
             [
              0,
              "#0d0887"
             ],
             [
              0.1111111111111111,
              "#46039f"
             ],
             [
              0.2222222222222222,
              "#7201a8"
             ],
             [
              0.3333333333333333,
              "#9c179e"
             ],
             [
              0.4444444444444444,
              "#bd3786"
             ],
             [
              0.5555555555555556,
              "#d8576b"
             ],
             [
              0.6666666666666666,
              "#ed7953"
             ],
             [
              0.7777777777777778,
              "#fb9f3a"
             ],
             [
              0.8888888888888888,
              "#fdca26"
             ],
             [
              1,
              "#f0f921"
             ]
            ],
            "type": "histogram2dcontour"
           }
          ],
          "mesh3d": [
           {
            "colorbar": {
             "outlinewidth": 0,
             "ticks": ""
            },
            "type": "mesh3d"
           }
          ],
          "parcoords": [
           {
            "line": {
             "colorbar": {
              "outlinewidth": 0,
              "ticks": ""
             }
            },
            "type": "parcoords"
           }
          ],
          "pie": [
           {
            "automargin": true,
            "type": "pie"
           }
          ],
          "scatter": [
           {
            "fillpattern": {
             "fillmode": "overlay",
             "size": 10,
             "solidity": 0.2
            },
            "type": "scatter"
           }
          ],
          "scatter3d": [
           {
            "line": {
             "colorbar": {
              "outlinewidth": 0,
              "ticks": ""
             }
            },
            "marker": {
             "colorbar": {
              "outlinewidth": 0,
              "ticks": ""
             }
            },
            "type": "scatter3d"
           }
          ],
          "scattercarpet": [
           {
            "marker": {
             "colorbar": {
              "outlinewidth": 0,
              "ticks": ""
             }
            },
            "type": "scattercarpet"
           }
          ],
          "scattergeo": [
           {
            "marker": {
             "colorbar": {
              "outlinewidth": 0,
              "ticks": ""
             }
            },
            "type": "scattergeo"
           }
          ],
          "scattergl": [
           {
            "marker": {
             "colorbar": {
              "outlinewidth": 0,
              "ticks": ""
             }
            },
            "type": "scattergl"
           }
          ],
          "scattermapbox": [
           {
            "marker": {
             "colorbar": {
              "outlinewidth": 0,
              "ticks": ""
             }
            },
            "type": "scattermapbox"
           }
          ],
          "scatterpolar": [
           {
            "marker": {
             "colorbar": {
              "outlinewidth": 0,
              "ticks": ""
             }
            },
            "type": "scatterpolar"
           }
          ],
          "scatterpolargl": [
           {
            "marker": {
             "colorbar": {
              "outlinewidth": 0,
              "ticks": ""
             }
            },
            "type": "scatterpolargl"
           }
          ],
          "scatterternary": [
           {
            "marker": {
             "colorbar": {
              "outlinewidth": 0,
              "ticks": ""
             }
            },
            "type": "scatterternary"
           }
          ],
          "surface": [
           {
            "colorbar": {
             "outlinewidth": 0,
             "ticks": ""
            },
            "colorscale": [
             [
              0,
              "#0d0887"
             ],
             [
              0.1111111111111111,
              "#46039f"
             ],
             [
              0.2222222222222222,
              "#7201a8"
             ],
             [
              0.3333333333333333,
              "#9c179e"
             ],
             [
              0.4444444444444444,
              "#bd3786"
             ],
             [
              0.5555555555555556,
              "#d8576b"
             ],
             [
              0.6666666666666666,
              "#ed7953"
             ],
             [
              0.7777777777777778,
              "#fb9f3a"
             ],
             [
              0.8888888888888888,
              "#fdca26"
             ],
             [
              1,
              "#f0f921"
             ]
            ],
            "type": "surface"
           }
          ],
          "table": [
           {
            "cells": {
             "fill": {
              "color": "#EBF0F8"
             },
             "line": {
              "color": "white"
             }
            },
            "header": {
             "fill": {
              "color": "#C8D4E3"
             },
             "line": {
              "color": "white"
             }
            },
            "type": "table"
           }
          ]
         },
         "layout": {
          "annotationdefaults": {
           "arrowcolor": "#2a3f5f",
           "arrowhead": 0,
           "arrowwidth": 1
          },
          "autotypenumbers": "strict",
          "coloraxis": {
           "colorbar": {
            "outlinewidth": 0,
            "ticks": ""
           }
          },
          "colorscale": {
           "diverging": [
            [
             0,
             "#8e0152"
            ],
            [
             0.1,
             "#c51b7d"
            ],
            [
             0.2,
             "#de77ae"
            ],
            [
             0.3,
             "#f1b6da"
            ],
            [
             0.4,
             "#fde0ef"
            ],
            [
             0.5,
             "#f7f7f7"
            ],
            [
             0.6,
             "#e6f5d0"
            ],
            [
             0.7,
             "#b8e186"
            ],
            [
             0.8,
             "#7fbc41"
            ],
            [
             0.9,
             "#4d9221"
            ],
            [
             1,
             "#276419"
            ]
           ],
           "sequential": [
            [
             0,
             "#0d0887"
            ],
            [
             0.1111111111111111,
             "#46039f"
            ],
            [
             0.2222222222222222,
             "#7201a8"
            ],
            [
             0.3333333333333333,
             "#9c179e"
            ],
            [
             0.4444444444444444,
             "#bd3786"
            ],
            [
             0.5555555555555556,
             "#d8576b"
            ],
            [
             0.6666666666666666,
             "#ed7953"
            ],
            [
             0.7777777777777778,
             "#fb9f3a"
            ],
            [
             0.8888888888888888,
             "#fdca26"
            ],
            [
             1,
             "#f0f921"
            ]
           ],
           "sequentialminus": [
            [
             0,
             "#0d0887"
            ],
            [
             0.1111111111111111,
             "#46039f"
            ],
            [
             0.2222222222222222,
             "#7201a8"
            ],
            [
             0.3333333333333333,
             "#9c179e"
            ],
            [
             0.4444444444444444,
             "#bd3786"
            ],
            [
             0.5555555555555556,
             "#d8576b"
            ],
            [
             0.6666666666666666,
             "#ed7953"
            ],
            [
             0.7777777777777778,
             "#fb9f3a"
            ],
            [
             0.8888888888888888,
             "#fdca26"
            ],
            [
             1,
             "#f0f921"
            ]
           ]
          },
          "colorway": [
           "#636efa",
           "#EF553B",
           "#00cc96",
           "#ab63fa",
           "#FFA15A",
           "#19d3f3",
           "#FF6692",
           "#B6E880",
           "#FF97FF",
           "#FECB52"
          ],
          "font": {
           "color": "#2a3f5f"
          },
          "geo": {
           "bgcolor": "white",
           "lakecolor": "white",
           "landcolor": "#E5ECF6",
           "showlakes": true,
           "showland": true,
           "subunitcolor": "white"
          },
          "hoverlabel": {
           "align": "left"
          },
          "hovermode": "closest",
          "mapbox": {
           "style": "light"
          },
          "paper_bgcolor": "white",
          "plot_bgcolor": "#E5ECF6",
          "polar": {
           "angularaxis": {
            "gridcolor": "white",
            "linecolor": "white",
            "ticks": ""
           },
           "bgcolor": "#E5ECF6",
           "radialaxis": {
            "gridcolor": "white",
            "linecolor": "white",
            "ticks": ""
           }
          },
          "scene": {
           "xaxis": {
            "backgroundcolor": "#E5ECF6",
            "gridcolor": "white",
            "gridwidth": 2,
            "linecolor": "white",
            "showbackground": true,
            "ticks": "",
            "zerolinecolor": "white"
           },
           "yaxis": {
            "backgroundcolor": "#E5ECF6",
            "gridcolor": "white",
            "gridwidth": 2,
            "linecolor": "white",
            "showbackground": true,
            "ticks": "",
            "zerolinecolor": "white"
           },
           "zaxis": {
            "backgroundcolor": "#E5ECF6",
            "gridcolor": "white",
            "gridwidth": 2,
            "linecolor": "white",
            "showbackground": true,
            "ticks": "",
            "zerolinecolor": "white"
           }
          },
          "shapedefaults": {
           "line": {
            "color": "#2a3f5f"
           }
          },
          "ternary": {
           "aaxis": {
            "gridcolor": "white",
            "linecolor": "white",
            "ticks": ""
           },
           "baxis": {
            "gridcolor": "white",
            "linecolor": "white",
            "ticks": ""
           },
           "bgcolor": "#E5ECF6",
           "caxis": {
            "gridcolor": "white",
            "linecolor": "white",
            "ticks": ""
           }
          },
          "title": {
           "x": 0.05
          },
          "xaxis": {
           "automargin": true,
           "gridcolor": "white",
           "linecolor": "white",
           "ticks": "",
           "title": {
            "standoff": 15
           },
           "zerolinecolor": "white",
           "zerolinewidth": 2
          },
          "yaxis": {
           "automargin": true,
           "gridcolor": "white",
           "linecolor": "white",
           "ticks": "",
           "title": {
            "standoff": 15
           },
           "zerolinecolor": "white",
           "zerolinewidth": 2
          }
         }
        },
        "xaxis": {
         "anchor": "y",
         "domain": [
          0,
          1
         ],
         "title": {
          "text": "Desempenho"
         }
        },
        "yaxis": {
         "anchor": "x",
         "domain": [
          0,
          1
         ],
         "title": {
          "text": "count"
         }
        }
       }
      }
     },
     "metadata": {},
     "output_type": "display_data"
    }
   ],
   "source": [
    "px.histogram(Meias, x = 'Desempenho').show()"
   ]
  },
  {
   "cell_type": "code",
   "execution_count": 98,
   "metadata": {},
   "outputs": [
    {
     "data": {
      "text/html": [
       "<div>\n",
       "<style scoped>\n",
       "    .dataframe tbody tr th:only-of-type {\n",
       "        vertical-align: middle;\n",
       "    }\n",
       "\n",
       "    .dataframe tbody tr th {\n",
       "        vertical-align: top;\n",
       "    }\n",
       "\n",
       "    .dataframe thead th {\n",
       "        text-align: right;\n",
       "    }\n",
       "</style>\n",
       "<table border=\"1\" class=\"dataframe\">\n",
       "  <thead>\n",
       "    <tr style=\"text-align: right;\">\n",
       "      <th></th>\n",
       "      <th>_c0</th>\n",
       "      <th>Rk</th>\n",
       "      <th>Player</th>\n",
       "      <th>Nation</th>\n",
       "      <th>Pos</th>\n",
       "      <th>Squad</th>\n",
       "      <th>Comp</th>\n",
       "      <th>Age</th>\n",
       "      <th>Born</th>\n",
       "      <th>MP</th>\n",
       "      <th>...</th>\n",
       "      <th>PKwon</th>\n",
       "      <th>PKcon</th>\n",
       "      <th>OG</th>\n",
       "      <th>Recov</th>\n",
       "      <th>AerWon</th>\n",
       "      <th>AerLost</th>\n",
       "      <th>AerWon%</th>\n",
       "      <th>GPJ</th>\n",
       "      <th>score</th>\n",
       "      <th>Desempenho</th>\n",
       "    </tr>\n",
       "  </thead>\n",
       "  <tbody>\n",
       "    <tr>\n",
       "      <th>433</th>\n",
       "      <td>1213</td>\n",
       "      <td>1214</td>\n",
       "      <td>Curtis Jones</td>\n",
       "      <td>ENG</td>\n",
       "      <td>MFFW</td>\n",
       "      <td>Liverpool</td>\n",
       "      <td>Premier League</td>\n",
       "      <td>22</td>\n",
       "      <td>2001</td>\n",
       "      <td>6</td>\n",
       "      <td>...</td>\n",
       "      <td>0.0</td>\n",
       "      <td>0.0</td>\n",
       "      <td>0.0</td>\n",
       "      <td>5.71</td>\n",
       "      <td>0.00</td>\n",
       "      <td>0.00</td>\n",
       "      <td>0.0</td>\n",
       "      <td>0.000000</td>\n",
       "      <td>18.24</td>\n",
       "      <td>Ruim</td>\n",
       "    </tr>\n",
       "    <tr>\n",
       "      <th>7</th>\n",
       "      <td>21</td>\n",
       "      <td>22</td>\n",
       "      <td>Yacine Adli</td>\n",
       "      <td>FRA</td>\n",
       "      <td>MFFW</td>\n",
       "      <td>Milan</td>\n",
       "      <td>Serie A</td>\n",
       "      <td>22</td>\n",
       "      <td>2000</td>\n",
       "      <td>4</td>\n",
       "      <td>...</td>\n",
       "      <td>0.0</td>\n",
       "      <td>0.0</td>\n",
       "      <td>0.0</td>\n",
       "      <td>3.85</td>\n",
       "      <td>0.00</td>\n",
       "      <td>2.31</td>\n",
       "      <td>0.0</td>\n",
       "      <td>0.000000</td>\n",
       "      <td>18.22</td>\n",
       "      <td>Ruim</td>\n",
       "    </tr>\n",
       "    <tr>\n",
       "      <th>126</th>\n",
       "      <td>329</td>\n",
       "      <td>330</td>\n",
       "      <td>Wassim Boullif</td>\n",
       "      <td>ESP</td>\n",
       "      <td>DFMF</td>\n",
       "      <td>Espanyol</td>\n",
       "      <td>La Liga</td>\n",
       "      <td>18</td>\n",
       "      <td>2005</td>\n",
       "      <td>4</td>\n",
       "      <td>...</td>\n",
       "      <td>0.0</td>\n",
       "      <td>0.0</td>\n",
       "      <td>0.0</td>\n",
       "      <td>2.50</td>\n",
       "      <td>0.00</td>\n",
       "      <td>2.50</td>\n",
       "      <td>0.0</td>\n",
       "      <td>0.000000</td>\n",
       "      <td>18.00</td>\n",
       "      <td>Ruim</td>\n",
       "    </tr>\n",
       "    <tr>\n",
       "      <th>764</th>\n",
       "      <td>2115</td>\n",
       "      <td>2116</td>\n",
       "      <td>Oriol Romeu</td>\n",
       "      <td>ESP</td>\n",
       "      <td>MF</td>\n",
       "      <td>Southampton</td>\n",
       "      <td>Premier League</td>\n",
       "      <td>31</td>\n",
       "      <td>1991</td>\n",
       "      <td>1</td>\n",
       "      <td>...</td>\n",
       "      <td>0.0</td>\n",
       "      <td>0.0</td>\n",
       "      <td>0.0</td>\n",
       "      <td>10.00</td>\n",
       "      <td>2.50</td>\n",
       "      <td>0.00</td>\n",
       "      <td>100.0</td>\n",
       "      <td>0.000000</td>\n",
       "      <td>18.00</td>\n",
       "      <td>Ruim</td>\n",
       "    </tr>\n",
       "    <tr>\n",
       "      <th>428</th>\n",
       "      <td>1194</td>\n",
       "      <td>1195</td>\n",
       "      <td>Tony Jantschke</td>\n",
       "      <td>GER</td>\n",
       "      <td>DFMF</td>\n",
       "      <td>M'Gladbach</td>\n",
       "      <td>Bundesliga</td>\n",
       "      <td>32</td>\n",
       "      <td>1990</td>\n",
       "      <td>5</td>\n",
       "      <td>...</td>\n",
       "      <td>0.0</td>\n",
       "      <td>0.0</td>\n",
       "      <td>0.0</td>\n",
       "      <td>1.00</td>\n",
       "      <td>4.00</td>\n",
       "      <td>1.00</td>\n",
       "      <td>80.0</td>\n",
       "      <td>0.000000</td>\n",
       "      <td>18.00</td>\n",
       "      <td>Ruim</td>\n",
       "    </tr>\n",
       "    <tr>\n",
       "      <th>388</th>\n",
       "      <td>1074</td>\n",
       "      <td>1075</td>\n",
       "      <td>Genki Haraguchi</td>\n",
       "      <td>JPN</td>\n",
       "      <td>MF</td>\n",
       "      <td>Stuttgart</td>\n",
       "      <td>Bundesliga</td>\n",
       "      <td>31</td>\n",
       "      <td>1991</td>\n",
       "      <td>2</td>\n",
       "      <td>...</td>\n",
       "      <td>0.0</td>\n",
       "      <td>0.0</td>\n",
       "      <td>0.0</td>\n",
       "      <td>5.50</td>\n",
       "      <td>1.00</td>\n",
       "      <td>0.00</td>\n",
       "      <td>100.0</td>\n",
       "      <td>0.000000</td>\n",
       "      <td>18.00</td>\n",
       "      <td>Ruim</td>\n",
       "    </tr>\n",
       "    <tr>\n",
       "      <th>29</th>\n",
       "      <td>75</td>\n",
       "      <td>76</td>\n",
       "      <td>�der �lvarez Balanta</td>\n",
       "      <td>COL</td>\n",
       "      <td>MF</td>\n",
       "      <td>Schalke 04</td>\n",
       "      <td>Bundesliga</td>\n",
       "      <td>29</td>\n",
       "      <td>1993</td>\n",
       "      <td>1</td>\n",
       "      <td>...</td>\n",
       "      <td>0.0</td>\n",
       "      <td>0.0</td>\n",
       "      <td>0.0</td>\n",
       "      <td>5.00</td>\n",
       "      <td>0.00</td>\n",
       "      <td>0.00</td>\n",
       "      <td>0.0</td>\n",
       "      <td>0.000000</td>\n",
       "      <td>17.98</td>\n",
       "      <td>Ruim</td>\n",
       "    </tr>\n",
       "    <tr>\n",
       "      <th>57</th>\n",
       "      <td>154</td>\n",
       "      <td>155</td>\n",
       "      <td>Sardar Azmoun</td>\n",
       "      <td>IRN</td>\n",
       "      <td>MFFW</td>\n",
       "      <td>Leverkusen</td>\n",
       "      <td>Bundesliga</td>\n",
       "      <td>28</td>\n",
       "      <td>1995</td>\n",
       "      <td>10</td>\n",
       "      <td>...</td>\n",
       "      <td>0.0</td>\n",
       "      <td>0.0</td>\n",
       "      <td>0.0</td>\n",
       "      <td>4.00</td>\n",
       "      <td>3.43</td>\n",
       "      <td>3.43</td>\n",
       "      <td>50.0</td>\n",
       "      <td>0.000000</td>\n",
       "      <td>17.98</td>\n",
       "      <td>Ruim</td>\n",
       "    </tr>\n",
       "    <tr>\n",
       "      <th>414</th>\n",
       "      <td>1160</td>\n",
       "      <td>1161</td>\n",
       "      <td>Rare� Ilie</td>\n",
       "      <td>ROU</td>\n",
       "      <td>MFFW</td>\n",
       "      <td>Nice</td>\n",
       "      <td>Ligue 1</td>\n",
       "      <td>19</td>\n",
       "      <td>2003</td>\n",
       "      <td>4</td>\n",
       "      <td>...</td>\n",
       "      <td>0.0</td>\n",
       "      <td>0.0</td>\n",
       "      <td>0.0</td>\n",
       "      <td>5.63</td>\n",
       "      <td>1.25</td>\n",
       "      <td>0.63</td>\n",
       "      <td>66.7</td>\n",
       "      <td>0.000000</td>\n",
       "      <td>17.50</td>\n",
       "      <td>Ruim</td>\n",
       "    </tr>\n",
       "    <tr>\n",
       "      <th>482</th>\n",
       "      <td>1362</td>\n",
       "      <td>1363</td>\n",
       "      <td>A�ssa La�douni</td>\n",
       "      <td>TUN</td>\n",
       "      <td>MF</td>\n",
       "      <td>Union Berlin</td>\n",
       "      <td>Bundesliga</td>\n",
       "      <td>26</td>\n",
       "      <td>1996</td>\n",
       "      <td>2</td>\n",
       "      <td>...</td>\n",
       "      <td>0.0</td>\n",
       "      <td>0.0</td>\n",
       "      <td>0.0</td>\n",
       "      <td>8.33</td>\n",
       "      <td>0.83</td>\n",
       "      <td>1.67</td>\n",
       "      <td>33.3</td>\n",
       "      <td>0.000000</td>\n",
       "      <td>17.49</td>\n",
       "      <td>Ruim</td>\n",
       "    </tr>\n",
       "    <tr>\n",
       "      <th>938</th>\n",
       "      <td>2577</td>\n",
       "      <td>2578</td>\n",
       "      <td>Robert Wagner</td>\n",
       "      <td>GER</td>\n",
       "      <td>MF</td>\n",
       "      <td>Freiburg</td>\n",
       "      <td>Bundesliga</td>\n",
       "      <td>19</td>\n",
       "      <td>2003</td>\n",
       "      <td>2</td>\n",
       "      <td>...</td>\n",
       "      <td>0.0</td>\n",
       "      <td>0.0</td>\n",
       "      <td>0.0</td>\n",
       "      <td>6.67</td>\n",
       "      <td>6.67</td>\n",
       "      <td>6.67</td>\n",
       "      <td>50.0</td>\n",
       "      <td>0.000000</td>\n",
       "      <td>17.35</td>\n",
       "      <td>Ruim</td>\n",
       "    </tr>\n",
       "    <tr>\n",
       "      <th>250</th>\n",
       "      <td>697</td>\n",
       "      <td>698</td>\n",
       "      <td>Sofiane Diop</td>\n",
       "      <td>FRA</td>\n",
       "      <td>MF</td>\n",
       "      <td>Monaco</td>\n",
       "      <td>Ligue 1</td>\n",
       "      <td>22</td>\n",
       "      <td>2000</td>\n",
       "      <td>1</td>\n",
       "      <td>...</td>\n",
       "      <td>0.0</td>\n",
       "      <td>0.0</td>\n",
       "      <td>0.0</td>\n",
       "      <td>5.71</td>\n",
       "      <td>2.86</td>\n",
       "      <td>0.00</td>\n",
       "      <td>100.0</td>\n",
       "      <td>1.000000</td>\n",
       "      <td>17.14</td>\n",
       "      <td>Ruim</td>\n",
       "    </tr>\n",
       "    <tr>\n",
       "      <th>547</th>\n",
       "      <td>1519</td>\n",
       "      <td>1520</td>\n",
       "      <td>Youssef Maleh</td>\n",
       "      <td>ITA</td>\n",
       "      <td>MF</td>\n",
       "      <td>Lecce</td>\n",
       "      <td>Serie A</td>\n",
       "      <td>24</td>\n",
       "      <td>1998</td>\n",
       "      <td>5</td>\n",
       "      <td>...</td>\n",
       "      <td>0.0</td>\n",
       "      <td>0.0</td>\n",
       "      <td>0.0</td>\n",
       "      <td>6.50</td>\n",
       "      <td>2.50</td>\n",
       "      <td>1.00</td>\n",
       "      <td>71.4</td>\n",
       "      <td>0.000000</td>\n",
       "      <td>17.00</td>\n",
       "      <td>Ruim</td>\n",
       "    </tr>\n",
       "    <tr>\n",
       "      <th>135</th>\n",
       "      <td>360</td>\n",
       "      <td>361</td>\n",
       "      <td>Bryan</td>\n",
       "      <td>ESP</td>\n",
       "      <td>MFFW</td>\n",
       "      <td>Tottenham</td>\n",
       "      <td>Premier League</td>\n",
       "      <td>22</td>\n",
       "      <td>2001</td>\n",
       "      <td>4</td>\n",
       "      <td>...</td>\n",
       "      <td>0.0</td>\n",
       "      <td>0.0</td>\n",
       "      <td>0.0</td>\n",
       "      <td>1.88</td>\n",
       "      <td>0.00</td>\n",
       "      <td>1.25</td>\n",
       "      <td>0.0</td>\n",
       "      <td>0.000000</td>\n",
       "      <td>16.89</td>\n",
       "      <td>Ruim</td>\n",
       "    </tr>\n",
       "    <tr>\n",
       "      <th>837</th>\n",
       "      <td>2313</td>\n",
       "      <td>2314</td>\n",
       "      <td>Carlos Soler</td>\n",
       "      <td>ESP</td>\n",
       "      <td>MF</td>\n",
       "      <td>Valencia</td>\n",
       "      <td>La Liga</td>\n",
       "      <td>26</td>\n",
       "      <td>1997</td>\n",
       "      <td>3</td>\n",
       "      <td>...</td>\n",
       "      <td>0.0</td>\n",
       "      <td>0.0</td>\n",
       "      <td>0.0</td>\n",
       "      <td>1.48</td>\n",
       "      <td>0.37</td>\n",
       "      <td>0.37</td>\n",
       "      <td>50.0</td>\n",
       "      <td>0.333333</td>\n",
       "      <td>16.74</td>\n",
       "      <td>Ruim</td>\n",
       "    </tr>\n",
       "    <tr>\n",
       "      <th>286</th>\n",
       "      <td>800</td>\n",
       "      <td>801</td>\n",
       "      <td>Salvatore Esposito</td>\n",
       "      <td>ITA</td>\n",
       "      <td>MF</td>\n",
       "      <td>Spezia</td>\n",
       "      <td>Serie A</td>\n",
       "      <td>22</td>\n",
       "      <td>2000</td>\n",
       "      <td>4</td>\n",
       "      <td>...</td>\n",
       "      <td>0.0</td>\n",
       "      <td>0.0</td>\n",
       "      <td>0.0</td>\n",
       "      <td>8.57</td>\n",
       "      <td>1.43</td>\n",
       "      <td>0.00</td>\n",
       "      <td>100.0</td>\n",
       "      <td>0.000000</td>\n",
       "      <td>16.65</td>\n",
       "      <td>Ruim</td>\n",
       "    </tr>\n",
       "    <tr>\n",
       "      <th>676</th>\n",
       "      <td>1894</td>\n",
       "      <td>1895</td>\n",
       "      <td>Lucas Paquet�</td>\n",
       "      <td>BRA</td>\n",
       "      <td>MF</td>\n",
       "      <td>Lyon</td>\n",
       "      <td>Ligue 1</td>\n",
       "      <td>25</td>\n",
       "      <td>1997</td>\n",
       "      <td>2</td>\n",
       "      <td>...</td>\n",
       "      <td>0.0</td>\n",
       "      <td>0.0</td>\n",
       "      <td>0.0</td>\n",
       "      <td>5.56</td>\n",
       "      <td>2.22</td>\n",
       "      <td>0.56</td>\n",
       "      <td>80.0</td>\n",
       "      <td>0.000000</td>\n",
       "      <td>16.56</td>\n",
       "      <td>Ruim</td>\n",
       "    </tr>\n",
       "    <tr>\n",
       "      <th>345</th>\n",
       "      <td>971</td>\n",
       "      <td>972</td>\n",
       "      <td>Dani G�mez</td>\n",
       "      <td>ESP</td>\n",
       "      <td>MFFW</td>\n",
       "      <td>Espanyol</td>\n",
       "      <td>La Liga</td>\n",
       "      <td>24</td>\n",
       "      <td>1998</td>\n",
       "      <td>7</td>\n",
       "      <td>...</td>\n",
       "      <td>0.0</td>\n",
       "      <td>0.0</td>\n",
       "      <td>0.0</td>\n",
       "      <td>6.25</td>\n",
       "      <td>1.25</td>\n",
       "      <td>0.00</td>\n",
       "      <td>100.0</td>\n",
       "      <td>0.000000</td>\n",
       "      <td>16.50</td>\n",
       "      <td>Ruim</td>\n",
       "    </tr>\n",
       "    <tr>\n",
       "      <th>899</th>\n",
       "      <td>2498</td>\n",
       "      <td>2499</td>\n",
       "      <td>Oscar Ure�a</td>\n",
       "      <td>ESP</td>\n",
       "      <td>MF</td>\n",
       "      <td>Girona</td>\n",
       "      <td>La Liga</td>\n",
       "      <td>20</td>\n",
       "      <td>2003</td>\n",
       "      <td>3</td>\n",
       "      <td>...</td>\n",
       "      <td>0.0</td>\n",
       "      <td>0.0</td>\n",
       "      <td>0.0</td>\n",
       "      <td>2.73</td>\n",
       "      <td>0.00</td>\n",
       "      <td>0.91</td>\n",
       "      <td>0.0</td>\n",
       "      <td>0.000000</td>\n",
       "      <td>16.10</td>\n",
       "      <td>Ruim</td>\n",
       "    </tr>\n",
       "    <tr>\n",
       "      <th>613</th>\n",
       "      <td>1716</td>\n",
       "      <td>1717</td>\n",
       "      <td>Manu Morlanes</td>\n",
       "      <td>ESP</td>\n",
       "      <td>MF</td>\n",
       "      <td>Villarreal</td>\n",
       "      <td>La Liga</td>\n",
       "      <td>24</td>\n",
       "      <td>1999</td>\n",
       "      <td>4</td>\n",
       "      <td>...</td>\n",
       "      <td>0.0</td>\n",
       "      <td>0.0</td>\n",
       "      <td>0.0</td>\n",
       "      <td>2.78</td>\n",
       "      <td>0.56</td>\n",
       "      <td>1.11</td>\n",
       "      <td>33.3</td>\n",
       "      <td>0.000000</td>\n",
       "      <td>16.09</td>\n",
       "      <td>Ruim</td>\n",
       "    </tr>\n",
       "    <tr>\n",
       "      <th>868</th>\n",
       "      <td>2402</td>\n",
       "      <td>2403</td>\n",
       "      <td>Niklas Tauer</td>\n",
       "      <td>GER</td>\n",
       "      <td>DFMF</td>\n",
       "      <td>Mainz 05</td>\n",
       "      <td>Bundesliga</td>\n",
       "      <td>21</td>\n",
       "      <td>2001</td>\n",
       "      <td>3</td>\n",
       "      <td>...</td>\n",
       "      <td>0.0</td>\n",
       "      <td>0.0</td>\n",
       "      <td>0.0</td>\n",
       "      <td>3.00</td>\n",
       "      <td>2.00</td>\n",
       "      <td>1.00</td>\n",
       "      <td>66.7</td>\n",
       "      <td>0.000000</td>\n",
       "      <td>16.00</td>\n",
       "      <td>Ruim</td>\n",
       "    </tr>\n",
       "    <tr>\n",
       "      <th>221</th>\n",
       "      <td>602</td>\n",
       "      <td>603</td>\n",
       "      <td>Vladim�r Darida</td>\n",
       "      <td>CZE</td>\n",
       "      <td>MF</td>\n",
       "      <td>Hertha BSC</td>\n",
       "      <td>Bundesliga</td>\n",
       "      <td>32</td>\n",
       "      <td>1990</td>\n",
       "      <td>3</td>\n",
       "      <td>...</td>\n",
       "      <td>0.0</td>\n",
       "      <td>0.0</td>\n",
       "      <td>0.0</td>\n",
       "      <td>3.33</td>\n",
       "      <td>0.00</td>\n",
       "      <td>3.33</td>\n",
       "      <td>0.0</td>\n",
       "      <td>0.000000</td>\n",
       "      <td>15.99</td>\n",
       "      <td>Ruim</td>\n",
       "    </tr>\n",
       "    <tr>\n",
       "      <th>102</th>\n",
       "      <td>265</td>\n",
       "      <td>266</td>\n",
       "      <td>Patrick Berg</td>\n",
       "      <td>NOR</td>\n",
       "      <td>MFFW</td>\n",
       "      <td>Lens</td>\n",
       "      <td>Ligue 1</td>\n",
       "      <td>25</td>\n",
       "      <td>1997</td>\n",
       "      <td>3</td>\n",
       "      <td>...</td>\n",
       "      <td>0.0</td>\n",
       "      <td>0.0</td>\n",
       "      <td>0.0</td>\n",
       "      <td>3.33</td>\n",
       "      <td>0.00</td>\n",
       "      <td>0.00</td>\n",
       "      <td>0.0</td>\n",
       "      <td>0.000000</td>\n",
       "      <td>15.99</td>\n",
       "      <td>Ruim</td>\n",
       "    </tr>\n",
       "    <tr>\n",
       "      <th>649</th>\n",
       "      <td>1828</td>\n",
       "      <td>1829</td>\n",
       "      <td>Olasagasti</td>\n",
       "      <td>ESP</td>\n",
       "      <td>MFDF</td>\n",
       "      <td>Real Sociedad</td>\n",
       "      <td>La Liga</td>\n",
       "      <td>22</td>\n",
       "      <td>2000</td>\n",
       "      <td>3</td>\n",
       "      <td>...</td>\n",
       "      <td>0.0</td>\n",
       "      <td>0.0</td>\n",
       "      <td>0.0</td>\n",
       "      <td>8.57</td>\n",
       "      <td>2.86</td>\n",
       "      <td>0.00</td>\n",
       "      <td>100.0</td>\n",
       "      <td>0.000000</td>\n",
       "      <td>15.98</td>\n",
       "      <td>Ruim</td>\n",
       "    </tr>\n",
       "    <tr>\n",
       "      <th>534</th>\n",
       "      <td>1498</td>\n",
       "      <td>1499</td>\n",
       "      <td>Soungoutou Magassa</td>\n",
       "      <td>MLI</td>\n",
       "      <td>MF</td>\n",
       "      <td>Monaco</td>\n",
       "      <td>Ligue 1</td>\n",
       "      <td>19</td>\n",
       "      <td>2003</td>\n",
       "      <td>1</td>\n",
       "      <td>...</td>\n",
       "      <td>0.0</td>\n",
       "      <td>0.0</td>\n",
       "      <td>0.0</td>\n",
       "      <td>5.00</td>\n",
       "      <td>1.25</td>\n",
       "      <td>1.25</td>\n",
       "      <td>50.0</td>\n",
       "      <td>0.000000</td>\n",
       "      <td>15.75</td>\n",
       "      <td>Ruim</td>\n",
       "    </tr>\n",
       "    <tr>\n",
       "      <th>543</th>\n",
       "      <td>1512</td>\n",
       "      <td>1513</td>\n",
       "      <td>Jean-Victor Makengo</td>\n",
       "      <td>FRA</td>\n",
       "      <td>MF</td>\n",
       "      <td>Lorient</td>\n",
       "      <td>Ligue 1</td>\n",
       "      <td>24</td>\n",
       "      <td>1998</td>\n",
       "      <td>2</td>\n",
       "      <td>...</td>\n",
       "      <td>0.0</td>\n",
       "      <td>0.0</td>\n",
       "      <td>0.0</td>\n",
       "      <td>5.00</td>\n",
       "      <td>0.00</td>\n",
       "      <td>2.14</td>\n",
       "      <td>0.0</td>\n",
       "      <td>0.000000</td>\n",
       "      <td>15.72</td>\n",
       "      <td>Ruim</td>\n",
       "    </tr>\n",
       "    <tr>\n",
       "      <th>98</th>\n",
       "      <td>254</td>\n",
       "      <td>255</td>\n",
       "      <td>Marco Benassi</td>\n",
       "      <td>ITA</td>\n",
       "      <td>MF</td>\n",
       "      <td>Cremonese</td>\n",
       "      <td>Serie A</td>\n",
       "      <td>28</td>\n",
       "      <td>1994</td>\n",
       "      <td>3</td>\n",
       "      <td>...</td>\n",
       "      <td>0.0</td>\n",
       "      <td>0.0</td>\n",
       "      <td>0.0</td>\n",
       "      <td>5.24</td>\n",
       "      <td>0.48</td>\n",
       "      <td>0.48</td>\n",
       "      <td>50.0</td>\n",
       "      <td>0.000000</td>\n",
       "      <td>15.62</td>\n",
       "      <td>Ruim</td>\n",
       "    </tr>\n",
       "    <tr>\n",
       "      <th>508</th>\n",
       "      <td>1440</td>\n",
       "      <td>1441</td>\n",
       "      <td>Marcin Listkowski</td>\n",
       "      <td>POL</td>\n",
       "      <td>MFFW</td>\n",
       "      <td>Lecce</td>\n",
       "      <td>Serie A</td>\n",
       "      <td>25</td>\n",
       "      <td>1998</td>\n",
       "      <td>5</td>\n",
       "      <td>...</td>\n",
       "      <td>0.0</td>\n",
       "      <td>0.0</td>\n",
       "      <td>0.0</td>\n",
       "      <td>5.56</td>\n",
       "      <td>1.11</td>\n",
       "      <td>0.00</td>\n",
       "      <td>100.0</td>\n",
       "      <td>0.000000</td>\n",
       "      <td>15.56</td>\n",
       "      <td>Ruim</td>\n",
       "    </tr>\n",
       "    <tr>\n",
       "      <th>855</th>\n",
       "      <td>2368</td>\n",
       "      <td>2369</td>\n",
       "      <td>Denis Su�rez</td>\n",
       "      <td>ESP</td>\n",
       "      <td>MF</td>\n",
       "      <td>Espanyol</td>\n",
       "      <td>La Liga</td>\n",
       "      <td>29</td>\n",
       "      <td>1994</td>\n",
       "      <td>1</td>\n",
       "      <td>...</td>\n",
       "      <td>0.0</td>\n",
       "      <td>0.0</td>\n",
       "      <td>0.0</td>\n",
       "      <td>3.33</td>\n",
       "      <td>3.33</td>\n",
       "      <td>3.33</td>\n",
       "      <td>50.0</td>\n",
       "      <td>0.000000</td>\n",
       "      <td>15.32</td>\n",
       "      <td>Ruim</td>\n",
       "    </tr>\n",
       "    <tr>\n",
       "      <th>852</th>\n",
       "      <td>2349</td>\n",
       "      <td>2350</td>\n",
       "      <td>Junior Stanislas</td>\n",
       "      <td>ENG</td>\n",
       "      <td>MF</td>\n",
       "      <td>Bournemouth</td>\n",
       "      <td>Premier League</td>\n",
       "      <td>33</td>\n",
       "      <td>1989</td>\n",
       "      <td>4</td>\n",
       "      <td>...</td>\n",
       "      <td>0.0</td>\n",
       "      <td>0.0</td>\n",
       "      <td>0.0</td>\n",
       "      <td>1.43</td>\n",
       "      <td>0.00</td>\n",
       "      <td>1.43</td>\n",
       "      <td>0.0</td>\n",
       "      <td>0.000000</td>\n",
       "      <td>15.15</td>\n",
       "      <td>Ruim</td>\n",
       "    </tr>\n",
       "    <tr>\n",
       "      <th>756</th>\n",
       "      <td>2092</td>\n",
       "      <td>2093</td>\n",
       "      <td>Joel Roca</td>\n",
       "      <td>ESP</td>\n",
       "      <td>MFFW</td>\n",
       "      <td>Girona</td>\n",
       "      <td>La Liga</td>\n",
       "      <td>17</td>\n",
       "      <td>2005</td>\n",
       "      <td>4</td>\n",
       "      <td>...</td>\n",
       "      <td>0.0</td>\n",
       "      <td>0.0</td>\n",
       "      <td>0.0</td>\n",
       "      <td>7.14</td>\n",
       "      <td>0.00</td>\n",
       "      <td>0.00</td>\n",
       "      <td>0.0</td>\n",
       "      <td>0.000000</td>\n",
       "      <td>15.13</td>\n",
       "      <td>Ruim</td>\n",
       "    </tr>\n",
       "    <tr>\n",
       "      <th>833</th>\n",
       "      <td>2301</td>\n",
       "      <td>2302</td>\n",
       "      <td>Emile Smith Rowe</td>\n",
       "      <td>ENG</td>\n",
       "      <td>MFFW</td>\n",
       "      <td>Arsenal</td>\n",
       "      <td>Premier League</td>\n",
       "      <td>22</td>\n",
       "      <td>2000</td>\n",
       "      <td>5</td>\n",
       "      <td>...</td>\n",
       "      <td>0.0</td>\n",
       "      <td>0.0</td>\n",
       "      <td>0.0</td>\n",
       "      <td>5.00</td>\n",
       "      <td>0.00</td>\n",
       "      <td>3.33</td>\n",
       "      <td>0.0</td>\n",
       "      <td>0.000000</td>\n",
       "      <td>15.01</td>\n",
       "      <td>Ruim</td>\n",
       "    </tr>\n",
       "    <tr>\n",
       "      <th>180</th>\n",
       "      <td>481</td>\n",
       "      <td>482</td>\n",
       "      <td>Calum Chambers</td>\n",
       "      <td>ENG</td>\n",
       "      <td>DFMF</td>\n",
       "      <td>Aston Villa</td>\n",
       "      <td>Premier League</td>\n",
       "      <td>28</td>\n",
       "      <td>1995</td>\n",
       "      <td>4</td>\n",
       "      <td>...</td>\n",
       "      <td>0.0</td>\n",
       "      <td>0.0</td>\n",
       "      <td>0.0</td>\n",
       "      <td>7.50</td>\n",
       "      <td>1.67</td>\n",
       "      <td>1.67</td>\n",
       "      <td>50.0</td>\n",
       "      <td>0.000000</td>\n",
       "      <td>14.85</td>\n",
       "      <td>Ruim</td>\n",
       "    </tr>\n",
       "    <tr>\n",
       "      <th>231</th>\n",
       "      <td>627</td>\n",
       "      <td>628</td>\n",
       "      <td>Thomas Delaney</td>\n",
       "      <td>DEN</td>\n",
       "      <td>MF</td>\n",
       "      <td>Hoffenheim</td>\n",
       "      <td>Bundesliga</td>\n",
       "      <td>31</td>\n",
       "      <td>1991</td>\n",
       "      <td>2</td>\n",
       "      <td>...</td>\n",
       "      <td>0.0</td>\n",
       "      <td>0.0</td>\n",
       "      <td>0.0</td>\n",
       "      <td>8.13</td>\n",
       "      <td>3.13</td>\n",
       "      <td>1.88</td>\n",
       "      <td>62.5</td>\n",
       "      <td>0.000000</td>\n",
       "      <td>14.74</td>\n",
       "      <td>Ruim</td>\n",
       "    </tr>\n",
       "    <tr>\n",
       "      <th>406</th>\n",
       "      <td>1138</td>\n",
       "      <td>1139</td>\n",
       "      <td>Ajdin Hrustic</td>\n",
       "      <td>AUS</td>\n",
       "      <td>MF</td>\n",
       "      <td>Hellas Verona</td>\n",
       "      <td>Serie A</td>\n",
       "      <td>26</td>\n",
       "      <td>1996</td>\n",
       "      <td>6</td>\n",
       "      <td>...</td>\n",
       "      <td>0.0</td>\n",
       "      <td>0.0</td>\n",
       "      <td>0.0</td>\n",
       "      <td>4.40</td>\n",
       "      <td>0.40</td>\n",
       "      <td>1.20</td>\n",
       "      <td>25.0</td>\n",
       "      <td>0.000000</td>\n",
       "      <td>14.60</td>\n",
       "      <td>Ruim</td>\n",
       "    </tr>\n",
       "    <tr>\n",
       "      <th>724</th>\n",
       "      <td>2015</td>\n",
       "      <td>2016</td>\n",
       "      <td>Ignacio Pussetto</td>\n",
       "      <td>ARG</td>\n",
       "      <td>MFDF</td>\n",
       "      <td>Sampdoria</td>\n",
       "      <td>Serie A</td>\n",
       "      <td>27</td>\n",
       "      <td>1995</td>\n",
       "      <td>5</td>\n",
       "      <td>...</td>\n",
       "      <td>0.0</td>\n",
       "      <td>0.0</td>\n",
       "      <td>0.0</td>\n",
       "      <td>2.35</td>\n",
       "      <td>2.35</td>\n",
       "      <td>2.94</td>\n",
       "      <td>44.4</td>\n",
       "      <td>0.000000</td>\n",
       "      <td>14.51</td>\n",
       "      <td>Ruim</td>\n",
       "    </tr>\n",
       "    <tr>\n",
       "      <th>88</th>\n",
       "      <td>231</td>\n",
       "      <td>232</td>\n",
       "      <td>Donny van de Beek</td>\n",
       "      <td>NED</td>\n",
       "      <td>MF</td>\n",
       "      <td>Manchester Utd</td>\n",
       "      <td>Premier League</td>\n",
       "      <td>25</td>\n",
       "      <td>1997</td>\n",
       "      <td>7</td>\n",
       "      <td>...</td>\n",
       "      <td>0.0</td>\n",
       "      <td>0.0</td>\n",
       "      <td>0.0</td>\n",
       "      <td>1.58</td>\n",
       "      <td>1.58</td>\n",
       "      <td>1.58</td>\n",
       "      <td>50.0</td>\n",
       "      <td>0.000000</td>\n",
       "      <td>14.43</td>\n",
       "      <td>Ruim</td>\n",
       "    </tr>\n",
       "    <tr>\n",
       "      <th>929</th>\n",
       "      <td>2556</td>\n",
       "      <td>2557</td>\n",
       "      <td>Gonzalo Villar</td>\n",
       "      <td>ESP</td>\n",
       "      <td>MF</td>\n",
       "      <td>Getafe</td>\n",
       "      <td>La Liga</td>\n",
       "      <td>24</td>\n",
       "      <td>1998</td>\n",
       "      <td>4</td>\n",
       "      <td>...</td>\n",
       "      <td>0.0</td>\n",
       "      <td>0.0</td>\n",
       "      <td>0.0</td>\n",
       "      <td>10.00</td>\n",
       "      <td>0.00</td>\n",
       "      <td>1.82</td>\n",
       "      <td>0.0</td>\n",
       "      <td>0.000000</td>\n",
       "      <td>14.38</td>\n",
       "      <td>Ruim</td>\n",
       "    </tr>\n",
       "    <tr>\n",
       "      <th>464</th>\n",
       "      <td>1319</td>\n",
       "      <td>1320</td>\n",
       "      <td>Filip Kosti?</td>\n",
       "      <td>SRB</td>\n",
       "      <td>DFMF</td>\n",
       "      <td>Eint Frankfurt</td>\n",
       "      <td>Bundesliga</td>\n",
       "      <td>30</td>\n",
       "      <td>1992</td>\n",
       "      <td>1</td>\n",
       "      <td>...</td>\n",
       "      <td>0.0</td>\n",
       "      <td>0.0</td>\n",
       "      <td>0.0</td>\n",
       "      <td>3.75</td>\n",
       "      <td>0.00</td>\n",
       "      <td>0.00</td>\n",
       "      <td>0.0</td>\n",
       "      <td>0.000000</td>\n",
       "      <td>14.25</td>\n",
       "      <td>Ruim</td>\n",
       "    </tr>\n",
       "    <tr>\n",
       "      <th>452</th>\n",
       "      <td>1279</td>\n",
       "      <td>1280</td>\n",
       "      <td>Naby Ke�ta</td>\n",
       "      <td>GUI</td>\n",
       "      <td>MF</td>\n",
       "      <td>Liverpool</td>\n",
       "      <td>Premier League</td>\n",
       "      <td>28</td>\n",
       "      <td>1995</td>\n",
       "      <td>6</td>\n",
       "      <td>...</td>\n",
       "      <td>0.0</td>\n",
       "      <td>0.0</td>\n",
       "      <td>0.0</td>\n",
       "      <td>8.89</td>\n",
       "      <td>0.74</td>\n",
       "      <td>1.85</td>\n",
       "      <td>28.6</td>\n",
       "      <td>0.000000</td>\n",
       "      <td>14.01</td>\n",
       "      <td>Ruim</td>\n",
       "    </tr>\n",
       "    <tr>\n",
       "      <th>663</th>\n",
       "      <td>1864</td>\n",
       "      <td>1865</td>\n",
       "      <td>Zin�dine Ould Khaled</td>\n",
       "      <td>FRA</td>\n",
       "      <td>MFFW</td>\n",
       "      <td>Angers</td>\n",
       "      <td>Ligue 1</td>\n",
       "      <td>23</td>\n",
       "      <td>2000</td>\n",
       "      <td>2</td>\n",
       "      <td>...</td>\n",
       "      <td>0.0</td>\n",
       "      <td>0.0</td>\n",
       "      <td>0.0</td>\n",
       "      <td>12.00</td>\n",
       "      <td>2.00</td>\n",
       "      <td>4.00</td>\n",
       "      <td>33.3</td>\n",
       "      <td>0.000000</td>\n",
       "      <td>14.00</td>\n",
       "      <td>Ruim</td>\n",
       "    </tr>\n",
       "    <tr>\n",
       "      <th>276</th>\n",
       "      <td>776</td>\n",
       "      <td>777</td>\n",
       "      <td>Alberth Elis</td>\n",
       "      <td>HON</td>\n",
       "      <td>MFFW</td>\n",
       "      <td>Brest</td>\n",
       "      <td>Ligue 1</td>\n",
       "      <td>27</td>\n",
       "      <td>1996</td>\n",
       "      <td>2</td>\n",
       "      <td>...</td>\n",
       "      <td>0.0</td>\n",
       "      <td>0.0</td>\n",
       "      <td>0.0</td>\n",
       "      <td>5.00</td>\n",
       "      <td>1.25</td>\n",
       "      <td>5.00</td>\n",
       "      <td>20.0</td>\n",
       "      <td>0.000000</td>\n",
       "      <td>14.00</td>\n",
       "      <td>Ruim</td>\n",
       "    </tr>\n",
       "    <tr>\n",
       "      <th>17</th>\n",
       "      <td>50</td>\n",
       "      <td>51</td>\n",
       "      <td>Tom�s Alarc�n</td>\n",
       "      <td>CHI</td>\n",
       "      <td>MF</td>\n",
       "      <td>C�diz</td>\n",
       "      <td>La Liga</td>\n",
       "      <td>24</td>\n",
       "      <td>1999</td>\n",
       "      <td>4</td>\n",
       "      <td>...</td>\n",
       "      <td>0.0</td>\n",
       "      <td>0.0</td>\n",
       "      <td>0.0</td>\n",
       "      <td>5.60</td>\n",
       "      <td>1.20</td>\n",
       "      <td>0.40</td>\n",
       "      <td>75.0</td>\n",
       "      <td>0.000000</td>\n",
       "      <td>14.00</td>\n",
       "      <td>Ruim</td>\n",
       "    </tr>\n",
       "    <tr>\n",
       "      <th>530</th>\n",
       "      <td>1490</td>\n",
       "      <td>1491</td>\n",
       "      <td>Awer Mabil</td>\n",
       "      <td>AUS</td>\n",
       "      <td>MFFW</td>\n",
       "      <td>C�diz</td>\n",
       "      <td>La Liga</td>\n",
       "      <td>27</td>\n",
       "      <td>1995</td>\n",
       "      <td>5</td>\n",
       "      <td>...</td>\n",
       "      <td>0.0</td>\n",
       "      <td>0.0</td>\n",
       "      <td>0.0</td>\n",
       "      <td>3.33</td>\n",
       "      <td>0.56</td>\n",
       "      <td>2.78</td>\n",
       "      <td>16.7</td>\n",
       "      <td>0.000000</td>\n",
       "      <td>13.78</td>\n",
       "      <td>Ruim</td>\n",
       "    </tr>\n",
       "    <tr>\n",
       "      <th>371</th>\n",
       "      <td>1032</td>\n",
       "      <td>1033</td>\n",
       "      <td>Pape Gueye</td>\n",
       "      <td>SEN</td>\n",
       "      <td>MF</td>\n",
       "      <td>Sevilla</td>\n",
       "      <td>La Liga</td>\n",
       "      <td>24</td>\n",
       "      <td>1999</td>\n",
       "      <td>2</td>\n",
       "      <td>...</td>\n",
       "      <td>0.0</td>\n",
       "      <td>0.0</td>\n",
       "      <td>0.0</td>\n",
       "      <td>2.11</td>\n",
       "      <td>1.05</td>\n",
       "      <td>1.05</td>\n",
       "      <td>50.0</td>\n",
       "      <td>0.000000</td>\n",
       "      <td>13.38</td>\n",
       "      <td>Ruim</td>\n",
       "    </tr>\n",
       "    <tr>\n",
       "      <th>803</th>\n",
       "      <td>2208</td>\n",
       "      <td>2209</td>\n",
       "      <td>Jeremy Sarmiento</td>\n",
       "      <td>ECU</td>\n",
       "      <td>MF</td>\n",
       "      <td>Brighton</td>\n",
       "      <td>Premier League</td>\n",
       "      <td>20</td>\n",
       "      <td>2002</td>\n",
       "      <td>7</td>\n",
       "      <td>...</td>\n",
       "      <td>0.0</td>\n",
       "      <td>0.0</td>\n",
       "      <td>0.0</td>\n",
       "      <td>1.67</td>\n",
       "      <td>0.00</td>\n",
       "      <td>2.22</td>\n",
       "      <td>0.0</td>\n",
       "      <td>0.000000</td>\n",
       "      <td>12.77</td>\n",
       "      <td>Ruim</td>\n",
       "    </tr>\n",
       "    <tr>\n",
       "      <th>255</th>\n",
       "      <td>723</td>\n",
       "      <td>724</td>\n",
       "      <td>Kyliane Dong</td>\n",
       "      <td>FRA</td>\n",
       "      <td>DFMF</td>\n",
       "      <td>Troyes</td>\n",
       "      <td>Ligue 1</td>\n",
       "      <td>18</td>\n",
       "      <td>2004</td>\n",
       "      <td>3</td>\n",
       "      <td>...</td>\n",
       "      <td>0.0</td>\n",
       "      <td>0.0</td>\n",
       "      <td>0.0</td>\n",
       "      <td>5.00</td>\n",
       "      <td>0.00</td>\n",
       "      <td>1.67</td>\n",
       "      <td>0.0</td>\n",
       "      <td>0.000000</td>\n",
       "      <td>12.65</td>\n",
       "      <td>Ruim</td>\n",
       "    </tr>\n",
       "    <tr>\n",
       "      <th>805</th>\n",
       "      <td>2218</td>\n",
       "      <td>2219</td>\n",
       "      <td>Gustavo Scarpa</td>\n",
       "      <td>BRA</td>\n",
       "      <td>MFFW</td>\n",
       "      <td>Nott'ham Forest</td>\n",
       "      <td>Premier League</td>\n",
       "      <td>29</td>\n",
       "      <td>1994</td>\n",
       "      <td>4</td>\n",
       "      <td>...</td>\n",
       "      <td>0.0</td>\n",
       "      <td>0.0</td>\n",
       "      <td>0.0</td>\n",
       "      <td>5.56</td>\n",
       "      <td>0.56</td>\n",
       "      <td>1.11</td>\n",
       "      <td>33.3</td>\n",
       "      <td>0.000000</td>\n",
       "      <td>12.24</td>\n",
       "      <td>Ruim</td>\n",
       "    </tr>\n",
       "    <tr>\n",
       "      <th>741</th>\n",
       "      <td>2060</td>\n",
       "      <td>2061</td>\n",
       "      <td>Jeff Reine-Ad�la�de</td>\n",
       "      <td>FRA</td>\n",
       "      <td>MF</td>\n",
       "      <td>Troyes</td>\n",
       "      <td>Ligue 1</td>\n",
       "      <td>25</td>\n",
       "      <td>1998</td>\n",
       "      <td>1</td>\n",
       "      <td>...</td>\n",
       "      <td>0.0</td>\n",
       "      <td>0.0</td>\n",
       "      <td>0.0</td>\n",
       "      <td>10.00</td>\n",
       "      <td>3.33</td>\n",
       "      <td>0.00</td>\n",
       "      <td>100.0</td>\n",
       "      <td>0.000000</td>\n",
       "      <td>12.00</td>\n",
       "      <td>Ruim</td>\n",
       "    </tr>\n",
       "    <tr>\n",
       "      <th>707</th>\n",
       "      <td>1964</td>\n",
       "      <td>1965</td>\n",
       "      <td>Maximilian Philipp</td>\n",
       "      <td>GER</td>\n",
       "      <td>MF</td>\n",
       "      <td>Werder Bremen</td>\n",
       "      <td>Bundesliga</td>\n",
       "      <td>28</td>\n",
       "      <td>1994</td>\n",
       "      <td>1</td>\n",
       "      <td>...</td>\n",
       "      <td>0.0</td>\n",
       "      <td>0.0</td>\n",
       "      <td>0.0</td>\n",
       "      <td>0.00</td>\n",
       "      <td>0.00</td>\n",
       "      <td>0.00</td>\n",
       "      <td>0.0</td>\n",
       "      <td>0.000000</td>\n",
       "      <td>12.00</td>\n",
       "      <td>Ruim</td>\n",
       "    </tr>\n",
       "  </tbody>\n",
       "</table>\n",
       "<p>50 rows × 128 columns</p>\n",
       "</div>"
      ],
      "text/plain": [
       "      _c0    Rk                Player Nation   Pos            Squad  \\\n",
       "433  1213  1214          Curtis Jones    ENG  MFFW        Liverpool   \n",
       "7      21    22           Yacine Adli    FRA  MFFW            Milan   \n",
       "126   329   330        Wassim Boullif    ESP  DFMF         Espanyol   \n",
       "764  2115  2116           Oriol Romeu    ESP    MF      Southampton   \n",
       "428  1194  1195        Tony Jantschke    GER  DFMF       M'Gladbach   \n",
       "388  1074  1075       Genki Haraguchi    JPN    MF        Stuttgart   \n",
       "29     75    76  �der �lvarez Balanta    COL    MF       Schalke 04   \n",
       "57    154   155         Sardar Azmoun    IRN  MFFW       Leverkusen   \n",
       "414  1160  1161            Rare� Ilie    ROU  MFFW             Nice   \n",
       "482  1362  1363        A�ssa La�douni    TUN    MF     Union Berlin   \n",
       "938  2577  2578         Robert Wagner    GER    MF         Freiburg   \n",
       "250   697   698          Sofiane Diop    FRA    MF           Monaco   \n",
       "547  1519  1520         Youssef Maleh    ITA    MF            Lecce   \n",
       "135   360   361                 Bryan    ESP  MFFW        Tottenham   \n",
       "837  2313  2314          Carlos Soler    ESP    MF         Valencia   \n",
       "286   800   801    Salvatore Esposito    ITA    MF           Spezia   \n",
       "676  1894  1895         Lucas Paquet�    BRA    MF             Lyon   \n",
       "345   971   972            Dani G�mez    ESP  MFFW         Espanyol   \n",
       "899  2498  2499           Oscar Ure�a    ESP    MF           Girona   \n",
       "613  1716  1717         Manu Morlanes    ESP    MF       Villarreal   \n",
       "868  2402  2403          Niklas Tauer    GER  DFMF         Mainz 05   \n",
       "221   602   603       Vladim�r Darida    CZE    MF       Hertha BSC   \n",
       "102   265   266          Patrick Berg    NOR  MFFW             Lens   \n",
       "649  1828  1829            Olasagasti    ESP  MFDF    Real Sociedad   \n",
       "534  1498  1499    Soungoutou Magassa    MLI    MF           Monaco   \n",
       "543  1512  1513   Jean-Victor Makengo    FRA    MF          Lorient   \n",
       "98    254   255         Marco Benassi    ITA    MF        Cremonese   \n",
       "508  1440  1441     Marcin Listkowski    POL  MFFW            Lecce   \n",
       "855  2368  2369          Denis Su�rez    ESP    MF         Espanyol   \n",
       "852  2349  2350      Junior Stanislas    ENG    MF      Bournemouth   \n",
       "756  2092  2093             Joel Roca    ESP  MFFW           Girona   \n",
       "833  2301  2302      Emile Smith Rowe    ENG  MFFW          Arsenal   \n",
       "180   481   482        Calum Chambers    ENG  DFMF      Aston Villa   \n",
       "231   627   628        Thomas Delaney    DEN    MF       Hoffenheim   \n",
       "406  1138  1139         Ajdin Hrustic    AUS    MF    Hellas Verona   \n",
       "724  2015  2016      Ignacio Pussetto    ARG  MFDF        Sampdoria   \n",
       "88    231   232     Donny van de Beek    NED    MF   Manchester Utd   \n",
       "929  2556  2557        Gonzalo Villar    ESP    MF           Getafe   \n",
       "464  1319  1320          Filip Kosti?    SRB  DFMF   Eint Frankfurt   \n",
       "452  1279  1280            Naby Ke�ta    GUI    MF        Liverpool   \n",
       "663  1864  1865  Zin�dine Ould Khaled    FRA  MFFW           Angers   \n",
       "276   776   777          Alberth Elis    HON  MFFW            Brest   \n",
       "17     50    51         Tom�s Alarc�n    CHI    MF            C�diz   \n",
       "530  1490  1491            Awer Mabil    AUS  MFFW            C�diz   \n",
       "371  1032  1033            Pape Gueye    SEN    MF          Sevilla   \n",
       "803  2208  2209      Jeremy Sarmiento    ECU    MF         Brighton   \n",
       "255   723   724          Kyliane Dong    FRA  DFMF           Troyes   \n",
       "805  2218  2219        Gustavo Scarpa    BRA  MFFW  Nott'ham Forest   \n",
       "741  2060  2061   Jeff Reine-Ad�la�de    FRA    MF           Troyes   \n",
       "707  1964  1965    Maximilian Philipp    GER    MF    Werder Bremen   \n",
       "\n",
       "               Comp  Age  Born  MP  ...  PKwon  PKcon   OG  Recov  AerWon  \\\n",
       "433  Premier League   22  2001   6  ...    0.0    0.0  0.0   5.71    0.00   \n",
       "7           Serie A   22  2000   4  ...    0.0    0.0  0.0   3.85    0.00   \n",
       "126         La Liga   18  2005   4  ...    0.0    0.0  0.0   2.50    0.00   \n",
       "764  Premier League   31  1991   1  ...    0.0    0.0  0.0  10.00    2.50   \n",
       "428      Bundesliga   32  1990   5  ...    0.0    0.0  0.0   1.00    4.00   \n",
       "388      Bundesliga   31  1991   2  ...    0.0    0.0  0.0   5.50    1.00   \n",
       "29       Bundesliga   29  1993   1  ...    0.0    0.0  0.0   5.00    0.00   \n",
       "57       Bundesliga   28  1995  10  ...    0.0    0.0  0.0   4.00    3.43   \n",
       "414         Ligue 1   19  2003   4  ...    0.0    0.0  0.0   5.63    1.25   \n",
       "482      Bundesliga   26  1996   2  ...    0.0    0.0  0.0   8.33    0.83   \n",
       "938      Bundesliga   19  2003   2  ...    0.0    0.0  0.0   6.67    6.67   \n",
       "250         Ligue 1   22  2000   1  ...    0.0    0.0  0.0   5.71    2.86   \n",
       "547         Serie A   24  1998   5  ...    0.0    0.0  0.0   6.50    2.50   \n",
       "135  Premier League   22  2001   4  ...    0.0    0.0  0.0   1.88    0.00   \n",
       "837         La Liga   26  1997   3  ...    0.0    0.0  0.0   1.48    0.37   \n",
       "286         Serie A   22  2000   4  ...    0.0    0.0  0.0   8.57    1.43   \n",
       "676         Ligue 1   25  1997   2  ...    0.0    0.0  0.0   5.56    2.22   \n",
       "345         La Liga   24  1998   7  ...    0.0    0.0  0.0   6.25    1.25   \n",
       "899         La Liga   20  2003   3  ...    0.0    0.0  0.0   2.73    0.00   \n",
       "613         La Liga   24  1999   4  ...    0.0    0.0  0.0   2.78    0.56   \n",
       "868      Bundesliga   21  2001   3  ...    0.0    0.0  0.0   3.00    2.00   \n",
       "221      Bundesliga   32  1990   3  ...    0.0    0.0  0.0   3.33    0.00   \n",
       "102         Ligue 1   25  1997   3  ...    0.0    0.0  0.0   3.33    0.00   \n",
       "649         La Liga   22  2000   3  ...    0.0    0.0  0.0   8.57    2.86   \n",
       "534         Ligue 1   19  2003   1  ...    0.0    0.0  0.0   5.00    1.25   \n",
       "543         Ligue 1   24  1998   2  ...    0.0    0.0  0.0   5.00    0.00   \n",
       "98          Serie A   28  1994   3  ...    0.0    0.0  0.0   5.24    0.48   \n",
       "508         Serie A   25  1998   5  ...    0.0    0.0  0.0   5.56    1.11   \n",
       "855         La Liga   29  1994   1  ...    0.0    0.0  0.0   3.33    3.33   \n",
       "852  Premier League   33  1989   4  ...    0.0    0.0  0.0   1.43    0.00   \n",
       "756         La Liga   17  2005   4  ...    0.0    0.0  0.0   7.14    0.00   \n",
       "833  Premier League   22  2000   5  ...    0.0    0.0  0.0   5.00    0.00   \n",
       "180  Premier League   28  1995   4  ...    0.0    0.0  0.0   7.50    1.67   \n",
       "231      Bundesliga   31  1991   2  ...    0.0    0.0  0.0   8.13    3.13   \n",
       "406         Serie A   26  1996   6  ...    0.0    0.0  0.0   4.40    0.40   \n",
       "724         Serie A   27  1995   5  ...    0.0    0.0  0.0   2.35    2.35   \n",
       "88   Premier League   25  1997   7  ...    0.0    0.0  0.0   1.58    1.58   \n",
       "929         La Liga   24  1998   4  ...    0.0    0.0  0.0  10.00    0.00   \n",
       "464      Bundesliga   30  1992   1  ...    0.0    0.0  0.0   3.75    0.00   \n",
       "452  Premier League   28  1995   6  ...    0.0    0.0  0.0   8.89    0.74   \n",
       "663         Ligue 1   23  2000   2  ...    0.0    0.0  0.0  12.00    2.00   \n",
       "276         Ligue 1   27  1996   2  ...    0.0    0.0  0.0   5.00    1.25   \n",
       "17          La Liga   24  1999   4  ...    0.0    0.0  0.0   5.60    1.20   \n",
       "530         La Liga   27  1995   5  ...    0.0    0.0  0.0   3.33    0.56   \n",
       "371         La Liga   24  1999   2  ...    0.0    0.0  0.0   2.11    1.05   \n",
       "803  Premier League   20  2002   7  ...    0.0    0.0  0.0   1.67    0.00   \n",
       "255         Ligue 1   18  2004   3  ...    0.0    0.0  0.0   5.00    0.00   \n",
       "805  Premier League   29  1994   4  ...    0.0    0.0  0.0   5.56    0.56   \n",
       "741         Ligue 1   25  1998   1  ...    0.0    0.0  0.0  10.00    3.33   \n",
       "707      Bundesliga   28  1994   1  ...    0.0    0.0  0.0   0.00    0.00   \n",
       "\n",
       "     AerLost  AerWon%       GPJ  score  Desempenho  \n",
       "433     0.00      0.0  0.000000  18.24        Ruim  \n",
       "7       2.31      0.0  0.000000  18.22        Ruim  \n",
       "126     2.50      0.0  0.000000  18.00        Ruim  \n",
       "764     0.00    100.0  0.000000  18.00        Ruim  \n",
       "428     1.00     80.0  0.000000  18.00        Ruim  \n",
       "388     0.00    100.0  0.000000  18.00        Ruim  \n",
       "29      0.00      0.0  0.000000  17.98        Ruim  \n",
       "57      3.43     50.0  0.000000  17.98        Ruim  \n",
       "414     0.63     66.7  0.000000  17.50        Ruim  \n",
       "482     1.67     33.3  0.000000  17.49        Ruim  \n",
       "938     6.67     50.0  0.000000  17.35        Ruim  \n",
       "250     0.00    100.0  1.000000  17.14        Ruim  \n",
       "547     1.00     71.4  0.000000  17.00        Ruim  \n",
       "135     1.25      0.0  0.000000  16.89        Ruim  \n",
       "837     0.37     50.0  0.333333  16.74        Ruim  \n",
       "286     0.00    100.0  0.000000  16.65        Ruim  \n",
       "676     0.56     80.0  0.000000  16.56        Ruim  \n",
       "345     0.00    100.0  0.000000  16.50        Ruim  \n",
       "899     0.91      0.0  0.000000  16.10        Ruim  \n",
       "613     1.11     33.3  0.000000  16.09        Ruim  \n",
       "868     1.00     66.7  0.000000  16.00        Ruim  \n",
       "221     3.33      0.0  0.000000  15.99        Ruim  \n",
       "102     0.00      0.0  0.000000  15.99        Ruim  \n",
       "649     0.00    100.0  0.000000  15.98        Ruim  \n",
       "534     1.25     50.0  0.000000  15.75        Ruim  \n",
       "543     2.14      0.0  0.000000  15.72        Ruim  \n",
       "98      0.48     50.0  0.000000  15.62        Ruim  \n",
       "508     0.00    100.0  0.000000  15.56        Ruim  \n",
       "855     3.33     50.0  0.000000  15.32        Ruim  \n",
       "852     1.43      0.0  0.000000  15.15        Ruim  \n",
       "756     0.00      0.0  0.000000  15.13        Ruim  \n",
       "833     3.33      0.0  0.000000  15.01        Ruim  \n",
       "180     1.67     50.0  0.000000  14.85        Ruim  \n",
       "231     1.88     62.5  0.000000  14.74        Ruim  \n",
       "406     1.20     25.0  0.000000  14.60        Ruim  \n",
       "724     2.94     44.4  0.000000  14.51        Ruim  \n",
       "88      1.58     50.0  0.000000  14.43        Ruim  \n",
       "929     1.82      0.0  0.000000  14.38        Ruim  \n",
       "464     0.00      0.0  0.000000  14.25        Ruim  \n",
       "452     1.85     28.6  0.000000  14.01        Ruim  \n",
       "663     4.00     33.3  0.000000  14.00        Ruim  \n",
       "276     5.00     20.0  0.000000  14.00        Ruim  \n",
       "17      0.40     75.0  0.000000  14.00        Ruim  \n",
       "530     2.78     16.7  0.000000  13.78        Ruim  \n",
       "371     1.05     50.0  0.000000  13.38        Ruim  \n",
       "803     2.22      0.0  0.000000  12.77        Ruim  \n",
       "255     1.67      0.0  0.000000  12.65        Ruim  \n",
       "805     1.11     33.3  0.000000  12.24        Ruim  \n",
       "741     0.00    100.0  0.000000  12.00        Ruim  \n",
       "707     0.00      0.0  0.000000  12.00        Ruim  \n",
       "\n",
       "[50 rows x 128 columns]"
      ]
     },
     "execution_count": 98,
     "metadata": {},
     "output_type": "execute_result"
    }
   ],
   "source": [
    "Meias[Meias['Desempenho'] == 'Ruim'].head(50)"
   ]
  }
 ],
 "metadata": {
  "kernelspec": {
   "display_name": "base",
   "language": "python",
   "name": "python3"
  },
  "language_info": {
   "codemirror_mode": {
    "name": "ipython",
    "version": 3
   },
   "file_extension": ".py",
   "mimetype": "text/x-python",
   "name": "python",
   "nbconvert_exporter": "python",
   "pygments_lexer": "ipython3",
   "version": "3.9.7"
  },
  "orig_nbformat": 4
 },
 "nbformat": 4,
 "nbformat_minor": 2
}
