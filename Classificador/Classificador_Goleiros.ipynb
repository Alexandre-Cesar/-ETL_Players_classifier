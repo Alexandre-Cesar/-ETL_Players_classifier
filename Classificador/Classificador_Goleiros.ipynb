{
 "cells": [
  {
   "cell_type": "code",
   "execution_count": 1,
   "metadata": {},
   "outputs": [],
   "source": [
    "import pandas as pd\n",
    "import plotly.express as px\n",
    "import numpy as np"
   ]
  },
  {
   "cell_type": "code",
   "execution_count": 45,
   "metadata": {},
   "outputs": [],
   "source": [
    "Goleiros = pd.read_parquet('C:\\\\Users\\\\alexa\\\\OneDrive\\\\Área de Trabalho\\\\Prj\\\\Classificador\\\\Content\\\\Goleiros.c000.snappy.parquet', engine='pyarrow')"
   ]
  },
  {
   "cell_type": "code",
   "execution_count": 46,
   "metadata": {},
   "outputs": [
    {
     "data": {
      "text/html": [
       "<div>\n",
       "<style scoped>\n",
       "    .dataframe tbody tr th:only-of-type {\n",
       "        vertical-align: middle;\n",
       "    }\n",
       "\n",
       "    .dataframe tbody tr th {\n",
       "        vertical-align: top;\n",
       "    }\n",
       "\n",
       "    .dataframe thead th {\n",
       "        text-align: right;\n",
       "    }\n",
       "</style>\n",
       "<table border=\"1\" class=\"dataframe\">\n",
       "  <thead>\n",
       "    <tr style=\"text-align: right;\">\n",
       "      <th></th>\n",
       "      <th>_c0</th>\n",
       "      <th>Rk</th>\n",
       "      <th>Player</th>\n",
       "      <th>Nation</th>\n",
       "      <th>Pos</th>\n",
       "      <th>Squad</th>\n",
       "      <th>Comp</th>\n",
       "      <th>Age</th>\n",
       "      <th>Born</th>\n",
       "      <th>MP</th>\n",
       "      <th>...</th>\n",
       "      <th>Off</th>\n",
       "      <th>Crs</th>\n",
       "      <th>TklW</th>\n",
       "      <th>PKwon</th>\n",
       "      <th>PKcon</th>\n",
       "      <th>OG</th>\n",
       "      <th>Recov</th>\n",
       "      <th>AerWon</th>\n",
       "      <th>AerLost</th>\n",
       "      <th>AerWon%</th>\n",
       "    </tr>\n",
       "  </thead>\n",
       "  <tbody>\n",
       "    <tr>\n",
       "      <th>0</th>\n",
       "      <td>61</td>\n",
       "      <td>62</td>\n",
       "      <td>Do�an Alemdar</td>\n",
       "      <td>TUR</td>\n",
       "      <td>GK</td>\n",
       "      <td>Rennes</td>\n",
       "      <td>Ligue 1</td>\n",
       "      <td>20</td>\n",
       "      <td>2002</td>\n",
       "      <td>3</td>\n",
       "      <td>...</td>\n",
       "      <td>0.0</td>\n",
       "      <td>0.0</td>\n",
       "      <td>0.00</td>\n",
       "      <td>0.0</td>\n",
       "      <td>0.00</td>\n",
       "      <td>0.00</td>\n",
       "      <td>1.60</td>\n",
       "      <td>0.80</td>\n",
       "      <td>0.00</td>\n",
       "      <td>100.0</td>\n",
       "    </tr>\n",
       "    <tr>\n",
       "      <th>1</th>\n",
       "      <td>68</td>\n",
       "      <td>69</td>\n",
       "      <td>Alisson</td>\n",
       "      <td>BRA</td>\n",
       "      <td>GK</td>\n",
       "      <td>Liverpool</td>\n",
       "      <td>Premier League</td>\n",
       "      <td>30</td>\n",
       "      <td>1992</td>\n",
       "      <td>20</td>\n",
       "      <td>...</td>\n",
       "      <td>0.0</td>\n",
       "      <td>0.0</td>\n",
       "      <td>0.00</td>\n",
       "      <td>0.0</td>\n",
       "      <td>0.00</td>\n",
       "      <td>0.00</td>\n",
       "      <td>1.85</td>\n",
       "      <td>0.20</td>\n",
       "      <td>0.05</td>\n",
       "      <td>80.0</td>\n",
       "    </tr>\n",
       "    <tr>\n",
       "      <th>2</th>\n",
       "      <td>116</td>\n",
       "      <td>117</td>\n",
       "      <td>Alphonse Areola</td>\n",
       "      <td>FRA</td>\n",
       "      <td>GK</td>\n",
       "      <td>West Ham</td>\n",
       "      <td>Premier League</td>\n",
       "      <td>29</td>\n",
       "      <td>1993</td>\n",
       "      <td>2</td>\n",
       "      <td>...</td>\n",
       "      <td>0.0</td>\n",
       "      <td>0.0</td>\n",
       "      <td>0.00</td>\n",
       "      <td>0.0</td>\n",
       "      <td>0.83</td>\n",
       "      <td>0.00</td>\n",
       "      <td>0.83</td>\n",
       "      <td>0.00</td>\n",
       "      <td>0.00</td>\n",
       "      <td>0.0</td>\n",
       "    </tr>\n",
       "    <tr>\n",
       "      <th>3</th>\n",
       "      <td>122</td>\n",
       "      <td>123</td>\n",
       "      <td>Kepa Arrizabalaga</td>\n",
       "      <td>ESP</td>\n",
       "      <td>GK</td>\n",
       "      <td>Chelsea</td>\n",
       "      <td>Premier League</td>\n",
       "      <td>28</td>\n",
       "      <td>1994</td>\n",
       "      <td>14</td>\n",
       "      <td>...</td>\n",
       "      <td>0.0</td>\n",
       "      <td>0.0</td>\n",
       "      <td>0.15</td>\n",
       "      <td>0.0</td>\n",
       "      <td>0.00</td>\n",
       "      <td>0.00</td>\n",
       "      <td>1.63</td>\n",
       "      <td>0.37</td>\n",
       "      <td>0.07</td>\n",
       "      <td>83.3</td>\n",
       "    </tr>\n",
       "    <tr>\n",
       "      <th>4</th>\n",
       "      <td>129</td>\n",
       "      <td>130</td>\n",
       "      <td>Sergio Asenjo</td>\n",
       "      <td>ESP</td>\n",
       "      <td>GK</td>\n",
       "      <td>Valladolid</td>\n",
       "      <td>La Liga</td>\n",
       "      <td>33</td>\n",
       "      <td>1989</td>\n",
       "      <td>5</td>\n",
       "      <td>...</td>\n",
       "      <td>0.0</td>\n",
       "      <td>0.0</td>\n",
       "      <td>0.00</td>\n",
       "      <td>0.0</td>\n",
       "      <td>0.00</td>\n",
       "      <td>0.00</td>\n",
       "      <td>2.60</td>\n",
       "      <td>0.00</td>\n",
       "      <td>0.00</td>\n",
       "      <td>0.0</td>\n",
       "    </tr>\n",
       "    <tr>\n",
       "      <th>5</th>\n",
       "      <td>139</td>\n",
       "      <td>140</td>\n",
       "      <td>Emil Audero</td>\n",
       "      <td>ITA</td>\n",
       "      <td>GK</td>\n",
       "      <td>Sampdoria</td>\n",
       "      <td>Serie A</td>\n",
       "      <td>26</td>\n",
       "      <td>1997</td>\n",
       "      <td>21</td>\n",
       "      <td>...</td>\n",
       "      <td>0.0</td>\n",
       "      <td>0.0</td>\n",
       "      <td>0.00</td>\n",
       "      <td>0.0</td>\n",
       "      <td>0.00</td>\n",
       "      <td>0.05</td>\n",
       "      <td>1.52</td>\n",
       "      <td>0.19</td>\n",
       "      <td>0.00</td>\n",
       "      <td>100.0</td>\n",
       "    </tr>\n",
       "    <tr>\n",
       "      <th>6</th>\n",
       "      <td>161</td>\n",
       "      <td>162</td>\n",
       "      <td>�dgar Bad�a</td>\n",
       "      <td>ESP</td>\n",
       "      <td>GK</td>\n",
       "      <td>Elche</td>\n",
       "      <td>La Liga</td>\n",
       "      <td>31</td>\n",
       "      <td>1992</td>\n",
       "      <td>20</td>\n",
       "      <td>...</td>\n",
       "      <td>0.0</td>\n",
       "      <td>0.0</td>\n",
       "      <td>0.00</td>\n",
       "      <td>0.0</td>\n",
       "      <td>0.05</td>\n",
       "      <td>0.00</td>\n",
       "      <td>1.05</td>\n",
       "      <td>0.15</td>\n",
       "      <td>0.00</td>\n",
       "      <td>100.0</td>\n",
       "    </tr>\n",
       "    <tr>\n",
       "      <th>7</th>\n",
       "      <td>215</td>\n",
       "      <td>216</td>\n",
       "      <td>Oliver Baumann</td>\n",
       "      <td>GER</td>\n",
       "      <td>GK</td>\n",
       "      <td>Hoffenheim</td>\n",
       "      <td>Bundesliga</td>\n",
       "      <td>32</td>\n",
       "      <td>1990</td>\n",
       "      <td>20</td>\n",
       "      <td>...</td>\n",
       "      <td>0.0</td>\n",
       "      <td>0.0</td>\n",
       "      <td>0.00</td>\n",
       "      <td>0.0</td>\n",
       "      <td>0.00</td>\n",
       "      <td>0.00</td>\n",
       "      <td>1.85</td>\n",
       "      <td>0.45</td>\n",
       "      <td>0.00</td>\n",
       "      <td>100.0</td>\n",
       "    </tr>\n",
       "    <tr>\n",
       "      <th>8</th>\n",
       "      <td>222</td>\n",
       "      <td>223</td>\n",
       "      <td>Gavin Bazunu</td>\n",
       "      <td>IRL</td>\n",
       "      <td>GK</td>\n",
       "      <td>Southampton</td>\n",
       "      <td>Premier League</td>\n",
       "      <td>20</td>\n",
       "      <td>2002</td>\n",
       "      <td>22</td>\n",
       "      <td>...</td>\n",
       "      <td>0.0</td>\n",
       "      <td>0.0</td>\n",
       "      <td>0.00</td>\n",
       "      <td>0.0</td>\n",
       "      <td>0.05</td>\n",
       "      <td>0.00</td>\n",
       "      <td>1.23</td>\n",
       "      <td>0.45</td>\n",
       "      <td>0.00</td>\n",
       "      <td>100.0</td>\n",
       "    </tr>\n",
       "    <tr>\n",
       "      <th>9</th>\n",
       "      <td>232</td>\n",
       "      <td>233</td>\n",
       "      <td>Asmir Begovi?</td>\n",
       "      <td>BIH</td>\n",
       "      <td>GK</td>\n",
       "      <td>Everton</td>\n",
       "      <td>Premier League</td>\n",
       "      <td>35</td>\n",
       "      <td>1987</td>\n",
       "      <td>1</td>\n",
       "      <td>...</td>\n",
       "      <td>0.0</td>\n",
       "      <td>0.0</td>\n",
       "      <td>0.00</td>\n",
       "      <td>0.0</td>\n",
       "      <td>0.00</td>\n",
       "      <td>0.00</td>\n",
       "      <td>0.00</td>\n",
       "      <td>1.00</td>\n",
       "      <td>0.00</td>\n",
       "      <td>100.0</td>\n",
       "    </tr>\n",
       "    <tr>\n",
       "      <th>10</th>\n",
       "      <td>269</td>\n",
       "      <td>270</td>\n",
       "      <td>Paul Bernardoni</td>\n",
       "      <td>FRA</td>\n",
       "      <td>GK</td>\n",
       "      <td>Angers</td>\n",
       "      <td>Ligue 1</td>\n",
       "      <td>25</td>\n",
       "      <td>1997</td>\n",
       "      <td>14</td>\n",
       "      <td>...</td>\n",
       "      <td>0.0</td>\n",
       "      <td>0.0</td>\n",
       "      <td>0.00</td>\n",
       "      <td>0.0</td>\n",
       "      <td>0.07</td>\n",
       "      <td>0.00</td>\n",
       "      <td>0.71</td>\n",
       "      <td>0.36</td>\n",
       "      <td>0.07</td>\n",
       "      <td>83.3</td>\n",
       "    </tr>\n",
       "    <tr>\n",
       "      <th>11</th>\n",
       "      <td>292</td>\n",
       "      <td>293</td>\n",
       "      <td>Marco Bizot</td>\n",
       "      <td>NED</td>\n",
       "      <td>GK</td>\n",
       "      <td>Brest</td>\n",
       "      <td>Ligue 1</td>\n",
       "      <td>31</td>\n",
       "      <td>1991</td>\n",
       "      <td>21</td>\n",
       "      <td>...</td>\n",
       "      <td>0.0</td>\n",
       "      <td>0.0</td>\n",
       "      <td>0.00</td>\n",
       "      <td>0.0</td>\n",
       "      <td>0.00</td>\n",
       "      <td>0.00</td>\n",
       "      <td>0.71</td>\n",
       "      <td>0.19</td>\n",
       "      <td>0.05</td>\n",
       "      <td>80.0</td>\n",
       "    </tr>\n",
       "    <tr>\n",
       "      <th>12</th>\n",
       "      <td>295</td>\n",
       "      <td>296</td>\n",
       "      <td>Rub�n Blanco</td>\n",
       "      <td>ESP</td>\n",
       "      <td>GK</td>\n",
       "      <td>Marseille</td>\n",
       "      <td>Ligue 1</td>\n",
       "      <td>27</td>\n",
       "      <td>1995</td>\n",
       "      <td>4</td>\n",
       "      <td>...</td>\n",
       "      <td>0.0</td>\n",
       "      <td>0.0</td>\n",
       "      <td>0.00</td>\n",
       "      <td>0.0</td>\n",
       "      <td>0.00</td>\n",
       "      <td>0.00</td>\n",
       "      <td>1.50</td>\n",
       "      <td>0.00</td>\n",
       "      <td>0.00</td>\n",
       "      <td>0.0</td>\n",
       "    </tr>\n",
       "    <tr>\n",
       "      <th>13</th>\n",
       "      <td>297</td>\n",
       "      <td>298</td>\n",
       "      <td>Janis Blaswich</td>\n",
       "      <td>GER</td>\n",
       "      <td>GK</td>\n",
       "      <td>RB Leipzig</td>\n",
       "      <td>Bundesliga</td>\n",
       "      <td>31</td>\n",
       "      <td>1991</td>\n",
       "      <td>13</td>\n",
       "      <td>...</td>\n",
       "      <td>0.0</td>\n",
       "      <td>0.0</td>\n",
       "      <td>0.00</td>\n",
       "      <td>0.0</td>\n",
       "      <td>0.00</td>\n",
       "      <td>0.00</td>\n",
       "      <td>1.38</td>\n",
       "      <td>0.54</td>\n",
       "      <td>0.00</td>\n",
       "      <td>100.0</td>\n",
       "    </tr>\n",
       "    <tr>\n",
       "      <th>14</th>\n",
       "      <td>299</td>\n",
       "      <td>300</td>\n",
       "      <td>Joaqu�n Bl�zquez</td>\n",
       "      <td>ARG</td>\n",
       "      <td>GK</td>\n",
       "      <td>Brest</td>\n",
       "      <td>Ligue 1</td>\n",
       "      <td>22</td>\n",
       "      <td>2001</td>\n",
       "      <td>1</td>\n",
       "      <td>...</td>\n",
       "      <td>0.0</td>\n",
       "      <td>0.0</td>\n",
       "      <td>0.00</td>\n",
       "      <td>0.0</td>\n",
       "      <td>0.00</td>\n",
       "      <td>0.00</td>\n",
       "      <td>0.00</td>\n",
       "      <td>0.00</td>\n",
       "      <td>0.00</td>\n",
       "      <td>0.0</td>\n",
       "    </tr>\n",
       "    <tr>\n",
       "      <th>15</th>\n",
       "      <td>330</td>\n",
       "      <td>331</td>\n",
       "      <td>Yassine Bounou</td>\n",
       "      <td>MAR</td>\n",
       "      <td>GK</td>\n",
       "      <td>Sevilla</td>\n",
       "      <td>La Liga</td>\n",
       "      <td>31</td>\n",
       "      <td>1991</td>\n",
       "      <td>19</td>\n",
       "      <td>...</td>\n",
       "      <td>0.0</td>\n",
       "      <td>0.0</td>\n",
       "      <td>0.05</td>\n",
       "      <td>0.0</td>\n",
       "      <td>0.00</td>\n",
       "      <td>0.00</td>\n",
       "      <td>1.35</td>\n",
       "      <td>0.16</td>\n",
       "      <td>0.05</td>\n",
       "      <td>75.0</td>\n",
       "    </tr>\n",
       "    <tr>\n",
       "      <th>16</th>\n",
       "      <td>345</td>\n",
       "      <td>346</td>\n",
       "      <td>Claudio Bravo</td>\n",
       "      <td>CHI</td>\n",
       "      <td>GK</td>\n",
       "      <td>Betis</td>\n",
       "      <td>La Liga</td>\n",
       "      <td>39</td>\n",
       "      <td>1983</td>\n",
       "      <td>3</td>\n",
       "      <td>...</td>\n",
       "      <td>0.0</td>\n",
       "      <td>0.0</td>\n",
       "      <td>0.00</td>\n",
       "      <td>0.0</td>\n",
       "      <td>0.00</td>\n",
       "      <td>0.00</td>\n",
       "      <td>1.00</td>\n",
       "      <td>0.00</td>\n",
       "      <td>0.00</td>\n",
       "      <td>0.0</td>\n",
       "    </tr>\n",
       "    <tr>\n",
       "      <th>17</th>\n",
       "      <td>346</td>\n",
       "      <td>347</td>\n",
       "      <td>Fabian Bredlow</td>\n",
       "      <td>GER</td>\n",
       "      <td>GK</td>\n",
       "      <td>Stuttgart</td>\n",
       "      <td>Bundesliga</td>\n",
       "      <td>27</td>\n",
       "      <td>1995</td>\n",
       "      <td>1</td>\n",
       "      <td>...</td>\n",
       "      <td>0.0</td>\n",
       "      <td>0.0</td>\n",
       "      <td>0.00</td>\n",
       "      <td>0.0</td>\n",
       "      <td>0.00</td>\n",
       "      <td>0.00</td>\n",
       "      <td>2.00</td>\n",
       "      <td>0.00</td>\n",
       "      <td>0.00</td>\n",
       "      <td>0.0</td>\n",
       "    </tr>\n",
       "    <tr>\n",
       "      <th>18</th>\n",
       "      <td>380</td>\n",
       "      <td>381</td>\n",
       "      <td>Marcin Bu?ka</td>\n",
       "      <td>POL</td>\n",
       "      <td>GK</td>\n",
       "      <td>Nice</td>\n",
       "      <td>Ligue 1</td>\n",
       "      <td>23</td>\n",
       "      <td>1999</td>\n",
       "      <td>2</td>\n",
       "      <td>...</td>\n",
       "      <td>0.0</td>\n",
       "      <td>0.0</td>\n",
       "      <td>0.00</td>\n",
       "      <td>0.0</td>\n",
       "      <td>0.00</td>\n",
       "      <td>0.00</td>\n",
       "      <td>1.50</td>\n",
       "      <td>0.00</td>\n",
       "      <td>0.00</td>\n",
       "      <td>0.0</td>\n",
       "    </tr>\n",
       "    <tr>\n",
       "      <th>19</th>\n",
       "      <td>438</td>\n",
       "      <td>439</td>\n",
       "      <td>Juan Carlos</td>\n",
       "      <td>ESP</td>\n",
       "      <td>GK</td>\n",
       "      <td>Girona</td>\n",
       "      <td>La Liga</td>\n",
       "      <td>35</td>\n",
       "      <td>1988</td>\n",
       "      <td>10</td>\n",
       "      <td>...</td>\n",
       "      <td>0.0</td>\n",
       "      <td>0.0</td>\n",
       "      <td>0.00</td>\n",
       "      <td>0.0</td>\n",
       "      <td>0.00</td>\n",
       "      <td>0.00</td>\n",
       "      <td>1.60</td>\n",
       "      <td>0.10</td>\n",
       "      <td>0.00</td>\n",
       "      <td>100.0</td>\n",
       "    </tr>\n",
       "  </tbody>\n",
       "</table>\n",
       "<p>20 rows × 125 columns</p>\n",
       "</div>"
      ],
      "text/plain": [
       "    _c0   Rk             Player Nation Pos        Squad            Comp  Age  \\\n",
       "0    61   62      Do�an Alemdar    TUR  GK       Rennes         Ligue 1   20   \n",
       "1    68   69            Alisson    BRA  GK    Liverpool  Premier League   30   \n",
       "2   116  117    Alphonse Areola    FRA  GK     West Ham  Premier League   29   \n",
       "3   122  123  Kepa Arrizabalaga    ESP  GK      Chelsea  Premier League   28   \n",
       "4   129  130      Sergio Asenjo    ESP  GK   Valladolid         La Liga   33   \n",
       "5   139  140        Emil Audero    ITA  GK    Sampdoria         Serie A   26   \n",
       "6   161  162        �dgar Bad�a    ESP  GK        Elche         La Liga   31   \n",
       "7   215  216     Oliver Baumann    GER  GK   Hoffenheim      Bundesliga   32   \n",
       "8   222  223       Gavin Bazunu    IRL  GK  Southampton  Premier League   20   \n",
       "9   232  233      Asmir Begovi?    BIH  GK      Everton  Premier League   35   \n",
       "10  269  270    Paul Bernardoni    FRA  GK       Angers         Ligue 1   25   \n",
       "11  292  293        Marco Bizot    NED  GK        Brest         Ligue 1   31   \n",
       "12  295  296       Rub�n Blanco    ESP  GK    Marseille         Ligue 1   27   \n",
       "13  297  298     Janis Blaswich    GER  GK   RB Leipzig      Bundesliga   31   \n",
       "14  299  300   Joaqu�n Bl�zquez    ARG  GK        Brest         Ligue 1   22   \n",
       "15  330  331     Yassine Bounou    MAR  GK      Sevilla         La Liga   31   \n",
       "16  345  346      Claudio Bravo    CHI  GK        Betis         La Liga   39   \n",
       "17  346  347     Fabian Bredlow    GER  GK    Stuttgart      Bundesliga   27   \n",
       "18  380  381       Marcin Bu?ka    POL  GK         Nice         Ligue 1   23   \n",
       "19  438  439        Juan Carlos    ESP  GK       Girona         La Liga   35   \n",
       "\n",
       "    Born  MP  ...  Off  Crs  TklW  PKwon  PKcon    OG  Recov  AerWon  AerLost  \\\n",
       "0   2002   3  ...  0.0  0.0  0.00    0.0   0.00  0.00   1.60    0.80     0.00   \n",
       "1   1992  20  ...  0.0  0.0  0.00    0.0   0.00  0.00   1.85    0.20     0.05   \n",
       "2   1993   2  ...  0.0  0.0  0.00    0.0   0.83  0.00   0.83    0.00     0.00   \n",
       "3   1994  14  ...  0.0  0.0  0.15    0.0   0.00  0.00   1.63    0.37     0.07   \n",
       "4   1989   5  ...  0.0  0.0  0.00    0.0   0.00  0.00   2.60    0.00     0.00   \n",
       "5   1997  21  ...  0.0  0.0  0.00    0.0   0.00  0.05   1.52    0.19     0.00   \n",
       "6   1992  20  ...  0.0  0.0  0.00    0.0   0.05  0.00   1.05    0.15     0.00   \n",
       "7   1990  20  ...  0.0  0.0  0.00    0.0   0.00  0.00   1.85    0.45     0.00   \n",
       "8   2002  22  ...  0.0  0.0  0.00    0.0   0.05  0.00   1.23    0.45     0.00   \n",
       "9   1987   1  ...  0.0  0.0  0.00    0.0   0.00  0.00   0.00    1.00     0.00   \n",
       "10  1997  14  ...  0.0  0.0  0.00    0.0   0.07  0.00   0.71    0.36     0.07   \n",
       "11  1991  21  ...  0.0  0.0  0.00    0.0   0.00  0.00   0.71    0.19     0.05   \n",
       "12  1995   4  ...  0.0  0.0  0.00    0.0   0.00  0.00   1.50    0.00     0.00   \n",
       "13  1991  13  ...  0.0  0.0  0.00    0.0   0.00  0.00   1.38    0.54     0.00   \n",
       "14  2001   1  ...  0.0  0.0  0.00    0.0   0.00  0.00   0.00    0.00     0.00   \n",
       "15  1991  19  ...  0.0  0.0  0.05    0.0   0.00  0.00   1.35    0.16     0.05   \n",
       "16  1983   3  ...  0.0  0.0  0.00    0.0   0.00  0.00   1.00    0.00     0.00   \n",
       "17  1995   1  ...  0.0  0.0  0.00    0.0   0.00  0.00   2.00    0.00     0.00   \n",
       "18  1999   2  ...  0.0  0.0  0.00    0.0   0.00  0.00   1.50    0.00     0.00   \n",
       "19  1988  10  ...  0.0  0.0  0.00    0.0   0.00  0.00   1.60    0.10     0.00   \n",
       "\n",
       "    AerWon%  \n",
       "0     100.0  \n",
       "1      80.0  \n",
       "2       0.0  \n",
       "3      83.3  \n",
       "4       0.0  \n",
       "5     100.0  \n",
       "6     100.0  \n",
       "7     100.0  \n",
       "8     100.0  \n",
       "9     100.0  \n",
       "10     83.3  \n",
       "11     80.0  \n",
       "12      0.0  \n",
       "13    100.0  \n",
       "14      0.0  \n",
       "15     75.0  \n",
       "16      0.0  \n",
       "17      0.0  \n",
       "18      0.0  \n",
       "19    100.0  \n",
       "\n",
       "[20 rows x 125 columns]"
      ]
     },
     "execution_count": 46,
     "metadata": {},
     "output_type": "execute_result"
    }
   ],
   "source": [
    "Goleiros.head(20)"
   ]
  },
  {
   "cell_type": "code",
   "execution_count": 25,
   "metadata": {},
   "outputs": [
    {
     "data": {
      "application/vnd.plotly.v1+json": {
       "config": {
        "plotlyServerURL": "https://plot.ly"
       },
       "data": [
        {
         "alignmentgroup": "True",
         "bingroup": "x",
         "hovertemplate": "Player=Do�an Alemdar<br>TouDefPen=%{x}<br>count=%{y}<extra></extra>",
         "legendgroup": "Do�an Alemdar",
         "marker": {
          "color": "#636efa",
          "pattern": {
           "shape": ""
          }
         },
         "name": "Do�an Alemdar",
         "offsetgroup": "Do�an Alemdar",
         "orientation": "v",
         "showlegend": true,
         "type": "histogram",
         "x": [
          24
         ],
         "xaxis": "x",
         "yaxis": "y"
        },
        {
         "alignmentgroup": "True",
         "bingroup": "x",
         "hovertemplate": "Player=Alisson<br>TouDefPen=%{x}<br>count=%{y}<extra></extra>",
         "legendgroup": "Alisson",
         "marker": {
          "color": "#EF553B",
          "pattern": {
           "shape": ""
          }
         },
         "name": "Alisson",
         "offsetgroup": "Alisson",
         "orientation": "v",
         "showlegend": true,
         "type": "histogram",
         "x": [
          30.6
         ],
         "xaxis": "x",
         "yaxis": "y"
        },
        {
         "alignmentgroup": "True",
         "bingroup": "x",
         "hovertemplate": "Player=Alphonse Areola<br>TouDefPen=%{x}<br>count=%{y}<extra></extra>",
         "legendgroup": "Alphonse Areola",
         "marker": {
          "color": "#00cc96",
          "pattern": {
           "shape": ""
          }
         },
         "name": "Alphonse Areola",
         "offsetgroup": "Alphonse Areola",
         "orientation": "v",
         "showlegend": true,
         "type": "histogram",
         "x": [
          34.2
         ],
         "xaxis": "x",
         "yaxis": "y"
        },
        {
         "alignmentgroup": "True",
         "bingroup": "x",
         "hovertemplate": "Player=Kepa Arrizabalaga<br>TouDefPen=%{x}<br>count=%{y}<extra></extra>",
         "legendgroup": "Kepa Arrizabalaga",
         "marker": {
          "color": "#ab63fa",
          "pattern": {
           "shape": ""
          }
         },
         "name": "Kepa Arrizabalaga",
         "offsetgroup": "Kepa Arrizabalaga",
         "orientation": "v",
         "showlegend": true,
         "type": "histogram",
         "x": [
          31.6
         ],
         "xaxis": "x",
         "yaxis": "y"
        },
        {
         "alignmentgroup": "True",
         "bingroup": "x",
         "hovertemplate": "Player=Sergio Asenjo<br>TouDefPen=%{x}<br>count=%{y}<extra></extra>",
         "legendgroup": "Sergio Asenjo",
         "marker": {
          "color": "#FFA15A",
          "pattern": {
           "shape": ""
          }
         },
         "name": "Sergio Asenjo",
         "offsetgroup": "Sergio Asenjo",
         "orientation": "v",
         "showlegend": true,
         "type": "histogram",
         "x": [
          31.6
         ],
         "xaxis": "x",
         "yaxis": "y"
        },
        {
         "alignmentgroup": "True",
         "bingroup": "x",
         "hovertemplate": "Player=Emil Audero<br>TouDefPen=%{x}<br>count=%{y}<extra></extra>",
         "legendgroup": "Emil Audero",
         "marker": {
          "color": "#19d3f3",
          "pattern": {
           "shape": ""
          }
         },
         "name": "Emil Audero",
         "offsetgroup": "Emil Audero",
         "orientation": "v",
         "showlegend": true,
         "type": "histogram",
         "x": [
          31.8
         ],
         "xaxis": "x",
         "yaxis": "y"
        },
        {
         "alignmentgroup": "True",
         "bingroup": "x",
         "hovertemplate": "Player=�dgar Bad�a<br>TouDefPen=%{x}<br>count=%{y}<extra></extra>",
         "legendgroup": "�dgar Bad�a",
         "marker": {
          "color": "#FF6692",
          "pattern": {
           "shape": ""
          }
         },
         "name": "�dgar Bad�a",
         "offsetgroup": "�dgar Bad�a",
         "orientation": "v",
         "showlegend": true,
         "type": "histogram",
         "x": [
          29.5
         ],
         "xaxis": "x",
         "yaxis": "y"
        },
        {
         "alignmentgroup": "True",
         "bingroup": "x",
         "hovertemplate": "Player=Oliver Baumann<br>TouDefPen=%{x}<br>count=%{y}<extra></extra>",
         "legendgroup": "Oliver Baumann",
         "marker": {
          "color": "#B6E880",
          "pattern": {
           "shape": ""
          }
         },
         "name": "Oliver Baumann",
         "offsetgroup": "Oliver Baumann",
         "orientation": "v",
         "showlegend": true,
         "type": "histogram",
         "x": [
          36
         ],
         "xaxis": "x",
         "yaxis": "y"
        },
        {
         "alignmentgroup": "True",
         "bingroup": "x",
         "hovertemplate": "Player=Gavin Bazunu<br>TouDefPen=%{x}<br>count=%{y}<extra></extra>",
         "legendgroup": "Gavin Bazunu",
         "marker": {
          "color": "#FF97FF",
          "pattern": {
           "shape": ""
          }
         },
         "name": "Gavin Bazunu",
         "offsetgroup": "Gavin Bazunu",
         "orientation": "v",
         "showlegend": true,
         "type": "histogram",
         "x": [
          27
         ],
         "xaxis": "x",
         "yaxis": "y"
        },
        {
         "alignmentgroup": "True",
         "bingroup": "x",
         "hovertemplate": "Player=Asmir Begovi?<br>TouDefPen=%{x}<br>count=%{y}<extra></extra>",
         "legendgroup": "Asmir Begovi?",
         "marker": {
          "color": "#FECB52",
          "pattern": {
           "shape": ""
          }
         },
         "name": "Asmir Begovi?",
         "offsetgroup": "Asmir Begovi?",
         "orientation": "v",
         "showlegend": true,
         "type": "histogram",
         "x": [
          31
         ],
         "xaxis": "x",
         "yaxis": "y"
        },
        {
         "alignmentgroup": "True",
         "bingroup": "x",
         "hovertemplate": "Player=Paul Bernardoni<br>TouDefPen=%{x}<br>count=%{y}<extra></extra>",
         "legendgroup": "Paul Bernardoni",
         "marker": {
          "color": "#636efa",
          "pattern": {
           "shape": ""
          }
         },
         "name": "Paul Bernardoni",
         "offsetgroup": "Paul Bernardoni",
         "orientation": "v",
         "showlegend": true,
         "type": "histogram",
         "x": [
          23.8
         ],
         "xaxis": "x",
         "yaxis": "y"
        },
        {
         "alignmentgroup": "True",
         "bingroup": "x",
         "hovertemplate": "Player=Marco Bizot<br>TouDefPen=%{x}<br>count=%{y}<extra></extra>",
         "legendgroup": "Marco Bizot",
         "marker": {
          "color": "#EF553B",
          "pattern": {
           "shape": ""
          }
         },
         "name": "Marco Bizot",
         "offsetgroup": "Marco Bizot",
         "orientation": "v",
         "showlegend": true,
         "type": "histogram",
         "x": [
          27.5
         ],
         "xaxis": "x",
         "yaxis": "y"
        },
        {
         "alignmentgroup": "True",
         "bingroup": "x",
         "hovertemplate": "Player=Rub�n Blanco<br>TouDefPen=%{x}<br>count=%{y}<extra></extra>",
         "legendgroup": "Rub�n Blanco",
         "marker": {
          "color": "#00cc96",
          "pattern": {
           "shape": ""
          }
         },
         "name": "Rub�n Blanco",
         "offsetgroup": "Rub�n Blanco",
         "orientation": "v",
         "showlegend": true,
         "type": "histogram",
         "x": [
          33
         ],
         "xaxis": "x",
         "yaxis": "y"
        },
        {
         "alignmentgroup": "True",
         "bingroup": "x",
         "hovertemplate": "Player=Janis Blaswich<br>TouDefPen=%{x}<br>count=%{y}<extra></extra>",
         "legendgroup": "Janis Blaswich",
         "marker": {
          "color": "#ab63fa",
          "pattern": {
           "shape": ""
          }
         },
         "name": "Janis Blaswich",
         "offsetgroup": "Janis Blaswich",
         "orientation": "v",
         "showlegend": true,
         "type": "histogram",
         "x": [
          29.8
         ],
         "xaxis": "x",
         "yaxis": "y"
        },
        {
         "alignmentgroup": "True",
         "bingroup": "x",
         "hovertemplate": "Player=Joaqu�n Bl�zquez<br>TouDefPen=%{x}<br>count=%{y}<extra></extra>",
         "legendgroup": "Joaqu�n Bl�zquez",
         "marker": {
          "color": "#FFA15A",
          "pattern": {
           "shape": ""
          }
         },
         "name": "Joaqu�n Bl�zquez",
         "offsetgroup": "Joaqu�n Bl�zquez",
         "orientation": "v",
         "showlegend": true,
         "type": "histogram",
         "x": [
          26
         ],
         "xaxis": "x",
         "yaxis": "y"
        },
        {
         "alignmentgroup": "True",
         "bingroup": "x",
         "hovertemplate": "Player=Yassine Bounou<br>TouDefPen=%{x}<br>count=%{y}<extra></extra>",
         "legendgroup": "Yassine Bounou",
         "marker": {
          "color": "#19d3f3",
          "pattern": {
           "shape": ""
          }
         },
         "name": "Yassine Bounou",
         "offsetgroup": "Yassine Bounou",
         "orientation": "v",
         "showlegend": true,
         "type": "histogram",
         "x": [
          31.4
         ],
         "xaxis": "x",
         "yaxis": "y"
        },
        {
         "alignmentgroup": "True",
         "bingroup": "x",
         "hovertemplate": "Player=Claudio Bravo<br>TouDefPen=%{x}<br>count=%{y}<extra></extra>",
         "legendgroup": "Claudio Bravo",
         "marker": {
          "color": "#FF6692",
          "pattern": {
           "shape": ""
          }
         },
         "name": "Claudio Bravo",
         "offsetgroup": "Claudio Bravo",
         "orientation": "v",
         "showlegend": true,
         "type": "histogram",
         "x": [
          27.3
         ],
         "xaxis": "x",
         "yaxis": "y"
        },
        {
         "alignmentgroup": "True",
         "bingroup": "x",
         "hovertemplate": "Player=Fabian Bredlow<br>TouDefPen=%{x}<br>count=%{y}<extra></extra>",
         "legendgroup": "Fabian Bredlow",
         "marker": {
          "color": "#B6E880",
          "pattern": {
           "shape": ""
          }
         },
         "name": "Fabian Bredlow",
         "offsetgroup": "Fabian Bredlow",
         "orientation": "v",
         "showlegend": true,
         "type": "histogram",
         "x": [
          29
         ],
         "xaxis": "x",
         "yaxis": "y"
        },
        {
         "alignmentgroup": "True",
         "bingroup": "x",
         "hovertemplate": "Player=Marcin Bu?ka<br>TouDefPen=%{x}<br>count=%{y}<extra></extra>",
         "legendgroup": "Marcin Bu?ka",
         "marker": {
          "color": "#FF97FF",
          "pattern": {
           "shape": ""
          }
         },
         "name": "Marcin Bu?ka",
         "offsetgroup": "Marcin Bu?ka",
         "orientation": "v",
         "showlegend": true,
         "type": "histogram",
         "x": [
          32
         ],
         "xaxis": "x",
         "yaxis": "y"
        },
        {
         "alignmentgroup": "True",
         "bingroup": "x",
         "hovertemplate": "Player=Juan Carlos<br>TouDefPen=%{x}<br>count=%{y}<extra></extra>",
         "legendgroup": "Juan Carlos",
         "marker": {
          "color": "#FECB52",
          "pattern": {
           "shape": ""
          }
         },
         "name": "Juan Carlos",
         "offsetgroup": "Juan Carlos",
         "orientation": "v",
         "showlegend": true,
         "type": "histogram",
         "x": [
          32.4
         ],
         "xaxis": "x",
         "yaxis": "y"
        },
        {
         "alignmentgroup": "True",
         "bingroup": "x",
         "hovertemplate": "Player=Marco Carnesecchi<br>TouDefPen=%{x}<br>count=%{y}<extra></extra>",
         "legendgroup": "Marco Carnesecchi",
         "marker": {
          "color": "#636efa",
          "pattern": {
           "shape": ""
          }
         },
         "name": "Marco Carnesecchi",
         "offsetgroup": "Marco Carnesecchi",
         "orientation": "v",
         "showlegend": true,
         "type": "histogram",
         "x": [
          31.1
         ],
         "xaxis": "x",
         "yaxis": "y"
        },
        {
         "alignmentgroup": "True",
         "bingroup": "x",
         "hovertemplate": "Player=Matis Carvalho<br>TouDefPen=%{x}<br>count=%{y}<extra></extra>",
         "legendgroup": "Matis Carvalho",
         "marker": {
          "color": "#EF553B",
          "pattern": {
           "shape": ""
          }
         },
         "name": "Matis Carvalho",
         "offsetgroup": "Matis Carvalho",
         "orientation": "v",
         "showlegend": true,
         "type": "histogram",
         "x": [
          29.3
         ],
         "xaxis": "x",
         "yaxis": "y"
        },
        {
         "alignmentgroup": "True",
         "bingroup": "x",
         "hovertemplate": "Player=Koen Casteels<br>TouDefPen=%{x}<br>count=%{y}<extra></extra>",
         "legendgroup": "Koen Casteels",
         "marker": {
          "color": "#00cc96",
          "pattern": {
           "shape": ""
          }
         },
         "name": "Koen Casteels",
         "offsetgroup": "Koen Casteels",
         "orientation": "v",
         "showlegend": true,
         "type": "histogram",
         "x": [
          34.5
         ],
         "xaxis": "x",
         "yaxis": "y"
        },
        {
         "alignmentgroup": "True",
         "bingroup": "x",
         "hovertemplate": "Player=Leonardo C�sar Jardim<br>TouDefPen=%{x}<br>count=%{y}<extra></extra>",
         "legendgroup": "Leonardo C�sar Jardim",
         "marker": {
          "color": "#ab63fa",
          "pattern": {
           "shape": ""
          }
         },
         "name": "Leonardo C�sar Jardim",
         "offsetgroup": "Leonardo C�sar Jardim",
         "orientation": "v",
         "showlegend": true,
         "type": "histogram",
         "x": [
          0
         ],
         "xaxis": "x",
         "yaxis": "y"
        },
        {
         "alignmentgroup": "True",
         "bingroup": "x",
         "hovertemplate": "Player=Lucas Chevalier<br>TouDefPen=%{x}<br>count=%{y}<extra></extra>",
         "legendgroup": "Lucas Chevalier",
         "marker": {
          "color": "#FFA15A",
          "pattern": {
           "shape": ""
          }
         },
         "name": "Lucas Chevalier",
         "offsetgroup": "Lucas Chevalier",
         "orientation": "v",
         "showlegend": true,
         "type": "histogram",
         "x": [
          27.3
         ],
         "xaxis": "x",
         "yaxis": "y"
        },
        {
         "alignmentgroup": "True",
         "bingroup": "x",
         "hovertemplate": "Player=Oliver Christensen<br>TouDefPen=%{x}<br>count=%{y}<extra></extra>",
         "legendgroup": "Oliver Christensen",
         "marker": {
          "color": "#19d3f3",
          "pattern": {
           "shape": ""
          }
         },
         "name": "Oliver Christensen",
         "offsetgroup": "Oliver Christensen",
         "orientation": "v",
         "showlegend": true,
         "type": "histogram",
         "x": [
          30.1
         ],
         "xaxis": "x",
         "yaxis": "y"
        },
        {
         "alignmentgroup": "True",
         "bingroup": "x",
         "hovertemplate": "Player=Andrea Consigli<br>TouDefPen=%{x}<br>count=%{y}<extra></extra>",
         "legendgroup": "Andrea Consigli",
         "marker": {
          "color": "#FF6692",
          "pattern": {
           "shape": ""
          }
         },
         "name": "Andrea Consigli",
         "offsetgroup": "Andrea Consigli",
         "orientation": "v",
         "showlegend": true,
         "type": "histogram",
         "x": [
          36.6
         ],
         "xaxis": "x",
         "yaxis": "y"
        },
        {
         "alignmentgroup": "True",
         "bingroup": "x",
         "hovertemplate": "Player=Beno�t Costil<br>TouDefPen=%{x}<br>count=%{y}<extra></extra>",
         "legendgroup": "Beno�t Costil",
         "marker": {
          "color": "#B6E880",
          "pattern": {
           "shape": ""
          }
         },
         "name": "Beno�t Costil",
         "offsetgroup": "Beno�t Costil",
         "orientation": "v",
         "showlegend": true,
         "type": "histogram",
         "x": [
          27.9
         ],
         "xaxis": "x",
         "yaxis": "y"
        },
        {
         "alignmentgroup": "True",
         "bingroup": "x",
         "hovertemplate": "Player=Thibaut Courtois<br>TouDefPen=%{x}<br>count=%{y}<extra></extra>",
         "legendgroup": "Thibaut Courtois",
         "marker": {
          "color": "#FF97FF",
          "pattern": {
           "shape": ""
          }
         },
         "name": "Thibaut Courtois",
         "offsetgroup": "Thibaut Courtois",
         "orientation": "v",
         "showlegend": true,
         "type": "histogram",
         "x": [
          31.4
         ],
         "xaxis": "x",
         "yaxis": "y"
        },
        {
         "alignmentgroup": "True",
         "bingroup": "x",
         "hovertemplate": "Player=Finn Dahmen<br>TouDefPen=%{x}<br>count=%{y}<extra></extra>",
         "legendgroup": "Finn Dahmen",
         "marker": {
          "color": "#FECB52",
          "pattern": {
           "shape": ""
          }
         },
         "name": "Finn Dahmen",
         "offsetgroup": "Finn Dahmen",
         "orientation": "v",
         "showlegend": true,
         "type": "histogram",
         "x": [
          26.6
         ],
         "xaxis": "x",
         "yaxis": "y"
        }
       ],
       "layout": {
        "barmode": "relative",
        "legend": {
         "title": {
          "text": "Player"
         },
         "tracegroupgap": 0
        },
        "margin": {
         "t": 60
        },
        "template": {
         "data": {
          "bar": [
           {
            "error_x": {
             "color": "#2a3f5f"
            },
            "error_y": {
             "color": "#2a3f5f"
            },
            "marker": {
             "line": {
              "color": "#E5ECF6",
              "width": 0.5
             },
             "pattern": {
              "fillmode": "overlay",
              "size": 10,
              "solidity": 0.2
             }
            },
            "type": "bar"
           }
          ],
          "barpolar": [
           {
            "marker": {
             "line": {
              "color": "#E5ECF6",
              "width": 0.5
             },
             "pattern": {
              "fillmode": "overlay",
              "size": 10,
              "solidity": 0.2
             }
            },
            "type": "barpolar"
           }
          ],
          "carpet": [
           {
            "aaxis": {
             "endlinecolor": "#2a3f5f",
             "gridcolor": "white",
             "linecolor": "white",
             "minorgridcolor": "white",
             "startlinecolor": "#2a3f5f"
            },
            "baxis": {
             "endlinecolor": "#2a3f5f",
             "gridcolor": "white",
             "linecolor": "white",
             "minorgridcolor": "white",
             "startlinecolor": "#2a3f5f"
            },
            "type": "carpet"
           }
          ],
          "choropleth": [
           {
            "colorbar": {
             "outlinewidth": 0,
             "ticks": ""
            },
            "type": "choropleth"
           }
          ],
          "contour": [
           {
            "colorbar": {
             "outlinewidth": 0,
             "ticks": ""
            },
            "colorscale": [
             [
              0,
              "#0d0887"
             ],
             [
              0.1111111111111111,
              "#46039f"
             ],
             [
              0.2222222222222222,
              "#7201a8"
             ],
             [
              0.3333333333333333,
              "#9c179e"
             ],
             [
              0.4444444444444444,
              "#bd3786"
             ],
             [
              0.5555555555555556,
              "#d8576b"
             ],
             [
              0.6666666666666666,
              "#ed7953"
             ],
             [
              0.7777777777777778,
              "#fb9f3a"
             ],
             [
              0.8888888888888888,
              "#fdca26"
             ],
             [
              1,
              "#f0f921"
             ]
            ],
            "type": "contour"
           }
          ],
          "contourcarpet": [
           {
            "colorbar": {
             "outlinewidth": 0,
             "ticks": ""
            },
            "type": "contourcarpet"
           }
          ],
          "heatmap": [
           {
            "colorbar": {
             "outlinewidth": 0,
             "ticks": ""
            },
            "colorscale": [
             [
              0,
              "#0d0887"
             ],
             [
              0.1111111111111111,
              "#46039f"
             ],
             [
              0.2222222222222222,
              "#7201a8"
             ],
             [
              0.3333333333333333,
              "#9c179e"
             ],
             [
              0.4444444444444444,
              "#bd3786"
             ],
             [
              0.5555555555555556,
              "#d8576b"
             ],
             [
              0.6666666666666666,
              "#ed7953"
             ],
             [
              0.7777777777777778,
              "#fb9f3a"
             ],
             [
              0.8888888888888888,
              "#fdca26"
             ],
             [
              1,
              "#f0f921"
             ]
            ],
            "type": "heatmap"
           }
          ],
          "heatmapgl": [
           {
            "colorbar": {
             "outlinewidth": 0,
             "ticks": ""
            },
            "colorscale": [
             [
              0,
              "#0d0887"
             ],
             [
              0.1111111111111111,
              "#46039f"
             ],
             [
              0.2222222222222222,
              "#7201a8"
             ],
             [
              0.3333333333333333,
              "#9c179e"
             ],
             [
              0.4444444444444444,
              "#bd3786"
             ],
             [
              0.5555555555555556,
              "#d8576b"
             ],
             [
              0.6666666666666666,
              "#ed7953"
             ],
             [
              0.7777777777777778,
              "#fb9f3a"
             ],
             [
              0.8888888888888888,
              "#fdca26"
             ],
             [
              1,
              "#f0f921"
             ]
            ],
            "type": "heatmapgl"
           }
          ],
          "histogram": [
           {
            "marker": {
             "pattern": {
              "fillmode": "overlay",
              "size": 10,
              "solidity": 0.2
             }
            },
            "type": "histogram"
           }
          ],
          "histogram2d": [
           {
            "colorbar": {
             "outlinewidth": 0,
             "ticks": ""
            },
            "colorscale": [
             [
              0,
              "#0d0887"
             ],
             [
              0.1111111111111111,
              "#46039f"
             ],
             [
              0.2222222222222222,
              "#7201a8"
             ],
             [
              0.3333333333333333,
              "#9c179e"
             ],
             [
              0.4444444444444444,
              "#bd3786"
             ],
             [
              0.5555555555555556,
              "#d8576b"
             ],
             [
              0.6666666666666666,
              "#ed7953"
             ],
             [
              0.7777777777777778,
              "#fb9f3a"
             ],
             [
              0.8888888888888888,
              "#fdca26"
             ],
             [
              1,
              "#f0f921"
             ]
            ],
            "type": "histogram2d"
           }
          ],
          "histogram2dcontour": [
           {
            "colorbar": {
             "outlinewidth": 0,
             "ticks": ""
            },
            "colorscale": [
             [
              0,
              "#0d0887"
             ],
             [
              0.1111111111111111,
              "#46039f"
             ],
             [
              0.2222222222222222,
              "#7201a8"
             ],
             [
              0.3333333333333333,
              "#9c179e"
             ],
             [
              0.4444444444444444,
              "#bd3786"
             ],
             [
              0.5555555555555556,
              "#d8576b"
             ],
             [
              0.6666666666666666,
              "#ed7953"
             ],
             [
              0.7777777777777778,
              "#fb9f3a"
             ],
             [
              0.8888888888888888,
              "#fdca26"
             ],
             [
              1,
              "#f0f921"
             ]
            ],
            "type": "histogram2dcontour"
           }
          ],
          "mesh3d": [
           {
            "colorbar": {
             "outlinewidth": 0,
             "ticks": ""
            },
            "type": "mesh3d"
           }
          ],
          "parcoords": [
           {
            "line": {
             "colorbar": {
              "outlinewidth": 0,
              "ticks": ""
             }
            },
            "type": "parcoords"
           }
          ],
          "pie": [
           {
            "automargin": true,
            "type": "pie"
           }
          ],
          "scatter": [
           {
            "fillpattern": {
             "fillmode": "overlay",
             "size": 10,
             "solidity": 0.2
            },
            "type": "scatter"
           }
          ],
          "scatter3d": [
           {
            "line": {
             "colorbar": {
              "outlinewidth": 0,
              "ticks": ""
             }
            },
            "marker": {
             "colorbar": {
              "outlinewidth": 0,
              "ticks": ""
             }
            },
            "type": "scatter3d"
           }
          ],
          "scattercarpet": [
           {
            "marker": {
             "colorbar": {
              "outlinewidth": 0,
              "ticks": ""
             }
            },
            "type": "scattercarpet"
           }
          ],
          "scattergeo": [
           {
            "marker": {
             "colorbar": {
              "outlinewidth": 0,
              "ticks": ""
             }
            },
            "type": "scattergeo"
           }
          ],
          "scattergl": [
           {
            "marker": {
             "colorbar": {
              "outlinewidth": 0,
              "ticks": ""
             }
            },
            "type": "scattergl"
           }
          ],
          "scattermapbox": [
           {
            "marker": {
             "colorbar": {
              "outlinewidth": 0,
              "ticks": ""
             }
            },
            "type": "scattermapbox"
           }
          ],
          "scatterpolar": [
           {
            "marker": {
             "colorbar": {
              "outlinewidth": 0,
              "ticks": ""
             }
            },
            "type": "scatterpolar"
           }
          ],
          "scatterpolargl": [
           {
            "marker": {
             "colorbar": {
              "outlinewidth": 0,
              "ticks": ""
             }
            },
            "type": "scatterpolargl"
           }
          ],
          "scatterternary": [
           {
            "marker": {
             "colorbar": {
              "outlinewidth": 0,
              "ticks": ""
             }
            },
            "type": "scatterternary"
           }
          ],
          "surface": [
           {
            "colorbar": {
             "outlinewidth": 0,
             "ticks": ""
            },
            "colorscale": [
             [
              0,
              "#0d0887"
             ],
             [
              0.1111111111111111,
              "#46039f"
             ],
             [
              0.2222222222222222,
              "#7201a8"
             ],
             [
              0.3333333333333333,
              "#9c179e"
             ],
             [
              0.4444444444444444,
              "#bd3786"
             ],
             [
              0.5555555555555556,
              "#d8576b"
             ],
             [
              0.6666666666666666,
              "#ed7953"
             ],
             [
              0.7777777777777778,
              "#fb9f3a"
             ],
             [
              0.8888888888888888,
              "#fdca26"
             ],
             [
              1,
              "#f0f921"
             ]
            ],
            "type": "surface"
           }
          ],
          "table": [
           {
            "cells": {
             "fill": {
              "color": "#EBF0F8"
             },
             "line": {
              "color": "white"
             }
            },
            "header": {
             "fill": {
              "color": "#C8D4E3"
             },
             "line": {
              "color": "white"
             }
            },
            "type": "table"
           }
          ]
         },
         "layout": {
          "annotationdefaults": {
           "arrowcolor": "#2a3f5f",
           "arrowhead": 0,
           "arrowwidth": 1
          },
          "autotypenumbers": "strict",
          "coloraxis": {
           "colorbar": {
            "outlinewidth": 0,
            "ticks": ""
           }
          },
          "colorscale": {
           "diverging": [
            [
             0,
             "#8e0152"
            ],
            [
             0.1,
             "#c51b7d"
            ],
            [
             0.2,
             "#de77ae"
            ],
            [
             0.3,
             "#f1b6da"
            ],
            [
             0.4,
             "#fde0ef"
            ],
            [
             0.5,
             "#f7f7f7"
            ],
            [
             0.6,
             "#e6f5d0"
            ],
            [
             0.7,
             "#b8e186"
            ],
            [
             0.8,
             "#7fbc41"
            ],
            [
             0.9,
             "#4d9221"
            ],
            [
             1,
             "#276419"
            ]
           ],
           "sequential": [
            [
             0,
             "#0d0887"
            ],
            [
             0.1111111111111111,
             "#46039f"
            ],
            [
             0.2222222222222222,
             "#7201a8"
            ],
            [
             0.3333333333333333,
             "#9c179e"
            ],
            [
             0.4444444444444444,
             "#bd3786"
            ],
            [
             0.5555555555555556,
             "#d8576b"
            ],
            [
             0.6666666666666666,
             "#ed7953"
            ],
            [
             0.7777777777777778,
             "#fb9f3a"
            ],
            [
             0.8888888888888888,
             "#fdca26"
            ],
            [
             1,
             "#f0f921"
            ]
           ],
           "sequentialminus": [
            [
             0,
             "#0d0887"
            ],
            [
             0.1111111111111111,
             "#46039f"
            ],
            [
             0.2222222222222222,
             "#7201a8"
            ],
            [
             0.3333333333333333,
             "#9c179e"
            ],
            [
             0.4444444444444444,
             "#bd3786"
            ],
            [
             0.5555555555555556,
             "#d8576b"
            ],
            [
             0.6666666666666666,
             "#ed7953"
            ],
            [
             0.7777777777777778,
             "#fb9f3a"
            ],
            [
             0.8888888888888888,
             "#fdca26"
            ],
            [
             1,
             "#f0f921"
            ]
           ]
          },
          "colorway": [
           "#636efa",
           "#EF553B",
           "#00cc96",
           "#ab63fa",
           "#FFA15A",
           "#19d3f3",
           "#FF6692",
           "#B6E880",
           "#FF97FF",
           "#FECB52"
          ],
          "font": {
           "color": "#2a3f5f"
          },
          "geo": {
           "bgcolor": "white",
           "lakecolor": "white",
           "landcolor": "#E5ECF6",
           "showlakes": true,
           "showland": true,
           "subunitcolor": "white"
          },
          "hoverlabel": {
           "align": "left"
          },
          "hovermode": "closest",
          "mapbox": {
           "style": "light"
          },
          "paper_bgcolor": "white",
          "plot_bgcolor": "#E5ECF6",
          "polar": {
           "angularaxis": {
            "gridcolor": "white",
            "linecolor": "white",
            "ticks": ""
           },
           "bgcolor": "#E5ECF6",
           "radialaxis": {
            "gridcolor": "white",
            "linecolor": "white",
            "ticks": ""
           }
          },
          "scene": {
           "xaxis": {
            "backgroundcolor": "#E5ECF6",
            "gridcolor": "white",
            "gridwidth": 2,
            "linecolor": "white",
            "showbackground": true,
            "ticks": "",
            "zerolinecolor": "white"
           },
           "yaxis": {
            "backgroundcolor": "#E5ECF6",
            "gridcolor": "white",
            "gridwidth": 2,
            "linecolor": "white",
            "showbackground": true,
            "ticks": "",
            "zerolinecolor": "white"
           },
           "zaxis": {
            "backgroundcolor": "#E5ECF6",
            "gridcolor": "white",
            "gridwidth": 2,
            "linecolor": "white",
            "showbackground": true,
            "ticks": "",
            "zerolinecolor": "white"
           }
          },
          "shapedefaults": {
           "line": {
            "color": "#2a3f5f"
           }
          },
          "ternary": {
           "aaxis": {
            "gridcolor": "white",
            "linecolor": "white",
            "ticks": ""
           },
           "baxis": {
            "gridcolor": "white",
            "linecolor": "white",
            "ticks": ""
           },
           "bgcolor": "#E5ECF6",
           "caxis": {
            "gridcolor": "white",
            "linecolor": "white",
            "ticks": ""
           }
          },
          "title": {
           "x": 0.05
          },
          "xaxis": {
           "automargin": true,
           "gridcolor": "white",
           "linecolor": "white",
           "ticks": "",
           "title": {
            "standoff": 15
           },
           "zerolinecolor": "white",
           "zerolinewidth": 2
          },
          "yaxis": {
           "automargin": true,
           "gridcolor": "white",
           "linecolor": "white",
           "ticks": "",
           "title": {
            "standoff": 15
           },
           "zerolinecolor": "white",
           "zerolinewidth": 2
          }
         }
        },
        "xaxis": {
         "anchor": "y",
         "domain": [
          0,
          1
         ],
         "title": {
          "text": "TouDefPen"
         }
        },
        "yaxis": {
         "anchor": "x",
         "domain": [
          0,
          1
         ],
         "title": {
          "text": "count"
         }
        }
       }
      }
     },
     "metadata": {},
     "output_type": "display_data"
    }
   ],
   "source": [
    "px.histogram(Goleiros.head(30), x = \"TouDefPen\", color = 'Player').show()"
   ]
  },
  {
   "cell_type": "code",
   "execution_count": null,
   "metadata": {},
   "outputs": [],
   "source": [
    "#Recov, AerWon, AerLost, TouDefPen, Err, Int, TouLive, Rec\n",
    "#GcaDef, GCA, OG"
   ]
  },
  {
   "cell_type": "code",
   "execution_count": 197,
   "metadata": {},
   "outputs": [],
   "source": [
    "positivos = Goleiros['Rec'] + Goleiros['TouLive']  + Goleiros['TouDefPen'] * 2 + Goleiros['Recov'] * 3 + Goleiros['Blocks'] * 2 + Goleiros['AerWon'] * 2 + Goleiros['TB'] + Goleiros['Tkl+Int'] + Goleiros['MP']\n",
    "\n",
    "negativos = (Goleiros['PasTotAtt'] - Goleiros['PasTotCmp']) * 6 + Goleiros['AerLost'] * 5 + Goleiros['CrdY'] * 2 + Goleiros['CrdR'] * 4 + Goleiros['Fls'] * 6  + Goleiros['Err'] * 10"
   ]
  },
  {
   "cell_type": "code",
   "execution_count": 198,
   "metadata": {},
   "outputs": [
    {
     "data": {
      "text/html": [
       "<div>\n",
       "<style scoped>\n",
       "    .dataframe tbody tr th:only-of-type {\n",
       "        vertical-align: middle;\n",
       "    }\n",
       "\n",
       "    .dataframe tbody tr th {\n",
       "        vertical-align: top;\n",
       "    }\n",
       "\n",
       "    .dataframe thead th {\n",
       "        text-align: right;\n",
       "    }\n",
       "</style>\n",
       "<table border=\"1\" class=\"dataframe\">\n",
       "  <thead>\n",
       "    <tr style=\"text-align: right;\">\n",
       "      <th></th>\n",
       "      <th>Player</th>\n",
       "      <th>Pos</th>\n",
       "      <th>score</th>\n",
       "    </tr>\n",
       "  </thead>\n",
       "  <tbody>\n",
       "    <tr>\n",
       "      <th>147</th>\n",
       "      <td>Yann Sommer</td>\n",
       "      <td>GK</td>\n",
       "      <td>140.90</td>\n",
       "    </tr>\n",
       "    <tr>\n",
       "      <th>100</th>\n",
       "      <td>Manuel Neuer</td>\n",
       "      <td>GK</td>\n",
       "      <td>132.45</td>\n",
       "    </tr>\n",
       "    <tr>\n",
       "      <th>92</th>\n",
       "      <td>Alexander Meyer</td>\n",
       "      <td>GK</td>\n",
       "      <td>124.45</td>\n",
       "    </tr>\n",
       "    <tr>\n",
       "      <th>7</th>\n",
       "      <td>Oliver Baumann</td>\n",
       "      <td>GK</td>\n",
       "      <td>118.35</td>\n",
       "    </tr>\n",
       "    <tr>\n",
       "      <th>58</th>\n",
       "      <td>Samir Handanovi?</td>\n",
       "      <td>GK</td>\n",
       "      <td>118.10</td>\n",
       "    </tr>\n",
       "    <tr>\n",
       "      <th>146</th>\n",
       "      <td>Yann Sommer</td>\n",
       "      <td>GK</td>\n",
       "      <td>117.20</td>\n",
       "    </tr>\n",
       "    <tr>\n",
       "      <th>1</th>\n",
       "      <td>Alisson</td>\n",
       "      <td>GK</td>\n",
       "      <td>116.10</td>\n",
       "    </tr>\n",
       "    <tr>\n",
       "      <th>39</th>\n",
       "      <td>Ederson</td>\n",
       "      <td>GK</td>\n",
       "      <td>115.90</td>\n",
       "    </tr>\n",
       "    <tr>\n",
       "      <th>13</th>\n",
       "      <td>Janis Blaswich</td>\n",
       "      <td>GK</td>\n",
       "      <td>115.82</td>\n",
       "    </tr>\n",
       "    <tr>\n",
       "      <th>156</th>\n",
       "      <td>Sven Ulreich</td>\n",
       "      <td>GK</td>\n",
       "      <td>115.40</td>\n",
       "    </tr>\n",
       "  </tbody>\n",
       "</table>\n",
       "</div>"
      ],
      "text/plain": [
       "               Player Pos   score\n",
       "147       Yann Sommer  GK  140.90\n",
       "100      Manuel Neuer  GK  132.45\n",
       "92    Alexander Meyer  GK  124.45\n",
       "7      Oliver Baumann  GK  118.35\n",
       "58   Samir Handanovi?  GK  118.10\n",
       "146       Yann Sommer  GK  117.20\n",
       "1             Alisson  GK  116.10\n",
       "39            Ederson  GK  115.90\n",
       "13     Janis Blaswich  GK  115.82\n",
       "156      Sven Ulreich  GK  115.40"
      ]
     },
     "execution_count": 198,
     "metadata": {},
     "output_type": "execute_result"
    }
   ],
   "source": [
    "Goleiros['score'] = positivos - negativos\n",
    "Goleiros.sort_values(['score'], ascending = False, inplace = True)\n",
    "Goleiros[['Player', 'Pos','score']].head(10)"
   ]
  },
  {
   "cell_type": "code",
   "execution_count": 199,
   "metadata": {},
   "outputs": [
    {
     "data": {
      "application/vnd.plotly.v1+json": {
       "config": {
        "plotlyServerURL": "https://plot.ly"
       },
       "data": [
        {
         "alignmentgroup": "True",
         "bingroup": "x",
         "hovertemplate": "score=%{x}<br>count=%{y}<extra></extra>",
         "legendgroup": "",
         "marker": {
          "color": "#636efa",
          "pattern": {
           "shape": ""
          }
         },
         "name": "",
         "offsetgroup": "",
         "orientation": "v",
         "showlegend": false,
         "type": "histogram",
         "x": [
          140.89999999999998,
          132.45,
          124.44999999999996,
          118.35000000000002,
          118.1,
          117.19999999999999,
          116.10000000000002,
          115.89999999999999,
          115.81999999999998,
          115.4,
          112.77999999999997,
          112.13,
          111.95000000000002,
          109.96999999999998,
          109.26999999999998,
          109.17000000000002,
          109,
          107.06,
          106.98000000000003,
          106.59999999999997,
          106.4,
          104.5,
          103.50000000000003,
          103.44999999999996,
          102.60000000000002,
          102.58,
          102.10000000000002,
          100.79,
          100.19999999999999,
          100.00000000000003,
          98.60000000000002,
          97.5,
          97.36999999999999,
          96.74000000000001,
          96.6,
          96.30000000000001,
          95.66999999999997,
          93.25,
          92.44,
          92,
          91.44999999999999,
          91.44999999999999,
          91.40000000000002,
          91.4,
          91.11000000000001,
          91,
          90.88999999999999,
          89.81,
          89.56000000000003,
          89.25000000000003,
          88.55000000000001,
          88.14999999999998,
          88.03,
          88,
          87.36000000000001,
          87.05999999999999,
          86.57,
          86.51000000000002,
          85.70000000000002,
          85.45000000000002,
          85.35999999999999,
          84.88,
          83.78,
          83.57,
          83.45,
          83.22999999999999,
          83.00000000000003,
          82.93000000000002,
          82.59000000000002,
          82.35000000000002,
          82.05,
          81.5,
          78.58,
          78.37,
          78,
          77.96999999999998,
          77.46,
          77.25000000000001,
          76.65999999999998,
          75.94999999999997,
          75.25999999999999,
          74.8,
          74.52000000000001,
          74.36999999999998,
          74.28000000000003,
          74.20000000000003,
          72.50000000000001,
          72.27999999999997,
          72.02000000000001,
          71.75,
          71.64,
          71.48000000000002,
          71.42999999999998,
          71.09,
          70.52999999999997,
          70.44000000000001,
          70.38999999999999,
          68.58,
          68.57000000000002,
          68.5,
          66.84999999999997,
          66.74000000000001,
          65.27000000000001,
          63.08,
          62.50000000000003,
          62.400000000000034,
          61.870000000000026,
          61.75999999999999,
          61.40999999999998,
          61.09000000000002,
          60.67000000000003,
          60.57000000000002,
          60,
          60,
          59.44999999999998,
          59.43000000000003,
          59.24999999999999,
          59.22,
          58.02,
          57.43000000000001,
          57.14000000000003,
          57,
          56.209999999999994,
          56.050000000000026,
          55.39999999999998,
          54.94,
          54.84,
          54.5,
          53.64999999999999,
          53.40000000000001,
          53.099999999999994,
          51.280000000000015,
          50.83000000000001,
          49.34,
          49.17,
          48.90999999999998,
          45.45,
          45,
          44.199999999999996,
          43.999999999999986,
          43.19999999999999,
          43,
          42,
          41.41,
          41.14999999999998,
          41.02999999999999,
          40.19000000000004,
          39.900000000000006,
          39.50000000000003,
          38.09999999999998,
          38,
          35.90000000000002,
          33.870000000000005,
          33.38999999999996,
          32,
          27.329999999999984,
          18.770000000000024,
          16.229999999999997,
          10.000000000000043,
          7.5,
          4.98,
          -5.6699999999999875,
          -9,
          -18.539999999999978
         ],
         "xaxis": "x",
         "yaxis": "y"
        }
       ],
       "layout": {
        "barmode": "relative",
        "legend": {
         "tracegroupgap": 0
        },
        "margin": {
         "t": 60
        },
        "template": {
         "data": {
          "bar": [
           {
            "error_x": {
             "color": "#2a3f5f"
            },
            "error_y": {
             "color": "#2a3f5f"
            },
            "marker": {
             "line": {
              "color": "#E5ECF6",
              "width": 0.5
             },
             "pattern": {
              "fillmode": "overlay",
              "size": 10,
              "solidity": 0.2
             }
            },
            "type": "bar"
           }
          ],
          "barpolar": [
           {
            "marker": {
             "line": {
              "color": "#E5ECF6",
              "width": 0.5
             },
             "pattern": {
              "fillmode": "overlay",
              "size": 10,
              "solidity": 0.2
             }
            },
            "type": "barpolar"
           }
          ],
          "carpet": [
           {
            "aaxis": {
             "endlinecolor": "#2a3f5f",
             "gridcolor": "white",
             "linecolor": "white",
             "minorgridcolor": "white",
             "startlinecolor": "#2a3f5f"
            },
            "baxis": {
             "endlinecolor": "#2a3f5f",
             "gridcolor": "white",
             "linecolor": "white",
             "minorgridcolor": "white",
             "startlinecolor": "#2a3f5f"
            },
            "type": "carpet"
           }
          ],
          "choropleth": [
           {
            "colorbar": {
             "outlinewidth": 0,
             "ticks": ""
            },
            "type": "choropleth"
           }
          ],
          "contour": [
           {
            "colorbar": {
             "outlinewidth": 0,
             "ticks": ""
            },
            "colorscale": [
             [
              0,
              "#0d0887"
             ],
             [
              0.1111111111111111,
              "#46039f"
             ],
             [
              0.2222222222222222,
              "#7201a8"
             ],
             [
              0.3333333333333333,
              "#9c179e"
             ],
             [
              0.4444444444444444,
              "#bd3786"
             ],
             [
              0.5555555555555556,
              "#d8576b"
             ],
             [
              0.6666666666666666,
              "#ed7953"
             ],
             [
              0.7777777777777778,
              "#fb9f3a"
             ],
             [
              0.8888888888888888,
              "#fdca26"
             ],
             [
              1,
              "#f0f921"
             ]
            ],
            "type": "contour"
           }
          ],
          "contourcarpet": [
           {
            "colorbar": {
             "outlinewidth": 0,
             "ticks": ""
            },
            "type": "contourcarpet"
           }
          ],
          "heatmap": [
           {
            "colorbar": {
             "outlinewidth": 0,
             "ticks": ""
            },
            "colorscale": [
             [
              0,
              "#0d0887"
             ],
             [
              0.1111111111111111,
              "#46039f"
             ],
             [
              0.2222222222222222,
              "#7201a8"
             ],
             [
              0.3333333333333333,
              "#9c179e"
             ],
             [
              0.4444444444444444,
              "#bd3786"
             ],
             [
              0.5555555555555556,
              "#d8576b"
             ],
             [
              0.6666666666666666,
              "#ed7953"
             ],
             [
              0.7777777777777778,
              "#fb9f3a"
             ],
             [
              0.8888888888888888,
              "#fdca26"
             ],
             [
              1,
              "#f0f921"
             ]
            ],
            "type": "heatmap"
           }
          ],
          "heatmapgl": [
           {
            "colorbar": {
             "outlinewidth": 0,
             "ticks": ""
            },
            "colorscale": [
             [
              0,
              "#0d0887"
             ],
             [
              0.1111111111111111,
              "#46039f"
             ],
             [
              0.2222222222222222,
              "#7201a8"
             ],
             [
              0.3333333333333333,
              "#9c179e"
             ],
             [
              0.4444444444444444,
              "#bd3786"
             ],
             [
              0.5555555555555556,
              "#d8576b"
             ],
             [
              0.6666666666666666,
              "#ed7953"
             ],
             [
              0.7777777777777778,
              "#fb9f3a"
             ],
             [
              0.8888888888888888,
              "#fdca26"
             ],
             [
              1,
              "#f0f921"
             ]
            ],
            "type": "heatmapgl"
           }
          ],
          "histogram": [
           {
            "marker": {
             "pattern": {
              "fillmode": "overlay",
              "size": 10,
              "solidity": 0.2
             }
            },
            "type": "histogram"
           }
          ],
          "histogram2d": [
           {
            "colorbar": {
             "outlinewidth": 0,
             "ticks": ""
            },
            "colorscale": [
             [
              0,
              "#0d0887"
             ],
             [
              0.1111111111111111,
              "#46039f"
             ],
             [
              0.2222222222222222,
              "#7201a8"
             ],
             [
              0.3333333333333333,
              "#9c179e"
             ],
             [
              0.4444444444444444,
              "#bd3786"
             ],
             [
              0.5555555555555556,
              "#d8576b"
             ],
             [
              0.6666666666666666,
              "#ed7953"
             ],
             [
              0.7777777777777778,
              "#fb9f3a"
             ],
             [
              0.8888888888888888,
              "#fdca26"
             ],
             [
              1,
              "#f0f921"
             ]
            ],
            "type": "histogram2d"
           }
          ],
          "histogram2dcontour": [
           {
            "colorbar": {
             "outlinewidth": 0,
             "ticks": ""
            },
            "colorscale": [
             [
              0,
              "#0d0887"
             ],
             [
              0.1111111111111111,
              "#46039f"
             ],
             [
              0.2222222222222222,
              "#7201a8"
             ],
             [
              0.3333333333333333,
              "#9c179e"
             ],
             [
              0.4444444444444444,
              "#bd3786"
             ],
             [
              0.5555555555555556,
              "#d8576b"
             ],
             [
              0.6666666666666666,
              "#ed7953"
             ],
             [
              0.7777777777777778,
              "#fb9f3a"
             ],
             [
              0.8888888888888888,
              "#fdca26"
             ],
             [
              1,
              "#f0f921"
             ]
            ],
            "type": "histogram2dcontour"
           }
          ],
          "mesh3d": [
           {
            "colorbar": {
             "outlinewidth": 0,
             "ticks": ""
            },
            "type": "mesh3d"
           }
          ],
          "parcoords": [
           {
            "line": {
             "colorbar": {
              "outlinewidth": 0,
              "ticks": ""
             }
            },
            "type": "parcoords"
           }
          ],
          "pie": [
           {
            "automargin": true,
            "type": "pie"
           }
          ],
          "scatter": [
           {
            "fillpattern": {
             "fillmode": "overlay",
             "size": 10,
             "solidity": 0.2
            },
            "type": "scatter"
           }
          ],
          "scatter3d": [
           {
            "line": {
             "colorbar": {
              "outlinewidth": 0,
              "ticks": ""
             }
            },
            "marker": {
             "colorbar": {
              "outlinewidth": 0,
              "ticks": ""
             }
            },
            "type": "scatter3d"
           }
          ],
          "scattercarpet": [
           {
            "marker": {
             "colorbar": {
              "outlinewidth": 0,
              "ticks": ""
             }
            },
            "type": "scattercarpet"
           }
          ],
          "scattergeo": [
           {
            "marker": {
             "colorbar": {
              "outlinewidth": 0,
              "ticks": ""
             }
            },
            "type": "scattergeo"
           }
          ],
          "scattergl": [
           {
            "marker": {
             "colorbar": {
              "outlinewidth": 0,
              "ticks": ""
             }
            },
            "type": "scattergl"
           }
          ],
          "scattermapbox": [
           {
            "marker": {
             "colorbar": {
              "outlinewidth": 0,
              "ticks": ""
             }
            },
            "type": "scattermapbox"
           }
          ],
          "scatterpolar": [
           {
            "marker": {
             "colorbar": {
              "outlinewidth": 0,
              "ticks": ""
             }
            },
            "type": "scatterpolar"
           }
          ],
          "scatterpolargl": [
           {
            "marker": {
             "colorbar": {
              "outlinewidth": 0,
              "ticks": ""
             }
            },
            "type": "scatterpolargl"
           }
          ],
          "scatterternary": [
           {
            "marker": {
             "colorbar": {
              "outlinewidth": 0,
              "ticks": ""
             }
            },
            "type": "scatterternary"
           }
          ],
          "surface": [
           {
            "colorbar": {
             "outlinewidth": 0,
             "ticks": ""
            },
            "colorscale": [
             [
              0,
              "#0d0887"
             ],
             [
              0.1111111111111111,
              "#46039f"
             ],
             [
              0.2222222222222222,
              "#7201a8"
             ],
             [
              0.3333333333333333,
              "#9c179e"
             ],
             [
              0.4444444444444444,
              "#bd3786"
             ],
             [
              0.5555555555555556,
              "#d8576b"
             ],
             [
              0.6666666666666666,
              "#ed7953"
             ],
             [
              0.7777777777777778,
              "#fb9f3a"
             ],
             [
              0.8888888888888888,
              "#fdca26"
             ],
             [
              1,
              "#f0f921"
             ]
            ],
            "type": "surface"
           }
          ],
          "table": [
           {
            "cells": {
             "fill": {
              "color": "#EBF0F8"
             },
             "line": {
              "color": "white"
             }
            },
            "header": {
             "fill": {
              "color": "#C8D4E3"
             },
             "line": {
              "color": "white"
             }
            },
            "type": "table"
           }
          ]
         },
         "layout": {
          "annotationdefaults": {
           "arrowcolor": "#2a3f5f",
           "arrowhead": 0,
           "arrowwidth": 1
          },
          "autotypenumbers": "strict",
          "coloraxis": {
           "colorbar": {
            "outlinewidth": 0,
            "ticks": ""
           }
          },
          "colorscale": {
           "diverging": [
            [
             0,
             "#8e0152"
            ],
            [
             0.1,
             "#c51b7d"
            ],
            [
             0.2,
             "#de77ae"
            ],
            [
             0.3,
             "#f1b6da"
            ],
            [
             0.4,
             "#fde0ef"
            ],
            [
             0.5,
             "#f7f7f7"
            ],
            [
             0.6,
             "#e6f5d0"
            ],
            [
             0.7,
             "#b8e186"
            ],
            [
             0.8,
             "#7fbc41"
            ],
            [
             0.9,
             "#4d9221"
            ],
            [
             1,
             "#276419"
            ]
           ],
           "sequential": [
            [
             0,
             "#0d0887"
            ],
            [
             0.1111111111111111,
             "#46039f"
            ],
            [
             0.2222222222222222,
             "#7201a8"
            ],
            [
             0.3333333333333333,
             "#9c179e"
            ],
            [
             0.4444444444444444,
             "#bd3786"
            ],
            [
             0.5555555555555556,
             "#d8576b"
            ],
            [
             0.6666666666666666,
             "#ed7953"
            ],
            [
             0.7777777777777778,
             "#fb9f3a"
            ],
            [
             0.8888888888888888,
             "#fdca26"
            ],
            [
             1,
             "#f0f921"
            ]
           ],
           "sequentialminus": [
            [
             0,
             "#0d0887"
            ],
            [
             0.1111111111111111,
             "#46039f"
            ],
            [
             0.2222222222222222,
             "#7201a8"
            ],
            [
             0.3333333333333333,
             "#9c179e"
            ],
            [
             0.4444444444444444,
             "#bd3786"
            ],
            [
             0.5555555555555556,
             "#d8576b"
            ],
            [
             0.6666666666666666,
             "#ed7953"
            ],
            [
             0.7777777777777778,
             "#fb9f3a"
            ],
            [
             0.8888888888888888,
             "#fdca26"
            ],
            [
             1,
             "#f0f921"
            ]
           ]
          },
          "colorway": [
           "#636efa",
           "#EF553B",
           "#00cc96",
           "#ab63fa",
           "#FFA15A",
           "#19d3f3",
           "#FF6692",
           "#B6E880",
           "#FF97FF",
           "#FECB52"
          ],
          "font": {
           "color": "#2a3f5f"
          },
          "geo": {
           "bgcolor": "white",
           "lakecolor": "white",
           "landcolor": "#E5ECF6",
           "showlakes": true,
           "showland": true,
           "subunitcolor": "white"
          },
          "hoverlabel": {
           "align": "left"
          },
          "hovermode": "closest",
          "mapbox": {
           "style": "light"
          },
          "paper_bgcolor": "white",
          "plot_bgcolor": "#E5ECF6",
          "polar": {
           "angularaxis": {
            "gridcolor": "white",
            "linecolor": "white",
            "ticks": ""
           },
           "bgcolor": "#E5ECF6",
           "radialaxis": {
            "gridcolor": "white",
            "linecolor": "white",
            "ticks": ""
           }
          },
          "scene": {
           "xaxis": {
            "backgroundcolor": "#E5ECF6",
            "gridcolor": "white",
            "gridwidth": 2,
            "linecolor": "white",
            "showbackground": true,
            "ticks": "",
            "zerolinecolor": "white"
           },
           "yaxis": {
            "backgroundcolor": "#E5ECF6",
            "gridcolor": "white",
            "gridwidth": 2,
            "linecolor": "white",
            "showbackground": true,
            "ticks": "",
            "zerolinecolor": "white"
           },
           "zaxis": {
            "backgroundcolor": "#E5ECF6",
            "gridcolor": "white",
            "gridwidth": 2,
            "linecolor": "white",
            "showbackground": true,
            "ticks": "",
            "zerolinecolor": "white"
           }
          },
          "shapedefaults": {
           "line": {
            "color": "#2a3f5f"
           }
          },
          "ternary": {
           "aaxis": {
            "gridcolor": "white",
            "linecolor": "white",
            "ticks": ""
           },
           "baxis": {
            "gridcolor": "white",
            "linecolor": "white",
            "ticks": ""
           },
           "bgcolor": "#E5ECF6",
           "caxis": {
            "gridcolor": "white",
            "linecolor": "white",
            "ticks": ""
           }
          },
          "title": {
           "x": 0.05
          },
          "xaxis": {
           "automargin": true,
           "gridcolor": "white",
           "linecolor": "white",
           "ticks": "",
           "title": {
            "standoff": 15
           },
           "zerolinecolor": "white",
           "zerolinewidth": 2
          },
          "yaxis": {
           "automargin": true,
           "gridcolor": "white",
           "linecolor": "white",
           "ticks": "",
           "title": {
            "standoff": 15
           },
           "zerolinecolor": "white",
           "zerolinewidth": 2
          }
         }
        },
        "xaxis": {
         "anchor": "y",
         "domain": [
          0,
          1
         ],
         "title": {
          "text": "score"
         }
        },
        "yaxis": {
         "anchor": "x",
         "domain": [
          0,
          1
         ],
         "title": {
          "text": "count"
         }
        }
       }
      }
     },
     "metadata": {},
     "output_type": "display_data"
    }
   ],
   "source": [
    "px.histogram(Goleiros, x='score').show()"
   ]
  },
  {
   "cell_type": "code",
   "execution_count": 200,
   "metadata": {},
   "outputs": [
    {
     "name": "stdout",
     "output_type": "stream",
     "text": [
      "desvio de 28.302496429222302\n",
      "media de 73.31762195121951\n"
     ]
    }
   ],
   "source": [
    "dev = Goleiros['score'].std()\n",
    "media = Goleiros['score'].mean()\n",
    "print(f'desvio de {dev}\\nmedia de {media}')"
   ]
  },
  {
   "cell_type": "code",
   "execution_count": 201,
   "metadata": {},
   "outputs": [],
   "source": [
    "bom = media + dev * 2\n",
    "normal = media  + dev\n",
    "fraco = media - dev\n",
    "muito_fraco = media - dev * 2"
   ]
  },
  {
   "cell_type": "code",
   "execution_count": 109,
   "metadata": {},
   "outputs": [],
   "source": [
    "def assign_score(score):\n",
    "    if score > bom:\n",
    "        return 'Excelente'\n",
    "    elif score > normal:\n",
    "        return 'Bom'\n",
    "    elif score > fraco:\n",
    "        return 'Mediano'\n",
    "    elif score > muito_fraco:\n",
    "        return 'Ruim'\n",
    "    else:\n",
    "        return 'Pessimo'"
   ]
  },
  {
   "cell_type": "code",
   "execution_count": 202,
   "metadata": {},
   "outputs": [],
   "source": [
    "Goleiros['Desempenho'] = Goleiros['score'].apply(assign_score)"
   ]
  },
  {
   "cell_type": "code",
   "execution_count": 203,
   "metadata": {},
   "outputs": [
    {
     "data": {
      "application/vnd.plotly.v1+json": {
       "config": {
        "plotlyServerURL": "https://plot.ly"
       },
       "data": [
        {
         "alignmentgroup": "True",
         "bingroup": "x",
         "hovertemplate": "Desempenho=%{x}<br>count=%{y}<extra></extra>",
         "legendgroup": "",
         "marker": {
          "color": "#636efa",
          "pattern": {
           "shape": ""
          }
         },
         "name": "",
         "offsetgroup": "",
         "orientation": "v",
         "showlegend": false,
         "type": "histogram",
         "x": [
          "Excelente",
          "Excelente",
          "Bom",
          "Bom",
          "Bom",
          "Bom",
          "Bom",
          "Bom",
          "Bom",
          "Bom",
          "Bom",
          "Bom",
          "Bom",
          "Bom",
          "Bom",
          "Bom",
          "Bom",
          "Bom",
          "Bom",
          "Bom",
          "Bom",
          "Bom",
          "Bom",
          "Bom",
          "Bom",
          "Bom",
          "Bom",
          "Mediano",
          "Mediano",
          "Mediano",
          "Mediano",
          "Mediano",
          "Mediano",
          "Mediano",
          "Mediano",
          "Mediano",
          "Mediano",
          "Mediano",
          "Mediano",
          "Mediano",
          "Mediano",
          "Mediano",
          "Mediano",
          "Mediano",
          "Mediano",
          "Mediano",
          "Mediano",
          "Mediano",
          "Mediano",
          "Mediano",
          "Mediano",
          "Mediano",
          "Mediano",
          "Mediano",
          "Mediano",
          "Mediano",
          "Mediano",
          "Mediano",
          "Mediano",
          "Mediano",
          "Mediano",
          "Mediano",
          "Mediano",
          "Mediano",
          "Mediano",
          "Mediano",
          "Mediano",
          "Mediano",
          "Mediano",
          "Mediano",
          "Mediano",
          "Mediano",
          "Mediano",
          "Mediano",
          "Mediano",
          "Mediano",
          "Mediano",
          "Mediano",
          "Mediano",
          "Mediano",
          "Mediano",
          "Mediano",
          "Mediano",
          "Mediano",
          "Mediano",
          "Mediano",
          "Mediano",
          "Mediano",
          "Mediano",
          "Mediano",
          "Mediano",
          "Mediano",
          "Mediano",
          "Mediano",
          "Mediano",
          "Mediano",
          "Mediano",
          "Mediano",
          "Mediano",
          "Mediano",
          "Mediano",
          "Mediano",
          "Mediano",
          "Mediano",
          "Mediano",
          "Mediano",
          "Mediano",
          "Mediano",
          "Mediano",
          "Mediano",
          "Mediano",
          "Mediano",
          "Mediano",
          "Mediano",
          "Mediano",
          "Mediano",
          "Mediano",
          "Mediano",
          "Mediano",
          "Mediano",
          "Mediano",
          "Mediano",
          "Mediano",
          "Mediano",
          "Mediano",
          "Mediano",
          "Mediano",
          "Mediano",
          "Mediano",
          "Mediano",
          "Mediano",
          "Mediano",
          "Mediano",
          "Mediano",
          "Mediano",
          "Mediano",
          "Mediano",
          "Ruim",
          "Ruim",
          "Ruim",
          "Ruim",
          "Ruim",
          "Ruim",
          "Ruim",
          "Ruim",
          "Ruim",
          "Ruim",
          "Ruim",
          "Ruim",
          "Ruim",
          "Ruim",
          "Ruim",
          "Ruim",
          "Ruim",
          "Ruim",
          "Ruim",
          "Ruim",
          "Pessimo",
          "Pessimo",
          "Pessimo",
          "Pessimo",
          "Pessimo",
          "Pessimo",
          "Pessimo"
         ],
         "xaxis": "x",
         "yaxis": "y"
        }
       ],
       "layout": {
        "barmode": "relative",
        "legend": {
         "tracegroupgap": 0
        },
        "margin": {
         "t": 60
        },
        "template": {
         "data": {
          "bar": [
           {
            "error_x": {
             "color": "#2a3f5f"
            },
            "error_y": {
             "color": "#2a3f5f"
            },
            "marker": {
             "line": {
              "color": "#E5ECF6",
              "width": 0.5
             },
             "pattern": {
              "fillmode": "overlay",
              "size": 10,
              "solidity": 0.2
             }
            },
            "type": "bar"
           }
          ],
          "barpolar": [
           {
            "marker": {
             "line": {
              "color": "#E5ECF6",
              "width": 0.5
             },
             "pattern": {
              "fillmode": "overlay",
              "size": 10,
              "solidity": 0.2
             }
            },
            "type": "barpolar"
           }
          ],
          "carpet": [
           {
            "aaxis": {
             "endlinecolor": "#2a3f5f",
             "gridcolor": "white",
             "linecolor": "white",
             "minorgridcolor": "white",
             "startlinecolor": "#2a3f5f"
            },
            "baxis": {
             "endlinecolor": "#2a3f5f",
             "gridcolor": "white",
             "linecolor": "white",
             "minorgridcolor": "white",
             "startlinecolor": "#2a3f5f"
            },
            "type": "carpet"
           }
          ],
          "choropleth": [
           {
            "colorbar": {
             "outlinewidth": 0,
             "ticks": ""
            },
            "type": "choropleth"
           }
          ],
          "contour": [
           {
            "colorbar": {
             "outlinewidth": 0,
             "ticks": ""
            },
            "colorscale": [
             [
              0,
              "#0d0887"
             ],
             [
              0.1111111111111111,
              "#46039f"
             ],
             [
              0.2222222222222222,
              "#7201a8"
             ],
             [
              0.3333333333333333,
              "#9c179e"
             ],
             [
              0.4444444444444444,
              "#bd3786"
             ],
             [
              0.5555555555555556,
              "#d8576b"
             ],
             [
              0.6666666666666666,
              "#ed7953"
             ],
             [
              0.7777777777777778,
              "#fb9f3a"
             ],
             [
              0.8888888888888888,
              "#fdca26"
             ],
             [
              1,
              "#f0f921"
             ]
            ],
            "type": "contour"
           }
          ],
          "contourcarpet": [
           {
            "colorbar": {
             "outlinewidth": 0,
             "ticks": ""
            },
            "type": "contourcarpet"
           }
          ],
          "heatmap": [
           {
            "colorbar": {
             "outlinewidth": 0,
             "ticks": ""
            },
            "colorscale": [
             [
              0,
              "#0d0887"
             ],
             [
              0.1111111111111111,
              "#46039f"
             ],
             [
              0.2222222222222222,
              "#7201a8"
             ],
             [
              0.3333333333333333,
              "#9c179e"
             ],
             [
              0.4444444444444444,
              "#bd3786"
             ],
             [
              0.5555555555555556,
              "#d8576b"
             ],
             [
              0.6666666666666666,
              "#ed7953"
             ],
             [
              0.7777777777777778,
              "#fb9f3a"
             ],
             [
              0.8888888888888888,
              "#fdca26"
             ],
             [
              1,
              "#f0f921"
             ]
            ],
            "type": "heatmap"
           }
          ],
          "heatmapgl": [
           {
            "colorbar": {
             "outlinewidth": 0,
             "ticks": ""
            },
            "colorscale": [
             [
              0,
              "#0d0887"
             ],
             [
              0.1111111111111111,
              "#46039f"
             ],
             [
              0.2222222222222222,
              "#7201a8"
             ],
             [
              0.3333333333333333,
              "#9c179e"
             ],
             [
              0.4444444444444444,
              "#bd3786"
             ],
             [
              0.5555555555555556,
              "#d8576b"
             ],
             [
              0.6666666666666666,
              "#ed7953"
             ],
             [
              0.7777777777777778,
              "#fb9f3a"
             ],
             [
              0.8888888888888888,
              "#fdca26"
             ],
             [
              1,
              "#f0f921"
             ]
            ],
            "type": "heatmapgl"
           }
          ],
          "histogram": [
           {
            "marker": {
             "pattern": {
              "fillmode": "overlay",
              "size": 10,
              "solidity": 0.2
             }
            },
            "type": "histogram"
           }
          ],
          "histogram2d": [
           {
            "colorbar": {
             "outlinewidth": 0,
             "ticks": ""
            },
            "colorscale": [
             [
              0,
              "#0d0887"
             ],
             [
              0.1111111111111111,
              "#46039f"
             ],
             [
              0.2222222222222222,
              "#7201a8"
             ],
             [
              0.3333333333333333,
              "#9c179e"
             ],
             [
              0.4444444444444444,
              "#bd3786"
             ],
             [
              0.5555555555555556,
              "#d8576b"
             ],
             [
              0.6666666666666666,
              "#ed7953"
             ],
             [
              0.7777777777777778,
              "#fb9f3a"
             ],
             [
              0.8888888888888888,
              "#fdca26"
             ],
             [
              1,
              "#f0f921"
             ]
            ],
            "type": "histogram2d"
           }
          ],
          "histogram2dcontour": [
           {
            "colorbar": {
             "outlinewidth": 0,
             "ticks": ""
            },
            "colorscale": [
             [
              0,
              "#0d0887"
             ],
             [
              0.1111111111111111,
              "#46039f"
             ],
             [
              0.2222222222222222,
              "#7201a8"
             ],
             [
              0.3333333333333333,
              "#9c179e"
             ],
             [
              0.4444444444444444,
              "#bd3786"
             ],
             [
              0.5555555555555556,
              "#d8576b"
             ],
             [
              0.6666666666666666,
              "#ed7953"
             ],
             [
              0.7777777777777778,
              "#fb9f3a"
             ],
             [
              0.8888888888888888,
              "#fdca26"
             ],
             [
              1,
              "#f0f921"
             ]
            ],
            "type": "histogram2dcontour"
           }
          ],
          "mesh3d": [
           {
            "colorbar": {
             "outlinewidth": 0,
             "ticks": ""
            },
            "type": "mesh3d"
           }
          ],
          "parcoords": [
           {
            "line": {
             "colorbar": {
              "outlinewidth": 0,
              "ticks": ""
             }
            },
            "type": "parcoords"
           }
          ],
          "pie": [
           {
            "automargin": true,
            "type": "pie"
           }
          ],
          "scatter": [
           {
            "fillpattern": {
             "fillmode": "overlay",
             "size": 10,
             "solidity": 0.2
            },
            "type": "scatter"
           }
          ],
          "scatter3d": [
           {
            "line": {
             "colorbar": {
              "outlinewidth": 0,
              "ticks": ""
             }
            },
            "marker": {
             "colorbar": {
              "outlinewidth": 0,
              "ticks": ""
             }
            },
            "type": "scatter3d"
           }
          ],
          "scattercarpet": [
           {
            "marker": {
             "colorbar": {
              "outlinewidth": 0,
              "ticks": ""
             }
            },
            "type": "scattercarpet"
           }
          ],
          "scattergeo": [
           {
            "marker": {
             "colorbar": {
              "outlinewidth": 0,
              "ticks": ""
             }
            },
            "type": "scattergeo"
           }
          ],
          "scattergl": [
           {
            "marker": {
             "colorbar": {
              "outlinewidth": 0,
              "ticks": ""
             }
            },
            "type": "scattergl"
           }
          ],
          "scattermapbox": [
           {
            "marker": {
             "colorbar": {
              "outlinewidth": 0,
              "ticks": ""
             }
            },
            "type": "scattermapbox"
           }
          ],
          "scatterpolar": [
           {
            "marker": {
             "colorbar": {
              "outlinewidth": 0,
              "ticks": ""
             }
            },
            "type": "scatterpolar"
           }
          ],
          "scatterpolargl": [
           {
            "marker": {
             "colorbar": {
              "outlinewidth": 0,
              "ticks": ""
             }
            },
            "type": "scatterpolargl"
           }
          ],
          "scatterternary": [
           {
            "marker": {
             "colorbar": {
              "outlinewidth": 0,
              "ticks": ""
             }
            },
            "type": "scatterternary"
           }
          ],
          "surface": [
           {
            "colorbar": {
             "outlinewidth": 0,
             "ticks": ""
            },
            "colorscale": [
             [
              0,
              "#0d0887"
             ],
             [
              0.1111111111111111,
              "#46039f"
             ],
             [
              0.2222222222222222,
              "#7201a8"
             ],
             [
              0.3333333333333333,
              "#9c179e"
             ],
             [
              0.4444444444444444,
              "#bd3786"
             ],
             [
              0.5555555555555556,
              "#d8576b"
             ],
             [
              0.6666666666666666,
              "#ed7953"
             ],
             [
              0.7777777777777778,
              "#fb9f3a"
             ],
             [
              0.8888888888888888,
              "#fdca26"
             ],
             [
              1,
              "#f0f921"
             ]
            ],
            "type": "surface"
           }
          ],
          "table": [
           {
            "cells": {
             "fill": {
              "color": "#EBF0F8"
             },
             "line": {
              "color": "white"
             }
            },
            "header": {
             "fill": {
              "color": "#C8D4E3"
             },
             "line": {
              "color": "white"
             }
            },
            "type": "table"
           }
          ]
         },
         "layout": {
          "annotationdefaults": {
           "arrowcolor": "#2a3f5f",
           "arrowhead": 0,
           "arrowwidth": 1
          },
          "autotypenumbers": "strict",
          "coloraxis": {
           "colorbar": {
            "outlinewidth": 0,
            "ticks": ""
           }
          },
          "colorscale": {
           "diverging": [
            [
             0,
             "#8e0152"
            ],
            [
             0.1,
             "#c51b7d"
            ],
            [
             0.2,
             "#de77ae"
            ],
            [
             0.3,
             "#f1b6da"
            ],
            [
             0.4,
             "#fde0ef"
            ],
            [
             0.5,
             "#f7f7f7"
            ],
            [
             0.6,
             "#e6f5d0"
            ],
            [
             0.7,
             "#b8e186"
            ],
            [
             0.8,
             "#7fbc41"
            ],
            [
             0.9,
             "#4d9221"
            ],
            [
             1,
             "#276419"
            ]
           ],
           "sequential": [
            [
             0,
             "#0d0887"
            ],
            [
             0.1111111111111111,
             "#46039f"
            ],
            [
             0.2222222222222222,
             "#7201a8"
            ],
            [
             0.3333333333333333,
             "#9c179e"
            ],
            [
             0.4444444444444444,
             "#bd3786"
            ],
            [
             0.5555555555555556,
             "#d8576b"
            ],
            [
             0.6666666666666666,
             "#ed7953"
            ],
            [
             0.7777777777777778,
             "#fb9f3a"
            ],
            [
             0.8888888888888888,
             "#fdca26"
            ],
            [
             1,
             "#f0f921"
            ]
           ],
           "sequentialminus": [
            [
             0,
             "#0d0887"
            ],
            [
             0.1111111111111111,
             "#46039f"
            ],
            [
             0.2222222222222222,
             "#7201a8"
            ],
            [
             0.3333333333333333,
             "#9c179e"
            ],
            [
             0.4444444444444444,
             "#bd3786"
            ],
            [
             0.5555555555555556,
             "#d8576b"
            ],
            [
             0.6666666666666666,
             "#ed7953"
            ],
            [
             0.7777777777777778,
             "#fb9f3a"
            ],
            [
             0.8888888888888888,
             "#fdca26"
            ],
            [
             1,
             "#f0f921"
            ]
           ]
          },
          "colorway": [
           "#636efa",
           "#EF553B",
           "#00cc96",
           "#ab63fa",
           "#FFA15A",
           "#19d3f3",
           "#FF6692",
           "#B6E880",
           "#FF97FF",
           "#FECB52"
          ],
          "font": {
           "color": "#2a3f5f"
          },
          "geo": {
           "bgcolor": "white",
           "lakecolor": "white",
           "landcolor": "#E5ECF6",
           "showlakes": true,
           "showland": true,
           "subunitcolor": "white"
          },
          "hoverlabel": {
           "align": "left"
          },
          "hovermode": "closest",
          "mapbox": {
           "style": "light"
          },
          "paper_bgcolor": "white",
          "plot_bgcolor": "#E5ECF6",
          "polar": {
           "angularaxis": {
            "gridcolor": "white",
            "linecolor": "white",
            "ticks": ""
           },
           "bgcolor": "#E5ECF6",
           "radialaxis": {
            "gridcolor": "white",
            "linecolor": "white",
            "ticks": ""
           }
          },
          "scene": {
           "xaxis": {
            "backgroundcolor": "#E5ECF6",
            "gridcolor": "white",
            "gridwidth": 2,
            "linecolor": "white",
            "showbackground": true,
            "ticks": "",
            "zerolinecolor": "white"
           },
           "yaxis": {
            "backgroundcolor": "#E5ECF6",
            "gridcolor": "white",
            "gridwidth": 2,
            "linecolor": "white",
            "showbackground": true,
            "ticks": "",
            "zerolinecolor": "white"
           },
           "zaxis": {
            "backgroundcolor": "#E5ECF6",
            "gridcolor": "white",
            "gridwidth": 2,
            "linecolor": "white",
            "showbackground": true,
            "ticks": "",
            "zerolinecolor": "white"
           }
          },
          "shapedefaults": {
           "line": {
            "color": "#2a3f5f"
           }
          },
          "ternary": {
           "aaxis": {
            "gridcolor": "white",
            "linecolor": "white",
            "ticks": ""
           },
           "baxis": {
            "gridcolor": "white",
            "linecolor": "white",
            "ticks": ""
           },
           "bgcolor": "#E5ECF6",
           "caxis": {
            "gridcolor": "white",
            "linecolor": "white",
            "ticks": ""
           }
          },
          "title": {
           "x": 0.05
          },
          "xaxis": {
           "automargin": true,
           "gridcolor": "white",
           "linecolor": "white",
           "ticks": "",
           "title": {
            "standoff": 15
           },
           "zerolinecolor": "white",
           "zerolinewidth": 2
          },
          "yaxis": {
           "automargin": true,
           "gridcolor": "white",
           "linecolor": "white",
           "ticks": "",
           "title": {
            "standoff": 15
           },
           "zerolinecolor": "white",
           "zerolinewidth": 2
          }
         }
        },
        "xaxis": {
         "anchor": "y",
         "domain": [
          0,
          1
         ],
         "title": {
          "text": "Desempenho"
         }
        },
        "yaxis": {
         "anchor": "x",
         "domain": [
          0,
          1
         ],
         "title": {
          "text": "count"
         }
        }
       }
      }
     },
     "metadata": {},
     "output_type": "display_data"
    }
   ],
   "source": [
    "px.histogram(Goleiros, x = 'Desempenho').show()"
   ]
  },
  {
   "cell_type": "code",
   "execution_count": 206,
   "metadata": {},
   "outputs": [
    {
     "data": {
      "text/html": [
       "<div>\n",
       "<style scoped>\n",
       "    .dataframe tbody tr th:only-of-type {\n",
       "        vertical-align: middle;\n",
       "    }\n",
       "\n",
       "    .dataframe tbody tr th {\n",
       "        vertical-align: top;\n",
       "    }\n",
       "\n",
       "    .dataframe thead th {\n",
       "        text-align: right;\n",
       "    }\n",
       "</style>\n",
       "<table border=\"1\" class=\"dataframe\">\n",
       "  <thead>\n",
       "    <tr style=\"text-align: right;\">\n",
       "      <th></th>\n",
       "      <th>_c0</th>\n",
       "      <th>Rk</th>\n",
       "      <th>Player</th>\n",
       "      <th>Nation</th>\n",
       "      <th>Pos</th>\n",
       "      <th>Squad</th>\n",
       "      <th>Comp</th>\n",
       "      <th>Age</th>\n",
       "      <th>Born</th>\n",
       "      <th>MP</th>\n",
       "      <th>...</th>\n",
       "      <th>TklW</th>\n",
       "      <th>PKwon</th>\n",
       "      <th>PKcon</th>\n",
       "      <th>OG</th>\n",
       "      <th>Recov</th>\n",
       "      <th>AerWon</th>\n",
       "      <th>AerLost</th>\n",
       "      <th>AerWon%</th>\n",
       "      <th>score</th>\n",
       "      <th>Desempenho</th>\n",
       "    </tr>\n",
       "  </thead>\n",
       "  <tbody>\n",
       "    <tr>\n",
       "      <th>92</th>\n",
       "      <td>1653</td>\n",
       "      <td>1654</td>\n",
       "      <td>Alexander Meyer</td>\n",
       "      <td>GER</td>\n",
       "      <td>GK</td>\n",
       "      <td>Dortmund</td>\n",
       "      <td>Bundesliga</td>\n",
       "      <td>31</td>\n",
       "      <td>1991</td>\n",
       "      <td>4</td>\n",
       "      <td>...</td>\n",
       "      <td>0.00</td>\n",
       "      <td>0.0</td>\n",
       "      <td>0.00</td>\n",
       "      <td>0.0</td>\n",
       "      <td>2.75</td>\n",
       "      <td>0.25</td>\n",
       "      <td>0.00</td>\n",
       "      <td>100.0</td>\n",
       "      <td>124.45</td>\n",
       "      <td>Bom</td>\n",
       "    </tr>\n",
       "    <tr>\n",
       "      <th>7</th>\n",
       "      <td>215</td>\n",
       "      <td>216</td>\n",
       "      <td>Oliver Baumann</td>\n",
       "      <td>GER</td>\n",
       "      <td>GK</td>\n",
       "      <td>Hoffenheim</td>\n",
       "      <td>Bundesliga</td>\n",
       "      <td>32</td>\n",
       "      <td>1990</td>\n",
       "      <td>20</td>\n",
       "      <td>...</td>\n",
       "      <td>0.00</td>\n",
       "      <td>0.0</td>\n",
       "      <td>0.00</td>\n",
       "      <td>0.0</td>\n",
       "      <td>1.85</td>\n",
       "      <td>0.45</td>\n",
       "      <td>0.00</td>\n",
       "      <td>100.0</td>\n",
       "      <td>118.35</td>\n",
       "      <td>Bom</td>\n",
       "    </tr>\n",
       "    <tr>\n",
       "      <th>58</th>\n",
       "      <td>1073</td>\n",
       "      <td>1074</td>\n",
       "      <td>Samir Handanovi?</td>\n",
       "      <td>SVN</td>\n",
       "      <td>GK</td>\n",
       "      <td>Inter</td>\n",
       "      <td>Serie A</td>\n",
       "      <td>38</td>\n",
       "      <td>1984</td>\n",
       "      <td>8</td>\n",
       "      <td>...</td>\n",
       "      <td>0.00</td>\n",
       "      <td>0.0</td>\n",
       "      <td>0.00</td>\n",
       "      <td>0.0</td>\n",
       "      <td>1.00</td>\n",
       "      <td>0.00</td>\n",
       "      <td>0.00</td>\n",
       "      <td>0.0</td>\n",
       "      <td>118.10</td>\n",
       "      <td>Bom</td>\n",
       "    </tr>\n",
       "    <tr>\n",
       "      <th>146</th>\n",
       "      <td>2317</td>\n",
       "      <td>2318</td>\n",
       "      <td>Yann Sommer</td>\n",
       "      <td>SUI</td>\n",
       "      <td>GK</td>\n",
       "      <td>Bayern Munich</td>\n",
       "      <td>Bundesliga</td>\n",
       "      <td>34</td>\n",
       "      <td>1988</td>\n",
       "      <td>5</td>\n",
       "      <td>...</td>\n",
       "      <td>0.00</td>\n",
       "      <td>0.0</td>\n",
       "      <td>0.00</td>\n",
       "      <td>0.0</td>\n",
       "      <td>1.80</td>\n",
       "      <td>0.40</td>\n",
       "      <td>0.20</td>\n",
       "      <td>66.7</td>\n",
       "      <td>117.20</td>\n",
       "      <td>Bom</td>\n",
       "    </tr>\n",
       "    <tr>\n",
       "      <th>1</th>\n",
       "      <td>68</td>\n",
       "      <td>69</td>\n",
       "      <td>Alisson</td>\n",
       "      <td>BRA</td>\n",
       "      <td>GK</td>\n",
       "      <td>Liverpool</td>\n",
       "      <td>Premier League</td>\n",
       "      <td>30</td>\n",
       "      <td>1992</td>\n",
       "      <td>20</td>\n",
       "      <td>...</td>\n",
       "      <td>0.00</td>\n",
       "      <td>0.0</td>\n",
       "      <td>0.00</td>\n",
       "      <td>0.0</td>\n",
       "      <td>1.85</td>\n",
       "      <td>0.20</td>\n",
       "      <td>0.05</td>\n",
       "      <td>80.0</td>\n",
       "      <td>116.10</td>\n",
       "      <td>Bom</td>\n",
       "    </tr>\n",
       "    <tr>\n",
       "      <th>39</th>\n",
       "      <td>762</td>\n",
       "      <td>763</td>\n",
       "      <td>Ederson</td>\n",
       "      <td>BRA</td>\n",
       "      <td>GK</td>\n",
       "      <td>Manchester City</td>\n",
       "      <td>Premier League</td>\n",
       "      <td>29</td>\n",
       "      <td>1993</td>\n",
       "      <td>21</td>\n",
       "      <td>...</td>\n",
       "      <td>0.00</td>\n",
       "      <td>0.0</td>\n",
       "      <td>0.00</td>\n",
       "      <td>0.0</td>\n",
       "      <td>1.14</td>\n",
       "      <td>0.24</td>\n",
       "      <td>0.00</td>\n",
       "      <td>100.0</td>\n",
       "      <td>115.90</td>\n",
       "      <td>Bom</td>\n",
       "    </tr>\n",
       "    <tr>\n",
       "      <th>13</th>\n",
       "      <td>297</td>\n",
       "      <td>298</td>\n",
       "      <td>Janis Blaswich</td>\n",
       "      <td>GER</td>\n",
       "      <td>GK</td>\n",
       "      <td>RB Leipzig</td>\n",
       "      <td>Bundesliga</td>\n",
       "      <td>31</td>\n",
       "      <td>1991</td>\n",
       "      <td>13</td>\n",
       "      <td>...</td>\n",
       "      <td>0.00</td>\n",
       "      <td>0.0</td>\n",
       "      <td>0.00</td>\n",
       "      <td>0.0</td>\n",
       "      <td>1.38</td>\n",
       "      <td>0.54</td>\n",
       "      <td>0.00</td>\n",
       "      <td>100.0</td>\n",
       "      <td>115.82</td>\n",
       "      <td>Bom</td>\n",
       "    </tr>\n",
       "    <tr>\n",
       "      <th>156</th>\n",
       "      <td>2490</td>\n",
       "      <td>2491</td>\n",
       "      <td>Sven Ulreich</td>\n",
       "      <td>GER</td>\n",
       "      <td>GK</td>\n",
       "      <td>Bayern Munich</td>\n",
       "      <td>Bundesliga</td>\n",
       "      <td>34</td>\n",
       "      <td>1988</td>\n",
       "      <td>3</td>\n",
       "      <td>...</td>\n",
       "      <td>0.33</td>\n",
       "      <td>0.0</td>\n",
       "      <td>0.33</td>\n",
       "      <td>0.0</td>\n",
       "      <td>1.67</td>\n",
       "      <td>0.00</td>\n",
       "      <td>0.00</td>\n",
       "      <td>0.0</td>\n",
       "      <td>115.40</td>\n",
       "      <td>Bom</td>\n",
       "    </tr>\n",
       "    <tr>\n",
       "      <th>130</th>\n",
       "      <td>2142</td>\n",
       "      <td>2143</td>\n",
       "      <td>Ger�nimo Rulli</td>\n",
       "      <td>ARG</td>\n",
       "      <td>GK</td>\n",
       "      <td>Villarreal</td>\n",
       "      <td>La Liga</td>\n",
       "      <td>30</td>\n",
       "      <td>1992</td>\n",
       "      <td>14</td>\n",
       "      <td>...</td>\n",
       "      <td>0.00</td>\n",
       "      <td>0.0</td>\n",
       "      <td>0.00</td>\n",
       "      <td>0.0</td>\n",
       "      <td>1.43</td>\n",
       "      <td>0.21</td>\n",
       "      <td>0.00</td>\n",
       "      <td>100.0</td>\n",
       "      <td>112.78</td>\n",
       "      <td>Bom</td>\n",
       "    </tr>\n",
       "    <tr>\n",
       "      <th>3</th>\n",
       "      <td>122</td>\n",
       "      <td>123</td>\n",
       "      <td>Kepa Arrizabalaga</td>\n",
       "      <td>ESP</td>\n",
       "      <td>GK</td>\n",
       "      <td>Chelsea</td>\n",
       "      <td>Premier League</td>\n",
       "      <td>28</td>\n",
       "      <td>1994</td>\n",
       "      <td>14</td>\n",
       "      <td>...</td>\n",
       "      <td>0.15</td>\n",
       "      <td>0.0</td>\n",
       "      <td>0.00</td>\n",
       "      <td>0.0</td>\n",
       "      <td>1.63</td>\n",
       "      <td>0.37</td>\n",
       "      <td>0.07</td>\n",
       "      <td>83.3</td>\n",
       "      <td>112.13</td>\n",
       "      <td>Bom</td>\n",
       "    </tr>\n",
       "    <tr>\n",
       "      <th>152</th>\n",
       "      <td>2410</td>\n",
       "      <td>2411</td>\n",
       "      <td>Marc-Andr� ter Stegen</td>\n",
       "      <td>GER</td>\n",
       "      <td>GK</td>\n",
       "      <td>Barcelona</td>\n",
       "      <td>La Liga</td>\n",
       "      <td>30</td>\n",
       "      <td>1992</td>\n",
       "      <td>20</td>\n",
       "      <td>...</td>\n",
       "      <td>0.00</td>\n",
       "      <td>0.0</td>\n",
       "      <td>0.00</td>\n",
       "      <td>0.0</td>\n",
       "      <td>1.80</td>\n",
       "      <td>0.20</td>\n",
       "      <td>0.00</td>\n",
       "      <td>100.0</td>\n",
       "      <td>111.95</td>\n",
       "      <td>Bom</td>\n",
       "    </tr>\n",
       "    <tr>\n",
       "      <th>26</th>\n",
       "      <td>532</td>\n",
       "      <td>533</td>\n",
       "      <td>Andrea Consigli</td>\n",
       "      <td>ITA</td>\n",
       "      <td>GK</td>\n",
       "      <td>Sassuolo</td>\n",
       "      <td>Serie A</td>\n",
       "      <td>36</td>\n",
       "      <td>1987</td>\n",
       "      <td>19</td>\n",
       "      <td>...</td>\n",
       "      <td>0.00</td>\n",
       "      <td>0.0</td>\n",
       "      <td>0.00</td>\n",
       "      <td>0.0</td>\n",
       "      <td>1.16</td>\n",
       "      <td>0.32</td>\n",
       "      <td>0.00</td>\n",
       "      <td>100.0</td>\n",
       "      <td>109.97</td>\n",
       "      <td>Bom</td>\n",
       "    </tr>\n",
       "    <tr>\n",
       "      <th>95</th>\n",
       "      <td>1735</td>\n",
       "      <td>1736</td>\n",
       "      <td>Florian M�ller</td>\n",
       "      <td>GER</td>\n",
       "      <td>GK</td>\n",
       "      <td>Stuttgart</td>\n",
       "      <td>Bundesliga</td>\n",
       "      <td>25</td>\n",
       "      <td>1997</td>\n",
       "      <td>19</td>\n",
       "      <td>...</td>\n",
       "      <td>0.00</td>\n",
       "      <td>0.0</td>\n",
       "      <td>0.00</td>\n",
       "      <td>0.0</td>\n",
       "      <td>2.05</td>\n",
       "      <td>0.16</td>\n",
       "      <td>0.00</td>\n",
       "      <td>100.0</td>\n",
       "      <td>109.27</td>\n",
       "      <td>Bom</td>\n",
       "    </tr>\n",
       "    <tr>\n",
       "      <th>117</th>\n",
       "      <td>2009</td>\n",
       "      <td>2010</td>\n",
       "      <td>Ivan Provedel</td>\n",
       "      <td>ITA</td>\n",
       "      <td>GK</td>\n",
       "      <td>Lazio</td>\n",
       "      <td>Serie A</td>\n",
       "      <td>28</td>\n",
       "      <td>1994</td>\n",
       "      <td>22</td>\n",
       "      <td>...</td>\n",
       "      <td>0.00</td>\n",
       "      <td>0.0</td>\n",
       "      <td>0.00</td>\n",
       "      <td>0.0</td>\n",
       "      <td>1.78</td>\n",
       "      <td>0.09</td>\n",
       "      <td>0.00</td>\n",
       "      <td>100.0</td>\n",
       "      <td>109.17</td>\n",
       "      <td>Bom</td>\n",
       "    </tr>\n",
       "    <tr>\n",
       "      <th>17</th>\n",
       "      <td>346</td>\n",
       "      <td>347</td>\n",
       "      <td>Fabian Bredlow</td>\n",
       "      <td>GER</td>\n",
       "      <td>GK</td>\n",
       "      <td>Stuttgart</td>\n",
       "      <td>Bundesliga</td>\n",
       "      <td>27</td>\n",
       "      <td>1995</td>\n",
       "      <td>1</td>\n",
       "      <td>...</td>\n",
       "      <td>0.00</td>\n",
       "      <td>0.0</td>\n",
       "      <td>0.00</td>\n",
       "      <td>0.0</td>\n",
       "      <td>2.00</td>\n",
       "      <td>0.00</td>\n",
       "      <td>0.00</td>\n",
       "      <td>0.0</td>\n",
       "      <td>109.00</td>\n",
       "      <td>Bom</td>\n",
       "    </tr>\n",
       "    <tr>\n",
       "      <th>41</th>\n",
       "      <td>815</td>\n",
       "      <td>816</td>\n",
       "      <td>Ralf F�hrmann</td>\n",
       "      <td>GER</td>\n",
       "      <td>GK</td>\n",
       "      <td>Schalke 04</td>\n",
       "      <td>Bundesliga</td>\n",
       "      <td>34</td>\n",
       "      <td>1988</td>\n",
       "      <td>3</td>\n",
       "      <td>...</td>\n",
       "      <td>0.00</td>\n",
       "      <td>0.0</td>\n",
       "      <td>0.00</td>\n",
       "      <td>0.0</td>\n",
       "      <td>1.00</td>\n",
       "      <td>0.33</td>\n",
       "      <td>0.00</td>\n",
       "      <td>100.0</td>\n",
       "      <td>107.06</td>\n",
       "      <td>Bom</td>\n",
       "    </tr>\n",
       "    <tr>\n",
       "      <th>28</th>\n",
       "      <td>559</td>\n",
       "      <td>560</td>\n",
       "      <td>Thibaut Courtois</td>\n",
       "      <td>BEL</td>\n",
       "      <td>GK</td>\n",
       "      <td>Real Madrid</td>\n",
       "      <td>La Liga</td>\n",
       "      <td>30</td>\n",
       "      <td>1992</td>\n",
       "      <td>15</td>\n",
       "      <td>...</td>\n",
       "      <td>0.00</td>\n",
       "      <td>0.0</td>\n",
       "      <td>0.00</td>\n",
       "      <td>0.0</td>\n",
       "      <td>1.67</td>\n",
       "      <td>0.20</td>\n",
       "      <td>0.00</td>\n",
       "      <td>100.0</td>\n",
       "      <td>106.98</td>\n",
       "      <td>Bom</td>\n",
       "    </tr>\n",
       "    <tr>\n",
       "      <th>66</th>\n",
       "      <td>1302</td>\n",
       "      <td>1303</td>\n",
       "      <td>Gregor Kobel</td>\n",
       "      <td>SUI</td>\n",
       "      <td>GK</td>\n",
       "      <td>Dortmund</td>\n",
       "      <td>Bundesliga</td>\n",
       "      <td>25</td>\n",
       "      <td>1997</td>\n",
       "      <td>16</td>\n",
       "      <td>...</td>\n",
       "      <td>0.00</td>\n",
       "      <td>0.0</td>\n",
       "      <td>0.00</td>\n",
       "      <td>0.0</td>\n",
       "      <td>1.44</td>\n",
       "      <td>0.19</td>\n",
       "      <td>0.00</td>\n",
       "      <td>100.0</td>\n",
       "      <td>106.60</td>\n",
       "      <td>Bom</td>\n",
       "    </tr>\n",
       "    <tr>\n",
       "      <th>22</th>\n",
       "      <td>455</td>\n",
       "      <td>456</td>\n",
       "      <td>Koen Casteels</td>\n",
       "      <td>BEL</td>\n",
       "      <td>GK</td>\n",
       "      <td>Wolfsburg</td>\n",
       "      <td>Bundesliga</td>\n",
       "      <td>30</td>\n",
       "      <td>1992</td>\n",
       "      <td>20</td>\n",
       "      <td>...</td>\n",
       "      <td>0.00</td>\n",
       "      <td>0.0</td>\n",
       "      <td>0.00</td>\n",
       "      <td>0.0</td>\n",
       "      <td>1.75</td>\n",
       "      <td>0.05</td>\n",
       "      <td>0.00</td>\n",
       "      <td>100.0</td>\n",
       "      <td>106.40</td>\n",
       "      <td>Bom</td>\n",
       "    </tr>\n",
       "    <tr>\n",
       "      <th>63</th>\n",
       "      <td>1185</td>\n",
       "      <td>1186</td>\n",
       "      <td>Jan Jakob Olschowsky</td>\n",
       "      <td>GER</td>\n",
       "      <td>GK</td>\n",
       "      <td>M'Gladbach</td>\n",
       "      <td>Bundesliga</td>\n",
       "      <td>21</td>\n",
       "      <td>2001</td>\n",
       "      <td>2</td>\n",
       "      <td>...</td>\n",
       "      <td>0.00</td>\n",
       "      <td>0.0</td>\n",
       "      <td>0.00</td>\n",
       "      <td>0.0</td>\n",
       "      <td>3.50</td>\n",
       "      <td>0.00</td>\n",
       "      <td>0.00</td>\n",
       "      <td>0.0</td>\n",
       "      <td>104.50</td>\n",
       "      <td>Bom</td>\n",
       "    </tr>\n",
       "    <tr>\n",
       "      <th>57</th>\n",
       "      <td>1041</td>\n",
       "      <td>1042</td>\n",
       "      <td>P�ter Gul�csi</td>\n",
       "      <td>HUN</td>\n",
       "      <td>GK</td>\n",
       "      <td>RB Leipzig</td>\n",
       "      <td>Bundesliga</td>\n",
       "      <td>32</td>\n",
       "      <td>1990</td>\n",
       "      <td>6</td>\n",
       "      <td>...</td>\n",
       "      <td>0.00</td>\n",
       "      <td>0.0</td>\n",
       "      <td>0.00</td>\n",
       "      <td>0.0</td>\n",
       "      <td>2.00</td>\n",
       "      <td>0.00</td>\n",
       "      <td>0.00</td>\n",
       "      <td>0.0</td>\n",
       "      <td>103.50</td>\n",
       "      <td>Bom</td>\n",
       "    </tr>\n",
       "    <tr>\n",
       "      <th>107</th>\n",
       "      <td>1840</td>\n",
       "      <td>1841</td>\n",
       "      <td>Jonas Omlin</td>\n",
       "      <td>SUI</td>\n",
       "      <td>GK</td>\n",
       "      <td>M'Gladbach</td>\n",
       "      <td>Bundesliga</td>\n",
       "      <td>29</td>\n",
       "      <td>1994</td>\n",
       "      <td>4</td>\n",
       "      <td>...</td>\n",
       "      <td>0.00</td>\n",
       "      <td>0.0</td>\n",
       "      <td>0.00</td>\n",
       "      <td>0.0</td>\n",
       "      <td>1.25</td>\n",
       "      <td>0.00</td>\n",
       "      <td>0.00</td>\n",
       "      <td>0.0</td>\n",
       "      <td>103.45</td>\n",
       "      <td>Bom</td>\n",
       "    </tr>\n",
       "    <tr>\n",
       "      <th>108</th>\n",
       "      <td>1843</td>\n",
       "      <td>1844</td>\n",
       "      <td>Andr� Onana</td>\n",
       "      <td>CMR</td>\n",
       "      <td>GK</td>\n",
       "      <td>Inter</td>\n",
       "      <td>Serie A</td>\n",
       "      <td>26</td>\n",
       "      <td>1996</td>\n",
       "      <td>13</td>\n",
       "      <td>...</td>\n",
       "      <td>0.00</td>\n",
       "      <td>0.0</td>\n",
       "      <td>0.00</td>\n",
       "      <td>0.0</td>\n",
       "      <td>0.92</td>\n",
       "      <td>0.00</td>\n",
       "      <td>0.00</td>\n",
       "      <td>0.0</td>\n",
       "      <td>102.60</td>\n",
       "      <td>Bom</td>\n",
       "    </tr>\n",
       "    <tr>\n",
       "      <th>136</th>\n",
       "      <td>2237</td>\n",
       "      <td>2238</td>\n",
       "      <td>Marvin Schw�be</td>\n",
       "      <td>GER</td>\n",
       "      <td>GK</td>\n",
       "      <td>K�ln</td>\n",
       "      <td>Bundesliga</td>\n",
       "      <td>27</td>\n",
       "      <td>1995</td>\n",
       "      <td>19</td>\n",
       "      <td>...</td>\n",
       "      <td>0.00</td>\n",
       "      <td>0.0</td>\n",
       "      <td>0.00</td>\n",
       "      <td>0.0</td>\n",
       "      <td>0.95</td>\n",
       "      <td>0.21</td>\n",
       "      <td>0.00</td>\n",
       "      <td>100.0</td>\n",
       "      <td>102.58</td>\n",
       "      <td>Bom</td>\n",
       "    </tr>\n",
       "    <tr>\n",
       "      <th>19</th>\n",
       "      <td>438</td>\n",
       "      <td>439</td>\n",
       "      <td>Juan Carlos</td>\n",
       "      <td>ESP</td>\n",
       "      <td>GK</td>\n",
       "      <td>Girona</td>\n",
       "      <td>La Liga</td>\n",
       "      <td>35</td>\n",
       "      <td>1988</td>\n",
       "      <td>10</td>\n",
       "      <td>...</td>\n",
       "      <td>0.00</td>\n",
       "      <td>0.0</td>\n",
       "      <td>0.00</td>\n",
       "      <td>0.0</td>\n",
       "      <td>1.60</td>\n",
       "      <td>0.10</td>\n",
       "      <td>0.00</td>\n",
       "      <td>100.0</td>\n",
       "      <td>102.10</td>\n",
       "      <td>Bom</td>\n",
       "    </tr>\n",
       "  </tbody>\n",
       "</table>\n",
       "<p>25 rows × 127 columns</p>\n",
       "</div>"
      ],
      "text/plain": [
       "      _c0    Rk                 Player Nation Pos            Squad  \\\n",
       "92   1653  1654        Alexander Meyer    GER  GK         Dortmund   \n",
       "7     215   216         Oliver Baumann    GER  GK       Hoffenheim   \n",
       "58   1073  1074       Samir Handanovi?    SVN  GK            Inter   \n",
       "146  2317  2318            Yann Sommer    SUI  GK    Bayern Munich   \n",
       "1      68    69                Alisson    BRA  GK        Liverpool   \n",
       "39    762   763                Ederson    BRA  GK  Manchester City   \n",
       "13    297   298         Janis Blaswich    GER  GK       RB Leipzig   \n",
       "156  2490  2491           Sven Ulreich    GER  GK    Bayern Munich   \n",
       "130  2142  2143         Ger�nimo Rulli    ARG  GK       Villarreal   \n",
       "3     122   123      Kepa Arrizabalaga    ESP  GK          Chelsea   \n",
       "152  2410  2411  Marc-Andr� ter Stegen    GER  GK        Barcelona   \n",
       "26    532   533        Andrea Consigli    ITA  GK         Sassuolo   \n",
       "95   1735  1736         Florian M�ller    GER  GK        Stuttgart   \n",
       "117  2009  2010          Ivan Provedel    ITA  GK            Lazio   \n",
       "17    346   347         Fabian Bredlow    GER  GK        Stuttgart   \n",
       "41    815   816          Ralf F�hrmann    GER  GK       Schalke 04   \n",
       "28    559   560       Thibaut Courtois    BEL  GK      Real Madrid   \n",
       "66   1302  1303           Gregor Kobel    SUI  GK         Dortmund   \n",
       "22    455   456          Koen Casteels    BEL  GK        Wolfsburg   \n",
       "63   1185  1186   Jan Jakob Olschowsky    GER  GK       M'Gladbach   \n",
       "57   1041  1042          P�ter Gul�csi    HUN  GK       RB Leipzig   \n",
       "107  1840  1841            Jonas Omlin    SUI  GK       M'Gladbach   \n",
       "108  1843  1844            Andr� Onana    CMR  GK            Inter   \n",
       "136  2237  2238         Marvin Schw�be    GER  GK             K�ln   \n",
       "19    438   439            Juan Carlos    ESP  GK           Girona   \n",
       "\n",
       "               Comp  Age  Born  MP  ...  TklW  PKwon  PKcon   OG  Recov  \\\n",
       "92       Bundesliga   31  1991   4  ...  0.00    0.0   0.00  0.0   2.75   \n",
       "7        Bundesliga   32  1990  20  ...  0.00    0.0   0.00  0.0   1.85   \n",
       "58          Serie A   38  1984   8  ...  0.00    0.0   0.00  0.0   1.00   \n",
       "146      Bundesliga   34  1988   5  ...  0.00    0.0   0.00  0.0   1.80   \n",
       "1    Premier League   30  1992  20  ...  0.00    0.0   0.00  0.0   1.85   \n",
       "39   Premier League   29  1993  21  ...  0.00    0.0   0.00  0.0   1.14   \n",
       "13       Bundesliga   31  1991  13  ...  0.00    0.0   0.00  0.0   1.38   \n",
       "156      Bundesliga   34  1988   3  ...  0.33    0.0   0.33  0.0   1.67   \n",
       "130         La Liga   30  1992  14  ...  0.00    0.0   0.00  0.0   1.43   \n",
       "3    Premier League   28  1994  14  ...  0.15    0.0   0.00  0.0   1.63   \n",
       "152         La Liga   30  1992  20  ...  0.00    0.0   0.00  0.0   1.80   \n",
       "26          Serie A   36  1987  19  ...  0.00    0.0   0.00  0.0   1.16   \n",
       "95       Bundesliga   25  1997  19  ...  0.00    0.0   0.00  0.0   2.05   \n",
       "117         Serie A   28  1994  22  ...  0.00    0.0   0.00  0.0   1.78   \n",
       "17       Bundesliga   27  1995   1  ...  0.00    0.0   0.00  0.0   2.00   \n",
       "41       Bundesliga   34  1988   3  ...  0.00    0.0   0.00  0.0   1.00   \n",
       "28          La Liga   30  1992  15  ...  0.00    0.0   0.00  0.0   1.67   \n",
       "66       Bundesliga   25  1997  16  ...  0.00    0.0   0.00  0.0   1.44   \n",
       "22       Bundesliga   30  1992  20  ...  0.00    0.0   0.00  0.0   1.75   \n",
       "63       Bundesliga   21  2001   2  ...  0.00    0.0   0.00  0.0   3.50   \n",
       "57       Bundesliga   32  1990   6  ...  0.00    0.0   0.00  0.0   2.00   \n",
       "107      Bundesliga   29  1994   4  ...  0.00    0.0   0.00  0.0   1.25   \n",
       "108         Serie A   26  1996  13  ...  0.00    0.0   0.00  0.0   0.92   \n",
       "136      Bundesliga   27  1995  19  ...  0.00    0.0   0.00  0.0   0.95   \n",
       "19          La Liga   35  1988  10  ...  0.00    0.0   0.00  0.0   1.60   \n",
       "\n",
       "     AerWon  AerLost  AerWon%   score  Desempenho  \n",
       "92     0.25     0.00    100.0  124.45         Bom  \n",
       "7      0.45     0.00    100.0  118.35         Bom  \n",
       "58     0.00     0.00      0.0  118.10         Bom  \n",
       "146    0.40     0.20     66.7  117.20         Bom  \n",
       "1      0.20     0.05     80.0  116.10         Bom  \n",
       "39     0.24     0.00    100.0  115.90         Bom  \n",
       "13     0.54     0.00    100.0  115.82         Bom  \n",
       "156    0.00     0.00      0.0  115.40         Bom  \n",
       "130    0.21     0.00    100.0  112.78         Bom  \n",
       "3      0.37     0.07     83.3  112.13         Bom  \n",
       "152    0.20     0.00    100.0  111.95         Bom  \n",
       "26     0.32     0.00    100.0  109.97         Bom  \n",
       "95     0.16     0.00    100.0  109.27         Bom  \n",
       "117    0.09     0.00    100.0  109.17         Bom  \n",
       "17     0.00     0.00      0.0  109.00         Bom  \n",
       "41     0.33     0.00    100.0  107.06         Bom  \n",
       "28     0.20     0.00    100.0  106.98         Bom  \n",
       "66     0.19     0.00    100.0  106.60         Bom  \n",
       "22     0.05     0.00    100.0  106.40         Bom  \n",
       "63     0.00     0.00      0.0  104.50         Bom  \n",
       "57     0.00     0.00      0.0  103.50         Bom  \n",
       "107    0.00     0.00      0.0  103.45         Bom  \n",
       "108    0.00     0.00      0.0  102.60         Bom  \n",
       "136    0.21     0.00    100.0  102.58         Bom  \n",
       "19     0.10     0.00    100.0  102.10         Bom  \n",
       "\n",
       "[25 rows x 127 columns]"
      ]
     },
     "execution_count": 206,
     "metadata": {},
     "output_type": "execute_result"
    }
   ],
   "source": [
    "Goleiros[Goleiros['Desempenho'] == 'Bom'].head(40)"
   ]
  },
  {
   "cell_type": "code",
   "execution_count": 207,
   "metadata": {},
   "outputs": [],
   "source": [
    "Goleiros.to_csv('C:\\\\Users\\\\alexa\\\\OneDrive\\\\Área de Trabalho\\\\Prj\\\\Classificador\\\\Content\\\\Goleiros.csv')"
   ]
  }
 ],
 "metadata": {
  "kernelspec": {
   "display_name": "base",
   "language": "python",
   "name": "python3"
  },
  "language_info": {
   "codemirror_mode": {
    "name": "ipython",
    "version": 3
   },
   "file_extension": ".py",
   "mimetype": "text/x-python",
   "name": "python",
   "nbconvert_exporter": "python",
   "pygments_lexer": "ipython3",
   "version": "3.9.7"
  },
  "orig_nbformat": 4
 },
 "nbformat": 4,
 "nbformat_minor": 2
}
