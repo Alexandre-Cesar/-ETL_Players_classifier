{
 "cells": [
  {
   "cell_type": "code",
   "execution_count": 1,
   "metadata": {},
   "outputs": [],
   "source": [
    "import pandas as pd\n",
    "import plotly.express as px\n",
    "import numpy as np"
   ]
  },
  {
   "cell_type": "code",
   "execution_count": 4,
   "metadata": {},
   "outputs": [],
   "source": [
    "Defensores = pd.read_parquet('C:\\\\Users\\\\alexa\\\\OneDrive\\\\Área de Trabalho\\\\Prj\\\\Classificador\\\\Content\\\\Defensores.c000.snappy.parquet', engine='pyarrow')"
   ]
  },
  {
   "cell_type": "code",
   "execution_count": 5,
   "metadata": {},
   "outputs": [
    {
     "data": {
      "text/html": [
       "<div>\n",
       "<style scoped>\n",
       "    .dataframe tbody tr th:only-of-type {\n",
       "        vertical-align: middle;\n",
       "    }\n",
       "\n",
       "    .dataframe tbody tr th {\n",
       "        vertical-align: top;\n",
       "    }\n",
       "\n",
       "    .dataframe thead th {\n",
       "        text-align: right;\n",
       "    }\n",
       "</style>\n",
       "<table border=\"1\" class=\"dataframe\">\n",
       "  <thead>\n",
       "    <tr style=\"text-align: right;\">\n",
       "      <th></th>\n",
       "      <th>_c0</th>\n",
       "      <th>Rk</th>\n",
       "      <th>Player</th>\n",
       "      <th>Nation</th>\n",
       "      <th>Pos</th>\n",
       "      <th>Squad</th>\n",
       "      <th>Comp</th>\n",
       "      <th>Age</th>\n",
       "      <th>Born</th>\n",
       "      <th>MP</th>\n",
       "      <th>...</th>\n",
       "      <th>Off</th>\n",
       "      <th>Crs</th>\n",
       "      <th>TklW</th>\n",
       "      <th>PKwon</th>\n",
       "      <th>PKcon</th>\n",
       "      <th>OG</th>\n",
       "      <th>Recov</th>\n",
       "      <th>AerWon</th>\n",
       "      <th>AerLost</th>\n",
       "      <th>AerWon%</th>\n",
       "    </tr>\n",
       "  </thead>\n",
       "  <tbody>\n",
       "    <tr>\n",
       "      <th>0</th>\n",
       "      <td>1</td>\n",
       "      <td>2</td>\n",
       "      <td>Yunis Abdelhamid</td>\n",
       "      <td>MAR</td>\n",
       "      <td>DF</td>\n",
       "      <td>Reims</td>\n",
       "      <td>Ligue 1</td>\n",
       "      <td>35</td>\n",
       "      <td>1987</td>\n",
       "      <td>22</td>\n",
       "      <td>...</td>\n",
       "      <td>0.05</td>\n",
       "      <td>0.18</td>\n",
       "      <td>1.59</td>\n",
       "      <td>0.0</td>\n",
       "      <td>0.00</td>\n",
       "      <td>0.0</td>\n",
       "      <td>6.64</td>\n",
       "      <td>2.18</td>\n",
       "      <td>1.23</td>\n",
       "      <td>64.0</td>\n",
       "    </tr>\n",
       "    <tr>\n",
       "      <th>1</th>\n",
       "      <td>8</td>\n",
       "      <td>9</td>\n",
       "      <td>Abner</td>\n",
       "      <td>BRA</td>\n",
       "      <td>DF</td>\n",
       "      <td>Betis</td>\n",
       "      <td>La Liga</td>\n",
       "      <td>22</td>\n",
       "      <td>2000</td>\n",
       "      <td>4</td>\n",
       "      <td>...</td>\n",
       "      <td>0.00</td>\n",
       "      <td>1.33</td>\n",
       "      <td>2.33</td>\n",
       "      <td>0.0</td>\n",
       "      <td>0.00</td>\n",
       "      <td>0.0</td>\n",
       "      <td>6.00</td>\n",
       "      <td>1.00</td>\n",
       "      <td>2.00</td>\n",
       "      <td>33.3</td>\n",
       "    </tr>\n",
       "    <tr>\n",
       "      <th>2</th>\n",
       "      <td>11</td>\n",
       "      <td>12</td>\n",
       "      <td>Francesco Acerbi</td>\n",
       "      <td>ITA</td>\n",
       "      <td>DF</td>\n",
       "      <td>Inter</td>\n",
       "      <td>Serie A</td>\n",
       "      <td>35</td>\n",
       "      <td>1988</td>\n",
       "      <td>14</td>\n",
       "      <td>...</td>\n",
       "      <td>0.08</td>\n",
       "      <td>0.24</td>\n",
       "      <td>0.57</td>\n",
       "      <td>0.0</td>\n",
       "      <td>0.00</td>\n",
       "      <td>0.0</td>\n",
       "      <td>4.96</td>\n",
       "      <td>2.76</td>\n",
       "      <td>1.63</td>\n",
       "      <td>63.0</td>\n",
       "    </tr>\n",
       "    <tr>\n",
       "      <th>3</th>\n",
       "      <td>13</td>\n",
       "      <td>14</td>\n",
       "      <td>Marcos Acu�a</td>\n",
       "      <td>ARG</td>\n",
       "      <td>DF</td>\n",
       "      <td>Sevilla</td>\n",
       "      <td>La Liga</td>\n",
       "      <td>31</td>\n",
       "      <td>1991</td>\n",
       "      <td>16</td>\n",
       "      <td>...</td>\n",
       "      <td>0.09</td>\n",
       "      <td>7.61</td>\n",
       "      <td>1.74</td>\n",
       "      <td>0.0</td>\n",
       "      <td>0.09</td>\n",
       "      <td>0.0</td>\n",
       "      <td>7.52</td>\n",
       "      <td>1.19</td>\n",
       "      <td>0.92</td>\n",
       "      <td>56.5</td>\n",
       "    </tr>\n",
       "    <tr>\n",
       "      <th>4</th>\n",
       "      <td>17</td>\n",
       "      <td>18</td>\n",
       "      <td>Tosin Adarabioyo</td>\n",
       "      <td>ENG</td>\n",
       "      <td>DF</td>\n",
       "      <td>Fulham</td>\n",
       "      <td>Premier League</td>\n",
       "      <td>25</td>\n",
       "      <td>1997</td>\n",
       "      <td>14</td>\n",
       "      <td>...</td>\n",
       "      <td>0.00</td>\n",
       "      <td>0.08</td>\n",
       "      <td>0.41</td>\n",
       "      <td>0.0</td>\n",
       "      <td>0.00</td>\n",
       "      <td>0.0</td>\n",
       "      <td>4.67</td>\n",
       "      <td>2.13</td>\n",
       "      <td>0.41</td>\n",
       "      <td>83.9</td>\n",
       "    </tr>\n",
       "    <tr>\n",
       "      <th>5</th>\n",
       "      <td>24</td>\n",
       "      <td>25</td>\n",
       "      <td>Emmanuel Agbadou</td>\n",
       "      <td>CIV</td>\n",
       "      <td>DF</td>\n",
       "      <td>Reims</td>\n",
       "      <td>Ligue 1</td>\n",
       "      <td>25</td>\n",
       "      <td>1997</td>\n",
       "      <td>19</td>\n",
       "      <td>...</td>\n",
       "      <td>0.00</td>\n",
       "      <td>0.00</td>\n",
       "      <td>1.63</td>\n",
       "      <td>0.0</td>\n",
       "      <td>0.00</td>\n",
       "      <td>0.0</td>\n",
       "      <td>8.20</td>\n",
       "      <td>1.85</td>\n",
       "      <td>1.35</td>\n",
       "      <td>57.9</td>\n",
       "    </tr>\n",
       "    <tr>\n",
       "      <th>6</th>\n",
       "      <td>26</td>\n",
       "      <td>27</td>\n",
       "      <td>Felix Agu</td>\n",
       "      <td>GER</td>\n",
       "      <td>DFFW</td>\n",
       "      <td>Werder Bremen</td>\n",
       "      <td>Bundesliga</td>\n",
       "      <td>23</td>\n",
       "      <td>1999</td>\n",
       "      <td>3</td>\n",
       "      <td>...</td>\n",
       "      <td>0.00</td>\n",
       "      <td>2.00</td>\n",
       "      <td>0.00</td>\n",
       "      <td>0.0</td>\n",
       "      <td>2.00</td>\n",
       "      <td>0.0</td>\n",
       "      <td>6.00</td>\n",
       "      <td>2.00</td>\n",
       "      <td>2.00</td>\n",
       "      <td>50.0</td>\n",
       "    </tr>\n",
       "    <tr>\n",
       "      <th>7</th>\n",
       "      <td>29</td>\n",
       "      <td>30</td>\n",
       "      <td>Nayef Aguerd</td>\n",
       "      <td>MAR</td>\n",
       "      <td>DF</td>\n",
       "      <td>West Ham</td>\n",
       "      <td>Premier League</td>\n",
       "      <td>26</td>\n",
       "      <td>1996</td>\n",
       "      <td>6</td>\n",
       "      <td>...</td>\n",
       "      <td>0.18</td>\n",
       "      <td>0.00</td>\n",
       "      <td>1.58</td>\n",
       "      <td>0.0</td>\n",
       "      <td>0.00</td>\n",
       "      <td>0.0</td>\n",
       "      <td>5.26</td>\n",
       "      <td>1.75</td>\n",
       "      <td>1.05</td>\n",
       "      <td>62.5</td>\n",
       "    </tr>\n",
       "    <tr>\n",
       "      <th>8</th>\n",
       "      <td>30</td>\n",
       "      <td>31</td>\n",
       "      <td>Ruben Aguilar</td>\n",
       "      <td>FRA</td>\n",
       "      <td>DF</td>\n",
       "      <td>Monaco</td>\n",
       "      <td>Ligue 1</td>\n",
       "      <td>29</td>\n",
       "      <td>1993</td>\n",
       "      <td>13</td>\n",
       "      <td>...</td>\n",
       "      <td>0.00</td>\n",
       "      <td>1.76</td>\n",
       "      <td>0.74</td>\n",
       "      <td>0.0</td>\n",
       "      <td>0.00</td>\n",
       "      <td>0.0</td>\n",
       "      <td>5.29</td>\n",
       "      <td>0.74</td>\n",
       "      <td>1.32</td>\n",
       "      <td>35.7</td>\n",
       "    </tr>\n",
       "    <tr>\n",
       "      <th>9</th>\n",
       "      <td>35</td>\n",
       "      <td>36</td>\n",
       "      <td>Joseph Aidoo</td>\n",
       "      <td>GHA</td>\n",
       "      <td>DF</td>\n",
       "      <td>Celta Vigo</td>\n",
       "      <td>La Liga</td>\n",
       "      <td>27</td>\n",
       "      <td>1995</td>\n",
       "      <td>20</td>\n",
       "      <td>...</td>\n",
       "      <td>0.00</td>\n",
       "      <td>0.00</td>\n",
       "      <td>1.05</td>\n",
       "      <td>0.0</td>\n",
       "      <td>0.05</td>\n",
       "      <td>0.0</td>\n",
       "      <td>6.50</td>\n",
       "      <td>1.75</td>\n",
       "      <td>1.85</td>\n",
       "      <td>48.6</td>\n",
       "    </tr>\n",
       "    <tr>\n",
       "      <th>10</th>\n",
       "      <td>36</td>\n",
       "      <td>37</td>\n",
       "      <td>Ola Aina</td>\n",
       "      <td>NGA</td>\n",
       "      <td>DF</td>\n",
       "      <td>Torino</td>\n",
       "      <td>Serie A</td>\n",
       "      <td>26</td>\n",
       "      <td>1996</td>\n",
       "      <td>12</td>\n",
       "      <td>...</td>\n",
       "      <td>0.13</td>\n",
       "      <td>3.47</td>\n",
       "      <td>1.33</td>\n",
       "      <td>0.0</td>\n",
       "      <td>0.13</td>\n",
       "      <td>0.0</td>\n",
       "      <td>6.27</td>\n",
       "      <td>1.20</td>\n",
       "      <td>0.80</td>\n",
       "      <td>60.0</td>\n",
       "    </tr>\n",
       "    <tr>\n",
       "      <th>11</th>\n",
       "      <td>37</td>\n",
       "      <td>38</td>\n",
       "      <td>Rayan A�t Nouri</td>\n",
       "      <td>FRA</td>\n",
       "      <td>DF</td>\n",
       "      <td>Wolves</td>\n",
       "      <td>Premier League</td>\n",
       "      <td>21</td>\n",
       "      <td>2001</td>\n",
       "      <td>17</td>\n",
       "      <td>...</td>\n",
       "      <td>0.30</td>\n",
       "      <td>2.08</td>\n",
       "      <td>1.58</td>\n",
       "      <td>0.0</td>\n",
       "      <td>0.10</td>\n",
       "      <td>0.1</td>\n",
       "      <td>5.25</td>\n",
       "      <td>1.29</td>\n",
       "      <td>1.39</td>\n",
       "      <td>48.1</td>\n",
       "    </tr>\n",
       "    <tr>\n",
       "      <th>12</th>\n",
       "      <td>38</td>\n",
       "      <td>39</td>\n",
       "      <td>Emanuel Aiwum</td>\n",
       "      <td>AUT</td>\n",
       "      <td>DF</td>\n",
       "      <td>Cremonese</td>\n",
       "      <td>Serie A</td>\n",
       "      <td>22</td>\n",
       "      <td>2000</td>\n",
       "      <td>15</td>\n",
       "      <td>...</td>\n",
       "      <td>0.00</td>\n",
       "      <td>0.35</td>\n",
       "      <td>2.28</td>\n",
       "      <td>0.0</td>\n",
       "      <td>0.00</td>\n",
       "      <td>0.0</td>\n",
       "      <td>7.02</td>\n",
       "      <td>1.67</td>\n",
       "      <td>0.61</td>\n",
       "      <td>73.1</td>\n",
       "    </tr>\n",
       "    <tr>\n",
       "      <th>13</th>\n",
       "      <td>39</td>\n",
       "      <td>40</td>\n",
       "      <td>Kristoffer Ajer</td>\n",
       "      <td>NOR</td>\n",
       "      <td>DF</td>\n",
       "      <td>Brentford</td>\n",
       "      <td>Premier League</td>\n",
       "      <td>24</td>\n",
       "      <td>1998</td>\n",
       "      <td>9</td>\n",
       "      <td>...</td>\n",
       "      <td>0.00</td>\n",
       "      <td>0.71</td>\n",
       "      <td>0.94</td>\n",
       "      <td>0.0</td>\n",
       "      <td>0.12</td>\n",
       "      <td>0.0</td>\n",
       "      <td>4.24</td>\n",
       "      <td>1.76</td>\n",
       "      <td>1.29</td>\n",
       "      <td>57.7</td>\n",
       "    </tr>\n",
       "    <tr>\n",
       "      <th>14</th>\n",
       "      <td>42</td>\n",
       "      <td>43</td>\n",
       "      <td>Manuel Akanji</td>\n",
       "      <td>SUI</td>\n",
       "      <td>DF</td>\n",
       "      <td>Manchester City</td>\n",
       "      <td>Premier League</td>\n",
       "      <td>27</td>\n",
       "      <td>1995</td>\n",
       "      <td>15</td>\n",
       "      <td>...</td>\n",
       "      <td>0.00</td>\n",
       "      <td>0.21</td>\n",
       "      <td>1.05</td>\n",
       "      <td>0.0</td>\n",
       "      <td>0.00</td>\n",
       "      <td>0.0</td>\n",
       "      <td>5.38</td>\n",
       "      <td>0.84</td>\n",
       "      <td>1.40</td>\n",
       "      <td>37.5</td>\n",
       "    </tr>\n",
       "    <tr>\n",
       "      <th>15</th>\n",
       "      <td>43</td>\n",
       "      <td>44</td>\n",
       "      <td>Nathan Ak�</td>\n",
       "      <td>NED</td>\n",
       "      <td>DF</td>\n",
       "      <td>Manchester City</td>\n",
       "      <td>Premier League</td>\n",
       "      <td>27</td>\n",
       "      <td>1995</td>\n",
       "      <td>15</td>\n",
       "      <td>...</td>\n",
       "      <td>0.08</td>\n",
       "      <td>0.39</td>\n",
       "      <td>0.55</td>\n",
       "      <td>0.0</td>\n",
       "      <td>0.00</td>\n",
       "      <td>0.0</td>\n",
       "      <td>5.00</td>\n",
       "      <td>1.72</td>\n",
       "      <td>1.33</td>\n",
       "      <td>56.4</td>\n",
       "    </tr>\n",
       "    <tr>\n",
       "      <th>16</th>\n",
       "      <td>44</td>\n",
       "      <td>45</td>\n",
       "      <td>Sergio Akieme</td>\n",
       "      <td>ESP</td>\n",
       "      <td>DF</td>\n",
       "      <td>Almer�a</td>\n",
       "      <td>La Liga</td>\n",
       "      <td>25</td>\n",
       "      <td>1997</td>\n",
       "      <td>21</td>\n",
       "      <td>...</td>\n",
       "      <td>0.00</td>\n",
       "      <td>3.00</td>\n",
       "      <td>0.76</td>\n",
       "      <td>0.0</td>\n",
       "      <td>0.00</td>\n",
       "      <td>0.0</td>\n",
       "      <td>5.14</td>\n",
       "      <td>0.52</td>\n",
       "      <td>0.62</td>\n",
       "      <td>45.8</td>\n",
       "    </tr>\n",
       "    <tr>\n",
       "      <th>17</th>\n",
       "      <td>48</td>\n",
       "      <td>49</td>\n",
       "      <td>Kevin Akpoguma</td>\n",
       "      <td>NGA</td>\n",
       "      <td>DF</td>\n",
       "      <td>Hoffenheim</td>\n",
       "      <td>Bundesliga</td>\n",
       "      <td>27</td>\n",
       "      <td>1995</td>\n",
       "      <td>16</td>\n",
       "      <td>...</td>\n",
       "      <td>0.00</td>\n",
       "      <td>0.53</td>\n",
       "      <td>1.93</td>\n",
       "      <td>0.0</td>\n",
       "      <td>0.00</td>\n",
       "      <td>0.0</td>\n",
       "      <td>6.05</td>\n",
       "      <td>2.46</td>\n",
       "      <td>1.93</td>\n",
       "      <td>56.0</td>\n",
       "    </tr>\n",
       "    <tr>\n",
       "      <th>18</th>\n",
       "      <td>49</td>\n",
       "      <td>50</td>\n",
       "      <td>David Alaba</td>\n",
       "      <td>AUT</td>\n",
       "      <td>DF</td>\n",
       "      <td>Real Madrid</td>\n",
       "      <td>La Liga</td>\n",
       "      <td>30</td>\n",
       "      <td>1992</td>\n",
       "      <td>17</td>\n",
       "      <td>...</td>\n",
       "      <td>0.00</td>\n",
       "      <td>1.25</td>\n",
       "      <td>0.53</td>\n",
       "      <td>0.0</td>\n",
       "      <td>0.07</td>\n",
       "      <td>0.0</td>\n",
       "      <td>4.67</td>\n",
       "      <td>0.33</td>\n",
       "      <td>0.39</td>\n",
       "      <td>45.5</td>\n",
       "    </tr>\n",
       "    <tr>\n",
       "      <th>19</th>\n",
       "      <td>52</td>\n",
       "      <td>53</td>\n",
       "      <td>Jordi Alba</td>\n",
       "      <td>ESP</td>\n",
       "      <td>DF</td>\n",
       "      <td>Barcelona</td>\n",
       "      <td>La Liga</td>\n",
       "      <td>33</td>\n",
       "      <td>1989</td>\n",
       "      <td>14</td>\n",
       "      <td>...</td>\n",
       "      <td>0.68</td>\n",
       "      <td>5.05</td>\n",
       "      <td>1.26</td>\n",
       "      <td>0.0</td>\n",
       "      <td>0.00</td>\n",
       "      <td>0.0</td>\n",
       "      <td>6.80</td>\n",
       "      <td>0.58</td>\n",
       "      <td>0.97</td>\n",
       "      <td>37.5</td>\n",
       "    </tr>\n",
       "  </tbody>\n",
       "</table>\n",
       "<p>20 rows × 125 columns</p>\n",
       "</div>"
      ],
      "text/plain": [
       "    _c0  Rk            Player Nation   Pos            Squad            Comp  \\\n",
       "0     1   2  Yunis Abdelhamid    MAR    DF            Reims         Ligue 1   \n",
       "1     8   9             Abner    BRA    DF            Betis         La Liga   \n",
       "2    11  12  Francesco Acerbi    ITA    DF            Inter         Serie A   \n",
       "3    13  14      Marcos Acu�a    ARG    DF          Sevilla         La Liga   \n",
       "4    17  18  Tosin Adarabioyo    ENG    DF           Fulham  Premier League   \n",
       "5    24  25  Emmanuel Agbadou    CIV    DF            Reims         Ligue 1   \n",
       "6    26  27         Felix Agu    GER  DFFW    Werder Bremen      Bundesliga   \n",
       "7    29  30      Nayef Aguerd    MAR    DF         West Ham  Premier League   \n",
       "8    30  31     Ruben Aguilar    FRA    DF           Monaco         Ligue 1   \n",
       "9    35  36      Joseph Aidoo    GHA    DF       Celta Vigo         La Liga   \n",
       "10   36  37          Ola Aina    NGA    DF           Torino         Serie A   \n",
       "11   37  38   Rayan A�t Nouri    FRA    DF           Wolves  Premier League   \n",
       "12   38  39     Emanuel Aiwum    AUT    DF        Cremonese         Serie A   \n",
       "13   39  40   Kristoffer Ajer    NOR    DF        Brentford  Premier League   \n",
       "14   42  43     Manuel Akanji    SUI    DF  Manchester City  Premier League   \n",
       "15   43  44        Nathan Ak�    NED    DF  Manchester City  Premier League   \n",
       "16   44  45     Sergio Akieme    ESP    DF          Almer�a         La Liga   \n",
       "17   48  49    Kevin Akpoguma    NGA    DF       Hoffenheim      Bundesliga   \n",
       "18   49  50       David Alaba    AUT    DF      Real Madrid         La Liga   \n",
       "19   52  53        Jordi Alba    ESP    DF        Barcelona         La Liga   \n",
       "\n",
       "    Age  Born  MP  ...   Off   Crs  TklW  PKwon  PKcon   OG  Recov  AerWon  \\\n",
       "0    35  1987  22  ...  0.05  0.18  1.59    0.0   0.00  0.0   6.64    2.18   \n",
       "1    22  2000   4  ...  0.00  1.33  2.33    0.0   0.00  0.0   6.00    1.00   \n",
       "2    35  1988  14  ...  0.08  0.24  0.57    0.0   0.00  0.0   4.96    2.76   \n",
       "3    31  1991  16  ...  0.09  7.61  1.74    0.0   0.09  0.0   7.52    1.19   \n",
       "4    25  1997  14  ...  0.00  0.08  0.41    0.0   0.00  0.0   4.67    2.13   \n",
       "5    25  1997  19  ...  0.00  0.00  1.63    0.0   0.00  0.0   8.20    1.85   \n",
       "6    23  1999   3  ...  0.00  2.00  0.00    0.0   2.00  0.0   6.00    2.00   \n",
       "7    26  1996   6  ...  0.18  0.00  1.58    0.0   0.00  0.0   5.26    1.75   \n",
       "8    29  1993  13  ...  0.00  1.76  0.74    0.0   0.00  0.0   5.29    0.74   \n",
       "9    27  1995  20  ...  0.00  0.00  1.05    0.0   0.05  0.0   6.50    1.75   \n",
       "10   26  1996  12  ...  0.13  3.47  1.33    0.0   0.13  0.0   6.27    1.20   \n",
       "11   21  2001  17  ...  0.30  2.08  1.58    0.0   0.10  0.1   5.25    1.29   \n",
       "12   22  2000  15  ...  0.00  0.35  2.28    0.0   0.00  0.0   7.02    1.67   \n",
       "13   24  1998   9  ...  0.00  0.71  0.94    0.0   0.12  0.0   4.24    1.76   \n",
       "14   27  1995  15  ...  0.00  0.21  1.05    0.0   0.00  0.0   5.38    0.84   \n",
       "15   27  1995  15  ...  0.08  0.39  0.55    0.0   0.00  0.0   5.00    1.72   \n",
       "16   25  1997  21  ...  0.00  3.00  0.76    0.0   0.00  0.0   5.14    0.52   \n",
       "17   27  1995  16  ...  0.00  0.53  1.93    0.0   0.00  0.0   6.05    2.46   \n",
       "18   30  1992  17  ...  0.00  1.25  0.53    0.0   0.07  0.0   4.67    0.33   \n",
       "19   33  1989  14  ...  0.68  5.05  1.26    0.0   0.00  0.0   6.80    0.58   \n",
       "\n",
       "    AerLost  AerWon%  \n",
       "0      1.23     64.0  \n",
       "1      2.00     33.3  \n",
       "2      1.63     63.0  \n",
       "3      0.92     56.5  \n",
       "4      0.41     83.9  \n",
       "5      1.35     57.9  \n",
       "6      2.00     50.0  \n",
       "7      1.05     62.5  \n",
       "8      1.32     35.7  \n",
       "9      1.85     48.6  \n",
       "10     0.80     60.0  \n",
       "11     1.39     48.1  \n",
       "12     0.61     73.1  \n",
       "13     1.29     57.7  \n",
       "14     1.40     37.5  \n",
       "15     1.33     56.4  \n",
       "16     0.62     45.8  \n",
       "17     1.93     56.0  \n",
       "18     0.39     45.5  \n",
       "19     0.97     37.5  \n",
       "\n",
       "[20 rows x 125 columns]"
      ]
     },
     "execution_count": 5,
     "metadata": {},
     "output_type": "execute_result"
    }
   ],
   "source": [
    "Defensores.head(20)"
   ]
  },
  {
   "cell_type": "code",
   "execution_count": 8,
   "metadata": {},
   "outputs": [
    {
     "data": {
      "application/vnd.plotly.v1+json": {
       "config": {
        "plotlyServerURL": "https://plot.ly"
       },
       "data": [
        {
         "alignmentgroup": "True",
         "bingroup": "x",
         "hovertemplate": "Player=Yunis Abdelhamid<br>Tkl=%{x}<br>count=%{y}<extra></extra>",
         "legendgroup": "Yunis Abdelhamid",
         "marker": {
          "color": "#636efa",
          "pattern": {
           "shape": ""
          }
         },
         "name": "Yunis Abdelhamid",
         "offsetgroup": "Yunis Abdelhamid",
         "orientation": "v",
         "showlegend": true,
         "type": "histogram",
         "x": [
          2.5
         ],
         "xaxis": "x",
         "yaxis": "y"
        },
        {
         "alignmentgroup": "True",
         "bingroup": "x",
         "hovertemplate": "Player=Abner<br>Tkl=%{x}<br>count=%{y}<extra></extra>",
         "legendgroup": "Abner",
         "marker": {
          "color": "#EF553B",
          "pattern": {
           "shape": ""
          }
         },
         "name": "Abner",
         "offsetgroup": "Abner",
         "orientation": "v",
         "showlegend": true,
         "type": "histogram",
         "x": [
          2.67
         ],
         "xaxis": "x",
         "yaxis": "y"
        },
        {
         "alignmentgroup": "True",
         "bingroup": "x",
         "hovertemplate": "Player=Francesco Acerbi<br>Tkl=%{x}<br>count=%{y}<extra></extra>",
         "legendgroup": "Francesco Acerbi",
         "marker": {
          "color": "#00cc96",
          "pattern": {
           "shape": ""
          }
         },
         "name": "Francesco Acerbi",
         "offsetgroup": "Francesco Acerbi",
         "orientation": "v",
         "showlegend": true,
         "type": "histogram",
         "x": [
          1.3
         ],
         "xaxis": "x",
         "yaxis": "y"
        },
        {
         "alignmentgroup": "True",
         "bingroup": "x",
         "hovertemplate": "Player=Marcos Acu�a<br>Tkl=%{x}<br>count=%{y}<extra></extra>",
         "legendgroup": "Marcos Acu�a",
         "marker": {
          "color": "#ab63fa",
          "pattern": {
           "shape": ""
          }
         },
         "name": "Marcos Acu�a",
         "offsetgroup": "Marcos Acu�a",
         "orientation": "v",
         "showlegend": true,
         "type": "histogram",
         "x": [
          3.3
         ],
         "xaxis": "x",
         "yaxis": "y"
        },
        {
         "alignmentgroup": "True",
         "bingroup": "x",
         "hovertemplate": "Player=Tosin Adarabioyo<br>Tkl=%{x}<br>count=%{y}<extra></extra>",
         "legendgroup": "Tosin Adarabioyo",
         "marker": {
          "color": "#FFA15A",
          "pattern": {
           "shape": ""
          }
         },
         "name": "Tosin Adarabioyo",
         "offsetgroup": "Tosin Adarabioyo",
         "orientation": "v",
         "showlegend": true,
         "type": "histogram",
         "x": [
          1.07
         ],
         "xaxis": "x",
         "yaxis": "y"
        },
        {
         "alignmentgroup": "True",
         "bingroup": "x",
         "hovertemplate": "Player=Emmanuel Agbadou<br>Tkl=%{x}<br>count=%{y}<extra></extra>",
         "legendgroup": "Emmanuel Agbadou",
         "marker": {
          "color": "#19d3f3",
          "pattern": {
           "shape": ""
          }
         },
         "name": "Emmanuel Agbadou",
         "offsetgroup": "Emmanuel Agbadou",
         "orientation": "v",
         "showlegend": true,
         "type": "histogram",
         "x": [
          2.58
         ],
         "xaxis": "x",
         "yaxis": "y"
        },
        {
         "alignmentgroup": "True",
         "bingroup": "x",
         "hovertemplate": "Player=Felix Agu<br>Tkl=%{x}<br>count=%{y}<extra></extra>",
         "legendgroup": "Felix Agu",
         "marker": {
          "color": "#FF6692",
          "pattern": {
           "shape": ""
          }
         },
         "name": "Felix Agu",
         "offsetgroup": "Felix Agu",
         "orientation": "v",
         "showlegend": true,
         "type": "histogram",
         "x": [
          2
         ],
         "xaxis": "x",
         "yaxis": "y"
        },
        {
         "alignmentgroup": "True",
         "bingroup": "x",
         "hovertemplate": "Player=Nayef Aguerd<br>Tkl=%{x}<br>count=%{y}<extra></extra>",
         "legendgroup": "Nayef Aguerd",
         "marker": {
          "color": "#B6E880",
          "pattern": {
           "shape": ""
          }
         },
         "name": "Nayef Aguerd",
         "offsetgroup": "Nayef Aguerd",
         "orientation": "v",
         "showlegend": true,
         "type": "histogram",
         "x": [
          2.28
         ],
         "xaxis": "x",
         "yaxis": "y"
        },
        {
         "alignmentgroup": "True",
         "bingroup": "x",
         "hovertemplate": "Player=Ruben Aguilar<br>Tkl=%{x}<br>count=%{y}<extra></extra>",
         "legendgroup": "Ruben Aguilar",
         "marker": {
          "color": "#FF97FF",
          "pattern": {
           "shape": ""
          }
         },
         "name": "Ruben Aguilar",
         "offsetgroup": "Ruben Aguilar",
         "orientation": "v",
         "showlegend": true,
         "type": "histogram",
         "x": [
          1.91
         ],
         "xaxis": "x",
         "yaxis": "y"
        },
        {
         "alignmentgroup": "True",
         "bingroup": "x",
         "hovertemplate": "Player=Joseph Aidoo<br>Tkl=%{x}<br>count=%{y}<extra></extra>",
         "legendgroup": "Joseph Aidoo",
         "marker": {
          "color": "#FECB52",
          "pattern": {
           "shape": ""
          }
         },
         "name": "Joseph Aidoo",
         "offsetgroup": "Joseph Aidoo",
         "orientation": "v",
         "showlegend": true,
         "type": "histogram",
         "x": [
          1.7
         ],
         "xaxis": "x",
         "yaxis": "y"
        },
        {
         "alignmentgroup": "True",
         "bingroup": "x",
         "hovertemplate": "Player=Ola Aina<br>Tkl=%{x}<br>count=%{y}<extra></extra>",
         "legendgroup": "Ola Aina",
         "marker": {
          "color": "#636efa",
          "pattern": {
           "shape": ""
          }
         },
         "name": "Ola Aina",
         "offsetgroup": "Ola Aina",
         "orientation": "v",
         "showlegend": true,
         "type": "histogram",
         "x": [
          1.73
         ],
         "xaxis": "x",
         "yaxis": "y"
        },
        {
         "alignmentgroup": "True",
         "bingroup": "x",
         "hovertemplate": "Player=Rayan A�t Nouri<br>Tkl=%{x}<br>count=%{y}<extra></extra>",
         "legendgroup": "Rayan A�t Nouri",
         "marker": {
          "color": "#EF553B",
          "pattern": {
           "shape": ""
          }
         },
         "name": "Rayan A�t Nouri",
         "offsetgroup": "Rayan A�t Nouri",
         "orientation": "v",
         "showlegend": true,
         "type": "histogram",
         "x": [
          2.67
         ],
         "xaxis": "x",
         "yaxis": "y"
        },
        {
         "alignmentgroup": "True",
         "bingroup": "x",
         "hovertemplate": "Player=Emanuel Aiwum<br>Tkl=%{x}<br>count=%{y}<extra></extra>",
         "legendgroup": "Emanuel Aiwum",
         "marker": {
          "color": "#00cc96",
          "pattern": {
           "shape": ""
          }
         },
         "name": "Emanuel Aiwum",
         "offsetgroup": "Emanuel Aiwum",
         "orientation": "v",
         "showlegend": true,
         "type": "histogram",
         "x": [
          3.77
         ],
         "xaxis": "x",
         "yaxis": "y"
        },
        {
         "alignmentgroup": "True",
         "bingroup": "x",
         "hovertemplate": "Player=Kristoffer Ajer<br>Tkl=%{x}<br>count=%{y}<extra></extra>",
         "legendgroup": "Kristoffer Ajer",
         "marker": {
          "color": "#ab63fa",
          "pattern": {
           "shape": ""
          }
         },
         "name": "Kristoffer Ajer",
         "offsetgroup": "Kristoffer Ajer",
         "orientation": "v",
         "showlegend": true,
         "type": "histogram",
         "x": [
          1.29
         ],
         "xaxis": "x",
         "yaxis": "y"
        },
        {
         "alignmentgroup": "True",
         "bingroup": "x",
         "hovertemplate": "Player=Manuel Akanji<br>Tkl=%{x}<br>count=%{y}<extra></extra>",
         "legendgroup": "Manuel Akanji",
         "marker": {
          "color": "#FFA15A",
          "pattern": {
           "shape": ""
          }
         },
         "name": "Manuel Akanji",
         "offsetgroup": "Manuel Akanji",
         "orientation": "v",
         "showlegend": true,
         "type": "histogram",
         "x": [
          1.54
         ],
         "xaxis": "x",
         "yaxis": "y"
        },
        {
         "alignmentgroup": "True",
         "bingroup": "x",
         "hovertemplate": "Player=Nathan Ak�<br>Tkl=%{x}<br>count=%{y}<extra></extra>",
         "legendgroup": "Nathan Ak�",
         "marker": {
          "color": "#19d3f3",
          "pattern": {
           "shape": ""
          }
         },
         "name": "Nathan Ak�",
         "offsetgroup": "Nathan Ak�",
         "orientation": "v",
         "showlegend": true,
         "type": "histogram",
         "x": [
          1.25
         ],
         "xaxis": "x",
         "yaxis": "y"
        },
        {
         "alignmentgroup": "True",
         "bingroup": "x",
         "hovertemplate": "Player=Sergio Akieme<br>Tkl=%{x}<br>count=%{y}<extra></extra>",
         "legendgroup": "Sergio Akieme",
         "marker": {
          "color": "#FF6692",
          "pattern": {
           "shape": ""
          }
         },
         "name": "Sergio Akieme",
         "offsetgroup": "Sergio Akieme",
         "orientation": "v",
         "showlegend": true,
         "type": "histogram",
         "x": [
          1.29
         ],
         "xaxis": "x",
         "yaxis": "y"
        },
        {
         "alignmentgroup": "True",
         "bingroup": "x",
         "hovertemplate": "Player=Kevin Akpoguma<br>Tkl=%{x}<br>count=%{y}<extra></extra>",
         "legendgroup": "Kevin Akpoguma",
         "marker": {
          "color": "#B6E880",
          "pattern": {
           "shape": ""
          }
         },
         "name": "Kevin Akpoguma",
         "offsetgroup": "Kevin Akpoguma",
         "orientation": "v",
         "showlegend": true,
         "type": "histogram",
         "x": [
          3.16
         ],
         "xaxis": "x",
         "yaxis": "y"
        },
        {
         "alignmentgroup": "True",
         "bingroup": "x",
         "hovertemplate": "Player=David Alaba<br>Tkl=%{x}<br>count=%{y}<extra></extra>",
         "legendgroup": "David Alaba",
         "marker": {
          "color": "#FF97FF",
          "pattern": {
           "shape": ""
          }
         },
         "name": "David Alaba",
         "offsetgroup": "David Alaba",
         "orientation": "v",
         "showlegend": true,
         "type": "histogram",
         "x": [
          0.66
         ],
         "xaxis": "x",
         "yaxis": "y"
        },
        {
         "alignmentgroup": "True",
         "bingroup": "x",
         "hovertemplate": "Player=Jordi Alba<br>Tkl=%{x}<br>count=%{y}<extra></extra>",
         "legendgroup": "Jordi Alba",
         "marker": {
          "color": "#FECB52",
          "pattern": {
           "shape": ""
          }
         },
         "name": "Jordi Alba",
         "offsetgroup": "Jordi Alba",
         "orientation": "v",
         "showlegend": true,
         "type": "histogram",
         "x": [
          1.65
         ],
         "xaxis": "x",
         "yaxis": "y"
        },
        {
         "alignmentgroup": "True",
         "bingroup": "x",
         "hovertemplate": "Player=Ra�l Albiol<br>Tkl=%{x}<br>count=%{y}<extra></extra>",
         "legendgroup": "Ra�l Albiol",
         "marker": {
          "color": "#636efa",
          "pattern": {
           "shape": ""
          }
         },
         "name": "Ra�l Albiol",
         "offsetgroup": "Ra�l Albiol",
         "orientation": "v",
         "showlegend": true,
         "type": "histogram",
         "x": [
          1.01
         ],
         "xaxis": "x",
         "yaxis": "y"
        },
        {
         "alignmentgroup": "True",
         "bingroup": "x",
         "hovertemplate": "Player=Omar Alderete<br>Tkl=%{x}<br>count=%{y}<extra></extra>",
         "legendgroup": "Omar Alderete",
         "marker": {
          "color": "#EF553B",
          "pattern": {
           "shape": ""
          }
         },
         "name": "Omar Alderete",
         "offsetgroup": "Omar Alderete",
         "orientation": "v",
         "showlegend": true,
         "type": "histogram",
         "x": [
          1.29
         ],
         "xaxis": "x",
         "yaxis": "y"
        },
        {
         "alignmentgroup": "True",
         "bingroup": "x",
         "hovertemplate": "Player=Trent Alexander-Arnold<br>Tkl=%{x}<br>count=%{y}<extra></extra>",
         "legendgroup": "Trent Alexander-Arnold",
         "marker": {
          "color": "#00cc96",
          "pattern": {
           "shape": ""
          }
         },
         "name": "Trent Alexander-Arnold",
         "offsetgroup": "Trent Alexander-Arnold",
         "orientation": "v",
         "showlegend": true,
         "type": "histogram",
         "x": [
          1.44
         ],
         "xaxis": "x",
         "yaxis": "y"
        },
        {
         "alignmentgroup": "True",
         "bingroup": "x",
         "hovertemplate": "Player=Jim Allevinah<br>Tkl=%{x}<br>count=%{y}<extra></extra>",
         "legendgroup": "Jim Allevinah",
         "marker": {
          "color": "#ab63fa",
          "pattern": {
           "shape": ""
          }
         },
         "name": "Jim Allevinah",
         "offsetgroup": "Jim Allevinah",
         "orientation": "v",
         "showlegend": true,
         "type": "histogram",
         "x": [
          1.91
         ],
         "xaxis": "x",
         "yaxis": "y"
        },
        {
         "alignmentgroup": "True",
         "bingroup": "x",
         "hovertemplate": "Player=Marcos Alonso<br>Tkl=%{x}<br>count=%{y}<extra></extra>",
         "legendgroup": "Marcos Alonso",
         "marker": {
          "color": "#FFA15A",
          "pattern": {
           "shape": ""
          }
         },
         "name": "Marcos Alonso",
         "offsetgroup": "Marcos Alonso",
         "orientation": "v",
         "showlegend": true,
         "type": "histogram",
         "x": [
          1.16
         ],
         "xaxis": "x",
         "yaxis": "y"
        },
        {
         "alignmentgroup": "True",
         "bingroup": "x",
         "hovertemplate": "Player=Micka�l Alphonse<br>Tkl=%{x}<br>count=%{y}<extra></extra>",
         "legendgroup": "Micka�l Alphonse",
         "marker": {
          "color": "#19d3f3",
          "pattern": {
           "shape": ""
          }
         },
         "name": "Micka�l Alphonse",
         "offsetgroup": "Micka�l Alphonse",
         "orientation": "v",
         "showlegend": true,
         "type": "histogram",
         "x": [
          1.89
         ],
         "xaxis": "x",
         "yaxis": "y"
        },
        {
         "alignmentgroup": "True",
         "bingroup": "x",
         "hovertemplate": "Player=Gast�n �lvarez<br>Tkl=%{x}<br>count=%{y}<extra></extra>",
         "legendgroup": "Gast�n �lvarez",
         "marker": {
          "color": "#FF6692",
          "pattern": {
           "shape": ""
          }
         },
         "name": "Gast�n �lvarez",
         "offsetgroup": "Gast�n �lvarez",
         "orientation": "v",
         "showlegend": true,
         "type": "histogram",
         "x": [
          2.22
         ],
         "xaxis": "x",
         "yaxis": "y"
        },
        {
         "alignmentgroup": "True",
         "bingroup": "x",
         "hovertemplate": "Player=Yeray �lvarez<br>Tkl=%{x}<br>count=%{y}<extra></extra>",
         "legendgroup": "Yeray �lvarez",
         "marker": {
          "color": "#B6E880",
          "pattern": {
           "shape": ""
          }
         },
         "name": "Yeray �lvarez",
         "offsetgroup": "Yeray �lvarez",
         "orientation": "v",
         "showlegend": true,
         "type": "histogram",
         "x": [
          1.21
         ],
         "xaxis": "x",
         "yaxis": "y"
        },
        {
         "alignmentgroup": "True",
         "bingroup": "x",
         "hovertemplate": "Player=Daniel Amartey<br>Tkl=%{x}<br>count=%{y}<extra></extra>",
         "legendgroup": "Daniel Amartey",
         "marker": {
          "color": "#FF97FF",
          "pattern": {
           "shape": ""
          }
         },
         "name": "Daniel Amartey",
         "offsetgroup": "Daniel Amartey",
         "orientation": "v",
         "showlegend": true,
         "type": "histogram",
         "x": [
          1.12
         ],
         "xaxis": "x",
         "yaxis": "y"
        },
        {
         "alignmentgroup": "True",
         "bingroup": "x",
         "hovertemplate": "Player=Jordan Amavi<br>Tkl=%{x}<br>count=%{y}<extra></extra>",
         "legendgroup": "Jordan Amavi",
         "marker": {
          "color": "#FECB52",
          "pattern": {
           "shape": ""
          }
         },
         "name": "Jordan Amavi",
         "offsetgroup": "Jordan Amavi",
         "orientation": "v",
         "showlegend": true,
         "type": "histogram",
         "x": [
          1.43
         ],
         "xaxis": "x",
         "yaxis": "y"
        }
       ],
       "layout": {
        "barmode": "relative",
        "legend": {
         "title": {
          "text": "Player"
         },
         "tracegroupgap": 0
        },
        "margin": {
         "t": 60
        },
        "template": {
         "data": {
          "bar": [
           {
            "error_x": {
             "color": "#2a3f5f"
            },
            "error_y": {
             "color": "#2a3f5f"
            },
            "marker": {
             "line": {
              "color": "#E5ECF6",
              "width": 0.5
             },
             "pattern": {
              "fillmode": "overlay",
              "size": 10,
              "solidity": 0.2
             }
            },
            "type": "bar"
           }
          ],
          "barpolar": [
           {
            "marker": {
             "line": {
              "color": "#E5ECF6",
              "width": 0.5
             },
             "pattern": {
              "fillmode": "overlay",
              "size": 10,
              "solidity": 0.2
             }
            },
            "type": "barpolar"
           }
          ],
          "carpet": [
           {
            "aaxis": {
             "endlinecolor": "#2a3f5f",
             "gridcolor": "white",
             "linecolor": "white",
             "minorgridcolor": "white",
             "startlinecolor": "#2a3f5f"
            },
            "baxis": {
             "endlinecolor": "#2a3f5f",
             "gridcolor": "white",
             "linecolor": "white",
             "minorgridcolor": "white",
             "startlinecolor": "#2a3f5f"
            },
            "type": "carpet"
           }
          ],
          "choropleth": [
           {
            "colorbar": {
             "outlinewidth": 0,
             "ticks": ""
            },
            "type": "choropleth"
           }
          ],
          "contour": [
           {
            "colorbar": {
             "outlinewidth": 0,
             "ticks": ""
            },
            "colorscale": [
             [
              0,
              "#0d0887"
             ],
             [
              0.1111111111111111,
              "#46039f"
             ],
             [
              0.2222222222222222,
              "#7201a8"
             ],
             [
              0.3333333333333333,
              "#9c179e"
             ],
             [
              0.4444444444444444,
              "#bd3786"
             ],
             [
              0.5555555555555556,
              "#d8576b"
             ],
             [
              0.6666666666666666,
              "#ed7953"
             ],
             [
              0.7777777777777778,
              "#fb9f3a"
             ],
             [
              0.8888888888888888,
              "#fdca26"
             ],
             [
              1,
              "#f0f921"
             ]
            ],
            "type": "contour"
           }
          ],
          "contourcarpet": [
           {
            "colorbar": {
             "outlinewidth": 0,
             "ticks": ""
            },
            "type": "contourcarpet"
           }
          ],
          "heatmap": [
           {
            "colorbar": {
             "outlinewidth": 0,
             "ticks": ""
            },
            "colorscale": [
             [
              0,
              "#0d0887"
             ],
             [
              0.1111111111111111,
              "#46039f"
             ],
             [
              0.2222222222222222,
              "#7201a8"
             ],
             [
              0.3333333333333333,
              "#9c179e"
             ],
             [
              0.4444444444444444,
              "#bd3786"
             ],
             [
              0.5555555555555556,
              "#d8576b"
             ],
             [
              0.6666666666666666,
              "#ed7953"
             ],
             [
              0.7777777777777778,
              "#fb9f3a"
             ],
             [
              0.8888888888888888,
              "#fdca26"
             ],
             [
              1,
              "#f0f921"
             ]
            ],
            "type": "heatmap"
           }
          ],
          "heatmapgl": [
           {
            "colorbar": {
             "outlinewidth": 0,
             "ticks": ""
            },
            "colorscale": [
             [
              0,
              "#0d0887"
             ],
             [
              0.1111111111111111,
              "#46039f"
             ],
             [
              0.2222222222222222,
              "#7201a8"
             ],
             [
              0.3333333333333333,
              "#9c179e"
             ],
             [
              0.4444444444444444,
              "#bd3786"
             ],
             [
              0.5555555555555556,
              "#d8576b"
             ],
             [
              0.6666666666666666,
              "#ed7953"
             ],
             [
              0.7777777777777778,
              "#fb9f3a"
             ],
             [
              0.8888888888888888,
              "#fdca26"
             ],
             [
              1,
              "#f0f921"
             ]
            ],
            "type": "heatmapgl"
           }
          ],
          "histogram": [
           {
            "marker": {
             "pattern": {
              "fillmode": "overlay",
              "size": 10,
              "solidity": 0.2
             }
            },
            "type": "histogram"
           }
          ],
          "histogram2d": [
           {
            "colorbar": {
             "outlinewidth": 0,
             "ticks": ""
            },
            "colorscale": [
             [
              0,
              "#0d0887"
             ],
             [
              0.1111111111111111,
              "#46039f"
             ],
             [
              0.2222222222222222,
              "#7201a8"
             ],
             [
              0.3333333333333333,
              "#9c179e"
             ],
             [
              0.4444444444444444,
              "#bd3786"
             ],
             [
              0.5555555555555556,
              "#d8576b"
             ],
             [
              0.6666666666666666,
              "#ed7953"
             ],
             [
              0.7777777777777778,
              "#fb9f3a"
             ],
             [
              0.8888888888888888,
              "#fdca26"
             ],
             [
              1,
              "#f0f921"
             ]
            ],
            "type": "histogram2d"
           }
          ],
          "histogram2dcontour": [
           {
            "colorbar": {
             "outlinewidth": 0,
             "ticks": ""
            },
            "colorscale": [
             [
              0,
              "#0d0887"
             ],
             [
              0.1111111111111111,
              "#46039f"
             ],
             [
              0.2222222222222222,
              "#7201a8"
             ],
             [
              0.3333333333333333,
              "#9c179e"
             ],
             [
              0.4444444444444444,
              "#bd3786"
             ],
             [
              0.5555555555555556,
              "#d8576b"
             ],
             [
              0.6666666666666666,
              "#ed7953"
             ],
             [
              0.7777777777777778,
              "#fb9f3a"
             ],
             [
              0.8888888888888888,
              "#fdca26"
             ],
             [
              1,
              "#f0f921"
             ]
            ],
            "type": "histogram2dcontour"
           }
          ],
          "mesh3d": [
           {
            "colorbar": {
             "outlinewidth": 0,
             "ticks": ""
            },
            "type": "mesh3d"
           }
          ],
          "parcoords": [
           {
            "line": {
             "colorbar": {
              "outlinewidth": 0,
              "ticks": ""
             }
            },
            "type": "parcoords"
           }
          ],
          "pie": [
           {
            "automargin": true,
            "type": "pie"
           }
          ],
          "scatter": [
           {
            "fillpattern": {
             "fillmode": "overlay",
             "size": 10,
             "solidity": 0.2
            },
            "type": "scatter"
           }
          ],
          "scatter3d": [
           {
            "line": {
             "colorbar": {
              "outlinewidth": 0,
              "ticks": ""
             }
            },
            "marker": {
             "colorbar": {
              "outlinewidth": 0,
              "ticks": ""
             }
            },
            "type": "scatter3d"
           }
          ],
          "scattercarpet": [
           {
            "marker": {
             "colorbar": {
              "outlinewidth": 0,
              "ticks": ""
             }
            },
            "type": "scattercarpet"
           }
          ],
          "scattergeo": [
           {
            "marker": {
             "colorbar": {
              "outlinewidth": 0,
              "ticks": ""
             }
            },
            "type": "scattergeo"
           }
          ],
          "scattergl": [
           {
            "marker": {
             "colorbar": {
              "outlinewidth": 0,
              "ticks": ""
             }
            },
            "type": "scattergl"
           }
          ],
          "scattermapbox": [
           {
            "marker": {
             "colorbar": {
              "outlinewidth": 0,
              "ticks": ""
             }
            },
            "type": "scattermapbox"
           }
          ],
          "scatterpolar": [
           {
            "marker": {
             "colorbar": {
              "outlinewidth": 0,
              "ticks": ""
             }
            },
            "type": "scatterpolar"
           }
          ],
          "scatterpolargl": [
           {
            "marker": {
             "colorbar": {
              "outlinewidth": 0,
              "ticks": ""
             }
            },
            "type": "scatterpolargl"
           }
          ],
          "scatterternary": [
           {
            "marker": {
             "colorbar": {
              "outlinewidth": 0,
              "ticks": ""
             }
            },
            "type": "scatterternary"
           }
          ],
          "surface": [
           {
            "colorbar": {
             "outlinewidth": 0,
             "ticks": ""
            },
            "colorscale": [
             [
              0,
              "#0d0887"
             ],
             [
              0.1111111111111111,
              "#46039f"
             ],
             [
              0.2222222222222222,
              "#7201a8"
             ],
             [
              0.3333333333333333,
              "#9c179e"
             ],
             [
              0.4444444444444444,
              "#bd3786"
             ],
             [
              0.5555555555555556,
              "#d8576b"
             ],
             [
              0.6666666666666666,
              "#ed7953"
             ],
             [
              0.7777777777777778,
              "#fb9f3a"
             ],
             [
              0.8888888888888888,
              "#fdca26"
             ],
             [
              1,
              "#f0f921"
             ]
            ],
            "type": "surface"
           }
          ],
          "table": [
           {
            "cells": {
             "fill": {
              "color": "#EBF0F8"
             },
             "line": {
              "color": "white"
             }
            },
            "header": {
             "fill": {
              "color": "#C8D4E3"
             },
             "line": {
              "color": "white"
             }
            },
            "type": "table"
           }
          ]
         },
         "layout": {
          "annotationdefaults": {
           "arrowcolor": "#2a3f5f",
           "arrowhead": 0,
           "arrowwidth": 1
          },
          "autotypenumbers": "strict",
          "coloraxis": {
           "colorbar": {
            "outlinewidth": 0,
            "ticks": ""
           }
          },
          "colorscale": {
           "diverging": [
            [
             0,
             "#8e0152"
            ],
            [
             0.1,
             "#c51b7d"
            ],
            [
             0.2,
             "#de77ae"
            ],
            [
             0.3,
             "#f1b6da"
            ],
            [
             0.4,
             "#fde0ef"
            ],
            [
             0.5,
             "#f7f7f7"
            ],
            [
             0.6,
             "#e6f5d0"
            ],
            [
             0.7,
             "#b8e186"
            ],
            [
             0.8,
             "#7fbc41"
            ],
            [
             0.9,
             "#4d9221"
            ],
            [
             1,
             "#276419"
            ]
           ],
           "sequential": [
            [
             0,
             "#0d0887"
            ],
            [
             0.1111111111111111,
             "#46039f"
            ],
            [
             0.2222222222222222,
             "#7201a8"
            ],
            [
             0.3333333333333333,
             "#9c179e"
            ],
            [
             0.4444444444444444,
             "#bd3786"
            ],
            [
             0.5555555555555556,
             "#d8576b"
            ],
            [
             0.6666666666666666,
             "#ed7953"
            ],
            [
             0.7777777777777778,
             "#fb9f3a"
            ],
            [
             0.8888888888888888,
             "#fdca26"
            ],
            [
             1,
             "#f0f921"
            ]
           ],
           "sequentialminus": [
            [
             0,
             "#0d0887"
            ],
            [
             0.1111111111111111,
             "#46039f"
            ],
            [
             0.2222222222222222,
             "#7201a8"
            ],
            [
             0.3333333333333333,
             "#9c179e"
            ],
            [
             0.4444444444444444,
             "#bd3786"
            ],
            [
             0.5555555555555556,
             "#d8576b"
            ],
            [
             0.6666666666666666,
             "#ed7953"
            ],
            [
             0.7777777777777778,
             "#fb9f3a"
            ],
            [
             0.8888888888888888,
             "#fdca26"
            ],
            [
             1,
             "#f0f921"
            ]
           ]
          },
          "colorway": [
           "#636efa",
           "#EF553B",
           "#00cc96",
           "#ab63fa",
           "#FFA15A",
           "#19d3f3",
           "#FF6692",
           "#B6E880",
           "#FF97FF",
           "#FECB52"
          ],
          "font": {
           "color": "#2a3f5f"
          },
          "geo": {
           "bgcolor": "white",
           "lakecolor": "white",
           "landcolor": "#E5ECF6",
           "showlakes": true,
           "showland": true,
           "subunitcolor": "white"
          },
          "hoverlabel": {
           "align": "left"
          },
          "hovermode": "closest",
          "mapbox": {
           "style": "light"
          },
          "paper_bgcolor": "white",
          "plot_bgcolor": "#E5ECF6",
          "polar": {
           "angularaxis": {
            "gridcolor": "white",
            "linecolor": "white",
            "ticks": ""
           },
           "bgcolor": "#E5ECF6",
           "radialaxis": {
            "gridcolor": "white",
            "linecolor": "white",
            "ticks": ""
           }
          },
          "scene": {
           "xaxis": {
            "backgroundcolor": "#E5ECF6",
            "gridcolor": "white",
            "gridwidth": 2,
            "linecolor": "white",
            "showbackground": true,
            "ticks": "",
            "zerolinecolor": "white"
           },
           "yaxis": {
            "backgroundcolor": "#E5ECF6",
            "gridcolor": "white",
            "gridwidth": 2,
            "linecolor": "white",
            "showbackground": true,
            "ticks": "",
            "zerolinecolor": "white"
           },
           "zaxis": {
            "backgroundcolor": "#E5ECF6",
            "gridcolor": "white",
            "gridwidth": 2,
            "linecolor": "white",
            "showbackground": true,
            "ticks": "",
            "zerolinecolor": "white"
           }
          },
          "shapedefaults": {
           "line": {
            "color": "#2a3f5f"
           }
          },
          "ternary": {
           "aaxis": {
            "gridcolor": "white",
            "linecolor": "white",
            "ticks": ""
           },
           "baxis": {
            "gridcolor": "white",
            "linecolor": "white",
            "ticks": ""
           },
           "bgcolor": "#E5ECF6",
           "caxis": {
            "gridcolor": "white",
            "linecolor": "white",
            "ticks": ""
           }
          },
          "title": {
           "x": 0.05
          },
          "xaxis": {
           "automargin": true,
           "gridcolor": "white",
           "linecolor": "white",
           "ticks": "",
           "title": {
            "standoff": 15
           },
           "zerolinecolor": "white",
           "zerolinewidth": 2
          },
          "yaxis": {
           "automargin": true,
           "gridcolor": "white",
           "linecolor": "white",
           "ticks": "",
           "title": {
            "standoff": 15
           },
           "zerolinecolor": "white",
           "zerolinewidth": 2
          }
         }
        },
        "xaxis": {
         "anchor": "y",
         "domain": [
          0,
          1
         ],
         "title": {
          "text": "Tkl"
         }
        },
        "yaxis": {
         "anchor": "x",
         "domain": [
          0,
          1
         ],
         "title": {
          "text": "count"
         }
        }
       }
      }
     },
     "metadata": {},
     "output_type": "display_data"
    }
   ],
   "source": [
    "px.histogram(Defensores.head(30), x = \"Tkl\", color = 'Player').show()"
   ]
  },
  {
   "cell_type": "code",
   "execution_count": 17,
   "metadata": {},
   "outputs": [],
   "source": [
    "positivos = Defensores['Goals'] + Defensores['Assists'] + Defensores['MP'] * 2 + Defensores['Starts'] * 2 + Defensores['Recov'] * 3 + Defensores['Blocks'] * 3 + Defensores['BlkPass'] + Defensores['TB'] + Defensores['Tkl+Int'] * 2 + Defensores['TI'] \n",
    "\n",
    "negativos = Defensores['PasOff'] + Defensores['Off'] + Defensores['CrdY'] * 2 + Defensores['CrdR'] * 3 + Defensores['Fls'] * 2  + Defensores['Err'] * 3"
   ]
  },
  {
   "cell_type": "code",
   "execution_count": 20,
   "metadata": {},
   "outputs": [
    {
     "data": {
      "text/html": [
       "<div>\n",
       "<style scoped>\n",
       "    .dataframe tbody tr th:only-of-type {\n",
       "        vertical-align: middle;\n",
       "    }\n",
       "\n",
       "    .dataframe tbody tr th {\n",
       "        vertical-align: top;\n",
       "    }\n",
       "\n",
       "    .dataframe thead th {\n",
       "        text-align: right;\n",
       "    }\n",
       "</style>\n",
       "<table border=\"1\" class=\"dataframe\">\n",
       "  <thead>\n",
       "    <tr style=\"text-align: right;\">\n",
       "      <th></th>\n",
       "      <th>Player</th>\n",
       "      <th>Pos</th>\n",
       "      <th>score</th>\n",
       "    </tr>\n",
       "  </thead>\n",
       "  <tbody>\n",
       "    <tr>\n",
       "      <th>792</th>\n",
       "      <td>Kieran Trippier</td>\n",
       "      <td>DF</td>\n",
       "      <td>126.66</td>\n",
       "    </tr>\n",
       "    <tr>\n",
       "      <th>322</th>\n",
       "      <td>Valentin Gendrey</td>\n",
       "      <td>DF</td>\n",
       "      <td>125.24</td>\n",
       "    </tr>\n",
       "    <tr>\n",
       "      <th>697</th>\n",
       "      <td>Mohammed Salisu</td>\n",
       "      <td>DF</td>\n",
       "      <td>123.27</td>\n",
       "    </tr>\n",
       "    <tr>\n",
       "      <th>0</th>\n",
       "      <td>Yunis Abdelhamid</td>\n",
       "      <td>DF</td>\n",
       "      <td>121.95</td>\n",
       "    </tr>\n",
       "    <tr>\n",
       "      <th>669</th>\n",
       "      <td>Antonee Robinson</td>\n",
       "      <td>DF</td>\n",
       "      <td>121.67</td>\n",
       "    </tr>\n",
       "    <tr>\n",
       "      <th>617</th>\n",
       "      <td>Fabiano Parisi</td>\n",
       "      <td>DF</td>\n",
       "      <td>121.63</td>\n",
       "    </tr>\n",
       "    <tr>\n",
       "      <th>467</th>\n",
       "      <td>Vincent Le Goff</td>\n",
       "      <td>DF</td>\n",
       "      <td>121.63</td>\n",
       "    </tr>\n",
       "    <tr>\n",
       "      <th>835</th>\n",
       "      <td>Mitchell Weiser</td>\n",
       "      <td>DFFW</td>\n",
       "      <td>121.09</td>\n",
       "    </tr>\n",
       "    <tr>\n",
       "      <th>755</th>\n",
       "      <td>Pascal Struijk</td>\n",
       "      <td>DF</td>\n",
       "      <td>120.95</td>\n",
       "    </tr>\n",
       "    <tr>\n",
       "      <th>239</th>\n",
       "      <td>Axel Disasi</td>\n",
       "      <td>DF</td>\n",
       "      <td>120.67</td>\n",
       "    </tr>\n",
       "  </tbody>\n",
       "</table>\n",
       "</div>"
      ],
      "text/plain": [
       "               Player   Pos   score\n",
       "792   Kieran Trippier    DF  126.66\n",
       "322  Valentin Gendrey    DF  125.24\n",
       "697   Mohammed Salisu    DF  123.27\n",
       "0    Yunis Abdelhamid    DF  121.95\n",
       "669  Antonee Robinson    DF  121.67\n",
       "617    Fabiano Parisi    DF  121.63\n",
       "467   Vincent Le Goff    DF  121.63\n",
       "835   Mitchell Weiser  DFFW  121.09\n",
       "755    Pascal Struijk    DF  120.95\n",
       "239       Axel Disasi    DF  120.67"
      ]
     },
     "execution_count": 20,
     "metadata": {},
     "output_type": "execute_result"
    }
   ],
   "source": [
    "Defensores['score'] = positivos - negativos\n",
    "Defensores.sort_values(['score'], ascending = False, inplace = True)\n",
    "Defensores[['Player', 'Pos','score']].head(10)"
   ]
  },
  {
   "cell_type": "code",
   "execution_count": 22,
   "metadata": {},
   "outputs": [
    {
     "data": {
      "application/vnd.plotly.v1+json": {
       "config": {
        "plotlyServerURL": "https://plot.ly"
       },
       "data": [
        {
         "alignmentgroup": "True",
         "bingroup": "x",
         "hovertemplate": "score=%{x}<br>count=%{y}<extra></extra>",
         "legendgroup": "",
         "marker": {
          "color": "#636efa",
          "pattern": {
           "shape": ""
          }
         },
         "name": "",
         "offsetgroup": "",
         "orientation": "v",
         "showlegend": false,
         "type": "histogram",
         "x": [
          126.65999999999998,
          125.24000000000001,
          123.27000000000001,
          121.95,
          121.66999999999999,
          121.63,
          121.63,
          121.09000000000002,
          120.94999999999999,
          120.67000000000002,
          120.64,
          119.99,
          119,
          118.71999999999998,
          118.69000000000003,
          118.11999999999999,
          117.69999999999999,
          117.69,
          117.21,
          116.73,
          116.26,
          116.00999999999999,
          115.94999999999999,
          115.71999999999998,
          115.66999999999999,
          115.53,
          115.52999999999997,
          115.51,
          115.31,
          115.18999999999998,
          115.00999999999999,
          114.85,
          114.83,
          114.74000000000001,
          114.53,
          114.47,
          114.04000000000002,
          113.81,
          113.52,
          113.32000000000001,
          113.31,
          113.24000000000001,
          113.23,
          113.22999999999999,
          113.10000000000002,
          113.1,
          113.01,
          112.58,
          112.47999999999998,
          112.41,
          112.39000000000003,
          112.05000000000001,
          111.82999999999998,
          111.74,
          111.64999999999999,
          111.5,
          111.21,
          111.06,
          110.95,
          110.81,
          110.53,
          110.37,
          110.29,
          110.21000000000001,
          109.89999999999999,
          109.69,
          109.69,
          109.66,
          109.62999999999998,
          109.53999999999999,
          109.5,
          109.32000000000002,
          109.16,
          108.98999999999998,
          108.78999999999999,
          108.73000000000002,
          108.72,
          108.67999999999998,
          108.44,
          108.42999999999999,
          108.40000000000002,
          108.33,
          108.31,
          108.22000000000003,
          108.11999999999999,
          108.1,
          108.09,
          108,
          108,
          107.7,
          107.59,
          107.55999999999999,
          107.52999999999999,
          107.19,
          107.11999999999999,
          106.93,
          106.89999999999999,
          106.82,
          106.44999999999999,
          106.40000000000002,
          106.3,
          106.3,
          106.24,
          106.04,
          106.01,
          105.90999999999998,
          105.89,
          105.83999999999999,
          105.78,
          105.73,
          105.60999999999997,
          105.60000000000001,
          105.36000000000001,
          105.35,
          105.31,
          105.15999999999998,
          105.11000000000001,
          104.74999999999999,
          104.69999999999999,
          104.45,
          104.44999999999997,
          104.36000000000003,
          104.25,
          104.01,
          103.99999999999999,
          103.91000000000003,
          103.8,
          103.60000000000001,
          103.55999999999999,
          103.39,
          103.32000000000001,
          103.30000000000003,
          103.28000000000002,
          102.97999999999999,
          102.96,
          102.91999999999997,
          102.77,
          102.67,
          102.58000000000001,
          102.51000000000002,
          102.41999999999999,
          102.37,
          102.34,
          102.33999999999999,
          102.3,
          102,
          101.95000000000002,
          101.85999999999999,
          101.78,
          101.73,
          101.37000000000002,
          101.16000000000001,
          101.12,
          100.96999999999998,
          100.81999999999998,
          100.53,
          100.47999999999998,
          99.97,
          99.89999999999999,
          99.89999999999999,
          99.89000000000001,
          99.86000000000001,
          99.71,
          99.58999999999999,
          99.48000000000002,
          99.33,
          99.30999999999999,
          99.24000000000001,
          99.19999999999999,
          99.06,
          99.03999999999999,
          98.96000000000001,
          98.94,
          98.93,
          98.82,
          98.77,
          98.75,
          98.66,
          98.6,
          98.56,
          98.55,
          98.44999999999999,
          98.33,
          98.28,
          98.23999999999998,
          98.1,
          97.95999999999998,
          97.84,
          97.7,
          97.69000000000001,
          97.55999999999999,
          97.45,
          97.42999999999999,
          97.28999999999999,
          97.28,
          97.08,
          96.99000000000001,
          96.91,
          96.85000000000001,
          96.78,
          96.69999999999999,
          96.38,
          96.25999999999999,
          96.14,
          96.12,
          96.07000000000001,
          96.05,
          95.97,
          95.89,
          95.7,
          95.54,
          95.5,
          95.47999999999998,
          95.44,
          95.36,
          95.22,
          95.13999999999999,
          94.88000000000001,
          94.64000000000001,
          94.60000000000001,
          94.44000000000001,
          94.32000000000001,
          94.21,
          94.13,
          93.72,
          93.58999999999999,
          93.33000000000001,
          93.29,
          93.2,
          93.15000000000002,
          93.10999999999999,
          93.05,
          93.03,
          92.99000000000001,
          92.89999999999999,
          92.82999999999998,
          92.75000000000001,
          92.71999999999998,
          92.57,
          92.43999999999998,
          92.39000000000001,
          92.32,
          92.22999999999999,
          92.03,
          91.95000000000002,
          91.80999999999999,
          91.68999999999998,
          91.63000000000001,
          91.42999999999999,
          91.31000000000002,
          91.28999999999998,
          91.28000000000002,
          91.18,
          91.03,
          91.02000000000001,
          90.99999999999999,
          90.84999999999998,
          90.78999999999999,
          90.77999999999997,
          90.74,
          90.65,
          90.55,
          90.46000000000001,
          90.42999999999999,
          90.41999999999999,
          90.25,
          90.08000000000001,
          90.01,
          89.96000000000001,
          89.83999999999999,
          89.81999999999998,
          89.73000000000002,
          89.69999999999997,
          89.63999999999999,
          89.47000000000001,
          89.36999999999999,
          89.35000000000001,
          89.32,
          89.28999999999999,
          89.25,
          89.19,
          89.18,
          89.14999999999999,
          89.13,
          89.10999999999999,
          89.06999999999998,
          89.06,
          89.04999999999998,
          89.01,
          88.96,
          88.89999999999999,
          88.88999999999999,
          88.83000000000001,
          88.77999999999999,
          88.64,
          88.52,
          88.41,
          88.28,
          88.26,
          88.21,
          88.2,
          88.08000000000001,
          88.07000000000001,
          88.01,
          87.98999999999998,
          87.92,
          87.86000000000001,
          87.8,
          87.60999999999999,
          87.6,
          87.48999999999998,
          87.38,
          87.36000000000001,
          87.34,
          87.29000000000002,
          87.17,
          87.16,
          87.11999999999999,
          87.07,
          86.85,
          86.82999999999998,
          86.39999999999999,
          86.2,
          86.12,
          85.99999999999999,
          85.81,
          85.64999999999999,
          85.60999999999999,
          85.58,
          85.41000000000001,
          85.36,
          85.32,
          85.16999999999999,
          85.12,
          85.06,
          84.84000000000002,
          84.83000000000001,
          84.57000000000001,
          84.54,
          84.15000000000002,
          83.74000000000001,
          83.69000000000001,
          83.60000000000002,
          83.19000000000001,
          83.05999999999999,
          82.75,
          82.64,
          82.4,
          82.38000000000001,
          82.35000000000002,
          82.32000000000001,
          82.26,
          82.25,
          82.07999999999998,
          81.94000000000001,
          81.79000000000002,
          81.74000000000001,
          81.73,
          81.56,
          81.5,
          81.49000000000001,
          81.46999999999998,
          81.42999999999999,
          81.41,
          81.3,
          81.27000000000001,
          81.27000000000001,
          81.2,
          81.06,
          80.97,
          80.88,
          80.71000000000001,
          80.5,
          80.38999999999999,
          80.38000000000002,
          80.37999999999998,
          80.37,
          80.06,
          80.05,
          79.75000000000003,
          79.63999999999999,
          79.59,
          79.56000000000002,
          79.52000000000001,
          79.36,
          79.36,
          79.33,
          79.30999999999999,
          79.06,
          79.02000000000001,
          78.69,
          78.53,
          78.52,
          78.35,
          78.23,
          78.15,
          78.14000000000001,
          77.96,
          77.86999999999999,
          77.59,
          77.55,
          77.01,
          77,
          76.66000000000001,
          76.65,
          76.38,
          76.06,
          76.02,
          76,
          75.85,
          75.83,
          75.71,
          75.62,
          75.41,
          75.39,
          75.18,
          75.1,
          75.02000000000001,
          74.99000000000001,
          74.88,
          74.69000000000001,
          74.67,
          74.56,
          74.53999999999999,
          74.42999999999999,
          74.29,
          74.2,
          74.02999999999999,
          74,
          73.99000000000001,
          73.97999999999999,
          73.61999999999999,
          73.46,
          73.46,
          73.44000000000003,
          73.44,
          73.42,
          73.28999999999999,
          73.27999999999999,
          72.99000000000001,
          72.98000000000002,
          72.96,
          72.83,
          72.71,
          72.66,
          72.61000000000001,
          72.6,
          72.58000000000001,
          72.32000000000001,
          72.25,
          72.19,
          72.06000000000002,
          72.01,
          72,
          71.94000000000001,
          71.93999999999998,
          71.89999999999999,
          71.63999999999999,
          71.5,
          71.49,
          71.31,
          71.27000000000001,
          71.02999999999999,
          70.83999999999999,
          70.58,
          70.24000000000002,
          70.17999999999999,
          70.08,
          69.65000000000002,
          69.5,
          69.44000000000001,
          69.42999999999999,
          69.39000000000001,
          69.24,
          69.23,
          69.2,
          69.17,
          69.03,
          69,
          68.92999999999999,
          68.86,
          68.37,
          68.32000000000001,
          68.17999999999999,
          68.17,
          67.86999999999999,
          67.83999999999999,
          67.75,
          67.49,
          67.44,
          67.42,
          67.26,
          67.16,
          67.03,
          66.79,
          66.71999999999998,
          66.60999999999997,
          65.99999999999999,
          65.74000000000001,
          65.71000000000001,
          65.71,
          65.36,
          65.26,
          65.25,
          65.13999999999999,
          65.08,
          64.76,
          64.64,
          64.53,
          64.22000000000001,
          64.12,
          64.11999999999999,
          64.09,
          63.98,
          63.94999999999999,
          63.60999999999999,
          63.21,
          63.2,
          63.18,
          63.17999999999999,
          63.12000000000002,
          63.07999999999999,
          63,
          63,
          62.900000000000006,
          62.71,
          62.67999999999999,
          62.54,
          62.379999999999995,
          62.35999999999999,
          62.34,
          62.269999999999996,
          62.24,
          62,
          62,
          62,
          62,
          62,
          61.84000000000001,
          61.82,
          61.67,
          61.6,
          61.55,
          61.01,
          61,
          60.980000000000004,
          60.980000000000004,
          60.9,
          60.86,
          60.4,
          60.3,
          60.22,
          60,
          59.57999999999999,
          59.35,
          59.2,
          59.199999999999996,
          59.139999999999986,
          59.09,
          59.059999999999995,
          59.019999999999996,
          59,
          59,
          58.67,
          58.61000000000001,
          58.54000000000001,
          58.36000000000001,
          58.09,
          58.08000000000001,
          57.92,
          57.339999999999996,
          57.07,
          56.769999999999996,
          56.730000000000004,
          56.709999999999994,
          56.57999999999999,
          56.11999999999999,
          56.02,
          55.88,
          55.64999999999999,
          55.629999999999995,
          55.3,
          55.26,
          55.099999999999994,
          55.06,
          55.059999999999995,
          54.96,
          54.92999999999999,
          54.589999999999996,
          54.56,
          54.540000000000006,
          54.540000000000006,
          54.47,
          54.45,
          54.42999999999999,
          54.39,
          54.38,
          54.309999999999995,
          54.01,
          54,
          53.99,
          53.96,
          53.89,
          53.44,
          53.27,
          53,
          52.79,
          52.78000000000001,
          52.68,
          52.39999999999999,
          52.25999999999999,
          52.199999999999996,
          52.14999999999999,
          52.13,
          52.08,
          52.010000000000005,
          52,
          52,
          51.989999999999995,
          51.910000000000004,
          51.81999999999999,
          51.81,
          51.8,
          51.769999999999996,
          51.47,
          51.43,
          51.379999999999995,
          51.33,
          51.03000000000001,
          51.01,
          51.01,
          50.96,
          50.8,
          50.709999999999994,
          50.49,
          50.48,
          50.3,
          50.25,
          50.230000000000004,
          50.080000000000005,
          50.019999999999996,
          50,
          49.69,
          49.55,
          49.49000000000001,
          49.48,
          49.35999999999999,
          49.14999999999999,
          49,
          49,
          48.92000000000001,
          48.69,
          48.629999999999995,
          48.580000000000005,
          48.410000000000004,
          48.08,
          48,
          48,
          47.989999999999995,
          47.98,
          47.85999999999999,
          47.67,
          47.39000000000001,
          47.00000000000001,
          47,
          46.650000000000006,
          46.61,
          46.52,
          46.41,
          46.400000000000006,
          46.06999999999999,
          46.03,
          46.01,
          46.01,
          45.79,
          45.720000000000006,
          45.64000000000001,
          45.5,
          45.32,
          45.06000000000001,
          45,
          44.84,
          44.67,
          44.39,
          44.34,
          44.010000000000005,
          44,
          44,
          43.99999999999999,
          43.79,
          43.74000000000001,
          43.66000000000001,
          43.57,
          43.5,
          43.5,
          43.18000000000001,
          43.08,
          43.01,
          42.75,
          42.75,
          42.5,
          42.48,
          42.389999999999986,
          42.309999999999995,
          42,
          42,
          42,
          42,
          42,
          41.800000000000004,
          41.730000000000004,
          41.72,
          41.459999999999994,
          41,
          40.99999999999999,
          40.980000000000004,
          40.58,
          40.44,
          40.34,
          40.34,
          40.33,
          40.31,
          40.08999999999999,
          40,
          39.730000000000004,
          39.53,
          39.5,
          39.11,
          39.00999999999999,
          39,
          39,
          38.90999999999999,
          38.79000000000001,
          38.76,
          38.71,
          38.65,
          38.5,
          38.29,
          38.28,
          38.18,
          38,
          38,
          37.68999999999999,
          37.57,
          37.36,
          37.34,
          37.339999999999996,
          37.02,
          37,
          37,
          37,
          37,
          36.800000000000004,
          36.800000000000004,
          36.75,
          36.660000000000004,
          36.5,
          36.25,
          36.21,
          36,
          35.82000000000001,
          35.599999999999994,
          35.410000000000004,
          35.33,
          35.120000000000005,
          34.84,
          34.650000000000006,
          34.629999999999995,
          34.55,
          34.4,
          34.17000000000001,
          34.17000000000001,
          34,
          34,
          33.980000000000004,
          33.769999999999996,
          33.620000000000005,
          33.61000000000001,
          33.5,
          33.400000000000006,
          33,
          32.82,
          32.51,
          32,
          32,
          32,
          32,
          31.72,
          31.5,
          31.25,
          31.2,
          31,
          31,
          30.670000000000005,
          30.57,
          30.330000000000005,
          28.689999999999998,
          28.5,
          28.5,
          28.020000000000003,
          28,
          28,
          27.68,
          27.5,
          27.43,
          27.39,
          27.24,
          27,
          26.68,
          25.89,
          25.339999999999996,
          25.22,
          25,
          24.630000000000003,
          24,
          24,
          23.279999999999998,
          23.259999999999998,
          22.75,
          22.680000000000003,
          22.65,
          22.38,
          22,
          22,
          22,
          21.99,
          21.96,
          21.740000000000002,
          21.55,
          21.5,
          21.47,
          21.320000000000004,
          21.159999999999997,
          20.23,
          19,
          18.66,
          18.3,
          18,
          17.35,
          17,
          15.32,
          15,
          13.989999999999998,
          13,
          12,
          12,
          8.329999999999998,
          5.109999999999999,
          5,
          4,
          4,
          4,
          2,
          2,
          2,
          2,
          2,
          2,
          2,
          2,
          2,
          -4.66,
          -51
         ],
         "xaxis": "x",
         "yaxis": "y"
        }
       ],
       "layout": {
        "barmode": "relative",
        "legend": {
         "tracegroupgap": 0
        },
        "margin": {
         "t": 60
        },
        "template": {
         "data": {
          "bar": [
           {
            "error_x": {
             "color": "#2a3f5f"
            },
            "error_y": {
             "color": "#2a3f5f"
            },
            "marker": {
             "line": {
              "color": "#E5ECF6",
              "width": 0.5
             },
             "pattern": {
              "fillmode": "overlay",
              "size": 10,
              "solidity": 0.2
             }
            },
            "type": "bar"
           }
          ],
          "barpolar": [
           {
            "marker": {
             "line": {
              "color": "#E5ECF6",
              "width": 0.5
             },
             "pattern": {
              "fillmode": "overlay",
              "size": 10,
              "solidity": 0.2
             }
            },
            "type": "barpolar"
           }
          ],
          "carpet": [
           {
            "aaxis": {
             "endlinecolor": "#2a3f5f",
             "gridcolor": "white",
             "linecolor": "white",
             "minorgridcolor": "white",
             "startlinecolor": "#2a3f5f"
            },
            "baxis": {
             "endlinecolor": "#2a3f5f",
             "gridcolor": "white",
             "linecolor": "white",
             "minorgridcolor": "white",
             "startlinecolor": "#2a3f5f"
            },
            "type": "carpet"
           }
          ],
          "choropleth": [
           {
            "colorbar": {
             "outlinewidth": 0,
             "ticks": ""
            },
            "type": "choropleth"
           }
          ],
          "contour": [
           {
            "colorbar": {
             "outlinewidth": 0,
             "ticks": ""
            },
            "colorscale": [
             [
              0,
              "#0d0887"
             ],
             [
              0.1111111111111111,
              "#46039f"
             ],
             [
              0.2222222222222222,
              "#7201a8"
             ],
             [
              0.3333333333333333,
              "#9c179e"
             ],
             [
              0.4444444444444444,
              "#bd3786"
             ],
             [
              0.5555555555555556,
              "#d8576b"
             ],
             [
              0.6666666666666666,
              "#ed7953"
             ],
             [
              0.7777777777777778,
              "#fb9f3a"
             ],
             [
              0.8888888888888888,
              "#fdca26"
             ],
             [
              1,
              "#f0f921"
             ]
            ],
            "type": "contour"
           }
          ],
          "contourcarpet": [
           {
            "colorbar": {
             "outlinewidth": 0,
             "ticks": ""
            },
            "type": "contourcarpet"
           }
          ],
          "heatmap": [
           {
            "colorbar": {
             "outlinewidth": 0,
             "ticks": ""
            },
            "colorscale": [
             [
              0,
              "#0d0887"
             ],
             [
              0.1111111111111111,
              "#46039f"
             ],
             [
              0.2222222222222222,
              "#7201a8"
             ],
             [
              0.3333333333333333,
              "#9c179e"
             ],
             [
              0.4444444444444444,
              "#bd3786"
             ],
             [
              0.5555555555555556,
              "#d8576b"
             ],
             [
              0.6666666666666666,
              "#ed7953"
             ],
             [
              0.7777777777777778,
              "#fb9f3a"
             ],
             [
              0.8888888888888888,
              "#fdca26"
             ],
             [
              1,
              "#f0f921"
             ]
            ],
            "type": "heatmap"
           }
          ],
          "heatmapgl": [
           {
            "colorbar": {
             "outlinewidth": 0,
             "ticks": ""
            },
            "colorscale": [
             [
              0,
              "#0d0887"
             ],
             [
              0.1111111111111111,
              "#46039f"
             ],
             [
              0.2222222222222222,
              "#7201a8"
             ],
             [
              0.3333333333333333,
              "#9c179e"
             ],
             [
              0.4444444444444444,
              "#bd3786"
             ],
             [
              0.5555555555555556,
              "#d8576b"
             ],
             [
              0.6666666666666666,
              "#ed7953"
             ],
             [
              0.7777777777777778,
              "#fb9f3a"
             ],
             [
              0.8888888888888888,
              "#fdca26"
             ],
             [
              1,
              "#f0f921"
             ]
            ],
            "type": "heatmapgl"
           }
          ],
          "histogram": [
           {
            "marker": {
             "pattern": {
              "fillmode": "overlay",
              "size": 10,
              "solidity": 0.2
             }
            },
            "type": "histogram"
           }
          ],
          "histogram2d": [
           {
            "colorbar": {
             "outlinewidth": 0,
             "ticks": ""
            },
            "colorscale": [
             [
              0,
              "#0d0887"
             ],
             [
              0.1111111111111111,
              "#46039f"
             ],
             [
              0.2222222222222222,
              "#7201a8"
             ],
             [
              0.3333333333333333,
              "#9c179e"
             ],
             [
              0.4444444444444444,
              "#bd3786"
             ],
             [
              0.5555555555555556,
              "#d8576b"
             ],
             [
              0.6666666666666666,
              "#ed7953"
             ],
             [
              0.7777777777777778,
              "#fb9f3a"
             ],
             [
              0.8888888888888888,
              "#fdca26"
             ],
             [
              1,
              "#f0f921"
             ]
            ],
            "type": "histogram2d"
           }
          ],
          "histogram2dcontour": [
           {
            "colorbar": {
             "outlinewidth": 0,
             "ticks": ""
            },
            "colorscale": [
             [
              0,
              "#0d0887"
             ],
             [
              0.1111111111111111,
              "#46039f"
             ],
             [
              0.2222222222222222,
              "#7201a8"
             ],
             [
              0.3333333333333333,
              "#9c179e"
             ],
             [
              0.4444444444444444,
              "#bd3786"
             ],
             [
              0.5555555555555556,
              "#d8576b"
             ],
             [
              0.6666666666666666,
              "#ed7953"
             ],
             [
              0.7777777777777778,
              "#fb9f3a"
             ],
             [
              0.8888888888888888,
              "#fdca26"
             ],
             [
              1,
              "#f0f921"
             ]
            ],
            "type": "histogram2dcontour"
           }
          ],
          "mesh3d": [
           {
            "colorbar": {
             "outlinewidth": 0,
             "ticks": ""
            },
            "type": "mesh3d"
           }
          ],
          "parcoords": [
           {
            "line": {
             "colorbar": {
              "outlinewidth": 0,
              "ticks": ""
             }
            },
            "type": "parcoords"
           }
          ],
          "pie": [
           {
            "automargin": true,
            "type": "pie"
           }
          ],
          "scatter": [
           {
            "fillpattern": {
             "fillmode": "overlay",
             "size": 10,
             "solidity": 0.2
            },
            "type": "scatter"
           }
          ],
          "scatter3d": [
           {
            "line": {
             "colorbar": {
              "outlinewidth": 0,
              "ticks": ""
             }
            },
            "marker": {
             "colorbar": {
              "outlinewidth": 0,
              "ticks": ""
             }
            },
            "type": "scatter3d"
           }
          ],
          "scattercarpet": [
           {
            "marker": {
             "colorbar": {
              "outlinewidth": 0,
              "ticks": ""
             }
            },
            "type": "scattercarpet"
           }
          ],
          "scattergeo": [
           {
            "marker": {
             "colorbar": {
              "outlinewidth": 0,
              "ticks": ""
             }
            },
            "type": "scattergeo"
           }
          ],
          "scattergl": [
           {
            "marker": {
             "colorbar": {
              "outlinewidth": 0,
              "ticks": ""
             }
            },
            "type": "scattergl"
           }
          ],
          "scattermapbox": [
           {
            "marker": {
             "colorbar": {
              "outlinewidth": 0,
              "ticks": ""
             }
            },
            "type": "scattermapbox"
           }
          ],
          "scatterpolar": [
           {
            "marker": {
             "colorbar": {
              "outlinewidth": 0,
              "ticks": ""
             }
            },
            "type": "scatterpolar"
           }
          ],
          "scatterpolargl": [
           {
            "marker": {
             "colorbar": {
              "outlinewidth": 0,
              "ticks": ""
             }
            },
            "type": "scatterpolargl"
           }
          ],
          "scatterternary": [
           {
            "marker": {
             "colorbar": {
              "outlinewidth": 0,
              "ticks": ""
             }
            },
            "type": "scatterternary"
           }
          ],
          "surface": [
           {
            "colorbar": {
             "outlinewidth": 0,
             "ticks": ""
            },
            "colorscale": [
             [
              0,
              "#0d0887"
             ],
             [
              0.1111111111111111,
              "#46039f"
             ],
             [
              0.2222222222222222,
              "#7201a8"
             ],
             [
              0.3333333333333333,
              "#9c179e"
             ],
             [
              0.4444444444444444,
              "#bd3786"
             ],
             [
              0.5555555555555556,
              "#d8576b"
             ],
             [
              0.6666666666666666,
              "#ed7953"
             ],
             [
              0.7777777777777778,
              "#fb9f3a"
             ],
             [
              0.8888888888888888,
              "#fdca26"
             ],
             [
              1,
              "#f0f921"
             ]
            ],
            "type": "surface"
           }
          ],
          "table": [
           {
            "cells": {
             "fill": {
              "color": "#EBF0F8"
             },
             "line": {
              "color": "white"
             }
            },
            "header": {
             "fill": {
              "color": "#C8D4E3"
             },
             "line": {
              "color": "white"
             }
            },
            "type": "table"
           }
          ]
         },
         "layout": {
          "annotationdefaults": {
           "arrowcolor": "#2a3f5f",
           "arrowhead": 0,
           "arrowwidth": 1
          },
          "autotypenumbers": "strict",
          "coloraxis": {
           "colorbar": {
            "outlinewidth": 0,
            "ticks": ""
           }
          },
          "colorscale": {
           "diverging": [
            [
             0,
             "#8e0152"
            ],
            [
             0.1,
             "#c51b7d"
            ],
            [
             0.2,
             "#de77ae"
            ],
            [
             0.3,
             "#f1b6da"
            ],
            [
             0.4,
             "#fde0ef"
            ],
            [
             0.5,
             "#f7f7f7"
            ],
            [
             0.6,
             "#e6f5d0"
            ],
            [
             0.7,
             "#b8e186"
            ],
            [
             0.8,
             "#7fbc41"
            ],
            [
             0.9,
             "#4d9221"
            ],
            [
             1,
             "#276419"
            ]
           ],
           "sequential": [
            [
             0,
             "#0d0887"
            ],
            [
             0.1111111111111111,
             "#46039f"
            ],
            [
             0.2222222222222222,
             "#7201a8"
            ],
            [
             0.3333333333333333,
             "#9c179e"
            ],
            [
             0.4444444444444444,
             "#bd3786"
            ],
            [
             0.5555555555555556,
             "#d8576b"
            ],
            [
             0.6666666666666666,
             "#ed7953"
            ],
            [
             0.7777777777777778,
             "#fb9f3a"
            ],
            [
             0.8888888888888888,
             "#fdca26"
            ],
            [
             1,
             "#f0f921"
            ]
           ],
           "sequentialminus": [
            [
             0,
             "#0d0887"
            ],
            [
             0.1111111111111111,
             "#46039f"
            ],
            [
             0.2222222222222222,
             "#7201a8"
            ],
            [
             0.3333333333333333,
             "#9c179e"
            ],
            [
             0.4444444444444444,
             "#bd3786"
            ],
            [
             0.5555555555555556,
             "#d8576b"
            ],
            [
             0.6666666666666666,
             "#ed7953"
            ],
            [
             0.7777777777777778,
             "#fb9f3a"
            ],
            [
             0.8888888888888888,
             "#fdca26"
            ],
            [
             1,
             "#f0f921"
            ]
           ]
          },
          "colorway": [
           "#636efa",
           "#EF553B",
           "#00cc96",
           "#ab63fa",
           "#FFA15A",
           "#19d3f3",
           "#FF6692",
           "#B6E880",
           "#FF97FF",
           "#FECB52"
          ],
          "font": {
           "color": "#2a3f5f"
          },
          "geo": {
           "bgcolor": "white",
           "lakecolor": "white",
           "landcolor": "#E5ECF6",
           "showlakes": true,
           "showland": true,
           "subunitcolor": "white"
          },
          "hoverlabel": {
           "align": "left"
          },
          "hovermode": "closest",
          "mapbox": {
           "style": "light"
          },
          "paper_bgcolor": "white",
          "plot_bgcolor": "#E5ECF6",
          "polar": {
           "angularaxis": {
            "gridcolor": "white",
            "linecolor": "white",
            "ticks": ""
           },
           "bgcolor": "#E5ECF6",
           "radialaxis": {
            "gridcolor": "white",
            "linecolor": "white",
            "ticks": ""
           }
          },
          "scene": {
           "xaxis": {
            "backgroundcolor": "#E5ECF6",
            "gridcolor": "white",
            "gridwidth": 2,
            "linecolor": "white",
            "showbackground": true,
            "ticks": "",
            "zerolinecolor": "white"
           },
           "yaxis": {
            "backgroundcolor": "#E5ECF6",
            "gridcolor": "white",
            "gridwidth": 2,
            "linecolor": "white",
            "showbackground": true,
            "ticks": "",
            "zerolinecolor": "white"
           },
           "zaxis": {
            "backgroundcolor": "#E5ECF6",
            "gridcolor": "white",
            "gridwidth": 2,
            "linecolor": "white",
            "showbackground": true,
            "ticks": "",
            "zerolinecolor": "white"
           }
          },
          "shapedefaults": {
           "line": {
            "color": "#2a3f5f"
           }
          },
          "ternary": {
           "aaxis": {
            "gridcolor": "white",
            "linecolor": "white",
            "ticks": ""
           },
           "baxis": {
            "gridcolor": "white",
            "linecolor": "white",
            "ticks": ""
           },
           "bgcolor": "#E5ECF6",
           "caxis": {
            "gridcolor": "white",
            "linecolor": "white",
            "ticks": ""
           }
          },
          "title": {
           "x": 0.05
          },
          "xaxis": {
           "automargin": true,
           "gridcolor": "white",
           "linecolor": "white",
           "ticks": "",
           "title": {
            "standoff": 15
           },
           "zerolinecolor": "white",
           "zerolinewidth": 2
          },
          "yaxis": {
           "automargin": true,
           "gridcolor": "white",
           "linecolor": "white",
           "ticks": "",
           "title": {
            "standoff": 15
           },
           "zerolinecolor": "white",
           "zerolinewidth": 2
          }
         }
        },
        "xaxis": {
         "anchor": "y",
         "domain": [
          0,
          1
         ],
         "title": {
          "text": "score"
         }
        },
        "yaxis": {
         "anchor": "x",
         "domain": [
          0,
          1
         ],
         "title": {
          "text": "count"
         }
        }
       }
      }
     },
     "metadata": {},
     "output_type": "display_data"
    }
   ],
   "source": [
    "px.histogram(Defensores, x='score').show()"
   ]
  },
  {
   "cell_type": "code",
   "execution_count": 23,
   "metadata": {},
   "outputs": [
    {
     "name": "stdout",
     "output_type": "stream",
     "text": [
      "desvio de 28.86258771365931\n",
      "media de 71.38380069524915\n"
     ]
    }
   ],
   "source": [
    "dev = Defensores['score'].std()\n",
    "media = Defensores['score'].mean()\n",
    "print(f'desvio de {dev}\\nmedia de {media}')"
   ]
  },
  {
   "cell_type": "code",
   "execution_count": 24,
   "metadata": {},
   "outputs": [],
   "source": [
    "bom = media + dev * 2\n",
    "normal = media  + dev\n",
    "fraco = media - dev\n",
    "muito_fraco = media - dev * 2"
   ]
  },
  {
   "cell_type": "code",
   "execution_count": 25,
   "metadata": {},
   "outputs": [],
   "source": [
    "def assign_score(score):\n",
    "    if score > bom:\n",
    "        return 'Excelente'\n",
    "    elif score > normal:\n",
    "        return 'Bom'\n",
    "    elif score > fraco:\n",
    "        return 'Mediano'\n",
    "    elif score > muito_fraco:\n",
    "        return 'Ruim'\n",
    "    else:\n",
    "        return 'Muito_ruim'"
   ]
  },
  {
   "cell_type": "code",
   "execution_count": 27,
   "metadata": {},
   "outputs": [],
   "source": [
    "Defensores['Desempenho'] = Defensores['score'].apply(assign_score)"
   ]
  },
  {
   "cell_type": "code",
   "execution_count": 30,
   "metadata": {},
   "outputs": [
    {
     "data": {
      "application/vnd.plotly.v1+json": {
       "config": {
        "plotlyServerURL": "https://plot.ly"
       },
       "data": [
        {
         "alignmentgroup": "True",
         "bingroup": "x",
         "hovertemplate": "Desempenho=%{x}<br>count=%{y}<extra></extra>",
         "legendgroup": "",
         "marker": {
          "color": "#636efa",
          "pattern": {
           "shape": ""
          }
         },
         "name": "",
         "offsetgroup": "",
         "orientation": "v",
         "showlegend": false,
         "type": "histogram",
         "x": [
          "Bom",
          "Bom",
          "Bom",
          "Bom",
          "Bom",
          "Bom",
          "Bom",
          "Bom",
          "Bom",
          "Bom",
          "Bom",
          "Bom",
          "Bom",
          "Bom",
          "Bom",
          "Bom",
          "Bom",
          "Bom",
          "Bom",
          "Bom",
          "Bom",
          "Bom",
          "Bom",
          "Bom",
          "Bom",
          "Bom",
          "Bom",
          "Bom",
          "Bom",
          "Bom",
          "Bom",
          "Bom",
          "Bom",
          "Bom",
          "Bom",
          "Bom",
          "Bom",
          "Bom",
          "Bom",
          "Bom",
          "Bom",
          "Bom",
          "Bom",
          "Bom",
          "Bom",
          "Bom",
          "Bom",
          "Bom",
          "Bom",
          "Bom",
          "Bom",
          "Bom",
          "Bom",
          "Bom",
          "Bom",
          "Bom",
          "Bom",
          "Bom",
          "Bom",
          "Bom",
          "Bom",
          "Bom",
          "Bom",
          "Bom",
          "Bom",
          "Bom",
          "Bom",
          "Bom",
          "Bom",
          "Bom",
          "Bom",
          "Bom",
          "Bom",
          "Bom",
          "Bom",
          "Bom",
          "Bom",
          "Bom",
          "Bom",
          "Bom",
          "Bom",
          "Bom",
          "Bom",
          "Bom",
          "Bom",
          "Bom",
          "Bom",
          "Bom",
          "Bom",
          "Bom",
          "Bom",
          "Bom",
          "Bom",
          "Bom",
          "Bom",
          "Bom",
          "Bom",
          "Bom",
          "Bom",
          "Bom",
          "Bom",
          "Bom",
          "Bom",
          "Bom",
          "Bom",
          "Bom",
          "Bom",
          "Bom",
          "Bom",
          "Bom",
          "Bom",
          "Bom",
          "Bom",
          "Bom",
          "Bom",
          "Bom",
          "Bom",
          "Bom",
          "Bom",
          "Bom",
          "Bom",
          "Bom",
          "Bom",
          "Bom",
          "Bom",
          "Bom",
          "Bom",
          "Bom",
          "Bom",
          "Bom",
          "Bom",
          "Bom",
          "Bom",
          "Bom",
          "Bom",
          "Bom",
          "Bom",
          "Bom",
          "Bom",
          "Bom",
          "Bom",
          "Bom",
          "Bom",
          "Bom",
          "Bom",
          "Bom",
          "Bom",
          "Bom",
          "Bom",
          "Bom",
          "Bom",
          "Bom",
          "Bom",
          "Bom",
          "Bom",
          "Bom",
          "Bom",
          "Mediano",
          "Mediano",
          "Mediano",
          "Mediano",
          "Mediano",
          "Mediano",
          "Mediano",
          "Mediano",
          "Mediano",
          "Mediano",
          "Mediano",
          "Mediano",
          "Mediano",
          "Mediano",
          "Mediano",
          "Mediano",
          "Mediano",
          "Mediano",
          "Mediano",
          "Mediano",
          "Mediano",
          "Mediano",
          "Mediano",
          "Mediano",
          "Mediano",
          "Mediano",
          "Mediano",
          "Mediano",
          "Mediano",
          "Mediano",
          "Mediano",
          "Mediano",
          "Mediano",
          "Mediano",
          "Mediano",
          "Mediano",
          "Mediano",
          "Mediano",
          "Mediano",
          "Mediano",
          "Mediano",
          "Mediano",
          "Mediano",
          "Mediano",
          "Mediano",
          "Mediano",
          "Mediano",
          "Mediano",
          "Mediano",
          "Mediano",
          "Mediano",
          "Mediano",
          "Mediano",
          "Mediano",
          "Mediano",
          "Mediano",
          "Mediano",
          "Mediano",
          "Mediano",
          "Mediano",
          "Mediano",
          "Mediano",
          "Mediano",
          "Mediano",
          "Mediano",
          "Mediano",
          "Mediano",
          "Mediano",
          "Mediano",
          "Mediano",
          "Mediano",
          "Mediano",
          "Mediano",
          "Mediano",
          "Mediano",
          "Mediano",
          "Mediano",
          "Mediano",
          "Mediano",
          "Mediano",
          "Mediano",
          "Mediano",
          "Mediano",
          "Mediano",
          "Mediano",
          "Mediano",
          "Mediano",
          "Mediano",
          "Mediano",
          "Mediano",
          "Mediano",
          "Mediano",
          "Mediano",
          "Mediano",
          "Mediano",
          "Mediano",
          "Mediano",
          "Mediano",
          "Mediano",
          "Mediano",
          "Mediano",
          "Mediano",
          "Mediano",
          "Mediano",
          "Mediano",
          "Mediano",
          "Mediano",
          "Mediano",
          "Mediano",
          "Mediano",
          "Mediano",
          "Mediano",
          "Mediano",
          "Mediano",
          "Mediano",
          "Mediano",
          "Mediano",
          "Mediano",
          "Mediano",
          "Mediano",
          "Mediano",
          "Mediano",
          "Mediano",
          "Mediano",
          "Mediano",
          "Mediano",
          "Mediano",
          "Mediano",
          "Mediano",
          "Mediano",
          "Mediano",
          "Mediano",
          "Mediano",
          "Mediano",
          "Mediano",
          "Mediano",
          "Mediano",
          "Mediano",
          "Mediano",
          "Mediano",
          "Mediano",
          "Mediano",
          "Mediano",
          "Mediano",
          "Mediano",
          "Mediano",
          "Mediano",
          "Mediano",
          "Mediano",
          "Mediano",
          "Mediano",
          "Mediano",
          "Mediano",
          "Mediano",
          "Mediano",
          "Mediano",
          "Mediano",
          "Mediano",
          "Mediano",
          "Mediano",
          "Mediano",
          "Mediano",
          "Mediano",
          "Mediano",
          "Mediano",
          "Mediano",
          "Mediano",
          "Mediano",
          "Mediano",
          "Mediano",
          "Mediano",
          "Mediano",
          "Mediano",
          "Mediano",
          "Mediano",
          "Mediano",
          "Mediano",
          "Mediano",
          "Mediano",
          "Mediano",
          "Mediano",
          "Mediano",
          "Mediano",
          "Mediano",
          "Mediano",
          "Mediano",
          "Mediano",
          "Mediano",
          "Mediano",
          "Mediano",
          "Mediano",
          "Mediano",
          "Mediano",
          "Mediano",
          "Mediano",
          "Mediano",
          "Mediano",
          "Mediano",
          "Mediano",
          "Mediano",
          "Mediano",
          "Mediano",
          "Mediano",
          "Mediano",
          "Mediano",
          "Mediano",
          "Mediano",
          "Mediano",
          "Mediano",
          "Mediano",
          "Mediano",
          "Mediano",
          "Mediano",
          "Mediano",
          "Mediano",
          "Mediano",
          "Mediano",
          "Mediano",
          "Mediano",
          "Mediano",
          "Mediano",
          "Mediano",
          "Mediano",
          "Mediano",
          "Mediano",
          "Mediano",
          "Mediano",
          "Mediano",
          "Mediano",
          "Mediano",
          "Mediano",
          "Mediano",
          "Mediano",
          "Mediano",
          "Mediano",
          "Mediano",
          "Mediano",
          "Mediano",
          "Mediano",
          "Mediano",
          "Mediano",
          "Mediano",
          "Mediano",
          "Mediano",
          "Mediano",
          "Mediano",
          "Mediano",
          "Mediano",
          "Mediano",
          "Mediano",
          "Mediano",
          "Mediano",
          "Mediano",
          "Mediano",
          "Mediano",
          "Mediano",
          "Mediano",
          "Mediano",
          "Mediano",
          "Mediano",
          "Mediano",
          "Mediano",
          "Mediano",
          "Mediano",
          "Mediano",
          "Mediano",
          "Mediano",
          "Mediano",
          "Mediano",
          "Mediano",
          "Mediano",
          "Mediano",
          "Mediano",
          "Mediano",
          "Mediano",
          "Mediano",
          "Mediano",
          "Mediano",
          "Mediano",
          "Mediano",
          "Mediano",
          "Mediano",
          "Mediano",
          "Mediano",
          "Mediano",
          "Mediano",
          "Mediano",
          "Mediano",
          "Mediano",
          "Mediano",
          "Mediano",
          "Mediano",
          "Mediano",
          "Mediano",
          "Mediano",
          "Mediano",
          "Mediano",
          "Mediano",
          "Mediano",
          "Mediano",
          "Mediano",
          "Mediano",
          "Mediano",
          "Mediano",
          "Mediano",
          "Mediano",
          "Mediano",
          "Mediano",
          "Mediano",
          "Mediano",
          "Mediano",
          "Mediano",
          "Mediano",
          "Mediano",
          "Mediano",
          "Mediano",
          "Mediano",
          "Mediano",
          "Mediano",
          "Mediano",
          "Mediano",
          "Mediano",
          "Mediano",
          "Mediano",
          "Mediano",
          "Mediano",
          "Mediano",
          "Mediano",
          "Mediano",
          "Mediano",
          "Mediano",
          "Mediano",
          "Mediano",
          "Mediano",
          "Mediano",
          "Mediano",
          "Mediano",
          "Mediano",
          "Mediano",
          "Mediano",
          "Mediano",
          "Mediano",
          "Mediano",
          "Mediano",
          "Mediano",
          "Mediano",
          "Mediano",
          "Mediano",
          "Mediano",
          "Mediano",
          "Mediano",
          "Mediano",
          "Mediano",
          "Mediano",
          "Mediano",
          "Mediano",
          "Mediano",
          "Mediano",
          "Mediano",
          "Mediano",
          "Mediano",
          "Mediano",
          "Mediano",
          "Mediano",
          "Mediano",
          "Mediano",
          "Mediano",
          "Mediano",
          "Mediano",
          "Mediano",
          "Mediano",
          "Mediano",
          "Mediano",
          "Mediano",
          "Mediano",
          "Mediano",
          "Mediano",
          "Mediano",
          "Mediano",
          "Mediano",
          "Mediano",
          "Mediano",
          "Mediano",
          "Mediano",
          "Mediano",
          "Mediano",
          "Mediano",
          "Mediano",
          "Mediano",
          "Mediano",
          "Mediano",
          "Mediano",
          "Mediano",
          "Mediano",
          "Mediano",
          "Mediano",
          "Mediano",
          "Mediano",
          "Mediano",
          "Mediano",
          "Mediano",
          "Mediano",
          "Mediano",
          "Mediano",
          "Mediano",
          "Mediano",
          "Mediano",
          "Mediano",
          "Mediano",
          "Mediano",
          "Mediano",
          "Mediano",
          "Mediano",
          "Mediano",
          "Mediano",
          "Mediano",
          "Mediano",
          "Mediano",
          "Mediano",
          "Mediano",
          "Mediano",
          "Mediano",
          "Mediano",
          "Mediano",
          "Mediano",
          "Mediano",
          "Mediano",
          "Mediano",
          "Mediano",
          "Mediano",
          "Mediano",
          "Mediano",
          "Mediano",
          "Mediano",
          "Mediano",
          "Mediano",
          "Mediano",
          "Mediano",
          "Mediano",
          "Mediano",
          "Mediano",
          "Mediano",
          "Mediano",
          "Mediano",
          "Mediano",
          "Mediano",
          "Mediano",
          "Mediano",
          "Mediano",
          "Mediano",
          "Mediano",
          "Mediano",
          "Mediano",
          "Mediano",
          "Mediano",
          "Mediano",
          "Mediano",
          "Mediano",
          "Mediano",
          "Mediano",
          "Mediano",
          "Mediano",
          "Mediano",
          "Mediano",
          "Mediano",
          "Mediano",
          "Mediano",
          "Mediano",
          "Mediano",
          "Mediano",
          "Mediano",
          "Mediano",
          "Mediano",
          "Mediano",
          "Mediano",
          "Mediano",
          "Mediano",
          "Mediano",
          "Mediano",
          "Mediano",
          "Mediano",
          "Mediano",
          "Mediano",
          "Mediano",
          "Mediano",
          "Mediano",
          "Mediano",
          "Mediano",
          "Mediano",
          "Mediano",
          "Mediano",
          "Mediano",
          "Mediano",
          "Mediano",
          "Mediano",
          "Mediano",
          "Mediano",
          "Mediano",
          "Mediano",
          "Mediano",
          "Mediano",
          "Mediano",
          "Mediano",
          "Mediano",
          "Mediano",
          "Mediano",
          "Mediano",
          "Mediano",
          "Mediano",
          "Mediano",
          "Mediano",
          "Mediano",
          "Mediano",
          "Mediano",
          "Mediano",
          "Mediano",
          "Mediano",
          "Mediano",
          "Mediano",
          "Mediano",
          "Mediano",
          "Mediano",
          "Mediano",
          "Mediano",
          "Mediano",
          "Mediano",
          "Mediano",
          "Mediano",
          "Mediano",
          "Mediano",
          "Mediano",
          "Mediano",
          "Mediano",
          "Mediano",
          "Mediano",
          "Mediano",
          "Mediano",
          "Mediano",
          "Mediano",
          "Mediano",
          "Mediano",
          "Mediano",
          "Mediano",
          "Ruim",
          "Ruim",
          "Ruim",
          "Ruim",
          "Ruim",
          "Ruim",
          "Ruim",
          "Ruim",
          "Ruim",
          "Ruim",
          "Ruim",
          "Ruim",
          "Ruim",
          "Ruim",
          "Ruim",
          "Ruim",
          "Ruim",
          "Ruim",
          "Ruim",
          "Ruim",
          "Ruim",
          "Ruim",
          "Ruim",
          "Ruim",
          "Ruim",
          "Ruim",
          "Ruim",
          "Ruim",
          "Ruim",
          "Ruim",
          "Ruim",
          "Ruim",
          "Ruim",
          "Ruim",
          "Ruim",
          "Ruim",
          "Ruim",
          "Ruim",
          "Ruim",
          "Ruim",
          "Ruim",
          "Ruim",
          "Ruim",
          "Ruim",
          "Ruim",
          "Ruim",
          "Ruim",
          "Ruim",
          "Ruim",
          "Ruim",
          "Ruim",
          "Ruim",
          "Ruim",
          "Ruim",
          "Ruim",
          "Ruim",
          "Ruim",
          "Ruim",
          "Ruim",
          "Ruim",
          "Ruim",
          "Ruim",
          "Ruim",
          "Ruim",
          "Ruim",
          "Ruim",
          "Ruim",
          "Ruim",
          "Ruim",
          "Ruim",
          "Ruim",
          "Ruim",
          "Ruim",
          "Ruim",
          "Ruim",
          "Ruim",
          "Ruim",
          "Ruim",
          "Ruim",
          "Ruim",
          "Ruim",
          "Ruim",
          "Ruim",
          "Ruim",
          "Ruim",
          "Ruim",
          "Ruim",
          "Ruim",
          "Ruim",
          "Ruim",
          "Ruim",
          "Ruim",
          "Ruim",
          "Ruim",
          "Ruim",
          "Ruim",
          "Ruim",
          "Ruim",
          "Ruim",
          "Ruim",
          "Ruim",
          "Ruim",
          "Ruim",
          "Ruim",
          "Ruim",
          "Ruim",
          "Ruim",
          "Ruim",
          "Ruim",
          "Ruim",
          "Ruim",
          "Ruim",
          "Ruim",
          "Ruim",
          "Ruim",
          "Ruim",
          "Ruim",
          "Ruim",
          "Ruim",
          "Ruim",
          "Ruim",
          "Ruim",
          "Ruim",
          "Ruim",
          "Ruim",
          "Ruim",
          "Ruim",
          "Ruim",
          "Ruim",
          "Ruim",
          "Ruim",
          "Ruim",
          "Ruim",
          "Ruim",
          "Ruim",
          "Ruim",
          "Ruim",
          "Ruim",
          "Ruim",
          "Ruim",
          "Ruim",
          "Ruim",
          "Ruim",
          "Muito_ruim",
          "Muito_ruim",
          "Muito_ruim",
          "Muito_ruim",
          "Muito_ruim",
          "Muito_ruim",
          "Muito_ruim",
          "Muito_ruim",
          "Muito_ruim",
          "Muito_ruim",
          "Muito_ruim",
          "Muito_ruim",
          "Muito_ruim",
          "Muito_ruim",
          "Muito_ruim",
          "Muito_ruim",
          "Muito_ruim",
          "Muito_ruim",
          "Muito_ruim",
          "Muito_ruim"
         ],
         "xaxis": "x",
         "yaxis": "y"
        }
       ],
       "layout": {
        "barmode": "relative",
        "legend": {
         "tracegroupgap": 0
        },
        "margin": {
         "t": 60
        },
        "template": {
         "data": {
          "bar": [
           {
            "error_x": {
             "color": "#2a3f5f"
            },
            "error_y": {
             "color": "#2a3f5f"
            },
            "marker": {
             "line": {
              "color": "#E5ECF6",
              "width": 0.5
             },
             "pattern": {
              "fillmode": "overlay",
              "size": 10,
              "solidity": 0.2
             }
            },
            "type": "bar"
           }
          ],
          "barpolar": [
           {
            "marker": {
             "line": {
              "color": "#E5ECF6",
              "width": 0.5
             },
             "pattern": {
              "fillmode": "overlay",
              "size": 10,
              "solidity": 0.2
             }
            },
            "type": "barpolar"
           }
          ],
          "carpet": [
           {
            "aaxis": {
             "endlinecolor": "#2a3f5f",
             "gridcolor": "white",
             "linecolor": "white",
             "minorgridcolor": "white",
             "startlinecolor": "#2a3f5f"
            },
            "baxis": {
             "endlinecolor": "#2a3f5f",
             "gridcolor": "white",
             "linecolor": "white",
             "minorgridcolor": "white",
             "startlinecolor": "#2a3f5f"
            },
            "type": "carpet"
           }
          ],
          "choropleth": [
           {
            "colorbar": {
             "outlinewidth": 0,
             "ticks": ""
            },
            "type": "choropleth"
           }
          ],
          "contour": [
           {
            "colorbar": {
             "outlinewidth": 0,
             "ticks": ""
            },
            "colorscale": [
             [
              0,
              "#0d0887"
             ],
             [
              0.1111111111111111,
              "#46039f"
             ],
             [
              0.2222222222222222,
              "#7201a8"
             ],
             [
              0.3333333333333333,
              "#9c179e"
             ],
             [
              0.4444444444444444,
              "#bd3786"
             ],
             [
              0.5555555555555556,
              "#d8576b"
             ],
             [
              0.6666666666666666,
              "#ed7953"
             ],
             [
              0.7777777777777778,
              "#fb9f3a"
             ],
             [
              0.8888888888888888,
              "#fdca26"
             ],
             [
              1,
              "#f0f921"
             ]
            ],
            "type": "contour"
           }
          ],
          "contourcarpet": [
           {
            "colorbar": {
             "outlinewidth": 0,
             "ticks": ""
            },
            "type": "contourcarpet"
           }
          ],
          "heatmap": [
           {
            "colorbar": {
             "outlinewidth": 0,
             "ticks": ""
            },
            "colorscale": [
             [
              0,
              "#0d0887"
             ],
             [
              0.1111111111111111,
              "#46039f"
             ],
             [
              0.2222222222222222,
              "#7201a8"
             ],
             [
              0.3333333333333333,
              "#9c179e"
             ],
             [
              0.4444444444444444,
              "#bd3786"
             ],
             [
              0.5555555555555556,
              "#d8576b"
             ],
             [
              0.6666666666666666,
              "#ed7953"
             ],
             [
              0.7777777777777778,
              "#fb9f3a"
             ],
             [
              0.8888888888888888,
              "#fdca26"
             ],
             [
              1,
              "#f0f921"
             ]
            ],
            "type": "heatmap"
           }
          ],
          "heatmapgl": [
           {
            "colorbar": {
             "outlinewidth": 0,
             "ticks": ""
            },
            "colorscale": [
             [
              0,
              "#0d0887"
             ],
             [
              0.1111111111111111,
              "#46039f"
             ],
             [
              0.2222222222222222,
              "#7201a8"
             ],
             [
              0.3333333333333333,
              "#9c179e"
             ],
             [
              0.4444444444444444,
              "#bd3786"
             ],
             [
              0.5555555555555556,
              "#d8576b"
             ],
             [
              0.6666666666666666,
              "#ed7953"
             ],
             [
              0.7777777777777778,
              "#fb9f3a"
             ],
             [
              0.8888888888888888,
              "#fdca26"
             ],
             [
              1,
              "#f0f921"
             ]
            ],
            "type": "heatmapgl"
           }
          ],
          "histogram": [
           {
            "marker": {
             "pattern": {
              "fillmode": "overlay",
              "size": 10,
              "solidity": 0.2
             }
            },
            "type": "histogram"
           }
          ],
          "histogram2d": [
           {
            "colorbar": {
             "outlinewidth": 0,
             "ticks": ""
            },
            "colorscale": [
             [
              0,
              "#0d0887"
             ],
             [
              0.1111111111111111,
              "#46039f"
             ],
             [
              0.2222222222222222,
              "#7201a8"
             ],
             [
              0.3333333333333333,
              "#9c179e"
             ],
             [
              0.4444444444444444,
              "#bd3786"
             ],
             [
              0.5555555555555556,
              "#d8576b"
             ],
             [
              0.6666666666666666,
              "#ed7953"
             ],
             [
              0.7777777777777778,
              "#fb9f3a"
             ],
             [
              0.8888888888888888,
              "#fdca26"
             ],
             [
              1,
              "#f0f921"
             ]
            ],
            "type": "histogram2d"
           }
          ],
          "histogram2dcontour": [
           {
            "colorbar": {
             "outlinewidth": 0,
             "ticks": ""
            },
            "colorscale": [
             [
              0,
              "#0d0887"
             ],
             [
              0.1111111111111111,
              "#46039f"
             ],
             [
              0.2222222222222222,
              "#7201a8"
             ],
             [
              0.3333333333333333,
              "#9c179e"
             ],
             [
              0.4444444444444444,
              "#bd3786"
             ],
             [
              0.5555555555555556,
              "#d8576b"
             ],
             [
              0.6666666666666666,
              "#ed7953"
             ],
             [
              0.7777777777777778,
              "#fb9f3a"
             ],
             [
              0.8888888888888888,
              "#fdca26"
             ],
             [
              1,
              "#f0f921"
             ]
            ],
            "type": "histogram2dcontour"
           }
          ],
          "mesh3d": [
           {
            "colorbar": {
             "outlinewidth": 0,
             "ticks": ""
            },
            "type": "mesh3d"
           }
          ],
          "parcoords": [
           {
            "line": {
             "colorbar": {
              "outlinewidth": 0,
              "ticks": ""
             }
            },
            "type": "parcoords"
           }
          ],
          "pie": [
           {
            "automargin": true,
            "type": "pie"
           }
          ],
          "scatter": [
           {
            "fillpattern": {
             "fillmode": "overlay",
             "size": 10,
             "solidity": 0.2
            },
            "type": "scatter"
           }
          ],
          "scatter3d": [
           {
            "line": {
             "colorbar": {
              "outlinewidth": 0,
              "ticks": ""
             }
            },
            "marker": {
             "colorbar": {
              "outlinewidth": 0,
              "ticks": ""
             }
            },
            "type": "scatter3d"
           }
          ],
          "scattercarpet": [
           {
            "marker": {
             "colorbar": {
              "outlinewidth": 0,
              "ticks": ""
             }
            },
            "type": "scattercarpet"
           }
          ],
          "scattergeo": [
           {
            "marker": {
             "colorbar": {
              "outlinewidth": 0,
              "ticks": ""
             }
            },
            "type": "scattergeo"
           }
          ],
          "scattergl": [
           {
            "marker": {
             "colorbar": {
              "outlinewidth": 0,
              "ticks": ""
             }
            },
            "type": "scattergl"
           }
          ],
          "scattermapbox": [
           {
            "marker": {
             "colorbar": {
              "outlinewidth": 0,
              "ticks": ""
             }
            },
            "type": "scattermapbox"
           }
          ],
          "scatterpolar": [
           {
            "marker": {
             "colorbar": {
              "outlinewidth": 0,
              "ticks": ""
             }
            },
            "type": "scatterpolar"
           }
          ],
          "scatterpolargl": [
           {
            "marker": {
             "colorbar": {
              "outlinewidth": 0,
              "ticks": ""
             }
            },
            "type": "scatterpolargl"
           }
          ],
          "scatterternary": [
           {
            "marker": {
             "colorbar": {
              "outlinewidth": 0,
              "ticks": ""
             }
            },
            "type": "scatterternary"
           }
          ],
          "surface": [
           {
            "colorbar": {
             "outlinewidth": 0,
             "ticks": ""
            },
            "colorscale": [
             [
              0,
              "#0d0887"
             ],
             [
              0.1111111111111111,
              "#46039f"
             ],
             [
              0.2222222222222222,
              "#7201a8"
             ],
             [
              0.3333333333333333,
              "#9c179e"
             ],
             [
              0.4444444444444444,
              "#bd3786"
             ],
             [
              0.5555555555555556,
              "#d8576b"
             ],
             [
              0.6666666666666666,
              "#ed7953"
             ],
             [
              0.7777777777777778,
              "#fb9f3a"
             ],
             [
              0.8888888888888888,
              "#fdca26"
             ],
             [
              1,
              "#f0f921"
             ]
            ],
            "type": "surface"
           }
          ],
          "table": [
           {
            "cells": {
             "fill": {
              "color": "#EBF0F8"
             },
             "line": {
              "color": "white"
             }
            },
            "header": {
             "fill": {
              "color": "#C8D4E3"
             },
             "line": {
              "color": "white"
             }
            },
            "type": "table"
           }
          ]
         },
         "layout": {
          "annotationdefaults": {
           "arrowcolor": "#2a3f5f",
           "arrowhead": 0,
           "arrowwidth": 1
          },
          "autotypenumbers": "strict",
          "coloraxis": {
           "colorbar": {
            "outlinewidth": 0,
            "ticks": ""
           }
          },
          "colorscale": {
           "diverging": [
            [
             0,
             "#8e0152"
            ],
            [
             0.1,
             "#c51b7d"
            ],
            [
             0.2,
             "#de77ae"
            ],
            [
             0.3,
             "#f1b6da"
            ],
            [
             0.4,
             "#fde0ef"
            ],
            [
             0.5,
             "#f7f7f7"
            ],
            [
             0.6,
             "#e6f5d0"
            ],
            [
             0.7,
             "#b8e186"
            ],
            [
             0.8,
             "#7fbc41"
            ],
            [
             0.9,
             "#4d9221"
            ],
            [
             1,
             "#276419"
            ]
           ],
           "sequential": [
            [
             0,
             "#0d0887"
            ],
            [
             0.1111111111111111,
             "#46039f"
            ],
            [
             0.2222222222222222,
             "#7201a8"
            ],
            [
             0.3333333333333333,
             "#9c179e"
            ],
            [
             0.4444444444444444,
             "#bd3786"
            ],
            [
             0.5555555555555556,
             "#d8576b"
            ],
            [
             0.6666666666666666,
             "#ed7953"
            ],
            [
             0.7777777777777778,
             "#fb9f3a"
            ],
            [
             0.8888888888888888,
             "#fdca26"
            ],
            [
             1,
             "#f0f921"
            ]
           ],
           "sequentialminus": [
            [
             0,
             "#0d0887"
            ],
            [
             0.1111111111111111,
             "#46039f"
            ],
            [
             0.2222222222222222,
             "#7201a8"
            ],
            [
             0.3333333333333333,
             "#9c179e"
            ],
            [
             0.4444444444444444,
             "#bd3786"
            ],
            [
             0.5555555555555556,
             "#d8576b"
            ],
            [
             0.6666666666666666,
             "#ed7953"
            ],
            [
             0.7777777777777778,
             "#fb9f3a"
            ],
            [
             0.8888888888888888,
             "#fdca26"
            ],
            [
             1,
             "#f0f921"
            ]
           ]
          },
          "colorway": [
           "#636efa",
           "#EF553B",
           "#00cc96",
           "#ab63fa",
           "#FFA15A",
           "#19d3f3",
           "#FF6692",
           "#B6E880",
           "#FF97FF",
           "#FECB52"
          ],
          "font": {
           "color": "#2a3f5f"
          },
          "geo": {
           "bgcolor": "white",
           "lakecolor": "white",
           "landcolor": "#E5ECF6",
           "showlakes": true,
           "showland": true,
           "subunitcolor": "white"
          },
          "hoverlabel": {
           "align": "left"
          },
          "hovermode": "closest",
          "mapbox": {
           "style": "light"
          },
          "paper_bgcolor": "white",
          "plot_bgcolor": "#E5ECF6",
          "polar": {
           "angularaxis": {
            "gridcolor": "white",
            "linecolor": "white",
            "ticks": ""
           },
           "bgcolor": "#E5ECF6",
           "radialaxis": {
            "gridcolor": "white",
            "linecolor": "white",
            "ticks": ""
           }
          },
          "scene": {
           "xaxis": {
            "backgroundcolor": "#E5ECF6",
            "gridcolor": "white",
            "gridwidth": 2,
            "linecolor": "white",
            "showbackground": true,
            "ticks": "",
            "zerolinecolor": "white"
           },
           "yaxis": {
            "backgroundcolor": "#E5ECF6",
            "gridcolor": "white",
            "gridwidth": 2,
            "linecolor": "white",
            "showbackground": true,
            "ticks": "",
            "zerolinecolor": "white"
           },
           "zaxis": {
            "backgroundcolor": "#E5ECF6",
            "gridcolor": "white",
            "gridwidth": 2,
            "linecolor": "white",
            "showbackground": true,
            "ticks": "",
            "zerolinecolor": "white"
           }
          },
          "shapedefaults": {
           "line": {
            "color": "#2a3f5f"
           }
          },
          "ternary": {
           "aaxis": {
            "gridcolor": "white",
            "linecolor": "white",
            "ticks": ""
           },
           "baxis": {
            "gridcolor": "white",
            "linecolor": "white",
            "ticks": ""
           },
           "bgcolor": "#E5ECF6",
           "caxis": {
            "gridcolor": "white",
            "linecolor": "white",
            "ticks": ""
           }
          },
          "title": {
           "x": 0.05
          },
          "xaxis": {
           "automargin": true,
           "gridcolor": "white",
           "linecolor": "white",
           "ticks": "",
           "title": {
            "standoff": 15
           },
           "zerolinecolor": "white",
           "zerolinewidth": 2
          },
          "yaxis": {
           "automargin": true,
           "gridcolor": "white",
           "linecolor": "white",
           "ticks": "",
           "title": {
            "standoff": 15
           },
           "zerolinecolor": "white",
           "zerolinewidth": 2
          }
         }
        },
        "xaxis": {
         "anchor": "y",
         "domain": [
          0,
          1
         ],
         "title": {
          "text": "Desempenho"
         }
        },
        "yaxis": {
         "anchor": "x",
         "domain": [
          0,
          1
         ],
         "title": {
          "text": "count"
         }
        }
       }
      }
     },
     "metadata": {},
     "output_type": "display_data"
    }
   ],
   "source": [
    "px.histogram(Defensores, x = 'Desempenho').show()"
   ]
  },
  {
   "cell_type": "code",
   "execution_count": 31,
   "metadata": {},
   "outputs": [
    {
     "data": {
      "text/html": [
       "<div>\n",
       "<style scoped>\n",
       "    .dataframe tbody tr th:only-of-type {\n",
       "        vertical-align: middle;\n",
       "    }\n",
       "\n",
       "    .dataframe tbody tr th {\n",
       "        vertical-align: top;\n",
       "    }\n",
       "\n",
       "    .dataframe thead th {\n",
       "        text-align: right;\n",
       "    }\n",
       "</style>\n",
       "<table border=\"1\" class=\"dataframe\">\n",
       "  <thead>\n",
       "    <tr style=\"text-align: right;\">\n",
       "      <th></th>\n",
       "      <th>_c0</th>\n",
       "      <th>Rk</th>\n",
       "      <th>Player</th>\n",
       "      <th>Nation</th>\n",
       "      <th>Pos</th>\n",
       "      <th>Squad</th>\n",
       "      <th>Comp</th>\n",
       "      <th>Age</th>\n",
       "      <th>Born</th>\n",
       "      <th>MP</th>\n",
       "      <th>...</th>\n",
       "      <th>TklW</th>\n",
       "      <th>PKwon</th>\n",
       "      <th>PKcon</th>\n",
       "      <th>OG</th>\n",
       "      <th>Recov</th>\n",
       "      <th>AerWon</th>\n",
       "      <th>AerLost</th>\n",
       "      <th>AerWon%</th>\n",
       "      <th>score</th>\n",
       "      <th>Desempenho</th>\n",
       "    </tr>\n",
       "  </thead>\n",
       "  <tbody>\n",
       "    <tr>\n",
       "      <th>52</th>\n",
       "      <td>160</td>\n",
       "      <td>161</td>\n",
       "      <td>Lo�c Bade</td>\n",
       "      <td>FRA</td>\n",
       "      <td>DF</td>\n",
       "      <td>Rennes</td>\n",
       "      <td>Ligue 1</td>\n",
       "      <td>22</td>\n",
       "      <td>2000</td>\n",
       "      <td>1</td>\n",
       "      <td>...</td>\n",
       "      <td>1.0</td>\n",
       "      <td>0.0</td>\n",
       "      <td>0.0</td>\n",
       "      <td>0.0</td>\n",
       "      <td>4.00</td>\n",
       "      <td>2.00</td>\n",
       "      <td>2.00</td>\n",
       "      <td>50.0</td>\n",
       "      <td>13.00</td>\n",
       "      <td>Muito_ruim</td>\n",
       "    </tr>\n",
       "    <tr>\n",
       "      <th>358</th>\n",
       "      <td>1070</td>\n",
       "      <td>1071</td>\n",
       "      <td>Mathis Hamdi</td>\n",
       "      <td>FRA</td>\n",
       "      <td>DF</td>\n",
       "      <td>Troyes</td>\n",
       "      <td>Ligue 1</td>\n",
       "      <td>19</td>\n",
       "      <td>2003</td>\n",
       "      <td>1</td>\n",
       "      <td>...</td>\n",
       "      <td>0.0</td>\n",
       "      <td>0.0</td>\n",
       "      <td>0.0</td>\n",
       "      <td>0.0</td>\n",
       "      <td>0.00</td>\n",
       "      <td>0.00</td>\n",
       "      <td>0.00</td>\n",
       "      <td>0.0</td>\n",
       "      <td>12.00</td>\n",
       "      <td>Muito_ruim</td>\n",
       "    </tr>\n",
       "    <tr>\n",
       "      <th>219</th>\n",
       "      <td>629</td>\n",
       "      <td>630</td>\n",
       "      <td>Fran Delgado</td>\n",
       "      <td>ESP</td>\n",
       "      <td>DF</td>\n",
       "      <td>Betis</td>\n",
       "      <td>La Liga</td>\n",
       "      <td>21</td>\n",
       "      <td>2001</td>\n",
       "      <td>1</td>\n",
       "      <td>...</td>\n",
       "      <td>0.0</td>\n",
       "      <td>0.0</td>\n",
       "      <td>0.0</td>\n",
       "      <td>0.0</td>\n",
       "      <td>0.00</td>\n",
       "      <td>0.00</td>\n",
       "      <td>0.00</td>\n",
       "      <td>0.0</td>\n",
       "      <td>12.00</td>\n",
       "      <td>Muito_ruim</td>\n",
       "    </tr>\n",
       "    <tr>\n",
       "      <th>463</th>\n",
       "      <td>1381</td>\n",
       "      <td>1382</td>\n",
       "      <td>Jamaal Lascelles</td>\n",
       "      <td>ENG</td>\n",
       "      <td>DF</td>\n",
       "      <td>Newcastle Utd</td>\n",
       "      <td>Premier League</td>\n",
       "      <td>29</td>\n",
       "      <td>1993</td>\n",
       "      <td>4</td>\n",
       "      <td>...</td>\n",
       "      <td>0.0</td>\n",
       "      <td>0.0</td>\n",
       "      <td>0.0</td>\n",
       "      <td>0.0</td>\n",
       "      <td>0.00</td>\n",
       "      <td>3.33</td>\n",
       "      <td>0.83</td>\n",
       "      <td>80.0</td>\n",
       "      <td>8.33</td>\n",
       "      <td>Muito_ruim</td>\n",
       "    </tr>\n",
       "    <tr>\n",
       "      <th>380</th>\n",
       "      <td>1131</td>\n",
       "      <td>1132</td>\n",
       "      <td>Martin Hongla</td>\n",
       "      <td>CMR</td>\n",
       "      <td>DF</td>\n",
       "      <td>Valladolid</td>\n",
       "      <td>La Liga</td>\n",
       "      <td>24</td>\n",
       "      <td>1998</td>\n",
       "      <td>1</td>\n",
       "      <td>...</td>\n",
       "      <td>0.0</td>\n",
       "      <td>0.0</td>\n",
       "      <td>0.0</td>\n",
       "      <td>0.0</td>\n",
       "      <td>3.33</td>\n",
       "      <td>1.11</td>\n",
       "      <td>1.11</td>\n",
       "      <td>50.0</td>\n",
       "      <td>5.11</td>\n",
       "      <td>Muito_ruim</td>\n",
       "    </tr>\n",
       "    <tr>\n",
       "      <th>734</th>\n",
       "      <td>2304</td>\n",
       "      <td>2305</td>\n",
       "      <td>C�dric Soares</td>\n",
       "      <td>POR</td>\n",
       "      <td>DF</td>\n",
       "      <td>Fulham</td>\n",
       "      <td>Premier League</td>\n",
       "      <td>31</td>\n",
       "      <td>1991</td>\n",
       "      <td>1</td>\n",
       "      <td>...</td>\n",
       "      <td>0.0</td>\n",
       "      <td>0.0</td>\n",
       "      <td>0.0</td>\n",
       "      <td>0.0</td>\n",
       "      <td>1.00</td>\n",
       "      <td>0.00</td>\n",
       "      <td>0.00</td>\n",
       "      <td>0.0</td>\n",
       "      <td>5.00</td>\n",
       "      <td>Muito_ruim</td>\n",
       "    </tr>\n",
       "    <tr>\n",
       "      <th>160</th>\n",
       "      <td>490</td>\n",
       "      <td>491</td>\n",
       "      <td>Fabio Chiarodia</td>\n",
       "      <td>ITA</td>\n",
       "      <td>DF</td>\n",
       "      <td>Werder Bremen</td>\n",
       "      <td>Bundesliga</td>\n",
       "      <td>17</td>\n",
       "      <td>2005</td>\n",
       "      <td>1</td>\n",
       "      <td>...</td>\n",
       "      <td>0.0</td>\n",
       "      <td>0.0</td>\n",
       "      <td>0.0</td>\n",
       "      <td>0.0</td>\n",
       "      <td>0.00</td>\n",
       "      <td>1.00</td>\n",
       "      <td>0.00</td>\n",
       "      <td>100.0</td>\n",
       "      <td>4.00</td>\n",
       "      <td>Muito_ruim</td>\n",
       "    </tr>\n",
       "    <tr>\n",
       "      <th>575</th>\n",
       "      <td>1734</td>\n",
       "      <td>1735</td>\n",
       "      <td>Mert M�ld�r</td>\n",
       "      <td>TUR</td>\n",
       "      <td>DF</td>\n",
       "      <td>Sassuolo</td>\n",
       "      <td>Serie A</td>\n",
       "      <td>23</td>\n",
       "      <td>1999</td>\n",
       "      <td>1</td>\n",
       "      <td>...</td>\n",
       "      <td>0.0</td>\n",
       "      <td>0.0</td>\n",
       "      <td>0.0</td>\n",
       "      <td>0.0</td>\n",
       "      <td>0.00</td>\n",
       "      <td>0.00</td>\n",
       "      <td>0.00</td>\n",
       "      <td>0.0</td>\n",
       "      <td>4.00</td>\n",
       "      <td>Muito_ruim</td>\n",
       "    </tr>\n",
       "    <tr>\n",
       "      <th>855</th>\n",
       "      <td>2663</td>\n",
       "      <td>2664</td>\n",
       "      <td>Aaron Zehnter</td>\n",
       "      <td>GER</td>\n",
       "      <td>DF</td>\n",
       "      <td>Augsburg</td>\n",
       "      <td>Bundesliga</td>\n",
       "      <td>18</td>\n",
       "      <td>2004</td>\n",
       "      <td>1</td>\n",
       "      <td>...</td>\n",
       "      <td>0.0</td>\n",
       "      <td>0.0</td>\n",
       "      <td>0.0</td>\n",
       "      <td>0.0</td>\n",
       "      <td>0.00</td>\n",
       "      <td>0.00</td>\n",
       "      <td>0.00</td>\n",
       "      <td>0.0</td>\n",
       "      <td>4.00</td>\n",
       "      <td>Muito_ruim</td>\n",
       "    </tr>\n",
       "    <tr>\n",
       "      <th>662</th>\n",
       "      <td>2068</td>\n",
       "      <td>2069</td>\n",
       "      <td>Alejandro Revuelta Montero</td>\n",
       "      <td>ESP</td>\n",
       "      <td>DF</td>\n",
       "      <td>Getafe</td>\n",
       "      <td>La Liga</td>\n",
       "      <td>22</td>\n",
       "      <td>2000</td>\n",
       "      <td>1</td>\n",
       "      <td>...</td>\n",
       "      <td>0.0</td>\n",
       "      <td>0.0</td>\n",
       "      <td>0.0</td>\n",
       "      <td>0.0</td>\n",
       "      <td>0.00</td>\n",
       "      <td>0.00</td>\n",
       "      <td>0.00</td>\n",
       "      <td>0.0</td>\n",
       "      <td>2.00</td>\n",
       "      <td>Muito_ruim</td>\n",
       "    </tr>\n",
       "    <tr>\n",
       "      <th>131</th>\n",
       "      <td>398</td>\n",
       "      <td>399</td>\n",
       "      <td>Duje ?aleta-Car</td>\n",
       "      <td>CRO</td>\n",
       "      <td>DF</td>\n",
       "      <td>Marseille</td>\n",
       "      <td>Ligue 1</td>\n",
       "      <td>26</td>\n",
       "      <td>1996</td>\n",
       "      <td>1</td>\n",
       "      <td>...</td>\n",
       "      <td>0.0</td>\n",
       "      <td>0.0</td>\n",
       "      <td>0.0</td>\n",
       "      <td>0.0</td>\n",
       "      <td>0.00</td>\n",
       "      <td>10.00</td>\n",
       "      <td>0.00</td>\n",
       "      <td>100.0</td>\n",
       "      <td>2.00</td>\n",
       "      <td>Muito_ruim</td>\n",
       "    </tr>\n",
       "    <tr>\n",
       "      <th>449</th>\n",
       "      <td>1330</td>\n",
       "      <td>1331</td>\n",
       "      <td>Emil Krafth</td>\n",
       "      <td>SWE</td>\n",
       "      <td>DF</td>\n",
       "      <td>Newcastle Utd</td>\n",
       "      <td>Premier League</td>\n",
       "      <td>28</td>\n",
       "      <td>1994</td>\n",
       "      <td>1</td>\n",
       "      <td>...</td>\n",
       "      <td>0.0</td>\n",
       "      <td>0.0</td>\n",
       "      <td>0.0</td>\n",
       "      <td>0.0</td>\n",
       "      <td>0.00</td>\n",
       "      <td>0.00</td>\n",
       "      <td>0.00</td>\n",
       "      <td>0.0</td>\n",
       "      <td>2.00</td>\n",
       "      <td>Muito_ruim</td>\n",
       "    </tr>\n",
       "    <tr>\n",
       "      <th>658</th>\n",
       "      <td>2055</td>\n",
       "      <td>2056</td>\n",
       "      <td>Nathan Redmond</td>\n",
       "      <td>ENG</td>\n",
       "      <td>DF</td>\n",
       "      <td>Southampton</td>\n",
       "      <td>Premier League</td>\n",
       "      <td>28</td>\n",
       "      <td>1994</td>\n",
       "      <td>1</td>\n",
       "      <td>...</td>\n",
       "      <td>0.0</td>\n",
       "      <td>0.0</td>\n",
       "      <td>0.0</td>\n",
       "      <td>0.0</td>\n",
       "      <td>0.00</td>\n",
       "      <td>0.00</td>\n",
       "      <td>0.00</td>\n",
       "      <td>0.0</td>\n",
       "      <td>2.00</td>\n",
       "      <td>Muito_ruim</td>\n",
       "    </tr>\n",
       "    <tr>\n",
       "      <th>483</th>\n",
       "      <td>1444</td>\n",
       "      <td>1445</td>\n",
       "      <td>Diego Llorente</td>\n",
       "      <td>ESP</td>\n",
       "      <td>DF</td>\n",
       "      <td>Roma</td>\n",
       "      <td>Serie A</td>\n",
       "      <td>29</td>\n",
       "      <td>1993</td>\n",
       "      <td>1</td>\n",
       "      <td>...</td>\n",
       "      <td>0.0</td>\n",
       "      <td>0.0</td>\n",
       "      <td>0.0</td>\n",
       "      <td>0.0</td>\n",
       "      <td>0.00</td>\n",
       "      <td>0.00</td>\n",
       "      <td>0.00</td>\n",
       "      <td>0.0</td>\n",
       "      <td>2.00</td>\n",
       "      <td>Muito_ruim</td>\n",
       "    </tr>\n",
       "    <tr>\n",
       "      <th>301</th>\n",
       "      <td>878</td>\n",
       "      <td>879</td>\n",
       "      <td>Steven Fortes</td>\n",
       "      <td>CPV</td>\n",
       "      <td>DF</td>\n",
       "      <td>Lens</td>\n",
       "      <td>Ligue 1</td>\n",
       "      <td>30</td>\n",
       "      <td>1992</td>\n",
       "      <td>1</td>\n",
       "      <td>...</td>\n",
       "      <td>0.0</td>\n",
       "      <td>0.0</td>\n",
       "      <td>0.0</td>\n",
       "      <td>0.0</td>\n",
       "      <td>0.00</td>\n",
       "      <td>10.00</td>\n",
       "      <td>10.00</td>\n",
       "      <td>50.0</td>\n",
       "      <td>2.00</td>\n",
       "      <td>Muito_ruim</td>\n",
       "    </tr>\n",
       "    <tr>\n",
       "      <th>223</th>\n",
       "      <td>648</td>\n",
       "      <td>649</td>\n",
       "      <td>Kastriot Dermaku</td>\n",
       "      <td>ALB</td>\n",
       "      <td>DF</td>\n",
       "      <td>Lecce</td>\n",
       "      <td>Serie A</td>\n",
       "      <td>31</td>\n",
       "      <td>1992</td>\n",
       "      <td>1</td>\n",
       "      <td>...</td>\n",
       "      <td>0.0</td>\n",
       "      <td>0.0</td>\n",
       "      <td>0.0</td>\n",
       "      <td>0.0</td>\n",
       "      <td>0.00</td>\n",
       "      <td>0.00</td>\n",
       "      <td>0.00</td>\n",
       "      <td>0.0</td>\n",
       "      <td>2.00</td>\n",
       "      <td>Muito_ruim</td>\n",
       "    </tr>\n",
       "    <tr>\n",
       "      <th>78</th>\n",
       "      <td>247</td>\n",
       "      <td>248</td>\n",
       "      <td>Jean�el Belocian</td>\n",
       "      <td>FRA</td>\n",
       "      <td>DF</td>\n",
       "      <td>Rennes</td>\n",
       "      <td>Ligue 1</td>\n",
       "      <td>17</td>\n",
       "      <td>2005</td>\n",
       "      <td>1</td>\n",
       "      <td>...</td>\n",
       "      <td>0.0</td>\n",
       "      <td>0.0</td>\n",
       "      <td>0.0</td>\n",
       "      <td>0.0</td>\n",
       "      <td>0.00</td>\n",
       "      <td>0.00</td>\n",
       "      <td>0.00</td>\n",
       "      <td>0.0</td>\n",
       "      <td>2.00</td>\n",
       "      <td>Muito_ruim</td>\n",
       "    </tr>\n",
       "    <tr>\n",
       "      <th>49</th>\n",
       "      <td>156</td>\n",
       "      <td>157</td>\n",
       "      <td>Sanoussy Ba</td>\n",
       "      <td>GER</td>\n",
       "      <td>DF</td>\n",
       "      <td>RB Leipzig</td>\n",
       "      <td>Bundesliga</td>\n",
       "      <td>19</td>\n",
       "      <td>2004</td>\n",
       "      <td>1</td>\n",
       "      <td>...</td>\n",
       "      <td>0.0</td>\n",
       "      <td>0.0</td>\n",
       "      <td>0.0</td>\n",
       "      <td>0.0</td>\n",
       "      <td>0.00</td>\n",
       "      <td>0.00</td>\n",
       "      <td>0.00</td>\n",
       "      <td>0.0</td>\n",
       "      <td>2.00</td>\n",
       "      <td>Muito_ruim</td>\n",
       "    </tr>\n",
       "    <tr>\n",
       "      <th>422</th>\n",
       "      <td>1274</td>\n",
       "      <td>1275</td>\n",
       "      <td>Michael Keane</td>\n",
       "      <td>ENG</td>\n",
       "      <td>DF</td>\n",
       "      <td>Everton</td>\n",
       "      <td>Premier League</td>\n",
       "      <td>30</td>\n",
       "      <td>1993</td>\n",
       "      <td>1</td>\n",
       "      <td>...</td>\n",
       "      <td>0.0</td>\n",
       "      <td>0.0</td>\n",
       "      <td>0.0</td>\n",
       "      <td>0.0</td>\n",
       "      <td>0.00</td>\n",
       "      <td>0.00</td>\n",
       "      <td>3.33</td>\n",
       "      <td>0.0</td>\n",
       "      <td>-4.66</td>\n",
       "      <td>Muito_ruim</td>\n",
       "    </tr>\n",
       "    <tr>\n",
       "      <th>646</th>\n",
       "      <td>2000</td>\n",
       "      <td>2001</td>\n",
       "      <td>Stefan Posch</td>\n",
       "      <td>AUT</td>\n",
       "      <td>DF</td>\n",
       "      <td>Hoffenheim</td>\n",
       "      <td>Bundesliga</td>\n",
       "      <td>25</td>\n",
       "      <td>1997</td>\n",
       "      <td>1</td>\n",
       "      <td>...</td>\n",
       "      <td>0.0</td>\n",
       "      <td>0.0</td>\n",
       "      <td>0.0</td>\n",
       "      <td>0.0</td>\n",
       "      <td>0.00</td>\n",
       "      <td>0.00</td>\n",
       "      <td>0.00</td>\n",
       "      <td>0.0</td>\n",
       "      <td>-51.00</td>\n",
       "      <td>Muito_ruim</td>\n",
       "    </tr>\n",
       "  </tbody>\n",
       "</table>\n",
       "<p>20 rows × 127 columns</p>\n",
       "</div>"
      ],
      "text/plain": [
       "      _c0    Rk                      Player Nation Pos          Squad  \\\n",
       "52    160   161                   Lo�c Bade    FRA  DF         Rennes   \n",
       "358  1070  1071                Mathis Hamdi    FRA  DF         Troyes   \n",
       "219   629   630                Fran Delgado    ESP  DF          Betis   \n",
       "463  1381  1382            Jamaal Lascelles    ENG  DF  Newcastle Utd   \n",
       "380  1131  1132               Martin Hongla    CMR  DF     Valladolid   \n",
       "734  2304  2305               C�dric Soares    POR  DF         Fulham   \n",
       "160   490   491             Fabio Chiarodia    ITA  DF  Werder Bremen   \n",
       "575  1734  1735                 Mert M�ld�r    TUR  DF       Sassuolo   \n",
       "855  2663  2664               Aaron Zehnter    GER  DF       Augsburg   \n",
       "662  2068  2069  Alejandro Revuelta Montero    ESP  DF         Getafe   \n",
       "131   398   399             Duje ?aleta-Car    CRO  DF      Marseille   \n",
       "449  1330  1331                 Emil Krafth    SWE  DF  Newcastle Utd   \n",
       "658  2055  2056              Nathan Redmond    ENG  DF    Southampton   \n",
       "483  1444  1445              Diego Llorente    ESP  DF           Roma   \n",
       "301   878   879               Steven Fortes    CPV  DF           Lens   \n",
       "223   648   649            Kastriot Dermaku    ALB  DF          Lecce   \n",
       "78    247   248            Jean�el Belocian    FRA  DF         Rennes   \n",
       "49    156   157                 Sanoussy Ba    GER  DF     RB Leipzig   \n",
       "422  1274  1275               Michael Keane    ENG  DF        Everton   \n",
       "646  2000  2001                Stefan Posch    AUT  DF     Hoffenheim   \n",
       "\n",
       "               Comp  Age  Born  MP  ...  TklW  PKwon  PKcon   OG  Recov  \\\n",
       "52          Ligue 1   22  2000   1  ...   1.0    0.0    0.0  0.0   4.00   \n",
       "358         Ligue 1   19  2003   1  ...   0.0    0.0    0.0  0.0   0.00   \n",
       "219         La Liga   21  2001   1  ...   0.0    0.0    0.0  0.0   0.00   \n",
       "463  Premier League   29  1993   4  ...   0.0    0.0    0.0  0.0   0.00   \n",
       "380         La Liga   24  1998   1  ...   0.0    0.0    0.0  0.0   3.33   \n",
       "734  Premier League   31  1991   1  ...   0.0    0.0    0.0  0.0   1.00   \n",
       "160      Bundesliga   17  2005   1  ...   0.0    0.0    0.0  0.0   0.00   \n",
       "575         Serie A   23  1999   1  ...   0.0    0.0    0.0  0.0   0.00   \n",
       "855      Bundesliga   18  2004   1  ...   0.0    0.0    0.0  0.0   0.00   \n",
       "662         La Liga   22  2000   1  ...   0.0    0.0    0.0  0.0   0.00   \n",
       "131         Ligue 1   26  1996   1  ...   0.0    0.0    0.0  0.0   0.00   \n",
       "449  Premier League   28  1994   1  ...   0.0    0.0    0.0  0.0   0.00   \n",
       "658  Premier League   28  1994   1  ...   0.0    0.0    0.0  0.0   0.00   \n",
       "483         Serie A   29  1993   1  ...   0.0    0.0    0.0  0.0   0.00   \n",
       "301         Ligue 1   30  1992   1  ...   0.0    0.0    0.0  0.0   0.00   \n",
       "223         Serie A   31  1992   1  ...   0.0    0.0    0.0  0.0   0.00   \n",
       "78          Ligue 1   17  2005   1  ...   0.0    0.0    0.0  0.0   0.00   \n",
       "49       Bundesliga   19  2004   1  ...   0.0    0.0    0.0  0.0   0.00   \n",
       "422  Premier League   30  1993   1  ...   0.0    0.0    0.0  0.0   0.00   \n",
       "646      Bundesliga   25  1997   1  ...   0.0    0.0    0.0  0.0   0.00   \n",
       "\n",
       "     AerWon  AerLost  AerWon%  score  Desempenho  \n",
       "52     2.00     2.00     50.0  13.00  Muito_ruim  \n",
       "358    0.00     0.00      0.0  12.00  Muito_ruim  \n",
       "219    0.00     0.00      0.0  12.00  Muito_ruim  \n",
       "463    3.33     0.83     80.0   8.33  Muito_ruim  \n",
       "380    1.11     1.11     50.0   5.11  Muito_ruim  \n",
       "734    0.00     0.00      0.0   5.00  Muito_ruim  \n",
       "160    1.00     0.00    100.0   4.00  Muito_ruim  \n",
       "575    0.00     0.00      0.0   4.00  Muito_ruim  \n",
       "855    0.00     0.00      0.0   4.00  Muito_ruim  \n",
       "662    0.00     0.00      0.0   2.00  Muito_ruim  \n",
       "131   10.00     0.00    100.0   2.00  Muito_ruim  \n",
       "449    0.00     0.00      0.0   2.00  Muito_ruim  \n",
       "658    0.00     0.00      0.0   2.00  Muito_ruim  \n",
       "483    0.00     0.00      0.0   2.00  Muito_ruim  \n",
       "301   10.00    10.00     50.0   2.00  Muito_ruim  \n",
       "223    0.00     0.00      0.0   2.00  Muito_ruim  \n",
       "78     0.00     0.00      0.0   2.00  Muito_ruim  \n",
       "49     0.00     0.00      0.0   2.00  Muito_ruim  \n",
       "422    0.00     3.33      0.0  -4.66  Muito_ruim  \n",
       "646    0.00     0.00      0.0 -51.00  Muito_ruim  \n",
       "\n",
       "[20 rows x 127 columns]"
      ]
     },
     "execution_count": 31,
     "metadata": {},
     "output_type": "execute_result"
    }
   ],
   "source": [
    "Defensores[Defensores['Desempenho'] == 'Muito_ruim'].head(40)"
   ]
  },
  {
   "cell_type": "code",
   "execution_count": 32,
   "metadata": {},
   "outputs": [],
   "source": [
    "Defensores.to_csv('C:\\\\Users\\\\alexa\\\\OneDrive\\\\Área de Trabalho\\\\Prj\\\\Classificador\\\\Content\\\\Defensores.csv')"
   ]
  }
 ],
 "metadata": {
  "kernelspec": {
   "display_name": "base",
   "language": "python",
   "name": "python3"
  },
  "language_info": {
   "codemirror_mode": {
    "name": "ipython",
    "version": 3
   },
   "file_extension": ".py",
   "mimetype": "text/x-python",
   "name": "python",
   "nbconvert_exporter": "python",
   "pygments_lexer": "ipython3",
   "version": "3.9.7"
  },
  "orig_nbformat": 4
 },
 "nbformat": 4,
 "nbformat_minor": 2
}
