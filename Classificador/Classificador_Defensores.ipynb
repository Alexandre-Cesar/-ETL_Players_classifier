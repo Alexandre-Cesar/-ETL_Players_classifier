{
 "cells": [
  {
   "cell_type": "code",
   "execution_count": 1,
   "metadata": {},
   "outputs": [],
   "source": [
    "import pandas as pd\n",
    "import plotly.express as px\n",
    "import numpy as np"
   ]
  },
  {
   "cell_type": "code",
   "execution_count": 2,
   "metadata": {},
   "outputs": [],
   "source": [
    "Defensores = pd.read_parquet('C:\\\\Users\\\\alexa\\\\OneDrive\\\\Área de Trabalho\\\\Prj\\\\Classificador\\\\Content\\\\Defensores.c000.snappy.parquet', engine='pyarrow')"
   ]
  },
  {
   "cell_type": "code",
   "execution_count": 3,
   "metadata": {},
   "outputs": [
    {
     "data": {
      "text/html": [
       "<div>\n",
       "<style scoped>\n",
       "    .dataframe tbody tr th:only-of-type {\n",
       "        vertical-align: middle;\n",
       "    }\n",
       "\n",
       "    .dataframe tbody tr th {\n",
       "        vertical-align: top;\n",
       "    }\n",
       "\n",
       "    .dataframe thead th {\n",
       "        text-align: right;\n",
       "    }\n",
       "</style>\n",
       "<table border=\"1\" class=\"dataframe\">\n",
       "  <thead>\n",
       "    <tr style=\"text-align: right;\">\n",
       "      <th></th>\n",
       "      <th>_c0</th>\n",
       "      <th>Rk</th>\n",
       "      <th>Player</th>\n",
       "      <th>Nation</th>\n",
       "      <th>Pos</th>\n",
       "      <th>Squad</th>\n",
       "      <th>Comp</th>\n",
       "      <th>Age</th>\n",
       "      <th>Born</th>\n",
       "      <th>MP</th>\n",
       "      <th>...</th>\n",
       "      <th>Off</th>\n",
       "      <th>Crs</th>\n",
       "      <th>TklW</th>\n",
       "      <th>PKwon</th>\n",
       "      <th>PKcon</th>\n",
       "      <th>OG</th>\n",
       "      <th>Recov</th>\n",
       "      <th>AerWon</th>\n",
       "      <th>AerLost</th>\n",
       "      <th>AerWon%</th>\n",
       "    </tr>\n",
       "  </thead>\n",
       "  <tbody>\n",
       "    <tr>\n",
       "      <th>0</th>\n",
       "      <td>1</td>\n",
       "      <td>2</td>\n",
       "      <td>Yunis Abdelhamid</td>\n",
       "      <td>MAR</td>\n",
       "      <td>DF</td>\n",
       "      <td>Reims</td>\n",
       "      <td>Ligue 1</td>\n",
       "      <td>35</td>\n",
       "      <td>1987</td>\n",
       "      <td>22</td>\n",
       "      <td>...</td>\n",
       "      <td>0.05</td>\n",
       "      <td>0.18</td>\n",
       "      <td>1.59</td>\n",
       "      <td>0.0</td>\n",
       "      <td>0.00</td>\n",
       "      <td>0.0</td>\n",
       "      <td>6.64</td>\n",
       "      <td>2.18</td>\n",
       "      <td>1.23</td>\n",
       "      <td>64.0</td>\n",
       "    </tr>\n",
       "    <tr>\n",
       "      <th>1</th>\n",
       "      <td>8</td>\n",
       "      <td>9</td>\n",
       "      <td>Abner</td>\n",
       "      <td>BRA</td>\n",
       "      <td>DF</td>\n",
       "      <td>Betis</td>\n",
       "      <td>La Liga</td>\n",
       "      <td>22</td>\n",
       "      <td>2000</td>\n",
       "      <td>4</td>\n",
       "      <td>...</td>\n",
       "      <td>0.00</td>\n",
       "      <td>1.33</td>\n",
       "      <td>2.33</td>\n",
       "      <td>0.0</td>\n",
       "      <td>0.00</td>\n",
       "      <td>0.0</td>\n",
       "      <td>6.00</td>\n",
       "      <td>1.00</td>\n",
       "      <td>2.00</td>\n",
       "      <td>33.3</td>\n",
       "    </tr>\n",
       "    <tr>\n",
       "      <th>2</th>\n",
       "      <td>11</td>\n",
       "      <td>12</td>\n",
       "      <td>Francesco Acerbi</td>\n",
       "      <td>ITA</td>\n",
       "      <td>DF</td>\n",
       "      <td>Inter</td>\n",
       "      <td>Serie A</td>\n",
       "      <td>35</td>\n",
       "      <td>1988</td>\n",
       "      <td>14</td>\n",
       "      <td>...</td>\n",
       "      <td>0.08</td>\n",
       "      <td>0.24</td>\n",
       "      <td>0.57</td>\n",
       "      <td>0.0</td>\n",
       "      <td>0.00</td>\n",
       "      <td>0.0</td>\n",
       "      <td>4.96</td>\n",
       "      <td>2.76</td>\n",
       "      <td>1.63</td>\n",
       "      <td>63.0</td>\n",
       "    </tr>\n",
       "    <tr>\n",
       "      <th>3</th>\n",
       "      <td>13</td>\n",
       "      <td>14</td>\n",
       "      <td>Marcos Acu�a</td>\n",
       "      <td>ARG</td>\n",
       "      <td>DF</td>\n",
       "      <td>Sevilla</td>\n",
       "      <td>La Liga</td>\n",
       "      <td>31</td>\n",
       "      <td>1991</td>\n",
       "      <td>16</td>\n",
       "      <td>...</td>\n",
       "      <td>0.09</td>\n",
       "      <td>7.61</td>\n",
       "      <td>1.74</td>\n",
       "      <td>0.0</td>\n",
       "      <td>0.09</td>\n",
       "      <td>0.0</td>\n",
       "      <td>7.52</td>\n",
       "      <td>1.19</td>\n",
       "      <td>0.92</td>\n",
       "      <td>56.5</td>\n",
       "    </tr>\n",
       "    <tr>\n",
       "      <th>4</th>\n",
       "      <td>17</td>\n",
       "      <td>18</td>\n",
       "      <td>Tosin Adarabioyo</td>\n",
       "      <td>ENG</td>\n",
       "      <td>DF</td>\n",
       "      <td>Fulham</td>\n",
       "      <td>Premier League</td>\n",
       "      <td>25</td>\n",
       "      <td>1997</td>\n",
       "      <td>14</td>\n",
       "      <td>...</td>\n",
       "      <td>0.00</td>\n",
       "      <td>0.08</td>\n",
       "      <td>0.41</td>\n",
       "      <td>0.0</td>\n",
       "      <td>0.00</td>\n",
       "      <td>0.0</td>\n",
       "      <td>4.67</td>\n",
       "      <td>2.13</td>\n",
       "      <td>0.41</td>\n",
       "      <td>83.9</td>\n",
       "    </tr>\n",
       "    <tr>\n",
       "      <th>5</th>\n",
       "      <td>24</td>\n",
       "      <td>25</td>\n",
       "      <td>Emmanuel Agbadou</td>\n",
       "      <td>CIV</td>\n",
       "      <td>DF</td>\n",
       "      <td>Reims</td>\n",
       "      <td>Ligue 1</td>\n",
       "      <td>25</td>\n",
       "      <td>1997</td>\n",
       "      <td>19</td>\n",
       "      <td>...</td>\n",
       "      <td>0.00</td>\n",
       "      <td>0.00</td>\n",
       "      <td>1.63</td>\n",
       "      <td>0.0</td>\n",
       "      <td>0.00</td>\n",
       "      <td>0.0</td>\n",
       "      <td>8.20</td>\n",
       "      <td>1.85</td>\n",
       "      <td>1.35</td>\n",
       "      <td>57.9</td>\n",
       "    </tr>\n",
       "    <tr>\n",
       "      <th>6</th>\n",
       "      <td>26</td>\n",
       "      <td>27</td>\n",
       "      <td>Felix Agu</td>\n",
       "      <td>GER</td>\n",
       "      <td>DFFW</td>\n",
       "      <td>Werder Bremen</td>\n",
       "      <td>Bundesliga</td>\n",
       "      <td>23</td>\n",
       "      <td>1999</td>\n",
       "      <td>3</td>\n",
       "      <td>...</td>\n",
       "      <td>0.00</td>\n",
       "      <td>2.00</td>\n",
       "      <td>0.00</td>\n",
       "      <td>0.0</td>\n",
       "      <td>2.00</td>\n",
       "      <td>0.0</td>\n",
       "      <td>6.00</td>\n",
       "      <td>2.00</td>\n",
       "      <td>2.00</td>\n",
       "      <td>50.0</td>\n",
       "    </tr>\n",
       "    <tr>\n",
       "      <th>7</th>\n",
       "      <td>29</td>\n",
       "      <td>30</td>\n",
       "      <td>Nayef Aguerd</td>\n",
       "      <td>MAR</td>\n",
       "      <td>DF</td>\n",
       "      <td>West Ham</td>\n",
       "      <td>Premier League</td>\n",
       "      <td>26</td>\n",
       "      <td>1996</td>\n",
       "      <td>6</td>\n",
       "      <td>...</td>\n",
       "      <td>0.18</td>\n",
       "      <td>0.00</td>\n",
       "      <td>1.58</td>\n",
       "      <td>0.0</td>\n",
       "      <td>0.00</td>\n",
       "      <td>0.0</td>\n",
       "      <td>5.26</td>\n",
       "      <td>1.75</td>\n",
       "      <td>1.05</td>\n",
       "      <td>62.5</td>\n",
       "    </tr>\n",
       "    <tr>\n",
       "      <th>8</th>\n",
       "      <td>30</td>\n",
       "      <td>31</td>\n",
       "      <td>Ruben Aguilar</td>\n",
       "      <td>FRA</td>\n",
       "      <td>DF</td>\n",
       "      <td>Monaco</td>\n",
       "      <td>Ligue 1</td>\n",
       "      <td>29</td>\n",
       "      <td>1993</td>\n",
       "      <td>13</td>\n",
       "      <td>...</td>\n",
       "      <td>0.00</td>\n",
       "      <td>1.76</td>\n",
       "      <td>0.74</td>\n",
       "      <td>0.0</td>\n",
       "      <td>0.00</td>\n",
       "      <td>0.0</td>\n",
       "      <td>5.29</td>\n",
       "      <td>0.74</td>\n",
       "      <td>1.32</td>\n",
       "      <td>35.7</td>\n",
       "    </tr>\n",
       "    <tr>\n",
       "      <th>9</th>\n",
       "      <td>35</td>\n",
       "      <td>36</td>\n",
       "      <td>Joseph Aidoo</td>\n",
       "      <td>GHA</td>\n",
       "      <td>DF</td>\n",
       "      <td>Celta Vigo</td>\n",
       "      <td>La Liga</td>\n",
       "      <td>27</td>\n",
       "      <td>1995</td>\n",
       "      <td>20</td>\n",
       "      <td>...</td>\n",
       "      <td>0.00</td>\n",
       "      <td>0.00</td>\n",
       "      <td>1.05</td>\n",
       "      <td>0.0</td>\n",
       "      <td>0.05</td>\n",
       "      <td>0.0</td>\n",
       "      <td>6.50</td>\n",
       "      <td>1.75</td>\n",
       "      <td>1.85</td>\n",
       "      <td>48.6</td>\n",
       "    </tr>\n",
       "    <tr>\n",
       "      <th>10</th>\n",
       "      <td>36</td>\n",
       "      <td>37</td>\n",
       "      <td>Ola Aina</td>\n",
       "      <td>NGA</td>\n",
       "      <td>DF</td>\n",
       "      <td>Torino</td>\n",
       "      <td>Serie A</td>\n",
       "      <td>26</td>\n",
       "      <td>1996</td>\n",
       "      <td>12</td>\n",
       "      <td>...</td>\n",
       "      <td>0.13</td>\n",
       "      <td>3.47</td>\n",
       "      <td>1.33</td>\n",
       "      <td>0.0</td>\n",
       "      <td>0.13</td>\n",
       "      <td>0.0</td>\n",
       "      <td>6.27</td>\n",
       "      <td>1.20</td>\n",
       "      <td>0.80</td>\n",
       "      <td>60.0</td>\n",
       "    </tr>\n",
       "    <tr>\n",
       "      <th>11</th>\n",
       "      <td>37</td>\n",
       "      <td>38</td>\n",
       "      <td>Rayan A�t Nouri</td>\n",
       "      <td>FRA</td>\n",
       "      <td>DF</td>\n",
       "      <td>Wolves</td>\n",
       "      <td>Premier League</td>\n",
       "      <td>21</td>\n",
       "      <td>2001</td>\n",
       "      <td>17</td>\n",
       "      <td>...</td>\n",
       "      <td>0.30</td>\n",
       "      <td>2.08</td>\n",
       "      <td>1.58</td>\n",
       "      <td>0.0</td>\n",
       "      <td>0.10</td>\n",
       "      <td>0.1</td>\n",
       "      <td>5.25</td>\n",
       "      <td>1.29</td>\n",
       "      <td>1.39</td>\n",
       "      <td>48.1</td>\n",
       "    </tr>\n",
       "    <tr>\n",
       "      <th>12</th>\n",
       "      <td>38</td>\n",
       "      <td>39</td>\n",
       "      <td>Emanuel Aiwum</td>\n",
       "      <td>AUT</td>\n",
       "      <td>DF</td>\n",
       "      <td>Cremonese</td>\n",
       "      <td>Serie A</td>\n",
       "      <td>22</td>\n",
       "      <td>2000</td>\n",
       "      <td>15</td>\n",
       "      <td>...</td>\n",
       "      <td>0.00</td>\n",
       "      <td>0.35</td>\n",
       "      <td>2.28</td>\n",
       "      <td>0.0</td>\n",
       "      <td>0.00</td>\n",
       "      <td>0.0</td>\n",
       "      <td>7.02</td>\n",
       "      <td>1.67</td>\n",
       "      <td>0.61</td>\n",
       "      <td>73.1</td>\n",
       "    </tr>\n",
       "    <tr>\n",
       "      <th>13</th>\n",
       "      <td>39</td>\n",
       "      <td>40</td>\n",
       "      <td>Kristoffer Ajer</td>\n",
       "      <td>NOR</td>\n",
       "      <td>DF</td>\n",
       "      <td>Brentford</td>\n",
       "      <td>Premier League</td>\n",
       "      <td>24</td>\n",
       "      <td>1998</td>\n",
       "      <td>9</td>\n",
       "      <td>...</td>\n",
       "      <td>0.00</td>\n",
       "      <td>0.71</td>\n",
       "      <td>0.94</td>\n",
       "      <td>0.0</td>\n",
       "      <td>0.12</td>\n",
       "      <td>0.0</td>\n",
       "      <td>4.24</td>\n",
       "      <td>1.76</td>\n",
       "      <td>1.29</td>\n",
       "      <td>57.7</td>\n",
       "    </tr>\n",
       "    <tr>\n",
       "      <th>14</th>\n",
       "      <td>42</td>\n",
       "      <td>43</td>\n",
       "      <td>Manuel Akanji</td>\n",
       "      <td>SUI</td>\n",
       "      <td>DF</td>\n",
       "      <td>Manchester City</td>\n",
       "      <td>Premier League</td>\n",
       "      <td>27</td>\n",
       "      <td>1995</td>\n",
       "      <td>15</td>\n",
       "      <td>...</td>\n",
       "      <td>0.00</td>\n",
       "      <td>0.21</td>\n",
       "      <td>1.05</td>\n",
       "      <td>0.0</td>\n",
       "      <td>0.00</td>\n",
       "      <td>0.0</td>\n",
       "      <td>5.38</td>\n",
       "      <td>0.84</td>\n",
       "      <td>1.40</td>\n",
       "      <td>37.5</td>\n",
       "    </tr>\n",
       "    <tr>\n",
       "      <th>15</th>\n",
       "      <td>43</td>\n",
       "      <td>44</td>\n",
       "      <td>Nathan Ak�</td>\n",
       "      <td>NED</td>\n",
       "      <td>DF</td>\n",
       "      <td>Manchester City</td>\n",
       "      <td>Premier League</td>\n",
       "      <td>27</td>\n",
       "      <td>1995</td>\n",
       "      <td>15</td>\n",
       "      <td>...</td>\n",
       "      <td>0.08</td>\n",
       "      <td>0.39</td>\n",
       "      <td>0.55</td>\n",
       "      <td>0.0</td>\n",
       "      <td>0.00</td>\n",
       "      <td>0.0</td>\n",
       "      <td>5.00</td>\n",
       "      <td>1.72</td>\n",
       "      <td>1.33</td>\n",
       "      <td>56.4</td>\n",
       "    </tr>\n",
       "    <tr>\n",
       "      <th>16</th>\n",
       "      <td>44</td>\n",
       "      <td>45</td>\n",
       "      <td>Sergio Akieme</td>\n",
       "      <td>ESP</td>\n",
       "      <td>DF</td>\n",
       "      <td>Almer�a</td>\n",
       "      <td>La Liga</td>\n",
       "      <td>25</td>\n",
       "      <td>1997</td>\n",
       "      <td>21</td>\n",
       "      <td>...</td>\n",
       "      <td>0.00</td>\n",
       "      <td>3.00</td>\n",
       "      <td>0.76</td>\n",
       "      <td>0.0</td>\n",
       "      <td>0.00</td>\n",
       "      <td>0.0</td>\n",
       "      <td>5.14</td>\n",
       "      <td>0.52</td>\n",
       "      <td>0.62</td>\n",
       "      <td>45.8</td>\n",
       "    </tr>\n",
       "    <tr>\n",
       "      <th>17</th>\n",
       "      <td>48</td>\n",
       "      <td>49</td>\n",
       "      <td>Kevin Akpoguma</td>\n",
       "      <td>NGA</td>\n",
       "      <td>DF</td>\n",
       "      <td>Hoffenheim</td>\n",
       "      <td>Bundesliga</td>\n",
       "      <td>27</td>\n",
       "      <td>1995</td>\n",
       "      <td>16</td>\n",
       "      <td>...</td>\n",
       "      <td>0.00</td>\n",
       "      <td>0.53</td>\n",
       "      <td>1.93</td>\n",
       "      <td>0.0</td>\n",
       "      <td>0.00</td>\n",
       "      <td>0.0</td>\n",
       "      <td>6.05</td>\n",
       "      <td>2.46</td>\n",
       "      <td>1.93</td>\n",
       "      <td>56.0</td>\n",
       "    </tr>\n",
       "    <tr>\n",
       "      <th>18</th>\n",
       "      <td>49</td>\n",
       "      <td>50</td>\n",
       "      <td>David Alaba</td>\n",
       "      <td>AUT</td>\n",
       "      <td>DF</td>\n",
       "      <td>Real Madrid</td>\n",
       "      <td>La Liga</td>\n",
       "      <td>30</td>\n",
       "      <td>1992</td>\n",
       "      <td>17</td>\n",
       "      <td>...</td>\n",
       "      <td>0.00</td>\n",
       "      <td>1.25</td>\n",
       "      <td>0.53</td>\n",
       "      <td>0.0</td>\n",
       "      <td>0.07</td>\n",
       "      <td>0.0</td>\n",
       "      <td>4.67</td>\n",
       "      <td>0.33</td>\n",
       "      <td>0.39</td>\n",
       "      <td>45.5</td>\n",
       "    </tr>\n",
       "    <tr>\n",
       "      <th>19</th>\n",
       "      <td>52</td>\n",
       "      <td>53</td>\n",
       "      <td>Jordi Alba</td>\n",
       "      <td>ESP</td>\n",
       "      <td>DF</td>\n",
       "      <td>Barcelona</td>\n",
       "      <td>La Liga</td>\n",
       "      <td>33</td>\n",
       "      <td>1989</td>\n",
       "      <td>14</td>\n",
       "      <td>...</td>\n",
       "      <td>0.68</td>\n",
       "      <td>5.05</td>\n",
       "      <td>1.26</td>\n",
       "      <td>0.0</td>\n",
       "      <td>0.00</td>\n",
       "      <td>0.0</td>\n",
       "      <td>6.80</td>\n",
       "      <td>0.58</td>\n",
       "      <td>0.97</td>\n",
       "      <td>37.5</td>\n",
       "    </tr>\n",
       "  </tbody>\n",
       "</table>\n",
       "<p>20 rows × 125 columns</p>\n",
       "</div>"
      ],
      "text/plain": [
       "    _c0  Rk            Player Nation   Pos            Squad            Comp  \\\n",
       "0     1   2  Yunis Abdelhamid    MAR    DF            Reims         Ligue 1   \n",
       "1     8   9             Abner    BRA    DF            Betis         La Liga   \n",
       "2    11  12  Francesco Acerbi    ITA    DF            Inter         Serie A   \n",
       "3    13  14      Marcos Acu�a    ARG    DF          Sevilla         La Liga   \n",
       "4    17  18  Tosin Adarabioyo    ENG    DF           Fulham  Premier League   \n",
       "5    24  25  Emmanuel Agbadou    CIV    DF            Reims         Ligue 1   \n",
       "6    26  27         Felix Agu    GER  DFFW    Werder Bremen      Bundesliga   \n",
       "7    29  30      Nayef Aguerd    MAR    DF         West Ham  Premier League   \n",
       "8    30  31     Ruben Aguilar    FRA    DF           Monaco         Ligue 1   \n",
       "9    35  36      Joseph Aidoo    GHA    DF       Celta Vigo         La Liga   \n",
       "10   36  37          Ola Aina    NGA    DF           Torino         Serie A   \n",
       "11   37  38   Rayan A�t Nouri    FRA    DF           Wolves  Premier League   \n",
       "12   38  39     Emanuel Aiwum    AUT    DF        Cremonese         Serie A   \n",
       "13   39  40   Kristoffer Ajer    NOR    DF        Brentford  Premier League   \n",
       "14   42  43     Manuel Akanji    SUI    DF  Manchester City  Premier League   \n",
       "15   43  44        Nathan Ak�    NED    DF  Manchester City  Premier League   \n",
       "16   44  45     Sergio Akieme    ESP    DF          Almer�a         La Liga   \n",
       "17   48  49    Kevin Akpoguma    NGA    DF       Hoffenheim      Bundesliga   \n",
       "18   49  50       David Alaba    AUT    DF      Real Madrid         La Liga   \n",
       "19   52  53        Jordi Alba    ESP    DF        Barcelona         La Liga   \n",
       "\n",
       "    Age  Born  MP  ...   Off   Crs  TklW  PKwon  PKcon   OG  Recov  AerWon  \\\n",
       "0    35  1987  22  ...  0.05  0.18  1.59    0.0   0.00  0.0   6.64    2.18   \n",
       "1    22  2000   4  ...  0.00  1.33  2.33    0.0   0.00  0.0   6.00    1.00   \n",
       "2    35  1988  14  ...  0.08  0.24  0.57    0.0   0.00  0.0   4.96    2.76   \n",
       "3    31  1991  16  ...  0.09  7.61  1.74    0.0   0.09  0.0   7.52    1.19   \n",
       "4    25  1997  14  ...  0.00  0.08  0.41    0.0   0.00  0.0   4.67    2.13   \n",
       "5    25  1997  19  ...  0.00  0.00  1.63    0.0   0.00  0.0   8.20    1.85   \n",
       "6    23  1999   3  ...  0.00  2.00  0.00    0.0   2.00  0.0   6.00    2.00   \n",
       "7    26  1996   6  ...  0.18  0.00  1.58    0.0   0.00  0.0   5.26    1.75   \n",
       "8    29  1993  13  ...  0.00  1.76  0.74    0.0   0.00  0.0   5.29    0.74   \n",
       "9    27  1995  20  ...  0.00  0.00  1.05    0.0   0.05  0.0   6.50    1.75   \n",
       "10   26  1996  12  ...  0.13  3.47  1.33    0.0   0.13  0.0   6.27    1.20   \n",
       "11   21  2001  17  ...  0.30  2.08  1.58    0.0   0.10  0.1   5.25    1.29   \n",
       "12   22  2000  15  ...  0.00  0.35  2.28    0.0   0.00  0.0   7.02    1.67   \n",
       "13   24  1998   9  ...  0.00  0.71  0.94    0.0   0.12  0.0   4.24    1.76   \n",
       "14   27  1995  15  ...  0.00  0.21  1.05    0.0   0.00  0.0   5.38    0.84   \n",
       "15   27  1995  15  ...  0.08  0.39  0.55    0.0   0.00  0.0   5.00    1.72   \n",
       "16   25  1997  21  ...  0.00  3.00  0.76    0.0   0.00  0.0   5.14    0.52   \n",
       "17   27  1995  16  ...  0.00  0.53  1.93    0.0   0.00  0.0   6.05    2.46   \n",
       "18   30  1992  17  ...  0.00  1.25  0.53    0.0   0.07  0.0   4.67    0.33   \n",
       "19   33  1989  14  ...  0.68  5.05  1.26    0.0   0.00  0.0   6.80    0.58   \n",
       "\n",
       "    AerLost  AerWon%  \n",
       "0      1.23     64.0  \n",
       "1      2.00     33.3  \n",
       "2      1.63     63.0  \n",
       "3      0.92     56.5  \n",
       "4      0.41     83.9  \n",
       "5      1.35     57.9  \n",
       "6      2.00     50.0  \n",
       "7      1.05     62.5  \n",
       "8      1.32     35.7  \n",
       "9      1.85     48.6  \n",
       "10     0.80     60.0  \n",
       "11     1.39     48.1  \n",
       "12     0.61     73.1  \n",
       "13     1.29     57.7  \n",
       "14     1.40     37.5  \n",
       "15     1.33     56.4  \n",
       "16     0.62     45.8  \n",
       "17     1.93     56.0  \n",
       "18     0.39     45.5  \n",
       "19     0.97     37.5  \n",
       "\n",
       "[20 rows x 125 columns]"
      ]
     },
     "execution_count": 3,
     "metadata": {},
     "output_type": "execute_result"
    }
   ],
   "source": [
    "Defensores.head(20)"
   ]
  },
  {
   "cell_type": "code",
   "execution_count": 4,
   "metadata": {},
   "outputs": [
    {
     "data": {
      "application/vnd.plotly.v1+json": {
       "config": {
        "plotlyServerURL": "https://plot.ly"
       },
       "data": [
        {
         "alignmentgroup": "True",
         "bingroup": "x",
         "hovertemplate": "Player=Yunis Abdelhamid<br>Tkl=%{x}<br>count=%{y}<extra></extra>",
         "legendgroup": "Yunis Abdelhamid",
         "marker": {
          "color": "#636efa",
          "pattern": {
           "shape": ""
          }
         },
         "name": "Yunis Abdelhamid",
         "offsetgroup": "Yunis Abdelhamid",
         "orientation": "v",
         "showlegend": true,
         "type": "histogram",
         "x": [
          2.5
         ],
         "xaxis": "x",
         "yaxis": "y"
        },
        {
         "alignmentgroup": "True",
         "bingroup": "x",
         "hovertemplate": "Player=Abner<br>Tkl=%{x}<br>count=%{y}<extra></extra>",
         "legendgroup": "Abner",
         "marker": {
          "color": "#EF553B",
          "pattern": {
           "shape": ""
          }
         },
         "name": "Abner",
         "offsetgroup": "Abner",
         "orientation": "v",
         "showlegend": true,
         "type": "histogram",
         "x": [
          2.67
         ],
         "xaxis": "x",
         "yaxis": "y"
        },
        {
         "alignmentgroup": "True",
         "bingroup": "x",
         "hovertemplate": "Player=Francesco Acerbi<br>Tkl=%{x}<br>count=%{y}<extra></extra>",
         "legendgroup": "Francesco Acerbi",
         "marker": {
          "color": "#00cc96",
          "pattern": {
           "shape": ""
          }
         },
         "name": "Francesco Acerbi",
         "offsetgroup": "Francesco Acerbi",
         "orientation": "v",
         "showlegend": true,
         "type": "histogram",
         "x": [
          1.3
         ],
         "xaxis": "x",
         "yaxis": "y"
        },
        {
         "alignmentgroup": "True",
         "bingroup": "x",
         "hovertemplate": "Player=Marcos Acu�a<br>Tkl=%{x}<br>count=%{y}<extra></extra>",
         "legendgroup": "Marcos Acu�a",
         "marker": {
          "color": "#ab63fa",
          "pattern": {
           "shape": ""
          }
         },
         "name": "Marcos Acu�a",
         "offsetgroup": "Marcos Acu�a",
         "orientation": "v",
         "showlegend": true,
         "type": "histogram",
         "x": [
          3.3
         ],
         "xaxis": "x",
         "yaxis": "y"
        },
        {
         "alignmentgroup": "True",
         "bingroup": "x",
         "hovertemplate": "Player=Tosin Adarabioyo<br>Tkl=%{x}<br>count=%{y}<extra></extra>",
         "legendgroup": "Tosin Adarabioyo",
         "marker": {
          "color": "#FFA15A",
          "pattern": {
           "shape": ""
          }
         },
         "name": "Tosin Adarabioyo",
         "offsetgroup": "Tosin Adarabioyo",
         "orientation": "v",
         "showlegend": true,
         "type": "histogram",
         "x": [
          1.07
         ],
         "xaxis": "x",
         "yaxis": "y"
        },
        {
         "alignmentgroup": "True",
         "bingroup": "x",
         "hovertemplate": "Player=Emmanuel Agbadou<br>Tkl=%{x}<br>count=%{y}<extra></extra>",
         "legendgroup": "Emmanuel Agbadou",
         "marker": {
          "color": "#19d3f3",
          "pattern": {
           "shape": ""
          }
         },
         "name": "Emmanuel Agbadou",
         "offsetgroup": "Emmanuel Agbadou",
         "orientation": "v",
         "showlegend": true,
         "type": "histogram",
         "x": [
          2.58
         ],
         "xaxis": "x",
         "yaxis": "y"
        },
        {
         "alignmentgroup": "True",
         "bingroup": "x",
         "hovertemplate": "Player=Felix Agu<br>Tkl=%{x}<br>count=%{y}<extra></extra>",
         "legendgroup": "Felix Agu",
         "marker": {
          "color": "#FF6692",
          "pattern": {
           "shape": ""
          }
         },
         "name": "Felix Agu",
         "offsetgroup": "Felix Agu",
         "orientation": "v",
         "showlegend": true,
         "type": "histogram",
         "x": [
          2
         ],
         "xaxis": "x",
         "yaxis": "y"
        },
        {
         "alignmentgroup": "True",
         "bingroup": "x",
         "hovertemplate": "Player=Nayef Aguerd<br>Tkl=%{x}<br>count=%{y}<extra></extra>",
         "legendgroup": "Nayef Aguerd",
         "marker": {
          "color": "#B6E880",
          "pattern": {
           "shape": ""
          }
         },
         "name": "Nayef Aguerd",
         "offsetgroup": "Nayef Aguerd",
         "orientation": "v",
         "showlegend": true,
         "type": "histogram",
         "x": [
          2.28
         ],
         "xaxis": "x",
         "yaxis": "y"
        },
        {
         "alignmentgroup": "True",
         "bingroup": "x",
         "hovertemplate": "Player=Ruben Aguilar<br>Tkl=%{x}<br>count=%{y}<extra></extra>",
         "legendgroup": "Ruben Aguilar",
         "marker": {
          "color": "#FF97FF",
          "pattern": {
           "shape": ""
          }
         },
         "name": "Ruben Aguilar",
         "offsetgroup": "Ruben Aguilar",
         "orientation": "v",
         "showlegend": true,
         "type": "histogram",
         "x": [
          1.91
         ],
         "xaxis": "x",
         "yaxis": "y"
        },
        {
         "alignmentgroup": "True",
         "bingroup": "x",
         "hovertemplate": "Player=Joseph Aidoo<br>Tkl=%{x}<br>count=%{y}<extra></extra>",
         "legendgroup": "Joseph Aidoo",
         "marker": {
          "color": "#FECB52",
          "pattern": {
           "shape": ""
          }
         },
         "name": "Joseph Aidoo",
         "offsetgroup": "Joseph Aidoo",
         "orientation": "v",
         "showlegend": true,
         "type": "histogram",
         "x": [
          1.7
         ],
         "xaxis": "x",
         "yaxis": "y"
        },
        {
         "alignmentgroup": "True",
         "bingroup": "x",
         "hovertemplate": "Player=Ola Aina<br>Tkl=%{x}<br>count=%{y}<extra></extra>",
         "legendgroup": "Ola Aina",
         "marker": {
          "color": "#636efa",
          "pattern": {
           "shape": ""
          }
         },
         "name": "Ola Aina",
         "offsetgroup": "Ola Aina",
         "orientation": "v",
         "showlegend": true,
         "type": "histogram",
         "x": [
          1.73
         ],
         "xaxis": "x",
         "yaxis": "y"
        },
        {
         "alignmentgroup": "True",
         "bingroup": "x",
         "hovertemplate": "Player=Rayan A�t Nouri<br>Tkl=%{x}<br>count=%{y}<extra></extra>",
         "legendgroup": "Rayan A�t Nouri",
         "marker": {
          "color": "#EF553B",
          "pattern": {
           "shape": ""
          }
         },
         "name": "Rayan A�t Nouri",
         "offsetgroup": "Rayan A�t Nouri",
         "orientation": "v",
         "showlegend": true,
         "type": "histogram",
         "x": [
          2.67
         ],
         "xaxis": "x",
         "yaxis": "y"
        },
        {
         "alignmentgroup": "True",
         "bingroup": "x",
         "hovertemplate": "Player=Emanuel Aiwum<br>Tkl=%{x}<br>count=%{y}<extra></extra>",
         "legendgroup": "Emanuel Aiwum",
         "marker": {
          "color": "#00cc96",
          "pattern": {
           "shape": ""
          }
         },
         "name": "Emanuel Aiwum",
         "offsetgroup": "Emanuel Aiwum",
         "orientation": "v",
         "showlegend": true,
         "type": "histogram",
         "x": [
          3.77
         ],
         "xaxis": "x",
         "yaxis": "y"
        },
        {
         "alignmentgroup": "True",
         "bingroup": "x",
         "hovertemplate": "Player=Kristoffer Ajer<br>Tkl=%{x}<br>count=%{y}<extra></extra>",
         "legendgroup": "Kristoffer Ajer",
         "marker": {
          "color": "#ab63fa",
          "pattern": {
           "shape": ""
          }
         },
         "name": "Kristoffer Ajer",
         "offsetgroup": "Kristoffer Ajer",
         "orientation": "v",
         "showlegend": true,
         "type": "histogram",
         "x": [
          1.29
         ],
         "xaxis": "x",
         "yaxis": "y"
        },
        {
         "alignmentgroup": "True",
         "bingroup": "x",
         "hovertemplate": "Player=Manuel Akanji<br>Tkl=%{x}<br>count=%{y}<extra></extra>",
         "legendgroup": "Manuel Akanji",
         "marker": {
          "color": "#FFA15A",
          "pattern": {
           "shape": ""
          }
         },
         "name": "Manuel Akanji",
         "offsetgroup": "Manuel Akanji",
         "orientation": "v",
         "showlegend": true,
         "type": "histogram",
         "x": [
          1.54
         ],
         "xaxis": "x",
         "yaxis": "y"
        },
        {
         "alignmentgroup": "True",
         "bingroup": "x",
         "hovertemplate": "Player=Nathan Ak�<br>Tkl=%{x}<br>count=%{y}<extra></extra>",
         "legendgroup": "Nathan Ak�",
         "marker": {
          "color": "#19d3f3",
          "pattern": {
           "shape": ""
          }
         },
         "name": "Nathan Ak�",
         "offsetgroup": "Nathan Ak�",
         "orientation": "v",
         "showlegend": true,
         "type": "histogram",
         "x": [
          1.25
         ],
         "xaxis": "x",
         "yaxis": "y"
        },
        {
         "alignmentgroup": "True",
         "bingroup": "x",
         "hovertemplate": "Player=Sergio Akieme<br>Tkl=%{x}<br>count=%{y}<extra></extra>",
         "legendgroup": "Sergio Akieme",
         "marker": {
          "color": "#FF6692",
          "pattern": {
           "shape": ""
          }
         },
         "name": "Sergio Akieme",
         "offsetgroup": "Sergio Akieme",
         "orientation": "v",
         "showlegend": true,
         "type": "histogram",
         "x": [
          1.29
         ],
         "xaxis": "x",
         "yaxis": "y"
        },
        {
         "alignmentgroup": "True",
         "bingroup": "x",
         "hovertemplate": "Player=Kevin Akpoguma<br>Tkl=%{x}<br>count=%{y}<extra></extra>",
         "legendgroup": "Kevin Akpoguma",
         "marker": {
          "color": "#B6E880",
          "pattern": {
           "shape": ""
          }
         },
         "name": "Kevin Akpoguma",
         "offsetgroup": "Kevin Akpoguma",
         "orientation": "v",
         "showlegend": true,
         "type": "histogram",
         "x": [
          3.16
         ],
         "xaxis": "x",
         "yaxis": "y"
        },
        {
         "alignmentgroup": "True",
         "bingroup": "x",
         "hovertemplate": "Player=David Alaba<br>Tkl=%{x}<br>count=%{y}<extra></extra>",
         "legendgroup": "David Alaba",
         "marker": {
          "color": "#FF97FF",
          "pattern": {
           "shape": ""
          }
         },
         "name": "David Alaba",
         "offsetgroup": "David Alaba",
         "orientation": "v",
         "showlegend": true,
         "type": "histogram",
         "x": [
          0.66
         ],
         "xaxis": "x",
         "yaxis": "y"
        },
        {
         "alignmentgroup": "True",
         "bingroup": "x",
         "hovertemplate": "Player=Jordi Alba<br>Tkl=%{x}<br>count=%{y}<extra></extra>",
         "legendgroup": "Jordi Alba",
         "marker": {
          "color": "#FECB52",
          "pattern": {
           "shape": ""
          }
         },
         "name": "Jordi Alba",
         "offsetgroup": "Jordi Alba",
         "orientation": "v",
         "showlegend": true,
         "type": "histogram",
         "x": [
          1.65
         ],
         "xaxis": "x",
         "yaxis": "y"
        },
        {
         "alignmentgroup": "True",
         "bingroup": "x",
         "hovertemplate": "Player=Ra�l Albiol<br>Tkl=%{x}<br>count=%{y}<extra></extra>",
         "legendgroup": "Ra�l Albiol",
         "marker": {
          "color": "#636efa",
          "pattern": {
           "shape": ""
          }
         },
         "name": "Ra�l Albiol",
         "offsetgroup": "Ra�l Albiol",
         "orientation": "v",
         "showlegend": true,
         "type": "histogram",
         "x": [
          1.01
         ],
         "xaxis": "x",
         "yaxis": "y"
        },
        {
         "alignmentgroup": "True",
         "bingroup": "x",
         "hovertemplate": "Player=Omar Alderete<br>Tkl=%{x}<br>count=%{y}<extra></extra>",
         "legendgroup": "Omar Alderete",
         "marker": {
          "color": "#EF553B",
          "pattern": {
           "shape": ""
          }
         },
         "name": "Omar Alderete",
         "offsetgroup": "Omar Alderete",
         "orientation": "v",
         "showlegend": true,
         "type": "histogram",
         "x": [
          1.29
         ],
         "xaxis": "x",
         "yaxis": "y"
        },
        {
         "alignmentgroup": "True",
         "bingroup": "x",
         "hovertemplate": "Player=Trent Alexander-Arnold<br>Tkl=%{x}<br>count=%{y}<extra></extra>",
         "legendgroup": "Trent Alexander-Arnold",
         "marker": {
          "color": "#00cc96",
          "pattern": {
           "shape": ""
          }
         },
         "name": "Trent Alexander-Arnold",
         "offsetgroup": "Trent Alexander-Arnold",
         "orientation": "v",
         "showlegend": true,
         "type": "histogram",
         "x": [
          1.44
         ],
         "xaxis": "x",
         "yaxis": "y"
        },
        {
         "alignmentgroup": "True",
         "bingroup": "x",
         "hovertemplate": "Player=Jim Allevinah<br>Tkl=%{x}<br>count=%{y}<extra></extra>",
         "legendgroup": "Jim Allevinah",
         "marker": {
          "color": "#ab63fa",
          "pattern": {
           "shape": ""
          }
         },
         "name": "Jim Allevinah",
         "offsetgroup": "Jim Allevinah",
         "orientation": "v",
         "showlegend": true,
         "type": "histogram",
         "x": [
          1.91
         ],
         "xaxis": "x",
         "yaxis": "y"
        },
        {
         "alignmentgroup": "True",
         "bingroup": "x",
         "hovertemplate": "Player=Marcos Alonso<br>Tkl=%{x}<br>count=%{y}<extra></extra>",
         "legendgroup": "Marcos Alonso",
         "marker": {
          "color": "#FFA15A",
          "pattern": {
           "shape": ""
          }
         },
         "name": "Marcos Alonso",
         "offsetgroup": "Marcos Alonso",
         "orientation": "v",
         "showlegend": true,
         "type": "histogram",
         "x": [
          1.16
         ],
         "xaxis": "x",
         "yaxis": "y"
        },
        {
         "alignmentgroup": "True",
         "bingroup": "x",
         "hovertemplate": "Player=Micka�l Alphonse<br>Tkl=%{x}<br>count=%{y}<extra></extra>",
         "legendgroup": "Micka�l Alphonse",
         "marker": {
          "color": "#19d3f3",
          "pattern": {
           "shape": ""
          }
         },
         "name": "Micka�l Alphonse",
         "offsetgroup": "Micka�l Alphonse",
         "orientation": "v",
         "showlegend": true,
         "type": "histogram",
         "x": [
          1.89
         ],
         "xaxis": "x",
         "yaxis": "y"
        },
        {
         "alignmentgroup": "True",
         "bingroup": "x",
         "hovertemplate": "Player=Gast�n �lvarez<br>Tkl=%{x}<br>count=%{y}<extra></extra>",
         "legendgroup": "Gast�n �lvarez",
         "marker": {
          "color": "#FF6692",
          "pattern": {
           "shape": ""
          }
         },
         "name": "Gast�n �lvarez",
         "offsetgroup": "Gast�n �lvarez",
         "orientation": "v",
         "showlegend": true,
         "type": "histogram",
         "x": [
          2.22
         ],
         "xaxis": "x",
         "yaxis": "y"
        },
        {
         "alignmentgroup": "True",
         "bingroup": "x",
         "hovertemplate": "Player=Yeray �lvarez<br>Tkl=%{x}<br>count=%{y}<extra></extra>",
         "legendgroup": "Yeray �lvarez",
         "marker": {
          "color": "#B6E880",
          "pattern": {
           "shape": ""
          }
         },
         "name": "Yeray �lvarez",
         "offsetgroup": "Yeray �lvarez",
         "orientation": "v",
         "showlegend": true,
         "type": "histogram",
         "x": [
          1.21
         ],
         "xaxis": "x",
         "yaxis": "y"
        },
        {
         "alignmentgroup": "True",
         "bingroup": "x",
         "hovertemplate": "Player=Daniel Amartey<br>Tkl=%{x}<br>count=%{y}<extra></extra>",
         "legendgroup": "Daniel Amartey",
         "marker": {
          "color": "#FF97FF",
          "pattern": {
           "shape": ""
          }
         },
         "name": "Daniel Amartey",
         "offsetgroup": "Daniel Amartey",
         "orientation": "v",
         "showlegend": true,
         "type": "histogram",
         "x": [
          1.12
         ],
         "xaxis": "x",
         "yaxis": "y"
        },
        {
         "alignmentgroup": "True",
         "bingroup": "x",
         "hovertemplate": "Player=Jordan Amavi<br>Tkl=%{x}<br>count=%{y}<extra></extra>",
         "legendgroup": "Jordan Amavi",
         "marker": {
          "color": "#FECB52",
          "pattern": {
           "shape": ""
          }
         },
         "name": "Jordan Amavi",
         "offsetgroup": "Jordan Amavi",
         "orientation": "v",
         "showlegend": true,
         "type": "histogram",
         "x": [
          1.43
         ],
         "xaxis": "x",
         "yaxis": "y"
        }
       ],
       "layout": {
        "barmode": "relative",
        "legend": {
         "title": {
          "text": "Player"
         },
         "tracegroupgap": 0
        },
        "margin": {
         "t": 60
        },
        "template": {
         "data": {
          "bar": [
           {
            "error_x": {
             "color": "#2a3f5f"
            },
            "error_y": {
             "color": "#2a3f5f"
            },
            "marker": {
             "line": {
              "color": "#E5ECF6",
              "width": 0.5
             },
             "pattern": {
              "fillmode": "overlay",
              "size": 10,
              "solidity": 0.2
             }
            },
            "type": "bar"
           }
          ],
          "barpolar": [
           {
            "marker": {
             "line": {
              "color": "#E5ECF6",
              "width": 0.5
             },
             "pattern": {
              "fillmode": "overlay",
              "size": 10,
              "solidity": 0.2
             }
            },
            "type": "barpolar"
           }
          ],
          "carpet": [
           {
            "aaxis": {
             "endlinecolor": "#2a3f5f",
             "gridcolor": "white",
             "linecolor": "white",
             "minorgridcolor": "white",
             "startlinecolor": "#2a3f5f"
            },
            "baxis": {
             "endlinecolor": "#2a3f5f",
             "gridcolor": "white",
             "linecolor": "white",
             "minorgridcolor": "white",
             "startlinecolor": "#2a3f5f"
            },
            "type": "carpet"
           }
          ],
          "choropleth": [
           {
            "colorbar": {
             "outlinewidth": 0,
             "ticks": ""
            },
            "type": "choropleth"
           }
          ],
          "contour": [
           {
            "colorbar": {
             "outlinewidth": 0,
             "ticks": ""
            },
            "colorscale": [
             [
              0,
              "#0d0887"
             ],
             [
              0.1111111111111111,
              "#46039f"
             ],
             [
              0.2222222222222222,
              "#7201a8"
             ],
             [
              0.3333333333333333,
              "#9c179e"
             ],
             [
              0.4444444444444444,
              "#bd3786"
             ],
             [
              0.5555555555555556,
              "#d8576b"
             ],
             [
              0.6666666666666666,
              "#ed7953"
             ],
             [
              0.7777777777777778,
              "#fb9f3a"
             ],
             [
              0.8888888888888888,
              "#fdca26"
             ],
             [
              1,
              "#f0f921"
             ]
            ],
            "type": "contour"
           }
          ],
          "contourcarpet": [
           {
            "colorbar": {
             "outlinewidth": 0,
             "ticks": ""
            },
            "type": "contourcarpet"
           }
          ],
          "heatmap": [
           {
            "colorbar": {
             "outlinewidth": 0,
             "ticks": ""
            },
            "colorscale": [
             [
              0,
              "#0d0887"
             ],
             [
              0.1111111111111111,
              "#46039f"
             ],
             [
              0.2222222222222222,
              "#7201a8"
             ],
             [
              0.3333333333333333,
              "#9c179e"
             ],
             [
              0.4444444444444444,
              "#bd3786"
             ],
             [
              0.5555555555555556,
              "#d8576b"
             ],
             [
              0.6666666666666666,
              "#ed7953"
             ],
             [
              0.7777777777777778,
              "#fb9f3a"
             ],
             [
              0.8888888888888888,
              "#fdca26"
             ],
             [
              1,
              "#f0f921"
             ]
            ],
            "type": "heatmap"
           }
          ],
          "heatmapgl": [
           {
            "colorbar": {
             "outlinewidth": 0,
             "ticks": ""
            },
            "colorscale": [
             [
              0,
              "#0d0887"
             ],
             [
              0.1111111111111111,
              "#46039f"
             ],
             [
              0.2222222222222222,
              "#7201a8"
             ],
             [
              0.3333333333333333,
              "#9c179e"
             ],
             [
              0.4444444444444444,
              "#bd3786"
             ],
             [
              0.5555555555555556,
              "#d8576b"
             ],
             [
              0.6666666666666666,
              "#ed7953"
             ],
             [
              0.7777777777777778,
              "#fb9f3a"
             ],
             [
              0.8888888888888888,
              "#fdca26"
             ],
             [
              1,
              "#f0f921"
             ]
            ],
            "type": "heatmapgl"
           }
          ],
          "histogram": [
           {
            "marker": {
             "pattern": {
              "fillmode": "overlay",
              "size": 10,
              "solidity": 0.2
             }
            },
            "type": "histogram"
           }
          ],
          "histogram2d": [
           {
            "colorbar": {
             "outlinewidth": 0,
             "ticks": ""
            },
            "colorscale": [
             [
              0,
              "#0d0887"
             ],
             [
              0.1111111111111111,
              "#46039f"
             ],
             [
              0.2222222222222222,
              "#7201a8"
             ],
             [
              0.3333333333333333,
              "#9c179e"
             ],
             [
              0.4444444444444444,
              "#bd3786"
             ],
             [
              0.5555555555555556,
              "#d8576b"
             ],
             [
              0.6666666666666666,
              "#ed7953"
             ],
             [
              0.7777777777777778,
              "#fb9f3a"
             ],
             [
              0.8888888888888888,
              "#fdca26"
             ],
             [
              1,
              "#f0f921"
             ]
            ],
            "type": "histogram2d"
           }
          ],
          "histogram2dcontour": [
           {
            "colorbar": {
             "outlinewidth": 0,
             "ticks": ""
            },
            "colorscale": [
             [
              0,
              "#0d0887"
             ],
             [
              0.1111111111111111,
              "#46039f"
             ],
             [
              0.2222222222222222,
              "#7201a8"
             ],
             [
              0.3333333333333333,
              "#9c179e"
             ],
             [
              0.4444444444444444,
              "#bd3786"
             ],
             [
              0.5555555555555556,
              "#d8576b"
             ],
             [
              0.6666666666666666,
              "#ed7953"
             ],
             [
              0.7777777777777778,
              "#fb9f3a"
             ],
             [
              0.8888888888888888,
              "#fdca26"
             ],
             [
              1,
              "#f0f921"
             ]
            ],
            "type": "histogram2dcontour"
           }
          ],
          "mesh3d": [
           {
            "colorbar": {
             "outlinewidth": 0,
             "ticks": ""
            },
            "type": "mesh3d"
           }
          ],
          "parcoords": [
           {
            "line": {
             "colorbar": {
              "outlinewidth": 0,
              "ticks": ""
             }
            },
            "type": "parcoords"
           }
          ],
          "pie": [
           {
            "automargin": true,
            "type": "pie"
           }
          ],
          "scatter": [
           {
            "fillpattern": {
             "fillmode": "overlay",
             "size": 10,
             "solidity": 0.2
            },
            "type": "scatter"
           }
          ],
          "scatter3d": [
           {
            "line": {
             "colorbar": {
              "outlinewidth": 0,
              "ticks": ""
             }
            },
            "marker": {
             "colorbar": {
              "outlinewidth": 0,
              "ticks": ""
             }
            },
            "type": "scatter3d"
           }
          ],
          "scattercarpet": [
           {
            "marker": {
             "colorbar": {
              "outlinewidth": 0,
              "ticks": ""
             }
            },
            "type": "scattercarpet"
           }
          ],
          "scattergeo": [
           {
            "marker": {
             "colorbar": {
              "outlinewidth": 0,
              "ticks": ""
             }
            },
            "type": "scattergeo"
           }
          ],
          "scattergl": [
           {
            "marker": {
             "colorbar": {
              "outlinewidth": 0,
              "ticks": ""
             }
            },
            "type": "scattergl"
           }
          ],
          "scattermapbox": [
           {
            "marker": {
             "colorbar": {
              "outlinewidth": 0,
              "ticks": ""
             }
            },
            "type": "scattermapbox"
           }
          ],
          "scatterpolar": [
           {
            "marker": {
             "colorbar": {
              "outlinewidth": 0,
              "ticks": ""
             }
            },
            "type": "scatterpolar"
           }
          ],
          "scatterpolargl": [
           {
            "marker": {
             "colorbar": {
              "outlinewidth": 0,
              "ticks": ""
             }
            },
            "type": "scatterpolargl"
           }
          ],
          "scatterternary": [
           {
            "marker": {
             "colorbar": {
              "outlinewidth": 0,
              "ticks": ""
             }
            },
            "type": "scatterternary"
           }
          ],
          "surface": [
           {
            "colorbar": {
             "outlinewidth": 0,
             "ticks": ""
            },
            "colorscale": [
             [
              0,
              "#0d0887"
             ],
             [
              0.1111111111111111,
              "#46039f"
             ],
             [
              0.2222222222222222,
              "#7201a8"
             ],
             [
              0.3333333333333333,
              "#9c179e"
             ],
             [
              0.4444444444444444,
              "#bd3786"
             ],
             [
              0.5555555555555556,
              "#d8576b"
             ],
             [
              0.6666666666666666,
              "#ed7953"
             ],
             [
              0.7777777777777778,
              "#fb9f3a"
             ],
             [
              0.8888888888888888,
              "#fdca26"
             ],
             [
              1,
              "#f0f921"
             ]
            ],
            "type": "surface"
           }
          ],
          "table": [
           {
            "cells": {
             "fill": {
              "color": "#EBF0F8"
             },
             "line": {
              "color": "white"
             }
            },
            "header": {
             "fill": {
              "color": "#C8D4E3"
             },
             "line": {
              "color": "white"
             }
            },
            "type": "table"
           }
          ]
         },
         "layout": {
          "annotationdefaults": {
           "arrowcolor": "#2a3f5f",
           "arrowhead": 0,
           "arrowwidth": 1
          },
          "autotypenumbers": "strict",
          "coloraxis": {
           "colorbar": {
            "outlinewidth": 0,
            "ticks": ""
           }
          },
          "colorscale": {
           "diverging": [
            [
             0,
             "#8e0152"
            ],
            [
             0.1,
             "#c51b7d"
            ],
            [
             0.2,
             "#de77ae"
            ],
            [
             0.3,
             "#f1b6da"
            ],
            [
             0.4,
             "#fde0ef"
            ],
            [
             0.5,
             "#f7f7f7"
            ],
            [
             0.6,
             "#e6f5d0"
            ],
            [
             0.7,
             "#b8e186"
            ],
            [
             0.8,
             "#7fbc41"
            ],
            [
             0.9,
             "#4d9221"
            ],
            [
             1,
             "#276419"
            ]
           ],
           "sequential": [
            [
             0,
             "#0d0887"
            ],
            [
             0.1111111111111111,
             "#46039f"
            ],
            [
             0.2222222222222222,
             "#7201a8"
            ],
            [
             0.3333333333333333,
             "#9c179e"
            ],
            [
             0.4444444444444444,
             "#bd3786"
            ],
            [
             0.5555555555555556,
             "#d8576b"
            ],
            [
             0.6666666666666666,
             "#ed7953"
            ],
            [
             0.7777777777777778,
             "#fb9f3a"
            ],
            [
             0.8888888888888888,
             "#fdca26"
            ],
            [
             1,
             "#f0f921"
            ]
           ],
           "sequentialminus": [
            [
             0,
             "#0d0887"
            ],
            [
             0.1111111111111111,
             "#46039f"
            ],
            [
             0.2222222222222222,
             "#7201a8"
            ],
            [
             0.3333333333333333,
             "#9c179e"
            ],
            [
             0.4444444444444444,
             "#bd3786"
            ],
            [
             0.5555555555555556,
             "#d8576b"
            ],
            [
             0.6666666666666666,
             "#ed7953"
            ],
            [
             0.7777777777777778,
             "#fb9f3a"
            ],
            [
             0.8888888888888888,
             "#fdca26"
            ],
            [
             1,
             "#f0f921"
            ]
           ]
          },
          "colorway": [
           "#636efa",
           "#EF553B",
           "#00cc96",
           "#ab63fa",
           "#FFA15A",
           "#19d3f3",
           "#FF6692",
           "#B6E880",
           "#FF97FF",
           "#FECB52"
          ],
          "font": {
           "color": "#2a3f5f"
          },
          "geo": {
           "bgcolor": "white",
           "lakecolor": "white",
           "landcolor": "#E5ECF6",
           "showlakes": true,
           "showland": true,
           "subunitcolor": "white"
          },
          "hoverlabel": {
           "align": "left"
          },
          "hovermode": "closest",
          "mapbox": {
           "style": "light"
          },
          "paper_bgcolor": "white",
          "plot_bgcolor": "#E5ECF6",
          "polar": {
           "angularaxis": {
            "gridcolor": "white",
            "linecolor": "white",
            "ticks": ""
           },
           "bgcolor": "#E5ECF6",
           "radialaxis": {
            "gridcolor": "white",
            "linecolor": "white",
            "ticks": ""
           }
          },
          "scene": {
           "xaxis": {
            "backgroundcolor": "#E5ECF6",
            "gridcolor": "white",
            "gridwidth": 2,
            "linecolor": "white",
            "showbackground": true,
            "ticks": "",
            "zerolinecolor": "white"
           },
           "yaxis": {
            "backgroundcolor": "#E5ECF6",
            "gridcolor": "white",
            "gridwidth": 2,
            "linecolor": "white",
            "showbackground": true,
            "ticks": "",
            "zerolinecolor": "white"
           },
           "zaxis": {
            "backgroundcolor": "#E5ECF6",
            "gridcolor": "white",
            "gridwidth": 2,
            "linecolor": "white",
            "showbackground": true,
            "ticks": "",
            "zerolinecolor": "white"
           }
          },
          "shapedefaults": {
           "line": {
            "color": "#2a3f5f"
           }
          },
          "ternary": {
           "aaxis": {
            "gridcolor": "white",
            "linecolor": "white",
            "ticks": ""
           },
           "baxis": {
            "gridcolor": "white",
            "linecolor": "white",
            "ticks": ""
           },
           "bgcolor": "#E5ECF6",
           "caxis": {
            "gridcolor": "white",
            "linecolor": "white",
            "ticks": ""
           }
          },
          "title": {
           "x": 0.05
          },
          "xaxis": {
           "automargin": true,
           "gridcolor": "white",
           "linecolor": "white",
           "ticks": "",
           "title": {
            "standoff": 15
           },
           "zerolinecolor": "white",
           "zerolinewidth": 2
          },
          "yaxis": {
           "automargin": true,
           "gridcolor": "white",
           "linecolor": "white",
           "ticks": "",
           "title": {
            "standoff": 15
           },
           "zerolinecolor": "white",
           "zerolinewidth": 2
          }
         }
        },
        "xaxis": {
         "anchor": "y",
         "domain": [
          0,
          1
         ],
         "title": {
          "text": "Tkl"
         }
        },
        "yaxis": {
         "anchor": "x",
         "domain": [
          0,
          1
         ],
         "title": {
          "text": "count"
         }
        }
       }
      }
     },
     "metadata": {},
     "output_type": "display_data"
    }
   ],
   "source": [
    "Defensores['GPJ'] = Defensores['Goals'] / Defensores['MP']\n",
    "px.histogram(Defensores.head(30), x = \"Tkl\", color = 'Player').show()"
   ]
  },
  {
   "cell_type": "code",
   "execution_count": 37,
   "metadata": {},
   "outputs": [],
   "source": [
    "positivos = Defensores['Goals'] * 5 + Defensores['Assists'] * 2 + Defensores['MP'] * 2 + Defensores['Starts'] * 2 + Defensores['Recov'] * 4 + Defensores['Blocks'] * 4 + Defensores['BlkPass'] * 2 + Defensores['GcaDef'] * 4 + Defensores['Tkl+Int'] * 3 + Defensores['TI'] * 2\n",
    "\n",
    "negativos = Defensores['PasOff'] + Defensores['Off'] + Defensores['CrdY'] * 2 + Defensores['CrdR'] * 3 + Defensores['Fls'] * 2  + Defensores['Err'] * 3"
   ]
  },
  {
   "cell_type": "code",
   "execution_count": 38,
   "metadata": {},
   "outputs": [
    {
     "data": {
      "text/html": [
       "<div>\n",
       "<style scoped>\n",
       "    .dataframe tbody tr th:only-of-type {\n",
       "        vertical-align: middle;\n",
       "    }\n",
       "\n",
       "    .dataframe tbody tr th {\n",
       "        vertical-align: top;\n",
       "    }\n",
       "\n",
       "    .dataframe thead th {\n",
       "        text-align: right;\n",
       "    }\n",
       "</style>\n",
       "<table border=\"1\" class=\"dataframe\">\n",
       "  <thead>\n",
       "    <tr style=\"text-align: right;\">\n",
       "      <th></th>\n",
       "      <th>Player</th>\n",
       "      <th>Pos</th>\n",
       "      <th>score</th>\n",
       "    </tr>\n",
       "  </thead>\n",
       "  <tbody>\n",
       "    <tr>\n",
       "      <th>88</th>\n",
       "      <td>Giulian Biancone</td>\n",
       "      <td>DF</td>\n",
       "      <td>169.00</td>\n",
       "    </tr>\n",
       "    <tr>\n",
       "      <th>188</th>\n",
       "      <td>Tanguy Coulibaly</td>\n",
       "      <td>DFFW</td>\n",
       "      <td>161.50</td>\n",
       "    </tr>\n",
       "    <tr>\n",
       "      <th>58</th>\n",
       "      <td>Ridle Baku</td>\n",
       "      <td>DF</td>\n",
       "      <td>157.65</td>\n",
       "    </tr>\n",
       "    <tr>\n",
       "      <th>755</th>\n",
       "      <td>Pascal Struijk</td>\n",
       "      <td>DF</td>\n",
       "      <td>153.07</td>\n",
       "    </tr>\n",
       "    <tr>\n",
       "      <th>80</th>\n",
       "      <td>Ramy Bensebaini</td>\n",
       "      <td>DF</td>\n",
       "      <td>152.75</td>\n",
       "    </tr>\n",
       "    <tr>\n",
       "      <th>617</th>\n",
       "      <td>Fabiano Parisi</td>\n",
       "      <td>DF</td>\n",
       "      <td>151.34</td>\n",
       "    </tr>\n",
       "    <tr>\n",
       "      <th>792</th>\n",
       "      <td>Kieran Trippier</td>\n",
       "      <td>DF</td>\n",
       "      <td>151.08</td>\n",
       "    </tr>\n",
       "    <tr>\n",
       "      <th>835</th>\n",
       "      <td>Mitchell Weiser</td>\n",
       "      <td>DFFW</td>\n",
       "      <td>150.10</td>\n",
       "    </tr>\n",
       "    <tr>\n",
       "      <th>322</th>\n",
       "      <td>Valentin Gendrey</td>\n",
       "      <td>DF</td>\n",
       "      <td>148.81</td>\n",
       "    </tr>\n",
       "    <tr>\n",
       "      <th>99</th>\n",
       "      <td>Neto Borges</td>\n",
       "      <td>DF</td>\n",
       "      <td>145.44</td>\n",
       "    </tr>\n",
       "  </tbody>\n",
       "</table>\n",
       "</div>"
      ],
      "text/plain": [
       "               Player   Pos   score\n",
       "88   Giulian Biancone    DF  169.00\n",
       "188  Tanguy Coulibaly  DFFW  161.50\n",
       "58         Ridle Baku    DF  157.65\n",
       "755    Pascal Struijk    DF  153.07\n",
       "80    Ramy Bensebaini    DF  152.75\n",
       "617    Fabiano Parisi    DF  151.34\n",
       "792   Kieran Trippier    DF  151.08\n",
       "835   Mitchell Weiser  DFFW  150.10\n",
       "322  Valentin Gendrey    DF  148.81\n",
       "99        Neto Borges    DF  145.44"
      ]
     },
     "execution_count": 38,
     "metadata": {},
     "output_type": "execute_result"
    }
   ],
   "source": [
    "Defensores['score'] = positivos - negativos\n",
    "Defensores.sort_values(['score'], ascending = False, inplace = True)\n",
    "Defensores[['Player', 'Pos','score']].head(10)"
   ]
  },
  {
   "cell_type": "code",
   "execution_count": 39,
   "metadata": {},
   "outputs": [
    {
     "data": {
      "application/vnd.plotly.v1+json": {
       "config": {
        "plotlyServerURL": "https://plot.ly"
       },
       "data": [
        {
         "alignmentgroup": "True",
         "bingroup": "x",
         "hovertemplate": "score=%{x}<br>count=%{y}<extra></extra>",
         "legendgroup": "",
         "marker": {
          "color": "#636efa",
          "pattern": {
           "shape": ""
          }
         },
         "name": "",
         "offsetgroup": "",
         "orientation": "v",
         "showlegend": false,
         "type": "histogram",
         "x": [
          169,
          161.5,
          157.65,
          153.07,
          152.75,
          151.34,
          151.07999999999998,
          150.1,
          148.81000000000003,
          145.44,
          144.42,
          143.46,
          142.98,
          142.85999999999999,
          142.48000000000002,
          142.46,
          142.33,
          142,
          140.9,
          140.67,
          140.47,
          140.1,
          139.65999999999997,
          139.53,
          139.03,
          138.04,
          137.99,
          137.85,
          137.42,
          137.02,
          136.91000000000003,
          136.79000000000002,
          136.64999999999998,
          136.64,
          136.10000000000002,
          136.04999999999998,
          135.72999999999996,
          135.62,
          135.46,
          134.93,
          134.88,
          134.85999999999999,
          134.85,
          134.47,
          134.32,
          134.10999999999999,
          133.86000000000004,
          133.82000000000002,
          133.65,
          132.5,
          132.48000000000002,
          132.4,
          132.34,
          132.25,
          132.12,
          132.01,
          131.73999999999998,
          131.72,
          131.63,
          131.21999999999997,
          130.92000000000002,
          130.88,
          130.84999999999997,
          130.8,
          130.67,
          130.41,
          130.31999999999996,
          130.22,
          130.06999999999996,
          129.89,
          129.20999999999998,
          128.89,
          128.84000000000003,
          128.81999999999996,
          128.57000000000002,
          128.38,
          128.27,
          128.02,
          127.99999999999997,
          127.85000000000002,
          127.83000000000001,
          127.71000000000001,
          127.57,
          127.54,
          127.28999999999999,
          127.28,
          127.18000000000002,
          127.16000000000001,
          127.14,
          127.10999999999999,
          126.89999999999999,
          126.74,
          126.66,
          126.54999999999998,
          126.51999999999998,
          126.37000000000002,
          126.33,
          126.27000000000001,
          126.19000000000003,
          126.09,
          126.02999999999999,
          125.78999999999998,
          125.67000000000002,
          125.65999999999997,
          125.63,
          125.28999999999999,
          125.27,
          125.00999999999998,
          124.97,
          124.95,
          124.77999999999999,
          124.77,
          124.76999999999998,
          124.52999999999999,
          124.32,
          124.27000000000001,
          124.17,
          124.15,
          123.75999999999999,
          123.63,
          123.46999999999998,
          123.34,
          123.34,
          123.28000000000002,
          123.2,
          123.16,
          123.10000000000001,
          123.04,
          122.71999999999998,
          122.54999999999998,
          122.46000000000002,
          122.38999999999999,
          122.29999999999998,
          122.28000000000002,
          122.2,
          122.16,
          122.11000000000001,
          122,
          121.67999999999998,
          121.44,
          121.22999999999999,
          120.85,
          120.67000000000002,
          120.56,
          120.53999999999999,
          120.50999999999999,
          120.49999999999999,
          120.45000000000002,
          120.31,
          120.21,
          120,
          119.83999999999997,
          119.77000000000002,
          119.75,
          119.67,
          119.52,
          119.48,
          119.32000000000001,
          119.24000000000001,
          119.16,
          119.03,
          118.56,
          118.52,
          118.46000000000001,
          118.4,
          118.36,
          118.22,
          117.97,
          117.9,
          117.85,
          117.78999999999999,
          117.71,
          117.66000000000003,
          117.62,
          117.44000000000001,
          117.43,
          117.4,
          117.27000000000001,
          117.09,
          117.05999999999999,
          117.05000000000001,
          117.01,
          116.95,
          116.89,
          116.63000000000001,
          116.32000000000001,
          116.27,
          116.16,
          116.16,
          116.07000000000002,
          116.03,
          115.87999999999998,
          115.67999999999999,
          115.65999999999998,
          115.41999999999997,
          115.37,
          115.29,
          115.13,
          115.03999999999999,
          115.02000000000001,
          114.83000000000001,
          114.78999999999999,
          114.78999999999999,
          114.75,
          114.73999999999998,
          114.47999999999999,
          114.46000000000001,
          114.42,
          114.39,
          114.25,
          114.11999999999999,
          114.11,
          114.08999999999999,
          114.06,
          113.56,
          113.49999999999999,
          113.25999999999999,
          113.09,
          113.02999999999997,
          112.78999999999998,
          112.38,
          112.35999999999999,
          112.31,
          112.3,
          112.25,
          112.14999999999999,
          111.91000000000001,
          111.88000000000002,
          111.78,
          111.74000000000001,
          111.47999999999999,
          111.35000000000001,
          111.35,
          111.29999999999998,
          111.07,
          110.79,
          110.64,
          110.61999999999999,
          110.49999999999999,
          110.49000000000001,
          110.43000000000002,
          110.43,
          110.37,
          110.36999999999999,
          110.25000000000001,
          110.19000000000001,
          110.17999999999999,
          109.94,
          109.91000000000001,
          109.89,
          109.78999999999999,
          109.78,
          109.76,
          109.46999999999998,
          109.29,
          109.21000000000001,
          108.84,
          108.83999999999999,
          108.43000000000002,
          108.35000000000002,
          108.22000000000001,
          108.11999999999999,
          108.10000000000001,
          108.06,
          107.88000000000001,
          107.67,
          107.66,
          107.61999999999999,
          107.21,
          107.03,
          107.02000000000001,
          106.94,
          106.93999999999998,
          106.79,
          106.79,
          106.74000000000001,
          106.63000000000001,
          106.55999999999999,
          106.49999999999999,
          106.42000000000002,
          106.22999999999999,
          106.14999999999999,
          106.11,
          106.06,
          106,
          106,
          105.69000000000001,
          105.52000000000001,
          105.42999999999999,
          105.36,
          105.33,
          105.16,
          104.73000000000002,
          104.62,
          104.52,
          104.39,
          104.27999999999999,
          104.07999999999998,
          104.04000000000002,
          103.93,
          103.83999999999999,
          103.6,
          103.23999999999998,
          103.15,
          103.07000000000001,
          102.85000000000001,
          102.78000000000002,
          102.68000000000002,
          102.55,
          102.50000000000001,
          102.48,
          102.32000000000001,
          102.31,
          102.24000000000001,
          102.16999999999999,
          102.07,
          101.97999999999999,
          101.95,
          101.92000000000002,
          101.89000000000003,
          101.74999999999999,
          101.67000000000002,
          101.6,
          101.58999999999999,
          101.53999999999999,
          101.44,
          101.43999999999998,
          101.41999999999999,
          101.41000000000003,
          101.39,
          101.29,
          101.11999999999999,
          101.07000000000001,
          101,
          100.96999999999998,
          100.93999999999998,
          100.75,
          100.73,
          100.62,
          100.55,
          100.53999999999999,
          100.28,
          100.27,
          100.17,
          100.16,
          100.02000000000001,
          100,
          99.94000000000001,
          99.88000000000001,
          99.75000000000001,
          99.75000000000001,
          99.65,
          99.60999999999999,
          99.55,
          99.53999999999998,
          99.42,
          99.30999999999999,
          99.29,
          99.15999999999998,
          99.12000000000002,
          98.91999999999999,
          98.82000000000001,
          98.69000000000003,
          98.39,
          98.31000000000002,
          98.17999999999999,
          98.14999999999999,
          97.98,
          97.75999999999999,
          97.55,
          97.27999999999999,
          96.69999999999999,
          96.47,
          96.43,
          96.43,
          96.35000000000001,
          96.08999999999999,
          96,
          95.91,
          95.91,
          95.68,
          95.63,
          95.39000000000001,
          95.29,
          95.26,
          95.23,
          95.22999999999999,
          95.22,
          95.20999999999998,
          95.01000000000002,
          94.96000000000001,
          94.93999999999998,
          94.89999999999999,
          94.81,
          94.75,
          94.75,
          94.70000000000002,
          94.63,
          94.44000000000003,
          94.41999999999999,
          94.37999999999998,
          94.25,
          94.10000000000002,
          94,
          94,
          93.87,
          93.83000000000001,
          93.75999999999999,
          93.56,
          93.56,
          93.52,
          93.19999999999999,
          93.19000000000001,
          93.18,
          93.15999999999998,
          93.03,
          92.96,
          92.93,
          92.92999999999999,
          92.81,
          92.66000000000003,
          92.6,
          92.45000000000002,
          92.32000000000001,
          92.32,
          92.05,
          92,
          91.79,
          91.75,
          91.59999999999998,
          91.56,
          91.47,
          91.31000000000002,
          91.30999999999999,
          91.22,
          91.11,
          90.89999999999999,
          90.89000000000001,
          90.86,
          90.71000000000001,
          90.20000000000002,
          89.8,
          89.65999999999997,
          89.33999999999999,
          89.30999999999999,
          89.23,
          89.22999999999999,
          89.1,
          89.01,
          88.89,
          88.69,
          88.16,
          88.13999999999999,
          88.13,
          88.05000000000001,
          88.01,
          87.93,
          87.93,
          87.59,
          87.56,
          87.36000000000001,
          87.34000000000002,
          86.96000000000001,
          86.78999999999999,
          86.51,
          86.40999999999998,
          86.4,
          86.24000000000001,
          86,
          86,
          85.98000000000002,
          85.96,
          85.91,
          85.9,
          85.81,
          85.81,
          85.8,
          85.69999999999999,
          85.64999999999999,
          85.52000000000001,
          85.47999999999999,
          85.31,
          85.17,
          85.1,
          84.74,
          84.55000000000001,
          84.42000000000002,
          84.37,
          84.26999999999998,
          84.26,
          84.25,
          84.24,
          84.12,
          84,
          83.99,
          83.97999999999999,
          83.86000000000001,
          83.7,
          83.5,
          82.96999999999998,
          82.72,
          82.67,
          82.64999999999999,
          82.60000000000001,
          82.53999999999999,
          82.42,
          82.32000000000001,
          82.29,
          82.14000000000001,
          82,
          82,
          81.84,
          81.3,
          81.28,
          81.25,
          81.14000000000001,
          81.03999999999999,
          81,
          80.99,
          80.96999999999998,
          80.95,
          80.85000000000001,
          80.82,
          80.64000000000001,
          80.58999999999999,
          80.58,
          80.39999999999999,
          80.39,
          80.25,
          80.16,
          79.65,
          79.60000000000001,
          79.35,
          79,
          79,
          78.88999999999999,
          78.31000000000002,
          78.3,
          78.28,
          78.22,
          78.20000000000002,
          78.14,
          78.11,
          77.75,
          77.60999999999999,
          77.35,
          77.31,
          77.15,
          77.02000000000001,
          76.97,
          76.89999999999999,
          76.74000000000001,
          76.40999999999998,
          76.23,
          76.21000000000001,
          76,
          75.97,
          75.85000000000001,
          75.83,
          75.72,
          75.30999999999999,
          75.25999999999999,
          75.14,
          74.87,
          74.60000000000001,
          74.59,
          74.57,
          73.84,
          73.61,
          73.58999999999999,
          73.33999999999999,
          73.33,
          73,
          72.86,
          72.78,
          72.47,
          72.29,
          72.12,
          72.10000000000001,
          72.00999999999999,
          72,
          72,
          71.93,
          71.88,
          71.77,
          71.74,
          71.7,
          71.55,
          71.46,
          71.29999999999998,
          70.9,
          70.87999999999998,
          70.86000000000001,
          70.77,
          70.72999999999999,
          70.63999999999999,
          70.60000000000001,
          70.57999999999998,
          70.44,
          70.29,
          70.28,
          70.06,
          70.04,
          70.04,
          70.03000000000002,
          69.7,
          69.49999999999999,
          69.46000000000002,
          69.42999999999999,
          69.21000000000001,
          68.76,
          68.46000000000001,
          68.35,
          68.28999999999999,
          68.2,
          68.03,
          68.01,
          68,
          67.97999999999999,
          67.63,
          67.57999999999998,
          67.5,
          67.5,
          67.47,
          67.39,
          67.26,
          67,
          66.99,
          66.67999999999999,
          66.56,
          66.49,
          66.11999999999999,
          66,
          65.78,
          65.67,
          65.57,
          65.53,
          65.5,
          65.33,
          65.25000000000001,
          65.21,
          65,
          64.94999999999999,
          64.89,
          64.81,
          64.68,
          64.67,
          64.54999999999998,
          64.52,
          64.5,
          64.48,
          64.2,
          64,
          64,
          63.92999999999999,
          63.80999999999999,
          63.78000000000001,
          63.78,
          63.77,
          63.28,
          63.15,
          62.99000000000001,
          62.75,
          62.64000000000001,
          62.449999999999996,
          62.35000000000001,
          62.31000000000001,
          62.17999999999999,
          62.07999999999999,
          62,
          62,
          62,
          61.76,
          61.74000000000001,
          61.5,
          61.5,
          61.2,
          61.2,
          60.9,
          60.75,
          60.67,
          60.65,
          60.58,
          60.53,
          60.48000000000001,
          60.449999999999996,
          59.99000000000001,
          59.88,
          59.83,
          59.36000000000001,
          59.35,
          58.8,
          58.760000000000005,
          58.29,
          58.28,
          58.16,
          58,
          58,
          57.72,
          57.120000000000005,
          57,
          57,
          57,
          56.89,
          56.53,
          56.32,
          56.309999999999995,
          56.080000000000005,
          56,
          56,
          55.85,
          55.75,
          55.56,
          55.45,
          55.33,
          55.32,
          55.30000000000001,
          55.2,
          55,
          55,
          54.81,
          54.440000000000005,
          54.31,
          54.150000000000006,
          54,
          54,
          53.449999999999996,
          52.949999999999996,
          52.830000000000005,
          52.63,
          52.5,
          52.199999999999996,
          52.02,
          52,
          52,
          52,
          51.870000000000005,
          51.75000000000001,
          51.71000000000001,
          51.629999999999995,
          51.35000000000001,
          51.28000000000001,
          51.16,
          50.74,
          50.64,
          50,
          49.980000000000004,
          49.96,
          49.96,
          49.809999999999995,
          49.78,
          49.75,
          49.68,
          49.60000000000001,
          49.53999999999999,
          49.519999999999996,
          49.31,
          49.17,
          49.010000000000005,
          49,
          48.95,
          48.93000000000001,
          48.790000000000006,
          48.74999999999999,
          48.72,
          48.339999999999996,
          47.6,
          47.44,
          47.43,
          47.35,
          47.31,
          47,
          46.5,
          46.07000000000001,
          46,
          46,
          45.989999999999995,
          45.98,
          45.67,
          45.5,
          45.13999999999999,
          45,
          45,
          44.650000000000006,
          44.50000000000001,
          43.61,
          43.14,
          42.5,
          42.5,
          42.400000000000006,
          42,
          42,
          42,
          41.400000000000006,
          41,
          40.8,
          40.33,
          39.349999999999994,
          39.25000000000001,
          38.59,
          37.75,
          37.43000000000001,
          37.410000000000004,
          37.239999999999995,
          37,
          37,
          36.5,
          36.01,
          35.34,
          34.84,
          34.5,
          34.449999999999996,
          34.38999999999999,
          34,
          34,
          33.35,
          33.019999999999996,
          33,
          32,
          32,
          31.990000000000002,
          31.529999999999998,
          31.29,
          30.57,
          30,
          29.659999999999997,
          29.1,
          28.68,
          28.21999999999999,
          28,
          27.840000000000003,
          27.43,
          27.36,
          27.32,
          26.439999999999998,
          25.790000000000003,
          25,
          24.02,
          24,
          24,
          23.98,
          22,
          22,
          21.98,
          21,
          20,
          12.489999999999998,
          8.44,
          6,
          5,
          5,
          4,
          2,
          2,
          2,
          2,
          2,
          2,
          2,
          2,
          2,
          -4.66,
          -51
         ],
         "xaxis": "x",
         "yaxis": "y"
        }
       ],
       "layout": {
        "barmode": "relative",
        "legend": {
         "tracegroupgap": 0
        },
        "margin": {
         "t": 60
        },
        "template": {
         "data": {
          "bar": [
           {
            "error_x": {
             "color": "#2a3f5f"
            },
            "error_y": {
             "color": "#2a3f5f"
            },
            "marker": {
             "line": {
              "color": "#E5ECF6",
              "width": 0.5
             },
             "pattern": {
              "fillmode": "overlay",
              "size": 10,
              "solidity": 0.2
             }
            },
            "type": "bar"
           }
          ],
          "barpolar": [
           {
            "marker": {
             "line": {
              "color": "#E5ECF6",
              "width": 0.5
             },
             "pattern": {
              "fillmode": "overlay",
              "size": 10,
              "solidity": 0.2
             }
            },
            "type": "barpolar"
           }
          ],
          "carpet": [
           {
            "aaxis": {
             "endlinecolor": "#2a3f5f",
             "gridcolor": "white",
             "linecolor": "white",
             "minorgridcolor": "white",
             "startlinecolor": "#2a3f5f"
            },
            "baxis": {
             "endlinecolor": "#2a3f5f",
             "gridcolor": "white",
             "linecolor": "white",
             "minorgridcolor": "white",
             "startlinecolor": "#2a3f5f"
            },
            "type": "carpet"
           }
          ],
          "choropleth": [
           {
            "colorbar": {
             "outlinewidth": 0,
             "ticks": ""
            },
            "type": "choropleth"
           }
          ],
          "contour": [
           {
            "colorbar": {
             "outlinewidth": 0,
             "ticks": ""
            },
            "colorscale": [
             [
              0,
              "#0d0887"
             ],
             [
              0.1111111111111111,
              "#46039f"
             ],
             [
              0.2222222222222222,
              "#7201a8"
             ],
             [
              0.3333333333333333,
              "#9c179e"
             ],
             [
              0.4444444444444444,
              "#bd3786"
             ],
             [
              0.5555555555555556,
              "#d8576b"
             ],
             [
              0.6666666666666666,
              "#ed7953"
             ],
             [
              0.7777777777777778,
              "#fb9f3a"
             ],
             [
              0.8888888888888888,
              "#fdca26"
             ],
             [
              1,
              "#f0f921"
             ]
            ],
            "type": "contour"
           }
          ],
          "contourcarpet": [
           {
            "colorbar": {
             "outlinewidth": 0,
             "ticks": ""
            },
            "type": "contourcarpet"
           }
          ],
          "heatmap": [
           {
            "colorbar": {
             "outlinewidth": 0,
             "ticks": ""
            },
            "colorscale": [
             [
              0,
              "#0d0887"
             ],
             [
              0.1111111111111111,
              "#46039f"
             ],
             [
              0.2222222222222222,
              "#7201a8"
             ],
             [
              0.3333333333333333,
              "#9c179e"
             ],
             [
              0.4444444444444444,
              "#bd3786"
             ],
             [
              0.5555555555555556,
              "#d8576b"
             ],
             [
              0.6666666666666666,
              "#ed7953"
             ],
             [
              0.7777777777777778,
              "#fb9f3a"
             ],
             [
              0.8888888888888888,
              "#fdca26"
             ],
             [
              1,
              "#f0f921"
             ]
            ],
            "type": "heatmap"
           }
          ],
          "heatmapgl": [
           {
            "colorbar": {
             "outlinewidth": 0,
             "ticks": ""
            },
            "colorscale": [
             [
              0,
              "#0d0887"
             ],
             [
              0.1111111111111111,
              "#46039f"
             ],
             [
              0.2222222222222222,
              "#7201a8"
             ],
             [
              0.3333333333333333,
              "#9c179e"
             ],
             [
              0.4444444444444444,
              "#bd3786"
             ],
             [
              0.5555555555555556,
              "#d8576b"
             ],
             [
              0.6666666666666666,
              "#ed7953"
             ],
             [
              0.7777777777777778,
              "#fb9f3a"
             ],
             [
              0.8888888888888888,
              "#fdca26"
             ],
             [
              1,
              "#f0f921"
             ]
            ],
            "type": "heatmapgl"
           }
          ],
          "histogram": [
           {
            "marker": {
             "pattern": {
              "fillmode": "overlay",
              "size": 10,
              "solidity": 0.2
             }
            },
            "type": "histogram"
           }
          ],
          "histogram2d": [
           {
            "colorbar": {
             "outlinewidth": 0,
             "ticks": ""
            },
            "colorscale": [
             [
              0,
              "#0d0887"
             ],
             [
              0.1111111111111111,
              "#46039f"
             ],
             [
              0.2222222222222222,
              "#7201a8"
             ],
             [
              0.3333333333333333,
              "#9c179e"
             ],
             [
              0.4444444444444444,
              "#bd3786"
             ],
             [
              0.5555555555555556,
              "#d8576b"
             ],
             [
              0.6666666666666666,
              "#ed7953"
             ],
             [
              0.7777777777777778,
              "#fb9f3a"
             ],
             [
              0.8888888888888888,
              "#fdca26"
             ],
             [
              1,
              "#f0f921"
             ]
            ],
            "type": "histogram2d"
           }
          ],
          "histogram2dcontour": [
           {
            "colorbar": {
             "outlinewidth": 0,
             "ticks": ""
            },
            "colorscale": [
             [
              0,
              "#0d0887"
             ],
             [
              0.1111111111111111,
              "#46039f"
             ],
             [
              0.2222222222222222,
              "#7201a8"
             ],
             [
              0.3333333333333333,
              "#9c179e"
             ],
             [
              0.4444444444444444,
              "#bd3786"
             ],
             [
              0.5555555555555556,
              "#d8576b"
             ],
             [
              0.6666666666666666,
              "#ed7953"
             ],
             [
              0.7777777777777778,
              "#fb9f3a"
             ],
             [
              0.8888888888888888,
              "#fdca26"
             ],
             [
              1,
              "#f0f921"
             ]
            ],
            "type": "histogram2dcontour"
           }
          ],
          "mesh3d": [
           {
            "colorbar": {
             "outlinewidth": 0,
             "ticks": ""
            },
            "type": "mesh3d"
           }
          ],
          "parcoords": [
           {
            "line": {
             "colorbar": {
              "outlinewidth": 0,
              "ticks": ""
             }
            },
            "type": "parcoords"
           }
          ],
          "pie": [
           {
            "automargin": true,
            "type": "pie"
           }
          ],
          "scatter": [
           {
            "fillpattern": {
             "fillmode": "overlay",
             "size": 10,
             "solidity": 0.2
            },
            "type": "scatter"
           }
          ],
          "scatter3d": [
           {
            "line": {
             "colorbar": {
              "outlinewidth": 0,
              "ticks": ""
             }
            },
            "marker": {
             "colorbar": {
              "outlinewidth": 0,
              "ticks": ""
             }
            },
            "type": "scatter3d"
           }
          ],
          "scattercarpet": [
           {
            "marker": {
             "colorbar": {
              "outlinewidth": 0,
              "ticks": ""
             }
            },
            "type": "scattercarpet"
           }
          ],
          "scattergeo": [
           {
            "marker": {
             "colorbar": {
              "outlinewidth": 0,
              "ticks": ""
             }
            },
            "type": "scattergeo"
           }
          ],
          "scattergl": [
           {
            "marker": {
             "colorbar": {
              "outlinewidth": 0,
              "ticks": ""
             }
            },
            "type": "scattergl"
           }
          ],
          "scattermapbox": [
           {
            "marker": {
             "colorbar": {
              "outlinewidth": 0,
              "ticks": ""
             }
            },
            "type": "scattermapbox"
           }
          ],
          "scatterpolar": [
           {
            "marker": {
             "colorbar": {
              "outlinewidth": 0,
              "ticks": ""
             }
            },
            "type": "scatterpolar"
           }
          ],
          "scatterpolargl": [
           {
            "marker": {
             "colorbar": {
              "outlinewidth": 0,
              "ticks": ""
             }
            },
            "type": "scatterpolargl"
           }
          ],
          "scatterternary": [
           {
            "marker": {
             "colorbar": {
              "outlinewidth": 0,
              "ticks": ""
             }
            },
            "type": "scatterternary"
           }
          ],
          "surface": [
           {
            "colorbar": {
             "outlinewidth": 0,
             "ticks": ""
            },
            "colorscale": [
             [
              0,
              "#0d0887"
             ],
             [
              0.1111111111111111,
              "#46039f"
             ],
             [
              0.2222222222222222,
              "#7201a8"
             ],
             [
              0.3333333333333333,
              "#9c179e"
             ],
             [
              0.4444444444444444,
              "#bd3786"
             ],
             [
              0.5555555555555556,
              "#d8576b"
             ],
             [
              0.6666666666666666,
              "#ed7953"
             ],
             [
              0.7777777777777778,
              "#fb9f3a"
             ],
             [
              0.8888888888888888,
              "#fdca26"
             ],
             [
              1,
              "#f0f921"
             ]
            ],
            "type": "surface"
           }
          ],
          "table": [
           {
            "cells": {
             "fill": {
              "color": "#EBF0F8"
             },
             "line": {
              "color": "white"
             }
            },
            "header": {
             "fill": {
              "color": "#C8D4E3"
             },
             "line": {
              "color": "white"
             }
            },
            "type": "table"
           }
          ]
         },
         "layout": {
          "annotationdefaults": {
           "arrowcolor": "#2a3f5f",
           "arrowhead": 0,
           "arrowwidth": 1
          },
          "autotypenumbers": "strict",
          "coloraxis": {
           "colorbar": {
            "outlinewidth": 0,
            "ticks": ""
           }
          },
          "colorscale": {
           "diverging": [
            [
             0,
             "#8e0152"
            ],
            [
             0.1,
             "#c51b7d"
            ],
            [
             0.2,
             "#de77ae"
            ],
            [
             0.3,
             "#f1b6da"
            ],
            [
             0.4,
             "#fde0ef"
            ],
            [
             0.5,
             "#f7f7f7"
            ],
            [
             0.6,
             "#e6f5d0"
            ],
            [
             0.7,
             "#b8e186"
            ],
            [
             0.8,
             "#7fbc41"
            ],
            [
             0.9,
             "#4d9221"
            ],
            [
             1,
             "#276419"
            ]
           ],
           "sequential": [
            [
             0,
             "#0d0887"
            ],
            [
             0.1111111111111111,
             "#46039f"
            ],
            [
             0.2222222222222222,
             "#7201a8"
            ],
            [
             0.3333333333333333,
             "#9c179e"
            ],
            [
             0.4444444444444444,
             "#bd3786"
            ],
            [
             0.5555555555555556,
             "#d8576b"
            ],
            [
             0.6666666666666666,
             "#ed7953"
            ],
            [
             0.7777777777777778,
             "#fb9f3a"
            ],
            [
             0.8888888888888888,
             "#fdca26"
            ],
            [
             1,
             "#f0f921"
            ]
           ],
           "sequentialminus": [
            [
             0,
             "#0d0887"
            ],
            [
             0.1111111111111111,
             "#46039f"
            ],
            [
             0.2222222222222222,
             "#7201a8"
            ],
            [
             0.3333333333333333,
             "#9c179e"
            ],
            [
             0.4444444444444444,
             "#bd3786"
            ],
            [
             0.5555555555555556,
             "#d8576b"
            ],
            [
             0.6666666666666666,
             "#ed7953"
            ],
            [
             0.7777777777777778,
             "#fb9f3a"
            ],
            [
             0.8888888888888888,
             "#fdca26"
            ],
            [
             1,
             "#f0f921"
            ]
           ]
          },
          "colorway": [
           "#636efa",
           "#EF553B",
           "#00cc96",
           "#ab63fa",
           "#FFA15A",
           "#19d3f3",
           "#FF6692",
           "#B6E880",
           "#FF97FF",
           "#FECB52"
          ],
          "font": {
           "color": "#2a3f5f"
          },
          "geo": {
           "bgcolor": "white",
           "lakecolor": "white",
           "landcolor": "#E5ECF6",
           "showlakes": true,
           "showland": true,
           "subunitcolor": "white"
          },
          "hoverlabel": {
           "align": "left"
          },
          "hovermode": "closest",
          "mapbox": {
           "style": "light"
          },
          "paper_bgcolor": "white",
          "plot_bgcolor": "#E5ECF6",
          "polar": {
           "angularaxis": {
            "gridcolor": "white",
            "linecolor": "white",
            "ticks": ""
           },
           "bgcolor": "#E5ECF6",
           "radialaxis": {
            "gridcolor": "white",
            "linecolor": "white",
            "ticks": ""
           }
          },
          "scene": {
           "xaxis": {
            "backgroundcolor": "#E5ECF6",
            "gridcolor": "white",
            "gridwidth": 2,
            "linecolor": "white",
            "showbackground": true,
            "ticks": "",
            "zerolinecolor": "white"
           },
           "yaxis": {
            "backgroundcolor": "#E5ECF6",
            "gridcolor": "white",
            "gridwidth": 2,
            "linecolor": "white",
            "showbackground": true,
            "ticks": "",
            "zerolinecolor": "white"
           },
           "zaxis": {
            "backgroundcolor": "#E5ECF6",
            "gridcolor": "white",
            "gridwidth": 2,
            "linecolor": "white",
            "showbackground": true,
            "ticks": "",
            "zerolinecolor": "white"
           }
          },
          "shapedefaults": {
           "line": {
            "color": "#2a3f5f"
           }
          },
          "ternary": {
           "aaxis": {
            "gridcolor": "white",
            "linecolor": "white",
            "ticks": ""
           },
           "baxis": {
            "gridcolor": "white",
            "linecolor": "white",
            "ticks": ""
           },
           "bgcolor": "#E5ECF6",
           "caxis": {
            "gridcolor": "white",
            "linecolor": "white",
            "ticks": ""
           }
          },
          "title": {
           "x": 0.05
          },
          "xaxis": {
           "automargin": true,
           "gridcolor": "white",
           "linecolor": "white",
           "ticks": "",
           "title": {
            "standoff": 15
           },
           "zerolinecolor": "white",
           "zerolinewidth": 2
          },
          "yaxis": {
           "automargin": true,
           "gridcolor": "white",
           "linecolor": "white",
           "ticks": "",
           "title": {
            "standoff": 15
           },
           "zerolinecolor": "white",
           "zerolinewidth": 2
          }
         }
        },
        "xaxis": {
         "anchor": "y",
         "domain": [
          0,
          1
         ],
         "title": {
          "text": "score"
         }
        },
        "yaxis": {
         "anchor": "x",
         "domain": [
          0,
          1
         ],
         "title": {
          "text": "count"
         }
        }
       }
      }
     },
     "metadata": {},
     "output_type": "display_data"
    }
   ],
   "source": [
    "px.histogram(Defensores, x='score').show()"
   ]
  },
  {
   "cell_type": "code",
   "execution_count": 40,
   "metadata": {},
   "outputs": [
    {
     "name": "stdout",
     "output_type": "stream",
     "text": [
      "desvio de 32.416383218293\n",
      "media de 87.75734646581687\n"
     ]
    }
   ],
   "source": [
    "dev = Defensores['score'].std()\n",
    "media = Defensores['score'].mean()\n",
    "print(f'desvio de {dev}\\nmedia de {media}')"
   ]
  },
  {
   "cell_type": "code",
   "execution_count": 41,
   "metadata": {},
   "outputs": [],
   "source": [
    "bom = media + dev * 2\n",
    "normal = media  + dev\n",
    "fraco = media - dev\n",
    "muito_fraco = media - dev * 2"
   ]
  },
  {
   "cell_type": "code",
   "execution_count": 10,
   "metadata": {},
   "outputs": [],
   "source": [
    "def assign_score(score):\n",
    "    if score > bom:\n",
    "        return 'Excelente'\n",
    "    elif score > normal:\n",
    "        return 'Bom'\n",
    "    elif score > fraco:\n",
    "        return 'Mediano'\n",
    "    elif score > muito_fraco:\n",
    "        return 'Ruim'\n",
    "    else:\n",
    "        return 'Pessimo'"
   ]
  },
  {
   "cell_type": "code",
   "execution_count": 42,
   "metadata": {},
   "outputs": [],
   "source": [
    "Defensores['Desempenho'] = Defensores['score'].apply(assign_score)"
   ]
  },
  {
   "cell_type": "code",
   "execution_count": 43,
   "metadata": {},
   "outputs": [
    {
     "data": {
      "application/vnd.plotly.v1+json": {
       "config": {
        "plotlyServerURL": "https://plot.ly"
       },
       "data": [
        {
         "alignmentgroup": "True",
         "bingroup": "x",
         "hovertemplate": "Desempenho=%{x}<br>count=%{y}<extra></extra>",
         "legendgroup": "",
         "marker": {
          "color": "#636efa",
          "pattern": {
           "shape": ""
          }
         },
         "name": "",
         "offsetgroup": "",
         "orientation": "v",
         "showlegend": false,
         "type": "histogram",
         "x": [
          "Excelente",
          "Excelente",
          "Excelente",
          "Excelente",
          "Excelente",
          "Bom",
          "Bom",
          "Bom",
          "Bom",
          "Bom",
          "Bom",
          "Bom",
          "Bom",
          "Bom",
          "Bom",
          "Bom",
          "Bom",
          "Bom",
          "Bom",
          "Bom",
          "Bom",
          "Bom",
          "Bom",
          "Bom",
          "Bom",
          "Bom",
          "Bom",
          "Bom",
          "Bom",
          "Bom",
          "Bom",
          "Bom",
          "Bom",
          "Bom",
          "Bom",
          "Bom",
          "Bom",
          "Bom",
          "Bom",
          "Bom",
          "Bom",
          "Bom",
          "Bom",
          "Bom",
          "Bom",
          "Bom",
          "Bom",
          "Bom",
          "Bom",
          "Bom",
          "Bom",
          "Bom",
          "Bom",
          "Bom",
          "Bom",
          "Bom",
          "Bom",
          "Bom",
          "Bom",
          "Bom",
          "Bom",
          "Bom",
          "Bom",
          "Bom",
          "Bom",
          "Bom",
          "Bom",
          "Bom",
          "Bom",
          "Bom",
          "Bom",
          "Bom",
          "Bom",
          "Bom",
          "Bom",
          "Bom",
          "Bom",
          "Bom",
          "Bom",
          "Bom",
          "Bom",
          "Bom",
          "Bom",
          "Bom",
          "Bom",
          "Bom",
          "Bom",
          "Bom",
          "Bom",
          "Bom",
          "Bom",
          "Bom",
          "Bom",
          "Bom",
          "Bom",
          "Bom",
          "Bom",
          "Bom",
          "Bom",
          "Bom",
          "Bom",
          "Bom",
          "Bom",
          "Bom",
          "Bom",
          "Bom",
          "Bom",
          "Bom",
          "Bom",
          "Bom",
          "Bom",
          "Bom",
          "Bom",
          "Bom",
          "Bom",
          "Bom",
          "Bom",
          "Bom",
          "Bom",
          "Bom",
          "Bom",
          "Bom",
          "Bom",
          "Bom",
          "Bom",
          "Bom",
          "Bom",
          "Bom",
          "Bom",
          "Bom",
          "Bom",
          "Bom",
          "Bom",
          "Bom",
          "Bom",
          "Bom",
          "Bom",
          "Bom",
          "Bom",
          "Bom",
          "Bom",
          "Bom",
          "Bom",
          "Bom",
          "Bom",
          "Bom",
          "Bom",
          "Bom",
          "Bom",
          "Bom",
          "Mediano",
          "Mediano",
          "Mediano",
          "Mediano",
          "Mediano",
          "Mediano",
          "Mediano",
          "Mediano",
          "Mediano",
          "Mediano",
          "Mediano",
          "Mediano",
          "Mediano",
          "Mediano",
          "Mediano",
          "Mediano",
          "Mediano",
          "Mediano",
          "Mediano",
          "Mediano",
          "Mediano",
          "Mediano",
          "Mediano",
          "Mediano",
          "Mediano",
          "Mediano",
          "Mediano",
          "Mediano",
          "Mediano",
          "Mediano",
          "Mediano",
          "Mediano",
          "Mediano",
          "Mediano",
          "Mediano",
          "Mediano",
          "Mediano",
          "Mediano",
          "Mediano",
          "Mediano",
          "Mediano",
          "Mediano",
          "Mediano",
          "Mediano",
          "Mediano",
          "Mediano",
          "Mediano",
          "Mediano",
          "Mediano",
          "Mediano",
          "Mediano",
          "Mediano",
          "Mediano",
          "Mediano",
          "Mediano",
          "Mediano",
          "Mediano",
          "Mediano",
          "Mediano",
          "Mediano",
          "Mediano",
          "Mediano",
          "Mediano",
          "Mediano",
          "Mediano",
          "Mediano",
          "Mediano",
          "Mediano",
          "Mediano",
          "Mediano",
          "Mediano",
          "Mediano",
          "Mediano",
          "Mediano",
          "Mediano",
          "Mediano",
          "Mediano",
          "Mediano",
          "Mediano",
          "Mediano",
          "Mediano",
          "Mediano",
          "Mediano",
          "Mediano",
          "Mediano",
          "Mediano",
          "Mediano",
          "Mediano",
          "Mediano",
          "Mediano",
          "Mediano",
          "Mediano",
          "Mediano",
          "Mediano",
          "Mediano",
          "Mediano",
          "Mediano",
          "Mediano",
          "Mediano",
          "Mediano",
          "Mediano",
          "Mediano",
          "Mediano",
          "Mediano",
          "Mediano",
          "Mediano",
          "Mediano",
          "Mediano",
          "Mediano",
          "Mediano",
          "Mediano",
          "Mediano",
          "Mediano",
          "Mediano",
          "Mediano",
          "Mediano",
          "Mediano",
          "Mediano",
          "Mediano",
          "Mediano",
          "Mediano",
          "Mediano",
          "Mediano",
          "Mediano",
          "Mediano",
          "Mediano",
          "Mediano",
          "Mediano",
          "Mediano",
          "Mediano",
          "Mediano",
          "Mediano",
          "Mediano",
          "Mediano",
          "Mediano",
          "Mediano",
          "Mediano",
          "Mediano",
          "Mediano",
          "Mediano",
          "Mediano",
          "Mediano",
          "Mediano",
          "Mediano",
          "Mediano",
          "Mediano",
          "Mediano",
          "Mediano",
          "Mediano",
          "Mediano",
          "Mediano",
          "Mediano",
          "Mediano",
          "Mediano",
          "Mediano",
          "Mediano",
          "Mediano",
          "Mediano",
          "Mediano",
          "Mediano",
          "Mediano",
          "Mediano",
          "Mediano",
          "Mediano",
          "Mediano",
          "Mediano",
          "Mediano",
          "Mediano",
          "Mediano",
          "Mediano",
          "Mediano",
          "Mediano",
          "Mediano",
          "Mediano",
          "Mediano",
          "Mediano",
          "Mediano",
          "Mediano",
          "Mediano",
          "Mediano",
          "Mediano",
          "Mediano",
          "Mediano",
          "Mediano",
          "Mediano",
          "Mediano",
          "Mediano",
          "Mediano",
          "Mediano",
          "Mediano",
          "Mediano",
          "Mediano",
          "Mediano",
          "Mediano",
          "Mediano",
          "Mediano",
          "Mediano",
          "Mediano",
          "Mediano",
          "Mediano",
          "Mediano",
          "Mediano",
          "Mediano",
          "Mediano",
          "Mediano",
          "Mediano",
          "Mediano",
          "Mediano",
          "Mediano",
          "Mediano",
          "Mediano",
          "Mediano",
          "Mediano",
          "Mediano",
          "Mediano",
          "Mediano",
          "Mediano",
          "Mediano",
          "Mediano",
          "Mediano",
          "Mediano",
          "Mediano",
          "Mediano",
          "Mediano",
          "Mediano",
          "Mediano",
          "Mediano",
          "Mediano",
          "Mediano",
          "Mediano",
          "Mediano",
          "Mediano",
          "Mediano",
          "Mediano",
          "Mediano",
          "Mediano",
          "Mediano",
          "Mediano",
          "Mediano",
          "Mediano",
          "Mediano",
          "Mediano",
          "Mediano",
          "Mediano",
          "Mediano",
          "Mediano",
          "Mediano",
          "Mediano",
          "Mediano",
          "Mediano",
          "Mediano",
          "Mediano",
          "Mediano",
          "Mediano",
          "Mediano",
          "Mediano",
          "Mediano",
          "Mediano",
          "Mediano",
          "Mediano",
          "Mediano",
          "Mediano",
          "Mediano",
          "Mediano",
          "Mediano",
          "Mediano",
          "Mediano",
          "Mediano",
          "Mediano",
          "Mediano",
          "Mediano",
          "Mediano",
          "Mediano",
          "Mediano",
          "Mediano",
          "Mediano",
          "Mediano",
          "Mediano",
          "Mediano",
          "Mediano",
          "Mediano",
          "Mediano",
          "Mediano",
          "Mediano",
          "Mediano",
          "Mediano",
          "Mediano",
          "Mediano",
          "Mediano",
          "Mediano",
          "Mediano",
          "Mediano",
          "Mediano",
          "Mediano",
          "Mediano",
          "Mediano",
          "Mediano",
          "Mediano",
          "Mediano",
          "Mediano",
          "Mediano",
          "Mediano",
          "Mediano",
          "Mediano",
          "Mediano",
          "Mediano",
          "Mediano",
          "Mediano",
          "Mediano",
          "Mediano",
          "Mediano",
          "Mediano",
          "Mediano",
          "Mediano",
          "Mediano",
          "Mediano",
          "Mediano",
          "Mediano",
          "Mediano",
          "Mediano",
          "Mediano",
          "Mediano",
          "Mediano",
          "Mediano",
          "Mediano",
          "Mediano",
          "Mediano",
          "Mediano",
          "Mediano",
          "Mediano",
          "Mediano",
          "Mediano",
          "Mediano",
          "Mediano",
          "Mediano",
          "Mediano",
          "Mediano",
          "Mediano",
          "Mediano",
          "Mediano",
          "Mediano",
          "Mediano",
          "Mediano",
          "Mediano",
          "Mediano",
          "Mediano",
          "Mediano",
          "Mediano",
          "Mediano",
          "Mediano",
          "Mediano",
          "Mediano",
          "Mediano",
          "Mediano",
          "Mediano",
          "Mediano",
          "Mediano",
          "Mediano",
          "Mediano",
          "Mediano",
          "Mediano",
          "Mediano",
          "Mediano",
          "Mediano",
          "Mediano",
          "Mediano",
          "Mediano",
          "Mediano",
          "Mediano",
          "Mediano",
          "Mediano",
          "Mediano",
          "Mediano",
          "Mediano",
          "Mediano",
          "Mediano",
          "Mediano",
          "Mediano",
          "Mediano",
          "Mediano",
          "Mediano",
          "Mediano",
          "Mediano",
          "Mediano",
          "Mediano",
          "Mediano",
          "Mediano",
          "Mediano",
          "Mediano",
          "Mediano",
          "Mediano",
          "Mediano",
          "Mediano",
          "Mediano",
          "Mediano",
          "Mediano",
          "Mediano",
          "Mediano",
          "Mediano",
          "Mediano",
          "Mediano",
          "Mediano",
          "Mediano",
          "Mediano",
          "Mediano",
          "Mediano",
          "Mediano",
          "Mediano",
          "Mediano",
          "Mediano",
          "Mediano",
          "Mediano",
          "Mediano",
          "Mediano",
          "Mediano",
          "Mediano",
          "Mediano",
          "Mediano",
          "Mediano",
          "Mediano",
          "Mediano",
          "Mediano",
          "Mediano",
          "Mediano",
          "Mediano",
          "Mediano",
          "Mediano",
          "Mediano",
          "Mediano",
          "Mediano",
          "Mediano",
          "Mediano",
          "Mediano",
          "Mediano",
          "Mediano",
          "Mediano",
          "Mediano",
          "Mediano",
          "Mediano",
          "Mediano",
          "Mediano",
          "Mediano",
          "Mediano",
          "Mediano",
          "Mediano",
          "Mediano",
          "Mediano",
          "Mediano",
          "Mediano",
          "Mediano",
          "Mediano",
          "Mediano",
          "Mediano",
          "Mediano",
          "Mediano",
          "Mediano",
          "Mediano",
          "Mediano",
          "Mediano",
          "Mediano",
          "Mediano",
          "Mediano",
          "Mediano",
          "Mediano",
          "Mediano",
          "Mediano",
          "Mediano",
          "Mediano",
          "Mediano",
          "Mediano",
          "Mediano",
          "Mediano",
          "Mediano",
          "Mediano",
          "Mediano",
          "Mediano",
          "Mediano",
          "Mediano",
          "Mediano",
          "Mediano",
          "Mediano",
          "Mediano",
          "Mediano",
          "Mediano",
          "Mediano",
          "Mediano",
          "Mediano",
          "Mediano",
          "Mediano",
          "Mediano",
          "Mediano",
          "Mediano",
          "Mediano",
          "Mediano",
          "Mediano",
          "Mediano",
          "Mediano",
          "Mediano",
          "Mediano",
          "Mediano",
          "Mediano",
          "Mediano",
          "Mediano",
          "Mediano",
          "Mediano",
          "Mediano",
          "Mediano",
          "Mediano",
          "Mediano",
          "Mediano",
          "Mediano",
          "Mediano",
          "Mediano",
          "Mediano",
          "Mediano",
          "Mediano",
          "Mediano",
          "Mediano",
          "Mediano",
          "Mediano",
          "Mediano",
          "Mediano",
          "Mediano",
          "Mediano",
          "Mediano",
          "Mediano",
          "Mediano",
          "Mediano",
          "Mediano",
          "Mediano",
          "Mediano",
          "Mediano",
          "Mediano",
          "Mediano",
          "Mediano",
          "Mediano",
          "Mediano",
          "Mediano",
          "Mediano",
          "Mediano",
          "Mediano",
          "Mediano",
          "Mediano",
          "Mediano",
          "Mediano",
          "Mediano",
          "Mediano",
          "Mediano",
          "Mediano",
          "Mediano",
          "Mediano",
          "Mediano",
          "Mediano",
          "Mediano",
          "Mediano",
          "Mediano",
          "Mediano",
          "Mediano",
          "Mediano",
          "Mediano",
          "Mediano",
          "Mediano",
          "Mediano",
          "Mediano",
          "Ruim",
          "Ruim",
          "Ruim",
          "Ruim",
          "Ruim",
          "Ruim",
          "Ruim",
          "Ruim",
          "Ruim",
          "Ruim",
          "Ruim",
          "Ruim",
          "Ruim",
          "Ruim",
          "Ruim",
          "Ruim",
          "Ruim",
          "Ruim",
          "Ruim",
          "Ruim",
          "Ruim",
          "Ruim",
          "Ruim",
          "Ruim",
          "Ruim",
          "Ruim",
          "Ruim",
          "Ruim",
          "Ruim",
          "Ruim",
          "Ruim",
          "Ruim",
          "Ruim",
          "Ruim",
          "Ruim",
          "Ruim",
          "Ruim",
          "Ruim",
          "Ruim",
          "Ruim",
          "Ruim",
          "Ruim",
          "Ruim",
          "Ruim",
          "Ruim",
          "Ruim",
          "Ruim",
          "Ruim",
          "Ruim",
          "Ruim",
          "Ruim",
          "Ruim",
          "Ruim",
          "Ruim",
          "Ruim",
          "Ruim",
          "Ruim",
          "Ruim",
          "Ruim",
          "Ruim",
          "Ruim",
          "Ruim",
          "Ruim",
          "Ruim",
          "Ruim",
          "Ruim",
          "Ruim",
          "Ruim",
          "Ruim",
          "Ruim",
          "Ruim",
          "Ruim",
          "Ruim",
          "Ruim",
          "Ruim",
          "Ruim",
          "Ruim",
          "Ruim",
          "Ruim",
          "Ruim",
          "Ruim",
          "Ruim",
          "Ruim",
          "Ruim",
          "Ruim",
          "Ruim",
          "Ruim",
          "Ruim",
          "Ruim",
          "Ruim",
          "Ruim",
          "Ruim",
          "Ruim",
          "Ruim",
          "Ruim",
          "Ruim",
          "Ruim",
          "Ruim",
          "Ruim",
          "Ruim",
          "Ruim",
          "Ruim",
          "Ruim",
          "Ruim",
          "Ruim",
          "Ruim",
          "Ruim",
          "Ruim",
          "Ruim",
          "Ruim",
          "Ruim",
          "Ruim",
          "Ruim",
          "Ruim",
          "Ruim",
          "Ruim",
          "Ruim",
          "Ruim",
          "Ruim",
          "Ruim",
          "Ruim",
          "Ruim",
          "Ruim",
          "Ruim",
          "Ruim",
          "Ruim",
          "Ruim",
          "Pessimo",
          "Pessimo",
          "Pessimo",
          "Pessimo",
          "Pessimo",
          "Pessimo",
          "Pessimo",
          "Pessimo",
          "Pessimo",
          "Pessimo",
          "Pessimo",
          "Pessimo",
          "Pessimo",
          "Pessimo",
          "Pessimo",
          "Pessimo",
          "Pessimo",
          "Pessimo",
          "Pessimo",
          "Pessimo",
          "Pessimo",
          "Pessimo"
         ],
         "xaxis": "x",
         "yaxis": "y"
        }
       ],
       "layout": {
        "barmode": "relative",
        "legend": {
         "tracegroupgap": 0
        },
        "margin": {
         "t": 60
        },
        "template": {
         "data": {
          "bar": [
           {
            "error_x": {
             "color": "#2a3f5f"
            },
            "error_y": {
             "color": "#2a3f5f"
            },
            "marker": {
             "line": {
              "color": "#E5ECF6",
              "width": 0.5
             },
             "pattern": {
              "fillmode": "overlay",
              "size": 10,
              "solidity": 0.2
             }
            },
            "type": "bar"
           }
          ],
          "barpolar": [
           {
            "marker": {
             "line": {
              "color": "#E5ECF6",
              "width": 0.5
             },
             "pattern": {
              "fillmode": "overlay",
              "size": 10,
              "solidity": 0.2
             }
            },
            "type": "barpolar"
           }
          ],
          "carpet": [
           {
            "aaxis": {
             "endlinecolor": "#2a3f5f",
             "gridcolor": "white",
             "linecolor": "white",
             "minorgridcolor": "white",
             "startlinecolor": "#2a3f5f"
            },
            "baxis": {
             "endlinecolor": "#2a3f5f",
             "gridcolor": "white",
             "linecolor": "white",
             "minorgridcolor": "white",
             "startlinecolor": "#2a3f5f"
            },
            "type": "carpet"
           }
          ],
          "choropleth": [
           {
            "colorbar": {
             "outlinewidth": 0,
             "ticks": ""
            },
            "type": "choropleth"
           }
          ],
          "contour": [
           {
            "colorbar": {
             "outlinewidth": 0,
             "ticks": ""
            },
            "colorscale": [
             [
              0,
              "#0d0887"
             ],
             [
              0.1111111111111111,
              "#46039f"
             ],
             [
              0.2222222222222222,
              "#7201a8"
             ],
             [
              0.3333333333333333,
              "#9c179e"
             ],
             [
              0.4444444444444444,
              "#bd3786"
             ],
             [
              0.5555555555555556,
              "#d8576b"
             ],
             [
              0.6666666666666666,
              "#ed7953"
             ],
             [
              0.7777777777777778,
              "#fb9f3a"
             ],
             [
              0.8888888888888888,
              "#fdca26"
             ],
             [
              1,
              "#f0f921"
             ]
            ],
            "type": "contour"
           }
          ],
          "contourcarpet": [
           {
            "colorbar": {
             "outlinewidth": 0,
             "ticks": ""
            },
            "type": "contourcarpet"
           }
          ],
          "heatmap": [
           {
            "colorbar": {
             "outlinewidth": 0,
             "ticks": ""
            },
            "colorscale": [
             [
              0,
              "#0d0887"
             ],
             [
              0.1111111111111111,
              "#46039f"
             ],
             [
              0.2222222222222222,
              "#7201a8"
             ],
             [
              0.3333333333333333,
              "#9c179e"
             ],
             [
              0.4444444444444444,
              "#bd3786"
             ],
             [
              0.5555555555555556,
              "#d8576b"
             ],
             [
              0.6666666666666666,
              "#ed7953"
             ],
             [
              0.7777777777777778,
              "#fb9f3a"
             ],
             [
              0.8888888888888888,
              "#fdca26"
             ],
             [
              1,
              "#f0f921"
             ]
            ],
            "type": "heatmap"
           }
          ],
          "heatmapgl": [
           {
            "colorbar": {
             "outlinewidth": 0,
             "ticks": ""
            },
            "colorscale": [
             [
              0,
              "#0d0887"
             ],
             [
              0.1111111111111111,
              "#46039f"
             ],
             [
              0.2222222222222222,
              "#7201a8"
             ],
             [
              0.3333333333333333,
              "#9c179e"
             ],
             [
              0.4444444444444444,
              "#bd3786"
             ],
             [
              0.5555555555555556,
              "#d8576b"
             ],
             [
              0.6666666666666666,
              "#ed7953"
             ],
             [
              0.7777777777777778,
              "#fb9f3a"
             ],
             [
              0.8888888888888888,
              "#fdca26"
             ],
             [
              1,
              "#f0f921"
             ]
            ],
            "type": "heatmapgl"
           }
          ],
          "histogram": [
           {
            "marker": {
             "pattern": {
              "fillmode": "overlay",
              "size": 10,
              "solidity": 0.2
             }
            },
            "type": "histogram"
           }
          ],
          "histogram2d": [
           {
            "colorbar": {
             "outlinewidth": 0,
             "ticks": ""
            },
            "colorscale": [
             [
              0,
              "#0d0887"
             ],
             [
              0.1111111111111111,
              "#46039f"
             ],
             [
              0.2222222222222222,
              "#7201a8"
             ],
             [
              0.3333333333333333,
              "#9c179e"
             ],
             [
              0.4444444444444444,
              "#bd3786"
             ],
             [
              0.5555555555555556,
              "#d8576b"
             ],
             [
              0.6666666666666666,
              "#ed7953"
             ],
             [
              0.7777777777777778,
              "#fb9f3a"
             ],
             [
              0.8888888888888888,
              "#fdca26"
             ],
             [
              1,
              "#f0f921"
             ]
            ],
            "type": "histogram2d"
           }
          ],
          "histogram2dcontour": [
           {
            "colorbar": {
             "outlinewidth": 0,
             "ticks": ""
            },
            "colorscale": [
             [
              0,
              "#0d0887"
             ],
             [
              0.1111111111111111,
              "#46039f"
             ],
             [
              0.2222222222222222,
              "#7201a8"
             ],
             [
              0.3333333333333333,
              "#9c179e"
             ],
             [
              0.4444444444444444,
              "#bd3786"
             ],
             [
              0.5555555555555556,
              "#d8576b"
             ],
             [
              0.6666666666666666,
              "#ed7953"
             ],
             [
              0.7777777777777778,
              "#fb9f3a"
             ],
             [
              0.8888888888888888,
              "#fdca26"
             ],
             [
              1,
              "#f0f921"
             ]
            ],
            "type": "histogram2dcontour"
           }
          ],
          "mesh3d": [
           {
            "colorbar": {
             "outlinewidth": 0,
             "ticks": ""
            },
            "type": "mesh3d"
           }
          ],
          "parcoords": [
           {
            "line": {
             "colorbar": {
              "outlinewidth": 0,
              "ticks": ""
             }
            },
            "type": "parcoords"
           }
          ],
          "pie": [
           {
            "automargin": true,
            "type": "pie"
           }
          ],
          "scatter": [
           {
            "fillpattern": {
             "fillmode": "overlay",
             "size": 10,
             "solidity": 0.2
            },
            "type": "scatter"
           }
          ],
          "scatter3d": [
           {
            "line": {
             "colorbar": {
              "outlinewidth": 0,
              "ticks": ""
             }
            },
            "marker": {
             "colorbar": {
              "outlinewidth": 0,
              "ticks": ""
             }
            },
            "type": "scatter3d"
           }
          ],
          "scattercarpet": [
           {
            "marker": {
             "colorbar": {
              "outlinewidth": 0,
              "ticks": ""
             }
            },
            "type": "scattercarpet"
           }
          ],
          "scattergeo": [
           {
            "marker": {
             "colorbar": {
              "outlinewidth": 0,
              "ticks": ""
             }
            },
            "type": "scattergeo"
           }
          ],
          "scattergl": [
           {
            "marker": {
             "colorbar": {
              "outlinewidth": 0,
              "ticks": ""
             }
            },
            "type": "scattergl"
           }
          ],
          "scattermapbox": [
           {
            "marker": {
             "colorbar": {
              "outlinewidth": 0,
              "ticks": ""
             }
            },
            "type": "scattermapbox"
           }
          ],
          "scatterpolar": [
           {
            "marker": {
             "colorbar": {
              "outlinewidth": 0,
              "ticks": ""
             }
            },
            "type": "scatterpolar"
           }
          ],
          "scatterpolargl": [
           {
            "marker": {
             "colorbar": {
              "outlinewidth": 0,
              "ticks": ""
             }
            },
            "type": "scatterpolargl"
           }
          ],
          "scatterternary": [
           {
            "marker": {
             "colorbar": {
              "outlinewidth": 0,
              "ticks": ""
             }
            },
            "type": "scatterternary"
           }
          ],
          "surface": [
           {
            "colorbar": {
             "outlinewidth": 0,
             "ticks": ""
            },
            "colorscale": [
             [
              0,
              "#0d0887"
             ],
             [
              0.1111111111111111,
              "#46039f"
             ],
             [
              0.2222222222222222,
              "#7201a8"
             ],
             [
              0.3333333333333333,
              "#9c179e"
             ],
             [
              0.4444444444444444,
              "#bd3786"
             ],
             [
              0.5555555555555556,
              "#d8576b"
             ],
             [
              0.6666666666666666,
              "#ed7953"
             ],
             [
              0.7777777777777778,
              "#fb9f3a"
             ],
             [
              0.8888888888888888,
              "#fdca26"
             ],
             [
              1,
              "#f0f921"
             ]
            ],
            "type": "surface"
           }
          ],
          "table": [
           {
            "cells": {
             "fill": {
              "color": "#EBF0F8"
             },
             "line": {
              "color": "white"
             }
            },
            "header": {
             "fill": {
              "color": "#C8D4E3"
             },
             "line": {
              "color": "white"
             }
            },
            "type": "table"
           }
          ]
         },
         "layout": {
          "annotationdefaults": {
           "arrowcolor": "#2a3f5f",
           "arrowhead": 0,
           "arrowwidth": 1
          },
          "autotypenumbers": "strict",
          "coloraxis": {
           "colorbar": {
            "outlinewidth": 0,
            "ticks": ""
           }
          },
          "colorscale": {
           "diverging": [
            [
             0,
             "#8e0152"
            ],
            [
             0.1,
             "#c51b7d"
            ],
            [
             0.2,
             "#de77ae"
            ],
            [
             0.3,
             "#f1b6da"
            ],
            [
             0.4,
             "#fde0ef"
            ],
            [
             0.5,
             "#f7f7f7"
            ],
            [
             0.6,
             "#e6f5d0"
            ],
            [
             0.7,
             "#b8e186"
            ],
            [
             0.8,
             "#7fbc41"
            ],
            [
             0.9,
             "#4d9221"
            ],
            [
             1,
             "#276419"
            ]
           ],
           "sequential": [
            [
             0,
             "#0d0887"
            ],
            [
             0.1111111111111111,
             "#46039f"
            ],
            [
             0.2222222222222222,
             "#7201a8"
            ],
            [
             0.3333333333333333,
             "#9c179e"
            ],
            [
             0.4444444444444444,
             "#bd3786"
            ],
            [
             0.5555555555555556,
             "#d8576b"
            ],
            [
             0.6666666666666666,
             "#ed7953"
            ],
            [
             0.7777777777777778,
             "#fb9f3a"
            ],
            [
             0.8888888888888888,
             "#fdca26"
            ],
            [
             1,
             "#f0f921"
            ]
           ],
           "sequentialminus": [
            [
             0,
             "#0d0887"
            ],
            [
             0.1111111111111111,
             "#46039f"
            ],
            [
             0.2222222222222222,
             "#7201a8"
            ],
            [
             0.3333333333333333,
             "#9c179e"
            ],
            [
             0.4444444444444444,
             "#bd3786"
            ],
            [
             0.5555555555555556,
             "#d8576b"
            ],
            [
             0.6666666666666666,
             "#ed7953"
            ],
            [
             0.7777777777777778,
             "#fb9f3a"
            ],
            [
             0.8888888888888888,
             "#fdca26"
            ],
            [
             1,
             "#f0f921"
            ]
           ]
          },
          "colorway": [
           "#636efa",
           "#EF553B",
           "#00cc96",
           "#ab63fa",
           "#FFA15A",
           "#19d3f3",
           "#FF6692",
           "#B6E880",
           "#FF97FF",
           "#FECB52"
          ],
          "font": {
           "color": "#2a3f5f"
          },
          "geo": {
           "bgcolor": "white",
           "lakecolor": "white",
           "landcolor": "#E5ECF6",
           "showlakes": true,
           "showland": true,
           "subunitcolor": "white"
          },
          "hoverlabel": {
           "align": "left"
          },
          "hovermode": "closest",
          "mapbox": {
           "style": "light"
          },
          "paper_bgcolor": "white",
          "plot_bgcolor": "#E5ECF6",
          "polar": {
           "angularaxis": {
            "gridcolor": "white",
            "linecolor": "white",
            "ticks": ""
           },
           "bgcolor": "#E5ECF6",
           "radialaxis": {
            "gridcolor": "white",
            "linecolor": "white",
            "ticks": ""
           }
          },
          "scene": {
           "xaxis": {
            "backgroundcolor": "#E5ECF6",
            "gridcolor": "white",
            "gridwidth": 2,
            "linecolor": "white",
            "showbackground": true,
            "ticks": "",
            "zerolinecolor": "white"
           },
           "yaxis": {
            "backgroundcolor": "#E5ECF6",
            "gridcolor": "white",
            "gridwidth": 2,
            "linecolor": "white",
            "showbackground": true,
            "ticks": "",
            "zerolinecolor": "white"
           },
           "zaxis": {
            "backgroundcolor": "#E5ECF6",
            "gridcolor": "white",
            "gridwidth": 2,
            "linecolor": "white",
            "showbackground": true,
            "ticks": "",
            "zerolinecolor": "white"
           }
          },
          "shapedefaults": {
           "line": {
            "color": "#2a3f5f"
           }
          },
          "ternary": {
           "aaxis": {
            "gridcolor": "white",
            "linecolor": "white",
            "ticks": ""
           },
           "baxis": {
            "gridcolor": "white",
            "linecolor": "white",
            "ticks": ""
           },
           "bgcolor": "#E5ECF6",
           "caxis": {
            "gridcolor": "white",
            "linecolor": "white",
            "ticks": ""
           }
          },
          "title": {
           "x": 0.05
          },
          "xaxis": {
           "automargin": true,
           "gridcolor": "white",
           "linecolor": "white",
           "ticks": "",
           "title": {
            "standoff": 15
           },
           "zerolinecolor": "white",
           "zerolinewidth": 2
          },
          "yaxis": {
           "automargin": true,
           "gridcolor": "white",
           "linecolor": "white",
           "ticks": "",
           "title": {
            "standoff": 15
           },
           "zerolinecolor": "white",
           "zerolinewidth": 2
          }
         }
        },
        "xaxis": {
         "anchor": "y",
         "domain": [
          0,
          1
         ],
         "title": {
          "text": "Desempenho"
         }
        },
        "yaxis": {
         "anchor": "x",
         "domain": [
          0,
          1
         ],
         "title": {
          "text": "count"
         }
        }
       }
      }
     },
     "metadata": {},
     "output_type": "display_data"
    }
   ],
   "source": [
    "px.histogram(Defensores, x = 'Desempenho').show()"
   ]
  },
  {
   "cell_type": "code",
   "execution_count": 44,
   "metadata": {},
   "outputs": [
    {
     "data": {
      "text/html": [
       "<div>\n",
       "<style scoped>\n",
       "    .dataframe tbody tr th:only-of-type {\n",
       "        vertical-align: middle;\n",
       "    }\n",
       "\n",
       "    .dataframe tbody tr th {\n",
       "        vertical-align: top;\n",
       "    }\n",
       "\n",
       "    .dataframe thead th {\n",
       "        text-align: right;\n",
       "    }\n",
       "</style>\n",
       "<table border=\"1\" class=\"dataframe\">\n",
       "  <thead>\n",
       "    <tr style=\"text-align: right;\">\n",
       "      <th></th>\n",
       "      <th>_c0</th>\n",
       "      <th>Rk</th>\n",
       "      <th>Player</th>\n",
       "      <th>Nation</th>\n",
       "      <th>Pos</th>\n",
       "      <th>Squad</th>\n",
       "      <th>Comp</th>\n",
       "      <th>Age</th>\n",
       "      <th>Born</th>\n",
       "      <th>MP</th>\n",
       "      <th>...</th>\n",
       "      <th>TklW</th>\n",
       "      <th>PKwon</th>\n",
       "      <th>PKcon</th>\n",
       "      <th>OG</th>\n",
       "      <th>Recov</th>\n",
       "      <th>AerWon</th>\n",
       "      <th>AerLost</th>\n",
       "      <th>AerWon%</th>\n",
       "      <th>score</th>\n",
       "      <th>Desempenho</th>\n",
       "    </tr>\n",
       "  </thead>\n",
       "  <tbody>\n",
       "    <tr>\n",
       "      <th>88</th>\n",
       "      <td>277</td>\n",
       "      <td>278</td>\n",
       "      <td>Giulian Biancone</td>\n",
       "      <td>FRA</td>\n",
       "      <td>DF</td>\n",
       "      <td>Nott'ham Forest</td>\n",
       "      <td>Premier League</td>\n",
       "      <td>22</td>\n",
       "      <td>2000</td>\n",
       "      <td>2</td>\n",
       "      <td>...</td>\n",
       "      <td>5.00</td>\n",
       "      <td>0.0</td>\n",
       "      <td>0.00</td>\n",
       "      <td>0.00</td>\n",
       "      <td>25.00</td>\n",
       "      <td>10.00</td>\n",
       "      <td>0.00</td>\n",
       "      <td>100.0</td>\n",
       "      <td>169.00</td>\n",
       "      <td>Excelente</td>\n",
       "    </tr>\n",
       "    <tr>\n",
       "      <th>188</th>\n",
       "      <td>558</td>\n",
       "      <td>559</td>\n",
       "      <td>Tanguy Coulibaly</td>\n",
       "      <td>FRA</td>\n",
       "      <td>DFFW</td>\n",
       "      <td>Stuttgart</td>\n",
       "      <td>Bundesliga</td>\n",
       "      <td>21</td>\n",
       "      <td>2001</td>\n",
       "      <td>2</td>\n",
       "      <td>...</td>\n",
       "      <td>5.00</td>\n",
       "      <td>0.0</td>\n",
       "      <td>0.00</td>\n",
       "      <td>0.00</td>\n",
       "      <td>17.50</td>\n",
       "      <td>0.00</td>\n",
       "      <td>0.00</td>\n",
       "      <td>0.0</td>\n",
       "      <td>161.50</td>\n",
       "      <td>Excelente</td>\n",
       "    </tr>\n",
       "    <tr>\n",
       "      <th>58</th>\n",
       "      <td>175</td>\n",
       "      <td>176</td>\n",
       "      <td>Ridle Baku</td>\n",
       "      <td>GER</td>\n",
       "      <td>DF</td>\n",
       "      <td>Wolfsburg</td>\n",
       "      <td>Bundesliga</td>\n",
       "      <td>24</td>\n",
       "      <td>1998</td>\n",
       "      <td>20</td>\n",
       "      <td>...</td>\n",
       "      <td>0.68</td>\n",
       "      <td>0.0</td>\n",
       "      <td>0.00</td>\n",
       "      <td>0.00</td>\n",
       "      <td>5.83</td>\n",
       "      <td>0.68</td>\n",
       "      <td>1.15</td>\n",
       "      <td>37.1</td>\n",
       "      <td>157.65</td>\n",
       "      <td>Excelente</td>\n",
       "    </tr>\n",
       "    <tr>\n",
       "      <th>755</th>\n",
       "      <td>2365</td>\n",
       "      <td>2366</td>\n",
       "      <td>Pascal Struijk</td>\n",
       "      <td>NED</td>\n",
       "      <td>DF</td>\n",
       "      <td>Leeds United</td>\n",
       "      <td>Premier League</td>\n",
       "      <td>23</td>\n",
       "      <td>1999</td>\n",
       "      <td>20</td>\n",
       "      <td>...</td>\n",
       "      <td>2.37</td>\n",
       "      <td>0.0</td>\n",
       "      <td>0.05</td>\n",
       "      <td>0.00</td>\n",
       "      <td>5.38</td>\n",
       "      <td>2.37</td>\n",
       "      <td>1.83</td>\n",
       "      <td>56.4</td>\n",
       "      <td>153.07</td>\n",
       "      <td>Excelente</td>\n",
       "    </tr>\n",
       "    <tr>\n",
       "      <th>80</th>\n",
       "      <td>257</td>\n",
       "      <td>258</td>\n",
       "      <td>Ramy Bensebaini</td>\n",
       "      <td>ALG</td>\n",
       "      <td>DF</td>\n",
       "      <td>M'Gladbach</td>\n",
       "      <td>Bundesliga</td>\n",
       "      <td>27</td>\n",
       "      <td>1995</td>\n",
       "      <td>18</td>\n",
       "      <td>...</td>\n",
       "      <td>1.01</td>\n",
       "      <td>0.0</td>\n",
       "      <td>0.00</td>\n",
       "      <td>0.06</td>\n",
       "      <td>5.87</td>\n",
       "      <td>2.51</td>\n",
       "      <td>1.34</td>\n",
       "      <td>65.2</td>\n",
       "      <td>152.75</td>\n",
       "      <td>Excelente</td>\n",
       "    </tr>\n",
       "  </tbody>\n",
       "</table>\n",
       "<p>5 rows × 127 columns</p>\n",
       "</div>"
      ],
      "text/plain": [
       "      _c0    Rk            Player Nation   Pos            Squad  \\\n",
       "88    277   278  Giulian Biancone    FRA    DF  Nott'ham Forest   \n",
       "188   558   559  Tanguy Coulibaly    FRA  DFFW        Stuttgart   \n",
       "58    175   176        Ridle Baku    GER    DF        Wolfsburg   \n",
       "755  2365  2366    Pascal Struijk    NED    DF     Leeds United   \n",
       "80    257   258   Ramy Bensebaini    ALG    DF       M'Gladbach   \n",
       "\n",
       "               Comp  Age  Born  MP  ...  TklW  PKwon  PKcon    OG  Recov  \\\n",
       "88   Premier League   22  2000   2  ...  5.00    0.0   0.00  0.00  25.00   \n",
       "188      Bundesliga   21  2001   2  ...  5.00    0.0   0.00  0.00  17.50   \n",
       "58       Bundesliga   24  1998  20  ...  0.68    0.0   0.00  0.00   5.83   \n",
       "755  Premier League   23  1999  20  ...  2.37    0.0   0.05  0.00   5.38   \n",
       "80       Bundesliga   27  1995  18  ...  1.01    0.0   0.00  0.06   5.87   \n",
       "\n",
       "     AerWon  AerLost  AerWon%   score  Desempenho  \n",
       "88    10.00     0.00    100.0  169.00   Excelente  \n",
       "188    0.00     0.00      0.0  161.50   Excelente  \n",
       "58     0.68     1.15     37.1  157.65   Excelente  \n",
       "755    2.37     1.83     56.4  153.07   Excelente  \n",
       "80     2.51     1.34     65.2  152.75   Excelente  \n",
       "\n",
       "[5 rows x 127 columns]"
      ]
     },
     "execution_count": 44,
     "metadata": {},
     "output_type": "execute_result"
    }
   ],
   "source": [
    "Defensores[Defensores['Desempenho'] == 'Excelente'].head(40)"
   ]
  },
  {
   "cell_type": "code",
   "execution_count": 32,
   "metadata": {},
   "outputs": [],
   "source": [
    "Defensores.to_csv('C:\\\\Users\\\\alexa\\\\OneDrive\\\\Área de Trabalho\\\\Prj\\\\Classificador\\\\Content\\\\Defensores.csv')"
   ]
  }
 ],
 "metadata": {
  "kernelspec": {
   "display_name": "base",
   "language": "python",
   "name": "python3"
  },
  "language_info": {
   "codemirror_mode": {
    "name": "ipython",
    "version": 3
   },
   "file_extension": ".py",
   "mimetype": "text/x-python",
   "name": "python",
   "nbconvert_exporter": "python",
   "pygments_lexer": "ipython3",
   "version": "3.9.7"
  },
  "orig_nbformat": 4
 },
 "nbformat": 4,
 "nbformat_minor": 2
}
