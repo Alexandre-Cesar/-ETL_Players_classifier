{
  "cells": [
    {
      "attachments": {},
      "cell_type": "markdown",
      "metadata": {},
      "source": [
        "# Análise dos atacantes "
      ]
    },
    {
      "cell_type": "code",
      "execution_count": 1,
      "metadata": {
        "id": "uxo-KdrIeVLf"
      },
      "outputs": [],
      "source": [
        "#plots\n",
        "import pandas as pd\n",
        "import plotly.express as px\n",
        "import numpy as np"
      ]
    },
    {
      "attachments": {},
      "cell_type": "markdown",
      "metadata": {},
      "source": [
        "#### Extraindo os dados da partição de atacantes"
      ]
    },
    {
      "cell_type": "code",
      "execution_count": 2,
      "metadata": {
        "id": "MnMc_zRBestW"
      },
      "outputs": [],
      "source": [
        "Atacante = pd.read_parquet('C:\\\\Users\\\\alexa\\\\OneDrive\\\\Área de Trabalho\\\\Prj\\\\Classificador\\\\Content\\\\Atacantes.c000.snappy.parquet', engine='pyarrow')"
      ]
    },
    {
      "cell_type": "code",
      "execution_count": 3,
      "metadata": {
        "colab": {
          "base_uri": "https://localhost:8080/",
          "height": 1000
        },
        "id": "Cvbcl99VgvN9",
        "outputId": "99ade7ce-213f-4217-a1b6-c1a84444a600"
      },
      "outputs": [
        {
          "data": {
            "text/html": [
              "<div>\n",
              "<style scoped>\n",
              "    .dataframe tbody tr th:only-of-type {\n",
              "        vertical-align: middle;\n",
              "    }\n",
              "\n",
              "    .dataframe tbody tr th {\n",
              "        vertical-align: top;\n",
              "    }\n",
              "\n",
              "    .dataframe thead th {\n",
              "        text-align: right;\n",
              "    }\n",
              "</style>\n",
              "<table border=\"1\" class=\"dataframe\">\n",
              "  <thead>\n",
              "    <tr style=\"text-align: right;\">\n",
              "      <th></th>\n",
              "      <th>_c0</th>\n",
              "      <th>Rk</th>\n",
              "      <th>Player</th>\n",
              "      <th>Nation</th>\n",
              "      <th>Pos</th>\n",
              "      <th>Squad</th>\n",
              "      <th>Comp</th>\n",
              "      <th>Age</th>\n",
              "      <th>Born</th>\n",
              "      <th>MP</th>\n",
              "      <th>...</th>\n",
              "      <th>Off</th>\n",
              "      <th>Crs</th>\n",
              "      <th>TklW</th>\n",
              "      <th>PKwon</th>\n",
              "      <th>PKcon</th>\n",
              "      <th>OG</th>\n",
              "      <th>Recov</th>\n",
              "      <th>AerWon</th>\n",
              "      <th>AerLost</th>\n",
              "      <th>AerWon%</th>\n",
              "    </tr>\n",
              "  </thead>\n",
              "  <tbody>\n",
              "    <tr>\n",
              "      <th>0</th>\n",
              "      <td>6</td>\n",
              "      <td>7</td>\n",
              "      <td>Matthis Abline</td>\n",
              "      <td>FRA</td>\n",
              "      <td>FWMF</td>\n",
              "      <td>Auxerre</td>\n",
              "      <td>Ligue 1</td>\n",
              "      <td>19</td>\n",
              "      <td>2003</td>\n",
              "      <td>5</td>\n",
              "      <td>...</td>\n",
              "      <td>0.48</td>\n",
              "      <td>0.95</td>\n",
              "      <td>0.48</td>\n",
              "      <td>0.00</td>\n",
              "      <td>0.00</td>\n",
              "      <td>0.0</td>\n",
              "      <td>0.48</td>\n",
              "      <td>1.43</td>\n",
              "      <td>1.43</td>\n",
              "      <td>50.0</td>\n",
              "    </tr>\n",
              "    <tr>\n",
              "      <th>1</th>\n",
              "      <td>7</td>\n",
              "      <td>8</td>\n",
              "      <td>Matthis Abline</td>\n",
              "      <td>FRA</td>\n",
              "      <td>FWMF</td>\n",
              "      <td>Rennes</td>\n",
              "      <td>Ligue 1</td>\n",
              "      <td>19</td>\n",
              "      <td>2003</td>\n",
              "      <td>11</td>\n",
              "      <td>...</td>\n",
              "      <td>0.83</td>\n",
              "      <td>1.67</td>\n",
              "      <td>0.83</td>\n",
              "      <td>0.83</td>\n",
              "      <td>0.00</td>\n",
              "      <td>0.0</td>\n",
              "      <td>1.67</td>\n",
              "      <td>0.83</td>\n",
              "      <td>3.33</td>\n",
              "      <td>20.0</td>\n",
              "    </tr>\n",
              "    <tr>\n",
              "      <th>2</th>\n",
              "      <td>9</td>\n",
              "      <td>10</td>\n",
              "      <td>Zakaria Aboukhlal</td>\n",
              "      <td>MAR</td>\n",
              "      <td>FWMF</td>\n",
              "      <td>Toulouse</td>\n",
              "      <td>Ligue 1</td>\n",
              "      <td>22</td>\n",
              "      <td>2000</td>\n",
              "      <td>22</td>\n",
              "      <td>...</td>\n",
              "      <td>0.72</td>\n",
              "      <td>0.96</td>\n",
              "      <td>0.72</td>\n",
              "      <td>0.00</td>\n",
              "      <td>0.00</td>\n",
              "      <td>0.0</td>\n",
              "      <td>4.43</td>\n",
              "      <td>0.42</td>\n",
              "      <td>1.32</td>\n",
              "      <td>24.1</td>\n",
              "    </tr>\n",
              "    <tr>\n",
              "      <th>3</th>\n",
              "      <td>10</td>\n",
              "      <td>11</td>\n",
              "      <td>Tammy Abraham</td>\n",
              "      <td>ENG</td>\n",
              "      <td>FW</td>\n",
              "      <td>Roma</td>\n",
              "      <td>Serie A</td>\n",
              "      <td>25</td>\n",
              "      <td>1997</td>\n",
              "      <td>22</td>\n",
              "      <td>...</td>\n",
              "      <td>0.51</td>\n",
              "      <td>0.28</td>\n",
              "      <td>0.40</td>\n",
              "      <td>0.06</td>\n",
              "      <td>0.00</td>\n",
              "      <td>0.0</td>\n",
              "      <td>1.87</td>\n",
              "      <td>2.56</td>\n",
              "      <td>2.39</td>\n",
              "      <td>51.7</td>\n",
              "    </tr>\n",
              "    <tr>\n",
              "      <th>4</th>\n",
              "      <td>12</td>\n",
              "      <td>13</td>\n",
              "      <td>Mohamed Achi</td>\n",
              "      <td>FRA</td>\n",
              "      <td>FW</td>\n",
              "      <td>Nantes</td>\n",
              "      <td>Ligue 1</td>\n",
              "      <td>21</td>\n",
              "      <td>2002</td>\n",
              "      <td>2</td>\n",
              "      <td>...</td>\n",
              "      <td>0.00</td>\n",
              "      <td>2.50</td>\n",
              "      <td>2.50</td>\n",
              "      <td>0.00</td>\n",
              "      <td>0.00</td>\n",
              "      <td>0.0</td>\n",
              "      <td>5.00</td>\n",
              "      <td>0.00</td>\n",
              "      <td>0.00</td>\n",
              "      <td>0.0</td>\n",
              "    </tr>\n",
              "    <tr>\n",
              "      <th>5</th>\n",
              "      <td>14</td>\n",
              "      <td>15</td>\n",
              "      <td>Che Adams</td>\n",
              "      <td>SCO</td>\n",
              "      <td>FW</td>\n",
              "      <td>Southampton</td>\n",
              "      <td>Premier League</td>\n",
              "      <td>26</td>\n",
              "      <td>1996</td>\n",
              "      <td>21</td>\n",
              "      <td>...</td>\n",
              "      <td>0.40</td>\n",
              "      <td>0.51</td>\n",
              "      <td>0.69</td>\n",
              "      <td>0.00</td>\n",
              "      <td>0.00</td>\n",
              "      <td>0.0</td>\n",
              "      <td>2.29</td>\n",
              "      <td>2.97</td>\n",
              "      <td>5.03</td>\n",
              "      <td>37.1</td>\n",
              "    </tr>\n",
              "    <tr>\n",
              "      <th>6</th>\n",
              "      <td>16</td>\n",
              "      <td>17</td>\n",
              "      <td>Sargis Adamyan</td>\n",
              "      <td>ARM</td>\n",
              "      <td>FWMF</td>\n",
              "      <td>K�ln</td>\n",
              "      <td>Bundesliga</td>\n",
              "      <td>29</td>\n",
              "      <td>1993</td>\n",
              "      <td>16</td>\n",
              "      <td>...</td>\n",
              "      <td>0.58</td>\n",
              "      <td>1.92</td>\n",
              "      <td>1.15</td>\n",
              "      <td>0.00</td>\n",
              "      <td>0.00</td>\n",
              "      <td>0.0</td>\n",
              "      <td>5.38</td>\n",
              "      <td>1.54</td>\n",
              "      <td>3.85</td>\n",
              "      <td>28.6</td>\n",
              "    </tr>\n",
              "    <tr>\n",
              "      <th>7</th>\n",
              "      <td>19</td>\n",
              "      <td>20</td>\n",
              "      <td>Karim Adeyemi</td>\n",
              "      <td>GER</td>\n",
              "      <td>FWMF</td>\n",
              "      <td>Dortmund</td>\n",
              "      <td>Bundesliga</td>\n",
              "      <td>21</td>\n",
              "      <td>2002</td>\n",
              "      <td>15</td>\n",
              "      <td>...</td>\n",
              "      <td>0.00</td>\n",
              "      <td>1.76</td>\n",
              "      <td>0.71</td>\n",
              "      <td>0.00</td>\n",
              "      <td>0.00</td>\n",
              "      <td>0.0</td>\n",
              "      <td>4.94</td>\n",
              "      <td>0.82</td>\n",
              "      <td>0.24</td>\n",
              "      <td>77.8</td>\n",
              "    </tr>\n",
              "    <tr>\n",
              "      <th>8</th>\n",
              "      <td>20</td>\n",
              "      <td>21</td>\n",
              "      <td>Amine Adli</td>\n",
              "      <td>FRA</td>\n",
              "      <td>FW</td>\n",
              "      <td>Leverkusen</td>\n",
              "      <td>Bundesliga</td>\n",
              "      <td>22</td>\n",
              "      <td>2000</td>\n",
              "      <td>13</td>\n",
              "      <td>...</td>\n",
              "      <td>0.28</td>\n",
              "      <td>0.83</td>\n",
              "      <td>1.11</td>\n",
              "      <td>0.00</td>\n",
              "      <td>0.00</td>\n",
              "      <td>0.0</td>\n",
              "      <td>3.75</td>\n",
              "      <td>1.53</td>\n",
              "      <td>2.22</td>\n",
              "      <td>40.7</td>\n",
              "    </tr>\n",
              "    <tr>\n",
              "      <th>9</th>\n",
              "      <td>22</td>\n",
              "      <td>23</td>\n",
              "      <td>Michel Aebischer</td>\n",
              "      <td>SUI</td>\n",
              "      <td>FWMF</td>\n",
              "      <td>Bologna</td>\n",
              "      <td>Serie A</td>\n",
              "      <td>26</td>\n",
              "      <td>1997</td>\n",
              "      <td>18</td>\n",
              "      <td>...</td>\n",
              "      <td>0.58</td>\n",
              "      <td>1.05</td>\n",
              "      <td>0.12</td>\n",
              "      <td>0.12</td>\n",
              "      <td>0.12</td>\n",
              "      <td>0.0</td>\n",
              "      <td>5.00</td>\n",
              "      <td>0.58</td>\n",
              "      <td>1.05</td>\n",
              "      <td>35.7</td>\n",
              "    </tr>\n",
              "    <tr>\n",
              "      <th>10</th>\n",
              "      <td>23</td>\n",
              "      <td>24</td>\n",
              "      <td>Felix Afena-Gyan</td>\n",
              "      <td>GHA</td>\n",
              "      <td>FWMF</td>\n",
              "      <td>Cremonese</td>\n",
              "      <td>Serie A</td>\n",
              "      <td>20</td>\n",
              "      <td>2003</td>\n",
              "      <td>12</td>\n",
              "      <td>...</td>\n",
              "      <td>1.00</td>\n",
              "      <td>0.75</td>\n",
              "      <td>0.50</td>\n",
              "      <td>0.00</td>\n",
              "      <td>0.00</td>\n",
              "      <td>0.0</td>\n",
              "      <td>4.25</td>\n",
              "      <td>2.00</td>\n",
              "      <td>4.00</td>\n",
              "      <td>33.3</td>\n",
              "    </tr>\n",
              "    <tr>\n",
              "      <th>11</th>\n",
              "      <td>33</td>\n",
              "      <td>34</td>\n",
              "      <td>Amar Ahmed</td>\n",
              "      <td>SWE</td>\n",
              "      <td>FW</td>\n",
              "      <td>Troyes</td>\n",
              "      <td>Ligue 1</td>\n",
              "      <td>18</td>\n",
              "      <td>2004</td>\n",
              "      <td>1</td>\n",
              "      <td>...</td>\n",
              "      <td>0.00</td>\n",
              "      <td>0.00</td>\n",
              "      <td>5.00</td>\n",
              "      <td>0.00</td>\n",
              "      <td>0.00</td>\n",
              "      <td>0.0</td>\n",
              "      <td>10.00</td>\n",
              "      <td>0.00</td>\n",
              "      <td>15.00</td>\n",
              "      <td>0.0</td>\n",
              "    </tr>\n",
              "    <tr>\n",
              "      <th>12</th>\n",
              "      <td>40</td>\n",
              "      <td>41</td>\n",
              "      <td>Ludovic Ajorque</td>\n",
              "      <td>FRA</td>\n",
              "      <td>FW</td>\n",
              "      <td>Strasbourg</td>\n",
              "      <td>Ligue 1</td>\n",
              "      <td>28</td>\n",
              "      <td>1994</td>\n",
              "      <td>13</td>\n",
              "      <td>...</td>\n",
              "      <td>0.12</td>\n",
              "      <td>0.00</td>\n",
              "      <td>0.47</td>\n",
              "      <td>0.00</td>\n",
              "      <td>0.00</td>\n",
              "      <td>0.0</td>\n",
              "      <td>2.44</td>\n",
              "      <td>5.81</td>\n",
              "      <td>3.84</td>\n",
              "      <td>60.2</td>\n",
              "    </tr>\n",
              "    <tr>\n",
              "      <th>13</th>\n",
              "      <td>41</td>\n",
              "      <td>42</td>\n",
              "      <td>Ludovic Ajorque</td>\n",
              "      <td>FRA</td>\n",
              "      <td>FW</td>\n",
              "      <td>Mainz 05</td>\n",
              "      <td>Bundesliga</td>\n",
              "      <td>28</td>\n",
              "      <td>1994</td>\n",
              "      <td>4</td>\n",
              "      <td>...</td>\n",
              "      <td>0.38</td>\n",
              "      <td>0.38</td>\n",
              "      <td>0.00</td>\n",
              "      <td>0.00</td>\n",
              "      <td>0.00</td>\n",
              "      <td>0.0</td>\n",
              "      <td>5.00</td>\n",
              "      <td>10.00</td>\n",
              "      <td>7.69</td>\n",
              "      <td>56.5</td>\n",
              "    </tr>\n",
              "    <tr>\n",
              "      <th>14</th>\n",
              "      <td>51</td>\n",
              "      <td>52</td>\n",
              "      <td>Lucas Alario</td>\n",
              "      <td>ARG</td>\n",
              "      <td>FW</td>\n",
              "      <td>Eint Frankfurt</td>\n",
              "      <td>Bundesliga</td>\n",
              "      <td>30</td>\n",
              "      <td>1992</td>\n",
              "      <td>12</td>\n",
              "      <td>...</td>\n",
              "      <td>1.43</td>\n",
              "      <td>0.00</td>\n",
              "      <td>0.71</td>\n",
              "      <td>0.00</td>\n",
              "      <td>0.00</td>\n",
              "      <td>0.0</td>\n",
              "      <td>2.86</td>\n",
              "      <td>3.93</td>\n",
              "      <td>5.71</td>\n",
              "      <td>40.7</td>\n",
              "    </tr>\n",
              "    <tr>\n",
              "      <th>15</th>\n",
              "      <td>55</td>\n",
              "      <td>56</td>\n",
              "      <td>Marc Albrighton</td>\n",
              "      <td>ENG</td>\n",
              "      <td>FWMF</td>\n",
              "      <td>Leicester City</td>\n",
              "      <td>Premier League</td>\n",
              "      <td>33</td>\n",
              "      <td>1989</td>\n",
              "      <td>6</td>\n",
              "      <td>...</td>\n",
              "      <td>0.38</td>\n",
              "      <td>10.80</td>\n",
              "      <td>0.38</td>\n",
              "      <td>0.00</td>\n",
              "      <td>0.00</td>\n",
              "      <td>0.0</td>\n",
              "      <td>5.38</td>\n",
              "      <td>0.38</td>\n",
              "      <td>0.38</td>\n",
              "      <td>50.0</td>\n",
              "    </tr>\n",
              "    <tr>\n",
              "      <th>16</th>\n",
              "      <td>66</td>\n",
              "      <td>67</td>\n",
              "      <td>Mohamed Ali Cho</td>\n",
              "      <td>FRA</td>\n",
              "      <td>FW</td>\n",
              "      <td>Real Sociedad</td>\n",
              "      <td>La Liga</td>\n",
              "      <td>19</td>\n",
              "      <td>2004</td>\n",
              "      <td>8</td>\n",
              "      <td>...</td>\n",
              "      <td>0.57</td>\n",
              "      <td>4.29</td>\n",
              "      <td>0.86</td>\n",
              "      <td>0.29</td>\n",
              "      <td>0.00</td>\n",
              "      <td>0.0</td>\n",
              "      <td>5.14</td>\n",
              "      <td>0.29</td>\n",
              "      <td>2.29</td>\n",
              "      <td>11.1</td>\n",
              "    </tr>\n",
              "    <tr>\n",
              "      <th>17</th>\n",
              "      <td>72</td>\n",
              "      <td>73</td>\n",
              "      <td>Miguel Almir�n</td>\n",
              "      <td>PAR</td>\n",
              "      <td>FW</td>\n",
              "      <td>Newcastle Utd</td>\n",
              "      <td>Premier League</td>\n",
              "      <td>29</td>\n",
              "      <td>1994</td>\n",
              "      <td>22</td>\n",
              "      <td>...</td>\n",
              "      <td>0.40</td>\n",
              "      <td>0.94</td>\n",
              "      <td>1.19</td>\n",
              "      <td>0.00</td>\n",
              "      <td>0.00</td>\n",
              "      <td>0.0</td>\n",
              "      <td>5.10</td>\n",
              "      <td>0.20</td>\n",
              "      <td>0.45</td>\n",
              "      <td>30.8</td>\n",
              "    </tr>\n",
              "    <tr>\n",
              "      <th>18</th>\n",
              "      <td>76</td>\n",
              "      <td>77</td>\n",
              "      <td>Carlos �lvarez</td>\n",
              "      <td>ESP</td>\n",
              "      <td>FW</td>\n",
              "      <td>Sevilla</td>\n",
              "      <td>La Liga</td>\n",
              "      <td>19</td>\n",
              "      <td>2003</td>\n",
              "      <td>1</td>\n",
              "      <td>...</td>\n",
              "      <td>0.00</td>\n",
              "      <td>0.00</td>\n",
              "      <td>10.00</td>\n",
              "      <td>0.00</td>\n",
              "      <td>0.00</td>\n",
              "      <td>0.0</td>\n",
              "      <td>0.00</td>\n",
              "      <td>0.00</td>\n",
              "      <td>0.00</td>\n",
              "      <td>0.0</td>\n",
              "    </tr>\n",
              "    <tr>\n",
              "      <th>19</th>\n",
              "      <td>78</td>\n",
              "      <td>79</td>\n",
              "      <td>Juli�n �lvarez</td>\n",
              "      <td>ARG</td>\n",
              "      <td>FWMF</td>\n",
              "      <td>Manchester City</td>\n",
              "      <td>Premier League</td>\n",
              "      <td>23</td>\n",
              "      <td>2000</td>\n",
              "      <td>16</td>\n",
              "      <td>...</td>\n",
              "      <td>0.16</td>\n",
              "      <td>1.25</td>\n",
              "      <td>0.78</td>\n",
              "      <td>0.00</td>\n",
              "      <td>0.00</td>\n",
              "      <td>0.0</td>\n",
              "      <td>2.19</td>\n",
              "      <td>0.78</td>\n",
              "      <td>1.72</td>\n",
              "      <td>31.3</td>\n",
              "    </tr>\n",
              "  </tbody>\n",
              "</table>\n",
              "<p>20 rows × 125 columns</p>\n",
              "</div>"
            ],
            "text/plain": [
              "    _c0  Rk             Player Nation   Pos            Squad            Comp  \\\n",
              "0     6   7     Matthis Abline    FRA  FWMF          Auxerre         Ligue 1   \n",
              "1     7   8     Matthis Abline    FRA  FWMF           Rennes         Ligue 1   \n",
              "2     9  10  Zakaria Aboukhlal    MAR  FWMF         Toulouse         Ligue 1   \n",
              "3    10  11      Tammy Abraham    ENG    FW             Roma         Serie A   \n",
              "4    12  13       Mohamed Achi    FRA    FW           Nantes         Ligue 1   \n",
              "5    14  15          Che Adams    SCO    FW      Southampton  Premier League   \n",
              "6    16  17     Sargis Adamyan    ARM  FWMF             K�ln      Bundesliga   \n",
              "7    19  20      Karim Adeyemi    GER  FWMF         Dortmund      Bundesliga   \n",
              "8    20  21         Amine Adli    FRA    FW       Leverkusen      Bundesliga   \n",
              "9    22  23   Michel Aebischer    SUI  FWMF          Bologna         Serie A   \n",
              "10   23  24   Felix Afena-Gyan    GHA  FWMF        Cremonese         Serie A   \n",
              "11   33  34         Amar Ahmed    SWE    FW           Troyes         Ligue 1   \n",
              "12   40  41    Ludovic Ajorque    FRA    FW       Strasbourg         Ligue 1   \n",
              "13   41  42    Ludovic Ajorque    FRA    FW         Mainz 05      Bundesliga   \n",
              "14   51  52       Lucas Alario    ARG    FW   Eint Frankfurt      Bundesliga   \n",
              "15   55  56    Marc Albrighton    ENG  FWMF   Leicester City  Premier League   \n",
              "16   66  67    Mohamed Ali Cho    FRA    FW    Real Sociedad         La Liga   \n",
              "17   72  73     Miguel Almir�n    PAR    FW    Newcastle Utd  Premier League   \n",
              "18   76  77     Carlos �lvarez    ESP    FW          Sevilla         La Liga   \n",
              "19   78  79     Juli�n �lvarez    ARG  FWMF  Manchester City  Premier League   \n",
              "\n",
              "    Age  Born  MP  ...   Off    Crs   TklW  PKwon  PKcon   OG  Recov  AerWon  \\\n",
              "0    19  2003   5  ...  0.48   0.95   0.48   0.00   0.00  0.0   0.48    1.43   \n",
              "1    19  2003  11  ...  0.83   1.67   0.83   0.83   0.00  0.0   1.67    0.83   \n",
              "2    22  2000  22  ...  0.72   0.96   0.72   0.00   0.00  0.0   4.43    0.42   \n",
              "3    25  1997  22  ...  0.51   0.28   0.40   0.06   0.00  0.0   1.87    2.56   \n",
              "4    21  2002   2  ...  0.00   2.50   2.50   0.00   0.00  0.0   5.00    0.00   \n",
              "5    26  1996  21  ...  0.40   0.51   0.69   0.00   0.00  0.0   2.29    2.97   \n",
              "6    29  1993  16  ...  0.58   1.92   1.15   0.00   0.00  0.0   5.38    1.54   \n",
              "7    21  2002  15  ...  0.00   1.76   0.71   0.00   0.00  0.0   4.94    0.82   \n",
              "8    22  2000  13  ...  0.28   0.83   1.11   0.00   0.00  0.0   3.75    1.53   \n",
              "9    26  1997  18  ...  0.58   1.05   0.12   0.12   0.12  0.0   5.00    0.58   \n",
              "10   20  2003  12  ...  1.00   0.75   0.50   0.00   0.00  0.0   4.25    2.00   \n",
              "11   18  2004   1  ...  0.00   0.00   5.00   0.00   0.00  0.0  10.00    0.00   \n",
              "12   28  1994  13  ...  0.12   0.00   0.47   0.00   0.00  0.0   2.44    5.81   \n",
              "13   28  1994   4  ...  0.38   0.38   0.00   0.00   0.00  0.0   5.00   10.00   \n",
              "14   30  1992  12  ...  1.43   0.00   0.71   0.00   0.00  0.0   2.86    3.93   \n",
              "15   33  1989   6  ...  0.38  10.80   0.38   0.00   0.00  0.0   5.38    0.38   \n",
              "16   19  2004   8  ...  0.57   4.29   0.86   0.29   0.00  0.0   5.14    0.29   \n",
              "17   29  1994  22  ...  0.40   0.94   1.19   0.00   0.00  0.0   5.10    0.20   \n",
              "18   19  2003   1  ...  0.00   0.00  10.00   0.00   0.00  0.0   0.00    0.00   \n",
              "19   23  2000  16  ...  0.16   1.25   0.78   0.00   0.00  0.0   2.19    0.78   \n",
              "\n",
              "    AerLost  AerWon%  \n",
              "0      1.43     50.0  \n",
              "1      3.33     20.0  \n",
              "2      1.32     24.1  \n",
              "3      2.39     51.7  \n",
              "4      0.00      0.0  \n",
              "5      5.03     37.1  \n",
              "6      3.85     28.6  \n",
              "7      0.24     77.8  \n",
              "8      2.22     40.7  \n",
              "9      1.05     35.7  \n",
              "10     4.00     33.3  \n",
              "11    15.00      0.0  \n",
              "12     3.84     60.2  \n",
              "13     7.69     56.5  \n",
              "14     5.71     40.7  \n",
              "15     0.38     50.0  \n",
              "16     2.29     11.1  \n",
              "17     0.45     30.8  \n",
              "18     0.00      0.0  \n",
              "19     1.72     31.3  \n",
              "\n",
              "[20 rows x 125 columns]"
            ]
          },
          "execution_count": 3,
          "metadata": {},
          "output_type": "execute_result"
        }
      ],
      "source": [
        "Atacante.head(20)"
      ]
    },
    {
      "attachments": {},
      "cell_type": "markdown",
      "metadata": {},
      "source": [
        "Criando uma coluna para calcular a quantidade de gols por jogo"
      ]
    },
    {
      "cell_type": "code",
      "execution_count": 4,
      "metadata": {
        "colab": {
          "base_uri": "https://localhost:8080/",
          "height": 542
        },
        "id": "r_UKnQjEhlQo",
        "outputId": "c3ed6516-8975-4fb9-cb83-41c9e023c4c4"
      },
      "outputs": [
        {
          "data": {
            "application/vnd.plotly.v1+json": {
              "config": {
                "plotlyServerURL": "https://plot.ly"
              },
              "data": [
                {
                  "alignmentgroup": "True",
                  "bingroup": "x",
                  "hovertemplate": "Player=Erling Haaland<br>GPJ=%{x}<br>count=%{y}<extra></extra>",
                  "legendgroup": "Erling Haaland",
                  "marker": {
                    "color": "#636efa",
                    "pattern": {
                      "shape": ""
                    }
                  },
                  "name": "Erling Haaland",
                  "offsetgroup": "Erling Haaland",
                  "orientation": "v",
                  "showlegend": true,
                  "type": "histogram",
                  "x": [
                    1.25
                  ],
                  "xaxis": "x",
                  "yaxis": "y"
                },
                {
                  "alignmentgroup": "True",
                  "bingroup": "x",
                  "hovertemplate": "Player=Reiss Nelson<br>GPJ=%{x}<br>count=%{y}<extra></extra>",
                  "legendgroup": "Reiss Nelson",
                  "marker": {
                    "color": "#EF553B",
                    "pattern": {
                      "shape": ""
                    }
                  },
                  "name": "Reiss Nelson",
                  "offsetgroup": "Reiss Nelson",
                  "orientation": "v",
                  "showlegend": true,
                  "type": "histogram",
                  "x": [
                    1
                  ],
                  "xaxis": "x",
                  "yaxis": "y"
                },
                {
                  "alignmentgroup": "True",
                  "bingroup": "x",
                  "hovertemplate": "Player=Cyle Larin<br>GPJ=%{x}<br>count=%{y}<extra></extra>",
                  "legendgroup": "Cyle Larin",
                  "marker": {
                    "color": "#00cc96",
                    "pattern": {
                      "shape": ""
                    }
                  },
                  "name": "Cyle Larin",
                  "offsetgroup": "Cyle Larin",
                  "orientation": "v",
                  "showlegend": true,
                  "type": "histogram",
                  "x": [
                    1
                  ],
                  "xaxis": "x",
                  "yaxis": "y"
                },
                {
                  "alignmentgroup": "True",
                  "bingroup": "x",
                  "hovertemplate": "Player=Moritz Broschinski<br>GPJ=%{x}<br>count=%{y}<extra></extra>",
                  "legendgroup": "Moritz Broschinski",
                  "marker": {
                    "color": "#ab63fa",
                    "pattern": {
                      "shape": ""
                    }
                  },
                  "name": "Moritz Broschinski",
                  "offsetgroup": "Moritz Broschinski",
                  "orientation": "v",
                  "showlegend": true,
                  "type": "histogram",
                  "x": [
                    1
                  ],
                  "xaxis": "x",
                  "yaxis": "y"
                },
                {
                  "alignmentgroup": "True",
                  "bingroup": "x",
                  "hovertemplate": "Player=Victor Osimhen<br>GPJ=%{x}<br>count=%{y}<extra></extra>",
                  "legendgroup": "Victor Osimhen",
                  "marker": {
                    "color": "#FFA15A",
                    "pattern": {
                      "shape": ""
                    }
                  },
                  "name": "Victor Osimhen",
                  "offsetgroup": "Victor Osimhen",
                  "orientation": "v",
                  "showlegend": true,
                  "type": "histogram",
                  "x": [
                    0.9411764705882353
                  ],
                  "xaxis": "x",
                  "yaxis": "y"
                },
                {
                  "alignmentgroup": "True",
                  "bingroup": "x",
                  "hovertemplate": "Player=Robert Lewandowski<br>GPJ=%{x}<br>count=%{y}<extra></extra>",
                  "legendgroup": "Robert Lewandowski",
                  "marker": {
                    "color": "#19d3f3",
                    "pattern": {
                      "shape": ""
                    }
                  },
                  "name": "Robert Lewandowski",
                  "offsetgroup": "Robert Lewandowski",
                  "orientation": "v",
                  "showlegend": true,
                  "type": "histogram",
                  "x": [
                    0.8235294117647058
                  ],
                  "xaxis": "x",
                  "yaxis": "y"
                },
                {
                  "alignmentgroup": "True",
                  "bingroup": "x",
                  "hovertemplate": "Player=Christopher Nkunku<br>GPJ=%{x}<br>count=%{y}<extra></extra>",
                  "legendgroup": "Christopher Nkunku",
                  "marker": {
                    "color": "#FF6692",
                    "pattern": {
                      "shape": ""
                    }
                  },
                  "name": "Christopher Nkunku",
                  "offsetgroup": "Christopher Nkunku",
                  "orientation": "v",
                  "showlegend": true,
                  "type": "histogram",
                  "x": [
                    0.8
                  ],
                  "xaxis": "x",
                  "yaxis": "y"
                },
                {
                  "alignmentgroup": "True",
                  "bingroup": "x",
                  "hovertemplate": "Player=Karim Benzema<br>GPJ=%{x}<br>count=%{y}<extra></extra>",
                  "legendgroup": "Karim Benzema",
                  "marker": {
                    "color": "#B6E880",
                    "pattern": {
                      "shape": ""
                    }
                  },
                  "name": "Karim Benzema",
                  "offsetgroup": "Karim Benzema",
                  "orientation": "v",
                  "showlegend": true,
                  "type": "histogram",
                  "x": [
                    0.75
                  ],
                  "xaxis": "x",
                  "yaxis": "y"
                },
                {
                  "alignmentgroup": "True",
                  "bingroup": "x",
                  "hovertemplate": "Player=Harry Kane<br>GPJ=%{x}<br>count=%{y}<extra></extra>",
                  "legendgroup": "Harry Kane",
                  "marker": {
                    "color": "#FF97FF",
                    "pattern": {
                      "shape": ""
                    }
                  },
                  "name": "Harry Kane",
                  "offsetgroup": "Harry Kane",
                  "orientation": "v",
                  "showlegend": true,
                  "type": "histogram",
                  "x": [
                    0.7391304347826086
                  ],
                  "xaxis": "x",
                  "yaxis": "y"
                },
                {
                  "alignmentgroup": "True",
                  "bingroup": "x",
                  "hovertemplate": "Player=Wissam Ben Yedder<br>GPJ=%{x}<br>count=%{y}<extra></extra>",
                  "legendgroup": "Wissam Ben Yedder",
                  "marker": {
                    "color": "#FECB52",
                    "pattern": {
                      "shape": ""
                    }
                  },
                  "name": "Wissam Ben Yedder",
                  "offsetgroup": "Wissam Ben Yedder",
                  "orientation": "v",
                  "showlegend": true,
                  "type": "histogram",
                  "x": [
                    0.7368421052631579
                  ],
                  "xaxis": "x",
                  "yaxis": "y"
                },
                {
                  "alignmentgroup": "True",
                  "bingroup": "x",
                  "hovertemplate": "Player=Ivan Toney<br>GPJ=%{x}<br>count=%{y}<extra></extra>",
                  "legendgroup": "Ivan Toney",
                  "marker": {
                    "color": "#636efa",
                    "pattern": {
                      "shape": ""
                    }
                  },
                  "name": "Ivan Toney",
                  "offsetgroup": "Ivan Toney",
                  "orientation": "v",
                  "showlegend": true,
                  "type": "histogram",
                  "x": [
                    0.7
                  ],
                  "xaxis": "x",
                  "yaxis": "y"
                },
                {
                  "alignmentgroup": "True",
                  "bingroup": "x",
                  "hovertemplate": "Player=Niclas F�llkrug<br>GPJ=%{x}<br>count=%{y}<extra></extra>",
                  "legendgroup": "Niclas F�llkrug",
                  "marker": {
                    "color": "#EF553B",
                    "pattern": {
                      "shape": ""
                    }
                  },
                  "name": "Niclas F�llkrug",
                  "offsetgroup": "Niclas F�llkrug",
                  "orientation": "v",
                  "showlegend": true,
                  "type": "histogram",
                  "x": [
                    0.6842105263157895
                  ],
                  "xaxis": "x",
                  "yaxis": "y"
                },
                {
                  "alignmentgroup": "True",
                  "bingroup": "x",
                  "hovertemplate": "Player=Kylian Mbapp�<br>GPJ=%{x}<br>count=%{y}<extra></extra>",
                  "legendgroup": "Kylian Mbapp�",
                  "marker": {
                    "color": "#00cc96",
                    "pattern": {
                      "shape": ""
                    }
                  },
                  "name": "Kylian Mbapp�",
                  "offsetgroup": "Kylian Mbapp�",
                  "orientation": "v",
                  "showlegend": true,
                  "type": "histogram",
                  "x": [
                    0.6842105263157895
                  ],
                  "xaxis": "x",
                  "yaxis": "y"
                },
                {
                  "alignmentgroup": "True",
                  "bingroup": "x",
                  "hovertemplate": "Player=Terem Moffi<br>GPJ=%{x}<br>count=%{y}<extra></extra>",
                  "legendgroup": "Terem Moffi",
                  "marker": {
                    "color": "#ab63fa",
                    "pattern": {
                      "shape": ""
                    }
                  },
                  "name": "Terem Moffi",
                  "offsetgroup": "Terem Moffi",
                  "orientation": "v",
                  "showlegend": true,
                  "type": "histogram",
                  "x": [
                    0.6666666666666666
                  ],
                  "xaxis": "x",
                  "yaxis": "y"
                },
                {
                  "alignmentgroup": "True",
                  "bingroup": "x",
                  "hovertemplate": "Player=Folarin Balogun<br>GPJ=%{x}<br>count=%{y}<extra></extra>",
                  "legendgroup": "Folarin Balogun",
                  "marker": {
                    "color": "#FFA15A",
                    "pattern": {
                      "shape": ""
                    }
                  },
                  "name": "Folarin Balogun",
                  "offsetgroup": "Folarin Balogun",
                  "orientation": "v",
                  "showlegend": true,
                  "type": "histogram",
                  "x": [
                    0.6666666666666666
                  ],
                  "xaxis": "x",
                  "yaxis": "y"
                },
                {
                  "alignmentgroup": "True",
                  "bingroup": "x",
                  "hovertemplate": "Player=Umar Sadiq<br>GPJ=%{x}<br>count=%{y}<extra></extra>",
                  "legendgroup": "Umar Sadiq",
                  "marker": {
                    "color": "#19d3f3",
                    "pattern": {
                      "shape": ""
                    }
                  },
                  "name": "Umar Sadiq",
                  "offsetgroup": "Umar Sadiq",
                  "orientation": "v",
                  "showlegend": true,
                  "type": "histogram",
                  "x": [
                    0.6666666666666666,
                    0.5
                  ],
                  "xaxis": "x",
                  "yaxis": "y"
                },
                {
                  "alignmentgroup": "True",
                  "bingroup": "x",
                  "hovertemplate": "Player=Du�an Vlahovi?<br>GPJ=%{x}<br>count=%{y}<extra></extra>",
                  "legendgroup": "Du�an Vlahovi?",
                  "marker": {
                    "color": "#FF6692",
                    "pattern": {
                      "shape": ""
                    }
                  },
                  "name": "Du�an Vlahovi?",
                  "offsetgroup": "Du�an Vlahovi?",
                  "orientation": "v",
                  "showlegend": true,
                  "type": "histogram",
                  "x": [
                    0.6666666666666666
                  ],
                  "xaxis": "x",
                  "yaxis": "y"
                },
                {
                  "alignmentgroup": "True",
                  "bingroup": "x",
                  "hovertemplate": "Player=Alexandre Lacazette<br>GPJ=%{x}<br>count=%{y}<extra></extra>",
                  "legendgroup": "Alexandre Lacazette",
                  "marker": {
                    "color": "#B6E880",
                    "pattern": {
                      "shape": ""
                    }
                  },
                  "name": "Alexandre Lacazette",
                  "offsetgroup": "Alexandre Lacazette",
                  "orientation": "v",
                  "showlegend": true,
                  "type": "histogram",
                  "x": [
                    0.5909090909090909
                  ],
                  "xaxis": "x",
                  "yaxis": "y"
                },
                {
                  "alignmentgroup": "True",
                  "bingroup": "x",
                  "hovertemplate": "Player=Vincenzo Grifo<br>GPJ=%{x}<br>count=%{y}<extra></extra>",
                  "legendgroup": "Vincenzo Grifo",
                  "marker": {
                    "color": "#FF97FF",
                    "pattern": {
                      "shape": ""
                    }
                  },
                  "name": "Vincenzo Grifo",
                  "offsetgroup": "Vincenzo Grifo",
                  "orientation": "v",
                  "showlegend": true,
                  "type": "histogram",
                  "x": [
                    0.5789473684210527
                  ],
                  "xaxis": "x",
                  "yaxis": "y"
                },
                {
                  "alignmentgroup": "True",
                  "bingroup": "x",
                  "hovertemplate": "Player=Aleksandar Mitrovi?<br>GPJ=%{x}<br>count=%{y}<extra></extra>",
                  "legendgroup": "Aleksandar Mitrovi?",
                  "marker": {
                    "color": "#FECB52",
                    "pattern": {
                      "shape": ""
                    }
                  },
                  "name": "Aleksandar Mitrovi?",
                  "offsetgroup": "Aleksandar Mitrovi?",
                  "orientation": "v",
                  "showlegend": true,
                  "type": "histogram",
                  "x": [
                    0.5789473684210527
                  ],
                  "xaxis": "x",
                  "yaxis": "y"
                },
                {
                  "alignmentgroup": "True",
                  "bingroup": "x",
                  "hovertemplate": "Player=Joselu<br>GPJ=%{x}<br>count=%{y}<extra></extra>",
                  "legendgroup": "Joselu",
                  "marker": {
                    "color": "#636efa",
                    "pattern": {
                      "shape": ""
                    }
                  },
                  "name": "Joselu",
                  "offsetgroup": "Joselu",
                  "orientation": "v",
                  "showlegend": true,
                  "type": "histogram",
                  "x": [
                    0.5789473684210527
                  ],
                  "xaxis": "x",
                  "yaxis": "y"
                },
                {
                  "alignmentgroup": "True",
                  "bingroup": "x",
                  "hovertemplate": "Player=Lautaro Mart�nez<br>GPJ=%{x}<br>count=%{y}<extra></extra>",
                  "legendgroup": "Lautaro Mart�nez",
                  "marker": {
                    "color": "#EF553B",
                    "pattern": {
                      "shape": ""
                    }
                  },
                  "name": "Lautaro Mart�nez",
                  "offsetgroup": "Lautaro Mart�nez",
                  "orientation": "v",
                  "showlegend": true,
                  "type": "histogram",
                  "x": [
                    0.5714285714285714
                  ],
                  "xaxis": "x",
                  "yaxis": "y"
                },
                {
                  "alignmentgroup": "True",
                  "bingroup": "x",
                  "hovertemplate": "Player=Ademola Lookman<br>GPJ=%{x}<br>count=%{y}<extra></extra>",
                  "legendgroup": "Ademola Lookman",
                  "marker": {
                    "color": "#00cc96",
                    "pattern": {
                      "shape": ""
                    }
                  },
                  "name": "Ademola Lookman",
                  "offsetgroup": "Ademola Lookman",
                  "orientation": "v",
                  "showlegend": true,
                  "type": "histogram",
                  "x": [
                    0.5714285714285714
                  ],
                  "xaxis": "x",
                  "yaxis": "y"
                },
                {
                  "alignmentgroup": "True",
                  "bingroup": "x",
                  "hovertemplate": "Player=Jonathan David<br>GPJ=%{x}<br>count=%{y}<extra></extra>",
                  "legendgroup": "Jonathan David",
                  "marker": {
                    "color": "#ab63fa",
                    "pattern": {
                      "shape": ""
                    }
                  },
                  "name": "Jonathan David",
                  "offsetgroup": "Jonathan David",
                  "orientation": "v",
                  "showlegend": true,
                  "type": "histogram",
                  "x": [
                    0.5714285714285714
                  ],
                  "xaxis": "x",
                  "yaxis": "y"
                },
                {
                  "alignmentgroup": "True",
                  "bingroup": "x",
                  "hovertemplate": "Player=Marko Arnautovi?<br>GPJ=%{x}<br>count=%{y}<extra></extra>",
                  "legendgroup": "Marko Arnautovi?",
                  "marker": {
                    "color": "#FFA15A",
                    "pattern": {
                      "shape": ""
                    }
                  },
                  "name": "Marko Arnautovi?",
                  "offsetgroup": "Marko Arnautovi?",
                  "orientation": "v",
                  "showlegend": true,
                  "type": "histogram",
                  "x": [
                    0.5714285714285714
                  ],
                  "xaxis": "x",
                  "yaxis": "y"
                },
                {
                  "alignmentgroup": "True",
                  "bingroup": "x",
                  "hovertemplate": "Player=Martin Terrier<br>GPJ=%{x}<br>count=%{y}<extra></extra>",
                  "legendgroup": "Martin Terrier",
                  "marker": {
                    "color": "#19d3f3",
                    "pattern": {
                      "shape": ""
                    }
                  },
                  "name": "Martin Terrier",
                  "offsetgroup": "Martin Terrier",
                  "orientation": "v",
                  "showlegend": true,
                  "type": "histogram",
                  "x": [
                    0.5625
                  ],
                  "xaxis": "x",
                  "yaxis": "y"
                },
                {
                  "alignmentgroup": "True",
                  "bingroup": "x",
                  "hovertemplate": "Player=Rodrigo<br>GPJ=%{x}<br>count=%{y}<extra></extra>",
                  "legendgroup": "Rodrigo",
                  "marker": {
                    "color": "#FF6692",
                    "pattern": {
                      "shape": ""
                    }
                  },
                  "name": "Rodrigo",
                  "offsetgroup": "Rodrigo",
                  "orientation": "v",
                  "showlegend": true,
                  "type": "histogram",
                  "x": [
                    0.5555555555555556
                  ],
                  "xaxis": "x",
                  "yaxis": "y"
                },
                {
                  "alignmentgroup": "True",
                  "bingroup": "x",
                  "hovertemplate": "Player=Marcus Thuram<br>GPJ=%{x}<br>count=%{y}<extra></extra>",
                  "legendgroup": "Marcus Thuram",
                  "marker": {
                    "color": "#B6E880",
                    "pattern": {
                      "shape": ""
                    }
                  },
                  "name": "Marcus Thuram",
                  "offsetgroup": "Marcus Thuram",
                  "orientation": "v",
                  "showlegend": true,
                  "type": "histogram",
                  "x": [
                    0.5555555555555556
                  ],
                  "xaxis": "x",
                  "yaxis": "y"
                },
                {
                  "alignmentgroup": "True",
                  "bingroup": "x",
                  "hovertemplate": "Player=Roberto Firmino<br>GPJ=%{x}<br>count=%{y}<extra></extra>",
                  "legendgroup": "Roberto Firmino",
                  "marker": {
                    "color": "#FF97FF",
                    "pattern": {
                      "shape": ""
                    }
                  },
                  "name": "Roberto Firmino",
                  "offsetgroup": "Roberto Firmino",
                  "orientation": "v",
                  "showlegend": true,
                  "type": "histogram",
                  "x": [
                    0.5384615384615384
                  ],
                  "xaxis": "x",
                  "yaxis": "y"
                },
                {
                  "alignmentgroup": "True",
                  "bingroup": "x",
                  "hovertemplate": "Player=Amine Gouiri<br>GPJ=%{x}<br>count=%{y}<extra></extra>",
                  "legendgroup": "Amine Gouiri",
                  "marker": {
                    "color": "#FECB52",
                    "pattern": {
                      "shape": ""
                    }
                  },
                  "name": "Amine Gouiri",
                  "offsetgroup": "Amine Gouiri",
                  "orientation": "v",
                  "showlegend": true,
                  "type": "histogram",
                  "x": [
                    0.5294117647058824
                  ],
                  "xaxis": "x",
                  "yaxis": "y"
                },
                {
                  "alignmentgroup": "True",
                  "bingroup": "x",
                  "hovertemplate": "Player=Breel Embolo<br>GPJ=%{x}<br>count=%{y}<extra></extra>",
                  "legendgroup": "Breel Embolo",
                  "marker": {
                    "color": "#636efa",
                    "pattern": {
                      "shape": ""
                    }
                  },
                  "name": "Breel Embolo",
                  "offsetgroup": "Breel Embolo",
                  "orientation": "v",
                  "showlegend": true,
                  "type": "histogram",
                  "x": [
                    0.5217391304347826
                  ],
                  "xaxis": "x",
                  "yaxis": "y"
                },
                {
                  "alignmentgroup": "True",
                  "bingroup": "x",
                  "hovertemplate": "Player=Tet�<br>GPJ=%{x}<br>count=%{y}<extra></extra>",
                  "legendgroup": "Tet�",
                  "marker": {
                    "color": "#EF553B",
                    "pattern": {
                      "shape": ""
                    }
                  },
                  "name": "Tet�",
                  "offsetgroup": "Tet�",
                  "orientation": "v",
                  "showlegend": true,
                  "type": "histogram",
                  "x": [
                    0.5
                  ],
                  "xaxis": "x",
                  "yaxis": "y"
                },
                {
                  "alignmentgroup": "True",
                  "bingroup": "x",
                  "hovertemplate": "Player=Randal Kolo Muani<br>GPJ=%{x}<br>count=%{y}<extra></extra>",
                  "legendgroup": "Randal Kolo Muani",
                  "marker": {
                    "color": "#00cc96",
                    "pattern": {
                      "shape": ""
                    }
                  },
                  "name": "Randal Kolo Muani",
                  "offsetgroup": "Randal Kolo Muani",
                  "orientation": "v",
                  "showlegend": true,
                  "type": "histogram",
                  "x": [
                    0.5
                  ],
                  "xaxis": "x",
                  "yaxis": "y"
                },
                {
                  "alignmentgroup": "True",
                  "bingroup": "x",
                  "hovertemplate": "Player=Memphis<br>GPJ=%{x}<br>count=%{y}<extra></extra>",
                  "legendgroup": "Memphis",
                  "marker": {
                    "color": "#ab63fa",
                    "pattern": {
                      "shape": ""
                    }
                  },
                  "name": "Memphis",
                  "offsetgroup": "Memphis",
                  "orientation": "v",
                  "showlegend": true,
                  "type": "histogram",
                  "x": [
                    0.5
                  ],
                  "xaxis": "x",
                  "yaxis": "y"
                },
                {
                  "alignmentgroup": "True",
                  "bingroup": "x",
                  "hovertemplate": "Player=Cyril Ngonge<br>GPJ=%{x}<br>count=%{y}<extra></extra>",
                  "legendgroup": "Cyril Ngonge",
                  "marker": {
                    "color": "#FFA15A",
                    "pattern": {
                      "shape": ""
                    }
                  },
                  "name": "Cyril Ngonge",
                  "offsetgroup": "Cyril Ngonge",
                  "orientation": "v",
                  "showlegend": true,
                  "type": "histogram",
                  "x": [
                    0.5
                  ],
                  "xaxis": "x",
                  "yaxis": "y"
                },
                {
                  "alignmentgroup": "True",
                  "bingroup": "x",
                  "hovertemplate": "Player=Evan Ferguson<br>GPJ=%{x}<br>count=%{y}<extra></extra>",
                  "legendgroup": "Evan Ferguson",
                  "marker": {
                    "color": "#19d3f3",
                    "pattern": {
                      "shape": ""
                    }
                  },
                  "name": "Evan Ferguson",
                  "offsetgroup": "Evan Ferguson",
                  "orientation": "v",
                  "showlegend": true,
                  "type": "histogram",
                  "x": [
                    0.5
                  ],
                  "xaxis": "x",
                  "yaxis": "y"
                },
                {
                  "alignmentgroup": "True",
                  "bingroup": "x",
                  "hovertemplate": "Player=Eric Maxim Choupo-Moting<br>GPJ=%{x}<br>count=%{y}<extra></extra>",
                  "legendgroup": "Eric Maxim Choupo-Moting",
                  "marker": {
                    "color": "#FF6692",
                    "pattern": {
                      "shape": ""
                    }
                  },
                  "name": "Eric Maxim Choupo-Moting",
                  "offsetgroup": "Eric Maxim Choupo-Moting",
                  "orientation": "v",
                  "showlegend": true,
                  "type": "histogram",
                  "x": [
                    0.5
                  ],
                  "xaxis": "x",
                  "yaxis": "y"
                },
                {
                  "alignmentgroup": "True",
                  "bingroup": "x",
                  "hovertemplate": "Player=Marcus Rashford<br>GPJ=%{x}<br>count=%{y}<extra></extra>",
                  "legendgroup": "Marcus Rashford",
                  "marker": {
                    "color": "#B6E880",
                    "pattern": {
                      "shape": ""
                    }
                  },
                  "name": "Marcus Rashford",
                  "offsetgroup": "Marcus Rashford",
                  "orientation": "v",
                  "showlegend": true,
                  "type": "histogram",
                  "x": [
                    0.5
                  ],
                  "xaxis": "x",
                  "yaxis": "y"
                },
                {
                  "alignmentgroup": "True",
                  "bingroup": "x",
                  "hovertemplate": "Player=Ga�tan Laborde<br>GPJ=%{x}<br>count=%{y}<extra></extra>",
                  "legendgroup": "Ga�tan Laborde",
                  "marker": {
                    "color": "#FF97FF",
                    "pattern": {
                      "shape": ""
                    }
                  },
                  "name": "Ga�tan Laborde",
                  "offsetgroup": "Ga�tan Laborde",
                  "orientation": "v",
                  "showlegend": true,
                  "type": "histogram",
                  "x": [
                    0.5
                  ],
                  "xaxis": "x",
                  "yaxis": "y"
                },
                {
                  "alignmentgroup": "True",
                  "bingroup": "x",
                  "hovertemplate": "Player=Janis Antiste<br>GPJ=%{x}<br>count=%{y}<extra></extra>",
                  "legendgroup": "Janis Antiste",
                  "marker": {
                    "color": "#FECB52",
                    "pattern": {
                      "shape": ""
                    }
                  },
                  "name": "Janis Antiste",
                  "offsetgroup": "Janis Antiste",
                  "orientation": "v",
                  "showlegend": true,
                  "type": "histogram",
                  "x": [
                    0.5
                  ],
                  "xaxis": "x",
                  "yaxis": "y"
                },
                {
                  "alignmentgroup": "True",
                  "bingroup": "x",
                  "hovertemplate": "Player=Sergi Guardiola<br>GPJ=%{x}<br>count=%{y}<extra></extra>",
                  "legendgroup": "Sergi Guardiola",
                  "marker": {
                    "color": "#636efa",
                    "pattern": {
                      "shape": ""
                    }
                  },
                  "name": "Sergi Guardiola",
                  "offsetgroup": "Sergi Guardiola",
                  "orientation": "v",
                  "showlegend": true,
                  "type": "histogram",
                  "x": [
                    0.5
                  ],
                  "xaxis": "x",
                  "yaxis": "y"
                },
                {
                  "alignmentgroup": "True",
                  "bingroup": "x",
                  "hovertemplate": "Player=M'Bala Nzola<br>GPJ=%{x}<br>count=%{y}<extra></extra>",
                  "legendgroup": "M'Bala Nzola",
                  "marker": {
                    "color": "#EF553B",
                    "pattern": {
                      "shape": ""
                    }
                  },
                  "name": "M'Bala Nzola",
                  "offsetgroup": "M'Bala Nzola",
                  "orientation": "v",
                  "showlegend": true,
                  "type": "histogram",
                  "x": [
                    0.5
                  ],
                  "xaxis": "x",
                  "yaxis": "y"
                },
                {
                  "alignmentgroup": "True",
                  "bingroup": "x",
                  "hovertemplate": "Player=Alexander Isak<br>GPJ=%{x}<br>count=%{y}<extra></extra>",
                  "legendgroup": "Alexander Isak",
                  "marker": {
                    "color": "#00cc96",
                    "pattern": {
                      "shape": ""
                    }
                  },
                  "name": "Alexander Isak",
                  "offsetgroup": "Alexander Isak",
                  "orientation": "v",
                  "showlegend": true,
                  "type": "histogram",
                  "x": [
                    0.5,
                    0.5
                  ],
                  "xaxis": "x",
                  "yaxis": "y"
                },
                {
                  "alignmentgroup": "True",
                  "bingroup": "x",
                  "hovertemplate": "Player=Alexander S�rloth<br>GPJ=%{x}<br>count=%{y}<extra></extra>",
                  "legendgroup": "Alexander S�rloth",
                  "marker": {
                    "color": "#ab63fa",
                    "pattern": {
                      "shape": ""
                    }
                  },
                  "name": "Alexander S�rloth",
                  "offsetgroup": "Alexander S�rloth",
                  "orientation": "v",
                  "showlegend": true,
                  "type": "histogram",
                  "x": [
                    0.5
                  ],
                  "xaxis": "x",
                  "yaxis": "y"
                },
                {
                  "alignmentgroup": "True",
                  "bingroup": "x",
                  "hovertemplate": "Player=Khvicha Kvaratskhelia<br>GPJ=%{x}<br>count=%{y}<extra></extra>",
                  "legendgroup": "Khvicha Kvaratskhelia",
                  "marker": {
                    "color": "#FFA15A",
                    "pattern": {
                      "shape": ""
                    }
                  },
                  "name": "Khvicha Kvaratskhelia",
                  "offsetgroup": "Khvicha Kvaratskhelia",
                  "orientation": "v",
                  "showlegend": true,
                  "type": "histogram",
                  "x": [
                    0.47058823529411764
                  ],
                  "xaxis": "x",
                  "yaxis": "y"
                },
                {
                  "alignmentgroup": "True",
                  "bingroup": "x",
                  "hovertemplate": "Player=Sehrou Guirassy<br>GPJ=%{x}<br>count=%{y}<extra></extra>",
                  "legendgroup": "Sehrou Guirassy",
                  "marker": {
                    "color": "#19d3f3",
                    "pattern": {
                      "shape": ""
                    }
                  },
                  "name": "Sehrou Guirassy",
                  "offsetgroup": "Sehrou Guirassy",
                  "orientation": "v",
                  "showlegend": true,
                  "type": "histogram",
                  "x": [
                    0.46153846153846156
                  ],
                  "xaxis": "x",
                  "yaxis": "y"
                },
                {
                  "alignmentgroup": "True",
                  "bingroup": "x",
                  "hovertemplate": "Player=Habib Diallo<br>GPJ=%{x}<br>count=%{y}<extra></extra>",
                  "legendgroup": "Habib Diallo",
                  "marker": {
                    "color": "#FF6692",
                    "pattern": {
                      "shape": ""
                    }
                  },
                  "name": "Habib Diallo",
                  "offsetgroup": "Habib Diallo",
                  "orientation": "v",
                  "showlegend": true,
                  "type": "histogram",
                  "x": [
                    0.45454545454545453
                  ],
                  "xaxis": "x",
                  "yaxis": "y"
                },
                {
                  "alignmentgroup": "True",
                  "bingroup": "x",
                  "hovertemplate": "Player=Miguel Almir�n<br>GPJ=%{x}<br>count=%{y}<extra></extra>",
                  "legendgroup": "Miguel Almir�n",
                  "marker": {
                    "color": "#B6E880",
                    "pattern": {
                      "shape": ""
                    }
                  },
                  "name": "Miguel Almir�n",
                  "offsetgroup": "Miguel Almir�n",
                  "orientation": "v",
                  "showlegend": true,
                  "type": "histogram",
                  "x": [
                    0.45454545454545453
                  ],
                  "xaxis": "x",
                  "yaxis": "y"
                }
              ],
              "layout": {
                "barmode": "relative",
                "legend": {
                  "title": {
                    "text": "Player"
                  },
                  "tracegroupgap": 0
                },
                "margin": {
                  "t": 60
                },
                "template": {
                  "data": {
                    "bar": [
                      {
                        "error_x": {
                          "color": "#2a3f5f"
                        },
                        "error_y": {
                          "color": "#2a3f5f"
                        },
                        "marker": {
                          "line": {
                            "color": "#E5ECF6",
                            "width": 0.5
                          },
                          "pattern": {
                            "fillmode": "overlay",
                            "size": 10,
                            "solidity": 0.2
                          }
                        },
                        "type": "bar"
                      }
                    ],
                    "barpolar": [
                      {
                        "marker": {
                          "line": {
                            "color": "#E5ECF6",
                            "width": 0.5
                          },
                          "pattern": {
                            "fillmode": "overlay",
                            "size": 10,
                            "solidity": 0.2
                          }
                        },
                        "type": "barpolar"
                      }
                    ],
                    "carpet": [
                      {
                        "aaxis": {
                          "endlinecolor": "#2a3f5f",
                          "gridcolor": "white",
                          "linecolor": "white",
                          "minorgridcolor": "white",
                          "startlinecolor": "#2a3f5f"
                        },
                        "baxis": {
                          "endlinecolor": "#2a3f5f",
                          "gridcolor": "white",
                          "linecolor": "white",
                          "minorgridcolor": "white",
                          "startlinecolor": "#2a3f5f"
                        },
                        "type": "carpet"
                      }
                    ],
                    "choropleth": [
                      {
                        "colorbar": {
                          "outlinewidth": 0,
                          "ticks": ""
                        },
                        "type": "choropleth"
                      }
                    ],
                    "contour": [
                      {
                        "colorbar": {
                          "outlinewidth": 0,
                          "ticks": ""
                        },
                        "colorscale": [
                          [
                            0,
                            "#0d0887"
                          ],
                          [
                            0.1111111111111111,
                            "#46039f"
                          ],
                          [
                            0.2222222222222222,
                            "#7201a8"
                          ],
                          [
                            0.3333333333333333,
                            "#9c179e"
                          ],
                          [
                            0.4444444444444444,
                            "#bd3786"
                          ],
                          [
                            0.5555555555555556,
                            "#d8576b"
                          ],
                          [
                            0.6666666666666666,
                            "#ed7953"
                          ],
                          [
                            0.7777777777777778,
                            "#fb9f3a"
                          ],
                          [
                            0.8888888888888888,
                            "#fdca26"
                          ],
                          [
                            1,
                            "#f0f921"
                          ]
                        ],
                        "type": "contour"
                      }
                    ],
                    "contourcarpet": [
                      {
                        "colorbar": {
                          "outlinewidth": 0,
                          "ticks": ""
                        },
                        "type": "contourcarpet"
                      }
                    ],
                    "heatmap": [
                      {
                        "colorbar": {
                          "outlinewidth": 0,
                          "ticks": ""
                        },
                        "colorscale": [
                          [
                            0,
                            "#0d0887"
                          ],
                          [
                            0.1111111111111111,
                            "#46039f"
                          ],
                          [
                            0.2222222222222222,
                            "#7201a8"
                          ],
                          [
                            0.3333333333333333,
                            "#9c179e"
                          ],
                          [
                            0.4444444444444444,
                            "#bd3786"
                          ],
                          [
                            0.5555555555555556,
                            "#d8576b"
                          ],
                          [
                            0.6666666666666666,
                            "#ed7953"
                          ],
                          [
                            0.7777777777777778,
                            "#fb9f3a"
                          ],
                          [
                            0.8888888888888888,
                            "#fdca26"
                          ],
                          [
                            1,
                            "#f0f921"
                          ]
                        ],
                        "type": "heatmap"
                      }
                    ],
                    "heatmapgl": [
                      {
                        "colorbar": {
                          "outlinewidth": 0,
                          "ticks": ""
                        },
                        "colorscale": [
                          [
                            0,
                            "#0d0887"
                          ],
                          [
                            0.1111111111111111,
                            "#46039f"
                          ],
                          [
                            0.2222222222222222,
                            "#7201a8"
                          ],
                          [
                            0.3333333333333333,
                            "#9c179e"
                          ],
                          [
                            0.4444444444444444,
                            "#bd3786"
                          ],
                          [
                            0.5555555555555556,
                            "#d8576b"
                          ],
                          [
                            0.6666666666666666,
                            "#ed7953"
                          ],
                          [
                            0.7777777777777778,
                            "#fb9f3a"
                          ],
                          [
                            0.8888888888888888,
                            "#fdca26"
                          ],
                          [
                            1,
                            "#f0f921"
                          ]
                        ],
                        "type": "heatmapgl"
                      }
                    ],
                    "histogram": [
                      {
                        "marker": {
                          "pattern": {
                            "fillmode": "overlay",
                            "size": 10,
                            "solidity": 0.2
                          }
                        },
                        "type": "histogram"
                      }
                    ],
                    "histogram2d": [
                      {
                        "colorbar": {
                          "outlinewidth": 0,
                          "ticks": ""
                        },
                        "colorscale": [
                          [
                            0,
                            "#0d0887"
                          ],
                          [
                            0.1111111111111111,
                            "#46039f"
                          ],
                          [
                            0.2222222222222222,
                            "#7201a8"
                          ],
                          [
                            0.3333333333333333,
                            "#9c179e"
                          ],
                          [
                            0.4444444444444444,
                            "#bd3786"
                          ],
                          [
                            0.5555555555555556,
                            "#d8576b"
                          ],
                          [
                            0.6666666666666666,
                            "#ed7953"
                          ],
                          [
                            0.7777777777777778,
                            "#fb9f3a"
                          ],
                          [
                            0.8888888888888888,
                            "#fdca26"
                          ],
                          [
                            1,
                            "#f0f921"
                          ]
                        ],
                        "type": "histogram2d"
                      }
                    ],
                    "histogram2dcontour": [
                      {
                        "colorbar": {
                          "outlinewidth": 0,
                          "ticks": ""
                        },
                        "colorscale": [
                          [
                            0,
                            "#0d0887"
                          ],
                          [
                            0.1111111111111111,
                            "#46039f"
                          ],
                          [
                            0.2222222222222222,
                            "#7201a8"
                          ],
                          [
                            0.3333333333333333,
                            "#9c179e"
                          ],
                          [
                            0.4444444444444444,
                            "#bd3786"
                          ],
                          [
                            0.5555555555555556,
                            "#d8576b"
                          ],
                          [
                            0.6666666666666666,
                            "#ed7953"
                          ],
                          [
                            0.7777777777777778,
                            "#fb9f3a"
                          ],
                          [
                            0.8888888888888888,
                            "#fdca26"
                          ],
                          [
                            1,
                            "#f0f921"
                          ]
                        ],
                        "type": "histogram2dcontour"
                      }
                    ],
                    "mesh3d": [
                      {
                        "colorbar": {
                          "outlinewidth": 0,
                          "ticks": ""
                        },
                        "type": "mesh3d"
                      }
                    ],
                    "parcoords": [
                      {
                        "line": {
                          "colorbar": {
                            "outlinewidth": 0,
                            "ticks": ""
                          }
                        },
                        "type": "parcoords"
                      }
                    ],
                    "pie": [
                      {
                        "automargin": true,
                        "type": "pie"
                      }
                    ],
                    "scatter": [
                      {
                        "fillpattern": {
                          "fillmode": "overlay",
                          "size": 10,
                          "solidity": 0.2
                        },
                        "type": "scatter"
                      }
                    ],
                    "scatter3d": [
                      {
                        "line": {
                          "colorbar": {
                            "outlinewidth": 0,
                            "ticks": ""
                          }
                        },
                        "marker": {
                          "colorbar": {
                            "outlinewidth": 0,
                            "ticks": ""
                          }
                        },
                        "type": "scatter3d"
                      }
                    ],
                    "scattercarpet": [
                      {
                        "marker": {
                          "colorbar": {
                            "outlinewidth": 0,
                            "ticks": ""
                          }
                        },
                        "type": "scattercarpet"
                      }
                    ],
                    "scattergeo": [
                      {
                        "marker": {
                          "colorbar": {
                            "outlinewidth": 0,
                            "ticks": ""
                          }
                        },
                        "type": "scattergeo"
                      }
                    ],
                    "scattergl": [
                      {
                        "marker": {
                          "colorbar": {
                            "outlinewidth": 0,
                            "ticks": ""
                          }
                        },
                        "type": "scattergl"
                      }
                    ],
                    "scattermapbox": [
                      {
                        "marker": {
                          "colorbar": {
                            "outlinewidth": 0,
                            "ticks": ""
                          }
                        },
                        "type": "scattermapbox"
                      }
                    ],
                    "scatterpolar": [
                      {
                        "marker": {
                          "colorbar": {
                            "outlinewidth": 0,
                            "ticks": ""
                          }
                        },
                        "type": "scatterpolar"
                      }
                    ],
                    "scatterpolargl": [
                      {
                        "marker": {
                          "colorbar": {
                            "outlinewidth": 0,
                            "ticks": ""
                          }
                        },
                        "type": "scatterpolargl"
                      }
                    ],
                    "scatterternary": [
                      {
                        "marker": {
                          "colorbar": {
                            "outlinewidth": 0,
                            "ticks": ""
                          }
                        },
                        "type": "scatterternary"
                      }
                    ],
                    "surface": [
                      {
                        "colorbar": {
                          "outlinewidth": 0,
                          "ticks": ""
                        },
                        "colorscale": [
                          [
                            0,
                            "#0d0887"
                          ],
                          [
                            0.1111111111111111,
                            "#46039f"
                          ],
                          [
                            0.2222222222222222,
                            "#7201a8"
                          ],
                          [
                            0.3333333333333333,
                            "#9c179e"
                          ],
                          [
                            0.4444444444444444,
                            "#bd3786"
                          ],
                          [
                            0.5555555555555556,
                            "#d8576b"
                          ],
                          [
                            0.6666666666666666,
                            "#ed7953"
                          ],
                          [
                            0.7777777777777778,
                            "#fb9f3a"
                          ],
                          [
                            0.8888888888888888,
                            "#fdca26"
                          ],
                          [
                            1,
                            "#f0f921"
                          ]
                        ],
                        "type": "surface"
                      }
                    ],
                    "table": [
                      {
                        "cells": {
                          "fill": {
                            "color": "#EBF0F8"
                          },
                          "line": {
                            "color": "white"
                          }
                        },
                        "header": {
                          "fill": {
                            "color": "#C8D4E3"
                          },
                          "line": {
                            "color": "white"
                          }
                        },
                        "type": "table"
                      }
                    ]
                  },
                  "layout": {
                    "annotationdefaults": {
                      "arrowcolor": "#2a3f5f",
                      "arrowhead": 0,
                      "arrowwidth": 1
                    },
                    "autotypenumbers": "strict",
                    "coloraxis": {
                      "colorbar": {
                        "outlinewidth": 0,
                        "ticks": ""
                      }
                    },
                    "colorscale": {
                      "diverging": [
                        [
                          0,
                          "#8e0152"
                        ],
                        [
                          0.1,
                          "#c51b7d"
                        ],
                        [
                          0.2,
                          "#de77ae"
                        ],
                        [
                          0.3,
                          "#f1b6da"
                        ],
                        [
                          0.4,
                          "#fde0ef"
                        ],
                        [
                          0.5,
                          "#f7f7f7"
                        ],
                        [
                          0.6,
                          "#e6f5d0"
                        ],
                        [
                          0.7,
                          "#b8e186"
                        ],
                        [
                          0.8,
                          "#7fbc41"
                        ],
                        [
                          0.9,
                          "#4d9221"
                        ],
                        [
                          1,
                          "#276419"
                        ]
                      ],
                      "sequential": [
                        [
                          0,
                          "#0d0887"
                        ],
                        [
                          0.1111111111111111,
                          "#46039f"
                        ],
                        [
                          0.2222222222222222,
                          "#7201a8"
                        ],
                        [
                          0.3333333333333333,
                          "#9c179e"
                        ],
                        [
                          0.4444444444444444,
                          "#bd3786"
                        ],
                        [
                          0.5555555555555556,
                          "#d8576b"
                        ],
                        [
                          0.6666666666666666,
                          "#ed7953"
                        ],
                        [
                          0.7777777777777778,
                          "#fb9f3a"
                        ],
                        [
                          0.8888888888888888,
                          "#fdca26"
                        ],
                        [
                          1,
                          "#f0f921"
                        ]
                      ],
                      "sequentialminus": [
                        [
                          0,
                          "#0d0887"
                        ],
                        [
                          0.1111111111111111,
                          "#46039f"
                        ],
                        [
                          0.2222222222222222,
                          "#7201a8"
                        ],
                        [
                          0.3333333333333333,
                          "#9c179e"
                        ],
                        [
                          0.4444444444444444,
                          "#bd3786"
                        ],
                        [
                          0.5555555555555556,
                          "#d8576b"
                        ],
                        [
                          0.6666666666666666,
                          "#ed7953"
                        ],
                        [
                          0.7777777777777778,
                          "#fb9f3a"
                        ],
                        [
                          0.8888888888888888,
                          "#fdca26"
                        ],
                        [
                          1,
                          "#f0f921"
                        ]
                      ]
                    },
                    "colorway": [
                      "#636efa",
                      "#EF553B",
                      "#00cc96",
                      "#ab63fa",
                      "#FFA15A",
                      "#19d3f3",
                      "#FF6692",
                      "#B6E880",
                      "#FF97FF",
                      "#FECB52"
                    ],
                    "font": {
                      "color": "#2a3f5f"
                    },
                    "geo": {
                      "bgcolor": "white",
                      "lakecolor": "white",
                      "landcolor": "#E5ECF6",
                      "showlakes": true,
                      "showland": true,
                      "subunitcolor": "white"
                    },
                    "hoverlabel": {
                      "align": "left"
                    },
                    "hovermode": "closest",
                    "mapbox": {
                      "style": "light"
                    },
                    "paper_bgcolor": "white",
                    "plot_bgcolor": "#E5ECF6",
                    "polar": {
                      "angularaxis": {
                        "gridcolor": "white",
                        "linecolor": "white",
                        "ticks": ""
                      },
                      "bgcolor": "#E5ECF6",
                      "radialaxis": {
                        "gridcolor": "white",
                        "linecolor": "white",
                        "ticks": ""
                      }
                    },
                    "scene": {
                      "xaxis": {
                        "backgroundcolor": "#E5ECF6",
                        "gridcolor": "white",
                        "gridwidth": 2,
                        "linecolor": "white",
                        "showbackground": true,
                        "ticks": "",
                        "zerolinecolor": "white"
                      },
                      "yaxis": {
                        "backgroundcolor": "#E5ECF6",
                        "gridcolor": "white",
                        "gridwidth": 2,
                        "linecolor": "white",
                        "showbackground": true,
                        "ticks": "",
                        "zerolinecolor": "white"
                      },
                      "zaxis": {
                        "backgroundcolor": "#E5ECF6",
                        "gridcolor": "white",
                        "gridwidth": 2,
                        "linecolor": "white",
                        "showbackground": true,
                        "ticks": "",
                        "zerolinecolor": "white"
                      }
                    },
                    "shapedefaults": {
                      "line": {
                        "color": "#2a3f5f"
                      }
                    },
                    "ternary": {
                      "aaxis": {
                        "gridcolor": "white",
                        "linecolor": "white",
                        "ticks": ""
                      },
                      "baxis": {
                        "gridcolor": "white",
                        "linecolor": "white",
                        "ticks": ""
                      },
                      "bgcolor": "#E5ECF6",
                      "caxis": {
                        "gridcolor": "white",
                        "linecolor": "white",
                        "ticks": ""
                      }
                    },
                    "title": {
                      "x": 0.05
                    },
                    "xaxis": {
                      "automargin": true,
                      "gridcolor": "white",
                      "linecolor": "white",
                      "ticks": "",
                      "title": {
                        "standoff": 15
                      },
                      "zerolinecolor": "white",
                      "zerolinewidth": 2
                    },
                    "yaxis": {
                      "automargin": true,
                      "gridcolor": "white",
                      "linecolor": "white",
                      "ticks": "",
                      "title": {
                        "standoff": 15
                      },
                      "zerolinecolor": "white",
                      "zerolinewidth": 2
                    }
                  }
                },
                "xaxis": {
                  "anchor": "y",
                  "domain": [
                    0,
                    1
                  ],
                  "title": {
                    "text": "GPJ"
                  }
                },
                "yaxis": {
                  "anchor": "x",
                  "domain": [
                    0,
                    1
                  ],
                  "title": {
                    "text": "count"
                  }
                }
              }
            }
          },
          "metadata": {},
          "output_type": "display_data"
        }
      ],
      "source": [
        "Atacante['GPJ'] = Atacante['Goals'] / Atacante['MP']\n",
        "Atacante.sort_values(['GPJ'], ascending = False, inplace = True)\n",
        "px.histogram(Atacante.head(50), x = \"GPJ\", color = 'Player').show()"
      ]
    },
    {
      "cell_type": "code",
      "execution_count": 5,
      "metadata": {
        "colab": {
          "base_uri": "https://localhost:8080/",
          "height": 542
        },
        "id": "zARO-xJFjeQu",
        "outputId": "0da05587-df8c-420a-ac4f-62fc32d9081d"
      },
      "outputs": [
        {
          "data": {
            "application/vnd.plotly.v1+json": {
              "config": {
                "plotlyServerURL": "https://plot.ly"
              },
              "data": [
                {
                  "alignmentgroup": "True",
                  "bingroup": "x",
                  "histfunc": "sum",
                  "hovertemplate": "Squad=Manchester City<br>Comp=%{x}<br>sum of GPJ=%{y}<extra></extra>",
                  "legendgroup": "Manchester City",
                  "marker": {
                    "color": "#636efa",
                    "pattern": {
                      "shape": ""
                    }
                  },
                  "name": "Manchester City",
                  "offsetgroup": "Manchester City",
                  "orientation": "v",
                  "showlegend": true,
                  "type": "histogram",
                  "x": [
                    "Premier League"
                  ],
                  "xaxis": "x",
                  "y": [
                    1.25
                  ],
                  "yaxis": "y"
                },
                {
                  "alignmentgroup": "True",
                  "bingroup": "x",
                  "histfunc": "sum",
                  "hovertemplate": "Squad=Arsenal<br>Comp=%{x}<br>sum of GPJ=%{y}<extra></extra>",
                  "legendgroup": "Arsenal",
                  "marker": {
                    "color": "#EF553B",
                    "pattern": {
                      "shape": ""
                    }
                  },
                  "name": "Arsenal",
                  "offsetgroup": "Arsenal",
                  "orientation": "v",
                  "showlegend": true,
                  "type": "histogram",
                  "x": [
                    "Premier League"
                  ],
                  "xaxis": "x",
                  "y": [
                    1
                  ],
                  "yaxis": "y"
                },
                {
                  "alignmentgroup": "True",
                  "bingroup": "x",
                  "histfunc": "sum",
                  "hovertemplate": "Squad=Valladolid<br>Comp=%{x}<br>sum of GPJ=%{y}<extra></extra>",
                  "legendgroup": "Valladolid",
                  "marker": {
                    "color": "#00cc96",
                    "pattern": {
                      "shape": ""
                    }
                  },
                  "name": "Valladolid",
                  "offsetgroup": "Valladolid",
                  "orientation": "v",
                  "showlegend": true,
                  "type": "histogram",
                  "x": [
                    "La Liga"
                  ],
                  "xaxis": "x",
                  "y": [
                    1
                  ],
                  "yaxis": "y"
                },
                {
                  "alignmentgroup": "True",
                  "bingroup": "x",
                  "histfunc": "sum",
                  "hovertemplate": "Squad=Bochum<br>Comp=%{x}<br>sum of GPJ=%{y}<extra></extra>",
                  "legendgroup": "Bochum",
                  "marker": {
                    "color": "#ab63fa",
                    "pattern": {
                      "shape": ""
                    }
                  },
                  "name": "Bochum",
                  "offsetgroup": "Bochum",
                  "orientation": "v",
                  "showlegend": true,
                  "type": "histogram",
                  "x": [
                    "Bundesliga"
                  ],
                  "xaxis": "x",
                  "y": [
                    1
                  ],
                  "yaxis": "y"
                },
                {
                  "alignmentgroup": "True",
                  "bingroup": "x",
                  "histfunc": "sum",
                  "hovertemplate": "Squad=Napoli<br>Comp=%{x}<br>sum of GPJ=%{y}<extra></extra>",
                  "legendgroup": "Napoli",
                  "marker": {
                    "color": "#FFA15A",
                    "pattern": {
                      "shape": ""
                    }
                  },
                  "name": "Napoli",
                  "offsetgroup": "Napoli",
                  "orientation": "v",
                  "showlegend": true,
                  "type": "histogram",
                  "x": [
                    "Serie A"
                  ],
                  "xaxis": "x",
                  "y": [
                    0.9411764705882353
                  ],
                  "yaxis": "y"
                },
                {
                  "alignmentgroup": "True",
                  "bingroup": "x",
                  "histfunc": "sum",
                  "hovertemplate": "Squad=Barcelona<br>Comp=%{x}<br>sum of GPJ=%{y}<extra></extra>",
                  "legendgroup": "Barcelona",
                  "marker": {
                    "color": "#19d3f3",
                    "pattern": {
                      "shape": ""
                    }
                  },
                  "name": "Barcelona",
                  "offsetgroup": "Barcelona",
                  "orientation": "v",
                  "showlegend": true,
                  "type": "histogram",
                  "x": [
                    "La Liga"
                  ],
                  "xaxis": "x",
                  "y": [
                    0.8235294117647058
                  ],
                  "yaxis": "y"
                },
                {
                  "alignmentgroup": "True",
                  "bingroup": "x",
                  "histfunc": "sum",
                  "hovertemplate": "Squad=RB Leipzig<br>Comp=%{x}<br>sum of GPJ=%{y}<extra></extra>",
                  "legendgroup": "RB Leipzig",
                  "marker": {
                    "color": "#FF6692",
                    "pattern": {
                      "shape": ""
                    }
                  },
                  "name": "RB Leipzig",
                  "offsetgroup": "RB Leipzig",
                  "orientation": "v",
                  "showlegend": true,
                  "type": "histogram",
                  "x": [
                    "Bundesliga"
                  ],
                  "xaxis": "x",
                  "y": [
                    0.8
                  ],
                  "yaxis": "y"
                },
                {
                  "alignmentgroup": "True",
                  "bingroup": "x",
                  "histfunc": "sum",
                  "hovertemplate": "Squad=Real Madrid<br>Comp=%{x}<br>sum of GPJ=%{y}<extra></extra>",
                  "legendgroup": "Real Madrid",
                  "marker": {
                    "color": "#B6E880",
                    "pattern": {
                      "shape": ""
                    }
                  },
                  "name": "Real Madrid",
                  "offsetgroup": "Real Madrid",
                  "orientation": "v",
                  "showlegend": true,
                  "type": "histogram",
                  "x": [
                    "La Liga"
                  ],
                  "xaxis": "x",
                  "y": [
                    0.75
                  ],
                  "yaxis": "y"
                },
                {
                  "alignmentgroup": "True",
                  "bingroup": "x",
                  "histfunc": "sum",
                  "hovertemplate": "Squad=Tottenham<br>Comp=%{x}<br>sum of GPJ=%{y}<extra></extra>",
                  "legendgroup": "Tottenham",
                  "marker": {
                    "color": "#FF97FF",
                    "pattern": {
                      "shape": ""
                    }
                  },
                  "name": "Tottenham",
                  "offsetgroup": "Tottenham",
                  "orientation": "v",
                  "showlegend": true,
                  "type": "histogram",
                  "x": [
                    "Premier League"
                  ],
                  "xaxis": "x",
                  "y": [
                    0.7391304347826086
                  ],
                  "yaxis": "y"
                },
                {
                  "alignmentgroup": "True",
                  "bingroup": "x",
                  "histfunc": "sum",
                  "hovertemplate": "Squad=Monaco<br>Comp=%{x}<br>sum of GPJ=%{y}<extra></extra>",
                  "legendgroup": "Monaco",
                  "marker": {
                    "color": "#FECB52",
                    "pattern": {
                      "shape": ""
                    }
                  },
                  "name": "Monaco",
                  "offsetgroup": "Monaco",
                  "orientation": "v",
                  "showlegend": true,
                  "type": "histogram",
                  "x": [
                    "Ligue 1"
                  ],
                  "xaxis": "x",
                  "y": [
                    0.7368421052631579
                  ],
                  "yaxis": "y"
                },
                {
                  "alignmentgroup": "True",
                  "bingroup": "x",
                  "histfunc": "sum",
                  "hovertemplate": "Squad=Brentford<br>Comp=%{x}<br>sum of GPJ=%{y}<extra></extra>",
                  "legendgroup": "Brentford",
                  "marker": {
                    "color": "#636efa",
                    "pattern": {
                      "shape": ""
                    }
                  },
                  "name": "Brentford",
                  "offsetgroup": "Brentford",
                  "orientation": "v",
                  "showlegend": true,
                  "type": "histogram",
                  "x": [
                    "Premier League"
                  ],
                  "xaxis": "x",
                  "y": [
                    0.7
                  ],
                  "yaxis": "y"
                },
                {
                  "alignmentgroup": "True",
                  "bingroup": "x",
                  "histfunc": "sum",
                  "hovertemplate": "Squad=Werder Bremen<br>Comp=%{x}<br>sum of GPJ=%{y}<extra></extra>",
                  "legendgroup": "Werder Bremen",
                  "marker": {
                    "color": "#EF553B",
                    "pattern": {
                      "shape": ""
                    }
                  },
                  "name": "Werder Bremen",
                  "offsetgroup": "Werder Bremen",
                  "orientation": "v",
                  "showlegend": true,
                  "type": "histogram",
                  "x": [
                    "Bundesliga"
                  ],
                  "xaxis": "x",
                  "y": [
                    0.6842105263157895
                  ],
                  "yaxis": "y"
                },
                {
                  "alignmentgroup": "True",
                  "bingroup": "x",
                  "histfunc": "sum",
                  "hovertemplate": "Squad=Paris S-G<br>Comp=%{x}<br>sum of GPJ=%{y}<extra></extra>",
                  "legendgroup": "Paris S-G",
                  "marker": {
                    "color": "#00cc96",
                    "pattern": {
                      "shape": ""
                    }
                  },
                  "name": "Paris S-G",
                  "offsetgroup": "Paris S-G",
                  "orientation": "v",
                  "showlegend": true,
                  "type": "histogram",
                  "x": [
                    "Ligue 1"
                  ],
                  "xaxis": "x",
                  "y": [
                    0.6842105263157895
                  ],
                  "yaxis": "y"
                },
                {
                  "alignmentgroup": "True",
                  "bingroup": "x",
                  "histfunc": "sum",
                  "hovertemplate": "Squad=Lorient<br>Comp=%{x}<br>sum of GPJ=%{y}<extra></extra>",
                  "legendgroup": "Lorient",
                  "marker": {
                    "color": "#ab63fa",
                    "pattern": {
                      "shape": ""
                    }
                  },
                  "name": "Lorient",
                  "offsetgroup": "Lorient",
                  "orientation": "v",
                  "showlegend": true,
                  "type": "histogram",
                  "x": [
                    "Ligue 1"
                  ],
                  "xaxis": "x",
                  "y": [
                    0.6666666666666666
                  ],
                  "yaxis": "y"
                },
                {
                  "alignmentgroup": "True",
                  "bingroup": "x",
                  "histfunc": "sum",
                  "hovertemplate": "Squad=Reims<br>Comp=%{x}<br>sum of GPJ=%{y}<extra></extra>",
                  "legendgroup": "Reims",
                  "marker": {
                    "color": "#FFA15A",
                    "pattern": {
                      "shape": ""
                    }
                  },
                  "name": "Reims",
                  "offsetgroup": "Reims",
                  "orientation": "v",
                  "showlegend": true,
                  "type": "histogram",
                  "x": [
                    "Ligue 1"
                  ],
                  "xaxis": "x",
                  "y": [
                    0.6666666666666666
                  ],
                  "yaxis": "y"
                },
                {
                  "alignmentgroup": "True",
                  "bingroup": "x",
                  "histfunc": "sum",
                  "hovertemplate": "Squad=Almer�a<br>Comp=%{x}<br>sum of GPJ=%{y}<extra></extra>",
                  "legendgroup": "Almer�a",
                  "marker": {
                    "color": "#19d3f3",
                    "pattern": {
                      "shape": ""
                    }
                  },
                  "name": "Almer�a",
                  "offsetgroup": "Almer�a",
                  "orientation": "v",
                  "showlegend": true,
                  "type": "histogram",
                  "x": [
                    "La Liga"
                  ],
                  "xaxis": "x",
                  "y": [
                    0.6666666666666666
                  ],
                  "yaxis": "y"
                },
                {
                  "alignmentgroup": "True",
                  "bingroup": "x",
                  "histfunc": "sum",
                  "hovertemplate": "Squad=Juventus<br>Comp=%{x}<br>sum of GPJ=%{y}<extra></extra>",
                  "legendgroup": "Juventus",
                  "marker": {
                    "color": "#FF6692",
                    "pattern": {
                      "shape": ""
                    }
                  },
                  "name": "Juventus",
                  "offsetgroup": "Juventus",
                  "orientation": "v",
                  "showlegend": true,
                  "type": "histogram",
                  "x": [
                    "Serie A"
                  ],
                  "xaxis": "x",
                  "y": [
                    0.6666666666666666
                  ],
                  "yaxis": "y"
                },
                {
                  "alignmentgroup": "True",
                  "bingroup": "x",
                  "histfunc": "sum",
                  "hovertemplate": "Squad=Lyon<br>Comp=%{x}<br>sum of GPJ=%{y}<extra></extra>",
                  "legendgroup": "Lyon",
                  "marker": {
                    "color": "#B6E880",
                    "pattern": {
                      "shape": ""
                    }
                  },
                  "name": "Lyon",
                  "offsetgroup": "Lyon",
                  "orientation": "v",
                  "showlegend": true,
                  "type": "histogram",
                  "x": [
                    "Ligue 1"
                  ],
                  "xaxis": "x",
                  "y": [
                    0.5909090909090909
                  ],
                  "yaxis": "y"
                },
                {
                  "alignmentgroup": "True",
                  "bingroup": "x",
                  "histfunc": "sum",
                  "hovertemplate": "Squad=Freiburg<br>Comp=%{x}<br>sum of GPJ=%{y}<extra></extra>",
                  "legendgroup": "Freiburg",
                  "marker": {
                    "color": "#FF97FF",
                    "pattern": {
                      "shape": ""
                    }
                  },
                  "name": "Freiburg",
                  "offsetgroup": "Freiburg",
                  "orientation": "v",
                  "showlegend": true,
                  "type": "histogram",
                  "x": [
                    "Bundesliga"
                  ],
                  "xaxis": "x",
                  "y": [
                    0.5789473684210527
                  ],
                  "yaxis": "y"
                },
                {
                  "alignmentgroup": "True",
                  "bingroup": "x",
                  "histfunc": "sum",
                  "hovertemplate": "Squad=Fulham<br>Comp=%{x}<br>sum of GPJ=%{y}<extra></extra>",
                  "legendgroup": "Fulham",
                  "marker": {
                    "color": "#FECB52",
                    "pattern": {
                      "shape": ""
                    }
                  },
                  "name": "Fulham",
                  "offsetgroup": "Fulham",
                  "orientation": "v",
                  "showlegend": true,
                  "type": "histogram",
                  "x": [
                    "Premier League"
                  ],
                  "xaxis": "x",
                  "y": [
                    0.5789473684210527
                  ],
                  "yaxis": "y"
                }
              ],
              "layout": {
                "barmode": "relative",
                "legend": {
                  "title": {
                    "text": "Squad"
                  },
                  "tracegroupgap": 0
                },
                "margin": {
                  "t": 60
                },
                "template": {
                  "data": {
                    "bar": [
                      {
                        "error_x": {
                          "color": "#2a3f5f"
                        },
                        "error_y": {
                          "color": "#2a3f5f"
                        },
                        "marker": {
                          "line": {
                            "color": "#E5ECF6",
                            "width": 0.5
                          },
                          "pattern": {
                            "fillmode": "overlay",
                            "size": 10,
                            "solidity": 0.2
                          }
                        },
                        "type": "bar"
                      }
                    ],
                    "barpolar": [
                      {
                        "marker": {
                          "line": {
                            "color": "#E5ECF6",
                            "width": 0.5
                          },
                          "pattern": {
                            "fillmode": "overlay",
                            "size": 10,
                            "solidity": 0.2
                          }
                        },
                        "type": "barpolar"
                      }
                    ],
                    "carpet": [
                      {
                        "aaxis": {
                          "endlinecolor": "#2a3f5f",
                          "gridcolor": "white",
                          "linecolor": "white",
                          "minorgridcolor": "white",
                          "startlinecolor": "#2a3f5f"
                        },
                        "baxis": {
                          "endlinecolor": "#2a3f5f",
                          "gridcolor": "white",
                          "linecolor": "white",
                          "minorgridcolor": "white",
                          "startlinecolor": "#2a3f5f"
                        },
                        "type": "carpet"
                      }
                    ],
                    "choropleth": [
                      {
                        "colorbar": {
                          "outlinewidth": 0,
                          "ticks": ""
                        },
                        "type": "choropleth"
                      }
                    ],
                    "contour": [
                      {
                        "colorbar": {
                          "outlinewidth": 0,
                          "ticks": ""
                        },
                        "colorscale": [
                          [
                            0,
                            "#0d0887"
                          ],
                          [
                            0.1111111111111111,
                            "#46039f"
                          ],
                          [
                            0.2222222222222222,
                            "#7201a8"
                          ],
                          [
                            0.3333333333333333,
                            "#9c179e"
                          ],
                          [
                            0.4444444444444444,
                            "#bd3786"
                          ],
                          [
                            0.5555555555555556,
                            "#d8576b"
                          ],
                          [
                            0.6666666666666666,
                            "#ed7953"
                          ],
                          [
                            0.7777777777777778,
                            "#fb9f3a"
                          ],
                          [
                            0.8888888888888888,
                            "#fdca26"
                          ],
                          [
                            1,
                            "#f0f921"
                          ]
                        ],
                        "type": "contour"
                      }
                    ],
                    "contourcarpet": [
                      {
                        "colorbar": {
                          "outlinewidth": 0,
                          "ticks": ""
                        },
                        "type": "contourcarpet"
                      }
                    ],
                    "heatmap": [
                      {
                        "colorbar": {
                          "outlinewidth": 0,
                          "ticks": ""
                        },
                        "colorscale": [
                          [
                            0,
                            "#0d0887"
                          ],
                          [
                            0.1111111111111111,
                            "#46039f"
                          ],
                          [
                            0.2222222222222222,
                            "#7201a8"
                          ],
                          [
                            0.3333333333333333,
                            "#9c179e"
                          ],
                          [
                            0.4444444444444444,
                            "#bd3786"
                          ],
                          [
                            0.5555555555555556,
                            "#d8576b"
                          ],
                          [
                            0.6666666666666666,
                            "#ed7953"
                          ],
                          [
                            0.7777777777777778,
                            "#fb9f3a"
                          ],
                          [
                            0.8888888888888888,
                            "#fdca26"
                          ],
                          [
                            1,
                            "#f0f921"
                          ]
                        ],
                        "type": "heatmap"
                      }
                    ],
                    "heatmapgl": [
                      {
                        "colorbar": {
                          "outlinewidth": 0,
                          "ticks": ""
                        },
                        "colorscale": [
                          [
                            0,
                            "#0d0887"
                          ],
                          [
                            0.1111111111111111,
                            "#46039f"
                          ],
                          [
                            0.2222222222222222,
                            "#7201a8"
                          ],
                          [
                            0.3333333333333333,
                            "#9c179e"
                          ],
                          [
                            0.4444444444444444,
                            "#bd3786"
                          ],
                          [
                            0.5555555555555556,
                            "#d8576b"
                          ],
                          [
                            0.6666666666666666,
                            "#ed7953"
                          ],
                          [
                            0.7777777777777778,
                            "#fb9f3a"
                          ],
                          [
                            0.8888888888888888,
                            "#fdca26"
                          ],
                          [
                            1,
                            "#f0f921"
                          ]
                        ],
                        "type": "heatmapgl"
                      }
                    ],
                    "histogram": [
                      {
                        "marker": {
                          "pattern": {
                            "fillmode": "overlay",
                            "size": 10,
                            "solidity": 0.2
                          }
                        },
                        "type": "histogram"
                      }
                    ],
                    "histogram2d": [
                      {
                        "colorbar": {
                          "outlinewidth": 0,
                          "ticks": ""
                        },
                        "colorscale": [
                          [
                            0,
                            "#0d0887"
                          ],
                          [
                            0.1111111111111111,
                            "#46039f"
                          ],
                          [
                            0.2222222222222222,
                            "#7201a8"
                          ],
                          [
                            0.3333333333333333,
                            "#9c179e"
                          ],
                          [
                            0.4444444444444444,
                            "#bd3786"
                          ],
                          [
                            0.5555555555555556,
                            "#d8576b"
                          ],
                          [
                            0.6666666666666666,
                            "#ed7953"
                          ],
                          [
                            0.7777777777777778,
                            "#fb9f3a"
                          ],
                          [
                            0.8888888888888888,
                            "#fdca26"
                          ],
                          [
                            1,
                            "#f0f921"
                          ]
                        ],
                        "type": "histogram2d"
                      }
                    ],
                    "histogram2dcontour": [
                      {
                        "colorbar": {
                          "outlinewidth": 0,
                          "ticks": ""
                        },
                        "colorscale": [
                          [
                            0,
                            "#0d0887"
                          ],
                          [
                            0.1111111111111111,
                            "#46039f"
                          ],
                          [
                            0.2222222222222222,
                            "#7201a8"
                          ],
                          [
                            0.3333333333333333,
                            "#9c179e"
                          ],
                          [
                            0.4444444444444444,
                            "#bd3786"
                          ],
                          [
                            0.5555555555555556,
                            "#d8576b"
                          ],
                          [
                            0.6666666666666666,
                            "#ed7953"
                          ],
                          [
                            0.7777777777777778,
                            "#fb9f3a"
                          ],
                          [
                            0.8888888888888888,
                            "#fdca26"
                          ],
                          [
                            1,
                            "#f0f921"
                          ]
                        ],
                        "type": "histogram2dcontour"
                      }
                    ],
                    "mesh3d": [
                      {
                        "colorbar": {
                          "outlinewidth": 0,
                          "ticks": ""
                        },
                        "type": "mesh3d"
                      }
                    ],
                    "parcoords": [
                      {
                        "line": {
                          "colorbar": {
                            "outlinewidth": 0,
                            "ticks": ""
                          }
                        },
                        "type": "parcoords"
                      }
                    ],
                    "pie": [
                      {
                        "automargin": true,
                        "type": "pie"
                      }
                    ],
                    "scatter": [
                      {
                        "fillpattern": {
                          "fillmode": "overlay",
                          "size": 10,
                          "solidity": 0.2
                        },
                        "type": "scatter"
                      }
                    ],
                    "scatter3d": [
                      {
                        "line": {
                          "colorbar": {
                            "outlinewidth": 0,
                            "ticks": ""
                          }
                        },
                        "marker": {
                          "colorbar": {
                            "outlinewidth": 0,
                            "ticks": ""
                          }
                        },
                        "type": "scatter3d"
                      }
                    ],
                    "scattercarpet": [
                      {
                        "marker": {
                          "colorbar": {
                            "outlinewidth": 0,
                            "ticks": ""
                          }
                        },
                        "type": "scattercarpet"
                      }
                    ],
                    "scattergeo": [
                      {
                        "marker": {
                          "colorbar": {
                            "outlinewidth": 0,
                            "ticks": ""
                          }
                        },
                        "type": "scattergeo"
                      }
                    ],
                    "scattergl": [
                      {
                        "marker": {
                          "colorbar": {
                            "outlinewidth": 0,
                            "ticks": ""
                          }
                        },
                        "type": "scattergl"
                      }
                    ],
                    "scattermapbox": [
                      {
                        "marker": {
                          "colorbar": {
                            "outlinewidth": 0,
                            "ticks": ""
                          }
                        },
                        "type": "scattermapbox"
                      }
                    ],
                    "scatterpolar": [
                      {
                        "marker": {
                          "colorbar": {
                            "outlinewidth": 0,
                            "ticks": ""
                          }
                        },
                        "type": "scatterpolar"
                      }
                    ],
                    "scatterpolargl": [
                      {
                        "marker": {
                          "colorbar": {
                            "outlinewidth": 0,
                            "ticks": ""
                          }
                        },
                        "type": "scatterpolargl"
                      }
                    ],
                    "scatterternary": [
                      {
                        "marker": {
                          "colorbar": {
                            "outlinewidth": 0,
                            "ticks": ""
                          }
                        },
                        "type": "scatterternary"
                      }
                    ],
                    "surface": [
                      {
                        "colorbar": {
                          "outlinewidth": 0,
                          "ticks": ""
                        },
                        "colorscale": [
                          [
                            0,
                            "#0d0887"
                          ],
                          [
                            0.1111111111111111,
                            "#46039f"
                          ],
                          [
                            0.2222222222222222,
                            "#7201a8"
                          ],
                          [
                            0.3333333333333333,
                            "#9c179e"
                          ],
                          [
                            0.4444444444444444,
                            "#bd3786"
                          ],
                          [
                            0.5555555555555556,
                            "#d8576b"
                          ],
                          [
                            0.6666666666666666,
                            "#ed7953"
                          ],
                          [
                            0.7777777777777778,
                            "#fb9f3a"
                          ],
                          [
                            0.8888888888888888,
                            "#fdca26"
                          ],
                          [
                            1,
                            "#f0f921"
                          ]
                        ],
                        "type": "surface"
                      }
                    ],
                    "table": [
                      {
                        "cells": {
                          "fill": {
                            "color": "#EBF0F8"
                          },
                          "line": {
                            "color": "white"
                          }
                        },
                        "header": {
                          "fill": {
                            "color": "#C8D4E3"
                          },
                          "line": {
                            "color": "white"
                          }
                        },
                        "type": "table"
                      }
                    ]
                  },
                  "layout": {
                    "annotationdefaults": {
                      "arrowcolor": "#2a3f5f",
                      "arrowhead": 0,
                      "arrowwidth": 1
                    },
                    "autotypenumbers": "strict",
                    "coloraxis": {
                      "colorbar": {
                        "outlinewidth": 0,
                        "ticks": ""
                      }
                    },
                    "colorscale": {
                      "diverging": [
                        [
                          0,
                          "#8e0152"
                        ],
                        [
                          0.1,
                          "#c51b7d"
                        ],
                        [
                          0.2,
                          "#de77ae"
                        ],
                        [
                          0.3,
                          "#f1b6da"
                        ],
                        [
                          0.4,
                          "#fde0ef"
                        ],
                        [
                          0.5,
                          "#f7f7f7"
                        ],
                        [
                          0.6,
                          "#e6f5d0"
                        ],
                        [
                          0.7,
                          "#b8e186"
                        ],
                        [
                          0.8,
                          "#7fbc41"
                        ],
                        [
                          0.9,
                          "#4d9221"
                        ],
                        [
                          1,
                          "#276419"
                        ]
                      ],
                      "sequential": [
                        [
                          0,
                          "#0d0887"
                        ],
                        [
                          0.1111111111111111,
                          "#46039f"
                        ],
                        [
                          0.2222222222222222,
                          "#7201a8"
                        ],
                        [
                          0.3333333333333333,
                          "#9c179e"
                        ],
                        [
                          0.4444444444444444,
                          "#bd3786"
                        ],
                        [
                          0.5555555555555556,
                          "#d8576b"
                        ],
                        [
                          0.6666666666666666,
                          "#ed7953"
                        ],
                        [
                          0.7777777777777778,
                          "#fb9f3a"
                        ],
                        [
                          0.8888888888888888,
                          "#fdca26"
                        ],
                        [
                          1,
                          "#f0f921"
                        ]
                      ],
                      "sequentialminus": [
                        [
                          0,
                          "#0d0887"
                        ],
                        [
                          0.1111111111111111,
                          "#46039f"
                        ],
                        [
                          0.2222222222222222,
                          "#7201a8"
                        ],
                        [
                          0.3333333333333333,
                          "#9c179e"
                        ],
                        [
                          0.4444444444444444,
                          "#bd3786"
                        ],
                        [
                          0.5555555555555556,
                          "#d8576b"
                        ],
                        [
                          0.6666666666666666,
                          "#ed7953"
                        ],
                        [
                          0.7777777777777778,
                          "#fb9f3a"
                        ],
                        [
                          0.8888888888888888,
                          "#fdca26"
                        ],
                        [
                          1,
                          "#f0f921"
                        ]
                      ]
                    },
                    "colorway": [
                      "#636efa",
                      "#EF553B",
                      "#00cc96",
                      "#ab63fa",
                      "#FFA15A",
                      "#19d3f3",
                      "#FF6692",
                      "#B6E880",
                      "#FF97FF",
                      "#FECB52"
                    ],
                    "font": {
                      "color": "#2a3f5f"
                    },
                    "geo": {
                      "bgcolor": "white",
                      "lakecolor": "white",
                      "landcolor": "#E5ECF6",
                      "showlakes": true,
                      "showland": true,
                      "subunitcolor": "white"
                    },
                    "hoverlabel": {
                      "align": "left"
                    },
                    "hovermode": "closest",
                    "mapbox": {
                      "style": "light"
                    },
                    "paper_bgcolor": "white",
                    "plot_bgcolor": "#E5ECF6",
                    "polar": {
                      "angularaxis": {
                        "gridcolor": "white",
                        "linecolor": "white",
                        "ticks": ""
                      },
                      "bgcolor": "#E5ECF6",
                      "radialaxis": {
                        "gridcolor": "white",
                        "linecolor": "white",
                        "ticks": ""
                      }
                    },
                    "scene": {
                      "xaxis": {
                        "backgroundcolor": "#E5ECF6",
                        "gridcolor": "white",
                        "gridwidth": 2,
                        "linecolor": "white",
                        "showbackground": true,
                        "ticks": "",
                        "zerolinecolor": "white"
                      },
                      "yaxis": {
                        "backgroundcolor": "#E5ECF6",
                        "gridcolor": "white",
                        "gridwidth": 2,
                        "linecolor": "white",
                        "showbackground": true,
                        "ticks": "",
                        "zerolinecolor": "white"
                      },
                      "zaxis": {
                        "backgroundcolor": "#E5ECF6",
                        "gridcolor": "white",
                        "gridwidth": 2,
                        "linecolor": "white",
                        "showbackground": true,
                        "ticks": "",
                        "zerolinecolor": "white"
                      }
                    },
                    "shapedefaults": {
                      "line": {
                        "color": "#2a3f5f"
                      }
                    },
                    "ternary": {
                      "aaxis": {
                        "gridcolor": "white",
                        "linecolor": "white",
                        "ticks": ""
                      },
                      "baxis": {
                        "gridcolor": "white",
                        "linecolor": "white",
                        "ticks": ""
                      },
                      "bgcolor": "#E5ECF6",
                      "caxis": {
                        "gridcolor": "white",
                        "linecolor": "white",
                        "ticks": ""
                      }
                    },
                    "title": {
                      "x": 0.05
                    },
                    "xaxis": {
                      "automargin": true,
                      "gridcolor": "white",
                      "linecolor": "white",
                      "ticks": "",
                      "title": {
                        "standoff": 15
                      },
                      "zerolinecolor": "white",
                      "zerolinewidth": 2
                    },
                    "yaxis": {
                      "automargin": true,
                      "gridcolor": "white",
                      "linecolor": "white",
                      "ticks": "",
                      "title": {
                        "standoff": 15
                      },
                      "zerolinecolor": "white",
                      "zerolinewidth": 2
                    }
                  }
                },
                "xaxis": {
                  "anchor": "y",
                  "domain": [
                    0,
                    1
                  ],
                  "title": {
                    "text": "Comp"
                  }
                },
                "yaxis": {
                  "anchor": "x",
                  "domain": [
                    0,
                    1
                  ],
                  "title": {
                    "text": "sum of GPJ"
                  }
                }
              }
            }
          },
          "metadata": {},
          "output_type": "display_data"
        }
      ],
      "source": [
        "px.histogram(Atacante.head(20), x = \"Comp\", y = 'GPJ', color = \"Squad\").show()"
      ]
    },
    {
      "attachments": {},
      "cell_type": "markdown",
      "metadata": {},
      "source": [
        "Criando um script de score"
      ]
    },
    {
      "cell_type": "code",
      "execution_count": 6,
      "metadata": {
        "id": "GC9sscLzo5mb"
      },
      "outputs": [],
      "source": [
        "positivos = Atacante['Goals'] * 4  + Atacante['Assists'] * 2 + Atacante['MP'] * 3 + Atacante['Starts'] + Atacante['AerWon'] + Atacante['Crs']\n",
        "negativos = (Atacante['Shots'] - Atacante['Goals']) * 3 + Atacante['PasOff'] "
      ]
    },
    {
      "cell_type": "code",
      "execution_count": 7,
      "metadata": {
        "colab": {
          "base_uri": "https://localhost:8080/",
          "height": 206
        },
        "id": "LjeU311ylaZo",
        "outputId": "324a85cc-9853-47df-a1a6-62dd0c0895c3"
      },
      "outputs": [
        {
          "data": {
            "text/html": [
              "<div>\n",
              "<style scoped>\n",
              "    .dataframe tbody tr th:only-of-type {\n",
              "        vertical-align: middle;\n",
              "    }\n",
              "\n",
              "    .dataframe tbody tr th {\n",
              "        vertical-align: top;\n",
              "    }\n",
              "\n",
              "    .dataframe thead th {\n",
              "        text-align: right;\n",
              "    }\n",
              "</style>\n",
              "<table border=\"1\" class=\"dataframe\">\n",
              "  <thead>\n",
              "    <tr style=\"text-align: right;\">\n",
              "      <th></th>\n",
              "      <th>Player</th>\n",
              "      <th>Pos</th>\n",
              "      <th>score</th>\n",
              "    </tr>\n",
              "  </thead>\n",
              "  <tbody>\n",
              "    <tr>\n",
              "      <th>263</th>\n",
              "      <td>Erling Haaland</td>\n",
              "      <td>FW</td>\n",
              "      <td>244.19</td>\n",
              "    </tr>\n",
              "    <tr>\n",
              "      <th>326</th>\n",
              "      <td>Harry Kane</td>\n",
              "      <td>FW</td>\n",
              "      <td>203.06</td>\n",
              "    </tr>\n",
              "    <tr>\n",
              "      <th>628</th>\n",
              "      <td>Ivan Toney</td>\n",
              "      <td>FW</td>\n",
              "      <td>174.29</td>\n",
              "    </tr>\n",
              "    <tr>\n",
              "      <th>355</th>\n",
              "      <td>Alexandre Lacazette</td>\n",
              "      <td>FW</td>\n",
              "      <td>172.79</td>\n",
              "    </tr>\n",
              "    <tr>\n",
              "      <th>44</th>\n",
              "      <td>Folarin Balogun</td>\n",
              "      <td>FW</td>\n",
              "      <td>170.15</td>\n",
              "    </tr>\n",
              "  </tbody>\n",
              "</table>\n",
              "</div>"
            ],
            "text/plain": [
              "                  Player Pos   score\n",
              "263       Erling Haaland  FW  244.19\n",
              "326           Harry Kane  FW  203.06\n",
              "628           Ivan Toney  FW  174.29\n",
              "355  Alexandre Lacazette  FW  172.79\n",
              "44       Folarin Balogun  FW  170.15"
            ]
          },
          "execution_count": 7,
          "metadata": {},
          "output_type": "execute_result"
        }
      ],
      "source": [
        "Atacante['score'] = positivos - negativos\n",
        "Atacante.sort_values(['score'], ascending = False, inplace = True)\n",
        "Atacante[['Player', 'Pos','score']].head()"
      ]
    },
    {
      "cell_type": "code",
      "execution_count": 8,
      "metadata": {
        "colab": {
          "base_uri": "https://localhost:8080/",
          "height": 542
        },
        "id": "zho7ecTawbT4",
        "outputId": "e50465bc-12f0-41d6-96c9-466ea59540a8"
      },
      "outputs": [
        {
          "data": {
            "application/vnd.plotly.v1+json": {
              "config": {
                "plotlyServerURL": "https://plot.ly"
              },
              "data": [
                {
                  "alignmentgroup": "True",
                  "bingroup": "x",
                  "hovertemplate": "score=%{x}<br>count=%{y}<extra></extra>",
                  "legendgroup": "",
                  "marker": {
                    "color": "#636efa",
                    "pattern": {
                      "shape": ""
                    }
                  },
                  "name": "",
                  "offsetgroup": "",
                  "orientation": "v",
                  "showlegend": false,
                  "type": "histogram",
                  "x": [
                    244.19,
                    203.05999999999997,
                    174.29000000000002,
                    172.79,
                    170.15,
                    168.56,
                    165.56000000000003,
                    165.35999999999999,
                    164.01999999999998,
                    158.40000000000003,
                    158.14,
                    156.17999999999998,
                    155.69000000000003,
                    154.34,
                    154.13000000000002,
                    152.16,
                    151.99999999999997,
                    149.8,
                    149.48,
                    148.81,
                    145.33,
                    136.56,
                    136.21,
                    136.01,
                    135.95999999999998,
                    135.46,
                    134.52,
                    133.61,
                    132.42,
                    132.32,
                    132.32,
                    131.2,
                    131.16,
                    130.89,
                    130.04000000000002,
                    129.81,
                    129.14,
                    128.83,
                    128.07999999999998,
                    127.85000000000001,
                    127.22999999999999,
                    126.18,
                    126,
                    125.61999999999999,
                    125.41,
                    124.02,
                    123.91,
                    123.57,
                    123.03999999999999,
                    122.07,
                    122.02,
                    121,
                    120.73,
                    120.58,
                    120.51,
                    119.71999999999998,
                    119.56,
                    119.5,
                    119.33999999999997,
                    119,
                    118.10000000000001,
                    117.73,
                    117.2,
                    116.19999999999999,
                    116.07,
                    115.86,
                    115.41,
                    115.05,
                    114.86999999999999,
                    114.81,
                    113.53999999999999,
                    113.3,
                    113.26,
                    112.43,
                    111.74,
                    111.43,
                    111.00999999999999,
                    110.65999999999998,
                    110.6,
                    109.71,
                    109.62,
                    109.54,
                    109.53,
                    109.34,
                    108.75,
                    108.34,
                    108.08,
                    108.07,
                    107.92,
                    107.58000000000001,
                    107.20000000000002,
                    106.46000000000001,
                    106.33999999999999,
                    105.83,
                    105.77,
                    105.53999999999999,
                    103.98999999999998,
                    103.97,
                    103.53000000000002,
                    103.08000000000001,
                    101.85,
                    101.77,
                    100.87999999999998,
                    100.81,
                    100.74999999999999,
                    100.43,
                    99.97000000000001,
                    99.91999999999999,
                    99.78999999999998,
                    99.58999999999999,
                    99.55000000000003,
                    98.86,
                    98.01,
                    97.76,
                    97.52000000000001,
                    97.26,
                    96.95,
                    96.54,
                    95.86,
                    95.61000000000001,
                    95.56,
                    95.56,
                    95.26,
                    95.25,
                    94.95,
                    94.71000000000001,
                    94.68,
                    94.66999999999999,
                    94.3,
                    94.04999999999998,
                    93.77,
                    93.63999999999999,
                    93.48,
                    93.25,
                    92.94999999999999,
                    92.49000000000001,
                    92.21,
                    91.94,
                    91.61,
                    91.3,
                    90.89,
                    90.39,
                    90.00999999999999,
                    89.47999999999999,
                    89.27000000000001,
                    89.14,
                    89.01,
                    88.29,
                    88.17,
                    87.61,
                    87.59,
                    87.47999999999999,
                    87.42999999999999,
                    87.41999999999999,
                    87.04,
                    87,
                    86.73,
                    86.59000000000002,
                    86.41,
                    86.37999999999998,
                    85.92000000000002,
                    85.86,
                    85.85,
                    85.49,
                    85.4,
                    85.34,
                    85.07999999999998,
                    84.68,
                    84.57000000000001,
                    84.43999999999998,
                    84.38,
                    84.1,
                    83.41999999999999,
                    83.11999999999999,
                    83.10000000000001,
                    82.91,
                    82.86999999999999,
                    82.83999999999999,
                    82.76,
                    82.53000000000002,
                    82.51,
                    82.31000000000002,
                    82.27000000000001,
                    82.18,
                    82.14000000000001,
                    81.97999999999999,
                    81.86000000000001,
                    81.80000000000003,
                    81.8,
                    81.21000000000001,
                    81.19,
                    80.82,
                    80.67000000000002,
                    80.53,
                    80.24,
                    80.02999999999999,
                    79.57,
                    79.18,
                    78.92999999999999,
                    78.83,
                    78.44999999999999,
                    78.35000000000001,
                    77.8,
                    77.32,
                    77.27,
                    76.68,
                    76.48,
                    76.39,
                    76.36,
                    76.3,
                    76.22,
                    76.04999999999998,
                    75.99,
                    75.97,
                    75.88000000000001,
                    75.63,
                    75.57000000000001,
                    75.43000000000002,
                    75.06000000000002,
                    74.88000000000001,
                    74.6,
                    74.4,
                    74.39,
                    74.22999999999999,
                    74.12,
                    73.73,
                    73.66,
                    73.50000000000001,
                    73.5,
                    73.41999999999999,
                    73.41,
                    73.27,
                    72.94,
                    72.92,
                    72.88,
                    72.32,
                    72.27,
                    72.08,
                    71.84,
                    71.81,
                    71.8,
                    71.63000000000001,
                    71.6,
                    71.54,
                    71.39999999999999,
                    71.36999999999999,
                    71.15,
                    70.91,
                    70.63999999999999,
                    70.19999999999999,
                    70.12999999999998,
                    70.12,
                    69.96999999999998,
                    69.31999999999998,
                    69.08000000000001,
                    69.05,
                    69.04999999999998,
                    68.95,
                    68.85999999999999,
                    68.72,
                    68.67,
                    68.48,
                    67.9,
                    67.58,
                    67.33,
                    66.8,
                    66.57,
                    66.28,
                    66.14999999999999,
                    66.1,
                    66.08,
                    65.98,
                    65.55,
                    65.47999999999999,
                    65.25,
                    65.19,
                    64.91,
                    64.58,
                    64.36000000000001,
                    64.25999999999999,
                    63.03999999999999,
                    62.760000000000005,
                    62.73,
                    62.68,
                    62.650000000000006,
                    62.60000000000001,
                    62.489999999999995,
                    62.239999999999995,
                    62.09,
                    61.629999999999995,
                    61.55,
                    61.30000000000001,
                    61,
                    60.980000000000004,
                    60.75,
                    60.269999999999996,
                    60.07,
                    60.029999999999994,
                    60.02,
                    59.82000000000001,
                    59.550000000000004,
                    59.42,
                    59.21000000000001,
                    58.97,
                    58.959999999999994,
                    58.900000000000006,
                    58.65,
                    58.6,
                    57.71,
                    57.650000000000006,
                    56.32,
                    56.220000000000006,
                    56,
                    55.99,
                    55.81,
                    54.89,
                    54.730000000000004,
                    54.53,
                    53.830000000000005,
                    53.779999999999994,
                    53.38,
                    53.080000000000005,
                    52.78,
                    52.77,
                    52.71000000000001,
                    52.62,
                    52.56,
                    52.45,
                    52.27,
                    52.21,
                    52.17,
                    52,
                    52,
                    51.34,
                    51.27,
                    51.21,
                    51.2,
                    51.18000000000001,
                    50.190000000000005,
                    49.87,
                    49.830000000000005,
                    49.769999999999996,
                    49.64,
                    49.589999999999996,
                    49.480000000000004,
                    48.980000000000004,
                    48.900000000000006,
                    48.68,
                    48.510000000000005,
                    48.019999999999996,
                    47.63,
                    47.440000000000005,
                    47.39999999999999,
                    47.3,
                    47.2,
                    47.08,
                    47,
                    46.970000000000006,
                    46.88,
                    46.739999999999995,
                    46.699999999999996,
                    46.46,
                    46.459999999999994,
                    46.11,
                    46.089999999999996,
                    45.85,
                    45.53,
                    45.129999999999995,
                    45,
                    44.89,
                    44.67999999999999,
                    44.339999999999996,
                    44.28,
                    43.78,
                    42.910000000000004,
                    42.85,
                    42.75,
                    42.64,
                    42.63,
                    42.3,
                    42.269999999999996,
                    42.18000000000001,
                    42.080000000000005,
                    41.95,
                    41.690000000000005,
                    41.69,
                    41.5,
                    41.5,
                    40.7,
                    40.6,
                    40.57,
                    39.5,
                    39.3,
                    39.06,
                    38.72,
                    38.6,
                    38.559999999999995,
                    38.55,
                    38.42999999999999,
                    38.300000000000004,
                    38.06,
                    38.01,
                    37.559999999999995,
                    37.17,
                    37.04,
                    37,
                    36.81999999999999,
                    36.57,
                    36.54,
                    36.5,
                    36,
                    35.71999999999999,
                    35.059999999999995,
                    34.97,
                    34.54,
                    34.49,
                    34.46,
                    34.29,
                    34.269999999999996,
                    34.160000000000004,
                    33.8,
                    33.790000000000006,
                    33.69,
                    33.25,
                    32.71,
                    32.38,
                    32.28,
                    32.24,
                    32.15,
                    32,
                    31.870000000000005,
                    31.55,
                    31.25,
                    31.180000000000007,
                    30.679999999999993,
                    30.21,
                    30.09,
                    30.07,
                    29.509999999999998,
                    29.470000000000002,
                    29.29,
                    29.049999999999997,
                    29,
                    28.999999999999993,
                    28.510000000000005,
                    28.5,
                    28.32,
                    28.31,
                    28.27,
                    27.91,
                    27.540000000000006,
                    27.5,
                    27.5,
                    26.75,
                    26.23,
                    26.150000000000006,
                    26.12,
                    26,
                    26,
                    25.2,
                    25.18,
                    24.72,
                    24.64,
                    24.56,
                    24.37,
                    24.36,
                    23.93,
                    23.900000000000002,
                    23.840000000000003,
                    23.009999999999998,
                    22,
                    22,
                    21.93,
                    21.660000000000004,
                    21.35,
                    21.340000000000003,
                    21.29,
                    21.11,
                    20.86,
                    20.459999999999997,
                    20.450000000000003,
                    20.42,
                    20,
                    19.94,
                    19.89,
                    19.68,
                    19.6,
                    19.349999999999998,
                    19.34,
                    19.34,
                    18.990000000000002,
                    18.8,
                    18.67,
                    18.6,
                    17.919999999999998,
                    17.839999999999996,
                    17.619999999999997,
                    17.56,
                    17.299999999999997,
                    17.15,
                    17,
                    16.989999999999995,
                    16.67,
                    16.34,
                    16.32,
                    16.19,
                    16,
                    16,
                    15.91,
                    15.78,
                    15.67,
                    15.49,
                    15.319999999999999,
                    15.22,
                    15.05,
                    15.01,
                    15,
                    14.86,
                    14.679999999999996,
                    14.620000000000001,
                    14.45,
                    14.33,
                    14.090000000000002,
                    14,
                    14,
                    13.889999999999997,
                    13.839999999999998,
                    13.540000000000001,
                    13.509999999999998,
                    13.34,
                    13.080000000000002,
                    13.000000000000002,
                    13,
                    13,
                    13,
                    13,
                    12.920000000000002,
                    12.89,
                    12.65,
                    12.28,
                    12.000000000000002,
                    12,
                    11.889999999999997,
                    11.61,
                    11.419999999999998,
                    11.32,
                    11,
                    11,
                    11,
                    11,
                    10.57,
                    10.5,
                    10.41,
                    10.34,
                    10.309999999999999,
                    10,
                    10,
                    10,
                    9.75,
                    9.740000000000002,
                    9.67,
                    9.33,
                    9.33,
                    9.33,
                    8.84,
                    8.82,
                    8.8,
                    8.75,
                    8.649999999999999,
                    8.5,
                    8.34,
                    8.339999999999998,
                    8.33,
                    8,
                    8,
                    8,
                    8,
                    8,
                    7.99,
                    7.369999999999999,
                    7.3199999999999985,
                    7.3,
                    7.27,
                    7,
                    7,
                    7,
                    7,
                    6.9,
                    6.859999999999999,
                    6.75,
                    6.68,
                    6.279999999999999,
                    6,
                    6,
                    6,
                    6,
                    6,
                    6,
                    6,
                    5.859999999999999,
                    5.68,
                    5.68,
                    5.5,
                    5.449999999999999,
                    5.32,
                    5.32,
                    5.23,
                    5,
                    4.99,
                    4.32,
                    3.5500000000000007,
                    3.17,
                    3,
                    3,
                    3,
                    3,
                    3,
                    3,
                    3,
                    3,
                    3,
                    3,
                    3,
                    3,
                    3,
                    3,
                    3,
                    3,
                    3,
                    3,
                    3,
                    3,
                    3,
                    3,
                    3,
                    3,
                    3,
                    3,
                    3,
                    3,
                    3,
                    3,
                    3,
                    3,
                    2.709999999999999,
                    1.9900000000000002,
                    1.7699999999999996,
                    1.7300000000000004,
                    1.6099999999999994,
                    1.5,
                    1,
                    1,
                    0.6799999999999997,
                    0.34999999999999964,
                    0,
                    -0.5300000000000011,
                    -0.6600000000000001,
                    -1,
                    -1.5,
                    -2,
                    -2,
                    -3,
                    -3,
                    -3.99,
                    -3.99,
                    -4,
                    -5.67,
                    -5.739999999999998,
                    -7,
                    -7,
                    -8,
                    -9,
                    -9,
                    -9,
                    -10.339999999999998,
                    -12,
                    -12,
                    -21.5,
                    -27,
                    -27,
                    -27,
                    -27,
                    -35
                  ],
                  "xaxis": "x",
                  "yaxis": "y"
                }
              ],
              "layout": {
                "barmode": "relative",
                "legend": {
                  "tracegroupgap": 0
                },
                "margin": {
                  "t": 60
                },
                "template": {
                  "data": {
                    "bar": [
                      {
                        "error_x": {
                          "color": "#2a3f5f"
                        },
                        "error_y": {
                          "color": "#2a3f5f"
                        },
                        "marker": {
                          "line": {
                            "color": "#E5ECF6",
                            "width": 0.5
                          },
                          "pattern": {
                            "fillmode": "overlay",
                            "size": 10,
                            "solidity": 0.2
                          }
                        },
                        "type": "bar"
                      }
                    ],
                    "barpolar": [
                      {
                        "marker": {
                          "line": {
                            "color": "#E5ECF6",
                            "width": 0.5
                          },
                          "pattern": {
                            "fillmode": "overlay",
                            "size": 10,
                            "solidity": 0.2
                          }
                        },
                        "type": "barpolar"
                      }
                    ],
                    "carpet": [
                      {
                        "aaxis": {
                          "endlinecolor": "#2a3f5f",
                          "gridcolor": "white",
                          "linecolor": "white",
                          "minorgridcolor": "white",
                          "startlinecolor": "#2a3f5f"
                        },
                        "baxis": {
                          "endlinecolor": "#2a3f5f",
                          "gridcolor": "white",
                          "linecolor": "white",
                          "minorgridcolor": "white",
                          "startlinecolor": "#2a3f5f"
                        },
                        "type": "carpet"
                      }
                    ],
                    "choropleth": [
                      {
                        "colorbar": {
                          "outlinewidth": 0,
                          "ticks": ""
                        },
                        "type": "choropleth"
                      }
                    ],
                    "contour": [
                      {
                        "colorbar": {
                          "outlinewidth": 0,
                          "ticks": ""
                        },
                        "colorscale": [
                          [
                            0,
                            "#0d0887"
                          ],
                          [
                            0.1111111111111111,
                            "#46039f"
                          ],
                          [
                            0.2222222222222222,
                            "#7201a8"
                          ],
                          [
                            0.3333333333333333,
                            "#9c179e"
                          ],
                          [
                            0.4444444444444444,
                            "#bd3786"
                          ],
                          [
                            0.5555555555555556,
                            "#d8576b"
                          ],
                          [
                            0.6666666666666666,
                            "#ed7953"
                          ],
                          [
                            0.7777777777777778,
                            "#fb9f3a"
                          ],
                          [
                            0.8888888888888888,
                            "#fdca26"
                          ],
                          [
                            1,
                            "#f0f921"
                          ]
                        ],
                        "type": "contour"
                      }
                    ],
                    "contourcarpet": [
                      {
                        "colorbar": {
                          "outlinewidth": 0,
                          "ticks": ""
                        },
                        "type": "contourcarpet"
                      }
                    ],
                    "heatmap": [
                      {
                        "colorbar": {
                          "outlinewidth": 0,
                          "ticks": ""
                        },
                        "colorscale": [
                          [
                            0,
                            "#0d0887"
                          ],
                          [
                            0.1111111111111111,
                            "#46039f"
                          ],
                          [
                            0.2222222222222222,
                            "#7201a8"
                          ],
                          [
                            0.3333333333333333,
                            "#9c179e"
                          ],
                          [
                            0.4444444444444444,
                            "#bd3786"
                          ],
                          [
                            0.5555555555555556,
                            "#d8576b"
                          ],
                          [
                            0.6666666666666666,
                            "#ed7953"
                          ],
                          [
                            0.7777777777777778,
                            "#fb9f3a"
                          ],
                          [
                            0.8888888888888888,
                            "#fdca26"
                          ],
                          [
                            1,
                            "#f0f921"
                          ]
                        ],
                        "type": "heatmap"
                      }
                    ],
                    "heatmapgl": [
                      {
                        "colorbar": {
                          "outlinewidth": 0,
                          "ticks": ""
                        },
                        "colorscale": [
                          [
                            0,
                            "#0d0887"
                          ],
                          [
                            0.1111111111111111,
                            "#46039f"
                          ],
                          [
                            0.2222222222222222,
                            "#7201a8"
                          ],
                          [
                            0.3333333333333333,
                            "#9c179e"
                          ],
                          [
                            0.4444444444444444,
                            "#bd3786"
                          ],
                          [
                            0.5555555555555556,
                            "#d8576b"
                          ],
                          [
                            0.6666666666666666,
                            "#ed7953"
                          ],
                          [
                            0.7777777777777778,
                            "#fb9f3a"
                          ],
                          [
                            0.8888888888888888,
                            "#fdca26"
                          ],
                          [
                            1,
                            "#f0f921"
                          ]
                        ],
                        "type": "heatmapgl"
                      }
                    ],
                    "histogram": [
                      {
                        "marker": {
                          "pattern": {
                            "fillmode": "overlay",
                            "size": 10,
                            "solidity": 0.2
                          }
                        },
                        "type": "histogram"
                      }
                    ],
                    "histogram2d": [
                      {
                        "colorbar": {
                          "outlinewidth": 0,
                          "ticks": ""
                        },
                        "colorscale": [
                          [
                            0,
                            "#0d0887"
                          ],
                          [
                            0.1111111111111111,
                            "#46039f"
                          ],
                          [
                            0.2222222222222222,
                            "#7201a8"
                          ],
                          [
                            0.3333333333333333,
                            "#9c179e"
                          ],
                          [
                            0.4444444444444444,
                            "#bd3786"
                          ],
                          [
                            0.5555555555555556,
                            "#d8576b"
                          ],
                          [
                            0.6666666666666666,
                            "#ed7953"
                          ],
                          [
                            0.7777777777777778,
                            "#fb9f3a"
                          ],
                          [
                            0.8888888888888888,
                            "#fdca26"
                          ],
                          [
                            1,
                            "#f0f921"
                          ]
                        ],
                        "type": "histogram2d"
                      }
                    ],
                    "histogram2dcontour": [
                      {
                        "colorbar": {
                          "outlinewidth": 0,
                          "ticks": ""
                        },
                        "colorscale": [
                          [
                            0,
                            "#0d0887"
                          ],
                          [
                            0.1111111111111111,
                            "#46039f"
                          ],
                          [
                            0.2222222222222222,
                            "#7201a8"
                          ],
                          [
                            0.3333333333333333,
                            "#9c179e"
                          ],
                          [
                            0.4444444444444444,
                            "#bd3786"
                          ],
                          [
                            0.5555555555555556,
                            "#d8576b"
                          ],
                          [
                            0.6666666666666666,
                            "#ed7953"
                          ],
                          [
                            0.7777777777777778,
                            "#fb9f3a"
                          ],
                          [
                            0.8888888888888888,
                            "#fdca26"
                          ],
                          [
                            1,
                            "#f0f921"
                          ]
                        ],
                        "type": "histogram2dcontour"
                      }
                    ],
                    "mesh3d": [
                      {
                        "colorbar": {
                          "outlinewidth": 0,
                          "ticks": ""
                        },
                        "type": "mesh3d"
                      }
                    ],
                    "parcoords": [
                      {
                        "line": {
                          "colorbar": {
                            "outlinewidth": 0,
                            "ticks": ""
                          }
                        },
                        "type": "parcoords"
                      }
                    ],
                    "pie": [
                      {
                        "automargin": true,
                        "type": "pie"
                      }
                    ],
                    "scatter": [
                      {
                        "fillpattern": {
                          "fillmode": "overlay",
                          "size": 10,
                          "solidity": 0.2
                        },
                        "type": "scatter"
                      }
                    ],
                    "scatter3d": [
                      {
                        "line": {
                          "colorbar": {
                            "outlinewidth": 0,
                            "ticks": ""
                          }
                        },
                        "marker": {
                          "colorbar": {
                            "outlinewidth": 0,
                            "ticks": ""
                          }
                        },
                        "type": "scatter3d"
                      }
                    ],
                    "scattercarpet": [
                      {
                        "marker": {
                          "colorbar": {
                            "outlinewidth": 0,
                            "ticks": ""
                          }
                        },
                        "type": "scattercarpet"
                      }
                    ],
                    "scattergeo": [
                      {
                        "marker": {
                          "colorbar": {
                            "outlinewidth": 0,
                            "ticks": ""
                          }
                        },
                        "type": "scattergeo"
                      }
                    ],
                    "scattergl": [
                      {
                        "marker": {
                          "colorbar": {
                            "outlinewidth": 0,
                            "ticks": ""
                          }
                        },
                        "type": "scattergl"
                      }
                    ],
                    "scattermapbox": [
                      {
                        "marker": {
                          "colorbar": {
                            "outlinewidth": 0,
                            "ticks": ""
                          }
                        },
                        "type": "scattermapbox"
                      }
                    ],
                    "scatterpolar": [
                      {
                        "marker": {
                          "colorbar": {
                            "outlinewidth": 0,
                            "ticks": ""
                          }
                        },
                        "type": "scatterpolar"
                      }
                    ],
                    "scatterpolargl": [
                      {
                        "marker": {
                          "colorbar": {
                            "outlinewidth": 0,
                            "ticks": ""
                          }
                        },
                        "type": "scatterpolargl"
                      }
                    ],
                    "scatterternary": [
                      {
                        "marker": {
                          "colorbar": {
                            "outlinewidth": 0,
                            "ticks": ""
                          }
                        },
                        "type": "scatterternary"
                      }
                    ],
                    "surface": [
                      {
                        "colorbar": {
                          "outlinewidth": 0,
                          "ticks": ""
                        },
                        "colorscale": [
                          [
                            0,
                            "#0d0887"
                          ],
                          [
                            0.1111111111111111,
                            "#46039f"
                          ],
                          [
                            0.2222222222222222,
                            "#7201a8"
                          ],
                          [
                            0.3333333333333333,
                            "#9c179e"
                          ],
                          [
                            0.4444444444444444,
                            "#bd3786"
                          ],
                          [
                            0.5555555555555556,
                            "#d8576b"
                          ],
                          [
                            0.6666666666666666,
                            "#ed7953"
                          ],
                          [
                            0.7777777777777778,
                            "#fb9f3a"
                          ],
                          [
                            0.8888888888888888,
                            "#fdca26"
                          ],
                          [
                            1,
                            "#f0f921"
                          ]
                        ],
                        "type": "surface"
                      }
                    ],
                    "table": [
                      {
                        "cells": {
                          "fill": {
                            "color": "#EBF0F8"
                          },
                          "line": {
                            "color": "white"
                          }
                        },
                        "header": {
                          "fill": {
                            "color": "#C8D4E3"
                          },
                          "line": {
                            "color": "white"
                          }
                        },
                        "type": "table"
                      }
                    ]
                  },
                  "layout": {
                    "annotationdefaults": {
                      "arrowcolor": "#2a3f5f",
                      "arrowhead": 0,
                      "arrowwidth": 1
                    },
                    "autotypenumbers": "strict",
                    "coloraxis": {
                      "colorbar": {
                        "outlinewidth": 0,
                        "ticks": ""
                      }
                    },
                    "colorscale": {
                      "diverging": [
                        [
                          0,
                          "#8e0152"
                        ],
                        [
                          0.1,
                          "#c51b7d"
                        ],
                        [
                          0.2,
                          "#de77ae"
                        ],
                        [
                          0.3,
                          "#f1b6da"
                        ],
                        [
                          0.4,
                          "#fde0ef"
                        ],
                        [
                          0.5,
                          "#f7f7f7"
                        ],
                        [
                          0.6,
                          "#e6f5d0"
                        ],
                        [
                          0.7,
                          "#b8e186"
                        ],
                        [
                          0.8,
                          "#7fbc41"
                        ],
                        [
                          0.9,
                          "#4d9221"
                        ],
                        [
                          1,
                          "#276419"
                        ]
                      ],
                      "sequential": [
                        [
                          0,
                          "#0d0887"
                        ],
                        [
                          0.1111111111111111,
                          "#46039f"
                        ],
                        [
                          0.2222222222222222,
                          "#7201a8"
                        ],
                        [
                          0.3333333333333333,
                          "#9c179e"
                        ],
                        [
                          0.4444444444444444,
                          "#bd3786"
                        ],
                        [
                          0.5555555555555556,
                          "#d8576b"
                        ],
                        [
                          0.6666666666666666,
                          "#ed7953"
                        ],
                        [
                          0.7777777777777778,
                          "#fb9f3a"
                        ],
                        [
                          0.8888888888888888,
                          "#fdca26"
                        ],
                        [
                          1,
                          "#f0f921"
                        ]
                      ],
                      "sequentialminus": [
                        [
                          0,
                          "#0d0887"
                        ],
                        [
                          0.1111111111111111,
                          "#46039f"
                        ],
                        [
                          0.2222222222222222,
                          "#7201a8"
                        ],
                        [
                          0.3333333333333333,
                          "#9c179e"
                        ],
                        [
                          0.4444444444444444,
                          "#bd3786"
                        ],
                        [
                          0.5555555555555556,
                          "#d8576b"
                        ],
                        [
                          0.6666666666666666,
                          "#ed7953"
                        ],
                        [
                          0.7777777777777778,
                          "#fb9f3a"
                        ],
                        [
                          0.8888888888888888,
                          "#fdca26"
                        ],
                        [
                          1,
                          "#f0f921"
                        ]
                      ]
                    },
                    "colorway": [
                      "#636efa",
                      "#EF553B",
                      "#00cc96",
                      "#ab63fa",
                      "#FFA15A",
                      "#19d3f3",
                      "#FF6692",
                      "#B6E880",
                      "#FF97FF",
                      "#FECB52"
                    ],
                    "font": {
                      "color": "#2a3f5f"
                    },
                    "geo": {
                      "bgcolor": "white",
                      "lakecolor": "white",
                      "landcolor": "#E5ECF6",
                      "showlakes": true,
                      "showland": true,
                      "subunitcolor": "white"
                    },
                    "hoverlabel": {
                      "align": "left"
                    },
                    "hovermode": "closest",
                    "mapbox": {
                      "style": "light"
                    },
                    "paper_bgcolor": "white",
                    "plot_bgcolor": "#E5ECF6",
                    "polar": {
                      "angularaxis": {
                        "gridcolor": "white",
                        "linecolor": "white",
                        "ticks": ""
                      },
                      "bgcolor": "#E5ECF6",
                      "radialaxis": {
                        "gridcolor": "white",
                        "linecolor": "white",
                        "ticks": ""
                      }
                    },
                    "scene": {
                      "xaxis": {
                        "backgroundcolor": "#E5ECF6",
                        "gridcolor": "white",
                        "gridwidth": 2,
                        "linecolor": "white",
                        "showbackground": true,
                        "ticks": "",
                        "zerolinecolor": "white"
                      },
                      "yaxis": {
                        "backgroundcolor": "#E5ECF6",
                        "gridcolor": "white",
                        "gridwidth": 2,
                        "linecolor": "white",
                        "showbackground": true,
                        "ticks": "",
                        "zerolinecolor": "white"
                      },
                      "zaxis": {
                        "backgroundcolor": "#E5ECF6",
                        "gridcolor": "white",
                        "gridwidth": 2,
                        "linecolor": "white",
                        "showbackground": true,
                        "ticks": "",
                        "zerolinecolor": "white"
                      }
                    },
                    "shapedefaults": {
                      "line": {
                        "color": "#2a3f5f"
                      }
                    },
                    "ternary": {
                      "aaxis": {
                        "gridcolor": "white",
                        "linecolor": "white",
                        "ticks": ""
                      },
                      "baxis": {
                        "gridcolor": "white",
                        "linecolor": "white",
                        "ticks": ""
                      },
                      "bgcolor": "#E5ECF6",
                      "caxis": {
                        "gridcolor": "white",
                        "linecolor": "white",
                        "ticks": ""
                      }
                    },
                    "title": {
                      "x": 0.05
                    },
                    "xaxis": {
                      "automargin": true,
                      "gridcolor": "white",
                      "linecolor": "white",
                      "ticks": "",
                      "title": {
                        "standoff": 15
                      },
                      "zerolinecolor": "white",
                      "zerolinewidth": 2
                    },
                    "yaxis": {
                      "automargin": true,
                      "gridcolor": "white",
                      "linecolor": "white",
                      "ticks": "",
                      "title": {
                        "standoff": 15
                      },
                      "zerolinecolor": "white",
                      "zerolinewidth": 2
                    }
                  }
                },
                "xaxis": {
                  "anchor": "y",
                  "domain": [
                    0,
                    1
                  ],
                  "title": {
                    "text": "score"
                  }
                },
                "yaxis": {
                  "anchor": "x",
                  "domain": [
                    0,
                    1
                  ],
                  "title": {
                    "text": "count"
                  }
                }
              }
            }
          },
          "metadata": {},
          "output_type": "display_data"
        }
      ],
      "source": [
        "px.histogram(Atacante, x='score').show()"
      ]
    },
    {
      "attachments": {},
      "cell_type": "markdown",
      "metadata": {},
      "source": [
        "Criando um Classificador "
      ]
    },
    {
      "cell_type": "code",
      "execution_count": 9,
      "metadata": {
        "colab": {
          "base_uri": "https://localhost:8080/"
        },
        "id": "qTPyqEiaw_Xm",
        "outputId": "c010f2db-877b-44cd-81c4-aa2a1381e58e"
      },
      "outputs": [
        {
          "name": "stdout",
          "output_type": "stream",
          "text": [
            "desvio de 43.48529598012125\n",
            "media de 54.581859443631025\n"
          ]
        }
      ],
      "source": [
        "dev = Atacante['score'].std()\n",
        "media = Atacante['score'].mean()\n",
        "print(f'desvio de {dev}\\nmedia de {media}')"
      ]
    },
    {
      "cell_type": "code",
      "execution_count": 12,
      "metadata": {
        "id": "X3lRynuuxSze"
      },
      "outputs": [],
      "source": [
        "bom = media + dev * 2\n",
        "normal = media  + dev\n",
        "fraco = media - dev\n",
        "muito_fraco = media - dev * 2"
      ]
    },
    {
      "cell_type": "code",
      "execution_count": 10,
      "metadata": {
        "id": "jCibECFRswqa"
      },
      "outputs": [],
      "source": [
        "def assign_grade(score):\n",
        "    if score > bom:\n",
        "        return 'Excelente'\n",
        "    elif score > normal:\n",
        "        return 'Bom'\n",
        "    elif score > fraco:\n",
        "        return 'Mediano'\n",
        "    elif score > muito_fraco:\n",
        "        return 'Ruim'\n",
        "    else:\n",
        "        return 'Muito_ruim'"
      ]
    },
    {
      "cell_type": "code",
      "execution_count": 13,
      "metadata": {
        "id": "Ua6mSHfjttkw"
      },
      "outputs": [],
      "source": [
        "Atacante['Desempenho'] = Atacante['score'].apply(assign_grade)"
      ]
    },
    {
      "cell_type": "code",
      "execution_count": 18,
      "metadata": {
        "colab": {
          "base_uri": "https://localhost:8080/",
          "height": 542
        },
        "id": "t0vBYhJyt3uz",
        "outputId": "7347a5bd-266b-4f8d-c947-f673341e844e"
      },
      "outputs": [
        {
          "data": {
            "application/vnd.plotly.v1+json": {
              "config": {
                "plotlyServerURL": "https://plot.ly"
              },
              "data": [
                {
                  "alignmentgroup": "True",
                  "bingroup": "x",
                  "hovertemplate": "Desempenho=%{x}<br>count=%{y}<extra></extra>",
                  "legendgroup": "",
                  "marker": {
                    "color": "#636efa",
                    "pattern": {
                      "shape": ""
                    }
                  },
                  "name": "",
                  "offsetgroup": "",
                  "orientation": "v",
                  "showlegend": false,
                  "type": "histogram",
                  "x": [
                    "Excelente",
                    "Excelente",
                    "Excelente",
                    "Excelente",
                    "Excelente",
                    "Excelente",
                    "Excelente",
                    "Excelente",
                    "Excelente",
                    "Excelente",
                    "Excelente",
                    "Excelente",
                    "Excelente",
                    "Excelente",
                    "Excelente",
                    "Excelente",
                    "Excelente",
                    "Excelente",
                    "Excelente",
                    "Excelente",
                    "Excelente",
                    "Bom",
                    "Bom",
                    "Bom",
                    "Bom",
                    "Bom",
                    "Bom",
                    "Bom",
                    "Bom",
                    "Bom",
                    "Bom",
                    "Bom",
                    "Bom",
                    "Bom",
                    "Bom",
                    "Bom",
                    "Bom",
                    "Bom",
                    "Bom",
                    "Bom",
                    "Bom",
                    "Bom",
                    "Bom",
                    "Bom",
                    "Bom",
                    "Bom",
                    "Bom",
                    "Bom",
                    "Bom",
                    "Bom",
                    "Bom",
                    "Bom",
                    "Bom",
                    "Bom",
                    "Bom",
                    "Bom",
                    "Bom",
                    "Bom",
                    "Bom",
                    "Bom",
                    "Bom",
                    "Bom",
                    "Bom",
                    "Bom",
                    "Bom",
                    "Bom",
                    "Bom",
                    "Bom",
                    "Bom",
                    "Bom",
                    "Bom",
                    "Bom",
                    "Bom",
                    "Bom",
                    "Bom",
                    "Bom",
                    "Bom",
                    "Bom",
                    "Bom",
                    "Bom",
                    "Bom",
                    "Bom",
                    "Bom",
                    "Bom",
                    "Bom",
                    "Bom",
                    "Bom",
                    "Bom",
                    "Bom",
                    "Bom",
                    "Bom",
                    "Bom",
                    "Bom",
                    "Bom",
                    "Bom",
                    "Bom",
                    "Bom",
                    "Bom",
                    "Bom",
                    "Bom",
                    "Bom",
                    "Bom",
                    "Bom",
                    "Bom",
                    "Bom",
                    "Bom",
                    "Bom",
                    "Bom",
                    "Bom",
                    "Bom",
                    "Bom",
                    "Mediano",
                    "Mediano",
                    "Mediano",
                    "Mediano",
                    "Mediano",
                    "Mediano",
                    "Mediano",
                    "Mediano",
                    "Mediano",
                    "Mediano",
                    "Mediano",
                    "Mediano",
                    "Mediano",
                    "Mediano",
                    "Mediano",
                    "Mediano",
                    "Mediano",
                    "Mediano",
                    "Mediano",
                    "Mediano",
                    "Mediano",
                    "Mediano",
                    "Mediano",
                    "Mediano",
                    "Mediano",
                    "Mediano",
                    "Mediano",
                    "Mediano",
                    "Mediano",
                    "Mediano",
                    "Mediano",
                    "Mediano",
                    "Mediano",
                    "Mediano",
                    "Mediano",
                    "Mediano",
                    "Mediano",
                    "Mediano",
                    "Mediano",
                    "Mediano",
                    "Mediano",
                    "Mediano",
                    "Mediano",
                    "Mediano",
                    "Mediano",
                    "Mediano",
                    "Mediano",
                    "Mediano",
                    "Mediano",
                    "Mediano",
                    "Mediano",
                    "Mediano",
                    "Mediano",
                    "Mediano",
                    "Mediano",
                    "Mediano",
                    "Mediano",
                    "Mediano",
                    "Mediano",
                    "Mediano",
                    "Mediano",
                    "Mediano",
                    "Mediano",
                    "Mediano",
                    "Mediano",
                    "Mediano",
                    "Mediano",
                    "Mediano",
                    "Mediano",
                    "Mediano",
                    "Mediano",
                    "Mediano",
                    "Mediano",
                    "Mediano",
                    "Mediano",
                    "Mediano",
                    "Mediano",
                    "Mediano",
                    "Mediano",
                    "Mediano",
                    "Mediano",
                    "Mediano",
                    "Mediano",
                    "Mediano",
                    "Mediano",
                    "Mediano",
                    "Mediano",
                    "Mediano",
                    "Mediano",
                    "Mediano",
                    "Mediano",
                    "Mediano",
                    "Mediano",
                    "Mediano",
                    "Mediano",
                    "Mediano",
                    "Mediano",
                    "Mediano",
                    "Mediano",
                    "Mediano",
                    "Mediano",
                    "Mediano",
                    "Mediano",
                    "Mediano",
                    "Mediano",
                    "Mediano",
                    "Mediano",
                    "Mediano",
                    "Mediano",
                    "Mediano",
                    "Mediano",
                    "Mediano",
                    "Mediano",
                    "Mediano",
                    "Mediano",
                    "Mediano",
                    "Mediano",
                    "Mediano",
                    "Mediano",
                    "Mediano",
                    "Mediano",
                    "Mediano",
                    "Mediano",
                    "Mediano",
                    "Mediano",
                    "Mediano",
                    "Mediano",
                    "Mediano",
                    "Mediano",
                    "Mediano",
                    "Mediano",
                    "Mediano",
                    "Mediano",
                    "Mediano",
                    "Mediano",
                    "Mediano",
                    "Mediano",
                    "Mediano",
                    "Mediano",
                    "Mediano",
                    "Mediano",
                    "Mediano",
                    "Mediano",
                    "Mediano",
                    "Mediano",
                    "Mediano",
                    "Mediano",
                    "Mediano",
                    "Mediano",
                    "Mediano",
                    "Mediano",
                    "Mediano",
                    "Mediano",
                    "Mediano",
                    "Mediano",
                    "Mediano",
                    "Mediano",
                    "Mediano",
                    "Mediano",
                    "Mediano",
                    "Mediano",
                    "Mediano",
                    "Mediano",
                    "Mediano",
                    "Mediano",
                    "Mediano",
                    "Mediano",
                    "Mediano",
                    "Mediano",
                    "Mediano",
                    "Mediano",
                    "Mediano",
                    "Mediano",
                    "Mediano",
                    "Mediano",
                    "Mediano",
                    "Mediano",
                    "Mediano",
                    "Mediano",
                    "Mediano",
                    "Mediano",
                    "Mediano",
                    "Mediano",
                    "Mediano",
                    "Mediano",
                    "Mediano",
                    "Mediano",
                    "Mediano",
                    "Mediano",
                    "Mediano",
                    "Mediano",
                    "Mediano",
                    "Mediano",
                    "Mediano",
                    "Mediano",
                    "Mediano",
                    "Mediano",
                    "Mediano",
                    "Mediano",
                    "Mediano",
                    "Mediano",
                    "Mediano",
                    "Mediano",
                    "Mediano",
                    "Mediano",
                    "Mediano",
                    "Mediano",
                    "Mediano",
                    "Mediano",
                    "Mediano",
                    "Mediano",
                    "Mediano",
                    "Mediano",
                    "Mediano",
                    "Mediano",
                    "Mediano",
                    "Mediano",
                    "Mediano",
                    "Mediano",
                    "Mediano",
                    "Mediano",
                    "Mediano",
                    "Mediano",
                    "Mediano",
                    "Mediano",
                    "Mediano",
                    "Mediano",
                    "Mediano",
                    "Mediano",
                    "Mediano",
                    "Mediano",
                    "Mediano",
                    "Mediano",
                    "Mediano",
                    "Mediano",
                    "Mediano",
                    "Mediano",
                    "Mediano",
                    "Mediano",
                    "Mediano",
                    "Mediano",
                    "Mediano",
                    "Mediano",
                    "Mediano",
                    "Mediano",
                    "Mediano",
                    "Mediano",
                    "Mediano",
                    "Mediano",
                    "Mediano",
                    "Mediano",
                    "Mediano",
                    "Mediano",
                    "Mediano",
                    "Mediano",
                    "Mediano",
                    "Mediano",
                    "Mediano",
                    "Mediano",
                    "Mediano",
                    "Mediano",
                    "Mediano",
                    "Mediano",
                    "Mediano",
                    "Mediano",
                    "Mediano",
                    "Mediano",
                    "Mediano",
                    "Mediano",
                    "Mediano",
                    "Mediano",
                    "Mediano",
                    "Mediano",
                    "Mediano",
                    "Mediano",
                    "Mediano",
                    "Mediano",
                    "Mediano",
                    "Mediano",
                    "Mediano",
                    "Mediano",
                    "Mediano",
                    "Mediano",
                    "Mediano",
                    "Mediano",
                    "Mediano",
                    "Mediano",
                    "Mediano",
                    "Mediano",
                    "Mediano",
                    "Mediano",
                    "Mediano",
                    "Mediano",
                    "Mediano",
                    "Mediano",
                    "Mediano",
                    "Mediano",
                    "Mediano",
                    "Mediano",
                    "Mediano",
                    "Mediano",
                    "Mediano",
                    "Mediano",
                    "Mediano",
                    "Mediano",
                    "Mediano",
                    "Mediano",
                    "Mediano",
                    "Mediano",
                    "Mediano",
                    "Mediano",
                    "Mediano",
                    "Mediano",
                    "Mediano",
                    "Mediano",
                    "Mediano",
                    "Mediano",
                    "Mediano",
                    "Mediano",
                    "Mediano",
                    "Mediano",
                    "Mediano",
                    "Mediano",
                    "Mediano",
                    "Mediano",
                    "Mediano",
                    "Mediano",
                    "Mediano",
                    "Mediano",
                    "Mediano",
                    "Mediano",
                    "Mediano",
                    "Mediano",
                    "Mediano",
                    "Mediano",
                    "Mediano",
                    "Mediano",
                    "Mediano",
                    "Mediano",
                    "Mediano",
                    "Mediano",
                    "Mediano",
                    "Mediano",
                    "Mediano",
                    "Mediano",
                    "Mediano",
                    "Mediano",
                    "Mediano",
                    "Mediano",
                    "Mediano",
                    "Mediano",
                    "Mediano",
                    "Mediano",
                    "Mediano",
                    "Mediano",
                    "Mediano",
                    "Mediano",
                    "Mediano",
                    "Mediano",
                    "Mediano",
                    "Mediano",
                    "Mediano",
                    "Mediano",
                    "Mediano",
                    "Mediano",
                    "Mediano",
                    "Mediano",
                    "Mediano",
                    "Mediano",
                    "Mediano",
                    "Mediano",
                    "Mediano",
                    "Mediano",
                    "Mediano",
                    "Mediano",
                    "Mediano",
                    "Mediano",
                    "Mediano",
                    "Mediano",
                    "Mediano",
                    "Mediano",
                    "Mediano",
                    "Mediano",
                    "Mediano",
                    "Mediano",
                    "Mediano",
                    "Mediano",
                    "Mediano",
                    "Mediano",
                    "Mediano",
                    "Mediano",
                    "Mediano",
                    "Mediano",
                    "Mediano",
                    "Mediano",
                    "Mediano",
                    "Mediano",
                    "Mediano",
                    "Mediano",
                    "Mediano",
                    "Mediano",
                    "Mediano",
                    "Mediano",
                    "Mediano",
                    "Mediano",
                    "Mediano",
                    "Mediano",
                    "Mediano",
                    "Mediano",
                    "Mediano",
                    "Mediano",
                    "Mediano",
                    "Mediano",
                    "Mediano",
                    "Mediano",
                    "Mediano",
                    "Mediano",
                    "Mediano",
                    "Mediano",
                    "Mediano",
                    "Mediano",
                    "Mediano",
                    "Mediano",
                    "Mediano",
                    "Mediano",
                    "Mediano",
                    "Mediano",
                    "Mediano",
                    "Mediano",
                    "Mediano",
                    "Mediano",
                    "Mediano",
                    "Mediano",
                    "Ruim",
                    "Ruim",
                    "Ruim",
                    "Ruim",
                    "Ruim",
                    "Ruim",
                    "Ruim",
                    "Ruim",
                    "Ruim",
                    "Ruim",
                    "Ruim",
                    "Ruim",
                    "Ruim",
                    "Ruim",
                    "Ruim",
                    "Ruim",
                    "Ruim",
                    "Ruim",
                    "Ruim",
                    "Ruim",
                    "Ruim",
                    "Ruim",
                    "Ruim",
                    "Ruim",
                    "Ruim",
                    "Ruim",
                    "Ruim",
                    "Ruim",
                    "Ruim",
                    "Ruim",
                    "Ruim",
                    "Ruim",
                    "Ruim",
                    "Ruim",
                    "Ruim",
                    "Ruim",
                    "Ruim",
                    "Ruim",
                    "Ruim",
                    "Ruim",
                    "Ruim",
                    "Ruim",
                    "Ruim",
                    "Ruim",
                    "Ruim",
                    "Ruim",
                    "Ruim",
                    "Ruim",
                    "Ruim",
                    "Ruim",
                    "Ruim",
                    "Ruim",
                    "Ruim",
                    "Ruim",
                    "Ruim",
                    "Ruim",
                    "Ruim",
                    "Ruim",
                    "Ruim",
                    "Ruim",
                    "Ruim",
                    "Ruim",
                    "Ruim",
                    "Ruim",
                    "Ruim",
                    "Ruim",
                    "Ruim",
                    "Ruim",
                    "Ruim",
                    "Ruim",
                    "Ruim",
                    "Ruim",
                    "Ruim",
                    "Ruim",
                    "Ruim",
                    "Ruim",
                    "Ruim",
                    "Ruim",
                    "Ruim",
                    "Ruim",
                    "Ruim",
                    "Ruim",
                    "Ruim",
                    "Ruim",
                    "Ruim",
                    "Ruim",
                    "Ruim",
                    "Ruim",
                    "Ruim",
                    "Ruim",
                    "Ruim",
                    "Ruim",
                    "Ruim",
                    "Ruim",
                    "Ruim",
                    "Ruim",
                    "Ruim",
                    "Ruim",
                    "Ruim",
                    "Ruim",
                    "Ruim",
                    "Ruim",
                    "Ruim",
                    "Ruim",
                    "Ruim",
                    "Ruim",
                    "Ruim",
                    "Ruim",
                    "Ruim",
                    "Ruim",
                    "Ruim",
                    "Ruim",
                    "Ruim",
                    "Ruim",
                    "Ruim",
                    "Ruim",
                    "Ruim",
                    "Ruim",
                    "Ruim",
                    "Ruim",
                    "Ruim",
                    "Ruim",
                    "Ruim",
                    "Ruim",
                    "Ruim",
                    "Ruim",
                    "Ruim",
                    "Ruim",
                    "Ruim",
                    "Ruim",
                    "Ruim",
                    "Ruim",
                    "Ruim",
                    "Ruim",
                    "Ruim",
                    "Ruim",
                    "Ruim",
                    "Ruim",
                    "Muito_ruim"
                  ],
                  "xaxis": "x",
                  "yaxis": "y"
                }
              ],
              "layout": {
                "barmode": "relative",
                "legend": {
                  "tracegroupgap": 0
                },
                "margin": {
                  "t": 60
                },
                "template": {
                  "data": {
                    "bar": [
                      {
                        "error_x": {
                          "color": "#2a3f5f"
                        },
                        "error_y": {
                          "color": "#2a3f5f"
                        },
                        "marker": {
                          "line": {
                            "color": "#E5ECF6",
                            "width": 0.5
                          },
                          "pattern": {
                            "fillmode": "overlay",
                            "size": 10,
                            "solidity": 0.2
                          }
                        },
                        "type": "bar"
                      }
                    ],
                    "barpolar": [
                      {
                        "marker": {
                          "line": {
                            "color": "#E5ECF6",
                            "width": 0.5
                          },
                          "pattern": {
                            "fillmode": "overlay",
                            "size": 10,
                            "solidity": 0.2
                          }
                        },
                        "type": "barpolar"
                      }
                    ],
                    "carpet": [
                      {
                        "aaxis": {
                          "endlinecolor": "#2a3f5f",
                          "gridcolor": "white",
                          "linecolor": "white",
                          "minorgridcolor": "white",
                          "startlinecolor": "#2a3f5f"
                        },
                        "baxis": {
                          "endlinecolor": "#2a3f5f",
                          "gridcolor": "white",
                          "linecolor": "white",
                          "minorgridcolor": "white",
                          "startlinecolor": "#2a3f5f"
                        },
                        "type": "carpet"
                      }
                    ],
                    "choropleth": [
                      {
                        "colorbar": {
                          "outlinewidth": 0,
                          "ticks": ""
                        },
                        "type": "choropleth"
                      }
                    ],
                    "contour": [
                      {
                        "colorbar": {
                          "outlinewidth": 0,
                          "ticks": ""
                        },
                        "colorscale": [
                          [
                            0,
                            "#0d0887"
                          ],
                          [
                            0.1111111111111111,
                            "#46039f"
                          ],
                          [
                            0.2222222222222222,
                            "#7201a8"
                          ],
                          [
                            0.3333333333333333,
                            "#9c179e"
                          ],
                          [
                            0.4444444444444444,
                            "#bd3786"
                          ],
                          [
                            0.5555555555555556,
                            "#d8576b"
                          ],
                          [
                            0.6666666666666666,
                            "#ed7953"
                          ],
                          [
                            0.7777777777777778,
                            "#fb9f3a"
                          ],
                          [
                            0.8888888888888888,
                            "#fdca26"
                          ],
                          [
                            1,
                            "#f0f921"
                          ]
                        ],
                        "type": "contour"
                      }
                    ],
                    "contourcarpet": [
                      {
                        "colorbar": {
                          "outlinewidth": 0,
                          "ticks": ""
                        },
                        "type": "contourcarpet"
                      }
                    ],
                    "heatmap": [
                      {
                        "colorbar": {
                          "outlinewidth": 0,
                          "ticks": ""
                        },
                        "colorscale": [
                          [
                            0,
                            "#0d0887"
                          ],
                          [
                            0.1111111111111111,
                            "#46039f"
                          ],
                          [
                            0.2222222222222222,
                            "#7201a8"
                          ],
                          [
                            0.3333333333333333,
                            "#9c179e"
                          ],
                          [
                            0.4444444444444444,
                            "#bd3786"
                          ],
                          [
                            0.5555555555555556,
                            "#d8576b"
                          ],
                          [
                            0.6666666666666666,
                            "#ed7953"
                          ],
                          [
                            0.7777777777777778,
                            "#fb9f3a"
                          ],
                          [
                            0.8888888888888888,
                            "#fdca26"
                          ],
                          [
                            1,
                            "#f0f921"
                          ]
                        ],
                        "type": "heatmap"
                      }
                    ],
                    "heatmapgl": [
                      {
                        "colorbar": {
                          "outlinewidth": 0,
                          "ticks": ""
                        },
                        "colorscale": [
                          [
                            0,
                            "#0d0887"
                          ],
                          [
                            0.1111111111111111,
                            "#46039f"
                          ],
                          [
                            0.2222222222222222,
                            "#7201a8"
                          ],
                          [
                            0.3333333333333333,
                            "#9c179e"
                          ],
                          [
                            0.4444444444444444,
                            "#bd3786"
                          ],
                          [
                            0.5555555555555556,
                            "#d8576b"
                          ],
                          [
                            0.6666666666666666,
                            "#ed7953"
                          ],
                          [
                            0.7777777777777778,
                            "#fb9f3a"
                          ],
                          [
                            0.8888888888888888,
                            "#fdca26"
                          ],
                          [
                            1,
                            "#f0f921"
                          ]
                        ],
                        "type": "heatmapgl"
                      }
                    ],
                    "histogram": [
                      {
                        "marker": {
                          "pattern": {
                            "fillmode": "overlay",
                            "size": 10,
                            "solidity": 0.2
                          }
                        },
                        "type": "histogram"
                      }
                    ],
                    "histogram2d": [
                      {
                        "colorbar": {
                          "outlinewidth": 0,
                          "ticks": ""
                        },
                        "colorscale": [
                          [
                            0,
                            "#0d0887"
                          ],
                          [
                            0.1111111111111111,
                            "#46039f"
                          ],
                          [
                            0.2222222222222222,
                            "#7201a8"
                          ],
                          [
                            0.3333333333333333,
                            "#9c179e"
                          ],
                          [
                            0.4444444444444444,
                            "#bd3786"
                          ],
                          [
                            0.5555555555555556,
                            "#d8576b"
                          ],
                          [
                            0.6666666666666666,
                            "#ed7953"
                          ],
                          [
                            0.7777777777777778,
                            "#fb9f3a"
                          ],
                          [
                            0.8888888888888888,
                            "#fdca26"
                          ],
                          [
                            1,
                            "#f0f921"
                          ]
                        ],
                        "type": "histogram2d"
                      }
                    ],
                    "histogram2dcontour": [
                      {
                        "colorbar": {
                          "outlinewidth": 0,
                          "ticks": ""
                        },
                        "colorscale": [
                          [
                            0,
                            "#0d0887"
                          ],
                          [
                            0.1111111111111111,
                            "#46039f"
                          ],
                          [
                            0.2222222222222222,
                            "#7201a8"
                          ],
                          [
                            0.3333333333333333,
                            "#9c179e"
                          ],
                          [
                            0.4444444444444444,
                            "#bd3786"
                          ],
                          [
                            0.5555555555555556,
                            "#d8576b"
                          ],
                          [
                            0.6666666666666666,
                            "#ed7953"
                          ],
                          [
                            0.7777777777777778,
                            "#fb9f3a"
                          ],
                          [
                            0.8888888888888888,
                            "#fdca26"
                          ],
                          [
                            1,
                            "#f0f921"
                          ]
                        ],
                        "type": "histogram2dcontour"
                      }
                    ],
                    "mesh3d": [
                      {
                        "colorbar": {
                          "outlinewidth": 0,
                          "ticks": ""
                        },
                        "type": "mesh3d"
                      }
                    ],
                    "parcoords": [
                      {
                        "line": {
                          "colorbar": {
                            "outlinewidth": 0,
                            "ticks": ""
                          }
                        },
                        "type": "parcoords"
                      }
                    ],
                    "pie": [
                      {
                        "automargin": true,
                        "type": "pie"
                      }
                    ],
                    "scatter": [
                      {
                        "fillpattern": {
                          "fillmode": "overlay",
                          "size": 10,
                          "solidity": 0.2
                        },
                        "type": "scatter"
                      }
                    ],
                    "scatter3d": [
                      {
                        "line": {
                          "colorbar": {
                            "outlinewidth": 0,
                            "ticks": ""
                          }
                        },
                        "marker": {
                          "colorbar": {
                            "outlinewidth": 0,
                            "ticks": ""
                          }
                        },
                        "type": "scatter3d"
                      }
                    ],
                    "scattercarpet": [
                      {
                        "marker": {
                          "colorbar": {
                            "outlinewidth": 0,
                            "ticks": ""
                          }
                        },
                        "type": "scattercarpet"
                      }
                    ],
                    "scattergeo": [
                      {
                        "marker": {
                          "colorbar": {
                            "outlinewidth": 0,
                            "ticks": ""
                          }
                        },
                        "type": "scattergeo"
                      }
                    ],
                    "scattergl": [
                      {
                        "marker": {
                          "colorbar": {
                            "outlinewidth": 0,
                            "ticks": ""
                          }
                        },
                        "type": "scattergl"
                      }
                    ],
                    "scattermapbox": [
                      {
                        "marker": {
                          "colorbar": {
                            "outlinewidth": 0,
                            "ticks": ""
                          }
                        },
                        "type": "scattermapbox"
                      }
                    ],
                    "scatterpolar": [
                      {
                        "marker": {
                          "colorbar": {
                            "outlinewidth": 0,
                            "ticks": ""
                          }
                        },
                        "type": "scatterpolar"
                      }
                    ],
                    "scatterpolargl": [
                      {
                        "marker": {
                          "colorbar": {
                            "outlinewidth": 0,
                            "ticks": ""
                          }
                        },
                        "type": "scatterpolargl"
                      }
                    ],
                    "scatterternary": [
                      {
                        "marker": {
                          "colorbar": {
                            "outlinewidth": 0,
                            "ticks": ""
                          }
                        },
                        "type": "scatterternary"
                      }
                    ],
                    "surface": [
                      {
                        "colorbar": {
                          "outlinewidth": 0,
                          "ticks": ""
                        },
                        "colorscale": [
                          [
                            0,
                            "#0d0887"
                          ],
                          [
                            0.1111111111111111,
                            "#46039f"
                          ],
                          [
                            0.2222222222222222,
                            "#7201a8"
                          ],
                          [
                            0.3333333333333333,
                            "#9c179e"
                          ],
                          [
                            0.4444444444444444,
                            "#bd3786"
                          ],
                          [
                            0.5555555555555556,
                            "#d8576b"
                          ],
                          [
                            0.6666666666666666,
                            "#ed7953"
                          ],
                          [
                            0.7777777777777778,
                            "#fb9f3a"
                          ],
                          [
                            0.8888888888888888,
                            "#fdca26"
                          ],
                          [
                            1,
                            "#f0f921"
                          ]
                        ],
                        "type": "surface"
                      }
                    ],
                    "table": [
                      {
                        "cells": {
                          "fill": {
                            "color": "#EBF0F8"
                          },
                          "line": {
                            "color": "white"
                          }
                        },
                        "header": {
                          "fill": {
                            "color": "#C8D4E3"
                          },
                          "line": {
                            "color": "white"
                          }
                        },
                        "type": "table"
                      }
                    ]
                  },
                  "layout": {
                    "annotationdefaults": {
                      "arrowcolor": "#2a3f5f",
                      "arrowhead": 0,
                      "arrowwidth": 1
                    },
                    "autotypenumbers": "strict",
                    "coloraxis": {
                      "colorbar": {
                        "outlinewidth": 0,
                        "ticks": ""
                      }
                    },
                    "colorscale": {
                      "diverging": [
                        [
                          0,
                          "#8e0152"
                        ],
                        [
                          0.1,
                          "#c51b7d"
                        ],
                        [
                          0.2,
                          "#de77ae"
                        ],
                        [
                          0.3,
                          "#f1b6da"
                        ],
                        [
                          0.4,
                          "#fde0ef"
                        ],
                        [
                          0.5,
                          "#f7f7f7"
                        ],
                        [
                          0.6,
                          "#e6f5d0"
                        ],
                        [
                          0.7,
                          "#b8e186"
                        ],
                        [
                          0.8,
                          "#7fbc41"
                        ],
                        [
                          0.9,
                          "#4d9221"
                        ],
                        [
                          1,
                          "#276419"
                        ]
                      ],
                      "sequential": [
                        [
                          0,
                          "#0d0887"
                        ],
                        [
                          0.1111111111111111,
                          "#46039f"
                        ],
                        [
                          0.2222222222222222,
                          "#7201a8"
                        ],
                        [
                          0.3333333333333333,
                          "#9c179e"
                        ],
                        [
                          0.4444444444444444,
                          "#bd3786"
                        ],
                        [
                          0.5555555555555556,
                          "#d8576b"
                        ],
                        [
                          0.6666666666666666,
                          "#ed7953"
                        ],
                        [
                          0.7777777777777778,
                          "#fb9f3a"
                        ],
                        [
                          0.8888888888888888,
                          "#fdca26"
                        ],
                        [
                          1,
                          "#f0f921"
                        ]
                      ],
                      "sequentialminus": [
                        [
                          0,
                          "#0d0887"
                        ],
                        [
                          0.1111111111111111,
                          "#46039f"
                        ],
                        [
                          0.2222222222222222,
                          "#7201a8"
                        ],
                        [
                          0.3333333333333333,
                          "#9c179e"
                        ],
                        [
                          0.4444444444444444,
                          "#bd3786"
                        ],
                        [
                          0.5555555555555556,
                          "#d8576b"
                        ],
                        [
                          0.6666666666666666,
                          "#ed7953"
                        ],
                        [
                          0.7777777777777778,
                          "#fb9f3a"
                        ],
                        [
                          0.8888888888888888,
                          "#fdca26"
                        ],
                        [
                          1,
                          "#f0f921"
                        ]
                      ]
                    },
                    "colorway": [
                      "#636efa",
                      "#EF553B",
                      "#00cc96",
                      "#ab63fa",
                      "#FFA15A",
                      "#19d3f3",
                      "#FF6692",
                      "#B6E880",
                      "#FF97FF",
                      "#FECB52"
                    ],
                    "font": {
                      "color": "#2a3f5f"
                    },
                    "geo": {
                      "bgcolor": "white",
                      "lakecolor": "white",
                      "landcolor": "#E5ECF6",
                      "showlakes": true,
                      "showland": true,
                      "subunitcolor": "white"
                    },
                    "hoverlabel": {
                      "align": "left"
                    },
                    "hovermode": "closest",
                    "mapbox": {
                      "style": "light"
                    },
                    "paper_bgcolor": "white",
                    "plot_bgcolor": "#E5ECF6",
                    "polar": {
                      "angularaxis": {
                        "gridcolor": "white",
                        "linecolor": "white",
                        "ticks": ""
                      },
                      "bgcolor": "#E5ECF6",
                      "radialaxis": {
                        "gridcolor": "white",
                        "linecolor": "white",
                        "ticks": ""
                      }
                    },
                    "scene": {
                      "xaxis": {
                        "backgroundcolor": "#E5ECF6",
                        "gridcolor": "white",
                        "gridwidth": 2,
                        "linecolor": "white",
                        "showbackground": true,
                        "ticks": "",
                        "zerolinecolor": "white"
                      },
                      "yaxis": {
                        "backgroundcolor": "#E5ECF6",
                        "gridcolor": "white",
                        "gridwidth": 2,
                        "linecolor": "white",
                        "showbackground": true,
                        "ticks": "",
                        "zerolinecolor": "white"
                      },
                      "zaxis": {
                        "backgroundcolor": "#E5ECF6",
                        "gridcolor": "white",
                        "gridwidth": 2,
                        "linecolor": "white",
                        "showbackground": true,
                        "ticks": "",
                        "zerolinecolor": "white"
                      }
                    },
                    "shapedefaults": {
                      "line": {
                        "color": "#2a3f5f"
                      }
                    },
                    "ternary": {
                      "aaxis": {
                        "gridcolor": "white",
                        "linecolor": "white",
                        "ticks": ""
                      },
                      "baxis": {
                        "gridcolor": "white",
                        "linecolor": "white",
                        "ticks": ""
                      },
                      "bgcolor": "#E5ECF6",
                      "caxis": {
                        "gridcolor": "white",
                        "linecolor": "white",
                        "ticks": ""
                      }
                    },
                    "title": {
                      "x": 0.05
                    },
                    "xaxis": {
                      "automargin": true,
                      "gridcolor": "white",
                      "linecolor": "white",
                      "ticks": "",
                      "title": {
                        "standoff": 15
                      },
                      "zerolinecolor": "white",
                      "zerolinewidth": 2
                    },
                    "yaxis": {
                      "automargin": true,
                      "gridcolor": "white",
                      "linecolor": "white",
                      "ticks": "",
                      "title": {
                        "standoff": 15
                      },
                      "zerolinecolor": "white",
                      "zerolinewidth": 2
                    }
                  }
                },
                "xaxis": {
                  "anchor": "y",
                  "domain": [
                    0,
                    1
                  ],
                  "title": {
                    "text": "Desempenho"
                  }
                },
                "yaxis": {
                  "anchor": "x",
                  "domain": [
                    0,
                    1
                  ],
                  "title": {
                    "text": "count"
                  }
                }
              }
            }
          },
          "metadata": {},
          "output_type": "display_data"
        }
      ],
      "source": [
        "px.histogram(Atacante, x = 'Desempenho').show()"
      ]
    },
    {
      "cell_type": "code",
      "execution_count": 17,
      "metadata": {
        "colab": {
          "base_uri": "https://localhost:8080/",
          "height": 1000
        },
        "id": "HkRyTH4iuXOV",
        "outputId": "17e3e16e-bade-4b37-9aae-bcbdd774339a"
      },
      "outputs": [
        {
          "data": {
            "text/html": [
              "<div>\n",
              "<style scoped>\n",
              "    .dataframe tbody tr th:only-of-type {\n",
              "        vertical-align: middle;\n",
              "    }\n",
              "\n",
              "    .dataframe tbody tr th {\n",
              "        vertical-align: top;\n",
              "    }\n",
              "\n",
              "    .dataframe thead th {\n",
              "        text-align: right;\n",
              "    }\n",
              "</style>\n",
              "<table border=\"1\" class=\"dataframe\">\n",
              "  <thead>\n",
              "    <tr style=\"text-align: right;\">\n",
              "      <th></th>\n",
              "      <th>_c0</th>\n",
              "      <th>Rk</th>\n",
              "      <th>Player</th>\n",
              "      <th>Nation</th>\n",
              "      <th>Pos</th>\n",
              "      <th>Squad</th>\n",
              "      <th>Comp</th>\n",
              "      <th>Age</th>\n",
              "      <th>Born</th>\n",
              "      <th>MP</th>\n",
              "      <th>...</th>\n",
              "      <th>PKwon</th>\n",
              "      <th>PKcon</th>\n",
              "      <th>OG</th>\n",
              "      <th>Recov</th>\n",
              "      <th>AerWon</th>\n",
              "      <th>AerLost</th>\n",
              "      <th>AerWon%</th>\n",
              "      <th>GPJ</th>\n",
              "      <th>score</th>\n",
              "      <th>Desempenho</th>\n",
              "    </tr>\n",
              "  </thead>\n",
              "  <tbody>\n",
              "    <tr>\n",
              "      <th>326</th>\n",
              "      <td>1260</td>\n",
              "      <td>1261</td>\n",
              "      <td>Harry Kane</td>\n",
              "      <td>ENG</td>\n",
              "      <td>FW</td>\n",
              "      <td>Tottenham</td>\n",
              "      <td>Premier League</td>\n",
              "      <td>29</td>\n",
              "      <td>1993</td>\n",
              "      <td>23</td>\n",
              "      <td>...</td>\n",
              "      <td>0.04</td>\n",
              "      <td>0.0</td>\n",
              "      <td>0.0</td>\n",
              "      <td>2.15</td>\n",
              "      <td>1.75</td>\n",
              "      <td>2.02</td>\n",
              "      <td>46.5</td>\n",
              "      <td>0.73913</td>\n",
              "      <td>203.06</td>\n",
              "      <td>Excelente</td>\n",
              "    </tr>\n",
              "    <tr>\n",
              "      <th>141</th>\n",
              "      <td>595</td>\n",
              "      <td>596</td>\n",
              "      <td>Arnaut Danjuma</td>\n",
              "      <td>NED</td>\n",
              "      <td>FW</td>\n",
              "      <td>Tottenham</td>\n",
              "      <td>Premier League</td>\n",
              "      <td>26</td>\n",
              "      <td>1997</td>\n",
              "      <td>1</td>\n",
              "      <td>...</td>\n",
              "      <td>0.00</td>\n",
              "      <td>0.0</td>\n",
              "      <td>0.0</td>\n",
              "      <td>0.00</td>\n",
              "      <td>0.00</td>\n",
              "      <td>0.00</td>\n",
              "      <td>0.0</td>\n",
              "      <td>0.00000</td>\n",
              "      <td>13.00</td>\n",
              "      <td>Mediano</td>\n",
              "    </tr>\n",
              "    <tr>\n",
              "      <th>597</th>\n",
              "      <td>2339</td>\n",
              "      <td>2340</td>\n",
              "      <td>Djed Spence</td>\n",
              "      <td>ENG</td>\n",
              "      <td>FWDF</td>\n",
              "      <td>Tottenham</td>\n",
              "      <td>Premier League</td>\n",
              "      <td>22</td>\n",
              "      <td>2000</td>\n",
              "      <td>4</td>\n",
              "      <td>...</td>\n",
              "      <td>0.00</td>\n",
              "      <td>0.0</td>\n",
              "      <td>0.0</td>\n",
              "      <td>10.00</td>\n",
              "      <td>10.00</td>\n",
              "      <td>0.00</td>\n",
              "      <td>100.0</td>\n",
              "      <td>0.00000</td>\n",
              "      <td>-8.00</td>\n",
              "      <td>Ruim</td>\n",
              "    </tr>\n",
              "  </tbody>\n",
              "</table>\n",
              "<p>3 rows × 128 columns</p>\n",
              "</div>"
            ],
            "text/plain": [
              "      _c0    Rk          Player Nation   Pos      Squad            Comp  Age  \\\n",
              "326  1260  1261      Harry Kane    ENG    FW  Tottenham  Premier League   29   \n",
              "141   595   596  Arnaut Danjuma    NED    FW  Tottenham  Premier League   26   \n",
              "597  2339  2340     Djed Spence    ENG  FWDF  Tottenham  Premier League   22   \n",
              "\n",
              "     Born  MP  ...  PKwon  PKcon   OG  Recov  AerWon  AerLost  AerWon%  \\\n",
              "326  1993  23  ...   0.04    0.0  0.0   2.15    1.75     2.02     46.5   \n",
              "141  1997   1  ...   0.00    0.0  0.0   0.00    0.00     0.00      0.0   \n",
              "597  2000   4  ...   0.00    0.0  0.0  10.00   10.00     0.00    100.0   \n",
              "\n",
              "         GPJ   score  Desempenho  \n",
              "326  0.73913  203.06   Excelente  \n",
              "141  0.00000   13.00     Mediano  \n",
              "597  0.00000   -8.00        Ruim  \n",
              "\n",
              "[3 rows x 128 columns]"
            ]
          },
          "execution_count": 17,
          "metadata": {},
          "output_type": "execute_result"
        }
      ],
      "source": [
        "Atacante[Atacante['Squad'] == 'Tottenham'].head(50)"
      ]
    },
    {
      "cell_type": "code",
      "execution_count": 21,
      "metadata": {
        "id": "y2qnv2X80OPW"
      },
      "outputs": [],
      "source": [
        "Atacante.to_csv('C:\\\\Users\\\\alexa\\\\OneDrive\\\\Área de Trabalho\\\\Prj\\\\Classificador\\\\Content\\\\Atacantes.csv')"
      ]
    }
  ],
  "metadata": {
    "colab": {
      "provenance": []
    },
    "kernelspec": {
      "display_name": "Python 3",
      "name": "python3"
    },
    "language_info": {
      "codemirror_mode": {
        "name": "ipython",
        "version": 3
      },
      "file_extension": ".py",
      "mimetype": "text/x-python",
      "name": "python",
      "nbconvert_exporter": "python",
      "pygments_lexer": "ipython3",
      "version": "3.9.7"
    }
  },
  "nbformat": 4,
  "nbformat_minor": 0
}
