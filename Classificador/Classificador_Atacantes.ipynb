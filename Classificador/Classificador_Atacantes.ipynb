{
  "cells": [
    {
      "attachments": {},
      "cell_type": "markdown",
      "metadata": {},
      "source": [
        "# Análise dos atacantes "
      ]
    },
    {
      "cell_type": "code",
      "execution_count": 404,
      "metadata": {
        "id": "uxo-KdrIeVLf"
      },
      "outputs": [],
      "source": [
        "#plots\n",
        "import pandas as pd\n",
        "import plotly.express as px\n",
        "import numpy as np"
      ]
    },
    {
      "attachments": {},
      "cell_type": "markdown",
      "metadata": {},
      "source": [
        "#### Extraindo os dados da partição de atacantes"
      ]
    },
    {
      "cell_type": "code",
      "execution_count": 405,
      "metadata": {
        "id": "MnMc_zRBestW"
      },
      "outputs": [],
      "source": [
        "Atacante = pd.read_parquet('C:\\\\Users\\\\alexa\\\\OneDrive\\\\Área de Trabalho\\\\Prj\\\\Classificador\\\\Content\\\\Atacantes.c000.snappy.parquet', engine='pyarrow')"
      ]
    },
    {
      "cell_type": "code",
      "execution_count": 406,
      "metadata": {
        "colab": {
          "base_uri": "https://localhost:8080/",
          "height": 1000
        },
        "id": "Cvbcl99VgvN9",
        "outputId": "99ade7ce-213f-4217-a1b6-c1a84444a600"
      },
      "outputs": [
        {
          "data": {
            "text/html": [
              "<div>\n",
              "<style scoped>\n",
              "    .dataframe tbody tr th:only-of-type {\n",
              "        vertical-align: middle;\n",
              "    }\n",
              "\n",
              "    .dataframe tbody tr th {\n",
              "        vertical-align: top;\n",
              "    }\n",
              "\n",
              "    .dataframe thead th {\n",
              "        text-align: right;\n",
              "    }\n",
              "</style>\n",
              "<table border=\"1\" class=\"dataframe\">\n",
              "  <thead>\n",
              "    <tr style=\"text-align: right;\">\n",
              "      <th></th>\n",
              "      <th>_c0</th>\n",
              "      <th>Rk</th>\n",
              "      <th>Player</th>\n",
              "      <th>Nation</th>\n",
              "      <th>Pos</th>\n",
              "      <th>Squad</th>\n",
              "      <th>Comp</th>\n",
              "      <th>Age</th>\n",
              "      <th>Born</th>\n",
              "      <th>MP</th>\n",
              "      <th>...</th>\n",
              "      <th>Off</th>\n",
              "      <th>Crs</th>\n",
              "      <th>TklW</th>\n",
              "      <th>PKwon</th>\n",
              "      <th>PKcon</th>\n",
              "      <th>OG</th>\n",
              "      <th>Recov</th>\n",
              "      <th>AerWon</th>\n",
              "      <th>AerLost</th>\n",
              "      <th>AerWon%</th>\n",
              "    </tr>\n",
              "  </thead>\n",
              "  <tbody>\n",
              "    <tr>\n",
              "      <th>0</th>\n",
              "      <td>6</td>\n",
              "      <td>7</td>\n",
              "      <td>Matthis Abline</td>\n",
              "      <td>FRA</td>\n",
              "      <td>FWMF</td>\n",
              "      <td>Auxerre</td>\n",
              "      <td>Ligue 1</td>\n",
              "      <td>19</td>\n",
              "      <td>2003</td>\n",
              "      <td>5</td>\n",
              "      <td>...</td>\n",
              "      <td>0.48</td>\n",
              "      <td>0.95</td>\n",
              "      <td>0.48</td>\n",
              "      <td>0.00</td>\n",
              "      <td>0.00</td>\n",
              "      <td>0.0</td>\n",
              "      <td>0.48</td>\n",
              "      <td>1.43</td>\n",
              "      <td>1.43</td>\n",
              "      <td>50.0</td>\n",
              "    </tr>\n",
              "    <tr>\n",
              "      <th>1</th>\n",
              "      <td>7</td>\n",
              "      <td>8</td>\n",
              "      <td>Matthis Abline</td>\n",
              "      <td>FRA</td>\n",
              "      <td>FWMF</td>\n",
              "      <td>Rennes</td>\n",
              "      <td>Ligue 1</td>\n",
              "      <td>19</td>\n",
              "      <td>2003</td>\n",
              "      <td>11</td>\n",
              "      <td>...</td>\n",
              "      <td>0.83</td>\n",
              "      <td>1.67</td>\n",
              "      <td>0.83</td>\n",
              "      <td>0.83</td>\n",
              "      <td>0.00</td>\n",
              "      <td>0.0</td>\n",
              "      <td>1.67</td>\n",
              "      <td>0.83</td>\n",
              "      <td>3.33</td>\n",
              "      <td>20.0</td>\n",
              "    </tr>\n",
              "    <tr>\n",
              "      <th>2</th>\n",
              "      <td>9</td>\n",
              "      <td>10</td>\n",
              "      <td>Zakaria Aboukhlal</td>\n",
              "      <td>MAR</td>\n",
              "      <td>FWMF</td>\n",
              "      <td>Toulouse</td>\n",
              "      <td>Ligue 1</td>\n",
              "      <td>22</td>\n",
              "      <td>2000</td>\n",
              "      <td>22</td>\n",
              "      <td>...</td>\n",
              "      <td>0.72</td>\n",
              "      <td>0.96</td>\n",
              "      <td>0.72</td>\n",
              "      <td>0.00</td>\n",
              "      <td>0.00</td>\n",
              "      <td>0.0</td>\n",
              "      <td>4.43</td>\n",
              "      <td>0.42</td>\n",
              "      <td>1.32</td>\n",
              "      <td>24.1</td>\n",
              "    </tr>\n",
              "    <tr>\n",
              "      <th>3</th>\n",
              "      <td>10</td>\n",
              "      <td>11</td>\n",
              "      <td>Tammy Abraham</td>\n",
              "      <td>ENG</td>\n",
              "      <td>FW</td>\n",
              "      <td>Roma</td>\n",
              "      <td>Serie A</td>\n",
              "      <td>25</td>\n",
              "      <td>1997</td>\n",
              "      <td>22</td>\n",
              "      <td>...</td>\n",
              "      <td>0.51</td>\n",
              "      <td>0.28</td>\n",
              "      <td>0.40</td>\n",
              "      <td>0.06</td>\n",
              "      <td>0.00</td>\n",
              "      <td>0.0</td>\n",
              "      <td>1.87</td>\n",
              "      <td>2.56</td>\n",
              "      <td>2.39</td>\n",
              "      <td>51.7</td>\n",
              "    </tr>\n",
              "    <tr>\n",
              "      <th>4</th>\n",
              "      <td>12</td>\n",
              "      <td>13</td>\n",
              "      <td>Mohamed Achi</td>\n",
              "      <td>FRA</td>\n",
              "      <td>FW</td>\n",
              "      <td>Nantes</td>\n",
              "      <td>Ligue 1</td>\n",
              "      <td>21</td>\n",
              "      <td>2002</td>\n",
              "      <td>2</td>\n",
              "      <td>...</td>\n",
              "      <td>0.00</td>\n",
              "      <td>2.50</td>\n",
              "      <td>2.50</td>\n",
              "      <td>0.00</td>\n",
              "      <td>0.00</td>\n",
              "      <td>0.0</td>\n",
              "      <td>5.00</td>\n",
              "      <td>0.00</td>\n",
              "      <td>0.00</td>\n",
              "      <td>0.0</td>\n",
              "    </tr>\n",
              "    <tr>\n",
              "      <th>5</th>\n",
              "      <td>14</td>\n",
              "      <td>15</td>\n",
              "      <td>Che Adams</td>\n",
              "      <td>SCO</td>\n",
              "      <td>FW</td>\n",
              "      <td>Southampton</td>\n",
              "      <td>Premier League</td>\n",
              "      <td>26</td>\n",
              "      <td>1996</td>\n",
              "      <td>21</td>\n",
              "      <td>...</td>\n",
              "      <td>0.40</td>\n",
              "      <td>0.51</td>\n",
              "      <td>0.69</td>\n",
              "      <td>0.00</td>\n",
              "      <td>0.00</td>\n",
              "      <td>0.0</td>\n",
              "      <td>2.29</td>\n",
              "      <td>2.97</td>\n",
              "      <td>5.03</td>\n",
              "      <td>37.1</td>\n",
              "    </tr>\n",
              "    <tr>\n",
              "      <th>6</th>\n",
              "      <td>16</td>\n",
              "      <td>17</td>\n",
              "      <td>Sargis Adamyan</td>\n",
              "      <td>ARM</td>\n",
              "      <td>FWMF</td>\n",
              "      <td>K�ln</td>\n",
              "      <td>Bundesliga</td>\n",
              "      <td>29</td>\n",
              "      <td>1993</td>\n",
              "      <td>16</td>\n",
              "      <td>...</td>\n",
              "      <td>0.58</td>\n",
              "      <td>1.92</td>\n",
              "      <td>1.15</td>\n",
              "      <td>0.00</td>\n",
              "      <td>0.00</td>\n",
              "      <td>0.0</td>\n",
              "      <td>5.38</td>\n",
              "      <td>1.54</td>\n",
              "      <td>3.85</td>\n",
              "      <td>28.6</td>\n",
              "    </tr>\n",
              "    <tr>\n",
              "      <th>7</th>\n",
              "      <td>19</td>\n",
              "      <td>20</td>\n",
              "      <td>Karim Adeyemi</td>\n",
              "      <td>GER</td>\n",
              "      <td>FWMF</td>\n",
              "      <td>Dortmund</td>\n",
              "      <td>Bundesliga</td>\n",
              "      <td>21</td>\n",
              "      <td>2002</td>\n",
              "      <td>15</td>\n",
              "      <td>...</td>\n",
              "      <td>0.00</td>\n",
              "      <td>1.76</td>\n",
              "      <td>0.71</td>\n",
              "      <td>0.00</td>\n",
              "      <td>0.00</td>\n",
              "      <td>0.0</td>\n",
              "      <td>4.94</td>\n",
              "      <td>0.82</td>\n",
              "      <td>0.24</td>\n",
              "      <td>77.8</td>\n",
              "    </tr>\n",
              "    <tr>\n",
              "      <th>8</th>\n",
              "      <td>20</td>\n",
              "      <td>21</td>\n",
              "      <td>Amine Adli</td>\n",
              "      <td>FRA</td>\n",
              "      <td>FW</td>\n",
              "      <td>Leverkusen</td>\n",
              "      <td>Bundesliga</td>\n",
              "      <td>22</td>\n",
              "      <td>2000</td>\n",
              "      <td>13</td>\n",
              "      <td>...</td>\n",
              "      <td>0.28</td>\n",
              "      <td>0.83</td>\n",
              "      <td>1.11</td>\n",
              "      <td>0.00</td>\n",
              "      <td>0.00</td>\n",
              "      <td>0.0</td>\n",
              "      <td>3.75</td>\n",
              "      <td>1.53</td>\n",
              "      <td>2.22</td>\n",
              "      <td>40.7</td>\n",
              "    </tr>\n",
              "    <tr>\n",
              "      <th>9</th>\n",
              "      <td>22</td>\n",
              "      <td>23</td>\n",
              "      <td>Michel Aebischer</td>\n",
              "      <td>SUI</td>\n",
              "      <td>FWMF</td>\n",
              "      <td>Bologna</td>\n",
              "      <td>Serie A</td>\n",
              "      <td>26</td>\n",
              "      <td>1997</td>\n",
              "      <td>18</td>\n",
              "      <td>...</td>\n",
              "      <td>0.58</td>\n",
              "      <td>1.05</td>\n",
              "      <td>0.12</td>\n",
              "      <td>0.12</td>\n",
              "      <td>0.12</td>\n",
              "      <td>0.0</td>\n",
              "      <td>5.00</td>\n",
              "      <td>0.58</td>\n",
              "      <td>1.05</td>\n",
              "      <td>35.7</td>\n",
              "    </tr>\n",
              "    <tr>\n",
              "      <th>10</th>\n",
              "      <td>23</td>\n",
              "      <td>24</td>\n",
              "      <td>Felix Afena-Gyan</td>\n",
              "      <td>GHA</td>\n",
              "      <td>FWMF</td>\n",
              "      <td>Cremonese</td>\n",
              "      <td>Serie A</td>\n",
              "      <td>20</td>\n",
              "      <td>2003</td>\n",
              "      <td>12</td>\n",
              "      <td>...</td>\n",
              "      <td>1.00</td>\n",
              "      <td>0.75</td>\n",
              "      <td>0.50</td>\n",
              "      <td>0.00</td>\n",
              "      <td>0.00</td>\n",
              "      <td>0.0</td>\n",
              "      <td>4.25</td>\n",
              "      <td>2.00</td>\n",
              "      <td>4.00</td>\n",
              "      <td>33.3</td>\n",
              "    </tr>\n",
              "    <tr>\n",
              "      <th>11</th>\n",
              "      <td>33</td>\n",
              "      <td>34</td>\n",
              "      <td>Amar Ahmed</td>\n",
              "      <td>SWE</td>\n",
              "      <td>FW</td>\n",
              "      <td>Troyes</td>\n",
              "      <td>Ligue 1</td>\n",
              "      <td>18</td>\n",
              "      <td>2004</td>\n",
              "      <td>1</td>\n",
              "      <td>...</td>\n",
              "      <td>0.00</td>\n",
              "      <td>0.00</td>\n",
              "      <td>5.00</td>\n",
              "      <td>0.00</td>\n",
              "      <td>0.00</td>\n",
              "      <td>0.0</td>\n",
              "      <td>10.00</td>\n",
              "      <td>0.00</td>\n",
              "      <td>15.00</td>\n",
              "      <td>0.0</td>\n",
              "    </tr>\n",
              "    <tr>\n",
              "      <th>12</th>\n",
              "      <td>40</td>\n",
              "      <td>41</td>\n",
              "      <td>Ludovic Ajorque</td>\n",
              "      <td>FRA</td>\n",
              "      <td>FW</td>\n",
              "      <td>Strasbourg</td>\n",
              "      <td>Ligue 1</td>\n",
              "      <td>28</td>\n",
              "      <td>1994</td>\n",
              "      <td>13</td>\n",
              "      <td>...</td>\n",
              "      <td>0.12</td>\n",
              "      <td>0.00</td>\n",
              "      <td>0.47</td>\n",
              "      <td>0.00</td>\n",
              "      <td>0.00</td>\n",
              "      <td>0.0</td>\n",
              "      <td>2.44</td>\n",
              "      <td>5.81</td>\n",
              "      <td>3.84</td>\n",
              "      <td>60.2</td>\n",
              "    </tr>\n",
              "    <tr>\n",
              "      <th>13</th>\n",
              "      <td>41</td>\n",
              "      <td>42</td>\n",
              "      <td>Ludovic Ajorque</td>\n",
              "      <td>FRA</td>\n",
              "      <td>FW</td>\n",
              "      <td>Mainz 05</td>\n",
              "      <td>Bundesliga</td>\n",
              "      <td>28</td>\n",
              "      <td>1994</td>\n",
              "      <td>4</td>\n",
              "      <td>...</td>\n",
              "      <td>0.38</td>\n",
              "      <td>0.38</td>\n",
              "      <td>0.00</td>\n",
              "      <td>0.00</td>\n",
              "      <td>0.00</td>\n",
              "      <td>0.0</td>\n",
              "      <td>5.00</td>\n",
              "      <td>10.00</td>\n",
              "      <td>7.69</td>\n",
              "      <td>56.5</td>\n",
              "    </tr>\n",
              "    <tr>\n",
              "      <th>14</th>\n",
              "      <td>51</td>\n",
              "      <td>52</td>\n",
              "      <td>Lucas Alario</td>\n",
              "      <td>ARG</td>\n",
              "      <td>FW</td>\n",
              "      <td>Eint Frankfurt</td>\n",
              "      <td>Bundesliga</td>\n",
              "      <td>30</td>\n",
              "      <td>1992</td>\n",
              "      <td>12</td>\n",
              "      <td>...</td>\n",
              "      <td>1.43</td>\n",
              "      <td>0.00</td>\n",
              "      <td>0.71</td>\n",
              "      <td>0.00</td>\n",
              "      <td>0.00</td>\n",
              "      <td>0.0</td>\n",
              "      <td>2.86</td>\n",
              "      <td>3.93</td>\n",
              "      <td>5.71</td>\n",
              "      <td>40.7</td>\n",
              "    </tr>\n",
              "    <tr>\n",
              "      <th>15</th>\n",
              "      <td>55</td>\n",
              "      <td>56</td>\n",
              "      <td>Marc Albrighton</td>\n",
              "      <td>ENG</td>\n",
              "      <td>FWMF</td>\n",
              "      <td>Leicester City</td>\n",
              "      <td>Premier League</td>\n",
              "      <td>33</td>\n",
              "      <td>1989</td>\n",
              "      <td>6</td>\n",
              "      <td>...</td>\n",
              "      <td>0.38</td>\n",
              "      <td>10.80</td>\n",
              "      <td>0.38</td>\n",
              "      <td>0.00</td>\n",
              "      <td>0.00</td>\n",
              "      <td>0.0</td>\n",
              "      <td>5.38</td>\n",
              "      <td>0.38</td>\n",
              "      <td>0.38</td>\n",
              "      <td>50.0</td>\n",
              "    </tr>\n",
              "    <tr>\n",
              "      <th>16</th>\n",
              "      <td>66</td>\n",
              "      <td>67</td>\n",
              "      <td>Mohamed Ali Cho</td>\n",
              "      <td>FRA</td>\n",
              "      <td>FW</td>\n",
              "      <td>Real Sociedad</td>\n",
              "      <td>La Liga</td>\n",
              "      <td>19</td>\n",
              "      <td>2004</td>\n",
              "      <td>8</td>\n",
              "      <td>...</td>\n",
              "      <td>0.57</td>\n",
              "      <td>4.29</td>\n",
              "      <td>0.86</td>\n",
              "      <td>0.29</td>\n",
              "      <td>0.00</td>\n",
              "      <td>0.0</td>\n",
              "      <td>5.14</td>\n",
              "      <td>0.29</td>\n",
              "      <td>2.29</td>\n",
              "      <td>11.1</td>\n",
              "    </tr>\n",
              "    <tr>\n",
              "      <th>17</th>\n",
              "      <td>72</td>\n",
              "      <td>73</td>\n",
              "      <td>Miguel Almir�n</td>\n",
              "      <td>PAR</td>\n",
              "      <td>FW</td>\n",
              "      <td>Newcastle Utd</td>\n",
              "      <td>Premier League</td>\n",
              "      <td>29</td>\n",
              "      <td>1994</td>\n",
              "      <td>22</td>\n",
              "      <td>...</td>\n",
              "      <td>0.40</td>\n",
              "      <td>0.94</td>\n",
              "      <td>1.19</td>\n",
              "      <td>0.00</td>\n",
              "      <td>0.00</td>\n",
              "      <td>0.0</td>\n",
              "      <td>5.10</td>\n",
              "      <td>0.20</td>\n",
              "      <td>0.45</td>\n",
              "      <td>30.8</td>\n",
              "    </tr>\n",
              "    <tr>\n",
              "      <th>18</th>\n",
              "      <td>76</td>\n",
              "      <td>77</td>\n",
              "      <td>Carlos �lvarez</td>\n",
              "      <td>ESP</td>\n",
              "      <td>FW</td>\n",
              "      <td>Sevilla</td>\n",
              "      <td>La Liga</td>\n",
              "      <td>19</td>\n",
              "      <td>2003</td>\n",
              "      <td>1</td>\n",
              "      <td>...</td>\n",
              "      <td>0.00</td>\n",
              "      <td>0.00</td>\n",
              "      <td>10.00</td>\n",
              "      <td>0.00</td>\n",
              "      <td>0.00</td>\n",
              "      <td>0.0</td>\n",
              "      <td>0.00</td>\n",
              "      <td>0.00</td>\n",
              "      <td>0.00</td>\n",
              "      <td>0.0</td>\n",
              "    </tr>\n",
              "    <tr>\n",
              "      <th>19</th>\n",
              "      <td>78</td>\n",
              "      <td>79</td>\n",
              "      <td>Juli�n �lvarez</td>\n",
              "      <td>ARG</td>\n",
              "      <td>FWMF</td>\n",
              "      <td>Manchester City</td>\n",
              "      <td>Premier League</td>\n",
              "      <td>23</td>\n",
              "      <td>2000</td>\n",
              "      <td>16</td>\n",
              "      <td>...</td>\n",
              "      <td>0.16</td>\n",
              "      <td>1.25</td>\n",
              "      <td>0.78</td>\n",
              "      <td>0.00</td>\n",
              "      <td>0.00</td>\n",
              "      <td>0.0</td>\n",
              "      <td>2.19</td>\n",
              "      <td>0.78</td>\n",
              "      <td>1.72</td>\n",
              "      <td>31.3</td>\n",
              "    </tr>\n",
              "  </tbody>\n",
              "</table>\n",
              "<p>20 rows × 125 columns</p>\n",
              "</div>"
            ],
            "text/plain": [
              "    _c0  Rk             Player Nation   Pos            Squad            Comp  \\\n",
              "0     6   7     Matthis Abline    FRA  FWMF          Auxerre         Ligue 1   \n",
              "1     7   8     Matthis Abline    FRA  FWMF           Rennes         Ligue 1   \n",
              "2     9  10  Zakaria Aboukhlal    MAR  FWMF         Toulouse         Ligue 1   \n",
              "3    10  11      Tammy Abraham    ENG    FW             Roma         Serie A   \n",
              "4    12  13       Mohamed Achi    FRA    FW           Nantes         Ligue 1   \n",
              "5    14  15          Che Adams    SCO    FW      Southampton  Premier League   \n",
              "6    16  17     Sargis Adamyan    ARM  FWMF             K�ln      Bundesliga   \n",
              "7    19  20      Karim Adeyemi    GER  FWMF         Dortmund      Bundesliga   \n",
              "8    20  21         Amine Adli    FRA    FW       Leverkusen      Bundesliga   \n",
              "9    22  23   Michel Aebischer    SUI  FWMF          Bologna         Serie A   \n",
              "10   23  24   Felix Afena-Gyan    GHA  FWMF        Cremonese         Serie A   \n",
              "11   33  34         Amar Ahmed    SWE    FW           Troyes         Ligue 1   \n",
              "12   40  41    Ludovic Ajorque    FRA    FW       Strasbourg         Ligue 1   \n",
              "13   41  42    Ludovic Ajorque    FRA    FW         Mainz 05      Bundesliga   \n",
              "14   51  52       Lucas Alario    ARG    FW   Eint Frankfurt      Bundesliga   \n",
              "15   55  56    Marc Albrighton    ENG  FWMF   Leicester City  Premier League   \n",
              "16   66  67    Mohamed Ali Cho    FRA    FW    Real Sociedad         La Liga   \n",
              "17   72  73     Miguel Almir�n    PAR    FW    Newcastle Utd  Premier League   \n",
              "18   76  77     Carlos �lvarez    ESP    FW          Sevilla         La Liga   \n",
              "19   78  79     Juli�n �lvarez    ARG  FWMF  Manchester City  Premier League   \n",
              "\n",
              "    Age  Born  MP  ...   Off    Crs   TklW  PKwon  PKcon   OG  Recov  AerWon  \\\n",
              "0    19  2003   5  ...  0.48   0.95   0.48   0.00   0.00  0.0   0.48    1.43   \n",
              "1    19  2003  11  ...  0.83   1.67   0.83   0.83   0.00  0.0   1.67    0.83   \n",
              "2    22  2000  22  ...  0.72   0.96   0.72   0.00   0.00  0.0   4.43    0.42   \n",
              "3    25  1997  22  ...  0.51   0.28   0.40   0.06   0.00  0.0   1.87    2.56   \n",
              "4    21  2002   2  ...  0.00   2.50   2.50   0.00   0.00  0.0   5.00    0.00   \n",
              "5    26  1996  21  ...  0.40   0.51   0.69   0.00   0.00  0.0   2.29    2.97   \n",
              "6    29  1993  16  ...  0.58   1.92   1.15   0.00   0.00  0.0   5.38    1.54   \n",
              "7    21  2002  15  ...  0.00   1.76   0.71   0.00   0.00  0.0   4.94    0.82   \n",
              "8    22  2000  13  ...  0.28   0.83   1.11   0.00   0.00  0.0   3.75    1.53   \n",
              "9    26  1997  18  ...  0.58   1.05   0.12   0.12   0.12  0.0   5.00    0.58   \n",
              "10   20  2003  12  ...  1.00   0.75   0.50   0.00   0.00  0.0   4.25    2.00   \n",
              "11   18  2004   1  ...  0.00   0.00   5.00   0.00   0.00  0.0  10.00    0.00   \n",
              "12   28  1994  13  ...  0.12   0.00   0.47   0.00   0.00  0.0   2.44    5.81   \n",
              "13   28  1994   4  ...  0.38   0.38   0.00   0.00   0.00  0.0   5.00   10.00   \n",
              "14   30  1992  12  ...  1.43   0.00   0.71   0.00   0.00  0.0   2.86    3.93   \n",
              "15   33  1989   6  ...  0.38  10.80   0.38   0.00   0.00  0.0   5.38    0.38   \n",
              "16   19  2004   8  ...  0.57   4.29   0.86   0.29   0.00  0.0   5.14    0.29   \n",
              "17   29  1994  22  ...  0.40   0.94   1.19   0.00   0.00  0.0   5.10    0.20   \n",
              "18   19  2003   1  ...  0.00   0.00  10.00   0.00   0.00  0.0   0.00    0.00   \n",
              "19   23  2000  16  ...  0.16   1.25   0.78   0.00   0.00  0.0   2.19    0.78   \n",
              "\n",
              "    AerLost  AerWon%  \n",
              "0      1.43     50.0  \n",
              "1      3.33     20.0  \n",
              "2      1.32     24.1  \n",
              "3      2.39     51.7  \n",
              "4      0.00      0.0  \n",
              "5      5.03     37.1  \n",
              "6      3.85     28.6  \n",
              "7      0.24     77.8  \n",
              "8      2.22     40.7  \n",
              "9      1.05     35.7  \n",
              "10     4.00     33.3  \n",
              "11    15.00      0.0  \n",
              "12     3.84     60.2  \n",
              "13     7.69     56.5  \n",
              "14     5.71     40.7  \n",
              "15     0.38     50.0  \n",
              "16     2.29     11.1  \n",
              "17     0.45     30.8  \n",
              "18     0.00      0.0  \n",
              "19     1.72     31.3  \n",
              "\n",
              "[20 rows x 125 columns]"
            ]
          },
          "execution_count": 406,
          "metadata": {},
          "output_type": "execute_result"
        }
      ],
      "source": [
        "Atacante.head(20)"
      ]
    },
    {
      "attachments": {},
      "cell_type": "markdown",
      "metadata": {},
      "source": [
        "Criando uma coluna para calcular a quantidade de gols por jogo"
      ]
    },
    {
      "cell_type": "code",
      "execution_count": 407,
      "metadata": {
        "colab": {
          "base_uri": "https://localhost:8080/",
          "height": 542
        },
        "id": "r_UKnQjEhlQo",
        "outputId": "c3ed6516-8975-4fb9-cb83-41c9e023c4c4"
      },
      "outputs": [
        {
          "data": {
            "application/vnd.plotly.v1+json": {
              "config": {
                "plotlyServerURL": "https://plot.ly"
              },
              "data": [
                {
                  "alignmentgroup": "True",
                  "bingroup": "x",
                  "hovertemplate": "Player=Erling Haaland<br>GPJ=%{x}<br>count=%{y}<extra></extra>",
                  "legendgroup": "Erling Haaland",
                  "marker": {
                    "color": "#636efa",
                    "pattern": {
                      "shape": ""
                    }
                  },
                  "name": "Erling Haaland",
                  "offsetgroup": "Erling Haaland",
                  "orientation": "v",
                  "showlegend": true,
                  "type": "histogram",
                  "x": [
                    1.25
                  ],
                  "xaxis": "x",
                  "yaxis": "y"
                },
                {
                  "alignmentgroup": "True",
                  "bingroup": "x",
                  "hovertemplate": "Player=Reiss Nelson<br>GPJ=%{x}<br>count=%{y}<extra></extra>",
                  "legendgroup": "Reiss Nelson",
                  "marker": {
                    "color": "#EF553B",
                    "pattern": {
                      "shape": ""
                    }
                  },
                  "name": "Reiss Nelson",
                  "offsetgroup": "Reiss Nelson",
                  "orientation": "v",
                  "showlegend": true,
                  "type": "histogram",
                  "x": [
                    1
                  ],
                  "xaxis": "x",
                  "yaxis": "y"
                },
                {
                  "alignmentgroup": "True",
                  "bingroup": "x",
                  "hovertemplate": "Player=Cyle Larin<br>GPJ=%{x}<br>count=%{y}<extra></extra>",
                  "legendgroup": "Cyle Larin",
                  "marker": {
                    "color": "#00cc96",
                    "pattern": {
                      "shape": ""
                    }
                  },
                  "name": "Cyle Larin",
                  "offsetgroup": "Cyle Larin",
                  "orientation": "v",
                  "showlegend": true,
                  "type": "histogram",
                  "x": [
                    1
                  ],
                  "xaxis": "x",
                  "yaxis": "y"
                },
                {
                  "alignmentgroup": "True",
                  "bingroup": "x",
                  "hovertemplate": "Player=Moritz Broschinski<br>GPJ=%{x}<br>count=%{y}<extra></extra>",
                  "legendgroup": "Moritz Broschinski",
                  "marker": {
                    "color": "#ab63fa",
                    "pattern": {
                      "shape": ""
                    }
                  },
                  "name": "Moritz Broschinski",
                  "offsetgroup": "Moritz Broschinski",
                  "orientation": "v",
                  "showlegend": true,
                  "type": "histogram",
                  "x": [
                    1
                  ],
                  "xaxis": "x",
                  "yaxis": "y"
                },
                {
                  "alignmentgroup": "True",
                  "bingroup": "x",
                  "hovertemplate": "Player=Victor Osimhen<br>GPJ=%{x}<br>count=%{y}<extra></extra>",
                  "legendgroup": "Victor Osimhen",
                  "marker": {
                    "color": "#FFA15A",
                    "pattern": {
                      "shape": ""
                    }
                  },
                  "name": "Victor Osimhen",
                  "offsetgroup": "Victor Osimhen",
                  "orientation": "v",
                  "showlegend": true,
                  "type": "histogram",
                  "x": [
                    0.9411764705882353
                  ],
                  "xaxis": "x",
                  "yaxis": "y"
                },
                {
                  "alignmentgroup": "True",
                  "bingroup": "x",
                  "hovertemplate": "Player=Robert Lewandowski<br>GPJ=%{x}<br>count=%{y}<extra></extra>",
                  "legendgroup": "Robert Lewandowski",
                  "marker": {
                    "color": "#19d3f3",
                    "pattern": {
                      "shape": ""
                    }
                  },
                  "name": "Robert Lewandowski",
                  "offsetgroup": "Robert Lewandowski",
                  "orientation": "v",
                  "showlegend": true,
                  "type": "histogram",
                  "x": [
                    0.8235294117647058
                  ],
                  "xaxis": "x",
                  "yaxis": "y"
                },
                {
                  "alignmentgroup": "True",
                  "bingroup": "x",
                  "hovertemplate": "Player=Christopher Nkunku<br>GPJ=%{x}<br>count=%{y}<extra></extra>",
                  "legendgroup": "Christopher Nkunku",
                  "marker": {
                    "color": "#FF6692",
                    "pattern": {
                      "shape": ""
                    }
                  },
                  "name": "Christopher Nkunku",
                  "offsetgroup": "Christopher Nkunku",
                  "orientation": "v",
                  "showlegend": true,
                  "type": "histogram",
                  "x": [
                    0.8
                  ],
                  "xaxis": "x",
                  "yaxis": "y"
                },
                {
                  "alignmentgroup": "True",
                  "bingroup": "x",
                  "hovertemplate": "Player=Karim Benzema<br>GPJ=%{x}<br>count=%{y}<extra></extra>",
                  "legendgroup": "Karim Benzema",
                  "marker": {
                    "color": "#B6E880",
                    "pattern": {
                      "shape": ""
                    }
                  },
                  "name": "Karim Benzema",
                  "offsetgroup": "Karim Benzema",
                  "orientation": "v",
                  "showlegend": true,
                  "type": "histogram",
                  "x": [
                    0.75
                  ],
                  "xaxis": "x",
                  "yaxis": "y"
                },
                {
                  "alignmentgroup": "True",
                  "bingroup": "x",
                  "hovertemplate": "Player=Harry Kane<br>GPJ=%{x}<br>count=%{y}<extra></extra>",
                  "legendgroup": "Harry Kane",
                  "marker": {
                    "color": "#FF97FF",
                    "pattern": {
                      "shape": ""
                    }
                  },
                  "name": "Harry Kane",
                  "offsetgroup": "Harry Kane",
                  "orientation": "v",
                  "showlegend": true,
                  "type": "histogram",
                  "x": [
                    0.7391304347826086
                  ],
                  "xaxis": "x",
                  "yaxis": "y"
                },
                {
                  "alignmentgroup": "True",
                  "bingroup": "x",
                  "hovertemplate": "Player=Wissam Ben Yedder<br>GPJ=%{x}<br>count=%{y}<extra></extra>",
                  "legendgroup": "Wissam Ben Yedder",
                  "marker": {
                    "color": "#FECB52",
                    "pattern": {
                      "shape": ""
                    }
                  },
                  "name": "Wissam Ben Yedder",
                  "offsetgroup": "Wissam Ben Yedder",
                  "orientation": "v",
                  "showlegend": true,
                  "type": "histogram",
                  "x": [
                    0.7368421052631579
                  ],
                  "xaxis": "x",
                  "yaxis": "y"
                },
                {
                  "alignmentgroup": "True",
                  "bingroup": "x",
                  "hovertemplate": "Player=Ivan Toney<br>GPJ=%{x}<br>count=%{y}<extra></extra>",
                  "legendgroup": "Ivan Toney",
                  "marker": {
                    "color": "#636efa",
                    "pattern": {
                      "shape": ""
                    }
                  },
                  "name": "Ivan Toney",
                  "offsetgroup": "Ivan Toney",
                  "orientation": "v",
                  "showlegend": true,
                  "type": "histogram",
                  "x": [
                    0.7
                  ],
                  "xaxis": "x",
                  "yaxis": "y"
                },
                {
                  "alignmentgroup": "True",
                  "bingroup": "x",
                  "hovertemplate": "Player=Niclas F�llkrug<br>GPJ=%{x}<br>count=%{y}<extra></extra>",
                  "legendgroup": "Niclas F�llkrug",
                  "marker": {
                    "color": "#EF553B",
                    "pattern": {
                      "shape": ""
                    }
                  },
                  "name": "Niclas F�llkrug",
                  "offsetgroup": "Niclas F�llkrug",
                  "orientation": "v",
                  "showlegend": true,
                  "type": "histogram",
                  "x": [
                    0.6842105263157895
                  ],
                  "xaxis": "x",
                  "yaxis": "y"
                },
                {
                  "alignmentgroup": "True",
                  "bingroup": "x",
                  "hovertemplate": "Player=Kylian Mbapp�<br>GPJ=%{x}<br>count=%{y}<extra></extra>",
                  "legendgroup": "Kylian Mbapp�",
                  "marker": {
                    "color": "#00cc96",
                    "pattern": {
                      "shape": ""
                    }
                  },
                  "name": "Kylian Mbapp�",
                  "offsetgroup": "Kylian Mbapp�",
                  "orientation": "v",
                  "showlegend": true,
                  "type": "histogram",
                  "x": [
                    0.6842105263157895
                  ],
                  "xaxis": "x",
                  "yaxis": "y"
                },
                {
                  "alignmentgroup": "True",
                  "bingroup": "x",
                  "hovertemplate": "Player=Terem Moffi<br>GPJ=%{x}<br>count=%{y}<extra></extra>",
                  "legendgroup": "Terem Moffi",
                  "marker": {
                    "color": "#ab63fa",
                    "pattern": {
                      "shape": ""
                    }
                  },
                  "name": "Terem Moffi",
                  "offsetgroup": "Terem Moffi",
                  "orientation": "v",
                  "showlegend": true,
                  "type": "histogram",
                  "x": [
                    0.6666666666666666
                  ],
                  "xaxis": "x",
                  "yaxis": "y"
                },
                {
                  "alignmentgroup": "True",
                  "bingroup": "x",
                  "hovertemplate": "Player=Folarin Balogun<br>GPJ=%{x}<br>count=%{y}<extra></extra>",
                  "legendgroup": "Folarin Balogun",
                  "marker": {
                    "color": "#FFA15A",
                    "pattern": {
                      "shape": ""
                    }
                  },
                  "name": "Folarin Balogun",
                  "offsetgroup": "Folarin Balogun",
                  "orientation": "v",
                  "showlegend": true,
                  "type": "histogram",
                  "x": [
                    0.6666666666666666
                  ],
                  "xaxis": "x",
                  "yaxis": "y"
                },
                {
                  "alignmentgroup": "True",
                  "bingroup": "x",
                  "hovertemplate": "Player=Umar Sadiq<br>GPJ=%{x}<br>count=%{y}<extra></extra>",
                  "legendgroup": "Umar Sadiq",
                  "marker": {
                    "color": "#19d3f3",
                    "pattern": {
                      "shape": ""
                    }
                  },
                  "name": "Umar Sadiq",
                  "offsetgroup": "Umar Sadiq",
                  "orientation": "v",
                  "showlegend": true,
                  "type": "histogram",
                  "x": [
                    0.6666666666666666,
                    0.5
                  ],
                  "xaxis": "x",
                  "yaxis": "y"
                },
                {
                  "alignmentgroup": "True",
                  "bingroup": "x",
                  "hovertemplate": "Player=Du�an Vlahovi?<br>GPJ=%{x}<br>count=%{y}<extra></extra>",
                  "legendgroup": "Du�an Vlahovi?",
                  "marker": {
                    "color": "#FF6692",
                    "pattern": {
                      "shape": ""
                    }
                  },
                  "name": "Du�an Vlahovi?",
                  "offsetgroup": "Du�an Vlahovi?",
                  "orientation": "v",
                  "showlegend": true,
                  "type": "histogram",
                  "x": [
                    0.6666666666666666
                  ],
                  "xaxis": "x",
                  "yaxis": "y"
                },
                {
                  "alignmentgroup": "True",
                  "bingroup": "x",
                  "hovertemplate": "Player=Alexandre Lacazette<br>GPJ=%{x}<br>count=%{y}<extra></extra>",
                  "legendgroup": "Alexandre Lacazette",
                  "marker": {
                    "color": "#B6E880",
                    "pattern": {
                      "shape": ""
                    }
                  },
                  "name": "Alexandre Lacazette",
                  "offsetgroup": "Alexandre Lacazette",
                  "orientation": "v",
                  "showlegend": true,
                  "type": "histogram",
                  "x": [
                    0.5909090909090909
                  ],
                  "xaxis": "x",
                  "yaxis": "y"
                },
                {
                  "alignmentgroup": "True",
                  "bingroup": "x",
                  "hovertemplate": "Player=Vincenzo Grifo<br>GPJ=%{x}<br>count=%{y}<extra></extra>",
                  "legendgroup": "Vincenzo Grifo",
                  "marker": {
                    "color": "#FF97FF",
                    "pattern": {
                      "shape": ""
                    }
                  },
                  "name": "Vincenzo Grifo",
                  "offsetgroup": "Vincenzo Grifo",
                  "orientation": "v",
                  "showlegend": true,
                  "type": "histogram",
                  "x": [
                    0.5789473684210527
                  ],
                  "xaxis": "x",
                  "yaxis": "y"
                },
                {
                  "alignmentgroup": "True",
                  "bingroup": "x",
                  "hovertemplate": "Player=Aleksandar Mitrovi?<br>GPJ=%{x}<br>count=%{y}<extra></extra>",
                  "legendgroup": "Aleksandar Mitrovi?",
                  "marker": {
                    "color": "#FECB52",
                    "pattern": {
                      "shape": ""
                    }
                  },
                  "name": "Aleksandar Mitrovi?",
                  "offsetgroup": "Aleksandar Mitrovi?",
                  "orientation": "v",
                  "showlegend": true,
                  "type": "histogram",
                  "x": [
                    0.5789473684210527
                  ],
                  "xaxis": "x",
                  "yaxis": "y"
                },
                {
                  "alignmentgroup": "True",
                  "bingroup": "x",
                  "hovertemplate": "Player=Joselu<br>GPJ=%{x}<br>count=%{y}<extra></extra>",
                  "legendgroup": "Joselu",
                  "marker": {
                    "color": "#636efa",
                    "pattern": {
                      "shape": ""
                    }
                  },
                  "name": "Joselu",
                  "offsetgroup": "Joselu",
                  "orientation": "v",
                  "showlegend": true,
                  "type": "histogram",
                  "x": [
                    0.5789473684210527
                  ],
                  "xaxis": "x",
                  "yaxis": "y"
                },
                {
                  "alignmentgroup": "True",
                  "bingroup": "x",
                  "hovertemplate": "Player=Lautaro Mart�nez<br>GPJ=%{x}<br>count=%{y}<extra></extra>",
                  "legendgroup": "Lautaro Mart�nez",
                  "marker": {
                    "color": "#EF553B",
                    "pattern": {
                      "shape": ""
                    }
                  },
                  "name": "Lautaro Mart�nez",
                  "offsetgroup": "Lautaro Mart�nez",
                  "orientation": "v",
                  "showlegend": true,
                  "type": "histogram",
                  "x": [
                    0.5714285714285714
                  ],
                  "xaxis": "x",
                  "yaxis": "y"
                },
                {
                  "alignmentgroup": "True",
                  "bingroup": "x",
                  "hovertemplate": "Player=Ademola Lookman<br>GPJ=%{x}<br>count=%{y}<extra></extra>",
                  "legendgroup": "Ademola Lookman",
                  "marker": {
                    "color": "#00cc96",
                    "pattern": {
                      "shape": ""
                    }
                  },
                  "name": "Ademola Lookman",
                  "offsetgroup": "Ademola Lookman",
                  "orientation": "v",
                  "showlegend": true,
                  "type": "histogram",
                  "x": [
                    0.5714285714285714
                  ],
                  "xaxis": "x",
                  "yaxis": "y"
                },
                {
                  "alignmentgroup": "True",
                  "bingroup": "x",
                  "hovertemplate": "Player=Jonathan David<br>GPJ=%{x}<br>count=%{y}<extra></extra>",
                  "legendgroup": "Jonathan David",
                  "marker": {
                    "color": "#ab63fa",
                    "pattern": {
                      "shape": ""
                    }
                  },
                  "name": "Jonathan David",
                  "offsetgroup": "Jonathan David",
                  "orientation": "v",
                  "showlegend": true,
                  "type": "histogram",
                  "x": [
                    0.5714285714285714
                  ],
                  "xaxis": "x",
                  "yaxis": "y"
                },
                {
                  "alignmentgroup": "True",
                  "bingroup": "x",
                  "hovertemplate": "Player=Marko Arnautovi?<br>GPJ=%{x}<br>count=%{y}<extra></extra>",
                  "legendgroup": "Marko Arnautovi?",
                  "marker": {
                    "color": "#FFA15A",
                    "pattern": {
                      "shape": ""
                    }
                  },
                  "name": "Marko Arnautovi?",
                  "offsetgroup": "Marko Arnautovi?",
                  "orientation": "v",
                  "showlegend": true,
                  "type": "histogram",
                  "x": [
                    0.5714285714285714
                  ],
                  "xaxis": "x",
                  "yaxis": "y"
                },
                {
                  "alignmentgroup": "True",
                  "bingroup": "x",
                  "hovertemplate": "Player=Martin Terrier<br>GPJ=%{x}<br>count=%{y}<extra></extra>",
                  "legendgroup": "Martin Terrier",
                  "marker": {
                    "color": "#19d3f3",
                    "pattern": {
                      "shape": ""
                    }
                  },
                  "name": "Martin Terrier",
                  "offsetgroup": "Martin Terrier",
                  "orientation": "v",
                  "showlegend": true,
                  "type": "histogram",
                  "x": [
                    0.5625
                  ],
                  "xaxis": "x",
                  "yaxis": "y"
                },
                {
                  "alignmentgroup": "True",
                  "bingroup": "x",
                  "hovertemplate": "Player=Rodrigo<br>GPJ=%{x}<br>count=%{y}<extra></extra>",
                  "legendgroup": "Rodrigo",
                  "marker": {
                    "color": "#FF6692",
                    "pattern": {
                      "shape": ""
                    }
                  },
                  "name": "Rodrigo",
                  "offsetgroup": "Rodrigo",
                  "orientation": "v",
                  "showlegend": true,
                  "type": "histogram",
                  "x": [
                    0.5555555555555556
                  ],
                  "xaxis": "x",
                  "yaxis": "y"
                },
                {
                  "alignmentgroup": "True",
                  "bingroup": "x",
                  "hovertemplate": "Player=Marcus Thuram<br>GPJ=%{x}<br>count=%{y}<extra></extra>",
                  "legendgroup": "Marcus Thuram",
                  "marker": {
                    "color": "#B6E880",
                    "pattern": {
                      "shape": ""
                    }
                  },
                  "name": "Marcus Thuram",
                  "offsetgroup": "Marcus Thuram",
                  "orientation": "v",
                  "showlegend": true,
                  "type": "histogram",
                  "x": [
                    0.5555555555555556
                  ],
                  "xaxis": "x",
                  "yaxis": "y"
                },
                {
                  "alignmentgroup": "True",
                  "bingroup": "x",
                  "hovertemplate": "Player=Roberto Firmino<br>GPJ=%{x}<br>count=%{y}<extra></extra>",
                  "legendgroup": "Roberto Firmino",
                  "marker": {
                    "color": "#FF97FF",
                    "pattern": {
                      "shape": ""
                    }
                  },
                  "name": "Roberto Firmino",
                  "offsetgroup": "Roberto Firmino",
                  "orientation": "v",
                  "showlegend": true,
                  "type": "histogram",
                  "x": [
                    0.5384615384615384
                  ],
                  "xaxis": "x",
                  "yaxis": "y"
                },
                {
                  "alignmentgroup": "True",
                  "bingroup": "x",
                  "hovertemplate": "Player=Amine Gouiri<br>GPJ=%{x}<br>count=%{y}<extra></extra>",
                  "legendgroup": "Amine Gouiri",
                  "marker": {
                    "color": "#FECB52",
                    "pattern": {
                      "shape": ""
                    }
                  },
                  "name": "Amine Gouiri",
                  "offsetgroup": "Amine Gouiri",
                  "orientation": "v",
                  "showlegend": true,
                  "type": "histogram",
                  "x": [
                    0.5294117647058824
                  ],
                  "xaxis": "x",
                  "yaxis": "y"
                },
                {
                  "alignmentgroup": "True",
                  "bingroup": "x",
                  "hovertemplate": "Player=Breel Embolo<br>GPJ=%{x}<br>count=%{y}<extra></extra>",
                  "legendgroup": "Breel Embolo",
                  "marker": {
                    "color": "#636efa",
                    "pattern": {
                      "shape": ""
                    }
                  },
                  "name": "Breel Embolo",
                  "offsetgroup": "Breel Embolo",
                  "orientation": "v",
                  "showlegend": true,
                  "type": "histogram",
                  "x": [
                    0.5217391304347826
                  ],
                  "xaxis": "x",
                  "yaxis": "y"
                },
                {
                  "alignmentgroup": "True",
                  "bingroup": "x",
                  "hovertemplate": "Player=Tet�<br>GPJ=%{x}<br>count=%{y}<extra></extra>",
                  "legendgroup": "Tet�",
                  "marker": {
                    "color": "#EF553B",
                    "pattern": {
                      "shape": ""
                    }
                  },
                  "name": "Tet�",
                  "offsetgroup": "Tet�",
                  "orientation": "v",
                  "showlegend": true,
                  "type": "histogram",
                  "x": [
                    0.5
                  ],
                  "xaxis": "x",
                  "yaxis": "y"
                },
                {
                  "alignmentgroup": "True",
                  "bingroup": "x",
                  "hovertemplate": "Player=Randal Kolo Muani<br>GPJ=%{x}<br>count=%{y}<extra></extra>",
                  "legendgroup": "Randal Kolo Muani",
                  "marker": {
                    "color": "#00cc96",
                    "pattern": {
                      "shape": ""
                    }
                  },
                  "name": "Randal Kolo Muani",
                  "offsetgroup": "Randal Kolo Muani",
                  "orientation": "v",
                  "showlegend": true,
                  "type": "histogram",
                  "x": [
                    0.5
                  ],
                  "xaxis": "x",
                  "yaxis": "y"
                },
                {
                  "alignmentgroup": "True",
                  "bingroup": "x",
                  "hovertemplate": "Player=Memphis<br>GPJ=%{x}<br>count=%{y}<extra></extra>",
                  "legendgroup": "Memphis",
                  "marker": {
                    "color": "#ab63fa",
                    "pattern": {
                      "shape": ""
                    }
                  },
                  "name": "Memphis",
                  "offsetgroup": "Memphis",
                  "orientation": "v",
                  "showlegend": true,
                  "type": "histogram",
                  "x": [
                    0.5
                  ],
                  "xaxis": "x",
                  "yaxis": "y"
                },
                {
                  "alignmentgroup": "True",
                  "bingroup": "x",
                  "hovertemplate": "Player=Cyril Ngonge<br>GPJ=%{x}<br>count=%{y}<extra></extra>",
                  "legendgroup": "Cyril Ngonge",
                  "marker": {
                    "color": "#FFA15A",
                    "pattern": {
                      "shape": ""
                    }
                  },
                  "name": "Cyril Ngonge",
                  "offsetgroup": "Cyril Ngonge",
                  "orientation": "v",
                  "showlegend": true,
                  "type": "histogram",
                  "x": [
                    0.5
                  ],
                  "xaxis": "x",
                  "yaxis": "y"
                },
                {
                  "alignmentgroup": "True",
                  "bingroup": "x",
                  "hovertemplate": "Player=Evan Ferguson<br>GPJ=%{x}<br>count=%{y}<extra></extra>",
                  "legendgroup": "Evan Ferguson",
                  "marker": {
                    "color": "#19d3f3",
                    "pattern": {
                      "shape": ""
                    }
                  },
                  "name": "Evan Ferguson",
                  "offsetgroup": "Evan Ferguson",
                  "orientation": "v",
                  "showlegend": true,
                  "type": "histogram",
                  "x": [
                    0.5
                  ],
                  "xaxis": "x",
                  "yaxis": "y"
                },
                {
                  "alignmentgroup": "True",
                  "bingroup": "x",
                  "hovertemplate": "Player=Eric Maxim Choupo-Moting<br>GPJ=%{x}<br>count=%{y}<extra></extra>",
                  "legendgroup": "Eric Maxim Choupo-Moting",
                  "marker": {
                    "color": "#FF6692",
                    "pattern": {
                      "shape": ""
                    }
                  },
                  "name": "Eric Maxim Choupo-Moting",
                  "offsetgroup": "Eric Maxim Choupo-Moting",
                  "orientation": "v",
                  "showlegend": true,
                  "type": "histogram",
                  "x": [
                    0.5
                  ],
                  "xaxis": "x",
                  "yaxis": "y"
                },
                {
                  "alignmentgroup": "True",
                  "bingroup": "x",
                  "hovertemplate": "Player=Marcus Rashford<br>GPJ=%{x}<br>count=%{y}<extra></extra>",
                  "legendgroup": "Marcus Rashford",
                  "marker": {
                    "color": "#B6E880",
                    "pattern": {
                      "shape": ""
                    }
                  },
                  "name": "Marcus Rashford",
                  "offsetgroup": "Marcus Rashford",
                  "orientation": "v",
                  "showlegend": true,
                  "type": "histogram",
                  "x": [
                    0.5
                  ],
                  "xaxis": "x",
                  "yaxis": "y"
                },
                {
                  "alignmentgroup": "True",
                  "bingroup": "x",
                  "hovertemplate": "Player=Ga�tan Laborde<br>GPJ=%{x}<br>count=%{y}<extra></extra>",
                  "legendgroup": "Ga�tan Laborde",
                  "marker": {
                    "color": "#FF97FF",
                    "pattern": {
                      "shape": ""
                    }
                  },
                  "name": "Ga�tan Laborde",
                  "offsetgroup": "Ga�tan Laborde",
                  "orientation": "v",
                  "showlegend": true,
                  "type": "histogram",
                  "x": [
                    0.5
                  ],
                  "xaxis": "x",
                  "yaxis": "y"
                },
                {
                  "alignmentgroup": "True",
                  "bingroup": "x",
                  "hovertemplate": "Player=Janis Antiste<br>GPJ=%{x}<br>count=%{y}<extra></extra>",
                  "legendgroup": "Janis Antiste",
                  "marker": {
                    "color": "#FECB52",
                    "pattern": {
                      "shape": ""
                    }
                  },
                  "name": "Janis Antiste",
                  "offsetgroup": "Janis Antiste",
                  "orientation": "v",
                  "showlegend": true,
                  "type": "histogram",
                  "x": [
                    0.5
                  ],
                  "xaxis": "x",
                  "yaxis": "y"
                },
                {
                  "alignmentgroup": "True",
                  "bingroup": "x",
                  "hovertemplate": "Player=Sergi Guardiola<br>GPJ=%{x}<br>count=%{y}<extra></extra>",
                  "legendgroup": "Sergi Guardiola",
                  "marker": {
                    "color": "#636efa",
                    "pattern": {
                      "shape": ""
                    }
                  },
                  "name": "Sergi Guardiola",
                  "offsetgroup": "Sergi Guardiola",
                  "orientation": "v",
                  "showlegend": true,
                  "type": "histogram",
                  "x": [
                    0.5
                  ],
                  "xaxis": "x",
                  "yaxis": "y"
                },
                {
                  "alignmentgroup": "True",
                  "bingroup": "x",
                  "hovertemplate": "Player=M'Bala Nzola<br>GPJ=%{x}<br>count=%{y}<extra></extra>",
                  "legendgroup": "M'Bala Nzola",
                  "marker": {
                    "color": "#EF553B",
                    "pattern": {
                      "shape": ""
                    }
                  },
                  "name": "M'Bala Nzola",
                  "offsetgroup": "M'Bala Nzola",
                  "orientation": "v",
                  "showlegend": true,
                  "type": "histogram",
                  "x": [
                    0.5
                  ],
                  "xaxis": "x",
                  "yaxis": "y"
                },
                {
                  "alignmentgroup": "True",
                  "bingroup": "x",
                  "hovertemplate": "Player=Alexander Isak<br>GPJ=%{x}<br>count=%{y}<extra></extra>",
                  "legendgroup": "Alexander Isak",
                  "marker": {
                    "color": "#00cc96",
                    "pattern": {
                      "shape": ""
                    }
                  },
                  "name": "Alexander Isak",
                  "offsetgroup": "Alexander Isak",
                  "orientation": "v",
                  "showlegend": true,
                  "type": "histogram",
                  "x": [
                    0.5,
                    0.5
                  ],
                  "xaxis": "x",
                  "yaxis": "y"
                },
                {
                  "alignmentgroup": "True",
                  "bingroup": "x",
                  "hovertemplate": "Player=Alexander S�rloth<br>GPJ=%{x}<br>count=%{y}<extra></extra>",
                  "legendgroup": "Alexander S�rloth",
                  "marker": {
                    "color": "#ab63fa",
                    "pattern": {
                      "shape": ""
                    }
                  },
                  "name": "Alexander S�rloth",
                  "offsetgroup": "Alexander S�rloth",
                  "orientation": "v",
                  "showlegend": true,
                  "type": "histogram",
                  "x": [
                    0.5
                  ],
                  "xaxis": "x",
                  "yaxis": "y"
                },
                {
                  "alignmentgroup": "True",
                  "bingroup": "x",
                  "hovertemplate": "Player=Khvicha Kvaratskhelia<br>GPJ=%{x}<br>count=%{y}<extra></extra>",
                  "legendgroup": "Khvicha Kvaratskhelia",
                  "marker": {
                    "color": "#FFA15A",
                    "pattern": {
                      "shape": ""
                    }
                  },
                  "name": "Khvicha Kvaratskhelia",
                  "offsetgroup": "Khvicha Kvaratskhelia",
                  "orientation": "v",
                  "showlegend": true,
                  "type": "histogram",
                  "x": [
                    0.47058823529411764
                  ],
                  "xaxis": "x",
                  "yaxis": "y"
                },
                {
                  "alignmentgroup": "True",
                  "bingroup": "x",
                  "hovertemplate": "Player=Sehrou Guirassy<br>GPJ=%{x}<br>count=%{y}<extra></extra>",
                  "legendgroup": "Sehrou Guirassy",
                  "marker": {
                    "color": "#19d3f3",
                    "pattern": {
                      "shape": ""
                    }
                  },
                  "name": "Sehrou Guirassy",
                  "offsetgroup": "Sehrou Guirassy",
                  "orientation": "v",
                  "showlegend": true,
                  "type": "histogram",
                  "x": [
                    0.46153846153846156
                  ],
                  "xaxis": "x",
                  "yaxis": "y"
                },
                {
                  "alignmentgroup": "True",
                  "bingroup": "x",
                  "hovertemplate": "Player=Habib Diallo<br>GPJ=%{x}<br>count=%{y}<extra></extra>",
                  "legendgroup": "Habib Diallo",
                  "marker": {
                    "color": "#FF6692",
                    "pattern": {
                      "shape": ""
                    }
                  },
                  "name": "Habib Diallo",
                  "offsetgroup": "Habib Diallo",
                  "orientation": "v",
                  "showlegend": true,
                  "type": "histogram",
                  "x": [
                    0.45454545454545453
                  ],
                  "xaxis": "x",
                  "yaxis": "y"
                },
                {
                  "alignmentgroup": "True",
                  "bingroup": "x",
                  "hovertemplate": "Player=Miguel Almir�n<br>GPJ=%{x}<br>count=%{y}<extra></extra>",
                  "legendgroup": "Miguel Almir�n",
                  "marker": {
                    "color": "#B6E880",
                    "pattern": {
                      "shape": ""
                    }
                  },
                  "name": "Miguel Almir�n",
                  "offsetgroup": "Miguel Almir�n",
                  "orientation": "v",
                  "showlegend": true,
                  "type": "histogram",
                  "x": [
                    0.45454545454545453
                  ],
                  "xaxis": "x",
                  "yaxis": "y"
                }
              ],
              "layout": {
                "barmode": "relative",
                "legend": {
                  "title": {
                    "text": "Player"
                  },
                  "tracegroupgap": 0
                },
                "margin": {
                  "t": 60
                },
                "template": {
                  "data": {
                    "bar": [
                      {
                        "error_x": {
                          "color": "#2a3f5f"
                        },
                        "error_y": {
                          "color": "#2a3f5f"
                        },
                        "marker": {
                          "line": {
                            "color": "#E5ECF6",
                            "width": 0.5
                          },
                          "pattern": {
                            "fillmode": "overlay",
                            "size": 10,
                            "solidity": 0.2
                          }
                        },
                        "type": "bar"
                      }
                    ],
                    "barpolar": [
                      {
                        "marker": {
                          "line": {
                            "color": "#E5ECF6",
                            "width": 0.5
                          },
                          "pattern": {
                            "fillmode": "overlay",
                            "size": 10,
                            "solidity": 0.2
                          }
                        },
                        "type": "barpolar"
                      }
                    ],
                    "carpet": [
                      {
                        "aaxis": {
                          "endlinecolor": "#2a3f5f",
                          "gridcolor": "white",
                          "linecolor": "white",
                          "minorgridcolor": "white",
                          "startlinecolor": "#2a3f5f"
                        },
                        "baxis": {
                          "endlinecolor": "#2a3f5f",
                          "gridcolor": "white",
                          "linecolor": "white",
                          "minorgridcolor": "white",
                          "startlinecolor": "#2a3f5f"
                        },
                        "type": "carpet"
                      }
                    ],
                    "choropleth": [
                      {
                        "colorbar": {
                          "outlinewidth": 0,
                          "ticks": ""
                        },
                        "type": "choropleth"
                      }
                    ],
                    "contour": [
                      {
                        "colorbar": {
                          "outlinewidth": 0,
                          "ticks": ""
                        },
                        "colorscale": [
                          [
                            0,
                            "#0d0887"
                          ],
                          [
                            0.1111111111111111,
                            "#46039f"
                          ],
                          [
                            0.2222222222222222,
                            "#7201a8"
                          ],
                          [
                            0.3333333333333333,
                            "#9c179e"
                          ],
                          [
                            0.4444444444444444,
                            "#bd3786"
                          ],
                          [
                            0.5555555555555556,
                            "#d8576b"
                          ],
                          [
                            0.6666666666666666,
                            "#ed7953"
                          ],
                          [
                            0.7777777777777778,
                            "#fb9f3a"
                          ],
                          [
                            0.8888888888888888,
                            "#fdca26"
                          ],
                          [
                            1,
                            "#f0f921"
                          ]
                        ],
                        "type": "contour"
                      }
                    ],
                    "contourcarpet": [
                      {
                        "colorbar": {
                          "outlinewidth": 0,
                          "ticks": ""
                        },
                        "type": "contourcarpet"
                      }
                    ],
                    "heatmap": [
                      {
                        "colorbar": {
                          "outlinewidth": 0,
                          "ticks": ""
                        },
                        "colorscale": [
                          [
                            0,
                            "#0d0887"
                          ],
                          [
                            0.1111111111111111,
                            "#46039f"
                          ],
                          [
                            0.2222222222222222,
                            "#7201a8"
                          ],
                          [
                            0.3333333333333333,
                            "#9c179e"
                          ],
                          [
                            0.4444444444444444,
                            "#bd3786"
                          ],
                          [
                            0.5555555555555556,
                            "#d8576b"
                          ],
                          [
                            0.6666666666666666,
                            "#ed7953"
                          ],
                          [
                            0.7777777777777778,
                            "#fb9f3a"
                          ],
                          [
                            0.8888888888888888,
                            "#fdca26"
                          ],
                          [
                            1,
                            "#f0f921"
                          ]
                        ],
                        "type": "heatmap"
                      }
                    ],
                    "heatmapgl": [
                      {
                        "colorbar": {
                          "outlinewidth": 0,
                          "ticks": ""
                        },
                        "colorscale": [
                          [
                            0,
                            "#0d0887"
                          ],
                          [
                            0.1111111111111111,
                            "#46039f"
                          ],
                          [
                            0.2222222222222222,
                            "#7201a8"
                          ],
                          [
                            0.3333333333333333,
                            "#9c179e"
                          ],
                          [
                            0.4444444444444444,
                            "#bd3786"
                          ],
                          [
                            0.5555555555555556,
                            "#d8576b"
                          ],
                          [
                            0.6666666666666666,
                            "#ed7953"
                          ],
                          [
                            0.7777777777777778,
                            "#fb9f3a"
                          ],
                          [
                            0.8888888888888888,
                            "#fdca26"
                          ],
                          [
                            1,
                            "#f0f921"
                          ]
                        ],
                        "type": "heatmapgl"
                      }
                    ],
                    "histogram": [
                      {
                        "marker": {
                          "pattern": {
                            "fillmode": "overlay",
                            "size": 10,
                            "solidity": 0.2
                          }
                        },
                        "type": "histogram"
                      }
                    ],
                    "histogram2d": [
                      {
                        "colorbar": {
                          "outlinewidth": 0,
                          "ticks": ""
                        },
                        "colorscale": [
                          [
                            0,
                            "#0d0887"
                          ],
                          [
                            0.1111111111111111,
                            "#46039f"
                          ],
                          [
                            0.2222222222222222,
                            "#7201a8"
                          ],
                          [
                            0.3333333333333333,
                            "#9c179e"
                          ],
                          [
                            0.4444444444444444,
                            "#bd3786"
                          ],
                          [
                            0.5555555555555556,
                            "#d8576b"
                          ],
                          [
                            0.6666666666666666,
                            "#ed7953"
                          ],
                          [
                            0.7777777777777778,
                            "#fb9f3a"
                          ],
                          [
                            0.8888888888888888,
                            "#fdca26"
                          ],
                          [
                            1,
                            "#f0f921"
                          ]
                        ],
                        "type": "histogram2d"
                      }
                    ],
                    "histogram2dcontour": [
                      {
                        "colorbar": {
                          "outlinewidth": 0,
                          "ticks": ""
                        },
                        "colorscale": [
                          [
                            0,
                            "#0d0887"
                          ],
                          [
                            0.1111111111111111,
                            "#46039f"
                          ],
                          [
                            0.2222222222222222,
                            "#7201a8"
                          ],
                          [
                            0.3333333333333333,
                            "#9c179e"
                          ],
                          [
                            0.4444444444444444,
                            "#bd3786"
                          ],
                          [
                            0.5555555555555556,
                            "#d8576b"
                          ],
                          [
                            0.6666666666666666,
                            "#ed7953"
                          ],
                          [
                            0.7777777777777778,
                            "#fb9f3a"
                          ],
                          [
                            0.8888888888888888,
                            "#fdca26"
                          ],
                          [
                            1,
                            "#f0f921"
                          ]
                        ],
                        "type": "histogram2dcontour"
                      }
                    ],
                    "mesh3d": [
                      {
                        "colorbar": {
                          "outlinewidth": 0,
                          "ticks": ""
                        },
                        "type": "mesh3d"
                      }
                    ],
                    "parcoords": [
                      {
                        "line": {
                          "colorbar": {
                            "outlinewidth": 0,
                            "ticks": ""
                          }
                        },
                        "type": "parcoords"
                      }
                    ],
                    "pie": [
                      {
                        "automargin": true,
                        "type": "pie"
                      }
                    ],
                    "scatter": [
                      {
                        "fillpattern": {
                          "fillmode": "overlay",
                          "size": 10,
                          "solidity": 0.2
                        },
                        "type": "scatter"
                      }
                    ],
                    "scatter3d": [
                      {
                        "line": {
                          "colorbar": {
                            "outlinewidth": 0,
                            "ticks": ""
                          }
                        },
                        "marker": {
                          "colorbar": {
                            "outlinewidth": 0,
                            "ticks": ""
                          }
                        },
                        "type": "scatter3d"
                      }
                    ],
                    "scattercarpet": [
                      {
                        "marker": {
                          "colorbar": {
                            "outlinewidth": 0,
                            "ticks": ""
                          }
                        },
                        "type": "scattercarpet"
                      }
                    ],
                    "scattergeo": [
                      {
                        "marker": {
                          "colorbar": {
                            "outlinewidth": 0,
                            "ticks": ""
                          }
                        },
                        "type": "scattergeo"
                      }
                    ],
                    "scattergl": [
                      {
                        "marker": {
                          "colorbar": {
                            "outlinewidth": 0,
                            "ticks": ""
                          }
                        },
                        "type": "scattergl"
                      }
                    ],
                    "scattermapbox": [
                      {
                        "marker": {
                          "colorbar": {
                            "outlinewidth": 0,
                            "ticks": ""
                          }
                        },
                        "type": "scattermapbox"
                      }
                    ],
                    "scatterpolar": [
                      {
                        "marker": {
                          "colorbar": {
                            "outlinewidth": 0,
                            "ticks": ""
                          }
                        },
                        "type": "scatterpolar"
                      }
                    ],
                    "scatterpolargl": [
                      {
                        "marker": {
                          "colorbar": {
                            "outlinewidth": 0,
                            "ticks": ""
                          }
                        },
                        "type": "scatterpolargl"
                      }
                    ],
                    "scatterternary": [
                      {
                        "marker": {
                          "colorbar": {
                            "outlinewidth": 0,
                            "ticks": ""
                          }
                        },
                        "type": "scatterternary"
                      }
                    ],
                    "surface": [
                      {
                        "colorbar": {
                          "outlinewidth": 0,
                          "ticks": ""
                        },
                        "colorscale": [
                          [
                            0,
                            "#0d0887"
                          ],
                          [
                            0.1111111111111111,
                            "#46039f"
                          ],
                          [
                            0.2222222222222222,
                            "#7201a8"
                          ],
                          [
                            0.3333333333333333,
                            "#9c179e"
                          ],
                          [
                            0.4444444444444444,
                            "#bd3786"
                          ],
                          [
                            0.5555555555555556,
                            "#d8576b"
                          ],
                          [
                            0.6666666666666666,
                            "#ed7953"
                          ],
                          [
                            0.7777777777777778,
                            "#fb9f3a"
                          ],
                          [
                            0.8888888888888888,
                            "#fdca26"
                          ],
                          [
                            1,
                            "#f0f921"
                          ]
                        ],
                        "type": "surface"
                      }
                    ],
                    "table": [
                      {
                        "cells": {
                          "fill": {
                            "color": "#EBF0F8"
                          },
                          "line": {
                            "color": "white"
                          }
                        },
                        "header": {
                          "fill": {
                            "color": "#C8D4E3"
                          },
                          "line": {
                            "color": "white"
                          }
                        },
                        "type": "table"
                      }
                    ]
                  },
                  "layout": {
                    "annotationdefaults": {
                      "arrowcolor": "#2a3f5f",
                      "arrowhead": 0,
                      "arrowwidth": 1
                    },
                    "autotypenumbers": "strict",
                    "coloraxis": {
                      "colorbar": {
                        "outlinewidth": 0,
                        "ticks": ""
                      }
                    },
                    "colorscale": {
                      "diverging": [
                        [
                          0,
                          "#8e0152"
                        ],
                        [
                          0.1,
                          "#c51b7d"
                        ],
                        [
                          0.2,
                          "#de77ae"
                        ],
                        [
                          0.3,
                          "#f1b6da"
                        ],
                        [
                          0.4,
                          "#fde0ef"
                        ],
                        [
                          0.5,
                          "#f7f7f7"
                        ],
                        [
                          0.6,
                          "#e6f5d0"
                        ],
                        [
                          0.7,
                          "#b8e186"
                        ],
                        [
                          0.8,
                          "#7fbc41"
                        ],
                        [
                          0.9,
                          "#4d9221"
                        ],
                        [
                          1,
                          "#276419"
                        ]
                      ],
                      "sequential": [
                        [
                          0,
                          "#0d0887"
                        ],
                        [
                          0.1111111111111111,
                          "#46039f"
                        ],
                        [
                          0.2222222222222222,
                          "#7201a8"
                        ],
                        [
                          0.3333333333333333,
                          "#9c179e"
                        ],
                        [
                          0.4444444444444444,
                          "#bd3786"
                        ],
                        [
                          0.5555555555555556,
                          "#d8576b"
                        ],
                        [
                          0.6666666666666666,
                          "#ed7953"
                        ],
                        [
                          0.7777777777777778,
                          "#fb9f3a"
                        ],
                        [
                          0.8888888888888888,
                          "#fdca26"
                        ],
                        [
                          1,
                          "#f0f921"
                        ]
                      ],
                      "sequentialminus": [
                        [
                          0,
                          "#0d0887"
                        ],
                        [
                          0.1111111111111111,
                          "#46039f"
                        ],
                        [
                          0.2222222222222222,
                          "#7201a8"
                        ],
                        [
                          0.3333333333333333,
                          "#9c179e"
                        ],
                        [
                          0.4444444444444444,
                          "#bd3786"
                        ],
                        [
                          0.5555555555555556,
                          "#d8576b"
                        ],
                        [
                          0.6666666666666666,
                          "#ed7953"
                        ],
                        [
                          0.7777777777777778,
                          "#fb9f3a"
                        ],
                        [
                          0.8888888888888888,
                          "#fdca26"
                        ],
                        [
                          1,
                          "#f0f921"
                        ]
                      ]
                    },
                    "colorway": [
                      "#636efa",
                      "#EF553B",
                      "#00cc96",
                      "#ab63fa",
                      "#FFA15A",
                      "#19d3f3",
                      "#FF6692",
                      "#B6E880",
                      "#FF97FF",
                      "#FECB52"
                    ],
                    "font": {
                      "color": "#2a3f5f"
                    },
                    "geo": {
                      "bgcolor": "white",
                      "lakecolor": "white",
                      "landcolor": "#E5ECF6",
                      "showlakes": true,
                      "showland": true,
                      "subunitcolor": "white"
                    },
                    "hoverlabel": {
                      "align": "left"
                    },
                    "hovermode": "closest",
                    "mapbox": {
                      "style": "light"
                    },
                    "paper_bgcolor": "white",
                    "plot_bgcolor": "#E5ECF6",
                    "polar": {
                      "angularaxis": {
                        "gridcolor": "white",
                        "linecolor": "white",
                        "ticks": ""
                      },
                      "bgcolor": "#E5ECF6",
                      "radialaxis": {
                        "gridcolor": "white",
                        "linecolor": "white",
                        "ticks": ""
                      }
                    },
                    "scene": {
                      "xaxis": {
                        "backgroundcolor": "#E5ECF6",
                        "gridcolor": "white",
                        "gridwidth": 2,
                        "linecolor": "white",
                        "showbackground": true,
                        "ticks": "",
                        "zerolinecolor": "white"
                      },
                      "yaxis": {
                        "backgroundcolor": "#E5ECF6",
                        "gridcolor": "white",
                        "gridwidth": 2,
                        "linecolor": "white",
                        "showbackground": true,
                        "ticks": "",
                        "zerolinecolor": "white"
                      },
                      "zaxis": {
                        "backgroundcolor": "#E5ECF6",
                        "gridcolor": "white",
                        "gridwidth": 2,
                        "linecolor": "white",
                        "showbackground": true,
                        "ticks": "",
                        "zerolinecolor": "white"
                      }
                    },
                    "shapedefaults": {
                      "line": {
                        "color": "#2a3f5f"
                      }
                    },
                    "ternary": {
                      "aaxis": {
                        "gridcolor": "white",
                        "linecolor": "white",
                        "ticks": ""
                      },
                      "baxis": {
                        "gridcolor": "white",
                        "linecolor": "white",
                        "ticks": ""
                      },
                      "bgcolor": "#E5ECF6",
                      "caxis": {
                        "gridcolor": "white",
                        "linecolor": "white",
                        "ticks": ""
                      }
                    },
                    "title": {
                      "x": 0.05
                    },
                    "xaxis": {
                      "automargin": true,
                      "gridcolor": "white",
                      "linecolor": "white",
                      "ticks": "",
                      "title": {
                        "standoff": 15
                      },
                      "zerolinecolor": "white",
                      "zerolinewidth": 2
                    },
                    "yaxis": {
                      "automargin": true,
                      "gridcolor": "white",
                      "linecolor": "white",
                      "ticks": "",
                      "title": {
                        "standoff": 15
                      },
                      "zerolinecolor": "white",
                      "zerolinewidth": 2
                    }
                  }
                },
                "xaxis": {
                  "anchor": "y",
                  "domain": [
                    0,
                    1
                  ],
                  "title": {
                    "text": "GPJ"
                  }
                },
                "yaxis": {
                  "anchor": "x",
                  "domain": [
                    0,
                    1
                  ],
                  "title": {
                    "text": "count"
                  }
                }
              }
            }
          },
          "metadata": {},
          "output_type": "display_data"
        }
      ],
      "source": [
        "Atacante['GPJ'] = Atacante['Goals'] / Atacante['MP']\n",
        "Atacante.sort_values(['GPJ'], ascending = False, inplace = True)\n",
        "px.histogram(Atacante.head(50), x = \"GPJ\", color = 'Player').show()"
      ]
    },
    {
      "cell_type": "code",
      "execution_count": 408,
      "metadata": {
        "colab": {
          "base_uri": "https://localhost:8080/",
          "height": 542
        },
        "id": "zARO-xJFjeQu",
        "outputId": "0da05587-df8c-420a-ac4f-62fc32d9081d"
      },
      "outputs": [
        {
          "data": {
            "application/vnd.plotly.v1+json": {
              "config": {
                "plotlyServerURL": "https://plot.ly"
              },
              "data": [
                {
                  "alignmentgroup": "True",
                  "bingroup": "x",
                  "histfunc": "sum",
                  "hovertemplate": "Squad=Manchester City<br>Comp=%{x}<br>sum of GPJ=%{y}<extra></extra>",
                  "legendgroup": "Manchester City",
                  "marker": {
                    "color": "#636efa",
                    "pattern": {
                      "shape": ""
                    }
                  },
                  "name": "Manchester City",
                  "offsetgroup": "Manchester City",
                  "orientation": "v",
                  "showlegend": true,
                  "type": "histogram",
                  "x": [
                    "Premier League"
                  ],
                  "xaxis": "x",
                  "y": [
                    1.25
                  ],
                  "yaxis": "y"
                },
                {
                  "alignmentgroup": "True",
                  "bingroup": "x",
                  "histfunc": "sum",
                  "hovertemplate": "Squad=Arsenal<br>Comp=%{x}<br>sum of GPJ=%{y}<extra></extra>",
                  "legendgroup": "Arsenal",
                  "marker": {
                    "color": "#EF553B",
                    "pattern": {
                      "shape": ""
                    }
                  },
                  "name": "Arsenal",
                  "offsetgroup": "Arsenal",
                  "orientation": "v",
                  "showlegend": true,
                  "type": "histogram",
                  "x": [
                    "Premier League"
                  ],
                  "xaxis": "x",
                  "y": [
                    1
                  ],
                  "yaxis": "y"
                },
                {
                  "alignmentgroup": "True",
                  "bingroup": "x",
                  "histfunc": "sum",
                  "hovertemplate": "Squad=Valladolid<br>Comp=%{x}<br>sum of GPJ=%{y}<extra></extra>",
                  "legendgroup": "Valladolid",
                  "marker": {
                    "color": "#00cc96",
                    "pattern": {
                      "shape": ""
                    }
                  },
                  "name": "Valladolid",
                  "offsetgroup": "Valladolid",
                  "orientation": "v",
                  "showlegend": true,
                  "type": "histogram",
                  "x": [
                    "La Liga"
                  ],
                  "xaxis": "x",
                  "y": [
                    1
                  ],
                  "yaxis": "y"
                },
                {
                  "alignmentgroup": "True",
                  "bingroup": "x",
                  "histfunc": "sum",
                  "hovertemplate": "Squad=Bochum<br>Comp=%{x}<br>sum of GPJ=%{y}<extra></extra>",
                  "legendgroup": "Bochum",
                  "marker": {
                    "color": "#ab63fa",
                    "pattern": {
                      "shape": ""
                    }
                  },
                  "name": "Bochum",
                  "offsetgroup": "Bochum",
                  "orientation": "v",
                  "showlegend": true,
                  "type": "histogram",
                  "x": [
                    "Bundesliga"
                  ],
                  "xaxis": "x",
                  "y": [
                    1
                  ],
                  "yaxis": "y"
                },
                {
                  "alignmentgroup": "True",
                  "bingroup": "x",
                  "histfunc": "sum",
                  "hovertemplate": "Squad=Napoli<br>Comp=%{x}<br>sum of GPJ=%{y}<extra></extra>",
                  "legendgroup": "Napoli",
                  "marker": {
                    "color": "#FFA15A",
                    "pattern": {
                      "shape": ""
                    }
                  },
                  "name": "Napoli",
                  "offsetgroup": "Napoli",
                  "orientation": "v",
                  "showlegend": true,
                  "type": "histogram",
                  "x": [
                    "Serie A"
                  ],
                  "xaxis": "x",
                  "y": [
                    0.9411764705882353
                  ],
                  "yaxis": "y"
                },
                {
                  "alignmentgroup": "True",
                  "bingroup": "x",
                  "histfunc": "sum",
                  "hovertemplate": "Squad=Barcelona<br>Comp=%{x}<br>sum of GPJ=%{y}<extra></extra>",
                  "legendgroup": "Barcelona",
                  "marker": {
                    "color": "#19d3f3",
                    "pattern": {
                      "shape": ""
                    }
                  },
                  "name": "Barcelona",
                  "offsetgroup": "Barcelona",
                  "orientation": "v",
                  "showlegend": true,
                  "type": "histogram",
                  "x": [
                    "La Liga"
                  ],
                  "xaxis": "x",
                  "y": [
                    0.8235294117647058
                  ],
                  "yaxis": "y"
                },
                {
                  "alignmentgroup": "True",
                  "bingroup": "x",
                  "histfunc": "sum",
                  "hovertemplate": "Squad=RB Leipzig<br>Comp=%{x}<br>sum of GPJ=%{y}<extra></extra>",
                  "legendgroup": "RB Leipzig",
                  "marker": {
                    "color": "#FF6692",
                    "pattern": {
                      "shape": ""
                    }
                  },
                  "name": "RB Leipzig",
                  "offsetgroup": "RB Leipzig",
                  "orientation": "v",
                  "showlegend": true,
                  "type": "histogram",
                  "x": [
                    "Bundesliga"
                  ],
                  "xaxis": "x",
                  "y": [
                    0.8
                  ],
                  "yaxis": "y"
                },
                {
                  "alignmentgroup": "True",
                  "bingroup": "x",
                  "histfunc": "sum",
                  "hovertemplate": "Squad=Real Madrid<br>Comp=%{x}<br>sum of GPJ=%{y}<extra></extra>",
                  "legendgroup": "Real Madrid",
                  "marker": {
                    "color": "#B6E880",
                    "pattern": {
                      "shape": ""
                    }
                  },
                  "name": "Real Madrid",
                  "offsetgroup": "Real Madrid",
                  "orientation": "v",
                  "showlegend": true,
                  "type": "histogram",
                  "x": [
                    "La Liga"
                  ],
                  "xaxis": "x",
                  "y": [
                    0.75
                  ],
                  "yaxis": "y"
                },
                {
                  "alignmentgroup": "True",
                  "bingroup": "x",
                  "histfunc": "sum",
                  "hovertemplate": "Squad=Tottenham<br>Comp=%{x}<br>sum of GPJ=%{y}<extra></extra>",
                  "legendgroup": "Tottenham",
                  "marker": {
                    "color": "#FF97FF",
                    "pattern": {
                      "shape": ""
                    }
                  },
                  "name": "Tottenham",
                  "offsetgroup": "Tottenham",
                  "orientation": "v",
                  "showlegend": true,
                  "type": "histogram",
                  "x": [
                    "Premier League"
                  ],
                  "xaxis": "x",
                  "y": [
                    0.7391304347826086
                  ],
                  "yaxis": "y"
                },
                {
                  "alignmentgroup": "True",
                  "bingroup": "x",
                  "histfunc": "sum",
                  "hovertemplate": "Squad=Monaco<br>Comp=%{x}<br>sum of GPJ=%{y}<extra></extra>",
                  "legendgroup": "Monaco",
                  "marker": {
                    "color": "#FECB52",
                    "pattern": {
                      "shape": ""
                    }
                  },
                  "name": "Monaco",
                  "offsetgroup": "Monaco",
                  "orientation": "v",
                  "showlegend": true,
                  "type": "histogram",
                  "x": [
                    "Ligue 1"
                  ],
                  "xaxis": "x",
                  "y": [
                    0.7368421052631579
                  ],
                  "yaxis": "y"
                },
                {
                  "alignmentgroup": "True",
                  "bingroup": "x",
                  "histfunc": "sum",
                  "hovertemplate": "Squad=Brentford<br>Comp=%{x}<br>sum of GPJ=%{y}<extra></extra>",
                  "legendgroup": "Brentford",
                  "marker": {
                    "color": "#636efa",
                    "pattern": {
                      "shape": ""
                    }
                  },
                  "name": "Brentford",
                  "offsetgroup": "Brentford",
                  "orientation": "v",
                  "showlegend": true,
                  "type": "histogram",
                  "x": [
                    "Premier League"
                  ],
                  "xaxis": "x",
                  "y": [
                    0.7
                  ],
                  "yaxis": "y"
                },
                {
                  "alignmentgroup": "True",
                  "bingroup": "x",
                  "histfunc": "sum",
                  "hovertemplate": "Squad=Werder Bremen<br>Comp=%{x}<br>sum of GPJ=%{y}<extra></extra>",
                  "legendgroup": "Werder Bremen",
                  "marker": {
                    "color": "#EF553B",
                    "pattern": {
                      "shape": ""
                    }
                  },
                  "name": "Werder Bremen",
                  "offsetgroup": "Werder Bremen",
                  "orientation": "v",
                  "showlegend": true,
                  "type": "histogram",
                  "x": [
                    "Bundesliga"
                  ],
                  "xaxis": "x",
                  "y": [
                    0.6842105263157895
                  ],
                  "yaxis": "y"
                },
                {
                  "alignmentgroup": "True",
                  "bingroup": "x",
                  "histfunc": "sum",
                  "hovertemplate": "Squad=Paris S-G<br>Comp=%{x}<br>sum of GPJ=%{y}<extra></extra>",
                  "legendgroup": "Paris S-G",
                  "marker": {
                    "color": "#00cc96",
                    "pattern": {
                      "shape": ""
                    }
                  },
                  "name": "Paris S-G",
                  "offsetgroup": "Paris S-G",
                  "orientation": "v",
                  "showlegend": true,
                  "type": "histogram",
                  "x": [
                    "Ligue 1"
                  ],
                  "xaxis": "x",
                  "y": [
                    0.6842105263157895
                  ],
                  "yaxis": "y"
                },
                {
                  "alignmentgroup": "True",
                  "bingroup": "x",
                  "histfunc": "sum",
                  "hovertemplate": "Squad=Lorient<br>Comp=%{x}<br>sum of GPJ=%{y}<extra></extra>",
                  "legendgroup": "Lorient",
                  "marker": {
                    "color": "#ab63fa",
                    "pattern": {
                      "shape": ""
                    }
                  },
                  "name": "Lorient",
                  "offsetgroup": "Lorient",
                  "orientation": "v",
                  "showlegend": true,
                  "type": "histogram",
                  "x": [
                    "Ligue 1"
                  ],
                  "xaxis": "x",
                  "y": [
                    0.6666666666666666
                  ],
                  "yaxis": "y"
                },
                {
                  "alignmentgroup": "True",
                  "bingroup": "x",
                  "histfunc": "sum",
                  "hovertemplate": "Squad=Reims<br>Comp=%{x}<br>sum of GPJ=%{y}<extra></extra>",
                  "legendgroup": "Reims",
                  "marker": {
                    "color": "#FFA15A",
                    "pattern": {
                      "shape": ""
                    }
                  },
                  "name": "Reims",
                  "offsetgroup": "Reims",
                  "orientation": "v",
                  "showlegend": true,
                  "type": "histogram",
                  "x": [
                    "Ligue 1"
                  ],
                  "xaxis": "x",
                  "y": [
                    0.6666666666666666
                  ],
                  "yaxis": "y"
                },
                {
                  "alignmentgroup": "True",
                  "bingroup": "x",
                  "histfunc": "sum",
                  "hovertemplate": "Squad=Almer�a<br>Comp=%{x}<br>sum of GPJ=%{y}<extra></extra>",
                  "legendgroup": "Almer�a",
                  "marker": {
                    "color": "#19d3f3",
                    "pattern": {
                      "shape": ""
                    }
                  },
                  "name": "Almer�a",
                  "offsetgroup": "Almer�a",
                  "orientation": "v",
                  "showlegend": true,
                  "type": "histogram",
                  "x": [
                    "La Liga"
                  ],
                  "xaxis": "x",
                  "y": [
                    0.6666666666666666
                  ],
                  "yaxis": "y"
                },
                {
                  "alignmentgroup": "True",
                  "bingroup": "x",
                  "histfunc": "sum",
                  "hovertemplate": "Squad=Juventus<br>Comp=%{x}<br>sum of GPJ=%{y}<extra></extra>",
                  "legendgroup": "Juventus",
                  "marker": {
                    "color": "#FF6692",
                    "pattern": {
                      "shape": ""
                    }
                  },
                  "name": "Juventus",
                  "offsetgroup": "Juventus",
                  "orientation": "v",
                  "showlegend": true,
                  "type": "histogram",
                  "x": [
                    "Serie A"
                  ],
                  "xaxis": "x",
                  "y": [
                    0.6666666666666666
                  ],
                  "yaxis": "y"
                },
                {
                  "alignmentgroup": "True",
                  "bingroup": "x",
                  "histfunc": "sum",
                  "hovertemplate": "Squad=Lyon<br>Comp=%{x}<br>sum of GPJ=%{y}<extra></extra>",
                  "legendgroup": "Lyon",
                  "marker": {
                    "color": "#B6E880",
                    "pattern": {
                      "shape": ""
                    }
                  },
                  "name": "Lyon",
                  "offsetgroup": "Lyon",
                  "orientation": "v",
                  "showlegend": true,
                  "type": "histogram",
                  "x": [
                    "Ligue 1"
                  ],
                  "xaxis": "x",
                  "y": [
                    0.5909090909090909
                  ],
                  "yaxis": "y"
                },
                {
                  "alignmentgroup": "True",
                  "bingroup": "x",
                  "histfunc": "sum",
                  "hovertemplate": "Squad=Freiburg<br>Comp=%{x}<br>sum of GPJ=%{y}<extra></extra>",
                  "legendgroup": "Freiburg",
                  "marker": {
                    "color": "#FF97FF",
                    "pattern": {
                      "shape": ""
                    }
                  },
                  "name": "Freiburg",
                  "offsetgroup": "Freiburg",
                  "orientation": "v",
                  "showlegend": true,
                  "type": "histogram",
                  "x": [
                    "Bundesliga"
                  ],
                  "xaxis": "x",
                  "y": [
                    0.5789473684210527
                  ],
                  "yaxis": "y"
                },
                {
                  "alignmentgroup": "True",
                  "bingroup": "x",
                  "histfunc": "sum",
                  "hovertemplate": "Squad=Fulham<br>Comp=%{x}<br>sum of GPJ=%{y}<extra></extra>",
                  "legendgroup": "Fulham",
                  "marker": {
                    "color": "#FECB52",
                    "pattern": {
                      "shape": ""
                    }
                  },
                  "name": "Fulham",
                  "offsetgroup": "Fulham",
                  "orientation": "v",
                  "showlegend": true,
                  "type": "histogram",
                  "x": [
                    "Premier League"
                  ],
                  "xaxis": "x",
                  "y": [
                    0.5789473684210527
                  ],
                  "yaxis": "y"
                }
              ],
              "layout": {
                "barmode": "relative",
                "legend": {
                  "title": {
                    "text": "Squad"
                  },
                  "tracegroupgap": 0
                },
                "margin": {
                  "t": 60
                },
                "template": {
                  "data": {
                    "bar": [
                      {
                        "error_x": {
                          "color": "#2a3f5f"
                        },
                        "error_y": {
                          "color": "#2a3f5f"
                        },
                        "marker": {
                          "line": {
                            "color": "#E5ECF6",
                            "width": 0.5
                          },
                          "pattern": {
                            "fillmode": "overlay",
                            "size": 10,
                            "solidity": 0.2
                          }
                        },
                        "type": "bar"
                      }
                    ],
                    "barpolar": [
                      {
                        "marker": {
                          "line": {
                            "color": "#E5ECF6",
                            "width": 0.5
                          },
                          "pattern": {
                            "fillmode": "overlay",
                            "size": 10,
                            "solidity": 0.2
                          }
                        },
                        "type": "barpolar"
                      }
                    ],
                    "carpet": [
                      {
                        "aaxis": {
                          "endlinecolor": "#2a3f5f",
                          "gridcolor": "white",
                          "linecolor": "white",
                          "minorgridcolor": "white",
                          "startlinecolor": "#2a3f5f"
                        },
                        "baxis": {
                          "endlinecolor": "#2a3f5f",
                          "gridcolor": "white",
                          "linecolor": "white",
                          "minorgridcolor": "white",
                          "startlinecolor": "#2a3f5f"
                        },
                        "type": "carpet"
                      }
                    ],
                    "choropleth": [
                      {
                        "colorbar": {
                          "outlinewidth": 0,
                          "ticks": ""
                        },
                        "type": "choropleth"
                      }
                    ],
                    "contour": [
                      {
                        "colorbar": {
                          "outlinewidth": 0,
                          "ticks": ""
                        },
                        "colorscale": [
                          [
                            0,
                            "#0d0887"
                          ],
                          [
                            0.1111111111111111,
                            "#46039f"
                          ],
                          [
                            0.2222222222222222,
                            "#7201a8"
                          ],
                          [
                            0.3333333333333333,
                            "#9c179e"
                          ],
                          [
                            0.4444444444444444,
                            "#bd3786"
                          ],
                          [
                            0.5555555555555556,
                            "#d8576b"
                          ],
                          [
                            0.6666666666666666,
                            "#ed7953"
                          ],
                          [
                            0.7777777777777778,
                            "#fb9f3a"
                          ],
                          [
                            0.8888888888888888,
                            "#fdca26"
                          ],
                          [
                            1,
                            "#f0f921"
                          ]
                        ],
                        "type": "contour"
                      }
                    ],
                    "contourcarpet": [
                      {
                        "colorbar": {
                          "outlinewidth": 0,
                          "ticks": ""
                        },
                        "type": "contourcarpet"
                      }
                    ],
                    "heatmap": [
                      {
                        "colorbar": {
                          "outlinewidth": 0,
                          "ticks": ""
                        },
                        "colorscale": [
                          [
                            0,
                            "#0d0887"
                          ],
                          [
                            0.1111111111111111,
                            "#46039f"
                          ],
                          [
                            0.2222222222222222,
                            "#7201a8"
                          ],
                          [
                            0.3333333333333333,
                            "#9c179e"
                          ],
                          [
                            0.4444444444444444,
                            "#bd3786"
                          ],
                          [
                            0.5555555555555556,
                            "#d8576b"
                          ],
                          [
                            0.6666666666666666,
                            "#ed7953"
                          ],
                          [
                            0.7777777777777778,
                            "#fb9f3a"
                          ],
                          [
                            0.8888888888888888,
                            "#fdca26"
                          ],
                          [
                            1,
                            "#f0f921"
                          ]
                        ],
                        "type": "heatmap"
                      }
                    ],
                    "heatmapgl": [
                      {
                        "colorbar": {
                          "outlinewidth": 0,
                          "ticks": ""
                        },
                        "colorscale": [
                          [
                            0,
                            "#0d0887"
                          ],
                          [
                            0.1111111111111111,
                            "#46039f"
                          ],
                          [
                            0.2222222222222222,
                            "#7201a8"
                          ],
                          [
                            0.3333333333333333,
                            "#9c179e"
                          ],
                          [
                            0.4444444444444444,
                            "#bd3786"
                          ],
                          [
                            0.5555555555555556,
                            "#d8576b"
                          ],
                          [
                            0.6666666666666666,
                            "#ed7953"
                          ],
                          [
                            0.7777777777777778,
                            "#fb9f3a"
                          ],
                          [
                            0.8888888888888888,
                            "#fdca26"
                          ],
                          [
                            1,
                            "#f0f921"
                          ]
                        ],
                        "type": "heatmapgl"
                      }
                    ],
                    "histogram": [
                      {
                        "marker": {
                          "pattern": {
                            "fillmode": "overlay",
                            "size": 10,
                            "solidity": 0.2
                          }
                        },
                        "type": "histogram"
                      }
                    ],
                    "histogram2d": [
                      {
                        "colorbar": {
                          "outlinewidth": 0,
                          "ticks": ""
                        },
                        "colorscale": [
                          [
                            0,
                            "#0d0887"
                          ],
                          [
                            0.1111111111111111,
                            "#46039f"
                          ],
                          [
                            0.2222222222222222,
                            "#7201a8"
                          ],
                          [
                            0.3333333333333333,
                            "#9c179e"
                          ],
                          [
                            0.4444444444444444,
                            "#bd3786"
                          ],
                          [
                            0.5555555555555556,
                            "#d8576b"
                          ],
                          [
                            0.6666666666666666,
                            "#ed7953"
                          ],
                          [
                            0.7777777777777778,
                            "#fb9f3a"
                          ],
                          [
                            0.8888888888888888,
                            "#fdca26"
                          ],
                          [
                            1,
                            "#f0f921"
                          ]
                        ],
                        "type": "histogram2d"
                      }
                    ],
                    "histogram2dcontour": [
                      {
                        "colorbar": {
                          "outlinewidth": 0,
                          "ticks": ""
                        },
                        "colorscale": [
                          [
                            0,
                            "#0d0887"
                          ],
                          [
                            0.1111111111111111,
                            "#46039f"
                          ],
                          [
                            0.2222222222222222,
                            "#7201a8"
                          ],
                          [
                            0.3333333333333333,
                            "#9c179e"
                          ],
                          [
                            0.4444444444444444,
                            "#bd3786"
                          ],
                          [
                            0.5555555555555556,
                            "#d8576b"
                          ],
                          [
                            0.6666666666666666,
                            "#ed7953"
                          ],
                          [
                            0.7777777777777778,
                            "#fb9f3a"
                          ],
                          [
                            0.8888888888888888,
                            "#fdca26"
                          ],
                          [
                            1,
                            "#f0f921"
                          ]
                        ],
                        "type": "histogram2dcontour"
                      }
                    ],
                    "mesh3d": [
                      {
                        "colorbar": {
                          "outlinewidth": 0,
                          "ticks": ""
                        },
                        "type": "mesh3d"
                      }
                    ],
                    "parcoords": [
                      {
                        "line": {
                          "colorbar": {
                            "outlinewidth": 0,
                            "ticks": ""
                          }
                        },
                        "type": "parcoords"
                      }
                    ],
                    "pie": [
                      {
                        "automargin": true,
                        "type": "pie"
                      }
                    ],
                    "scatter": [
                      {
                        "fillpattern": {
                          "fillmode": "overlay",
                          "size": 10,
                          "solidity": 0.2
                        },
                        "type": "scatter"
                      }
                    ],
                    "scatter3d": [
                      {
                        "line": {
                          "colorbar": {
                            "outlinewidth": 0,
                            "ticks": ""
                          }
                        },
                        "marker": {
                          "colorbar": {
                            "outlinewidth": 0,
                            "ticks": ""
                          }
                        },
                        "type": "scatter3d"
                      }
                    ],
                    "scattercarpet": [
                      {
                        "marker": {
                          "colorbar": {
                            "outlinewidth": 0,
                            "ticks": ""
                          }
                        },
                        "type": "scattercarpet"
                      }
                    ],
                    "scattergeo": [
                      {
                        "marker": {
                          "colorbar": {
                            "outlinewidth": 0,
                            "ticks": ""
                          }
                        },
                        "type": "scattergeo"
                      }
                    ],
                    "scattergl": [
                      {
                        "marker": {
                          "colorbar": {
                            "outlinewidth": 0,
                            "ticks": ""
                          }
                        },
                        "type": "scattergl"
                      }
                    ],
                    "scattermapbox": [
                      {
                        "marker": {
                          "colorbar": {
                            "outlinewidth": 0,
                            "ticks": ""
                          }
                        },
                        "type": "scattermapbox"
                      }
                    ],
                    "scatterpolar": [
                      {
                        "marker": {
                          "colorbar": {
                            "outlinewidth": 0,
                            "ticks": ""
                          }
                        },
                        "type": "scatterpolar"
                      }
                    ],
                    "scatterpolargl": [
                      {
                        "marker": {
                          "colorbar": {
                            "outlinewidth": 0,
                            "ticks": ""
                          }
                        },
                        "type": "scatterpolargl"
                      }
                    ],
                    "scatterternary": [
                      {
                        "marker": {
                          "colorbar": {
                            "outlinewidth": 0,
                            "ticks": ""
                          }
                        },
                        "type": "scatterternary"
                      }
                    ],
                    "surface": [
                      {
                        "colorbar": {
                          "outlinewidth": 0,
                          "ticks": ""
                        },
                        "colorscale": [
                          [
                            0,
                            "#0d0887"
                          ],
                          [
                            0.1111111111111111,
                            "#46039f"
                          ],
                          [
                            0.2222222222222222,
                            "#7201a8"
                          ],
                          [
                            0.3333333333333333,
                            "#9c179e"
                          ],
                          [
                            0.4444444444444444,
                            "#bd3786"
                          ],
                          [
                            0.5555555555555556,
                            "#d8576b"
                          ],
                          [
                            0.6666666666666666,
                            "#ed7953"
                          ],
                          [
                            0.7777777777777778,
                            "#fb9f3a"
                          ],
                          [
                            0.8888888888888888,
                            "#fdca26"
                          ],
                          [
                            1,
                            "#f0f921"
                          ]
                        ],
                        "type": "surface"
                      }
                    ],
                    "table": [
                      {
                        "cells": {
                          "fill": {
                            "color": "#EBF0F8"
                          },
                          "line": {
                            "color": "white"
                          }
                        },
                        "header": {
                          "fill": {
                            "color": "#C8D4E3"
                          },
                          "line": {
                            "color": "white"
                          }
                        },
                        "type": "table"
                      }
                    ]
                  },
                  "layout": {
                    "annotationdefaults": {
                      "arrowcolor": "#2a3f5f",
                      "arrowhead": 0,
                      "arrowwidth": 1
                    },
                    "autotypenumbers": "strict",
                    "coloraxis": {
                      "colorbar": {
                        "outlinewidth": 0,
                        "ticks": ""
                      }
                    },
                    "colorscale": {
                      "diverging": [
                        [
                          0,
                          "#8e0152"
                        ],
                        [
                          0.1,
                          "#c51b7d"
                        ],
                        [
                          0.2,
                          "#de77ae"
                        ],
                        [
                          0.3,
                          "#f1b6da"
                        ],
                        [
                          0.4,
                          "#fde0ef"
                        ],
                        [
                          0.5,
                          "#f7f7f7"
                        ],
                        [
                          0.6,
                          "#e6f5d0"
                        ],
                        [
                          0.7,
                          "#b8e186"
                        ],
                        [
                          0.8,
                          "#7fbc41"
                        ],
                        [
                          0.9,
                          "#4d9221"
                        ],
                        [
                          1,
                          "#276419"
                        ]
                      ],
                      "sequential": [
                        [
                          0,
                          "#0d0887"
                        ],
                        [
                          0.1111111111111111,
                          "#46039f"
                        ],
                        [
                          0.2222222222222222,
                          "#7201a8"
                        ],
                        [
                          0.3333333333333333,
                          "#9c179e"
                        ],
                        [
                          0.4444444444444444,
                          "#bd3786"
                        ],
                        [
                          0.5555555555555556,
                          "#d8576b"
                        ],
                        [
                          0.6666666666666666,
                          "#ed7953"
                        ],
                        [
                          0.7777777777777778,
                          "#fb9f3a"
                        ],
                        [
                          0.8888888888888888,
                          "#fdca26"
                        ],
                        [
                          1,
                          "#f0f921"
                        ]
                      ],
                      "sequentialminus": [
                        [
                          0,
                          "#0d0887"
                        ],
                        [
                          0.1111111111111111,
                          "#46039f"
                        ],
                        [
                          0.2222222222222222,
                          "#7201a8"
                        ],
                        [
                          0.3333333333333333,
                          "#9c179e"
                        ],
                        [
                          0.4444444444444444,
                          "#bd3786"
                        ],
                        [
                          0.5555555555555556,
                          "#d8576b"
                        ],
                        [
                          0.6666666666666666,
                          "#ed7953"
                        ],
                        [
                          0.7777777777777778,
                          "#fb9f3a"
                        ],
                        [
                          0.8888888888888888,
                          "#fdca26"
                        ],
                        [
                          1,
                          "#f0f921"
                        ]
                      ]
                    },
                    "colorway": [
                      "#636efa",
                      "#EF553B",
                      "#00cc96",
                      "#ab63fa",
                      "#FFA15A",
                      "#19d3f3",
                      "#FF6692",
                      "#B6E880",
                      "#FF97FF",
                      "#FECB52"
                    ],
                    "font": {
                      "color": "#2a3f5f"
                    },
                    "geo": {
                      "bgcolor": "white",
                      "lakecolor": "white",
                      "landcolor": "#E5ECF6",
                      "showlakes": true,
                      "showland": true,
                      "subunitcolor": "white"
                    },
                    "hoverlabel": {
                      "align": "left"
                    },
                    "hovermode": "closest",
                    "mapbox": {
                      "style": "light"
                    },
                    "paper_bgcolor": "white",
                    "plot_bgcolor": "#E5ECF6",
                    "polar": {
                      "angularaxis": {
                        "gridcolor": "white",
                        "linecolor": "white",
                        "ticks": ""
                      },
                      "bgcolor": "#E5ECF6",
                      "radialaxis": {
                        "gridcolor": "white",
                        "linecolor": "white",
                        "ticks": ""
                      }
                    },
                    "scene": {
                      "xaxis": {
                        "backgroundcolor": "#E5ECF6",
                        "gridcolor": "white",
                        "gridwidth": 2,
                        "linecolor": "white",
                        "showbackground": true,
                        "ticks": "",
                        "zerolinecolor": "white"
                      },
                      "yaxis": {
                        "backgroundcolor": "#E5ECF6",
                        "gridcolor": "white",
                        "gridwidth": 2,
                        "linecolor": "white",
                        "showbackground": true,
                        "ticks": "",
                        "zerolinecolor": "white"
                      },
                      "zaxis": {
                        "backgroundcolor": "#E5ECF6",
                        "gridcolor": "white",
                        "gridwidth": 2,
                        "linecolor": "white",
                        "showbackground": true,
                        "ticks": "",
                        "zerolinecolor": "white"
                      }
                    },
                    "shapedefaults": {
                      "line": {
                        "color": "#2a3f5f"
                      }
                    },
                    "ternary": {
                      "aaxis": {
                        "gridcolor": "white",
                        "linecolor": "white",
                        "ticks": ""
                      },
                      "baxis": {
                        "gridcolor": "white",
                        "linecolor": "white",
                        "ticks": ""
                      },
                      "bgcolor": "#E5ECF6",
                      "caxis": {
                        "gridcolor": "white",
                        "linecolor": "white",
                        "ticks": ""
                      }
                    },
                    "title": {
                      "x": 0.05
                    },
                    "xaxis": {
                      "automargin": true,
                      "gridcolor": "white",
                      "linecolor": "white",
                      "ticks": "",
                      "title": {
                        "standoff": 15
                      },
                      "zerolinecolor": "white",
                      "zerolinewidth": 2
                    },
                    "yaxis": {
                      "automargin": true,
                      "gridcolor": "white",
                      "linecolor": "white",
                      "ticks": "",
                      "title": {
                        "standoff": 15
                      },
                      "zerolinecolor": "white",
                      "zerolinewidth": 2
                    }
                  }
                },
                "xaxis": {
                  "anchor": "y",
                  "domain": [
                    0,
                    1
                  ],
                  "title": {
                    "text": "Comp"
                  }
                },
                "yaxis": {
                  "anchor": "x",
                  "domain": [
                    0,
                    1
                  ],
                  "title": {
                    "text": "sum of GPJ"
                  }
                }
              }
            }
          },
          "metadata": {},
          "output_type": "display_data"
        }
      ],
      "source": [
        "px.histogram(Atacante.head(20), x = \"Comp\", y = 'GPJ', color = \"Squad\").show()"
      ]
    },
    {
      "attachments": {},
      "cell_type": "markdown",
      "metadata": {},
      "source": [
        "Criando um script de score"
      ]
    },
    {
      "cell_type": "code",
      "execution_count": 409,
      "metadata": {
        "id": "GC9sscLzo5mb"
      },
      "outputs": [],
      "source": [
        "positivos = Atacante['GPJ'] * 155  + Atacante['Assists'] * 5 + Atacante['MP'] * 3 + Atacante['Starts'] + (Atacante['AerWon'] / 100 )* 10 + Atacante['Crs'] * 3 + Atacante['GCA'] * 2 + Atacante['ToSuc'] * 2 + Atacante['TI'] + Atacante['ScaDrib'] * 2 + Atacante['Carries'] / 2\n",
        "\n",
        "negativos = (Atacante['Shots'] - Atacante['Goals']) * 6 + Atacante['PasOff'] * 3 + Atacante['Err'] * 3 + (Atacante['AerLost'] / 100) * 5"
      ]
    },
    {
      "cell_type": "code",
      "execution_count": 410,
      "metadata": {
        "colab": {
          "base_uri": "https://localhost:8080/",
          "height": 206
        },
        "id": "LjeU311ylaZo",
        "outputId": "324a85cc-9853-47df-a1a6-62dd0c0895c3"
      },
      "outputs": [
        {
          "data": {
            "text/html": [
              "<div>\n",
              "<style scoped>\n",
              "    .dataframe tbody tr th:only-of-type {\n",
              "        vertical-align: middle;\n",
              "    }\n",
              "\n",
              "    .dataframe tbody tr th {\n",
              "        vertical-align: top;\n",
              "    }\n",
              "\n",
              "    .dataframe thead th {\n",
              "        text-align: right;\n",
              "    }\n",
              "</style>\n",
              "<table border=\"1\" class=\"dataframe\">\n",
              "  <thead>\n",
              "    <tr style=\"text-align: right;\">\n",
              "      <th></th>\n",
              "      <th>Player</th>\n",
              "      <th>Pos</th>\n",
              "      <th>score</th>\n",
              "    </tr>\n",
              "  </thead>\n",
              "  <tbody>\n",
              "    <tr>\n",
              "      <th>263</th>\n",
              "      <td>Erling Haaland</td>\n",
              "      <td>FW</td>\n",
              "      <td>408.604000</td>\n",
              "    </tr>\n",
              "    <tr>\n",
              "      <th>326</th>\n",
              "      <td>Harry Kane</td>\n",
              "      <td>FW</td>\n",
              "      <td>304.799217</td>\n",
              "    </tr>\n",
              "    <tr>\n",
              "      <th>481</th>\n",
              "      <td>Victor Osimhen</td>\n",
              "      <td>FW</td>\n",
              "      <td>294.485353</td>\n",
              "    </tr>\n",
              "    <tr>\n",
              "      <th>65</th>\n",
              "      <td>Wissam Ben Yedder</td>\n",
              "      <td>FW</td>\n",
              "      <td>277.374026</td>\n",
              "    </tr>\n",
              "    <tr>\n",
              "      <th>628</th>\n",
              "      <td>Ivan Toney</td>\n",
              "      <td>FW</td>\n",
              "      <td>270.801000</td>\n",
              "    </tr>\n",
              "  </tbody>\n",
              "</table>\n",
              "</div>"
            ],
            "text/plain": [
              "                Player Pos       score\n",
              "263     Erling Haaland  FW  408.604000\n",
              "326         Harry Kane  FW  304.799217\n",
              "481     Victor Osimhen  FW  294.485353\n",
              "65   Wissam Ben Yedder  FW  277.374026\n",
              "628         Ivan Toney  FW  270.801000"
            ]
          },
          "execution_count": 410,
          "metadata": {},
          "output_type": "execute_result"
        }
      ],
      "source": [
        "Atacante['score'] = positivos - negativos\n",
        "Atacante.sort_values(['score'], ascending = False, inplace = True)\n",
        "Atacante[['Player', 'Pos','score']].head()"
      ]
    },
    {
      "cell_type": "code",
      "execution_count": 411,
      "metadata": {
        "colab": {
          "base_uri": "https://localhost:8080/",
          "height": 542
        },
        "id": "zho7ecTawbT4",
        "outputId": "e50465bc-12f0-41d6-96c9-466ea59540a8"
      },
      "outputs": [
        {
          "data": {
            "application/vnd.plotly.v1+json": {
              "config": {
                "plotlyServerURL": "https://plot.ly"
              },
              "data": [
                {
                  "alignmentgroup": "True",
                  "bingroup": "x",
                  "hovertemplate": "score=%{x}<br>count=%{y}<extra></extra>",
                  "legendgroup": "",
                  "marker": {
                    "color": "#636efa",
                    "pattern": {
                      "shape": ""
                    }
                  },
                  "name": "",
                  "offsetgroup": "",
                  "orientation": "v",
                  "showlegend": false,
                  "type": "histogram",
                  "x": [
                    408.60400000000004,
                    304.7992173913044,
                    294.4853529411764,
                    277.3740263157894,
                    270.80100000000004,
                    270.7950588235294,
                    268.44413157894735,
                    264.3528333333333,
                    263.12790909090916,
                    259.3126315789474,
                    258.4025,
                    253.25084210526313,
                    252.29092857142857,
                    246.20483333333328,
                    243.92506521739128,
                    242.37542857142853,
                    234.02492857142855,
                    229.95950000000005,
                    228.60734210526317,
                    226.21204545454543,
                    222.16884210526314,
                    215.03150000000005,
                    213.60904545454542,
                    213.4131111111111,
                    212.73049999999998,
                    212.123,
                    210.21711111111108,
                    209.75650000000002,
                    209.41250000000002,
                    207.01349999999996,
                    205.322,
                    205.03932352941175,
                    202.90349999999998,
                    202.41200000000003,
                    200.4965,
                    200.23916666666665,
                    200.1381764705882,
                    199.428,
                    196.78966666666662,
                    196.327,
                    196.27527777777783,
                    195.82642857142858,
                    195.531,
                    194.76249999999996,
                    194.13211904761903,
                    193.12700000000007,
                    192.7325909090909,
                    191.8855,
                    190.50333333333333,
                    188.17750000000004,
                    187.77465789473678,
                    187.17899999999995,
                    185.83427777777783,
                    185.75850000000003,
                    185.606,
                    182.09649999999996,
                    180.09427777777776,
                    180.05603846153852,
                    179.70572727272727,
                    178.17988235294118,
                    176.6555,
                    176.42449999999997,
                    176.11826315789472,
                    174.81176190476188,
                    173.63666666666666,
                    172.9215,
                    172.88650000000004,
                    172.43676315789472,
                    172.1055,
                    171.76349999999996,
                    171.46936842105262,
                    171.25447368421055,
                    170.68655555555551,
                    169.8611666666667,
                    168.983,
                    168.96552941176472,
                    168.44757142857142,
                    168.11716666666663,
                    167.67977272727273,
                    166.16797368421055,
                    166.14649999999997,
                    165.23766666666663,
                    164.84336842105262,
                    164.20000000000002,
                    162.42649999999998,
                    161.8933095238095,
                    161.82616666666664,
                    161.4635,
                    161.04349999999997,
                    159.1092272727273,
                    158.23307142857144,
                    157.62107894736843,
                    157.57386363636363,
                    157.55477272727273,
                    157.50507894736842,
                    157.01707142857143,
                    156.51600000000002,
                    156.4348076923077,
                    156.2573181818182,
                    155.9129615384616,
                    155.62966666666668,
                    154.7847619047619,
                    153.23381818181818,
                    153.20327272727275,
                    151.43197368421053,
                    151.40457142857142,
                    151.39008823529412,
                    151.12244444444445,
                    150.54000000000002,
                    150.29650000000004,
                    150.00294444444444,
                    149.93016666666665,
                    149.6652619047619,
                    149.24805555555554,
                    148.78749999999997,
                    147.84583333333333,
                    147.3283823529412,
                    147.216,
                    146.699,
                    146.55899999999997,
                    146.43566666666666,
                    146,
                    145.60649999999998,
                    144.20207894736845,
                    144.17814285714286,
                    143.9295,
                    143.8957142857143,
                    143.75233333333333,
                    142.75464285714284,
                    141.9935,
                    141.688,
                    141.36616666666666,
                    140.79264285714288,
                    140.3851842105263,
                    139.9112727272727,
                    139.82649999999998,
                    139.56400000000002,
                    139.40900000000002,
                    138.7825217391304,
                    138.3953333333333,
                    138.3740789473684,
                    136.96164285714286,
                    136.54505555555556,
                    136.25830952380952,
                    136.18023529411764,
                    135.86873529411764,
                    135.62838461538462,
                    135.29930952380954,
                    134.88773529411768,
                    133.87550000000002,
                    131.6645,
                    131.17385714285714,
                    130.89894444444442,
                    130.46531818181816,
                    130.14849999999998,
                    130.04480769230767,
                    129.6365,
                    128.86730769230772,
                    128.79999999999998,
                    128.57950000000002,
                    128.46033333333335,
                    128.18500000000003,
                    128.09071428571428,
                    127.096,
                    126.90599999999999,
                    126.8805,
                    126.7345,
                    126.32228947368422,
                    125.94300000000001,
                    125.71999999999998,
                    125.6022142857143,
                    125.59650000000002,
                    124.67740476190474,
                    123.41633333333333,
                    123.30739473684211,
                    123.00144444444445,
                    122.62690476190475,
                    122.53836363636364,
                    122.27000000000002,
                    122.217,
                    121.98594117647059,
                    121.56872727272727,
                    121.19708823529412,
                    120.6643333333333,
                    120.24830769230769,
                    120.2395,
                    120.14507894736843,
                    120.09144117647058,
                    119.65468421052634,
                    119.62721428571429,
                    119.32114285714286,
                    118.84166666666668,
                    118.52550000000002,
                    118,
                    117.47768421052629,
                    117.35183333333333,
                    117.21857142857144,
                    117.201,
                    116.92807894736839,
                    116.79513636363636,
                    116.53416666666669,
                    116.41618421052632,
                    115.88199999999999,
                    115.47888888888889,
                    114.84585714285714,
                    114.74878947368423,
                    114.71549999999999,
                    113.90971428571429,
                    113.63449999999997,
                    113.58068421052631,
                    113.4705,
                    113.4209411764706,
                    113.08499999999998,
                    113.01695454545454,
                    112.95633333333335,
                    112.5375,
                    112.38700000000001,
                    112.09516666666669,
                    111.99507894736841,
                    111.94833333333334,
                    111.85999999999999,
                    111.5262857142857,
                    111.04050000000002,
                    110.98400000000001,
                    110.8299411764706,
                    110.70416666666667,
                    110.5835,
                    110.50933333333334,
                    109.61800000000001,
                    109.32522222222221,
                    109.1505,
                    109.14899999999999,
                    108.56099999999998,
                    107.91228947368421,
                    107.76865384615385,
                    107.57040476190475,
                    107.38594117647058,
                    106.79995454545455,
                    106.73516666666669,
                    106.71283333333334,
                    106.571,
                    106.48494117647058,
                    106.12199999999999,
                    105.76272727272728,
                    105.37573076923078,
                    105.27783333333332,
                    105.17550000000001,
                    104.97000000000001,
                    104.41523076923077,
                    103.9978947368421,
                    103.9784411764706,
                    103.96666666666667,
                    103.80218421052632,
                    103.64557692307693,
                    103.57194117647059,
                    103.0515,
                    102.4,
                    101.91945454545456,
                    101.46416666666667,
                    101.41666666666667,
                    101.33266666666668,
                    101.18818421052632,
                    101.15316666666666,
                    100.67078947368421,
                    100.23979411764705,
                    99.301,
                    99.07739473684212,
                    99.03372222222221,
                    98.75,
                    98.67785714285715,
                    98.67695454545454,
                    98.11539473684209,
                    98.04149999999998,
                    97.9435,
                    97.291,
                    97.24,
                    97.17550000000001,
                    96.9276111111111,
                    96.89233333333334,
                    96.89,
                    96.65266666666666,
                    96.33866666666665,
                    95.83739473684211,
                    95.27199999999999,
                    95.19307142857141,
                    95.191,
                    95.12216666666667,
                    95.10078947368422,
                    94.81666666666666,
                    94.45700000000001,
                    94.3436111111111,
                    94.06900000000002,
                    93.9975,
                    93.83966666666666,
                    93.62,
                    93.59939473684209,
                    93.52833333333332,
                    93.31144117647057,
                    92.79583333333333,
                    92.70829411764706,
                    92.69011111111111,
                    92.638,
                    92.50322222222222,
                    92.48400000000001,
                    91.77333333333331,
                    91.74129411764704,
                    91.65533333333335,
                    91.573,
                    91.55095454545457,
                    91.47899999999998,
                    91.37950000000001,
                    90.74900000000001,
                    90.50450000000001,
                    90.06016666666666,
                    88.11614705882354,
                    88.01542857142857,
                    87.96885714285715,
                    87.89549999999998,
                    87.61499999999998,
                    87.43400000000001,
                    87.27757692307694,
                    87.19,
                    87.1266111111111,
                    87.00128571428573,
                    86.82266666666666,
                    86.54450000000001,
                    84.50316666666666,
                    84.33314705882351,
                    84.31292857142856,
                    83.45222222222223,
                    83.35849999999999,
                    83.18321428571429,
                    83.06183333333333,
                    83.05666666666664,
                    82.86349999999999,
                    81.81,
                    81.08449999999999,
                    81,
                    80.92550000000001,
                    80.72533333333334,
                    79.96849999999999,
                    79.899,
                    79.8593947368421,
                    79.39616666666669,
                    78.7515,
                    78.68433333333334,
                    78.61979411764706,
                    78.0263181818182,
                    77.94800000000001,
                    77.89600000000002,
                    77.58333333333333,
                    76.83316666666668,
                    75.54800000000002,
                    75.1155,
                    74.79616666666666,
                    74.5983947368421,
                    74.42257692307695,
                    73.94999999999997,
                    73.92285714285714,
                    73.82633333333334,
                    73.38533333333332,
                    73.181,
                    72.94514705882354,
                    72.43366666666667,
                    72.22,
                    71.71199999999999,
                    71.61507692307694,
                    70.99364705882356,
                    70.5995,
                    70.5715,
                    70.51483333333333,
                    70.44550000000001,
                    69.96300000000001,
                    69.62350000000002,
                    69.0655,
                    68.60849999999999,
                    68.58966666666666,
                    68.52049999999998,
                    68.27042857142855,
                    67.87916666666666,
                    67.47900000000001,
                    67.43399999999998,
                    67.41950000000001,
                    66.35199999999999,
                    66.18749999999999,
                    66.15392857142858,
                    66.113,
                    66.05607692307693,
                    65.83992857142857,
                    65.19283333333334,
                    65.11390909090909,
                    65.0185,
                    64.442,
                    64.38099999999999,
                    64.2934090909091,
                    64.14699999999998,
                    63.922076923076915,
                    63.5775,
                    63.55742857142856,
                    63.38011111111112,
                    63.232928571428566,
                    63,
                    62.63022222222222,
                    62.62700000000001,
                    62.355999999999995,
                    61.93990909090909,
                    61.894928571428565,
                    61.732499999999995,
                    61.2785,
                    61.111500000000014,
                    60.95899999999999,
                    60.73299999999999,
                    60.65835714285714,
                    60.443,
                    60.171409090909094,
                    60.002833333333335,
                    59.829499999999996,
                    59.65890909090909,
                    59.46166666666667,
                    59.454333333333324,
                    59.326499999999996,
                    59.322222222222216,
                    59.221409090909106,
                    58.67033333333335,
                    58.525000000000006,
                    58.47222222222223,
                    58.459999999999994,
                    58.425,
                    58.2505,
                    57.684999999999995,
                    57.482499999999995,
                    57.4375,
                    57.288,
                    57.090928571428584,
                    57,
                    56.92533333333333,
                    56.6025,
                    56.415909090909096,
                    56.31399999999999,
                    56.197,
                    56.192499999999995,
                    55.89622222222222,
                    55.88583333333332,
                    55.716,
                    55.44142857142858,
                    55.25,
                    55.246500000000005,
                    55.2,
                    54.72942857142856,
                    54.61222222222221,
                    54.49949999999998,
                    54.46200000000001,
                    54.32790909090909,
                    54.25,
                    53.32450000000001,
                    53,
                    52.79935714285714,
                    52.546428571428564,
                    52.50599999999999,
                    52.114,
                    51.5,
                    51.0135,
                    50.98416666666665,
                    50.942166666666665,
                    50.940000000000005,
                    50.01050000000001,
                    49.956500000000005,
                    49.842999999999996,
                    49.727499999999985,
                    49.1815,
                    48.737999999999985,
                    48.6875,
                    48.59100000000001,
                    48.206,
                    48,
                    47.441500000000005,
                    47.1895,
                    47.0875,
                    46.849999999999994,
                    46.5835,
                    45.4994090909091,
                    45.43150000000001,
                    45.29100000000001,
                    45.14,
                    44.842666666666666,
                    44.676,
                    44.02999999999999,
                    43.0745,
                    43,
                    42.925,
                    42.60740909090909,
                    42.25,
                    42.14450000000001,
                    42.122,
                    42,
                    41.6875,
                    41.58,
                    41.36,
                    41.101,
                    41.040000000000006,
                    40.72149999999999,
                    40.6915,
                    40.529,
                    40.23350000000001,
                    39.86599999999999,
                    39.86149999999999,
                    39.6915,
                    39.675,
                    39.41666666666666,
                    39.3,
                    39.0015,
                    38.80300000000001,
                    38.67,
                    38.5,
                    38.410999999999994,
                    37.911,
                    37.900000000000006,
                    37.75,
                    37.33900000000001,
                    37.328500000000005,
                    36.842000000000006,
                    36.5,
                    36.38,
                    36.164,
                    36,
                    35.75,
                    35.59349999999999,
                    35.4695,
                    34.809,
                    34.19,
                    33.6945,
                    33.587,
                    33.13650000000001,
                    32.65,
                    32.282,
                    31.9515,
                    31.5,
                    31.29,
                    30.6875,
                    30.25,
                    30.18399999999999,
                    29.975,
                    29.790999999999997,
                    29.42550000000001,
                    29.307,
                    28.646500000000003,
                    28.56,
                    27.488500000000002,
                    26.809500000000003,
                    26.712500000000006,
                    26.710500000000003,
                    26.493000000000002,
                    26.1605,
                    25.961,
                    25.6,
                    25.5,
                    25.3335,
                    24.75,
                    24.181000000000004,
                    23.9335,
                    23.7935,
                    23.757499999999993,
                    23.5,
                    23.180500000000002,
                    23.1445,
                    23.125000000000007,
                    23,
                    23,
                    23,
                    22.788999999999994,
                    21.559500000000003,
                    20.999499999999998,
                    20.876999999999995,
                    20.680000000000007,
                    20.179999999999996,
                    20.033,
                    19.9895,
                    19.829999999999995,
                    19.526500000000002,
                    19.32849999999999,
                    19.25,
                    19.241000000000003,
                    19.16,
                    19,
                    18.75,
                    18.659999999999997,
                    18.540499999999994,
                    18.5,
                    18.460000000000004,
                    18.405500000000004,
                    18,
                    18,
                    18,
                    18,
                    17.68,
                    17.3935,
                    17.216500000000003,
                    17.2,
                    17.192,
                    16.7745,
                    16.734999999999996,
                    16.625,
                    16.4785,
                    15.7665,
                    15.75,
                    15.681,
                    15.5,
                    15.45,
                    15.45,
                    15.433000000000002,
                    15.375,
                    15.363500000000002,
                    14.653,
                    14.25,
                    14.139,
                    14.117999999999999,
                    13,
                    13,
                    12.746500000000001,
                    12.720499999999998,
                    12.5,
                    12.5,
                    11.8855,
                    11.870000000000001,
                    11.75,
                    11.565999999999999,
                    11.492999999999999,
                    11.35,
                    11.3,
                    11.024999999999999,
                    10.5,
                    10.25,
                    10.015500000000003,
                    8.306999999999999,
                    8.050000000000004,
                    8,
                    8,
                    8,
                    8,
                    8,
                    7.5,
                    7.4615000000000045,
                    7,
                    5.9995,
                    5.9695,
                    5.25,
                    4.4985,
                    4,
                    3.5,
                    3.5,
                    3.5,
                    3.45,
                    3.45,
                    3.113999999999999,
                    3,
                    3,
                    3,
                    2.403500000000001,
                    2.3599999999999994,
                    2.346499999999999,
                    2.1999999999999993,
                    1.8170000000000002,
                    1.5,
                    1.3434999999999988,
                    1.2124999999999986,
                    1.1735000000000042,
                    0.6009999999999955,
                    -2.875,
                    -4.199999999999999,
                    -4.313500000000001,
                    -6,
                    -7,
                    -9,
                    -9.75,
                    -10.900000000000002,
                    -16.75,
                    -17.756499999999996,
                    -18,
                    -19.75,
                    -37,
                    -42.875,
                    -47,
                    -47.5
                  ],
                  "xaxis": "x",
                  "yaxis": "y"
                }
              ],
              "layout": {
                "barmode": "relative",
                "legend": {
                  "tracegroupgap": 0
                },
                "margin": {
                  "t": 60
                },
                "template": {
                  "data": {
                    "bar": [
                      {
                        "error_x": {
                          "color": "#2a3f5f"
                        },
                        "error_y": {
                          "color": "#2a3f5f"
                        },
                        "marker": {
                          "line": {
                            "color": "#E5ECF6",
                            "width": 0.5
                          },
                          "pattern": {
                            "fillmode": "overlay",
                            "size": 10,
                            "solidity": 0.2
                          }
                        },
                        "type": "bar"
                      }
                    ],
                    "barpolar": [
                      {
                        "marker": {
                          "line": {
                            "color": "#E5ECF6",
                            "width": 0.5
                          },
                          "pattern": {
                            "fillmode": "overlay",
                            "size": 10,
                            "solidity": 0.2
                          }
                        },
                        "type": "barpolar"
                      }
                    ],
                    "carpet": [
                      {
                        "aaxis": {
                          "endlinecolor": "#2a3f5f",
                          "gridcolor": "white",
                          "linecolor": "white",
                          "minorgridcolor": "white",
                          "startlinecolor": "#2a3f5f"
                        },
                        "baxis": {
                          "endlinecolor": "#2a3f5f",
                          "gridcolor": "white",
                          "linecolor": "white",
                          "minorgridcolor": "white",
                          "startlinecolor": "#2a3f5f"
                        },
                        "type": "carpet"
                      }
                    ],
                    "choropleth": [
                      {
                        "colorbar": {
                          "outlinewidth": 0,
                          "ticks": ""
                        },
                        "type": "choropleth"
                      }
                    ],
                    "contour": [
                      {
                        "colorbar": {
                          "outlinewidth": 0,
                          "ticks": ""
                        },
                        "colorscale": [
                          [
                            0,
                            "#0d0887"
                          ],
                          [
                            0.1111111111111111,
                            "#46039f"
                          ],
                          [
                            0.2222222222222222,
                            "#7201a8"
                          ],
                          [
                            0.3333333333333333,
                            "#9c179e"
                          ],
                          [
                            0.4444444444444444,
                            "#bd3786"
                          ],
                          [
                            0.5555555555555556,
                            "#d8576b"
                          ],
                          [
                            0.6666666666666666,
                            "#ed7953"
                          ],
                          [
                            0.7777777777777778,
                            "#fb9f3a"
                          ],
                          [
                            0.8888888888888888,
                            "#fdca26"
                          ],
                          [
                            1,
                            "#f0f921"
                          ]
                        ],
                        "type": "contour"
                      }
                    ],
                    "contourcarpet": [
                      {
                        "colorbar": {
                          "outlinewidth": 0,
                          "ticks": ""
                        },
                        "type": "contourcarpet"
                      }
                    ],
                    "heatmap": [
                      {
                        "colorbar": {
                          "outlinewidth": 0,
                          "ticks": ""
                        },
                        "colorscale": [
                          [
                            0,
                            "#0d0887"
                          ],
                          [
                            0.1111111111111111,
                            "#46039f"
                          ],
                          [
                            0.2222222222222222,
                            "#7201a8"
                          ],
                          [
                            0.3333333333333333,
                            "#9c179e"
                          ],
                          [
                            0.4444444444444444,
                            "#bd3786"
                          ],
                          [
                            0.5555555555555556,
                            "#d8576b"
                          ],
                          [
                            0.6666666666666666,
                            "#ed7953"
                          ],
                          [
                            0.7777777777777778,
                            "#fb9f3a"
                          ],
                          [
                            0.8888888888888888,
                            "#fdca26"
                          ],
                          [
                            1,
                            "#f0f921"
                          ]
                        ],
                        "type": "heatmap"
                      }
                    ],
                    "heatmapgl": [
                      {
                        "colorbar": {
                          "outlinewidth": 0,
                          "ticks": ""
                        },
                        "colorscale": [
                          [
                            0,
                            "#0d0887"
                          ],
                          [
                            0.1111111111111111,
                            "#46039f"
                          ],
                          [
                            0.2222222222222222,
                            "#7201a8"
                          ],
                          [
                            0.3333333333333333,
                            "#9c179e"
                          ],
                          [
                            0.4444444444444444,
                            "#bd3786"
                          ],
                          [
                            0.5555555555555556,
                            "#d8576b"
                          ],
                          [
                            0.6666666666666666,
                            "#ed7953"
                          ],
                          [
                            0.7777777777777778,
                            "#fb9f3a"
                          ],
                          [
                            0.8888888888888888,
                            "#fdca26"
                          ],
                          [
                            1,
                            "#f0f921"
                          ]
                        ],
                        "type": "heatmapgl"
                      }
                    ],
                    "histogram": [
                      {
                        "marker": {
                          "pattern": {
                            "fillmode": "overlay",
                            "size": 10,
                            "solidity": 0.2
                          }
                        },
                        "type": "histogram"
                      }
                    ],
                    "histogram2d": [
                      {
                        "colorbar": {
                          "outlinewidth": 0,
                          "ticks": ""
                        },
                        "colorscale": [
                          [
                            0,
                            "#0d0887"
                          ],
                          [
                            0.1111111111111111,
                            "#46039f"
                          ],
                          [
                            0.2222222222222222,
                            "#7201a8"
                          ],
                          [
                            0.3333333333333333,
                            "#9c179e"
                          ],
                          [
                            0.4444444444444444,
                            "#bd3786"
                          ],
                          [
                            0.5555555555555556,
                            "#d8576b"
                          ],
                          [
                            0.6666666666666666,
                            "#ed7953"
                          ],
                          [
                            0.7777777777777778,
                            "#fb9f3a"
                          ],
                          [
                            0.8888888888888888,
                            "#fdca26"
                          ],
                          [
                            1,
                            "#f0f921"
                          ]
                        ],
                        "type": "histogram2d"
                      }
                    ],
                    "histogram2dcontour": [
                      {
                        "colorbar": {
                          "outlinewidth": 0,
                          "ticks": ""
                        },
                        "colorscale": [
                          [
                            0,
                            "#0d0887"
                          ],
                          [
                            0.1111111111111111,
                            "#46039f"
                          ],
                          [
                            0.2222222222222222,
                            "#7201a8"
                          ],
                          [
                            0.3333333333333333,
                            "#9c179e"
                          ],
                          [
                            0.4444444444444444,
                            "#bd3786"
                          ],
                          [
                            0.5555555555555556,
                            "#d8576b"
                          ],
                          [
                            0.6666666666666666,
                            "#ed7953"
                          ],
                          [
                            0.7777777777777778,
                            "#fb9f3a"
                          ],
                          [
                            0.8888888888888888,
                            "#fdca26"
                          ],
                          [
                            1,
                            "#f0f921"
                          ]
                        ],
                        "type": "histogram2dcontour"
                      }
                    ],
                    "mesh3d": [
                      {
                        "colorbar": {
                          "outlinewidth": 0,
                          "ticks": ""
                        },
                        "type": "mesh3d"
                      }
                    ],
                    "parcoords": [
                      {
                        "line": {
                          "colorbar": {
                            "outlinewidth": 0,
                            "ticks": ""
                          }
                        },
                        "type": "parcoords"
                      }
                    ],
                    "pie": [
                      {
                        "automargin": true,
                        "type": "pie"
                      }
                    ],
                    "scatter": [
                      {
                        "fillpattern": {
                          "fillmode": "overlay",
                          "size": 10,
                          "solidity": 0.2
                        },
                        "type": "scatter"
                      }
                    ],
                    "scatter3d": [
                      {
                        "line": {
                          "colorbar": {
                            "outlinewidth": 0,
                            "ticks": ""
                          }
                        },
                        "marker": {
                          "colorbar": {
                            "outlinewidth": 0,
                            "ticks": ""
                          }
                        },
                        "type": "scatter3d"
                      }
                    ],
                    "scattercarpet": [
                      {
                        "marker": {
                          "colorbar": {
                            "outlinewidth": 0,
                            "ticks": ""
                          }
                        },
                        "type": "scattercarpet"
                      }
                    ],
                    "scattergeo": [
                      {
                        "marker": {
                          "colorbar": {
                            "outlinewidth": 0,
                            "ticks": ""
                          }
                        },
                        "type": "scattergeo"
                      }
                    ],
                    "scattergl": [
                      {
                        "marker": {
                          "colorbar": {
                            "outlinewidth": 0,
                            "ticks": ""
                          }
                        },
                        "type": "scattergl"
                      }
                    ],
                    "scattermapbox": [
                      {
                        "marker": {
                          "colorbar": {
                            "outlinewidth": 0,
                            "ticks": ""
                          }
                        },
                        "type": "scattermapbox"
                      }
                    ],
                    "scatterpolar": [
                      {
                        "marker": {
                          "colorbar": {
                            "outlinewidth": 0,
                            "ticks": ""
                          }
                        },
                        "type": "scatterpolar"
                      }
                    ],
                    "scatterpolargl": [
                      {
                        "marker": {
                          "colorbar": {
                            "outlinewidth": 0,
                            "ticks": ""
                          }
                        },
                        "type": "scatterpolargl"
                      }
                    ],
                    "scatterternary": [
                      {
                        "marker": {
                          "colorbar": {
                            "outlinewidth": 0,
                            "ticks": ""
                          }
                        },
                        "type": "scatterternary"
                      }
                    ],
                    "surface": [
                      {
                        "colorbar": {
                          "outlinewidth": 0,
                          "ticks": ""
                        },
                        "colorscale": [
                          [
                            0,
                            "#0d0887"
                          ],
                          [
                            0.1111111111111111,
                            "#46039f"
                          ],
                          [
                            0.2222222222222222,
                            "#7201a8"
                          ],
                          [
                            0.3333333333333333,
                            "#9c179e"
                          ],
                          [
                            0.4444444444444444,
                            "#bd3786"
                          ],
                          [
                            0.5555555555555556,
                            "#d8576b"
                          ],
                          [
                            0.6666666666666666,
                            "#ed7953"
                          ],
                          [
                            0.7777777777777778,
                            "#fb9f3a"
                          ],
                          [
                            0.8888888888888888,
                            "#fdca26"
                          ],
                          [
                            1,
                            "#f0f921"
                          ]
                        ],
                        "type": "surface"
                      }
                    ],
                    "table": [
                      {
                        "cells": {
                          "fill": {
                            "color": "#EBF0F8"
                          },
                          "line": {
                            "color": "white"
                          }
                        },
                        "header": {
                          "fill": {
                            "color": "#C8D4E3"
                          },
                          "line": {
                            "color": "white"
                          }
                        },
                        "type": "table"
                      }
                    ]
                  },
                  "layout": {
                    "annotationdefaults": {
                      "arrowcolor": "#2a3f5f",
                      "arrowhead": 0,
                      "arrowwidth": 1
                    },
                    "autotypenumbers": "strict",
                    "coloraxis": {
                      "colorbar": {
                        "outlinewidth": 0,
                        "ticks": ""
                      }
                    },
                    "colorscale": {
                      "diverging": [
                        [
                          0,
                          "#8e0152"
                        ],
                        [
                          0.1,
                          "#c51b7d"
                        ],
                        [
                          0.2,
                          "#de77ae"
                        ],
                        [
                          0.3,
                          "#f1b6da"
                        ],
                        [
                          0.4,
                          "#fde0ef"
                        ],
                        [
                          0.5,
                          "#f7f7f7"
                        ],
                        [
                          0.6,
                          "#e6f5d0"
                        ],
                        [
                          0.7,
                          "#b8e186"
                        ],
                        [
                          0.8,
                          "#7fbc41"
                        ],
                        [
                          0.9,
                          "#4d9221"
                        ],
                        [
                          1,
                          "#276419"
                        ]
                      ],
                      "sequential": [
                        [
                          0,
                          "#0d0887"
                        ],
                        [
                          0.1111111111111111,
                          "#46039f"
                        ],
                        [
                          0.2222222222222222,
                          "#7201a8"
                        ],
                        [
                          0.3333333333333333,
                          "#9c179e"
                        ],
                        [
                          0.4444444444444444,
                          "#bd3786"
                        ],
                        [
                          0.5555555555555556,
                          "#d8576b"
                        ],
                        [
                          0.6666666666666666,
                          "#ed7953"
                        ],
                        [
                          0.7777777777777778,
                          "#fb9f3a"
                        ],
                        [
                          0.8888888888888888,
                          "#fdca26"
                        ],
                        [
                          1,
                          "#f0f921"
                        ]
                      ],
                      "sequentialminus": [
                        [
                          0,
                          "#0d0887"
                        ],
                        [
                          0.1111111111111111,
                          "#46039f"
                        ],
                        [
                          0.2222222222222222,
                          "#7201a8"
                        ],
                        [
                          0.3333333333333333,
                          "#9c179e"
                        ],
                        [
                          0.4444444444444444,
                          "#bd3786"
                        ],
                        [
                          0.5555555555555556,
                          "#d8576b"
                        ],
                        [
                          0.6666666666666666,
                          "#ed7953"
                        ],
                        [
                          0.7777777777777778,
                          "#fb9f3a"
                        ],
                        [
                          0.8888888888888888,
                          "#fdca26"
                        ],
                        [
                          1,
                          "#f0f921"
                        ]
                      ]
                    },
                    "colorway": [
                      "#636efa",
                      "#EF553B",
                      "#00cc96",
                      "#ab63fa",
                      "#FFA15A",
                      "#19d3f3",
                      "#FF6692",
                      "#B6E880",
                      "#FF97FF",
                      "#FECB52"
                    ],
                    "font": {
                      "color": "#2a3f5f"
                    },
                    "geo": {
                      "bgcolor": "white",
                      "lakecolor": "white",
                      "landcolor": "#E5ECF6",
                      "showlakes": true,
                      "showland": true,
                      "subunitcolor": "white"
                    },
                    "hoverlabel": {
                      "align": "left"
                    },
                    "hovermode": "closest",
                    "mapbox": {
                      "style": "light"
                    },
                    "paper_bgcolor": "white",
                    "plot_bgcolor": "#E5ECF6",
                    "polar": {
                      "angularaxis": {
                        "gridcolor": "white",
                        "linecolor": "white",
                        "ticks": ""
                      },
                      "bgcolor": "#E5ECF6",
                      "radialaxis": {
                        "gridcolor": "white",
                        "linecolor": "white",
                        "ticks": ""
                      }
                    },
                    "scene": {
                      "xaxis": {
                        "backgroundcolor": "#E5ECF6",
                        "gridcolor": "white",
                        "gridwidth": 2,
                        "linecolor": "white",
                        "showbackground": true,
                        "ticks": "",
                        "zerolinecolor": "white"
                      },
                      "yaxis": {
                        "backgroundcolor": "#E5ECF6",
                        "gridcolor": "white",
                        "gridwidth": 2,
                        "linecolor": "white",
                        "showbackground": true,
                        "ticks": "",
                        "zerolinecolor": "white"
                      },
                      "zaxis": {
                        "backgroundcolor": "#E5ECF6",
                        "gridcolor": "white",
                        "gridwidth": 2,
                        "linecolor": "white",
                        "showbackground": true,
                        "ticks": "",
                        "zerolinecolor": "white"
                      }
                    },
                    "shapedefaults": {
                      "line": {
                        "color": "#2a3f5f"
                      }
                    },
                    "ternary": {
                      "aaxis": {
                        "gridcolor": "white",
                        "linecolor": "white",
                        "ticks": ""
                      },
                      "baxis": {
                        "gridcolor": "white",
                        "linecolor": "white",
                        "ticks": ""
                      },
                      "bgcolor": "#E5ECF6",
                      "caxis": {
                        "gridcolor": "white",
                        "linecolor": "white",
                        "ticks": ""
                      }
                    },
                    "title": {
                      "x": 0.05
                    },
                    "xaxis": {
                      "automargin": true,
                      "gridcolor": "white",
                      "linecolor": "white",
                      "ticks": "",
                      "title": {
                        "standoff": 15
                      },
                      "zerolinecolor": "white",
                      "zerolinewidth": 2
                    },
                    "yaxis": {
                      "automargin": true,
                      "gridcolor": "white",
                      "linecolor": "white",
                      "ticks": "",
                      "title": {
                        "standoff": 15
                      },
                      "zerolinecolor": "white",
                      "zerolinewidth": 2
                    }
                  }
                },
                "xaxis": {
                  "anchor": "y",
                  "domain": [
                    0,
                    1
                  ],
                  "title": {
                    "text": "score"
                  }
                },
                "yaxis": {
                  "anchor": "x",
                  "domain": [
                    0,
                    1
                  ],
                  "title": {
                    "text": "count"
                  }
                }
              }
            }
          },
          "metadata": {},
          "output_type": "display_data"
        }
      ],
      "source": [
        "px.histogram(Atacante, x='score').show()"
      ]
    },
    {
      "attachments": {},
      "cell_type": "markdown",
      "metadata": {},
      "source": [
        "Criando um Classificador "
      ]
    },
    {
      "cell_type": "code",
      "execution_count": 412,
      "metadata": {
        "colab": {
          "base_uri": "https://localhost:8080/"
        },
        "id": "qTPyqEiaw_Xm",
        "outputId": "c010f2db-877b-44cd-81c4-aa2a1381e58e"
      },
      "outputs": [
        {
          "name": "stdout",
          "output_type": "stream",
          "text": [
            "desvio de 63.5932829590456\n",
            "media de 87.53596808037615\n"
          ]
        }
      ],
      "source": [
        "dev = Atacante['score'].std()\n",
        "media = Atacante['score'].mean()\n",
        "print(f'desvio de {dev}\\nmedia de {media}')"
      ]
    },
    {
      "cell_type": "code",
      "execution_count": 413,
      "metadata": {
        "id": "X3lRynuuxSze"
      },
      "outputs": [],
      "source": [
        "bom = media + dev * 2\n",
        "normal = media  + dev\n",
        "fraco = media - dev\n",
        "muito_fraco = media - dev * 2"
      ]
    },
    {
      "cell_type": "code",
      "execution_count": 414,
      "metadata": {
        "id": "jCibECFRswqa"
      },
      "outputs": [],
      "source": [
        "def assign_grade(score):\n",
        "    if score > bom:\n",
        "        return 'Excelente'\n",
        "    elif score > normal:\n",
        "        return 'Bom'\n",
        "    elif score > fraco:\n",
        "        return 'Mediano'\n",
        "    elif score > muito_fraco:\n",
        "        return 'Ruim'\n",
        "    else:\n",
        "        return 'Pessimo'"
      ]
    },
    {
      "cell_type": "code",
      "execution_count": 415,
      "metadata": {
        "id": "Ua6mSHfjttkw"
      },
      "outputs": [],
      "source": [
        "Atacante['Desempenho'] = Atacante['score'].apply(assign_grade)"
      ]
    },
    {
      "cell_type": "code",
      "execution_count": 416,
      "metadata": {
        "colab": {
          "base_uri": "https://localhost:8080/",
          "height": 542
        },
        "id": "t0vBYhJyt3uz",
        "outputId": "7347a5bd-266b-4f8d-c947-f673341e844e"
      },
      "outputs": [
        {
          "data": {
            "application/vnd.plotly.v1+json": {
              "config": {
                "plotlyServerURL": "https://plot.ly"
              },
              "data": [
                {
                  "alignmentgroup": "True",
                  "bingroup": "x",
                  "hovertemplate": "Desempenho=%{x}<br>count=%{y}<extra></extra>",
                  "legendgroup": "",
                  "marker": {
                    "color": "#636efa",
                    "pattern": {
                      "shape": ""
                    }
                  },
                  "name": "",
                  "offsetgroup": "",
                  "orientation": "v",
                  "showlegend": false,
                  "type": "histogram",
                  "x": [
                    "Excelente",
                    "Excelente",
                    "Excelente",
                    "Excelente",
                    "Excelente",
                    "Excelente",
                    "Excelente",
                    "Excelente",
                    "Excelente",
                    "Excelente",
                    "Excelente",
                    "Excelente",
                    "Excelente",
                    "Excelente",
                    "Excelente",
                    "Excelente",
                    "Excelente",
                    "Excelente",
                    "Excelente",
                    "Excelente",
                    "Excelente",
                    "Excelente",
                    "Bom",
                    "Bom",
                    "Bom",
                    "Bom",
                    "Bom",
                    "Bom",
                    "Bom",
                    "Bom",
                    "Bom",
                    "Bom",
                    "Bom",
                    "Bom",
                    "Bom",
                    "Bom",
                    "Bom",
                    "Bom",
                    "Bom",
                    "Bom",
                    "Bom",
                    "Bom",
                    "Bom",
                    "Bom",
                    "Bom",
                    "Bom",
                    "Bom",
                    "Bom",
                    "Bom",
                    "Bom",
                    "Bom",
                    "Bom",
                    "Bom",
                    "Bom",
                    "Bom",
                    "Bom",
                    "Bom",
                    "Bom",
                    "Bom",
                    "Bom",
                    "Bom",
                    "Bom",
                    "Bom",
                    "Bom",
                    "Bom",
                    "Bom",
                    "Bom",
                    "Bom",
                    "Bom",
                    "Bom",
                    "Bom",
                    "Bom",
                    "Bom",
                    "Bom",
                    "Bom",
                    "Bom",
                    "Bom",
                    "Bom",
                    "Bom",
                    "Bom",
                    "Bom",
                    "Bom",
                    "Bom",
                    "Bom",
                    "Bom",
                    "Bom",
                    "Bom",
                    "Bom",
                    "Bom",
                    "Bom",
                    "Bom",
                    "Bom",
                    "Bom",
                    "Bom",
                    "Bom",
                    "Bom",
                    "Bom",
                    "Bom",
                    "Bom",
                    "Bom",
                    "Bom",
                    "Bom",
                    "Bom",
                    "Bom",
                    "Bom",
                    "Bom",
                    "Bom",
                    "Mediano",
                    "Mediano",
                    "Mediano",
                    "Mediano",
                    "Mediano",
                    "Mediano",
                    "Mediano",
                    "Mediano",
                    "Mediano",
                    "Mediano",
                    "Mediano",
                    "Mediano",
                    "Mediano",
                    "Mediano",
                    "Mediano",
                    "Mediano",
                    "Mediano",
                    "Mediano",
                    "Mediano",
                    "Mediano",
                    "Mediano",
                    "Mediano",
                    "Mediano",
                    "Mediano",
                    "Mediano",
                    "Mediano",
                    "Mediano",
                    "Mediano",
                    "Mediano",
                    "Mediano",
                    "Mediano",
                    "Mediano",
                    "Mediano",
                    "Mediano",
                    "Mediano",
                    "Mediano",
                    "Mediano",
                    "Mediano",
                    "Mediano",
                    "Mediano",
                    "Mediano",
                    "Mediano",
                    "Mediano",
                    "Mediano",
                    "Mediano",
                    "Mediano",
                    "Mediano",
                    "Mediano",
                    "Mediano",
                    "Mediano",
                    "Mediano",
                    "Mediano",
                    "Mediano",
                    "Mediano",
                    "Mediano",
                    "Mediano",
                    "Mediano",
                    "Mediano",
                    "Mediano",
                    "Mediano",
                    "Mediano",
                    "Mediano",
                    "Mediano",
                    "Mediano",
                    "Mediano",
                    "Mediano",
                    "Mediano",
                    "Mediano",
                    "Mediano",
                    "Mediano",
                    "Mediano",
                    "Mediano",
                    "Mediano",
                    "Mediano",
                    "Mediano",
                    "Mediano",
                    "Mediano",
                    "Mediano",
                    "Mediano",
                    "Mediano",
                    "Mediano",
                    "Mediano",
                    "Mediano",
                    "Mediano",
                    "Mediano",
                    "Mediano",
                    "Mediano",
                    "Mediano",
                    "Mediano",
                    "Mediano",
                    "Mediano",
                    "Mediano",
                    "Mediano",
                    "Mediano",
                    "Mediano",
                    "Mediano",
                    "Mediano",
                    "Mediano",
                    "Mediano",
                    "Mediano",
                    "Mediano",
                    "Mediano",
                    "Mediano",
                    "Mediano",
                    "Mediano",
                    "Mediano",
                    "Mediano",
                    "Mediano",
                    "Mediano",
                    "Mediano",
                    "Mediano",
                    "Mediano",
                    "Mediano",
                    "Mediano",
                    "Mediano",
                    "Mediano",
                    "Mediano",
                    "Mediano",
                    "Mediano",
                    "Mediano",
                    "Mediano",
                    "Mediano",
                    "Mediano",
                    "Mediano",
                    "Mediano",
                    "Mediano",
                    "Mediano",
                    "Mediano",
                    "Mediano",
                    "Mediano",
                    "Mediano",
                    "Mediano",
                    "Mediano",
                    "Mediano",
                    "Mediano",
                    "Mediano",
                    "Mediano",
                    "Mediano",
                    "Mediano",
                    "Mediano",
                    "Mediano",
                    "Mediano",
                    "Mediano",
                    "Mediano",
                    "Mediano",
                    "Mediano",
                    "Mediano",
                    "Mediano",
                    "Mediano",
                    "Mediano",
                    "Mediano",
                    "Mediano",
                    "Mediano",
                    "Mediano",
                    "Mediano",
                    "Mediano",
                    "Mediano",
                    "Mediano",
                    "Mediano",
                    "Mediano",
                    "Mediano",
                    "Mediano",
                    "Mediano",
                    "Mediano",
                    "Mediano",
                    "Mediano",
                    "Mediano",
                    "Mediano",
                    "Mediano",
                    "Mediano",
                    "Mediano",
                    "Mediano",
                    "Mediano",
                    "Mediano",
                    "Mediano",
                    "Mediano",
                    "Mediano",
                    "Mediano",
                    "Mediano",
                    "Mediano",
                    "Mediano",
                    "Mediano",
                    "Mediano",
                    "Mediano",
                    "Mediano",
                    "Mediano",
                    "Mediano",
                    "Mediano",
                    "Mediano",
                    "Mediano",
                    "Mediano",
                    "Mediano",
                    "Mediano",
                    "Mediano",
                    "Mediano",
                    "Mediano",
                    "Mediano",
                    "Mediano",
                    "Mediano",
                    "Mediano",
                    "Mediano",
                    "Mediano",
                    "Mediano",
                    "Mediano",
                    "Mediano",
                    "Mediano",
                    "Mediano",
                    "Mediano",
                    "Mediano",
                    "Mediano",
                    "Mediano",
                    "Mediano",
                    "Mediano",
                    "Mediano",
                    "Mediano",
                    "Mediano",
                    "Mediano",
                    "Mediano",
                    "Mediano",
                    "Mediano",
                    "Mediano",
                    "Mediano",
                    "Mediano",
                    "Mediano",
                    "Mediano",
                    "Mediano",
                    "Mediano",
                    "Mediano",
                    "Mediano",
                    "Mediano",
                    "Mediano",
                    "Mediano",
                    "Mediano",
                    "Mediano",
                    "Mediano",
                    "Mediano",
                    "Mediano",
                    "Mediano",
                    "Mediano",
                    "Mediano",
                    "Mediano",
                    "Mediano",
                    "Mediano",
                    "Mediano",
                    "Mediano",
                    "Mediano",
                    "Mediano",
                    "Mediano",
                    "Mediano",
                    "Mediano",
                    "Mediano",
                    "Mediano",
                    "Mediano",
                    "Mediano",
                    "Mediano",
                    "Mediano",
                    "Mediano",
                    "Mediano",
                    "Mediano",
                    "Mediano",
                    "Mediano",
                    "Mediano",
                    "Mediano",
                    "Mediano",
                    "Mediano",
                    "Mediano",
                    "Mediano",
                    "Mediano",
                    "Mediano",
                    "Mediano",
                    "Mediano",
                    "Mediano",
                    "Mediano",
                    "Mediano",
                    "Mediano",
                    "Mediano",
                    "Mediano",
                    "Mediano",
                    "Mediano",
                    "Mediano",
                    "Mediano",
                    "Mediano",
                    "Mediano",
                    "Mediano",
                    "Mediano",
                    "Mediano",
                    "Mediano",
                    "Mediano",
                    "Mediano",
                    "Mediano",
                    "Mediano",
                    "Mediano",
                    "Mediano",
                    "Mediano",
                    "Mediano",
                    "Mediano",
                    "Mediano",
                    "Mediano",
                    "Mediano",
                    "Mediano",
                    "Mediano",
                    "Mediano",
                    "Mediano",
                    "Mediano",
                    "Mediano",
                    "Mediano",
                    "Mediano",
                    "Mediano",
                    "Mediano",
                    "Mediano",
                    "Mediano",
                    "Mediano",
                    "Mediano",
                    "Mediano",
                    "Mediano",
                    "Mediano",
                    "Mediano",
                    "Mediano",
                    "Mediano",
                    "Mediano",
                    "Mediano",
                    "Mediano",
                    "Mediano",
                    "Mediano",
                    "Mediano",
                    "Mediano",
                    "Mediano",
                    "Mediano",
                    "Mediano",
                    "Mediano",
                    "Mediano",
                    "Mediano",
                    "Mediano",
                    "Mediano",
                    "Mediano",
                    "Mediano",
                    "Mediano",
                    "Mediano",
                    "Mediano",
                    "Mediano",
                    "Mediano",
                    "Mediano",
                    "Mediano",
                    "Mediano",
                    "Mediano",
                    "Mediano",
                    "Mediano",
                    "Mediano",
                    "Mediano",
                    "Mediano",
                    "Mediano",
                    "Mediano",
                    "Mediano",
                    "Mediano",
                    "Mediano",
                    "Mediano",
                    "Mediano",
                    "Mediano",
                    "Mediano",
                    "Mediano",
                    "Mediano",
                    "Mediano",
                    "Mediano",
                    "Mediano",
                    "Mediano",
                    "Mediano",
                    "Mediano",
                    "Mediano",
                    "Mediano",
                    "Mediano",
                    "Mediano",
                    "Mediano",
                    "Mediano",
                    "Mediano",
                    "Mediano",
                    "Mediano",
                    "Mediano",
                    "Mediano",
                    "Mediano",
                    "Mediano",
                    "Mediano",
                    "Mediano",
                    "Mediano",
                    "Mediano",
                    "Mediano",
                    "Mediano",
                    "Mediano",
                    "Mediano",
                    "Mediano",
                    "Mediano",
                    "Mediano",
                    "Mediano",
                    "Mediano",
                    "Mediano",
                    "Mediano",
                    "Mediano",
                    "Mediano",
                    "Mediano",
                    "Mediano",
                    "Mediano",
                    "Mediano",
                    "Mediano",
                    "Mediano",
                    "Mediano",
                    "Mediano",
                    "Mediano",
                    "Mediano",
                    "Mediano",
                    "Mediano",
                    "Mediano",
                    "Mediano",
                    "Mediano",
                    "Mediano",
                    "Mediano",
                    "Mediano",
                    "Mediano",
                    "Mediano",
                    "Mediano",
                    "Mediano",
                    "Mediano",
                    "Mediano",
                    "Mediano",
                    "Mediano",
                    "Mediano",
                    "Mediano",
                    "Mediano",
                    "Mediano",
                    "Mediano",
                    "Mediano",
                    "Mediano",
                    "Mediano",
                    "Mediano",
                    "Mediano",
                    "Mediano",
                    "Mediano",
                    "Mediano",
                    "Mediano",
                    "Mediano",
                    "Mediano",
                    "Mediano",
                    "Mediano",
                    "Mediano",
                    "Mediano",
                    "Mediano",
                    "Mediano",
                    "Mediano",
                    "Mediano",
                    "Mediano",
                    "Mediano",
                    "Mediano",
                    "Mediano",
                    "Mediano",
                    "Ruim",
                    "Ruim",
                    "Ruim",
                    "Ruim",
                    "Ruim",
                    "Ruim",
                    "Ruim",
                    "Ruim",
                    "Ruim",
                    "Ruim",
                    "Ruim",
                    "Ruim",
                    "Ruim",
                    "Ruim",
                    "Ruim",
                    "Ruim",
                    "Ruim",
                    "Ruim",
                    "Ruim",
                    "Ruim",
                    "Ruim",
                    "Ruim",
                    "Ruim",
                    "Ruim",
                    "Ruim",
                    "Ruim",
                    "Ruim",
                    "Ruim",
                    "Ruim",
                    "Ruim",
                    "Ruim",
                    "Ruim",
                    "Ruim",
                    "Ruim",
                    "Ruim",
                    "Ruim",
                    "Ruim",
                    "Ruim",
                    "Ruim",
                    "Ruim",
                    "Ruim",
                    "Ruim",
                    "Ruim",
                    "Ruim",
                    "Ruim",
                    "Ruim",
                    "Ruim",
                    "Ruim",
                    "Ruim",
                    "Ruim",
                    "Ruim",
                    "Ruim",
                    "Ruim",
                    "Ruim",
                    "Ruim",
                    "Ruim",
                    "Ruim",
                    "Ruim",
                    "Ruim",
                    "Ruim",
                    "Ruim",
                    "Ruim",
                    "Ruim",
                    "Ruim",
                    "Ruim",
                    "Ruim",
                    "Ruim",
                    "Ruim",
                    "Ruim",
                    "Ruim",
                    "Ruim",
                    "Ruim",
                    "Ruim",
                    "Ruim",
                    "Ruim",
                    "Ruim",
                    "Ruim",
                    "Ruim",
                    "Ruim",
                    "Ruim",
                    "Ruim",
                    "Ruim",
                    "Ruim",
                    "Ruim",
                    "Ruim",
                    "Ruim",
                    "Ruim",
                    "Ruim",
                    "Ruim",
                    "Ruim",
                    "Ruim",
                    "Ruim",
                    "Ruim",
                    "Ruim",
                    "Ruim",
                    "Ruim",
                    "Ruim",
                    "Ruim",
                    "Ruim",
                    "Ruim",
                    "Ruim",
                    "Ruim",
                    "Ruim",
                    "Ruim",
                    "Ruim",
                    "Ruim",
                    "Ruim",
                    "Ruim",
                    "Ruim",
                    "Ruim",
                    "Ruim",
                    "Ruim",
                    "Ruim",
                    "Ruim",
                    "Ruim",
                    "Ruim",
                    "Ruim",
                    "Ruim",
                    "Ruim",
                    "Ruim",
                    "Ruim",
                    "Pessimo",
                    "Pessimo",
                    "Pessimo"
                  ],
                  "xaxis": "x",
                  "yaxis": "y"
                }
              ],
              "layout": {
                "barmode": "relative",
                "legend": {
                  "tracegroupgap": 0
                },
                "margin": {
                  "t": 60
                },
                "template": {
                  "data": {
                    "bar": [
                      {
                        "error_x": {
                          "color": "#2a3f5f"
                        },
                        "error_y": {
                          "color": "#2a3f5f"
                        },
                        "marker": {
                          "line": {
                            "color": "#E5ECF6",
                            "width": 0.5
                          },
                          "pattern": {
                            "fillmode": "overlay",
                            "size": 10,
                            "solidity": 0.2
                          }
                        },
                        "type": "bar"
                      }
                    ],
                    "barpolar": [
                      {
                        "marker": {
                          "line": {
                            "color": "#E5ECF6",
                            "width": 0.5
                          },
                          "pattern": {
                            "fillmode": "overlay",
                            "size": 10,
                            "solidity": 0.2
                          }
                        },
                        "type": "barpolar"
                      }
                    ],
                    "carpet": [
                      {
                        "aaxis": {
                          "endlinecolor": "#2a3f5f",
                          "gridcolor": "white",
                          "linecolor": "white",
                          "minorgridcolor": "white",
                          "startlinecolor": "#2a3f5f"
                        },
                        "baxis": {
                          "endlinecolor": "#2a3f5f",
                          "gridcolor": "white",
                          "linecolor": "white",
                          "minorgridcolor": "white",
                          "startlinecolor": "#2a3f5f"
                        },
                        "type": "carpet"
                      }
                    ],
                    "choropleth": [
                      {
                        "colorbar": {
                          "outlinewidth": 0,
                          "ticks": ""
                        },
                        "type": "choropleth"
                      }
                    ],
                    "contour": [
                      {
                        "colorbar": {
                          "outlinewidth": 0,
                          "ticks": ""
                        },
                        "colorscale": [
                          [
                            0,
                            "#0d0887"
                          ],
                          [
                            0.1111111111111111,
                            "#46039f"
                          ],
                          [
                            0.2222222222222222,
                            "#7201a8"
                          ],
                          [
                            0.3333333333333333,
                            "#9c179e"
                          ],
                          [
                            0.4444444444444444,
                            "#bd3786"
                          ],
                          [
                            0.5555555555555556,
                            "#d8576b"
                          ],
                          [
                            0.6666666666666666,
                            "#ed7953"
                          ],
                          [
                            0.7777777777777778,
                            "#fb9f3a"
                          ],
                          [
                            0.8888888888888888,
                            "#fdca26"
                          ],
                          [
                            1,
                            "#f0f921"
                          ]
                        ],
                        "type": "contour"
                      }
                    ],
                    "contourcarpet": [
                      {
                        "colorbar": {
                          "outlinewidth": 0,
                          "ticks": ""
                        },
                        "type": "contourcarpet"
                      }
                    ],
                    "heatmap": [
                      {
                        "colorbar": {
                          "outlinewidth": 0,
                          "ticks": ""
                        },
                        "colorscale": [
                          [
                            0,
                            "#0d0887"
                          ],
                          [
                            0.1111111111111111,
                            "#46039f"
                          ],
                          [
                            0.2222222222222222,
                            "#7201a8"
                          ],
                          [
                            0.3333333333333333,
                            "#9c179e"
                          ],
                          [
                            0.4444444444444444,
                            "#bd3786"
                          ],
                          [
                            0.5555555555555556,
                            "#d8576b"
                          ],
                          [
                            0.6666666666666666,
                            "#ed7953"
                          ],
                          [
                            0.7777777777777778,
                            "#fb9f3a"
                          ],
                          [
                            0.8888888888888888,
                            "#fdca26"
                          ],
                          [
                            1,
                            "#f0f921"
                          ]
                        ],
                        "type": "heatmap"
                      }
                    ],
                    "heatmapgl": [
                      {
                        "colorbar": {
                          "outlinewidth": 0,
                          "ticks": ""
                        },
                        "colorscale": [
                          [
                            0,
                            "#0d0887"
                          ],
                          [
                            0.1111111111111111,
                            "#46039f"
                          ],
                          [
                            0.2222222222222222,
                            "#7201a8"
                          ],
                          [
                            0.3333333333333333,
                            "#9c179e"
                          ],
                          [
                            0.4444444444444444,
                            "#bd3786"
                          ],
                          [
                            0.5555555555555556,
                            "#d8576b"
                          ],
                          [
                            0.6666666666666666,
                            "#ed7953"
                          ],
                          [
                            0.7777777777777778,
                            "#fb9f3a"
                          ],
                          [
                            0.8888888888888888,
                            "#fdca26"
                          ],
                          [
                            1,
                            "#f0f921"
                          ]
                        ],
                        "type": "heatmapgl"
                      }
                    ],
                    "histogram": [
                      {
                        "marker": {
                          "pattern": {
                            "fillmode": "overlay",
                            "size": 10,
                            "solidity": 0.2
                          }
                        },
                        "type": "histogram"
                      }
                    ],
                    "histogram2d": [
                      {
                        "colorbar": {
                          "outlinewidth": 0,
                          "ticks": ""
                        },
                        "colorscale": [
                          [
                            0,
                            "#0d0887"
                          ],
                          [
                            0.1111111111111111,
                            "#46039f"
                          ],
                          [
                            0.2222222222222222,
                            "#7201a8"
                          ],
                          [
                            0.3333333333333333,
                            "#9c179e"
                          ],
                          [
                            0.4444444444444444,
                            "#bd3786"
                          ],
                          [
                            0.5555555555555556,
                            "#d8576b"
                          ],
                          [
                            0.6666666666666666,
                            "#ed7953"
                          ],
                          [
                            0.7777777777777778,
                            "#fb9f3a"
                          ],
                          [
                            0.8888888888888888,
                            "#fdca26"
                          ],
                          [
                            1,
                            "#f0f921"
                          ]
                        ],
                        "type": "histogram2d"
                      }
                    ],
                    "histogram2dcontour": [
                      {
                        "colorbar": {
                          "outlinewidth": 0,
                          "ticks": ""
                        },
                        "colorscale": [
                          [
                            0,
                            "#0d0887"
                          ],
                          [
                            0.1111111111111111,
                            "#46039f"
                          ],
                          [
                            0.2222222222222222,
                            "#7201a8"
                          ],
                          [
                            0.3333333333333333,
                            "#9c179e"
                          ],
                          [
                            0.4444444444444444,
                            "#bd3786"
                          ],
                          [
                            0.5555555555555556,
                            "#d8576b"
                          ],
                          [
                            0.6666666666666666,
                            "#ed7953"
                          ],
                          [
                            0.7777777777777778,
                            "#fb9f3a"
                          ],
                          [
                            0.8888888888888888,
                            "#fdca26"
                          ],
                          [
                            1,
                            "#f0f921"
                          ]
                        ],
                        "type": "histogram2dcontour"
                      }
                    ],
                    "mesh3d": [
                      {
                        "colorbar": {
                          "outlinewidth": 0,
                          "ticks": ""
                        },
                        "type": "mesh3d"
                      }
                    ],
                    "parcoords": [
                      {
                        "line": {
                          "colorbar": {
                            "outlinewidth": 0,
                            "ticks": ""
                          }
                        },
                        "type": "parcoords"
                      }
                    ],
                    "pie": [
                      {
                        "automargin": true,
                        "type": "pie"
                      }
                    ],
                    "scatter": [
                      {
                        "fillpattern": {
                          "fillmode": "overlay",
                          "size": 10,
                          "solidity": 0.2
                        },
                        "type": "scatter"
                      }
                    ],
                    "scatter3d": [
                      {
                        "line": {
                          "colorbar": {
                            "outlinewidth": 0,
                            "ticks": ""
                          }
                        },
                        "marker": {
                          "colorbar": {
                            "outlinewidth": 0,
                            "ticks": ""
                          }
                        },
                        "type": "scatter3d"
                      }
                    ],
                    "scattercarpet": [
                      {
                        "marker": {
                          "colorbar": {
                            "outlinewidth": 0,
                            "ticks": ""
                          }
                        },
                        "type": "scattercarpet"
                      }
                    ],
                    "scattergeo": [
                      {
                        "marker": {
                          "colorbar": {
                            "outlinewidth": 0,
                            "ticks": ""
                          }
                        },
                        "type": "scattergeo"
                      }
                    ],
                    "scattergl": [
                      {
                        "marker": {
                          "colorbar": {
                            "outlinewidth": 0,
                            "ticks": ""
                          }
                        },
                        "type": "scattergl"
                      }
                    ],
                    "scattermapbox": [
                      {
                        "marker": {
                          "colorbar": {
                            "outlinewidth": 0,
                            "ticks": ""
                          }
                        },
                        "type": "scattermapbox"
                      }
                    ],
                    "scatterpolar": [
                      {
                        "marker": {
                          "colorbar": {
                            "outlinewidth": 0,
                            "ticks": ""
                          }
                        },
                        "type": "scatterpolar"
                      }
                    ],
                    "scatterpolargl": [
                      {
                        "marker": {
                          "colorbar": {
                            "outlinewidth": 0,
                            "ticks": ""
                          }
                        },
                        "type": "scatterpolargl"
                      }
                    ],
                    "scatterternary": [
                      {
                        "marker": {
                          "colorbar": {
                            "outlinewidth": 0,
                            "ticks": ""
                          }
                        },
                        "type": "scatterternary"
                      }
                    ],
                    "surface": [
                      {
                        "colorbar": {
                          "outlinewidth": 0,
                          "ticks": ""
                        },
                        "colorscale": [
                          [
                            0,
                            "#0d0887"
                          ],
                          [
                            0.1111111111111111,
                            "#46039f"
                          ],
                          [
                            0.2222222222222222,
                            "#7201a8"
                          ],
                          [
                            0.3333333333333333,
                            "#9c179e"
                          ],
                          [
                            0.4444444444444444,
                            "#bd3786"
                          ],
                          [
                            0.5555555555555556,
                            "#d8576b"
                          ],
                          [
                            0.6666666666666666,
                            "#ed7953"
                          ],
                          [
                            0.7777777777777778,
                            "#fb9f3a"
                          ],
                          [
                            0.8888888888888888,
                            "#fdca26"
                          ],
                          [
                            1,
                            "#f0f921"
                          ]
                        ],
                        "type": "surface"
                      }
                    ],
                    "table": [
                      {
                        "cells": {
                          "fill": {
                            "color": "#EBF0F8"
                          },
                          "line": {
                            "color": "white"
                          }
                        },
                        "header": {
                          "fill": {
                            "color": "#C8D4E3"
                          },
                          "line": {
                            "color": "white"
                          }
                        },
                        "type": "table"
                      }
                    ]
                  },
                  "layout": {
                    "annotationdefaults": {
                      "arrowcolor": "#2a3f5f",
                      "arrowhead": 0,
                      "arrowwidth": 1
                    },
                    "autotypenumbers": "strict",
                    "coloraxis": {
                      "colorbar": {
                        "outlinewidth": 0,
                        "ticks": ""
                      }
                    },
                    "colorscale": {
                      "diverging": [
                        [
                          0,
                          "#8e0152"
                        ],
                        [
                          0.1,
                          "#c51b7d"
                        ],
                        [
                          0.2,
                          "#de77ae"
                        ],
                        [
                          0.3,
                          "#f1b6da"
                        ],
                        [
                          0.4,
                          "#fde0ef"
                        ],
                        [
                          0.5,
                          "#f7f7f7"
                        ],
                        [
                          0.6,
                          "#e6f5d0"
                        ],
                        [
                          0.7,
                          "#b8e186"
                        ],
                        [
                          0.8,
                          "#7fbc41"
                        ],
                        [
                          0.9,
                          "#4d9221"
                        ],
                        [
                          1,
                          "#276419"
                        ]
                      ],
                      "sequential": [
                        [
                          0,
                          "#0d0887"
                        ],
                        [
                          0.1111111111111111,
                          "#46039f"
                        ],
                        [
                          0.2222222222222222,
                          "#7201a8"
                        ],
                        [
                          0.3333333333333333,
                          "#9c179e"
                        ],
                        [
                          0.4444444444444444,
                          "#bd3786"
                        ],
                        [
                          0.5555555555555556,
                          "#d8576b"
                        ],
                        [
                          0.6666666666666666,
                          "#ed7953"
                        ],
                        [
                          0.7777777777777778,
                          "#fb9f3a"
                        ],
                        [
                          0.8888888888888888,
                          "#fdca26"
                        ],
                        [
                          1,
                          "#f0f921"
                        ]
                      ],
                      "sequentialminus": [
                        [
                          0,
                          "#0d0887"
                        ],
                        [
                          0.1111111111111111,
                          "#46039f"
                        ],
                        [
                          0.2222222222222222,
                          "#7201a8"
                        ],
                        [
                          0.3333333333333333,
                          "#9c179e"
                        ],
                        [
                          0.4444444444444444,
                          "#bd3786"
                        ],
                        [
                          0.5555555555555556,
                          "#d8576b"
                        ],
                        [
                          0.6666666666666666,
                          "#ed7953"
                        ],
                        [
                          0.7777777777777778,
                          "#fb9f3a"
                        ],
                        [
                          0.8888888888888888,
                          "#fdca26"
                        ],
                        [
                          1,
                          "#f0f921"
                        ]
                      ]
                    },
                    "colorway": [
                      "#636efa",
                      "#EF553B",
                      "#00cc96",
                      "#ab63fa",
                      "#FFA15A",
                      "#19d3f3",
                      "#FF6692",
                      "#B6E880",
                      "#FF97FF",
                      "#FECB52"
                    ],
                    "font": {
                      "color": "#2a3f5f"
                    },
                    "geo": {
                      "bgcolor": "white",
                      "lakecolor": "white",
                      "landcolor": "#E5ECF6",
                      "showlakes": true,
                      "showland": true,
                      "subunitcolor": "white"
                    },
                    "hoverlabel": {
                      "align": "left"
                    },
                    "hovermode": "closest",
                    "mapbox": {
                      "style": "light"
                    },
                    "paper_bgcolor": "white",
                    "plot_bgcolor": "#E5ECF6",
                    "polar": {
                      "angularaxis": {
                        "gridcolor": "white",
                        "linecolor": "white",
                        "ticks": ""
                      },
                      "bgcolor": "#E5ECF6",
                      "radialaxis": {
                        "gridcolor": "white",
                        "linecolor": "white",
                        "ticks": ""
                      }
                    },
                    "scene": {
                      "xaxis": {
                        "backgroundcolor": "#E5ECF6",
                        "gridcolor": "white",
                        "gridwidth": 2,
                        "linecolor": "white",
                        "showbackground": true,
                        "ticks": "",
                        "zerolinecolor": "white"
                      },
                      "yaxis": {
                        "backgroundcolor": "#E5ECF6",
                        "gridcolor": "white",
                        "gridwidth": 2,
                        "linecolor": "white",
                        "showbackground": true,
                        "ticks": "",
                        "zerolinecolor": "white"
                      },
                      "zaxis": {
                        "backgroundcolor": "#E5ECF6",
                        "gridcolor": "white",
                        "gridwidth": 2,
                        "linecolor": "white",
                        "showbackground": true,
                        "ticks": "",
                        "zerolinecolor": "white"
                      }
                    },
                    "shapedefaults": {
                      "line": {
                        "color": "#2a3f5f"
                      }
                    },
                    "ternary": {
                      "aaxis": {
                        "gridcolor": "white",
                        "linecolor": "white",
                        "ticks": ""
                      },
                      "baxis": {
                        "gridcolor": "white",
                        "linecolor": "white",
                        "ticks": ""
                      },
                      "bgcolor": "#E5ECF6",
                      "caxis": {
                        "gridcolor": "white",
                        "linecolor": "white",
                        "ticks": ""
                      }
                    },
                    "title": {
                      "x": 0.05
                    },
                    "xaxis": {
                      "automargin": true,
                      "gridcolor": "white",
                      "linecolor": "white",
                      "ticks": "",
                      "title": {
                        "standoff": 15
                      },
                      "zerolinecolor": "white",
                      "zerolinewidth": 2
                    },
                    "yaxis": {
                      "automargin": true,
                      "gridcolor": "white",
                      "linecolor": "white",
                      "ticks": "",
                      "title": {
                        "standoff": 15
                      },
                      "zerolinecolor": "white",
                      "zerolinewidth": 2
                    }
                  }
                },
                "xaxis": {
                  "anchor": "y",
                  "domain": [
                    0,
                    1
                  ],
                  "title": {
                    "text": "Desempenho"
                  }
                },
                "yaxis": {
                  "anchor": "x",
                  "domain": [
                    0,
                    1
                  ],
                  "title": {
                    "text": "count"
                  }
                }
              }
            }
          },
          "metadata": {},
          "output_type": "display_data"
        }
      ],
      "source": [
        "px.histogram(Atacante, x = 'Desempenho').show()"
      ]
    },
    {
      "cell_type": "code",
      "execution_count": 417,
      "metadata": {
        "colab": {
          "base_uri": "https://localhost:8080/",
          "height": 1000
        },
        "id": "HkRyTH4iuXOV",
        "outputId": "17e3e16e-bade-4b37-9aae-bcbdd774339a"
      },
      "outputs": [
        {
          "data": {
            "text/html": [
              "<div>\n",
              "<style scoped>\n",
              "    .dataframe tbody tr th:only-of-type {\n",
              "        vertical-align: middle;\n",
              "    }\n",
              "\n",
              "    .dataframe tbody tr th {\n",
              "        vertical-align: top;\n",
              "    }\n",
              "\n",
              "    .dataframe thead th {\n",
              "        text-align: right;\n",
              "    }\n",
              "</style>\n",
              "<table border=\"1\" class=\"dataframe\">\n",
              "  <thead>\n",
              "    <tr style=\"text-align: right;\">\n",
              "      <th></th>\n",
              "      <th>_c0</th>\n",
              "      <th>Rk</th>\n",
              "      <th>Player</th>\n",
              "      <th>Nation</th>\n",
              "      <th>Pos</th>\n",
              "      <th>Squad</th>\n",
              "      <th>Comp</th>\n",
              "      <th>Age</th>\n",
              "      <th>Born</th>\n",
              "      <th>MP</th>\n",
              "      <th>...</th>\n",
              "      <th>PKwon</th>\n",
              "      <th>PKcon</th>\n",
              "      <th>OG</th>\n",
              "      <th>Recov</th>\n",
              "      <th>AerWon</th>\n",
              "      <th>AerLost</th>\n",
              "      <th>AerWon%</th>\n",
              "      <th>GPJ</th>\n",
              "      <th>score</th>\n",
              "      <th>Desempenho</th>\n",
              "    </tr>\n",
              "  </thead>\n",
              "  <tbody>\n",
              "    <tr>\n",
              "      <th>263</th>\n",
              "      <td>1057</td>\n",
              "      <td>1058</td>\n",
              "      <td>Erling Haaland</td>\n",
              "      <td>NOR</td>\n",
              "      <td>FW</td>\n",
              "      <td>Manchester City</td>\n",
              "      <td>Premier League</td>\n",
              "      <td>22</td>\n",
              "      <td>2000</td>\n",
              "      <td>20</td>\n",
              "      <td>...</td>\n",
              "      <td>0.05</td>\n",
              "      <td>0.00</td>\n",
              "      <td>0.0</td>\n",
              "      <td>1.10</td>\n",
              "      <td>1.37</td>\n",
              "      <td>1.26</td>\n",
              "      <td>52.1</td>\n",
              "      <td>1.250000</td>\n",
              "      <td>408.604000</td>\n",
              "      <td>Excelente</td>\n",
              "    </tr>\n",
              "    <tr>\n",
              "      <th>326</th>\n",
              "      <td>1260</td>\n",
              "      <td>1261</td>\n",
              "      <td>Harry Kane</td>\n",
              "      <td>ENG</td>\n",
              "      <td>FW</td>\n",
              "      <td>Tottenham</td>\n",
              "      <td>Premier League</td>\n",
              "      <td>29</td>\n",
              "      <td>1993</td>\n",
              "      <td>23</td>\n",
              "      <td>...</td>\n",
              "      <td>0.04</td>\n",
              "      <td>0.00</td>\n",
              "      <td>0.0</td>\n",
              "      <td>2.15</td>\n",
              "      <td>1.75</td>\n",
              "      <td>2.02</td>\n",
              "      <td>46.5</td>\n",
              "      <td>0.739130</td>\n",
              "      <td>304.799217</td>\n",
              "      <td>Excelente</td>\n",
              "    </tr>\n",
              "    <tr>\n",
              "      <th>481</th>\n",
              "      <td>1858</td>\n",
              "      <td>1859</td>\n",
              "      <td>Victor Osimhen</td>\n",
              "      <td>NGA</td>\n",
              "      <td>FW</td>\n",
              "      <td>Napoli</td>\n",
              "      <td>Serie A</td>\n",
              "      <td>24</td>\n",
              "      <td>1998</td>\n",
              "      <td>17</td>\n",
              "      <td>...</td>\n",
              "      <td>0.06</td>\n",
              "      <td>0.06</td>\n",
              "      <td>0.0</td>\n",
              "      <td>1.54</td>\n",
              "      <td>2.12</td>\n",
              "      <td>2.18</td>\n",
              "      <td>49.3</td>\n",
              "      <td>0.941176</td>\n",
              "      <td>294.485353</td>\n",
              "      <td>Excelente</td>\n",
              "    </tr>\n",
              "    <tr>\n",
              "      <th>65</th>\n",
              "      <td>252</td>\n",
              "      <td>253</td>\n",
              "      <td>Wissam Ben Yedder</td>\n",
              "      <td>FRA</td>\n",
              "      <td>FW</td>\n",
              "      <td>Monaco</td>\n",
              "      <td>Ligue 1</td>\n",
              "      <td>32</td>\n",
              "      <td>1990</td>\n",
              "      <td>19</td>\n",
              "      <td>...</td>\n",
              "      <td>0.08</td>\n",
              "      <td>0.00</td>\n",
              "      <td>0.0</td>\n",
              "      <td>2.62</td>\n",
              "      <td>0.63</td>\n",
              "      <td>1.19</td>\n",
              "      <td>34.8</td>\n",
              "      <td>0.736842</td>\n",
              "      <td>277.374026</td>\n",
              "      <td>Excelente</td>\n",
              "    </tr>\n",
              "    <tr>\n",
              "      <th>628</th>\n",
              "      <td>2451</td>\n",
              "      <td>2452</td>\n",
              "      <td>Ivan Toney</td>\n",
              "      <td>ENG</td>\n",
              "      <td>FW</td>\n",
              "      <td>Brentford</td>\n",
              "      <td>Premier League</td>\n",
              "      <td>26</td>\n",
              "      <td>1996</td>\n",
              "      <td>20</td>\n",
              "      <td>...</td>\n",
              "      <td>0.15</td>\n",
              "      <td>0.00</td>\n",
              "      <td>0.0</td>\n",
              "      <td>2.96</td>\n",
              "      <td>3.47</td>\n",
              "      <td>3.72</td>\n",
              "      <td>48.3</td>\n",
              "      <td>0.700000</td>\n",
              "      <td>270.801000</td>\n",
              "      <td>Excelente</td>\n",
              "    </tr>\n",
              "    <tr>\n",
              "      <th>371</th>\n",
              "      <td>1426</td>\n",
              "      <td>1427</td>\n",
              "      <td>Robert Lewandowski</td>\n",
              "      <td>POL</td>\n",
              "      <td>FW</td>\n",
              "      <td>Barcelona</td>\n",
              "      <td>La Liga</td>\n",
              "      <td>34</td>\n",
              "      <td>1988</td>\n",
              "      <td>17</td>\n",
              "      <td>...</td>\n",
              "      <td>0.00</td>\n",
              "      <td>0.00</td>\n",
              "      <td>0.0</td>\n",
              "      <td>1.82</td>\n",
              "      <td>1.49</td>\n",
              "      <td>1.42</td>\n",
              "      <td>51.2</td>\n",
              "      <td>0.823529</td>\n",
              "      <td>270.795059</td>\n",
              "      <td>Excelente</td>\n",
              "    </tr>\n",
              "    <tr>\n",
              "      <th>409</th>\n",
              "      <td>1609</td>\n",
              "      <td>1610</td>\n",
              "      <td>Kylian Mbapp�</td>\n",
              "      <td>FRA</td>\n",
              "      <td>FW</td>\n",
              "      <td>Paris S-G</td>\n",
              "      <td>Ligue 1</td>\n",
              "      <td>24</td>\n",
              "      <td>1998</td>\n",
              "      <td>19</td>\n",
              "      <td>...</td>\n",
              "      <td>0.06</td>\n",
              "      <td>0.00</td>\n",
              "      <td>0.0</td>\n",
              "      <td>1.72</td>\n",
              "      <td>0.37</td>\n",
              "      <td>0.31</td>\n",
              "      <td>54.5</td>\n",
              "      <td>0.684211</td>\n",
              "      <td>268.444132</td>\n",
              "      <td>Excelente</td>\n",
              "    </tr>\n",
              "    <tr>\n",
              "      <th>44</th>\n",
              "      <td>184</td>\n",
              "      <td>185</td>\n",
              "      <td>Folarin Balogun</td>\n",
              "      <td>ENG</td>\n",
              "      <td>FW</td>\n",
              "      <td>Reims</td>\n",
              "      <td>Ligue 1</td>\n",
              "      <td>21</td>\n",
              "      <td>2001</td>\n",
              "      <td>21</td>\n",
              "      <td>...</td>\n",
              "      <td>0.11</td>\n",
              "      <td>0.00</td>\n",
              "      <td>0.0</td>\n",
              "      <td>2.94</td>\n",
              "      <td>0.51</td>\n",
              "      <td>2.03</td>\n",
              "      <td>20.0</td>\n",
              "      <td>0.666667</td>\n",
              "      <td>264.352833</td>\n",
              "      <td>Excelente</td>\n",
              "    </tr>\n",
              "    <tr>\n",
              "      <th>355</th>\n",
              "      <td>1358</td>\n",
              "      <td>1359</td>\n",
              "      <td>Alexandre Lacazette</td>\n",
              "      <td>FRA</td>\n",
              "      <td>FW</td>\n",
              "      <td>Lyon</td>\n",
              "      <td>Ligue 1</td>\n",
              "      <td>31</td>\n",
              "      <td>1991</td>\n",
              "      <td>22</td>\n",
              "      <td>...</td>\n",
              "      <td>0.05</td>\n",
              "      <td>0.00</td>\n",
              "      <td>0.0</td>\n",
              "      <td>2.76</td>\n",
              "      <td>0.93</td>\n",
              "      <td>1.12</td>\n",
              "      <td>45.5</td>\n",
              "      <td>0.590909</td>\n",
              "      <td>263.127909</td>\n",
              "      <td>Excelente</td>\n",
              "    </tr>\n",
              "    <tr>\n",
              "      <th>220</th>\n",
              "      <td>899</td>\n",
              "      <td>900</td>\n",
              "      <td>Niclas F�llkrug</td>\n",
              "      <td>GER</td>\n",
              "      <td>FW</td>\n",
              "      <td>Werder Bremen</td>\n",
              "      <td>Bundesliga</td>\n",
              "      <td>30</td>\n",
              "      <td>1993</td>\n",
              "      <td>19</td>\n",
              "      <td>...</td>\n",
              "      <td>0.00</td>\n",
              "      <td>0.00</td>\n",
              "      <td>0.0</td>\n",
              "      <td>3.35</td>\n",
              "      <td>5.14</td>\n",
              "      <td>3.68</td>\n",
              "      <td>58.3</td>\n",
              "      <td>0.684211</td>\n",
              "      <td>259.312632</td>\n",
              "      <td>Excelente</td>\n",
              "    </tr>\n",
              "    <tr>\n",
              "      <th>463</th>\n",
              "      <td>1797</td>\n",
              "      <td>1798</td>\n",
              "      <td>Christopher Nkunku</td>\n",
              "      <td>FRA</td>\n",
              "      <td>FWMF</td>\n",
              "      <td>RB Leipzig</td>\n",
              "      <td>Bundesliga</td>\n",
              "      <td>25</td>\n",
              "      <td>1997</td>\n",
              "      <td>15</td>\n",
              "      <td>...</td>\n",
              "      <td>0.14</td>\n",
              "      <td>0.00</td>\n",
              "      <td>0.0</td>\n",
              "      <td>3.10</td>\n",
              "      <td>0.85</td>\n",
              "      <td>0.85</td>\n",
              "      <td>50.0</td>\n",
              "      <td>0.800000</td>\n",
              "      <td>258.402500</td>\n",
              "      <td>Excelente</td>\n",
              "    </tr>\n",
              "    <tr>\n",
              "      <th>250</th>\n",
              "      <td>1012</td>\n",
              "      <td>1013</td>\n",
              "      <td>Vincenzo Grifo</td>\n",
              "      <td>ITA</td>\n",
              "      <td>FWMF</td>\n",
              "      <td>Freiburg</td>\n",
              "      <td>Bundesliga</td>\n",
              "      <td>29</td>\n",
              "      <td>1993</td>\n",
              "      <td>19</td>\n",
              "      <td>...</td>\n",
              "      <td>0.07</td>\n",
              "      <td>0.00</td>\n",
              "      <td>0.0</td>\n",
              "      <td>4.90</td>\n",
              "      <td>0.42</td>\n",
              "      <td>0.56</td>\n",
              "      <td>42.9</td>\n",
              "      <td>0.578947</td>\n",
              "      <td>253.250842</td>\n",
              "      <td>Excelente</td>\n",
              "    </tr>\n",
              "    <tr>\n",
              "      <th>376</th>\n",
              "      <td>1455</td>\n",
              "      <td>1456</td>\n",
              "      <td>Ademola Lookman</td>\n",
              "      <td>NGA</td>\n",
              "      <td>FWMF</td>\n",
              "      <td>Atalanta</td>\n",
              "      <td>Serie A</td>\n",
              "      <td>25</td>\n",
              "      <td>1997</td>\n",
              "      <td>21</td>\n",
              "      <td>...</td>\n",
              "      <td>0.07</td>\n",
              "      <td>0.00</td>\n",
              "      <td>0.0</td>\n",
              "      <td>4.86</td>\n",
              "      <td>0.21</td>\n",
              "      <td>0.63</td>\n",
              "      <td>25.0</td>\n",
              "      <td>0.571429</td>\n",
              "      <td>252.290929</td>\n",
              "      <td>Excelente</td>\n",
              "    </tr>\n",
              "    <tr>\n",
              "      <th>428</th>\n",
              "      <td>1687</td>\n",
              "      <td>1688</td>\n",
              "      <td>Terem Moffi</td>\n",
              "      <td>NGA</td>\n",
              "      <td>FW</td>\n",
              "      <td>Lorient</td>\n",
              "      <td>Ligue 1</td>\n",
              "      <td>23</td>\n",
              "      <td>1999</td>\n",
              "      <td>18</td>\n",
              "      <td>...</td>\n",
              "      <td>0.00</td>\n",
              "      <td>0.00</td>\n",
              "      <td>0.0</td>\n",
              "      <td>2.27</td>\n",
              "      <td>0.84</td>\n",
              "      <td>3.05</td>\n",
              "      <td>21.7</td>\n",
              "      <td>0.666667</td>\n",
              "      <td>246.204833</td>\n",
              "      <td>Excelente</td>\n",
              "    </tr>\n",
              "    <tr>\n",
              "      <th>200</th>\n",
              "      <td>788</td>\n",
              "      <td>789</td>\n",
              "      <td>Breel Embolo</td>\n",
              "      <td>SUI</td>\n",
              "      <td>FW</td>\n",
              "      <td>Monaco</td>\n",
              "      <td>Ligue 1</td>\n",
              "      <td>25</td>\n",
              "      <td>1997</td>\n",
              "      <td>23</td>\n",
              "      <td>...</td>\n",
              "      <td>0.12</td>\n",
              "      <td>0.06</td>\n",
              "      <td>0.0</td>\n",
              "      <td>2.87</td>\n",
              "      <td>1.58</td>\n",
              "      <td>2.05</td>\n",
              "      <td>43.5</td>\n",
              "      <td>0.521739</td>\n",
              "      <td>243.925065</td>\n",
              "      <td>Excelente</td>\n",
              "    </tr>\n",
              "    <tr>\n",
              "      <th>143</th>\n",
              "      <td>605</td>\n",
              "      <td>606</td>\n",
              "      <td>Jonathan David</td>\n",
              "      <td>CAN</td>\n",
              "      <td>FW</td>\n",
              "      <td>Lille</td>\n",
              "      <td>Ligue 1</td>\n",
              "      <td>23</td>\n",
              "      <td>2000</td>\n",
              "      <td>21</td>\n",
              "      <td>...</td>\n",
              "      <td>0.00</td>\n",
              "      <td>0.00</td>\n",
              "      <td>0.0</td>\n",
              "      <td>2.51</td>\n",
              "      <td>0.31</td>\n",
              "      <td>1.74</td>\n",
              "      <td>15.0</td>\n",
              "      <td>0.571429</td>\n",
              "      <td>242.375429</td>\n",
              "      <td>Excelente</td>\n",
              "    </tr>\n",
              "    <tr>\n",
              "      <th>402</th>\n",
              "      <td>1575</td>\n",
              "      <td>1576</td>\n",
              "      <td>Lautaro Mart�nez</td>\n",
              "      <td>ARG</td>\n",
              "      <td>FW</td>\n",
              "      <td>Inter</td>\n",
              "      <td>Serie A</td>\n",
              "      <td>25</td>\n",
              "      <td>1997</td>\n",
              "      <td>21</td>\n",
              "      <td>...</td>\n",
              "      <td>0.05</td>\n",
              "      <td>0.00</td>\n",
              "      <td>0.0</td>\n",
              "      <td>3.06</td>\n",
              "      <td>1.29</td>\n",
              "      <td>1.51</td>\n",
              "      <td>46.2</td>\n",
              "      <td>0.571429</td>\n",
              "      <td>234.024929</td>\n",
              "      <td>Excelente</td>\n",
              "    </tr>\n",
              "    <tr>\n",
              "      <th>527</th>\n",
              "      <td>2045</td>\n",
              "      <td>2046</td>\n",
              "      <td>Marcus Rashford</td>\n",
              "      <td>ENG</td>\n",
              "      <td>FW</td>\n",
              "      <td>Manchester Utd</td>\n",
              "      <td>Premier League</td>\n",
              "      <td>25</td>\n",
              "      <td>1997</td>\n",
              "      <td>22</td>\n",
              "      <td>...</td>\n",
              "      <td>0.00</td>\n",
              "      <td>0.00</td>\n",
              "      <td>0.0</td>\n",
              "      <td>2.96</td>\n",
              "      <td>0.85</td>\n",
              "      <td>1.51</td>\n",
              "      <td>36.2</td>\n",
              "      <td>0.500000</td>\n",
              "      <td>229.959500</td>\n",
              "      <td>Excelente</td>\n",
              "    </tr>\n",
              "    <tr>\n",
              "      <th>312</th>\n",
              "      <td>1221</td>\n",
              "      <td>1222</td>\n",
              "      <td>Joselu</td>\n",
              "      <td>ESP</td>\n",
              "      <td>FW</td>\n",
              "      <td>Espanyol</td>\n",
              "      <td>La Liga</td>\n",
              "      <td>32</td>\n",
              "      <td>1990</td>\n",
              "      <td>19</td>\n",
              "      <td>...</td>\n",
              "      <td>0.11</td>\n",
              "      <td>0.00</td>\n",
              "      <td>0.0</td>\n",
              "      <td>2.37</td>\n",
              "      <td>5.84</td>\n",
              "      <td>3.47</td>\n",
              "      <td>62.7</td>\n",
              "      <td>0.578947</td>\n",
              "      <td>228.607342</td>\n",
              "      <td>Excelente</td>\n",
              "    </tr>\n",
              "    <tr>\n",
              "      <th>17</th>\n",
              "      <td>72</td>\n",
              "      <td>73</td>\n",
              "      <td>Miguel Almir�n</td>\n",
              "      <td>PAR</td>\n",
              "      <td>FW</td>\n",
              "      <td>Newcastle Utd</td>\n",
              "      <td>Premier League</td>\n",
              "      <td>29</td>\n",
              "      <td>1994</td>\n",
              "      <td>22</td>\n",
              "      <td>...</td>\n",
              "      <td>0.00</td>\n",
              "      <td>0.00</td>\n",
              "      <td>0.0</td>\n",
              "      <td>5.10</td>\n",
              "      <td>0.20</td>\n",
              "      <td>0.45</td>\n",
              "      <td>30.8</td>\n",
              "      <td>0.454545</td>\n",
              "      <td>226.212045</td>\n",
              "      <td>Excelente</td>\n",
              "    </tr>\n",
              "    <tr>\n",
              "      <th>425</th>\n",
              "      <td>1680</td>\n",
              "      <td>1681</td>\n",
              "      <td>Aleksandar Mitrovi?</td>\n",
              "      <td>SRB</td>\n",
              "      <td>FW</td>\n",
              "      <td>Fulham</td>\n",
              "      <td>Premier League</td>\n",
              "      <td>28</td>\n",
              "      <td>1994</td>\n",
              "      <td>19</td>\n",
              "      <td>...</td>\n",
              "      <td>0.11</td>\n",
              "      <td>0.00</td>\n",
              "      <td>0.0</td>\n",
              "      <td>2.76</td>\n",
              "      <td>4.64</td>\n",
              "      <td>4.64</td>\n",
              "      <td>50.0</td>\n",
              "      <td>0.578947</td>\n",
              "      <td>222.168842</td>\n",
              "      <td>Excelente</td>\n",
              "    </tr>\n",
              "    <tr>\n",
              "      <th>67</th>\n",
              "      <td>260</td>\n",
              "      <td>261</td>\n",
              "      <td>Karim Benzema</td>\n",
              "      <td>FRA</td>\n",
              "      <td>FW</td>\n",
              "      <td>Real Madrid</td>\n",
              "      <td>La Liga</td>\n",
              "      <td>35</td>\n",
              "      <td>1987</td>\n",
              "      <td>12</td>\n",
              "      <td>...</td>\n",
              "      <td>0.17</td>\n",
              "      <td>0.00</td>\n",
              "      <td>0.0</td>\n",
              "      <td>1.98</td>\n",
              "      <td>0.43</td>\n",
              "      <td>0.43</td>\n",
              "      <td>50.0</td>\n",
              "      <td>0.750000</td>\n",
              "      <td>215.031500</td>\n",
              "      <td>Excelente</td>\n",
              "    </tr>\n",
              "  </tbody>\n",
              "</table>\n",
              "<p>22 rows × 128 columns</p>\n",
              "</div>"
            ],
            "text/plain": [
              "      _c0    Rk               Player Nation   Pos            Squad  \\\n",
              "263  1057  1058       Erling Haaland    NOR    FW  Manchester City   \n",
              "326  1260  1261           Harry Kane    ENG    FW        Tottenham   \n",
              "481  1858  1859       Victor Osimhen    NGA    FW           Napoli   \n",
              "65    252   253    Wissam Ben Yedder    FRA    FW           Monaco   \n",
              "628  2451  2452           Ivan Toney    ENG    FW        Brentford   \n",
              "371  1426  1427   Robert Lewandowski    POL    FW        Barcelona   \n",
              "409  1609  1610        Kylian Mbapp�    FRA    FW        Paris S-G   \n",
              "44    184   185      Folarin Balogun    ENG    FW            Reims   \n",
              "355  1358  1359  Alexandre Lacazette    FRA    FW             Lyon   \n",
              "220   899   900      Niclas F�llkrug    GER    FW    Werder Bremen   \n",
              "463  1797  1798   Christopher Nkunku    FRA  FWMF       RB Leipzig   \n",
              "250  1012  1013       Vincenzo Grifo    ITA  FWMF         Freiburg   \n",
              "376  1455  1456      Ademola Lookman    NGA  FWMF         Atalanta   \n",
              "428  1687  1688          Terem Moffi    NGA    FW          Lorient   \n",
              "200   788   789         Breel Embolo    SUI    FW           Monaco   \n",
              "143   605   606       Jonathan David    CAN    FW            Lille   \n",
              "402  1575  1576     Lautaro Mart�nez    ARG    FW            Inter   \n",
              "527  2045  2046      Marcus Rashford    ENG    FW   Manchester Utd   \n",
              "312  1221  1222               Joselu    ESP    FW         Espanyol   \n",
              "17     72    73       Miguel Almir�n    PAR    FW    Newcastle Utd   \n",
              "425  1680  1681  Aleksandar Mitrovi?    SRB    FW           Fulham   \n",
              "67    260   261        Karim Benzema    FRA    FW      Real Madrid   \n",
              "\n",
              "               Comp  Age  Born  MP  ...  PKwon  PKcon   OG  Recov  AerWon  \\\n",
              "263  Premier League   22  2000  20  ...   0.05   0.00  0.0   1.10    1.37   \n",
              "326  Premier League   29  1993  23  ...   0.04   0.00  0.0   2.15    1.75   \n",
              "481         Serie A   24  1998  17  ...   0.06   0.06  0.0   1.54    2.12   \n",
              "65          Ligue 1   32  1990  19  ...   0.08   0.00  0.0   2.62    0.63   \n",
              "628  Premier League   26  1996  20  ...   0.15   0.00  0.0   2.96    3.47   \n",
              "371         La Liga   34  1988  17  ...   0.00   0.00  0.0   1.82    1.49   \n",
              "409         Ligue 1   24  1998  19  ...   0.06   0.00  0.0   1.72    0.37   \n",
              "44          Ligue 1   21  2001  21  ...   0.11   0.00  0.0   2.94    0.51   \n",
              "355         Ligue 1   31  1991  22  ...   0.05   0.00  0.0   2.76    0.93   \n",
              "220      Bundesliga   30  1993  19  ...   0.00   0.00  0.0   3.35    5.14   \n",
              "463      Bundesliga   25  1997  15  ...   0.14   0.00  0.0   3.10    0.85   \n",
              "250      Bundesliga   29  1993  19  ...   0.07   0.00  0.0   4.90    0.42   \n",
              "376         Serie A   25  1997  21  ...   0.07   0.00  0.0   4.86    0.21   \n",
              "428         Ligue 1   23  1999  18  ...   0.00   0.00  0.0   2.27    0.84   \n",
              "200         Ligue 1   25  1997  23  ...   0.12   0.06  0.0   2.87    1.58   \n",
              "143         Ligue 1   23  2000  21  ...   0.00   0.00  0.0   2.51    0.31   \n",
              "402         Serie A   25  1997  21  ...   0.05   0.00  0.0   3.06    1.29   \n",
              "527  Premier League   25  1997  22  ...   0.00   0.00  0.0   2.96    0.85   \n",
              "312         La Liga   32  1990  19  ...   0.11   0.00  0.0   2.37    5.84   \n",
              "17   Premier League   29  1994  22  ...   0.00   0.00  0.0   5.10    0.20   \n",
              "425  Premier League   28  1994  19  ...   0.11   0.00  0.0   2.76    4.64   \n",
              "67          La Liga   35  1987  12  ...   0.17   0.00  0.0   1.98    0.43   \n",
              "\n",
              "     AerLost  AerWon%       GPJ       score  Desempenho  \n",
              "263     1.26     52.1  1.250000  408.604000   Excelente  \n",
              "326     2.02     46.5  0.739130  304.799217   Excelente  \n",
              "481     2.18     49.3  0.941176  294.485353   Excelente  \n",
              "65      1.19     34.8  0.736842  277.374026   Excelente  \n",
              "628     3.72     48.3  0.700000  270.801000   Excelente  \n",
              "371     1.42     51.2  0.823529  270.795059   Excelente  \n",
              "409     0.31     54.5  0.684211  268.444132   Excelente  \n",
              "44      2.03     20.0  0.666667  264.352833   Excelente  \n",
              "355     1.12     45.5  0.590909  263.127909   Excelente  \n",
              "220     3.68     58.3  0.684211  259.312632   Excelente  \n",
              "463     0.85     50.0  0.800000  258.402500   Excelente  \n",
              "250     0.56     42.9  0.578947  253.250842   Excelente  \n",
              "376     0.63     25.0  0.571429  252.290929   Excelente  \n",
              "428     3.05     21.7  0.666667  246.204833   Excelente  \n",
              "200     2.05     43.5  0.521739  243.925065   Excelente  \n",
              "143     1.74     15.0  0.571429  242.375429   Excelente  \n",
              "402     1.51     46.2  0.571429  234.024929   Excelente  \n",
              "527     1.51     36.2  0.500000  229.959500   Excelente  \n",
              "312     3.47     62.7  0.578947  228.607342   Excelente  \n",
              "17      0.45     30.8  0.454545  226.212045   Excelente  \n",
              "425     4.64     50.0  0.578947  222.168842   Excelente  \n",
              "67      0.43     50.0  0.750000  215.031500   Excelente  \n",
              "\n",
              "[22 rows x 128 columns]"
            ]
          },
          "execution_count": 417,
          "metadata": {},
          "output_type": "execute_result"
        }
      ],
      "source": [
        "Atacante[Atacante['Desempenho'] == 'Excelente'].head(50)"
      ]
    },
    {
      "cell_type": "code",
      "execution_count": 418,
      "metadata": {
        "id": "y2qnv2X80OPW"
      },
      "outputs": [],
      "source": [
        "Atacante.to_csv('C:\\\\Users\\\\alexa\\\\OneDrive\\\\Área de Trabalho\\\\Prj\\\\Classificador\\\\Content\\\\Atacantes.csv')"
      ]
    }
  ],
  "metadata": {
    "colab": {
      "provenance": []
    },
    "kernelspec": {
      "display_name": "Python 3",
      "name": "python3"
    },
    "language_info": {
      "codemirror_mode": {
        "name": "ipython",
        "version": 3
      },
      "file_extension": ".py",
      "mimetype": "text/x-python",
      "name": "python",
      "nbconvert_exporter": "python",
      "pygments_lexer": "ipython3",
      "version": "3.9.7"
    }
  },
  "nbformat": 4,
  "nbformat_minor": 0
}
