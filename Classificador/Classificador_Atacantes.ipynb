{
  "cells": [
    {
      "attachments": {},
      "cell_type": "markdown",
      "metadata": {},
      "source": [
        "# Análise dos atacantes "
      ]
    },
    {
      "cell_type": "code",
      "execution_count": 1,
      "metadata": {
        "id": "uxo-KdrIeVLf"
      },
      "outputs": [],
      "source": [
        "#plots\n",
        "import pandas as pd\n",
        "import plotly.express as px\n",
        "import numpy as np"
      ]
    },
    {
      "attachments": {},
      "cell_type": "markdown",
      "metadata": {},
      "source": [
        "#### Extraindo os dados da partição de atacantes"
      ]
    },
    {
      "cell_type": "code",
      "execution_count": 2,
      "metadata": {
        "id": "MnMc_zRBestW"
      },
      "outputs": [],
      "source": [
        "Atacante = pd.read_parquet('C:\\\\Users\\\\alexa\\\\OneDrive\\\\Área de Trabalho\\\\Prj\\\\Classificador\\\\Content\\\\Atacantes.c000.snappy.parquet', engine='pyarrow')"
      ]
    },
    {
      "cell_type": "code",
      "execution_count": 3,
      "metadata": {
        "colab": {
          "base_uri": "https://localhost:8080/",
          "height": 1000
        },
        "id": "Cvbcl99VgvN9",
        "outputId": "99ade7ce-213f-4217-a1b6-c1a84444a600"
      },
      "outputs": [
        {
          "data": {
            "text/html": [
              "<div>\n",
              "<style scoped>\n",
              "    .dataframe tbody tr th:only-of-type {\n",
              "        vertical-align: middle;\n",
              "    }\n",
              "\n",
              "    .dataframe tbody tr th {\n",
              "        vertical-align: top;\n",
              "    }\n",
              "\n",
              "    .dataframe thead th {\n",
              "        text-align: right;\n",
              "    }\n",
              "</style>\n",
              "<table border=\"1\" class=\"dataframe\">\n",
              "  <thead>\n",
              "    <tr style=\"text-align: right;\">\n",
              "      <th></th>\n",
              "      <th>_c0</th>\n",
              "      <th>Rk</th>\n",
              "      <th>Player</th>\n",
              "      <th>Nation</th>\n",
              "      <th>Pos</th>\n",
              "      <th>Squad</th>\n",
              "      <th>Comp</th>\n",
              "      <th>Age</th>\n",
              "      <th>Born</th>\n",
              "      <th>MP</th>\n",
              "      <th>...</th>\n",
              "      <th>Off</th>\n",
              "      <th>Crs</th>\n",
              "      <th>TklW</th>\n",
              "      <th>PKwon</th>\n",
              "      <th>PKcon</th>\n",
              "      <th>OG</th>\n",
              "      <th>Recov</th>\n",
              "      <th>AerWon</th>\n",
              "      <th>AerLost</th>\n",
              "      <th>AerWon%</th>\n",
              "    </tr>\n",
              "  </thead>\n",
              "  <tbody>\n",
              "    <tr>\n",
              "      <th>0</th>\n",
              "      <td>6</td>\n",
              "      <td>7</td>\n",
              "      <td>Matthis Abline</td>\n",
              "      <td>FRA</td>\n",
              "      <td>FWMF</td>\n",
              "      <td>Auxerre</td>\n",
              "      <td>Ligue 1</td>\n",
              "      <td>19</td>\n",
              "      <td>2003</td>\n",
              "      <td>5</td>\n",
              "      <td>...</td>\n",
              "      <td>0.48</td>\n",
              "      <td>0.95</td>\n",
              "      <td>0.48</td>\n",
              "      <td>0.00</td>\n",
              "      <td>0.00</td>\n",
              "      <td>0.0</td>\n",
              "      <td>0.48</td>\n",
              "      <td>1.43</td>\n",
              "      <td>1.43</td>\n",
              "      <td>50.0</td>\n",
              "    </tr>\n",
              "    <tr>\n",
              "      <th>1</th>\n",
              "      <td>7</td>\n",
              "      <td>8</td>\n",
              "      <td>Matthis Abline</td>\n",
              "      <td>FRA</td>\n",
              "      <td>FWMF</td>\n",
              "      <td>Rennes</td>\n",
              "      <td>Ligue 1</td>\n",
              "      <td>19</td>\n",
              "      <td>2003</td>\n",
              "      <td>11</td>\n",
              "      <td>...</td>\n",
              "      <td>0.83</td>\n",
              "      <td>1.67</td>\n",
              "      <td>0.83</td>\n",
              "      <td>0.83</td>\n",
              "      <td>0.00</td>\n",
              "      <td>0.0</td>\n",
              "      <td>1.67</td>\n",
              "      <td>0.83</td>\n",
              "      <td>3.33</td>\n",
              "      <td>20.0</td>\n",
              "    </tr>\n",
              "    <tr>\n",
              "      <th>2</th>\n",
              "      <td>9</td>\n",
              "      <td>10</td>\n",
              "      <td>Zakaria Aboukhlal</td>\n",
              "      <td>MAR</td>\n",
              "      <td>FWMF</td>\n",
              "      <td>Toulouse</td>\n",
              "      <td>Ligue 1</td>\n",
              "      <td>22</td>\n",
              "      <td>2000</td>\n",
              "      <td>22</td>\n",
              "      <td>...</td>\n",
              "      <td>0.72</td>\n",
              "      <td>0.96</td>\n",
              "      <td>0.72</td>\n",
              "      <td>0.00</td>\n",
              "      <td>0.00</td>\n",
              "      <td>0.0</td>\n",
              "      <td>4.43</td>\n",
              "      <td>0.42</td>\n",
              "      <td>1.32</td>\n",
              "      <td>24.1</td>\n",
              "    </tr>\n",
              "    <tr>\n",
              "      <th>3</th>\n",
              "      <td>10</td>\n",
              "      <td>11</td>\n",
              "      <td>Tammy Abraham</td>\n",
              "      <td>ENG</td>\n",
              "      <td>FW</td>\n",
              "      <td>Roma</td>\n",
              "      <td>Serie A</td>\n",
              "      <td>25</td>\n",
              "      <td>1997</td>\n",
              "      <td>22</td>\n",
              "      <td>...</td>\n",
              "      <td>0.51</td>\n",
              "      <td>0.28</td>\n",
              "      <td>0.40</td>\n",
              "      <td>0.06</td>\n",
              "      <td>0.00</td>\n",
              "      <td>0.0</td>\n",
              "      <td>1.87</td>\n",
              "      <td>2.56</td>\n",
              "      <td>2.39</td>\n",
              "      <td>51.7</td>\n",
              "    </tr>\n",
              "    <tr>\n",
              "      <th>4</th>\n",
              "      <td>12</td>\n",
              "      <td>13</td>\n",
              "      <td>Mohamed Achi</td>\n",
              "      <td>FRA</td>\n",
              "      <td>FW</td>\n",
              "      <td>Nantes</td>\n",
              "      <td>Ligue 1</td>\n",
              "      <td>21</td>\n",
              "      <td>2002</td>\n",
              "      <td>2</td>\n",
              "      <td>...</td>\n",
              "      <td>0.00</td>\n",
              "      <td>2.50</td>\n",
              "      <td>2.50</td>\n",
              "      <td>0.00</td>\n",
              "      <td>0.00</td>\n",
              "      <td>0.0</td>\n",
              "      <td>5.00</td>\n",
              "      <td>0.00</td>\n",
              "      <td>0.00</td>\n",
              "      <td>0.0</td>\n",
              "    </tr>\n",
              "    <tr>\n",
              "      <th>5</th>\n",
              "      <td>14</td>\n",
              "      <td>15</td>\n",
              "      <td>Che Adams</td>\n",
              "      <td>SCO</td>\n",
              "      <td>FW</td>\n",
              "      <td>Southampton</td>\n",
              "      <td>Premier League</td>\n",
              "      <td>26</td>\n",
              "      <td>1996</td>\n",
              "      <td>21</td>\n",
              "      <td>...</td>\n",
              "      <td>0.40</td>\n",
              "      <td>0.51</td>\n",
              "      <td>0.69</td>\n",
              "      <td>0.00</td>\n",
              "      <td>0.00</td>\n",
              "      <td>0.0</td>\n",
              "      <td>2.29</td>\n",
              "      <td>2.97</td>\n",
              "      <td>5.03</td>\n",
              "      <td>37.1</td>\n",
              "    </tr>\n",
              "    <tr>\n",
              "      <th>6</th>\n",
              "      <td>16</td>\n",
              "      <td>17</td>\n",
              "      <td>Sargis Adamyan</td>\n",
              "      <td>ARM</td>\n",
              "      <td>FWMF</td>\n",
              "      <td>K�ln</td>\n",
              "      <td>Bundesliga</td>\n",
              "      <td>29</td>\n",
              "      <td>1993</td>\n",
              "      <td>16</td>\n",
              "      <td>...</td>\n",
              "      <td>0.58</td>\n",
              "      <td>1.92</td>\n",
              "      <td>1.15</td>\n",
              "      <td>0.00</td>\n",
              "      <td>0.00</td>\n",
              "      <td>0.0</td>\n",
              "      <td>5.38</td>\n",
              "      <td>1.54</td>\n",
              "      <td>3.85</td>\n",
              "      <td>28.6</td>\n",
              "    </tr>\n",
              "    <tr>\n",
              "      <th>7</th>\n",
              "      <td>19</td>\n",
              "      <td>20</td>\n",
              "      <td>Karim Adeyemi</td>\n",
              "      <td>GER</td>\n",
              "      <td>FWMF</td>\n",
              "      <td>Dortmund</td>\n",
              "      <td>Bundesliga</td>\n",
              "      <td>21</td>\n",
              "      <td>2002</td>\n",
              "      <td>15</td>\n",
              "      <td>...</td>\n",
              "      <td>0.00</td>\n",
              "      <td>1.76</td>\n",
              "      <td>0.71</td>\n",
              "      <td>0.00</td>\n",
              "      <td>0.00</td>\n",
              "      <td>0.0</td>\n",
              "      <td>4.94</td>\n",
              "      <td>0.82</td>\n",
              "      <td>0.24</td>\n",
              "      <td>77.8</td>\n",
              "    </tr>\n",
              "    <tr>\n",
              "      <th>8</th>\n",
              "      <td>20</td>\n",
              "      <td>21</td>\n",
              "      <td>Amine Adli</td>\n",
              "      <td>FRA</td>\n",
              "      <td>FW</td>\n",
              "      <td>Leverkusen</td>\n",
              "      <td>Bundesliga</td>\n",
              "      <td>22</td>\n",
              "      <td>2000</td>\n",
              "      <td>13</td>\n",
              "      <td>...</td>\n",
              "      <td>0.28</td>\n",
              "      <td>0.83</td>\n",
              "      <td>1.11</td>\n",
              "      <td>0.00</td>\n",
              "      <td>0.00</td>\n",
              "      <td>0.0</td>\n",
              "      <td>3.75</td>\n",
              "      <td>1.53</td>\n",
              "      <td>2.22</td>\n",
              "      <td>40.7</td>\n",
              "    </tr>\n",
              "    <tr>\n",
              "      <th>9</th>\n",
              "      <td>22</td>\n",
              "      <td>23</td>\n",
              "      <td>Michel Aebischer</td>\n",
              "      <td>SUI</td>\n",
              "      <td>FWMF</td>\n",
              "      <td>Bologna</td>\n",
              "      <td>Serie A</td>\n",
              "      <td>26</td>\n",
              "      <td>1997</td>\n",
              "      <td>18</td>\n",
              "      <td>...</td>\n",
              "      <td>0.58</td>\n",
              "      <td>1.05</td>\n",
              "      <td>0.12</td>\n",
              "      <td>0.12</td>\n",
              "      <td>0.12</td>\n",
              "      <td>0.0</td>\n",
              "      <td>5.00</td>\n",
              "      <td>0.58</td>\n",
              "      <td>1.05</td>\n",
              "      <td>35.7</td>\n",
              "    </tr>\n",
              "    <tr>\n",
              "      <th>10</th>\n",
              "      <td>23</td>\n",
              "      <td>24</td>\n",
              "      <td>Felix Afena-Gyan</td>\n",
              "      <td>GHA</td>\n",
              "      <td>FWMF</td>\n",
              "      <td>Cremonese</td>\n",
              "      <td>Serie A</td>\n",
              "      <td>20</td>\n",
              "      <td>2003</td>\n",
              "      <td>12</td>\n",
              "      <td>...</td>\n",
              "      <td>1.00</td>\n",
              "      <td>0.75</td>\n",
              "      <td>0.50</td>\n",
              "      <td>0.00</td>\n",
              "      <td>0.00</td>\n",
              "      <td>0.0</td>\n",
              "      <td>4.25</td>\n",
              "      <td>2.00</td>\n",
              "      <td>4.00</td>\n",
              "      <td>33.3</td>\n",
              "    </tr>\n",
              "    <tr>\n",
              "      <th>11</th>\n",
              "      <td>33</td>\n",
              "      <td>34</td>\n",
              "      <td>Amar Ahmed</td>\n",
              "      <td>SWE</td>\n",
              "      <td>FW</td>\n",
              "      <td>Troyes</td>\n",
              "      <td>Ligue 1</td>\n",
              "      <td>18</td>\n",
              "      <td>2004</td>\n",
              "      <td>1</td>\n",
              "      <td>...</td>\n",
              "      <td>0.00</td>\n",
              "      <td>0.00</td>\n",
              "      <td>5.00</td>\n",
              "      <td>0.00</td>\n",
              "      <td>0.00</td>\n",
              "      <td>0.0</td>\n",
              "      <td>10.00</td>\n",
              "      <td>0.00</td>\n",
              "      <td>15.00</td>\n",
              "      <td>0.0</td>\n",
              "    </tr>\n",
              "    <tr>\n",
              "      <th>12</th>\n",
              "      <td>40</td>\n",
              "      <td>41</td>\n",
              "      <td>Ludovic Ajorque</td>\n",
              "      <td>FRA</td>\n",
              "      <td>FW</td>\n",
              "      <td>Strasbourg</td>\n",
              "      <td>Ligue 1</td>\n",
              "      <td>28</td>\n",
              "      <td>1994</td>\n",
              "      <td>13</td>\n",
              "      <td>...</td>\n",
              "      <td>0.12</td>\n",
              "      <td>0.00</td>\n",
              "      <td>0.47</td>\n",
              "      <td>0.00</td>\n",
              "      <td>0.00</td>\n",
              "      <td>0.0</td>\n",
              "      <td>2.44</td>\n",
              "      <td>5.81</td>\n",
              "      <td>3.84</td>\n",
              "      <td>60.2</td>\n",
              "    </tr>\n",
              "    <tr>\n",
              "      <th>13</th>\n",
              "      <td>41</td>\n",
              "      <td>42</td>\n",
              "      <td>Ludovic Ajorque</td>\n",
              "      <td>FRA</td>\n",
              "      <td>FW</td>\n",
              "      <td>Mainz 05</td>\n",
              "      <td>Bundesliga</td>\n",
              "      <td>28</td>\n",
              "      <td>1994</td>\n",
              "      <td>4</td>\n",
              "      <td>...</td>\n",
              "      <td>0.38</td>\n",
              "      <td>0.38</td>\n",
              "      <td>0.00</td>\n",
              "      <td>0.00</td>\n",
              "      <td>0.00</td>\n",
              "      <td>0.0</td>\n",
              "      <td>5.00</td>\n",
              "      <td>10.00</td>\n",
              "      <td>7.69</td>\n",
              "      <td>56.5</td>\n",
              "    </tr>\n",
              "    <tr>\n",
              "      <th>14</th>\n",
              "      <td>51</td>\n",
              "      <td>52</td>\n",
              "      <td>Lucas Alario</td>\n",
              "      <td>ARG</td>\n",
              "      <td>FW</td>\n",
              "      <td>Eint Frankfurt</td>\n",
              "      <td>Bundesliga</td>\n",
              "      <td>30</td>\n",
              "      <td>1992</td>\n",
              "      <td>12</td>\n",
              "      <td>...</td>\n",
              "      <td>1.43</td>\n",
              "      <td>0.00</td>\n",
              "      <td>0.71</td>\n",
              "      <td>0.00</td>\n",
              "      <td>0.00</td>\n",
              "      <td>0.0</td>\n",
              "      <td>2.86</td>\n",
              "      <td>3.93</td>\n",
              "      <td>5.71</td>\n",
              "      <td>40.7</td>\n",
              "    </tr>\n",
              "    <tr>\n",
              "      <th>15</th>\n",
              "      <td>55</td>\n",
              "      <td>56</td>\n",
              "      <td>Marc Albrighton</td>\n",
              "      <td>ENG</td>\n",
              "      <td>FWMF</td>\n",
              "      <td>Leicester City</td>\n",
              "      <td>Premier League</td>\n",
              "      <td>33</td>\n",
              "      <td>1989</td>\n",
              "      <td>6</td>\n",
              "      <td>...</td>\n",
              "      <td>0.38</td>\n",
              "      <td>10.80</td>\n",
              "      <td>0.38</td>\n",
              "      <td>0.00</td>\n",
              "      <td>0.00</td>\n",
              "      <td>0.0</td>\n",
              "      <td>5.38</td>\n",
              "      <td>0.38</td>\n",
              "      <td>0.38</td>\n",
              "      <td>50.0</td>\n",
              "    </tr>\n",
              "    <tr>\n",
              "      <th>16</th>\n",
              "      <td>66</td>\n",
              "      <td>67</td>\n",
              "      <td>Mohamed Ali Cho</td>\n",
              "      <td>FRA</td>\n",
              "      <td>FW</td>\n",
              "      <td>Real Sociedad</td>\n",
              "      <td>La Liga</td>\n",
              "      <td>19</td>\n",
              "      <td>2004</td>\n",
              "      <td>8</td>\n",
              "      <td>...</td>\n",
              "      <td>0.57</td>\n",
              "      <td>4.29</td>\n",
              "      <td>0.86</td>\n",
              "      <td>0.29</td>\n",
              "      <td>0.00</td>\n",
              "      <td>0.0</td>\n",
              "      <td>5.14</td>\n",
              "      <td>0.29</td>\n",
              "      <td>2.29</td>\n",
              "      <td>11.1</td>\n",
              "    </tr>\n",
              "    <tr>\n",
              "      <th>17</th>\n",
              "      <td>72</td>\n",
              "      <td>73</td>\n",
              "      <td>Miguel Almir�n</td>\n",
              "      <td>PAR</td>\n",
              "      <td>FW</td>\n",
              "      <td>Newcastle Utd</td>\n",
              "      <td>Premier League</td>\n",
              "      <td>29</td>\n",
              "      <td>1994</td>\n",
              "      <td>22</td>\n",
              "      <td>...</td>\n",
              "      <td>0.40</td>\n",
              "      <td>0.94</td>\n",
              "      <td>1.19</td>\n",
              "      <td>0.00</td>\n",
              "      <td>0.00</td>\n",
              "      <td>0.0</td>\n",
              "      <td>5.10</td>\n",
              "      <td>0.20</td>\n",
              "      <td>0.45</td>\n",
              "      <td>30.8</td>\n",
              "    </tr>\n",
              "    <tr>\n",
              "      <th>18</th>\n",
              "      <td>76</td>\n",
              "      <td>77</td>\n",
              "      <td>Carlos �lvarez</td>\n",
              "      <td>ESP</td>\n",
              "      <td>FW</td>\n",
              "      <td>Sevilla</td>\n",
              "      <td>La Liga</td>\n",
              "      <td>19</td>\n",
              "      <td>2003</td>\n",
              "      <td>1</td>\n",
              "      <td>...</td>\n",
              "      <td>0.00</td>\n",
              "      <td>0.00</td>\n",
              "      <td>10.00</td>\n",
              "      <td>0.00</td>\n",
              "      <td>0.00</td>\n",
              "      <td>0.0</td>\n",
              "      <td>0.00</td>\n",
              "      <td>0.00</td>\n",
              "      <td>0.00</td>\n",
              "      <td>0.0</td>\n",
              "    </tr>\n",
              "    <tr>\n",
              "      <th>19</th>\n",
              "      <td>78</td>\n",
              "      <td>79</td>\n",
              "      <td>Juli�n �lvarez</td>\n",
              "      <td>ARG</td>\n",
              "      <td>FWMF</td>\n",
              "      <td>Manchester City</td>\n",
              "      <td>Premier League</td>\n",
              "      <td>23</td>\n",
              "      <td>2000</td>\n",
              "      <td>16</td>\n",
              "      <td>...</td>\n",
              "      <td>0.16</td>\n",
              "      <td>1.25</td>\n",
              "      <td>0.78</td>\n",
              "      <td>0.00</td>\n",
              "      <td>0.00</td>\n",
              "      <td>0.0</td>\n",
              "      <td>2.19</td>\n",
              "      <td>0.78</td>\n",
              "      <td>1.72</td>\n",
              "      <td>31.3</td>\n",
              "    </tr>\n",
              "  </tbody>\n",
              "</table>\n",
              "<p>20 rows × 125 columns</p>\n",
              "</div>"
            ],
            "text/plain": [
              "    _c0  Rk             Player Nation   Pos            Squad            Comp  \\\n",
              "0     6   7     Matthis Abline    FRA  FWMF          Auxerre         Ligue 1   \n",
              "1     7   8     Matthis Abline    FRA  FWMF           Rennes         Ligue 1   \n",
              "2     9  10  Zakaria Aboukhlal    MAR  FWMF         Toulouse         Ligue 1   \n",
              "3    10  11      Tammy Abraham    ENG    FW             Roma         Serie A   \n",
              "4    12  13       Mohamed Achi    FRA    FW           Nantes         Ligue 1   \n",
              "5    14  15          Che Adams    SCO    FW      Southampton  Premier League   \n",
              "6    16  17     Sargis Adamyan    ARM  FWMF             K�ln      Bundesliga   \n",
              "7    19  20      Karim Adeyemi    GER  FWMF         Dortmund      Bundesliga   \n",
              "8    20  21         Amine Adli    FRA    FW       Leverkusen      Bundesliga   \n",
              "9    22  23   Michel Aebischer    SUI  FWMF          Bologna         Serie A   \n",
              "10   23  24   Felix Afena-Gyan    GHA  FWMF        Cremonese         Serie A   \n",
              "11   33  34         Amar Ahmed    SWE    FW           Troyes         Ligue 1   \n",
              "12   40  41    Ludovic Ajorque    FRA    FW       Strasbourg         Ligue 1   \n",
              "13   41  42    Ludovic Ajorque    FRA    FW         Mainz 05      Bundesliga   \n",
              "14   51  52       Lucas Alario    ARG    FW   Eint Frankfurt      Bundesliga   \n",
              "15   55  56    Marc Albrighton    ENG  FWMF   Leicester City  Premier League   \n",
              "16   66  67    Mohamed Ali Cho    FRA    FW    Real Sociedad         La Liga   \n",
              "17   72  73     Miguel Almir�n    PAR    FW    Newcastle Utd  Premier League   \n",
              "18   76  77     Carlos �lvarez    ESP    FW          Sevilla         La Liga   \n",
              "19   78  79     Juli�n �lvarez    ARG  FWMF  Manchester City  Premier League   \n",
              "\n",
              "    Age  Born  MP  ...   Off    Crs   TklW  PKwon  PKcon   OG  Recov  AerWon  \\\n",
              "0    19  2003   5  ...  0.48   0.95   0.48   0.00   0.00  0.0   0.48    1.43   \n",
              "1    19  2003  11  ...  0.83   1.67   0.83   0.83   0.00  0.0   1.67    0.83   \n",
              "2    22  2000  22  ...  0.72   0.96   0.72   0.00   0.00  0.0   4.43    0.42   \n",
              "3    25  1997  22  ...  0.51   0.28   0.40   0.06   0.00  0.0   1.87    2.56   \n",
              "4    21  2002   2  ...  0.00   2.50   2.50   0.00   0.00  0.0   5.00    0.00   \n",
              "5    26  1996  21  ...  0.40   0.51   0.69   0.00   0.00  0.0   2.29    2.97   \n",
              "6    29  1993  16  ...  0.58   1.92   1.15   0.00   0.00  0.0   5.38    1.54   \n",
              "7    21  2002  15  ...  0.00   1.76   0.71   0.00   0.00  0.0   4.94    0.82   \n",
              "8    22  2000  13  ...  0.28   0.83   1.11   0.00   0.00  0.0   3.75    1.53   \n",
              "9    26  1997  18  ...  0.58   1.05   0.12   0.12   0.12  0.0   5.00    0.58   \n",
              "10   20  2003  12  ...  1.00   0.75   0.50   0.00   0.00  0.0   4.25    2.00   \n",
              "11   18  2004   1  ...  0.00   0.00   5.00   0.00   0.00  0.0  10.00    0.00   \n",
              "12   28  1994  13  ...  0.12   0.00   0.47   0.00   0.00  0.0   2.44    5.81   \n",
              "13   28  1994   4  ...  0.38   0.38   0.00   0.00   0.00  0.0   5.00   10.00   \n",
              "14   30  1992  12  ...  1.43   0.00   0.71   0.00   0.00  0.0   2.86    3.93   \n",
              "15   33  1989   6  ...  0.38  10.80   0.38   0.00   0.00  0.0   5.38    0.38   \n",
              "16   19  2004   8  ...  0.57   4.29   0.86   0.29   0.00  0.0   5.14    0.29   \n",
              "17   29  1994  22  ...  0.40   0.94   1.19   0.00   0.00  0.0   5.10    0.20   \n",
              "18   19  2003   1  ...  0.00   0.00  10.00   0.00   0.00  0.0   0.00    0.00   \n",
              "19   23  2000  16  ...  0.16   1.25   0.78   0.00   0.00  0.0   2.19    0.78   \n",
              "\n",
              "    AerLost  AerWon%  \n",
              "0      1.43     50.0  \n",
              "1      3.33     20.0  \n",
              "2      1.32     24.1  \n",
              "3      2.39     51.7  \n",
              "4      0.00      0.0  \n",
              "5      5.03     37.1  \n",
              "6      3.85     28.6  \n",
              "7      0.24     77.8  \n",
              "8      2.22     40.7  \n",
              "9      1.05     35.7  \n",
              "10     4.00     33.3  \n",
              "11    15.00      0.0  \n",
              "12     3.84     60.2  \n",
              "13     7.69     56.5  \n",
              "14     5.71     40.7  \n",
              "15     0.38     50.0  \n",
              "16     2.29     11.1  \n",
              "17     0.45     30.8  \n",
              "18     0.00      0.0  \n",
              "19     1.72     31.3  \n",
              "\n",
              "[20 rows x 125 columns]"
            ]
          },
          "execution_count": 3,
          "metadata": {},
          "output_type": "execute_result"
        }
      ],
      "source": [
        "Atacante.head(20)"
      ]
    },
    {
      "attachments": {},
      "cell_type": "markdown",
      "metadata": {},
      "source": [
        "Criando uma coluna para calcular a quantidade de gols por jogo"
      ]
    },
    {
      "cell_type": "code",
      "execution_count": 4,
      "metadata": {
        "colab": {
          "base_uri": "https://localhost:8080/",
          "height": 542
        },
        "id": "r_UKnQjEhlQo",
        "outputId": "c3ed6516-8975-4fb9-cb83-41c9e023c4c4"
      },
      "outputs": [
        {
          "data": {
            "application/vnd.plotly.v1+json": {
              "config": {
                "plotlyServerURL": "https://plot.ly"
              },
              "data": [
                {
                  "alignmentgroup": "True",
                  "bingroup": "x",
                  "hovertemplate": "Player=Erling Haaland<br>GPJ=%{x}<br>count=%{y}<extra></extra>",
                  "legendgroup": "Erling Haaland",
                  "marker": {
                    "color": "#636efa",
                    "pattern": {
                      "shape": ""
                    }
                  },
                  "name": "Erling Haaland",
                  "offsetgroup": "Erling Haaland",
                  "orientation": "v",
                  "showlegend": true,
                  "type": "histogram",
                  "x": [
                    1.25
                  ],
                  "xaxis": "x",
                  "yaxis": "y"
                },
                {
                  "alignmentgroup": "True",
                  "bingroup": "x",
                  "hovertemplate": "Player=Reiss Nelson<br>GPJ=%{x}<br>count=%{y}<extra></extra>",
                  "legendgroup": "Reiss Nelson",
                  "marker": {
                    "color": "#EF553B",
                    "pattern": {
                      "shape": ""
                    }
                  },
                  "name": "Reiss Nelson",
                  "offsetgroup": "Reiss Nelson",
                  "orientation": "v",
                  "showlegend": true,
                  "type": "histogram",
                  "x": [
                    1
                  ],
                  "xaxis": "x",
                  "yaxis": "y"
                },
                {
                  "alignmentgroup": "True",
                  "bingroup": "x",
                  "hovertemplate": "Player=Cyle Larin<br>GPJ=%{x}<br>count=%{y}<extra></extra>",
                  "legendgroup": "Cyle Larin",
                  "marker": {
                    "color": "#00cc96",
                    "pattern": {
                      "shape": ""
                    }
                  },
                  "name": "Cyle Larin",
                  "offsetgroup": "Cyle Larin",
                  "orientation": "v",
                  "showlegend": true,
                  "type": "histogram",
                  "x": [
                    1
                  ],
                  "xaxis": "x",
                  "yaxis": "y"
                },
                {
                  "alignmentgroup": "True",
                  "bingroup": "x",
                  "hovertemplate": "Player=Moritz Broschinski<br>GPJ=%{x}<br>count=%{y}<extra></extra>",
                  "legendgroup": "Moritz Broschinski",
                  "marker": {
                    "color": "#ab63fa",
                    "pattern": {
                      "shape": ""
                    }
                  },
                  "name": "Moritz Broschinski",
                  "offsetgroup": "Moritz Broschinski",
                  "orientation": "v",
                  "showlegend": true,
                  "type": "histogram",
                  "x": [
                    1
                  ],
                  "xaxis": "x",
                  "yaxis": "y"
                },
                {
                  "alignmentgroup": "True",
                  "bingroup": "x",
                  "hovertemplate": "Player=Victor Osimhen<br>GPJ=%{x}<br>count=%{y}<extra></extra>",
                  "legendgroup": "Victor Osimhen",
                  "marker": {
                    "color": "#FFA15A",
                    "pattern": {
                      "shape": ""
                    }
                  },
                  "name": "Victor Osimhen",
                  "offsetgroup": "Victor Osimhen",
                  "orientation": "v",
                  "showlegend": true,
                  "type": "histogram",
                  "x": [
                    0.9411764705882353
                  ],
                  "xaxis": "x",
                  "yaxis": "y"
                },
                {
                  "alignmentgroup": "True",
                  "bingroup": "x",
                  "hovertemplate": "Player=Robert Lewandowski<br>GPJ=%{x}<br>count=%{y}<extra></extra>",
                  "legendgroup": "Robert Lewandowski",
                  "marker": {
                    "color": "#19d3f3",
                    "pattern": {
                      "shape": ""
                    }
                  },
                  "name": "Robert Lewandowski",
                  "offsetgroup": "Robert Lewandowski",
                  "orientation": "v",
                  "showlegend": true,
                  "type": "histogram",
                  "x": [
                    0.8235294117647058
                  ],
                  "xaxis": "x",
                  "yaxis": "y"
                },
                {
                  "alignmentgroup": "True",
                  "bingroup": "x",
                  "hovertemplate": "Player=Christopher Nkunku<br>GPJ=%{x}<br>count=%{y}<extra></extra>",
                  "legendgroup": "Christopher Nkunku",
                  "marker": {
                    "color": "#FF6692",
                    "pattern": {
                      "shape": ""
                    }
                  },
                  "name": "Christopher Nkunku",
                  "offsetgroup": "Christopher Nkunku",
                  "orientation": "v",
                  "showlegend": true,
                  "type": "histogram",
                  "x": [
                    0.8
                  ],
                  "xaxis": "x",
                  "yaxis": "y"
                },
                {
                  "alignmentgroup": "True",
                  "bingroup": "x",
                  "hovertemplate": "Player=Karim Benzema<br>GPJ=%{x}<br>count=%{y}<extra></extra>",
                  "legendgroup": "Karim Benzema",
                  "marker": {
                    "color": "#B6E880",
                    "pattern": {
                      "shape": ""
                    }
                  },
                  "name": "Karim Benzema",
                  "offsetgroup": "Karim Benzema",
                  "orientation": "v",
                  "showlegend": true,
                  "type": "histogram",
                  "x": [
                    0.75
                  ],
                  "xaxis": "x",
                  "yaxis": "y"
                },
                {
                  "alignmentgroup": "True",
                  "bingroup": "x",
                  "hovertemplate": "Player=Harry Kane<br>GPJ=%{x}<br>count=%{y}<extra></extra>",
                  "legendgroup": "Harry Kane",
                  "marker": {
                    "color": "#FF97FF",
                    "pattern": {
                      "shape": ""
                    }
                  },
                  "name": "Harry Kane",
                  "offsetgroup": "Harry Kane",
                  "orientation": "v",
                  "showlegend": true,
                  "type": "histogram",
                  "x": [
                    0.7391304347826086
                  ],
                  "xaxis": "x",
                  "yaxis": "y"
                },
                {
                  "alignmentgroup": "True",
                  "bingroup": "x",
                  "hovertemplate": "Player=Wissam Ben Yedder<br>GPJ=%{x}<br>count=%{y}<extra></extra>",
                  "legendgroup": "Wissam Ben Yedder",
                  "marker": {
                    "color": "#FECB52",
                    "pattern": {
                      "shape": ""
                    }
                  },
                  "name": "Wissam Ben Yedder",
                  "offsetgroup": "Wissam Ben Yedder",
                  "orientation": "v",
                  "showlegend": true,
                  "type": "histogram",
                  "x": [
                    0.7368421052631579
                  ],
                  "xaxis": "x",
                  "yaxis": "y"
                },
                {
                  "alignmentgroup": "True",
                  "bingroup": "x",
                  "hovertemplate": "Player=Ivan Toney<br>GPJ=%{x}<br>count=%{y}<extra></extra>",
                  "legendgroup": "Ivan Toney",
                  "marker": {
                    "color": "#636efa",
                    "pattern": {
                      "shape": ""
                    }
                  },
                  "name": "Ivan Toney",
                  "offsetgroup": "Ivan Toney",
                  "orientation": "v",
                  "showlegend": true,
                  "type": "histogram",
                  "x": [
                    0.7
                  ],
                  "xaxis": "x",
                  "yaxis": "y"
                },
                {
                  "alignmentgroup": "True",
                  "bingroup": "x",
                  "hovertemplate": "Player=Niclas F�llkrug<br>GPJ=%{x}<br>count=%{y}<extra></extra>",
                  "legendgroup": "Niclas F�llkrug",
                  "marker": {
                    "color": "#EF553B",
                    "pattern": {
                      "shape": ""
                    }
                  },
                  "name": "Niclas F�llkrug",
                  "offsetgroup": "Niclas F�llkrug",
                  "orientation": "v",
                  "showlegend": true,
                  "type": "histogram",
                  "x": [
                    0.6842105263157895
                  ],
                  "xaxis": "x",
                  "yaxis": "y"
                },
                {
                  "alignmentgroup": "True",
                  "bingroup": "x",
                  "hovertemplate": "Player=Kylian Mbapp�<br>GPJ=%{x}<br>count=%{y}<extra></extra>",
                  "legendgroup": "Kylian Mbapp�",
                  "marker": {
                    "color": "#00cc96",
                    "pattern": {
                      "shape": ""
                    }
                  },
                  "name": "Kylian Mbapp�",
                  "offsetgroup": "Kylian Mbapp�",
                  "orientation": "v",
                  "showlegend": true,
                  "type": "histogram",
                  "x": [
                    0.6842105263157895
                  ],
                  "xaxis": "x",
                  "yaxis": "y"
                },
                {
                  "alignmentgroup": "True",
                  "bingroup": "x",
                  "hovertemplate": "Player=Terem Moffi<br>GPJ=%{x}<br>count=%{y}<extra></extra>",
                  "legendgroup": "Terem Moffi",
                  "marker": {
                    "color": "#ab63fa",
                    "pattern": {
                      "shape": ""
                    }
                  },
                  "name": "Terem Moffi",
                  "offsetgroup": "Terem Moffi",
                  "orientation": "v",
                  "showlegend": true,
                  "type": "histogram",
                  "x": [
                    0.6666666666666666
                  ],
                  "xaxis": "x",
                  "yaxis": "y"
                },
                {
                  "alignmentgroup": "True",
                  "bingroup": "x",
                  "hovertemplate": "Player=Folarin Balogun<br>GPJ=%{x}<br>count=%{y}<extra></extra>",
                  "legendgroup": "Folarin Balogun",
                  "marker": {
                    "color": "#FFA15A",
                    "pattern": {
                      "shape": ""
                    }
                  },
                  "name": "Folarin Balogun",
                  "offsetgroup": "Folarin Balogun",
                  "orientation": "v",
                  "showlegend": true,
                  "type": "histogram",
                  "x": [
                    0.6666666666666666
                  ],
                  "xaxis": "x",
                  "yaxis": "y"
                },
                {
                  "alignmentgroup": "True",
                  "bingroup": "x",
                  "hovertemplate": "Player=Umar Sadiq<br>GPJ=%{x}<br>count=%{y}<extra></extra>",
                  "legendgroup": "Umar Sadiq",
                  "marker": {
                    "color": "#19d3f3",
                    "pattern": {
                      "shape": ""
                    }
                  },
                  "name": "Umar Sadiq",
                  "offsetgroup": "Umar Sadiq",
                  "orientation": "v",
                  "showlegend": true,
                  "type": "histogram",
                  "x": [
                    0.6666666666666666,
                    0.5
                  ],
                  "xaxis": "x",
                  "yaxis": "y"
                },
                {
                  "alignmentgroup": "True",
                  "bingroup": "x",
                  "hovertemplate": "Player=Du�an Vlahovi?<br>GPJ=%{x}<br>count=%{y}<extra></extra>",
                  "legendgroup": "Du�an Vlahovi?",
                  "marker": {
                    "color": "#FF6692",
                    "pattern": {
                      "shape": ""
                    }
                  },
                  "name": "Du�an Vlahovi?",
                  "offsetgroup": "Du�an Vlahovi?",
                  "orientation": "v",
                  "showlegend": true,
                  "type": "histogram",
                  "x": [
                    0.6666666666666666
                  ],
                  "xaxis": "x",
                  "yaxis": "y"
                },
                {
                  "alignmentgroup": "True",
                  "bingroup": "x",
                  "hovertemplate": "Player=Alexandre Lacazette<br>GPJ=%{x}<br>count=%{y}<extra></extra>",
                  "legendgroup": "Alexandre Lacazette",
                  "marker": {
                    "color": "#B6E880",
                    "pattern": {
                      "shape": ""
                    }
                  },
                  "name": "Alexandre Lacazette",
                  "offsetgroup": "Alexandre Lacazette",
                  "orientation": "v",
                  "showlegend": true,
                  "type": "histogram",
                  "x": [
                    0.5909090909090909
                  ],
                  "xaxis": "x",
                  "yaxis": "y"
                },
                {
                  "alignmentgroup": "True",
                  "bingroup": "x",
                  "hovertemplate": "Player=Vincenzo Grifo<br>GPJ=%{x}<br>count=%{y}<extra></extra>",
                  "legendgroup": "Vincenzo Grifo",
                  "marker": {
                    "color": "#FF97FF",
                    "pattern": {
                      "shape": ""
                    }
                  },
                  "name": "Vincenzo Grifo",
                  "offsetgroup": "Vincenzo Grifo",
                  "orientation": "v",
                  "showlegend": true,
                  "type": "histogram",
                  "x": [
                    0.5789473684210527
                  ],
                  "xaxis": "x",
                  "yaxis": "y"
                },
                {
                  "alignmentgroup": "True",
                  "bingroup": "x",
                  "hovertemplate": "Player=Aleksandar Mitrovi?<br>GPJ=%{x}<br>count=%{y}<extra></extra>",
                  "legendgroup": "Aleksandar Mitrovi?",
                  "marker": {
                    "color": "#FECB52",
                    "pattern": {
                      "shape": ""
                    }
                  },
                  "name": "Aleksandar Mitrovi?",
                  "offsetgroup": "Aleksandar Mitrovi?",
                  "orientation": "v",
                  "showlegend": true,
                  "type": "histogram",
                  "x": [
                    0.5789473684210527
                  ],
                  "xaxis": "x",
                  "yaxis": "y"
                },
                {
                  "alignmentgroup": "True",
                  "bingroup": "x",
                  "hovertemplate": "Player=Joselu<br>GPJ=%{x}<br>count=%{y}<extra></extra>",
                  "legendgroup": "Joselu",
                  "marker": {
                    "color": "#636efa",
                    "pattern": {
                      "shape": ""
                    }
                  },
                  "name": "Joselu",
                  "offsetgroup": "Joselu",
                  "orientation": "v",
                  "showlegend": true,
                  "type": "histogram",
                  "x": [
                    0.5789473684210527
                  ],
                  "xaxis": "x",
                  "yaxis": "y"
                },
                {
                  "alignmentgroup": "True",
                  "bingroup": "x",
                  "hovertemplate": "Player=Lautaro Mart�nez<br>GPJ=%{x}<br>count=%{y}<extra></extra>",
                  "legendgroup": "Lautaro Mart�nez",
                  "marker": {
                    "color": "#EF553B",
                    "pattern": {
                      "shape": ""
                    }
                  },
                  "name": "Lautaro Mart�nez",
                  "offsetgroup": "Lautaro Mart�nez",
                  "orientation": "v",
                  "showlegend": true,
                  "type": "histogram",
                  "x": [
                    0.5714285714285714
                  ],
                  "xaxis": "x",
                  "yaxis": "y"
                },
                {
                  "alignmentgroup": "True",
                  "bingroup": "x",
                  "hovertemplate": "Player=Ademola Lookman<br>GPJ=%{x}<br>count=%{y}<extra></extra>",
                  "legendgroup": "Ademola Lookman",
                  "marker": {
                    "color": "#00cc96",
                    "pattern": {
                      "shape": ""
                    }
                  },
                  "name": "Ademola Lookman",
                  "offsetgroup": "Ademola Lookman",
                  "orientation": "v",
                  "showlegend": true,
                  "type": "histogram",
                  "x": [
                    0.5714285714285714
                  ],
                  "xaxis": "x",
                  "yaxis": "y"
                },
                {
                  "alignmentgroup": "True",
                  "bingroup": "x",
                  "hovertemplate": "Player=Jonathan David<br>GPJ=%{x}<br>count=%{y}<extra></extra>",
                  "legendgroup": "Jonathan David",
                  "marker": {
                    "color": "#ab63fa",
                    "pattern": {
                      "shape": ""
                    }
                  },
                  "name": "Jonathan David",
                  "offsetgroup": "Jonathan David",
                  "orientation": "v",
                  "showlegend": true,
                  "type": "histogram",
                  "x": [
                    0.5714285714285714
                  ],
                  "xaxis": "x",
                  "yaxis": "y"
                },
                {
                  "alignmentgroup": "True",
                  "bingroup": "x",
                  "hovertemplate": "Player=Marko Arnautovi?<br>GPJ=%{x}<br>count=%{y}<extra></extra>",
                  "legendgroup": "Marko Arnautovi?",
                  "marker": {
                    "color": "#FFA15A",
                    "pattern": {
                      "shape": ""
                    }
                  },
                  "name": "Marko Arnautovi?",
                  "offsetgroup": "Marko Arnautovi?",
                  "orientation": "v",
                  "showlegend": true,
                  "type": "histogram",
                  "x": [
                    0.5714285714285714
                  ],
                  "xaxis": "x",
                  "yaxis": "y"
                },
                {
                  "alignmentgroup": "True",
                  "bingroup": "x",
                  "hovertemplate": "Player=Martin Terrier<br>GPJ=%{x}<br>count=%{y}<extra></extra>",
                  "legendgroup": "Martin Terrier",
                  "marker": {
                    "color": "#19d3f3",
                    "pattern": {
                      "shape": ""
                    }
                  },
                  "name": "Martin Terrier",
                  "offsetgroup": "Martin Terrier",
                  "orientation": "v",
                  "showlegend": true,
                  "type": "histogram",
                  "x": [
                    0.5625
                  ],
                  "xaxis": "x",
                  "yaxis": "y"
                },
                {
                  "alignmentgroup": "True",
                  "bingroup": "x",
                  "hovertemplate": "Player=Rodrigo<br>GPJ=%{x}<br>count=%{y}<extra></extra>",
                  "legendgroup": "Rodrigo",
                  "marker": {
                    "color": "#FF6692",
                    "pattern": {
                      "shape": ""
                    }
                  },
                  "name": "Rodrigo",
                  "offsetgroup": "Rodrigo",
                  "orientation": "v",
                  "showlegend": true,
                  "type": "histogram",
                  "x": [
                    0.5555555555555556
                  ],
                  "xaxis": "x",
                  "yaxis": "y"
                },
                {
                  "alignmentgroup": "True",
                  "bingroup": "x",
                  "hovertemplate": "Player=Marcus Thuram<br>GPJ=%{x}<br>count=%{y}<extra></extra>",
                  "legendgroup": "Marcus Thuram",
                  "marker": {
                    "color": "#B6E880",
                    "pattern": {
                      "shape": ""
                    }
                  },
                  "name": "Marcus Thuram",
                  "offsetgroup": "Marcus Thuram",
                  "orientation": "v",
                  "showlegend": true,
                  "type": "histogram",
                  "x": [
                    0.5555555555555556
                  ],
                  "xaxis": "x",
                  "yaxis": "y"
                },
                {
                  "alignmentgroup": "True",
                  "bingroup": "x",
                  "hovertemplate": "Player=Roberto Firmino<br>GPJ=%{x}<br>count=%{y}<extra></extra>",
                  "legendgroup": "Roberto Firmino",
                  "marker": {
                    "color": "#FF97FF",
                    "pattern": {
                      "shape": ""
                    }
                  },
                  "name": "Roberto Firmino",
                  "offsetgroup": "Roberto Firmino",
                  "orientation": "v",
                  "showlegend": true,
                  "type": "histogram",
                  "x": [
                    0.5384615384615384
                  ],
                  "xaxis": "x",
                  "yaxis": "y"
                },
                {
                  "alignmentgroup": "True",
                  "bingroup": "x",
                  "hovertemplate": "Player=Amine Gouiri<br>GPJ=%{x}<br>count=%{y}<extra></extra>",
                  "legendgroup": "Amine Gouiri",
                  "marker": {
                    "color": "#FECB52",
                    "pattern": {
                      "shape": ""
                    }
                  },
                  "name": "Amine Gouiri",
                  "offsetgroup": "Amine Gouiri",
                  "orientation": "v",
                  "showlegend": true,
                  "type": "histogram",
                  "x": [
                    0.5294117647058824
                  ],
                  "xaxis": "x",
                  "yaxis": "y"
                },
                {
                  "alignmentgroup": "True",
                  "bingroup": "x",
                  "hovertemplate": "Player=Breel Embolo<br>GPJ=%{x}<br>count=%{y}<extra></extra>",
                  "legendgroup": "Breel Embolo",
                  "marker": {
                    "color": "#636efa",
                    "pattern": {
                      "shape": ""
                    }
                  },
                  "name": "Breel Embolo",
                  "offsetgroup": "Breel Embolo",
                  "orientation": "v",
                  "showlegend": true,
                  "type": "histogram",
                  "x": [
                    0.5217391304347826
                  ],
                  "xaxis": "x",
                  "yaxis": "y"
                },
                {
                  "alignmentgroup": "True",
                  "bingroup": "x",
                  "hovertemplate": "Player=Tet�<br>GPJ=%{x}<br>count=%{y}<extra></extra>",
                  "legendgroup": "Tet�",
                  "marker": {
                    "color": "#EF553B",
                    "pattern": {
                      "shape": ""
                    }
                  },
                  "name": "Tet�",
                  "offsetgroup": "Tet�",
                  "orientation": "v",
                  "showlegend": true,
                  "type": "histogram",
                  "x": [
                    0.5
                  ],
                  "xaxis": "x",
                  "yaxis": "y"
                },
                {
                  "alignmentgroup": "True",
                  "bingroup": "x",
                  "hovertemplate": "Player=Randal Kolo Muani<br>GPJ=%{x}<br>count=%{y}<extra></extra>",
                  "legendgroup": "Randal Kolo Muani",
                  "marker": {
                    "color": "#00cc96",
                    "pattern": {
                      "shape": ""
                    }
                  },
                  "name": "Randal Kolo Muani",
                  "offsetgroup": "Randal Kolo Muani",
                  "orientation": "v",
                  "showlegend": true,
                  "type": "histogram",
                  "x": [
                    0.5
                  ],
                  "xaxis": "x",
                  "yaxis": "y"
                },
                {
                  "alignmentgroup": "True",
                  "bingroup": "x",
                  "hovertemplate": "Player=Memphis<br>GPJ=%{x}<br>count=%{y}<extra></extra>",
                  "legendgroup": "Memphis",
                  "marker": {
                    "color": "#ab63fa",
                    "pattern": {
                      "shape": ""
                    }
                  },
                  "name": "Memphis",
                  "offsetgroup": "Memphis",
                  "orientation": "v",
                  "showlegend": true,
                  "type": "histogram",
                  "x": [
                    0.5
                  ],
                  "xaxis": "x",
                  "yaxis": "y"
                },
                {
                  "alignmentgroup": "True",
                  "bingroup": "x",
                  "hovertemplate": "Player=Cyril Ngonge<br>GPJ=%{x}<br>count=%{y}<extra></extra>",
                  "legendgroup": "Cyril Ngonge",
                  "marker": {
                    "color": "#FFA15A",
                    "pattern": {
                      "shape": ""
                    }
                  },
                  "name": "Cyril Ngonge",
                  "offsetgroup": "Cyril Ngonge",
                  "orientation": "v",
                  "showlegend": true,
                  "type": "histogram",
                  "x": [
                    0.5
                  ],
                  "xaxis": "x",
                  "yaxis": "y"
                },
                {
                  "alignmentgroup": "True",
                  "bingroup": "x",
                  "hovertemplate": "Player=Evan Ferguson<br>GPJ=%{x}<br>count=%{y}<extra></extra>",
                  "legendgroup": "Evan Ferguson",
                  "marker": {
                    "color": "#19d3f3",
                    "pattern": {
                      "shape": ""
                    }
                  },
                  "name": "Evan Ferguson",
                  "offsetgroup": "Evan Ferguson",
                  "orientation": "v",
                  "showlegend": true,
                  "type": "histogram",
                  "x": [
                    0.5
                  ],
                  "xaxis": "x",
                  "yaxis": "y"
                },
                {
                  "alignmentgroup": "True",
                  "bingroup": "x",
                  "hovertemplate": "Player=Eric Maxim Choupo-Moting<br>GPJ=%{x}<br>count=%{y}<extra></extra>",
                  "legendgroup": "Eric Maxim Choupo-Moting",
                  "marker": {
                    "color": "#FF6692",
                    "pattern": {
                      "shape": ""
                    }
                  },
                  "name": "Eric Maxim Choupo-Moting",
                  "offsetgroup": "Eric Maxim Choupo-Moting",
                  "orientation": "v",
                  "showlegend": true,
                  "type": "histogram",
                  "x": [
                    0.5
                  ],
                  "xaxis": "x",
                  "yaxis": "y"
                },
                {
                  "alignmentgroup": "True",
                  "bingroup": "x",
                  "hovertemplate": "Player=Marcus Rashford<br>GPJ=%{x}<br>count=%{y}<extra></extra>",
                  "legendgroup": "Marcus Rashford",
                  "marker": {
                    "color": "#B6E880",
                    "pattern": {
                      "shape": ""
                    }
                  },
                  "name": "Marcus Rashford",
                  "offsetgroup": "Marcus Rashford",
                  "orientation": "v",
                  "showlegend": true,
                  "type": "histogram",
                  "x": [
                    0.5
                  ],
                  "xaxis": "x",
                  "yaxis": "y"
                },
                {
                  "alignmentgroup": "True",
                  "bingroup": "x",
                  "hovertemplate": "Player=Ga�tan Laborde<br>GPJ=%{x}<br>count=%{y}<extra></extra>",
                  "legendgroup": "Ga�tan Laborde",
                  "marker": {
                    "color": "#FF97FF",
                    "pattern": {
                      "shape": ""
                    }
                  },
                  "name": "Ga�tan Laborde",
                  "offsetgroup": "Ga�tan Laborde",
                  "orientation": "v",
                  "showlegend": true,
                  "type": "histogram",
                  "x": [
                    0.5
                  ],
                  "xaxis": "x",
                  "yaxis": "y"
                },
                {
                  "alignmentgroup": "True",
                  "bingroup": "x",
                  "hovertemplate": "Player=Janis Antiste<br>GPJ=%{x}<br>count=%{y}<extra></extra>",
                  "legendgroup": "Janis Antiste",
                  "marker": {
                    "color": "#FECB52",
                    "pattern": {
                      "shape": ""
                    }
                  },
                  "name": "Janis Antiste",
                  "offsetgroup": "Janis Antiste",
                  "orientation": "v",
                  "showlegend": true,
                  "type": "histogram",
                  "x": [
                    0.5
                  ],
                  "xaxis": "x",
                  "yaxis": "y"
                },
                {
                  "alignmentgroup": "True",
                  "bingroup": "x",
                  "hovertemplate": "Player=Sergi Guardiola<br>GPJ=%{x}<br>count=%{y}<extra></extra>",
                  "legendgroup": "Sergi Guardiola",
                  "marker": {
                    "color": "#636efa",
                    "pattern": {
                      "shape": ""
                    }
                  },
                  "name": "Sergi Guardiola",
                  "offsetgroup": "Sergi Guardiola",
                  "orientation": "v",
                  "showlegend": true,
                  "type": "histogram",
                  "x": [
                    0.5
                  ],
                  "xaxis": "x",
                  "yaxis": "y"
                },
                {
                  "alignmentgroup": "True",
                  "bingroup": "x",
                  "hovertemplate": "Player=M'Bala Nzola<br>GPJ=%{x}<br>count=%{y}<extra></extra>",
                  "legendgroup": "M'Bala Nzola",
                  "marker": {
                    "color": "#EF553B",
                    "pattern": {
                      "shape": ""
                    }
                  },
                  "name": "M'Bala Nzola",
                  "offsetgroup": "M'Bala Nzola",
                  "orientation": "v",
                  "showlegend": true,
                  "type": "histogram",
                  "x": [
                    0.5
                  ],
                  "xaxis": "x",
                  "yaxis": "y"
                },
                {
                  "alignmentgroup": "True",
                  "bingroup": "x",
                  "hovertemplate": "Player=Alexander Isak<br>GPJ=%{x}<br>count=%{y}<extra></extra>",
                  "legendgroup": "Alexander Isak",
                  "marker": {
                    "color": "#00cc96",
                    "pattern": {
                      "shape": ""
                    }
                  },
                  "name": "Alexander Isak",
                  "offsetgroup": "Alexander Isak",
                  "orientation": "v",
                  "showlegend": true,
                  "type": "histogram",
                  "x": [
                    0.5,
                    0.5
                  ],
                  "xaxis": "x",
                  "yaxis": "y"
                },
                {
                  "alignmentgroup": "True",
                  "bingroup": "x",
                  "hovertemplate": "Player=Alexander S�rloth<br>GPJ=%{x}<br>count=%{y}<extra></extra>",
                  "legendgroup": "Alexander S�rloth",
                  "marker": {
                    "color": "#ab63fa",
                    "pattern": {
                      "shape": ""
                    }
                  },
                  "name": "Alexander S�rloth",
                  "offsetgroup": "Alexander S�rloth",
                  "orientation": "v",
                  "showlegend": true,
                  "type": "histogram",
                  "x": [
                    0.5
                  ],
                  "xaxis": "x",
                  "yaxis": "y"
                },
                {
                  "alignmentgroup": "True",
                  "bingroup": "x",
                  "hovertemplate": "Player=Khvicha Kvaratskhelia<br>GPJ=%{x}<br>count=%{y}<extra></extra>",
                  "legendgroup": "Khvicha Kvaratskhelia",
                  "marker": {
                    "color": "#FFA15A",
                    "pattern": {
                      "shape": ""
                    }
                  },
                  "name": "Khvicha Kvaratskhelia",
                  "offsetgroup": "Khvicha Kvaratskhelia",
                  "orientation": "v",
                  "showlegend": true,
                  "type": "histogram",
                  "x": [
                    0.47058823529411764
                  ],
                  "xaxis": "x",
                  "yaxis": "y"
                },
                {
                  "alignmentgroup": "True",
                  "bingroup": "x",
                  "hovertemplate": "Player=Sehrou Guirassy<br>GPJ=%{x}<br>count=%{y}<extra></extra>",
                  "legendgroup": "Sehrou Guirassy",
                  "marker": {
                    "color": "#19d3f3",
                    "pattern": {
                      "shape": ""
                    }
                  },
                  "name": "Sehrou Guirassy",
                  "offsetgroup": "Sehrou Guirassy",
                  "orientation": "v",
                  "showlegend": true,
                  "type": "histogram",
                  "x": [
                    0.46153846153846156
                  ],
                  "xaxis": "x",
                  "yaxis": "y"
                },
                {
                  "alignmentgroup": "True",
                  "bingroup": "x",
                  "hovertemplate": "Player=Habib Diallo<br>GPJ=%{x}<br>count=%{y}<extra></extra>",
                  "legendgroup": "Habib Diallo",
                  "marker": {
                    "color": "#FF6692",
                    "pattern": {
                      "shape": ""
                    }
                  },
                  "name": "Habib Diallo",
                  "offsetgroup": "Habib Diallo",
                  "orientation": "v",
                  "showlegend": true,
                  "type": "histogram",
                  "x": [
                    0.45454545454545453
                  ],
                  "xaxis": "x",
                  "yaxis": "y"
                },
                {
                  "alignmentgroup": "True",
                  "bingroup": "x",
                  "hovertemplate": "Player=Miguel Almir�n<br>GPJ=%{x}<br>count=%{y}<extra></extra>",
                  "legendgroup": "Miguel Almir�n",
                  "marker": {
                    "color": "#B6E880",
                    "pattern": {
                      "shape": ""
                    }
                  },
                  "name": "Miguel Almir�n",
                  "offsetgroup": "Miguel Almir�n",
                  "orientation": "v",
                  "showlegend": true,
                  "type": "histogram",
                  "x": [
                    0.45454545454545453
                  ],
                  "xaxis": "x",
                  "yaxis": "y"
                }
              ],
              "layout": {
                "barmode": "relative",
                "legend": {
                  "title": {
                    "text": "Player"
                  },
                  "tracegroupgap": 0
                },
                "margin": {
                  "t": 60
                },
                "template": {
                  "data": {
                    "bar": [
                      {
                        "error_x": {
                          "color": "#2a3f5f"
                        },
                        "error_y": {
                          "color": "#2a3f5f"
                        },
                        "marker": {
                          "line": {
                            "color": "#E5ECF6",
                            "width": 0.5
                          },
                          "pattern": {
                            "fillmode": "overlay",
                            "size": 10,
                            "solidity": 0.2
                          }
                        },
                        "type": "bar"
                      }
                    ],
                    "barpolar": [
                      {
                        "marker": {
                          "line": {
                            "color": "#E5ECF6",
                            "width": 0.5
                          },
                          "pattern": {
                            "fillmode": "overlay",
                            "size": 10,
                            "solidity": 0.2
                          }
                        },
                        "type": "barpolar"
                      }
                    ],
                    "carpet": [
                      {
                        "aaxis": {
                          "endlinecolor": "#2a3f5f",
                          "gridcolor": "white",
                          "linecolor": "white",
                          "minorgridcolor": "white",
                          "startlinecolor": "#2a3f5f"
                        },
                        "baxis": {
                          "endlinecolor": "#2a3f5f",
                          "gridcolor": "white",
                          "linecolor": "white",
                          "minorgridcolor": "white",
                          "startlinecolor": "#2a3f5f"
                        },
                        "type": "carpet"
                      }
                    ],
                    "choropleth": [
                      {
                        "colorbar": {
                          "outlinewidth": 0,
                          "ticks": ""
                        },
                        "type": "choropleth"
                      }
                    ],
                    "contour": [
                      {
                        "colorbar": {
                          "outlinewidth": 0,
                          "ticks": ""
                        },
                        "colorscale": [
                          [
                            0,
                            "#0d0887"
                          ],
                          [
                            0.1111111111111111,
                            "#46039f"
                          ],
                          [
                            0.2222222222222222,
                            "#7201a8"
                          ],
                          [
                            0.3333333333333333,
                            "#9c179e"
                          ],
                          [
                            0.4444444444444444,
                            "#bd3786"
                          ],
                          [
                            0.5555555555555556,
                            "#d8576b"
                          ],
                          [
                            0.6666666666666666,
                            "#ed7953"
                          ],
                          [
                            0.7777777777777778,
                            "#fb9f3a"
                          ],
                          [
                            0.8888888888888888,
                            "#fdca26"
                          ],
                          [
                            1,
                            "#f0f921"
                          ]
                        ],
                        "type": "contour"
                      }
                    ],
                    "contourcarpet": [
                      {
                        "colorbar": {
                          "outlinewidth": 0,
                          "ticks": ""
                        },
                        "type": "contourcarpet"
                      }
                    ],
                    "heatmap": [
                      {
                        "colorbar": {
                          "outlinewidth": 0,
                          "ticks": ""
                        },
                        "colorscale": [
                          [
                            0,
                            "#0d0887"
                          ],
                          [
                            0.1111111111111111,
                            "#46039f"
                          ],
                          [
                            0.2222222222222222,
                            "#7201a8"
                          ],
                          [
                            0.3333333333333333,
                            "#9c179e"
                          ],
                          [
                            0.4444444444444444,
                            "#bd3786"
                          ],
                          [
                            0.5555555555555556,
                            "#d8576b"
                          ],
                          [
                            0.6666666666666666,
                            "#ed7953"
                          ],
                          [
                            0.7777777777777778,
                            "#fb9f3a"
                          ],
                          [
                            0.8888888888888888,
                            "#fdca26"
                          ],
                          [
                            1,
                            "#f0f921"
                          ]
                        ],
                        "type": "heatmap"
                      }
                    ],
                    "heatmapgl": [
                      {
                        "colorbar": {
                          "outlinewidth": 0,
                          "ticks": ""
                        },
                        "colorscale": [
                          [
                            0,
                            "#0d0887"
                          ],
                          [
                            0.1111111111111111,
                            "#46039f"
                          ],
                          [
                            0.2222222222222222,
                            "#7201a8"
                          ],
                          [
                            0.3333333333333333,
                            "#9c179e"
                          ],
                          [
                            0.4444444444444444,
                            "#bd3786"
                          ],
                          [
                            0.5555555555555556,
                            "#d8576b"
                          ],
                          [
                            0.6666666666666666,
                            "#ed7953"
                          ],
                          [
                            0.7777777777777778,
                            "#fb9f3a"
                          ],
                          [
                            0.8888888888888888,
                            "#fdca26"
                          ],
                          [
                            1,
                            "#f0f921"
                          ]
                        ],
                        "type": "heatmapgl"
                      }
                    ],
                    "histogram": [
                      {
                        "marker": {
                          "pattern": {
                            "fillmode": "overlay",
                            "size": 10,
                            "solidity": 0.2
                          }
                        },
                        "type": "histogram"
                      }
                    ],
                    "histogram2d": [
                      {
                        "colorbar": {
                          "outlinewidth": 0,
                          "ticks": ""
                        },
                        "colorscale": [
                          [
                            0,
                            "#0d0887"
                          ],
                          [
                            0.1111111111111111,
                            "#46039f"
                          ],
                          [
                            0.2222222222222222,
                            "#7201a8"
                          ],
                          [
                            0.3333333333333333,
                            "#9c179e"
                          ],
                          [
                            0.4444444444444444,
                            "#bd3786"
                          ],
                          [
                            0.5555555555555556,
                            "#d8576b"
                          ],
                          [
                            0.6666666666666666,
                            "#ed7953"
                          ],
                          [
                            0.7777777777777778,
                            "#fb9f3a"
                          ],
                          [
                            0.8888888888888888,
                            "#fdca26"
                          ],
                          [
                            1,
                            "#f0f921"
                          ]
                        ],
                        "type": "histogram2d"
                      }
                    ],
                    "histogram2dcontour": [
                      {
                        "colorbar": {
                          "outlinewidth": 0,
                          "ticks": ""
                        },
                        "colorscale": [
                          [
                            0,
                            "#0d0887"
                          ],
                          [
                            0.1111111111111111,
                            "#46039f"
                          ],
                          [
                            0.2222222222222222,
                            "#7201a8"
                          ],
                          [
                            0.3333333333333333,
                            "#9c179e"
                          ],
                          [
                            0.4444444444444444,
                            "#bd3786"
                          ],
                          [
                            0.5555555555555556,
                            "#d8576b"
                          ],
                          [
                            0.6666666666666666,
                            "#ed7953"
                          ],
                          [
                            0.7777777777777778,
                            "#fb9f3a"
                          ],
                          [
                            0.8888888888888888,
                            "#fdca26"
                          ],
                          [
                            1,
                            "#f0f921"
                          ]
                        ],
                        "type": "histogram2dcontour"
                      }
                    ],
                    "mesh3d": [
                      {
                        "colorbar": {
                          "outlinewidth": 0,
                          "ticks": ""
                        },
                        "type": "mesh3d"
                      }
                    ],
                    "parcoords": [
                      {
                        "line": {
                          "colorbar": {
                            "outlinewidth": 0,
                            "ticks": ""
                          }
                        },
                        "type": "parcoords"
                      }
                    ],
                    "pie": [
                      {
                        "automargin": true,
                        "type": "pie"
                      }
                    ],
                    "scatter": [
                      {
                        "fillpattern": {
                          "fillmode": "overlay",
                          "size": 10,
                          "solidity": 0.2
                        },
                        "type": "scatter"
                      }
                    ],
                    "scatter3d": [
                      {
                        "line": {
                          "colorbar": {
                            "outlinewidth": 0,
                            "ticks": ""
                          }
                        },
                        "marker": {
                          "colorbar": {
                            "outlinewidth": 0,
                            "ticks": ""
                          }
                        },
                        "type": "scatter3d"
                      }
                    ],
                    "scattercarpet": [
                      {
                        "marker": {
                          "colorbar": {
                            "outlinewidth": 0,
                            "ticks": ""
                          }
                        },
                        "type": "scattercarpet"
                      }
                    ],
                    "scattergeo": [
                      {
                        "marker": {
                          "colorbar": {
                            "outlinewidth": 0,
                            "ticks": ""
                          }
                        },
                        "type": "scattergeo"
                      }
                    ],
                    "scattergl": [
                      {
                        "marker": {
                          "colorbar": {
                            "outlinewidth": 0,
                            "ticks": ""
                          }
                        },
                        "type": "scattergl"
                      }
                    ],
                    "scattermapbox": [
                      {
                        "marker": {
                          "colorbar": {
                            "outlinewidth": 0,
                            "ticks": ""
                          }
                        },
                        "type": "scattermapbox"
                      }
                    ],
                    "scatterpolar": [
                      {
                        "marker": {
                          "colorbar": {
                            "outlinewidth": 0,
                            "ticks": ""
                          }
                        },
                        "type": "scatterpolar"
                      }
                    ],
                    "scatterpolargl": [
                      {
                        "marker": {
                          "colorbar": {
                            "outlinewidth": 0,
                            "ticks": ""
                          }
                        },
                        "type": "scatterpolargl"
                      }
                    ],
                    "scatterternary": [
                      {
                        "marker": {
                          "colorbar": {
                            "outlinewidth": 0,
                            "ticks": ""
                          }
                        },
                        "type": "scatterternary"
                      }
                    ],
                    "surface": [
                      {
                        "colorbar": {
                          "outlinewidth": 0,
                          "ticks": ""
                        },
                        "colorscale": [
                          [
                            0,
                            "#0d0887"
                          ],
                          [
                            0.1111111111111111,
                            "#46039f"
                          ],
                          [
                            0.2222222222222222,
                            "#7201a8"
                          ],
                          [
                            0.3333333333333333,
                            "#9c179e"
                          ],
                          [
                            0.4444444444444444,
                            "#bd3786"
                          ],
                          [
                            0.5555555555555556,
                            "#d8576b"
                          ],
                          [
                            0.6666666666666666,
                            "#ed7953"
                          ],
                          [
                            0.7777777777777778,
                            "#fb9f3a"
                          ],
                          [
                            0.8888888888888888,
                            "#fdca26"
                          ],
                          [
                            1,
                            "#f0f921"
                          ]
                        ],
                        "type": "surface"
                      }
                    ],
                    "table": [
                      {
                        "cells": {
                          "fill": {
                            "color": "#EBF0F8"
                          },
                          "line": {
                            "color": "white"
                          }
                        },
                        "header": {
                          "fill": {
                            "color": "#C8D4E3"
                          },
                          "line": {
                            "color": "white"
                          }
                        },
                        "type": "table"
                      }
                    ]
                  },
                  "layout": {
                    "annotationdefaults": {
                      "arrowcolor": "#2a3f5f",
                      "arrowhead": 0,
                      "arrowwidth": 1
                    },
                    "autotypenumbers": "strict",
                    "coloraxis": {
                      "colorbar": {
                        "outlinewidth": 0,
                        "ticks": ""
                      }
                    },
                    "colorscale": {
                      "diverging": [
                        [
                          0,
                          "#8e0152"
                        ],
                        [
                          0.1,
                          "#c51b7d"
                        ],
                        [
                          0.2,
                          "#de77ae"
                        ],
                        [
                          0.3,
                          "#f1b6da"
                        ],
                        [
                          0.4,
                          "#fde0ef"
                        ],
                        [
                          0.5,
                          "#f7f7f7"
                        ],
                        [
                          0.6,
                          "#e6f5d0"
                        ],
                        [
                          0.7,
                          "#b8e186"
                        ],
                        [
                          0.8,
                          "#7fbc41"
                        ],
                        [
                          0.9,
                          "#4d9221"
                        ],
                        [
                          1,
                          "#276419"
                        ]
                      ],
                      "sequential": [
                        [
                          0,
                          "#0d0887"
                        ],
                        [
                          0.1111111111111111,
                          "#46039f"
                        ],
                        [
                          0.2222222222222222,
                          "#7201a8"
                        ],
                        [
                          0.3333333333333333,
                          "#9c179e"
                        ],
                        [
                          0.4444444444444444,
                          "#bd3786"
                        ],
                        [
                          0.5555555555555556,
                          "#d8576b"
                        ],
                        [
                          0.6666666666666666,
                          "#ed7953"
                        ],
                        [
                          0.7777777777777778,
                          "#fb9f3a"
                        ],
                        [
                          0.8888888888888888,
                          "#fdca26"
                        ],
                        [
                          1,
                          "#f0f921"
                        ]
                      ],
                      "sequentialminus": [
                        [
                          0,
                          "#0d0887"
                        ],
                        [
                          0.1111111111111111,
                          "#46039f"
                        ],
                        [
                          0.2222222222222222,
                          "#7201a8"
                        ],
                        [
                          0.3333333333333333,
                          "#9c179e"
                        ],
                        [
                          0.4444444444444444,
                          "#bd3786"
                        ],
                        [
                          0.5555555555555556,
                          "#d8576b"
                        ],
                        [
                          0.6666666666666666,
                          "#ed7953"
                        ],
                        [
                          0.7777777777777778,
                          "#fb9f3a"
                        ],
                        [
                          0.8888888888888888,
                          "#fdca26"
                        ],
                        [
                          1,
                          "#f0f921"
                        ]
                      ]
                    },
                    "colorway": [
                      "#636efa",
                      "#EF553B",
                      "#00cc96",
                      "#ab63fa",
                      "#FFA15A",
                      "#19d3f3",
                      "#FF6692",
                      "#B6E880",
                      "#FF97FF",
                      "#FECB52"
                    ],
                    "font": {
                      "color": "#2a3f5f"
                    },
                    "geo": {
                      "bgcolor": "white",
                      "lakecolor": "white",
                      "landcolor": "#E5ECF6",
                      "showlakes": true,
                      "showland": true,
                      "subunitcolor": "white"
                    },
                    "hoverlabel": {
                      "align": "left"
                    },
                    "hovermode": "closest",
                    "mapbox": {
                      "style": "light"
                    },
                    "paper_bgcolor": "white",
                    "plot_bgcolor": "#E5ECF6",
                    "polar": {
                      "angularaxis": {
                        "gridcolor": "white",
                        "linecolor": "white",
                        "ticks": ""
                      },
                      "bgcolor": "#E5ECF6",
                      "radialaxis": {
                        "gridcolor": "white",
                        "linecolor": "white",
                        "ticks": ""
                      }
                    },
                    "scene": {
                      "xaxis": {
                        "backgroundcolor": "#E5ECF6",
                        "gridcolor": "white",
                        "gridwidth": 2,
                        "linecolor": "white",
                        "showbackground": true,
                        "ticks": "",
                        "zerolinecolor": "white"
                      },
                      "yaxis": {
                        "backgroundcolor": "#E5ECF6",
                        "gridcolor": "white",
                        "gridwidth": 2,
                        "linecolor": "white",
                        "showbackground": true,
                        "ticks": "",
                        "zerolinecolor": "white"
                      },
                      "zaxis": {
                        "backgroundcolor": "#E5ECF6",
                        "gridcolor": "white",
                        "gridwidth": 2,
                        "linecolor": "white",
                        "showbackground": true,
                        "ticks": "",
                        "zerolinecolor": "white"
                      }
                    },
                    "shapedefaults": {
                      "line": {
                        "color": "#2a3f5f"
                      }
                    },
                    "ternary": {
                      "aaxis": {
                        "gridcolor": "white",
                        "linecolor": "white",
                        "ticks": ""
                      },
                      "baxis": {
                        "gridcolor": "white",
                        "linecolor": "white",
                        "ticks": ""
                      },
                      "bgcolor": "#E5ECF6",
                      "caxis": {
                        "gridcolor": "white",
                        "linecolor": "white",
                        "ticks": ""
                      }
                    },
                    "title": {
                      "x": 0.05
                    },
                    "xaxis": {
                      "automargin": true,
                      "gridcolor": "white",
                      "linecolor": "white",
                      "ticks": "",
                      "title": {
                        "standoff": 15
                      },
                      "zerolinecolor": "white",
                      "zerolinewidth": 2
                    },
                    "yaxis": {
                      "automargin": true,
                      "gridcolor": "white",
                      "linecolor": "white",
                      "ticks": "",
                      "title": {
                        "standoff": 15
                      },
                      "zerolinecolor": "white",
                      "zerolinewidth": 2
                    }
                  }
                },
                "xaxis": {
                  "anchor": "y",
                  "domain": [
                    0,
                    1
                  ],
                  "title": {
                    "text": "GPJ"
                  }
                },
                "yaxis": {
                  "anchor": "x",
                  "domain": [
                    0,
                    1
                  ],
                  "title": {
                    "text": "count"
                  }
                }
              }
            }
          },
          "metadata": {},
          "output_type": "display_data"
        }
      ],
      "source": [
        "Atacante['GPJ'] = Atacante['Goals'] / Atacante['MP']\n",
        "Atacante.sort_values(['GPJ'], ascending = False, inplace = True)\n",
        "px.histogram(Atacante.head(50), x = \"GPJ\", color = 'Player').show()"
      ]
    },
    {
      "cell_type": "code",
      "execution_count": 5,
      "metadata": {
        "colab": {
          "base_uri": "https://localhost:8080/",
          "height": 542
        },
        "id": "zARO-xJFjeQu",
        "outputId": "0da05587-df8c-420a-ac4f-62fc32d9081d"
      },
      "outputs": [
        {
          "data": {
            "application/vnd.plotly.v1+json": {
              "config": {
                "plotlyServerURL": "https://plot.ly"
              },
              "data": [
                {
                  "alignmentgroup": "True",
                  "bingroup": "x",
                  "histfunc": "sum",
                  "hovertemplate": "Squad=Manchester City<br>Comp=%{x}<br>sum of GPJ=%{y}<extra></extra>",
                  "legendgroup": "Manchester City",
                  "marker": {
                    "color": "#636efa",
                    "pattern": {
                      "shape": ""
                    }
                  },
                  "name": "Manchester City",
                  "offsetgroup": "Manchester City",
                  "orientation": "v",
                  "showlegend": true,
                  "type": "histogram",
                  "x": [
                    "Premier League"
                  ],
                  "xaxis": "x",
                  "y": [
                    1.25
                  ],
                  "yaxis": "y"
                },
                {
                  "alignmentgroup": "True",
                  "bingroup": "x",
                  "histfunc": "sum",
                  "hovertemplate": "Squad=Arsenal<br>Comp=%{x}<br>sum of GPJ=%{y}<extra></extra>",
                  "legendgroup": "Arsenal",
                  "marker": {
                    "color": "#EF553B",
                    "pattern": {
                      "shape": ""
                    }
                  },
                  "name": "Arsenal",
                  "offsetgroup": "Arsenal",
                  "orientation": "v",
                  "showlegend": true,
                  "type": "histogram",
                  "x": [
                    "Premier League"
                  ],
                  "xaxis": "x",
                  "y": [
                    1
                  ],
                  "yaxis": "y"
                },
                {
                  "alignmentgroup": "True",
                  "bingroup": "x",
                  "histfunc": "sum",
                  "hovertemplate": "Squad=Valladolid<br>Comp=%{x}<br>sum of GPJ=%{y}<extra></extra>",
                  "legendgroup": "Valladolid",
                  "marker": {
                    "color": "#00cc96",
                    "pattern": {
                      "shape": ""
                    }
                  },
                  "name": "Valladolid",
                  "offsetgroup": "Valladolid",
                  "orientation": "v",
                  "showlegend": true,
                  "type": "histogram",
                  "x": [
                    "La Liga"
                  ],
                  "xaxis": "x",
                  "y": [
                    1
                  ],
                  "yaxis": "y"
                },
                {
                  "alignmentgroup": "True",
                  "bingroup": "x",
                  "histfunc": "sum",
                  "hovertemplate": "Squad=Bochum<br>Comp=%{x}<br>sum of GPJ=%{y}<extra></extra>",
                  "legendgroup": "Bochum",
                  "marker": {
                    "color": "#ab63fa",
                    "pattern": {
                      "shape": ""
                    }
                  },
                  "name": "Bochum",
                  "offsetgroup": "Bochum",
                  "orientation": "v",
                  "showlegend": true,
                  "type": "histogram",
                  "x": [
                    "Bundesliga"
                  ],
                  "xaxis": "x",
                  "y": [
                    1
                  ],
                  "yaxis": "y"
                },
                {
                  "alignmentgroup": "True",
                  "bingroup": "x",
                  "histfunc": "sum",
                  "hovertemplate": "Squad=Napoli<br>Comp=%{x}<br>sum of GPJ=%{y}<extra></extra>",
                  "legendgroup": "Napoli",
                  "marker": {
                    "color": "#FFA15A",
                    "pattern": {
                      "shape": ""
                    }
                  },
                  "name": "Napoli",
                  "offsetgroup": "Napoli",
                  "orientation": "v",
                  "showlegend": true,
                  "type": "histogram",
                  "x": [
                    "Serie A"
                  ],
                  "xaxis": "x",
                  "y": [
                    0.9411764705882353
                  ],
                  "yaxis": "y"
                },
                {
                  "alignmentgroup": "True",
                  "bingroup": "x",
                  "histfunc": "sum",
                  "hovertemplate": "Squad=Barcelona<br>Comp=%{x}<br>sum of GPJ=%{y}<extra></extra>",
                  "legendgroup": "Barcelona",
                  "marker": {
                    "color": "#19d3f3",
                    "pattern": {
                      "shape": ""
                    }
                  },
                  "name": "Barcelona",
                  "offsetgroup": "Barcelona",
                  "orientation": "v",
                  "showlegend": true,
                  "type": "histogram",
                  "x": [
                    "La Liga"
                  ],
                  "xaxis": "x",
                  "y": [
                    0.8235294117647058
                  ],
                  "yaxis": "y"
                },
                {
                  "alignmentgroup": "True",
                  "bingroup": "x",
                  "histfunc": "sum",
                  "hovertemplate": "Squad=RB Leipzig<br>Comp=%{x}<br>sum of GPJ=%{y}<extra></extra>",
                  "legendgroup": "RB Leipzig",
                  "marker": {
                    "color": "#FF6692",
                    "pattern": {
                      "shape": ""
                    }
                  },
                  "name": "RB Leipzig",
                  "offsetgroup": "RB Leipzig",
                  "orientation": "v",
                  "showlegend": true,
                  "type": "histogram",
                  "x": [
                    "Bundesliga"
                  ],
                  "xaxis": "x",
                  "y": [
                    0.8
                  ],
                  "yaxis": "y"
                },
                {
                  "alignmentgroup": "True",
                  "bingroup": "x",
                  "histfunc": "sum",
                  "hovertemplate": "Squad=Real Madrid<br>Comp=%{x}<br>sum of GPJ=%{y}<extra></extra>",
                  "legendgroup": "Real Madrid",
                  "marker": {
                    "color": "#B6E880",
                    "pattern": {
                      "shape": ""
                    }
                  },
                  "name": "Real Madrid",
                  "offsetgroup": "Real Madrid",
                  "orientation": "v",
                  "showlegend": true,
                  "type": "histogram",
                  "x": [
                    "La Liga"
                  ],
                  "xaxis": "x",
                  "y": [
                    0.75
                  ],
                  "yaxis": "y"
                },
                {
                  "alignmentgroup": "True",
                  "bingroup": "x",
                  "histfunc": "sum",
                  "hovertemplate": "Squad=Tottenham<br>Comp=%{x}<br>sum of GPJ=%{y}<extra></extra>",
                  "legendgroup": "Tottenham",
                  "marker": {
                    "color": "#FF97FF",
                    "pattern": {
                      "shape": ""
                    }
                  },
                  "name": "Tottenham",
                  "offsetgroup": "Tottenham",
                  "orientation": "v",
                  "showlegend": true,
                  "type": "histogram",
                  "x": [
                    "Premier League"
                  ],
                  "xaxis": "x",
                  "y": [
                    0.7391304347826086
                  ],
                  "yaxis": "y"
                },
                {
                  "alignmentgroup": "True",
                  "bingroup": "x",
                  "histfunc": "sum",
                  "hovertemplate": "Squad=Monaco<br>Comp=%{x}<br>sum of GPJ=%{y}<extra></extra>",
                  "legendgroup": "Monaco",
                  "marker": {
                    "color": "#FECB52",
                    "pattern": {
                      "shape": ""
                    }
                  },
                  "name": "Monaco",
                  "offsetgroup": "Monaco",
                  "orientation": "v",
                  "showlegend": true,
                  "type": "histogram",
                  "x": [
                    "Ligue 1"
                  ],
                  "xaxis": "x",
                  "y": [
                    0.7368421052631579
                  ],
                  "yaxis": "y"
                },
                {
                  "alignmentgroup": "True",
                  "bingroup": "x",
                  "histfunc": "sum",
                  "hovertemplate": "Squad=Brentford<br>Comp=%{x}<br>sum of GPJ=%{y}<extra></extra>",
                  "legendgroup": "Brentford",
                  "marker": {
                    "color": "#636efa",
                    "pattern": {
                      "shape": ""
                    }
                  },
                  "name": "Brentford",
                  "offsetgroup": "Brentford",
                  "orientation": "v",
                  "showlegend": true,
                  "type": "histogram",
                  "x": [
                    "Premier League"
                  ],
                  "xaxis": "x",
                  "y": [
                    0.7
                  ],
                  "yaxis": "y"
                },
                {
                  "alignmentgroup": "True",
                  "bingroup": "x",
                  "histfunc": "sum",
                  "hovertemplate": "Squad=Werder Bremen<br>Comp=%{x}<br>sum of GPJ=%{y}<extra></extra>",
                  "legendgroup": "Werder Bremen",
                  "marker": {
                    "color": "#EF553B",
                    "pattern": {
                      "shape": ""
                    }
                  },
                  "name": "Werder Bremen",
                  "offsetgroup": "Werder Bremen",
                  "orientation": "v",
                  "showlegend": true,
                  "type": "histogram",
                  "x": [
                    "Bundesliga"
                  ],
                  "xaxis": "x",
                  "y": [
                    0.6842105263157895
                  ],
                  "yaxis": "y"
                },
                {
                  "alignmentgroup": "True",
                  "bingroup": "x",
                  "histfunc": "sum",
                  "hovertemplate": "Squad=Paris S-G<br>Comp=%{x}<br>sum of GPJ=%{y}<extra></extra>",
                  "legendgroup": "Paris S-G",
                  "marker": {
                    "color": "#00cc96",
                    "pattern": {
                      "shape": ""
                    }
                  },
                  "name": "Paris S-G",
                  "offsetgroup": "Paris S-G",
                  "orientation": "v",
                  "showlegend": true,
                  "type": "histogram",
                  "x": [
                    "Ligue 1"
                  ],
                  "xaxis": "x",
                  "y": [
                    0.6842105263157895
                  ],
                  "yaxis": "y"
                },
                {
                  "alignmentgroup": "True",
                  "bingroup": "x",
                  "histfunc": "sum",
                  "hovertemplate": "Squad=Lorient<br>Comp=%{x}<br>sum of GPJ=%{y}<extra></extra>",
                  "legendgroup": "Lorient",
                  "marker": {
                    "color": "#ab63fa",
                    "pattern": {
                      "shape": ""
                    }
                  },
                  "name": "Lorient",
                  "offsetgroup": "Lorient",
                  "orientation": "v",
                  "showlegend": true,
                  "type": "histogram",
                  "x": [
                    "Ligue 1"
                  ],
                  "xaxis": "x",
                  "y": [
                    0.6666666666666666
                  ],
                  "yaxis": "y"
                },
                {
                  "alignmentgroup": "True",
                  "bingroup": "x",
                  "histfunc": "sum",
                  "hovertemplate": "Squad=Reims<br>Comp=%{x}<br>sum of GPJ=%{y}<extra></extra>",
                  "legendgroup": "Reims",
                  "marker": {
                    "color": "#FFA15A",
                    "pattern": {
                      "shape": ""
                    }
                  },
                  "name": "Reims",
                  "offsetgroup": "Reims",
                  "orientation": "v",
                  "showlegend": true,
                  "type": "histogram",
                  "x": [
                    "Ligue 1"
                  ],
                  "xaxis": "x",
                  "y": [
                    0.6666666666666666
                  ],
                  "yaxis": "y"
                },
                {
                  "alignmentgroup": "True",
                  "bingroup": "x",
                  "histfunc": "sum",
                  "hovertemplate": "Squad=Almer�a<br>Comp=%{x}<br>sum of GPJ=%{y}<extra></extra>",
                  "legendgroup": "Almer�a",
                  "marker": {
                    "color": "#19d3f3",
                    "pattern": {
                      "shape": ""
                    }
                  },
                  "name": "Almer�a",
                  "offsetgroup": "Almer�a",
                  "orientation": "v",
                  "showlegend": true,
                  "type": "histogram",
                  "x": [
                    "La Liga"
                  ],
                  "xaxis": "x",
                  "y": [
                    0.6666666666666666
                  ],
                  "yaxis": "y"
                },
                {
                  "alignmentgroup": "True",
                  "bingroup": "x",
                  "histfunc": "sum",
                  "hovertemplate": "Squad=Juventus<br>Comp=%{x}<br>sum of GPJ=%{y}<extra></extra>",
                  "legendgroup": "Juventus",
                  "marker": {
                    "color": "#FF6692",
                    "pattern": {
                      "shape": ""
                    }
                  },
                  "name": "Juventus",
                  "offsetgroup": "Juventus",
                  "orientation": "v",
                  "showlegend": true,
                  "type": "histogram",
                  "x": [
                    "Serie A"
                  ],
                  "xaxis": "x",
                  "y": [
                    0.6666666666666666
                  ],
                  "yaxis": "y"
                },
                {
                  "alignmentgroup": "True",
                  "bingroup": "x",
                  "histfunc": "sum",
                  "hovertemplate": "Squad=Lyon<br>Comp=%{x}<br>sum of GPJ=%{y}<extra></extra>",
                  "legendgroup": "Lyon",
                  "marker": {
                    "color": "#B6E880",
                    "pattern": {
                      "shape": ""
                    }
                  },
                  "name": "Lyon",
                  "offsetgroup": "Lyon",
                  "orientation": "v",
                  "showlegend": true,
                  "type": "histogram",
                  "x": [
                    "Ligue 1"
                  ],
                  "xaxis": "x",
                  "y": [
                    0.5909090909090909
                  ],
                  "yaxis": "y"
                },
                {
                  "alignmentgroup": "True",
                  "bingroup": "x",
                  "histfunc": "sum",
                  "hovertemplate": "Squad=Freiburg<br>Comp=%{x}<br>sum of GPJ=%{y}<extra></extra>",
                  "legendgroup": "Freiburg",
                  "marker": {
                    "color": "#FF97FF",
                    "pattern": {
                      "shape": ""
                    }
                  },
                  "name": "Freiburg",
                  "offsetgroup": "Freiburg",
                  "orientation": "v",
                  "showlegend": true,
                  "type": "histogram",
                  "x": [
                    "Bundesliga"
                  ],
                  "xaxis": "x",
                  "y": [
                    0.5789473684210527
                  ],
                  "yaxis": "y"
                },
                {
                  "alignmentgroup": "True",
                  "bingroup": "x",
                  "histfunc": "sum",
                  "hovertemplate": "Squad=Fulham<br>Comp=%{x}<br>sum of GPJ=%{y}<extra></extra>",
                  "legendgroup": "Fulham",
                  "marker": {
                    "color": "#FECB52",
                    "pattern": {
                      "shape": ""
                    }
                  },
                  "name": "Fulham",
                  "offsetgroup": "Fulham",
                  "orientation": "v",
                  "showlegend": true,
                  "type": "histogram",
                  "x": [
                    "Premier League"
                  ],
                  "xaxis": "x",
                  "y": [
                    0.5789473684210527
                  ],
                  "yaxis": "y"
                }
              ],
              "layout": {
                "barmode": "relative",
                "legend": {
                  "title": {
                    "text": "Squad"
                  },
                  "tracegroupgap": 0
                },
                "margin": {
                  "t": 60
                },
                "template": {
                  "data": {
                    "bar": [
                      {
                        "error_x": {
                          "color": "#2a3f5f"
                        },
                        "error_y": {
                          "color": "#2a3f5f"
                        },
                        "marker": {
                          "line": {
                            "color": "#E5ECF6",
                            "width": 0.5
                          },
                          "pattern": {
                            "fillmode": "overlay",
                            "size": 10,
                            "solidity": 0.2
                          }
                        },
                        "type": "bar"
                      }
                    ],
                    "barpolar": [
                      {
                        "marker": {
                          "line": {
                            "color": "#E5ECF6",
                            "width": 0.5
                          },
                          "pattern": {
                            "fillmode": "overlay",
                            "size": 10,
                            "solidity": 0.2
                          }
                        },
                        "type": "barpolar"
                      }
                    ],
                    "carpet": [
                      {
                        "aaxis": {
                          "endlinecolor": "#2a3f5f",
                          "gridcolor": "white",
                          "linecolor": "white",
                          "minorgridcolor": "white",
                          "startlinecolor": "#2a3f5f"
                        },
                        "baxis": {
                          "endlinecolor": "#2a3f5f",
                          "gridcolor": "white",
                          "linecolor": "white",
                          "minorgridcolor": "white",
                          "startlinecolor": "#2a3f5f"
                        },
                        "type": "carpet"
                      }
                    ],
                    "choropleth": [
                      {
                        "colorbar": {
                          "outlinewidth": 0,
                          "ticks": ""
                        },
                        "type": "choropleth"
                      }
                    ],
                    "contour": [
                      {
                        "colorbar": {
                          "outlinewidth": 0,
                          "ticks": ""
                        },
                        "colorscale": [
                          [
                            0,
                            "#0d0887"
                          ],
                          [
                            0.1111111111111111,
                            "#46039f"
                          ],
                          [
                            0.2222222222222222,
                            "#7201a8"
                          ],
                          [
                            0.3333333333333333,
                            "#9c179e"
                          ],
                          [
                            0.4444444444444444,
                            "#bd3786"
                          ],
                          [
                            0.5555555555555556,
                            "#d8576b"
                          ],
                          [
                            0.6666666666666666,
                            "#ed7953"
                          ],
                          [
                            0.7777777777777778,
                            "#fb9f3a"
                          ],
                          [
                            0.8888888888888888,
                            "#fdca26"
                          ],
                          [
                            1,
                            "#f0f921"
                          ]
                        ],
                        "type": "contour"
                      }
                    ],
                    "contourcarpet": [
                      {
                        "colorbar": {
                          "outlinewidth": 0,
                          "ticks": ""
                        },
                        "type": "contourcarpet"
                      }
                    ],
                    "heatmap": [
                      {
                        "colorbar": {
                          "outlinewidth": 0,
                          "ticks": ""
                        },
                        "colorscale": [
                          [
                            0,
                            "#0d0887"
                          ],
                          [
                            0.1111111111111111,
                            "#46039f"
                          ],
                          [
                            0.2222222222222222,
                            "#7201a8"
                          ],
                          [
                            0.3333333333333333,
                            "#9c179e"
                          ],
                          [
                            0.4444444444444444,
                            "#bd3786"
                          ],
                          [
                            0.5555555555555556,
                            "#d8576b"
                          ],
                          [
                            0.6666666666666666,
                            "#ed7953"
                          ],
                          [
                            0.7777777777777778,
                            "#fb9f3a"
                          ],
                          [
                            0.8888888888888888,
                            "#fdca26"
                          ],
                          [
                            1,
                            "#f0f921"
                          ]
                        ],
                        "type": "heatmap"
                      }
                    ],
                    "heatmapgl": [
                      {
                        "colorbar": {
                          "outlinewidth": 0,
                          "ticks": ""
                        },
                        "colorscale": [
                          [
                            0,
                            "#0d0887"
                          ],
                          [
                            0.1111111111111111,
                            "#46039f"
                          ],
                          [
                            0.2222222222222222,
                            "#7201a8"
                          ],
                          [
                            0.3333333333333333,
                            "#9c179e"
                          ],
                          [
                            0.4444444444444444,
                            "#bd3786"
                          ],
                          [
                            0.5555555555555556,
                            "#d8576b"
                          ],
                          [
                            0.6666666666666666,
                            "#ed7953"
                          ],
                          [
                            0.7777777777777778,
                            "#fb9f3a"
                          ],
                          [
                            0.8888888888888888,
                            "#fdca26"
                          ],
                          [
                            1,
                            "#f0f921"
                          ]
                        ],
                        "type": "heatmapgl"
                      }
                    ],
                    "histogram": [
                      {
                        "marker": {
                          "pattern": {
                            "fillmode": "overlay",
                            "size": 10,
                            "solidity": 0.2
                          }
                        },
                        "type": "histogram"
                      }
                    ],
                    "histogram2d": [
                      {
                        "colorbar": {
                          "outlinewidth": 0,
                          "ticks": ""
                        },
                        "colorscale": [
                          [
                            0,
                            "#0d0887"
                          ],
                          [
                            0.1111111111111111,
                            "#46039f"
                          ],
                          [
                            0.2222222222222222,
                            "#7201a8"
                          ],
                          [
                            0.3333333333333333,
                            "#9c179e"
                          ],
                          [
                            0.4444444444444444,
                            "#bd3786"
                          ],
                          [
                            0.5555555555555556,
                            "#d8576b"
                          ],
                          [
                            0.6666666666666666,
                            "#ed7953"
                          ],
                          [
                            0.7777777777777778,
                            "#fb9f3a"
                          ],
                          [
                            0.8888888888888888,
                            "#fdca26"
                          ],
                          [
                            1,
                            "#f0f921"
                          ]
                        ],
                        "type": "histogram2d"
                      }
                    ],
                    "histogram2dcontour": [
                      {
                        "colorbar": {
                          "outlinewidth": 0,
                          "ticks": ""
                        },
                        "colorscale": [
                          [
                            0,
                            "#0d0887"
                          ],
                          [
                            0.1111111111111111,
                            "#46039f"
                          ],
                          [
                            0.2222222222222222,
                            "#7201a8"
                          ],
                          [
                            0.3333333333333333,
                            "#9c179e"
                          ],
                          [
                            0.4444444444444444,
                            "#bd3786"
                          ],
                          [
                            0.5555555555555556,
                            "#d8576b"
                          ],
                          [
                            0.6666666666666666,
                            "#ed7953"
                          ],
                          [
                            0.7777777777777778,
                            "#fb9f3a"
                          ],
                          [
                            0.8888888888888888,
                            "#fdca26"
                          ],
                          [
                            1,
                            "#f0f921"
                          ]
                        ],
                        "type": "histogram2dcontour"
                      }
                    ],
                    "mesh3d": [
                      {
                        "colorbar": {
                          "outlinewidth": 0,
                          "ticks": ""
                        },
                        "type": "mesh3d"
                      }
                    ],
                    "parcoords": [
                      {
                        "line": {
                          "colorbar": {
                            "outlinewidth": 0,
                            "ticks": ""
                          }
                        },
                        "type": "parcoords"
                      }
                    ],
                    "pie": [
                      {
                        "automargin": true,
                        "type": "pie"
                      }
                    ],
                    "scatter": [
                      {
                        "fillpattern": {
                          "fillmode": "overlay",
                          "size": 10,
                          "solidity": 0.2
                        },
                        "type": "scatter"
                      }
                    ],
                    "scatter3d": [
                      {
                        "line": {
                          "colorbar": {
                            "outlinewidth": 0,
                            "ticks": ""
                          }
                        },
                        "marker": {
                          "colorbar": {
                            "outlinewidth": 0,
                            "ticks": ""
                          }
                        },
                        "type": "scatter3d"
                      }
                    ],
                    "scattercarpet": [
                      {
                        "marker": {
                          "colorbar": {
                            "outlinewidth": 0,
                            "ticks": ""
                          }
                        },
                        "type": "scattercarpet"
                      }
                    ],
                    "scattergeo": [
                      {
                        "marker": {
                          "colorbar": {
                            "outlinewidth": 0,
                            "ticks": ""
                          }
                        },
                        "type": "scattergeo"
                      }
                    ],
                    "scattergl": [
                      {
                        "marker": {
                          "colorbar": {
                            "outlinewidth": 0,
                            "ticks": ""
                          }
                        },
                        "type": "scattergl"
                      }
                    ],
                    "scattermapbox": [
                      {
                        "marker": {
                          "colorbar": {
                            "outlinewidth": 0,
                            "ticks": ""
                          }
                        },
                        "type": "scattermapbox"
                      }
                    ],
                    "scatterpolar": [
                      {
                        "marker": {
                          "colorbar": {
                            "outlinewidth": 0,
                            "ticks": ""
                          }
                        },
                        "type": "scatterpolar"
                      }
                    ],
                    "scatterpolargl": [
                      {
                        "marker": {
                          "colorbar": {
                            "outlinewidth": 0,
                            "ticks": ""
                          }
                        },
                        "type": "scatterpolargl"
                      }
                    ],
                    "scatterternary": [
                      {
                        "marker": {
                          "colorbar": {
                            "outlinewidth": 0,
                            "ticks": ""
                          }
                        },
                        "type": "scatterternary"
                      }
                    ],
                    "surface": [
                      {
                        "colorbar": {
                          "outlinewidth": 0,
                          "ticks": ""
                        },
                        "colorscale": [
                          [
                            0,
                            "#0d0887"
                          ],
                          [
                            0.1111111111111111,
                            "#46039f"
                          ],
                          [
                            0.2222222222222222,
                            "#7201a8"
                          ],
                          [
                            0.3333333333333333,
                            "#9c179e"
                          ],
                          [
                            0.4444444444444444,
                            "#bd3786"
                          ],
                          [
                            0.5555555555555556,
                            "#d8576b"
                          ],
                          [
                            0.6666666666666666,
                            "#ed7953"
                          ],
                          [
                            0.7777777777777778,
                            "#fb9f3a"
                          ],
                          [
                            0.8888888888888888,
                            "#fdca26"
                          ],
                          [
                            1,
                            "#f0f921"
                          ]
                        ],
                        "type": "surface"
                      }
                    ],
                    "table": [
                      {
                        "cells": {
                          "fill": {
                            "color": "#EBF0F8"
                          },
                          "line": {
                            "color": "white"
                          }
                        },
                        "header": {
                          "fill": {
                            "color": "#C8D4E3"
                          },
                          "line": {
                            "color": "white"
                          }
                        },
                        "type": "table"
                      }
                    ]
                  },
                  "layout": {
                    "annotationdefaults": {
                      "arrowcolor": "#2a3f5f",
                      "arrowhead": 0,
                      "arrowwidth": 1
                    },
                    "autotypenumbers": "strict",
                    "coloraxis": {
                      "colorbar": {
                        "outlinewidth": 0,
                        "ticks": ""
                      }
                    },
                    "colorscale": {
                      "diverging": [
                        [
                          0,
                          "#8e0152"
                        ],
                        [
                          0.1,
                          "#c51b7d"
                        ],
                        [
                          0.2,
                          "#de77ae"
                        ],
                        [
                          0.3,
                          "#f1b6da"
                        ],
                        [
                          0.4,
                          "#fde0ef"
                        ],
                        [
                          0.5,
                          "#f7f7f7"
                        ],
                        [
                          0.6,
                          "#e6f5d0"
                        ],
                        [
                          0.7,
                          "#b8e186"
                        ],
                        [
                          0.8,
                          "#7fbc41"
                        ],
                        [
                          0.9,
                          "#4d9221"
                        ],
                        [
                          1,
                          "#276419"
                        ]
                      ],
                      "sequential": [
                        [
                          0,
                          "#0d0887"
                        ],
                        [
                          0.1111111111111111,
                          "#46039f"
                        ],
                        [
                          0.2222222222222222,
                          "#7201a8"
                        ],
                        [
                          0.3333333333333333,
                          "#9c179e"
                        ],
                        [
                          0.4444444444444444,
                          "#bd3786"
                        ],
                        [
                          0.5555555555555556,
                          "#d8576b"
                        ],
                        [
                          0.6666666666666666,
                          "#ed7953"
                        ],
                        [
                          0.7777777777777778,
                          "#fb9f3a"
                        ],
                        [
                          0.8888888888888888,
                          "#fdca26"
                        ],
                        [
                          1,
                          "#f0f921"
                        ]
                      ],
                      "sequentialminus": [
                        [
                          0,
                          "#0d0887"
                        ],
                        [
                          0.1111111111111111,
                          "#46039f"
                        ],
                        [
                          0.2222222222222222,
                          "#7201a8"
                        ],
                        [
                          0.3333333333333333,
                          "#9c179e"
                        ],
                        [
                          0.4444444444444444,
                          "#bd3786"
                        ],
                        [
                          0.5555555555555556,
                          "#d8576b"
                        ],
                        [
                          0.6666666666666666,
                          "#ed7953"
                        ],
                        [
                          0.7777777777777778,
                          "#fb9f3a"
                        ],
                        [
                          0.8888888888888888,
                          "#fdca26"
                        ],
                        [
                          1,
                          "#f0f921"
                        ]
                      ]
                    },
                    "colorway": [
                      "#636efa",
                      "#EF553B",
                      "#00cc96",
                      "#ab63fa",
                      "#FFA15A",
                      "#19d3f3",
                      "#FF6692",
                      "#B6E880",
                      "#FF97FF",
                      "#FECB52"
                    ],
                    "font": {
                      "color": "#2a3f5f"
                    },
                    "geo": {
                      "bgcolor": "white",
                      "lakecolor": "white",
                      "landcolor": "#E5ECF6",
                      "showlakes": true,
                      "showland": true,
                      "subunitcolor": "white"
                    },
                    "hoverlabel": {
                      "align": "left"
                    },
                    "hovermode": "closest",
                    "mapbox": {
                      "style": "light"
                    },
                    "paper_bgcolor": "white",
                    "plot_bgcolor": "#E5ECF6",
                    "polar": {
                      "angularaxis": {
                        "gridcolor": "white",
                        "linecolor": "white",
                        "ticks": ""
                      },
                      "bgcolor": "#E5ECF6",
                      "radialaxis": {
                        "gridcolor": "white",
                        "linecolor": "white",
                        "ticks": ""
                      }
                    },
                    "scene": {
                      "xaxis": {
                        "backgroundcolor": "#E5ECF6",
                        "gridcolor": "white",
                        "gridwidth": 2,
                        "linecolor": "white",
                        "showbackground": true,
                        "ticks": "",
                        "zerolinecolor": "white"
                      },
                      "yaxis": {
                        "backgroundcolor": "#E5ECF6",
                        "gridcolor": "white",
                        "gridwidth": 2,
                        "linecolor": "white",
                        "showbackground": true,
                        "ticks": "",
                        "zerolinecolor": "white"
                      },
                      "zaxis": {
                        "backgroundcolor": "#E5ECF6",
                        "gridcolor": "white",
                        "gridwidth": 2,
                        "linecolor": "white",
                        "showbackground": true,
                        "ticks": "",
                        "zerolinecolor": "white"
                      }
                    },
                    "shapedefaults": {
                      "line": {
                        "color": "#2a3f5f"
                      }
                    },
                    "ternary": {
                      "aaxis": {
                        "gridcolor": "white",
                        "linecolor": "white",
                        "ticks": ""
                      },
                      "baxis": {
                        "gridcolor": "white",
                        "linecolor": "white",
                        "ticks": ""
                      },
                      "bgcolor": "#E5ECF6",
                      "caxis": {
                        "gridcolor": "white",
                        "linecolor": "white",
                        "ticks": ""
                      }
                    },
                    "title": {
                      "x": 0.05
                    },
                    "xaxis": {
                      "automargin": true,
                      "gridcolor": "white",
                      "linecolor": "white",
                      "ticks": "",
                      "title": {
                        "standoff": 15
                      },
                      "zerolinecolor": "white",
                      "zerolinewidth": 2
                    },
                    "yaxis": {
                      "automargin": true,
                      "gridcolor": "white",
                      "linecolor": "white",
                      "ticks": "",
                      "title": {
                        "standoff": 15
                      },
                      "zerolinecolor": "white",
                      "zerolinewidth": 2
                    }
                  }
                },
                "xaxis": {
                  "anchor": "y",
                  "domain": [
                    0,
                    1
                  ],
                  "title": {
                    "text": "Comp"
                  }
                },
                "yaxis": {
                  "anchor": "x",
                  "domain": [
                    0,
                    1
                  ],
                  "title": {
                    "text": "sum of GPJ"
                  }
                }
              }
            }
          },
          "metadata": {},
          "output_type": "display_data"
        }
      ],
      "source": [
        "px.histogram(Atacante.head(20), x = \"Comp\", y = 'GPJ', color = \"Squad\").show()"
      ]
    },
    {
      "attachments": {},
      "cell_type": "markdown",
      "metadata": {},
      "source": [
        "Criando um script de score"
      ]
    },
    {
      "cell_type": "code",
      "execution_count": 6,
      "metadata": {
        "id": "GC9sscLzo5mb"
      },
      "outputs": [],
      "source": [
        "positivos = Atacante['Goals'] * 4  + Atacante['Assists'] * 2 + Atacante['MP'] * 3 + Atacante['Starts'] + Atacante['AerWon'] \n",
        "negativos = (Atacante['Shots'] - Atacante['Goals']) * 3 + Atacante['PasOff'] "
      ]
    },
    {
      "cell_type": "code",
      "execution_count": 7,
      "metadata": {
        "colab": {
          "base_uri": "https://localhost:8080/",
          "height": 206
        },
        "id": "LjeU311ylaZo",
        "outputId": "324a85cc-9853-47df-a1a6-62dd0c0895c3"
      },
      "outputs": [
        {
          "data": {
            "text/html": [
              "<div>\n",
              "<style scoped>\n",
              "    .dataframe tbody tr th:only-of-type {\n",
              "        vertical-align: middle;\n",
              "    }\n",
              "\n",
              "    .dataframe tbody tr th {\n",
              "        vertical-align: top;\n",
              "    }\n",
              "\n",
              "    .dataframe thead th {\n",
              "        text-align: right;\n",
              "    }\n",
              "</style>\n",
              "<table border=\"1\" class=\"dataframe\">\n",
              "  <thead>\n",
              "    <tr style=\"text-align: right;\">\n",
              "      <th></th>\n",
              "      <th>Player</th>\n",
              "      <th>Pos</th>\n",
              "      <th>score</th>\n",
              "    </tr>\n",
              "  </thead>\n",
              "  <tbody>\n",
              "    <tr>\n",
              "      <th>263</th>\n",
              "      <td>Erling Haaland</td>\n",
              "      <td>FW</td>\n",
              "      <td>243.92</td>\n",
              "    </tr>\n",
              "    <tr>\n",
              "      <th>326</th>\n",
              "      <td>Harry Kane</td>\n",
              "      <td>FW</td>\n",
              "      <td>201.96</td>\n",
              "    </tr>\n",
              "    <tr>\n",
              "      <th>628</th>\n",
              "      <td>Ivan Toney</td>\n",
              "      <td>FW</td>\n",
              "      <td>173.44</td>\n",
              "    </tr>\n",
              "    <tr>\n",
              "      <th>355</th>\n",
              "      <td>Alexandre Lacazette</td>\n",
              "      <td>FW</td>\n",
              "      <td>171.34</td>\n",
              "    </tr>\n",
              "    <tr>\n",
              "      <th>44</th>\n",
              "      <td>Folarin Balogun</td>\n",
              "      <td>FW</td>\n",
              "      <td>169.47</td>\n",
              "    </tr>\n",
              "  </tbody>\n",
              "</table>\n",
              "</div>"
            ],
            "text/plain": [
              "                  Player Pos   score\n",
              "263       Erling Haaland  FW  243.92\n",
              "326           Harry Kane  FW  201.96\n",
              "628           Ivan Toney  FW  173.44\n",
              "355  Alexandre Lacazette  FW  171.34\n",
              "44       Folarin Balogun  FW  169.47"
            ]
          },
          "execution_count": 7,
          "metadata": {},
          "output_type": "execute_result"
        }
      ],
      "source": [
        "Atacante['score'] = positivos - negativos\n",
        "Atacante.sort_values(['score'], ascending = False, inplace = True)\n",
        "Atacante[['Player', 'Pos','score']].head()"
      ]
    },
    {
      "cell_type": "code",
      "execution_count": 8,
      "metadata": {
        "colab": {
          "base_uri": "https://localhost:8080/",
          "height": 542
        },
        "id": "zho7ecTawbT4",
        "outputId": "e50465bc-12f0-41d6-96c9-466ea59540a8"
      },
      "outputs": [
        {
          "data": {
            "application/vnd.plotly.v1+json": {
              "config": {
                "plotlyServerURL": "https://plot.ly"
              },
              "data": [
                {
                  "alignmentgroup": "True",
                  "bingroup": "x",
                  "hovertemplate": "score=%{x}<br>count=%{y}<extra></extra>",
                  "legendgroup": "",
                  "marker": {
                    "color": "#636efa",
                    "pattern": {
                      "shape": ""
                    }
                  },
                  "name": "",
                  "offsetgroup": "",
                  "orientation": "v",
                  "showlegend": false,
                  "type": "histogram",
                  "x": [
                    243.92,
                    201.95999999999998,
                    173.44,
                    171.34,
                    169.47,
                    168.24,
                    165.50000000000003,
                    164.64999999999998,
                    163.20999999999998,
                    158.19000000000003,
                    155.85,
                    155.79999999999998,
                    154.89000000000001,
                    153.66,
                    152.23000000000002,
                    151.69,
                    151.05999999999997,
                    149.62,
                    149.29,
                    145.16,
                    143.91,
                    136.01,
                    135.26,
                    135.15,
                    134.97,
                    134.17000000000002,
                    134.12,
                    133.33,
                    131.42,
                    130.73,
                    130.42000000000002,
                    130.35,
                    130.14,
                    129.76,
                    128.46,
                    127.66000000000001,
                    127.01,
                    126.69999999999999,
                    125.28,
                    125,
                    124.91,
                    124.54999999999998,
                    123.94,
                    123.45000000000002,
                    123.2,
                    122.52,
                    122.16,
                    121.62,
                    121.5,
                    120.72,
                    120.71,
                    119.85000000000001,
                    119.7,
                    119.62,
                    119.26999999999998,
                    119.19999999999999,
                    119.03,
                    118.53,
                    118.1,
                    117.5,
                    117,
                    114.66,
                    114.59,
                    113.96,
                    113.47000000000001,
                    112.98,
                    112.66,
                    112.63,
                    112.11,
                    111.88,
                    110.71,
                    110.47,
                    110.32,
                    109.63,
                    109.34,
                    109.27000000000001,
                    109.25999999999999,
                    109.21,
                    107.61,
                    107.43,
                    107.42,
                    107.4,
                    107.31,
                    106.88,
                    106.82000000000002,
                    106.68,
                    105.95,
                    105.92,
                    105.77,
                    105.67999999999999,
                    105.46,
                    104.32,
                    103.71,
                    103.13000000000001,
                    102.94999999999999,
                    102.68,
                    101.28999999999999,
                    101.14999999999999,
                    100.44999999999999,
                    100.33,
                    100.32999999999998,
                    99.81,
                    99.68,
                    99.46000000000002,
                    99.17999999999999,
                    98.96999999999998,
                    98.71000000000001,
                    97.99,
                    97.82,
                    97.58,
                    96.9,
                    95.78,
                    95.64,
                    95.47,
                    95.18,
                    94.88999999999999,
                    94.83,
                    94.67999999999999,
                    94.65,
                    94.62,
                    93.96999999999998,
                    93.86000000000001,
                    93.63,
                    93.48,
                    93.01,
                    92.75,
                    92.67999999999999,
                    92.30000000000001,
                    92.28,
                    92.25,
                    91.68999999999998,
                    91.52,
                    91.16000000000001,
                    91.14,
                    90.82,
                    90.71,
                    90.47,
                    90.39,
                    90.36999999999999,
                    90.25,
                    88.94000000000001,
                    88.28999999999999,
                    87.73,
                    87.61,
                    87.36,
                    87.07000000000001,
                    86.99999999999999,
                    86.32000000000001,
                    86.24,
                    86.2,
                    86.16000000000001,
                    85.94,
                    85.76,
                    85.72,
                    85.71,
                    85.3,
                    85.28999999999999,
                    84.73,
                    84.52999999999999,
                    84.5,
                    84.24,
                    84.14,
                    84.13999999999999,
                    83.82000000000001,
                    83.77000000000001,
                    83.52000000000001,
                    83.16999999999999,
                    82.8,
                    82.79,
                    82.67,
                    82.45,
                    82.35,
                    82.32,
                    82.14,
                    82.05,
                    81.38000000000001,
                    81.38000000000001,
                    81.35,
                    81.31,
                    81.10000000000001,
                    81.03999999999999,
                    80.91,
                    80.62,
                    80.55999999999999,
                    80.52999999999999,
                    80.34,
                    80.19,
                    80.08000000000001,
                    79.69999999999999,
                    79.66,
                    79.44,
                    79.24000000000001,
                    79.15000000000002,
                    79.08999999999999,
                    79.07000000000001,
                    78.81,
                    78.52,
                    77.94999999999999,
                    77.83,
                    77.46,
                    76.71,
                    76.22999999999999,
                    75.92,
                    75.85,
                    75.84,
                    75.78,
                    75.76,
                    75.7,
                    75.27,
                    75.18,
                    74.84000000000002,
                    74.77000000000001,
                    74.75,
                    74.66000000000001,
                    74.58,
                    74.43,
                    74.25000000000001,
                    74.24000000000001,
                    73.95,
                    73.72999999999999,
                    73.67,
                    73.41,
                    73.17,
                    73.10000000000001,
                    72.87,
                    72.82000000000001,
                    72.78999999999999,
                    72.65999999999998,
                    72.32999999999998,
                    72.05,
                    71.8,
                    71.64,
                    71.63000000000001,
                    71.49,
                    71.35,
                    71.3,
                    71.19,
                    71.17,
                    70.34,
                    70.27,
                    70.12999999999998,
                    70.03,
                    69.96000000000001,
                    69.75999999999999,
                    69.75,
                    69.7,
                    69.57,
                    68.85999999999999,
                    68.77000000000001,
                    68.58,
                    68.57,
                    68.53,
                    67.99,
                    67.94999999999999,
                    67.84,
                    67.51,
                    67.51,
                    67.42999999999999,
                    67.05,
                    66.03,
                    65.82,
                    65.75,
                    65.55,
                    65.33,
                    65.03999999999999,
                    64.6,
                    64.6,
                    64.45,
                    64.37,
                    64.35,
                    64.22,
                    63.92999999999999,
                    63.85000000000001,
                    63.13,
                    62.72,
                    62.629999999999995,
                    62.489999999999995,
                    62.349999999999994,
                    62.239999999999995,
                    62.010000000000005,
                    61.6,
                    61.36,
                    61.019999999999996,
                    60.88,
                    60.730000000000004,
                    60.57,
                    59.61,
                    59.57,
                    59.370000000000005,
                    59.35999999999999,
                    59.03,
                    59,
                    58.68,
                    58.660000000000004,
                    58.620000000000005,
                    58.489999999999995,
                    58.31,
                    58.06,
                    58.05,
                    57.94,
                    57.65,
                    57.43,
                    57.10000000000001,
                    57.09,
                    56.95,
                    56.89000000000001,
                    56.03,
                    55.410000000000004,
                    55,
                    54.97,
                    54.730000000000004,
                    54.53,
                    54.35,
                    54.23,
                    54.01,
                    53.99,
                    53.38,
                    53.160000000000004,
                    52.78,
                    52.45,
                    52.41,
                    52.36000000000001,
                    52.28,
                    51.97,
                    51.910000000000004,
                    51.78,
                    51.32,
                    51.050000000000004,
                    51,
                    50.78,
                    49.77,
                    49.769999999999996,
                    49.660000000000004,
                    49.4,
                    49.35,
                    49.03,
                    48.89,
                    48.53,
                    48.239999999999995,
                    48.120000000000005,
                    47.989999999999995,
                    47.92,
                    47.870000000000005,
                    47.85,
                    47.730000000000004,
                    47.38,
                    47.37,
                    46.94,
                    46.84,
                    46.83,
                    46.74,
                    46.7,
                    46.46,
                    46.410000000000004,
                    46.17,
                    46.11,
                    45.55,
                    45.19,
                    44.91,
                    44.5,
                    44.42999999999999,
                    44.38,
                    44.169999999999995,
                    43.76,
                    43.489999999999995,
                    42.629999999999995,
                    42.47,
                    42.269999999999996,
                    42.230000000000004,
                    41.86,
                    41.57,
                    41.5,
                    41.5,
                    41.37,
                    41,
                    40.84,
                    40.81,
                    40.59,
                    40.38,
                    40.32,
                    40.14,
                    39.96,
                    39.79,
                    39.620000000000005,
                    39.52,
                    39.370000000000005,
                    39.3,
                    39.05,
                    38.75,
                    38.07,
                    38.06,
                    37.97,
                    37.85,
                    37.64,
                    37.58,
                    37.489999999999995,
                    37.23,
                    37.17,
                    36.900000000000006,
                    36.75,
                    36.72,
                    36.57,
                    36.54,
                    36.45,
                    36.39999999999999,
                    36.33,
                    34.87,
                    34.809999999999995,
                    34.75,
                    34.69,
                    34.5,
                    34.46,
                    34.12,
                    33.84,
                    33.59,
                    33.550000000000004,
                    33.3,
                    33.12,
                    32.63,
                    32.5,
                    32.41,
                    32.38,
                    32,
                    31.870000000000005,
                    31.46,
                    30.679999999999993,
                    30.660000000000004,
                    30.57,
                    30.44,
                    30.07,
                    30,
                    29.980000000000004,
                    29.320000000000004,
                    29.049999999999997,
                    28.72,
                    28.53,
                    28.27,
                    27.72,
                    27.689999999999998,
                    27.61,
                    27.560000000000002,
                    27.529999999999998,
                    27.5,
                    27.090000000000003,
                    27.08,
                    26.58,
                    26.199999999999996,
                    26,
                    25.83,
                    24.99,
                    24.77,
                    24.64,
                    24.37,
                    24.14,
                    23.900000000000002,
                    23.840000000000003,
                    23.840000000000003,
                    23.73,
                    23.71,
                    23.689999999999998,
                    23.450000000000003,
                    23.26,
                    23.15,
                    22.14,
                    21.660000000000004,
                    21.57,
                    21.159999999999997,
                    21.009999999999998,
                    20.92,
                    20.86,
                    20.459999999999997,
                    20.33,
                    20.28,
                    19.89,
                    19.76,
                    19.35,
                    19.34,
                    19,
                    18.990000000000002,
                    18.919999999999998,
                    18.72,
                    18.6,
                    18.35,
                    18.25,
                    18,
                    18,
                    17.839999999999996,
                    17.72,
                    17.72,
                    17.56,
                    17.54,
                    17.339999999999996,
                    16.919999999999998,
                    16.75,
                    16.32,
                    16.19,
                    16,
                    15.67,
                    15.659999999999998,
                    15.64,
                    15.59,
                    15.319999999999999,
                    15.149999999999999,
                    14.67,
                    14.620000000000001,
                    14.45,
                    14.339999999999998,
                    14,
                    13.67,
                    13.529999999999998,
                    13.43,
                    13.080000000000002,
                    13,
                    13,
                    12.99,
                    12.89,
                    12.67,
                    12.559999999999999,
                    12.290000000000001,
                    12.180000000000001,
                    12.000000000000002,
                    12,
                    12,
                    12,
                    11.89,
                    11.680000000000001,
                    11.67,
                    11.32,
                    11,
                    11,
                    10.57,
                    10.559999999999999,
                    10.41,
                    10.36,
                    10,
                    10,
                    10,
                    9.989999999999998,
                    9.92,
                    9.669999999999998,
                    9.42,
                    9.34,
                    9.33,
                    9.33,
                    9.129999999999999,
                    9.110000000000001,
                    9.09,
                    9,
                    8.75,
                    8.459999999999999,
                    8.34,
                    8,
                    8,
                    7.91,
                    7.67,
                    7.43,
                    7.3,
                    7.27,
                    7,
                    6.9,
                    6.68,
                    6.66,
                    6.3999999999999995,
                    6.23,
                    6.119999999999999,
                    6,
                    6,
                    6,
                    6,
                    6,
                    6,
                    6,
                    6,
                    6,
                    6,
                    6,
                    6,
                    6,
                    5.859999999999999,
                    5.5,
                    5.5,
                    5.32,
                    5.3199999999999985,
                    5,
                    5,
                    5,
                    4.989999999999998,
                    4.639999999999999,
                    4.5,
                    4.5,
                    4.32,
                    4,
                    4,
                    4,
                    3.6500000000000004,
                    3.5500000000000007,
                    3.4400000000000013,
                    3.42,
                    3.17,
                    3,
                    3,
                    3,
                    3,
                    3,
                    3,
                    3,
                    3,
                    3,
                    3,
                    3,
                    3,
                    3,
                    3,
                    3,
                    3,
                    3,
                    3,
                    3,
                    3,
                    3,
                    3,
                    3,
                    3,
                    3,
                    3,
                    3,
                    3,
                    3,
                    3,
                    3,
                    3,
                    3,
                    3,
                    3,
                    3,
                    3,
                    3,
                    1.9900000000000002,
                    1.9900000000000002,
                    1.9100000000000001,
                    1.7300000000000004,
                    1.5,
                    1.2799999999999994,
                    1,
                    0.6799999999999997,
                    0.07000000000000028,
                    0,
                    -0.3200000000000003,
                    -0.4499999999999993,
                    -0.6600000000000001,
                    -0.9900000000000002,
                    -0.9900000000000002,
                    -1,
                    -1.4400000000000013,
                    -1.5,
                    -1.5,
                    -2,
                    -2.24,
                    -3,
                    -3.99,
                    -3.99,
                    -4,
                    -5,
                    -5.739999999999998,
                    -6.34,
                    -6.559999999999999,
                    -7,
                    -8,
                    -9,
                    -9,
                    -9,
                    -9,
                    -12,
                    -12,
                    -12,
                    -12,
                    -17.009999999999998,
                    -21.5,
                    -27,
                    -27,
                    -27,
                    -27,
                    -35
                  ],
                  "xaxis": "x",
                  "yaxis": "y"
                }
              ],
              "layout": {
                "barmode": "relative",
                "legend": {
                  "tracegroupgap": 0
                },
                "margin": {
                  "t": 60
                },
                "template": {
                  "data": {
                    "bar": [
                      {
                        "error_x": {
                          "color": "#2a3f5f"
                        },
                        "error_y": {
                          "color": "#2a3f5f"
                        },
                        "marker": {
                          "line": {
                            "color": "#E5ECF6",
                            "width": 0.5
                          },
                          "pattern": {
                            "fillmode": "overlay",
                            "size": 10,
                            "solidity": 0.2
                          }
                        },
                        "type": "bar"
                      }
                    ],
                    "barpolar": [
                      {
                        "marker": {
                          "line": {
                            "color": "#E5ECF6",
                            "width": 0.5
                          },
                          "pattern": {
                            "fillmode": "overlay",
                            "size": 10,
                            "solidity": 0.2
                          }
                        },
                        "type": "barpolar"
                      }
                    ],
                    "carpet": [
                      {
                        "aaxis": {
                          "endlinecolor": "#2a3f5f",
                          "gridcolor": "white",
                          "linecolor": "white",
                          "minorgridcolor": "white",
                          "startlinecolor": "#2a3f5f"
                        },
                        "baxis": {
                          "endlinecolor": "#2a3f5f",
                          "gridcolor": "white",
                          "linecolor": "white",
                          "minorgridcolor": "white",
                          "startlinecolor": "#2a3f5f"
                        },
                        "type": "carpet"
                      }
                    ],
                    "choropleth": [
                      {
                        "colorbar": {
                          "outlinewidth": 0,
                          "ticks": ""
                        },
                        "type": "choropleth"
                      }
                    ],
                    "contour": [
                      {
                        "colorbar": {
                          "outlinewidth": 0,
                          "ticks": ""
                        },
                        "colorscale": [
                          [
                            0,
                            "#0d0887"
                          ],
                          [
                            0.1111111111111111,
                            "#46039f"
                          ],
                          [
                            0.2222222222222222,
                            "#7201a8"
                          ],
                          [
                            0.3333333333333333,
                            "#9c179e"
                          ],
                          [
                            0.4444444444444444,
                            "#bd3786"
                          ],
                          [
                            0.5555555555555556,
                            "#d8576b"
                          ],
                          [
                            0.6666666666666666,
                            "#ed7953"
                          ],
                          [
                            0.7777777777777778,
                            "#fb9f3a"
                          ],
                          [
                            0.8888888888888888,
                            "#fdca26"
                          ],
                          [
                            1,
                            "#f0f921"
                          ]
                        ],
                        "type": "contour"
                      }
                    ],
                    "contourcarpet": [
                      {
                        "colorbar": {
                          "outlinewidth": 0,
                          "ticks": ""
                        },
                        "type": "contourcarpet"
                      }
                    ],
                    "heatmap": [
                      {
                        "colorbar": {
                          "outlinewidth": 0,
                          "ticks": ""
                        },
                        "colorscale": [
                          [
                            0,
                            "#0d0887"
                          ],
                          [
                            0.1111111111111111,
                            "#46039f"
                          ],
                          [
                            0.2222222222222222,
                            "#7201a8"
                          ],
                          [
                            0.3333333333333333,
                            "#9c179e"
                          ],
                          [
                            0.4444444444444444,
                            "#bd3786"
                          ],
                          [
                            0.5555555555555556,
                            "#d8576b"
                          ],
                          [
                            0.6666666666666666,
                            "#ed7953"
                          ],
                          [
                            0.7777777777777778,
                            "#fb9f3a"
                          ],
                          [
                            0.8888888888888888,
                            "#fdca26"
                          ],
                          [
                            1,
                            "#f0f921"
                          ]
                        ],
                        "type": "heatmap"
                      }
                    ],
                    "heatmapgl": [
                      {
                        "colorbar": {
                          "outlinewidth": 0,
                          "ticks": ""
                        },
                        "colorscale": [
                          [
                            0,
                            "#0d0887"
                          ],
                          [
                            0.1111111111111111,
                            "#46039f"
                          ],
                          [
                            0.2222222222222222,
                            "#7201a8"
                          ],
                          [
                            0.3333333333333333,
                            "#9c179e"
                          ],
                          [
                            0.4444444444444444,
                            "#bd3786"
                          ],
                          [
                            0.5555555555555556,
                            "#d8576b"
                          ],
                          [
                            0.6666666666666666,
                            "#ed7953"
                          ],
                          [
                            0.7777777777777778,
                            "#fb9f3a"
                          ],
                          [
                            0.8888888888888888,
                            "#fdca26"
                          ],
                          [
                            1,
                            "#f0f921"
                          ]
                        ],
                        "type": "heatmapgl"
                      }
                    ],
                    "histogram": [
                      {
                        "marker": {
                          "pattern": {
                            "fillmode": "overlay",
                            "size": 10,
                            "solidity": 0.2
                          }
                        },
                        "type": "histogram"
                      }
                    ],
                    "histogram2d": [
                      {
                        "colorbar": {
                          "outlinewidth": 0,
                          "ticks": ""
                        },
                        "colorscale": [
                          [
                            0,
                            "#0d0887"
                          ],
                          [
                            0.1111111111111111,
                            "#46039f"
                          ],
                          [
                            0.2222222222222222,
                            "#7201a8"
                          ],
                          [
                            0.3333333333333333,
                            "#9c179e"
                          ],
                          [
                            0.4444444444444444,
                            "#bd3786"
                          ],
                          [
                            0.5555555555555556,
                            "#d8576b"
                          ],
                          [
                            0.6666666666666666,
                            "#ed7953"
                          ],
                          [
                            0.7777777777777778,
                            "#fb9f3a"
                          ],
                          [
                            0.8888888888888888,
                            "#fdca26"
                          ],
                          [
                            1,
                            "#f0f921"
                          ]
                        ],
                        "type": "histogram2d"
                      }
                    ],
                    "histogram2dcontour": [
                      {
                        "colorbar": {
                          "outlinewidth": 0,
                          "ticks": ""
                        },
                        "colorscale": [
                          [
                            0,
                            "#0d0887"
                          ],
                          [
                            0.1111111111111111,
                            "#46039f"
                          ],
                          [
                            0.2222222222222222,
                            "#7201a8"
                          ],
                          [
                            0.3333333333333333,
                            "#9c179e"
                          ],
                          [
                            0.4444444444444444,
                            "#bd3786"
                          ],
                          [
                            0.5555555555555556,
                            "#d8576b"
                          ],
                          [
                            0.6666666666666666,
                            "#ed7953"
                          ],
                          [
                            0.7777777777777778,
                            "#fb9f3a"
                          ],
                          [
                            0.8888888888888888,
                            "#fdca26"
                          ],
                          [
                            1,
                            "#f0f921"
                          ]
                        ],
                        "type": "histogram2dcontour"
                      }
                    ],
                    "mesh3d": [
                      {
                        "colorbar": {
                          "outlinewidth": 0,
                          "ticks": ""
                        },
                        "type": "mesh3d"
                      }
                    ],
                    "parcoords": [
                      {
                        "line": {
                          "colorbar": {
                            "outlinewidth": 0,
                            "ticks": ""
                          }
                        },
                        "type": "parcoords"
                      }
                    ],
                    "pie": [
                      {
                        "automargin": true,
                        "type": "pie"
                      }
                    ],
                    "scatter": [
                      {
                        "fillpattern": {
                          "fillmode": "overlay",
                          "size": 10,
                          "solidity": 0.2
                        },
                        "type": "scatter"
                      }
                    ],
                    "scatter3d": [
                      {
                        "line": {
                          "colorbar": {
                            "outlinewidth": 0,
                            "ticks": ""
                          }
                        },
                        "marker": {
                          "colorbar": {
                            "outlinewidth": 0,
                            "ticks": ""
                          }
                        },
                        "type": "scatter3d"
                      }
                    ],
                    "scattercarpet": [
                      {
                        "marker": {
                          "colorbar": {
                            "outlinewidth": 0,
                            "ticks": ""
                          }
                        },
                        "type": "scattercarpet"
                      }
                    ],
                    "scattergeo": [
                      {
                        "marker": {
                          "colorbar": {
                            "outlinewidth": 0,
                            "ticks": ""
                          }
                        },
                        "type": "scattergeo"
                      }
                    ],
                    "scattergl": [
                      {
                        "marker": {
                          "colorbar": {
                            "outlinewidth": 0,
                            "ticks": ""
                          }
                        },
                        "type": "scattergl"
                      }
                    ],
                    "scattermapbox": [
                      {
                        "marker": {
                          "colorbar": {
                            "outlinewidth": 0,
                            "ticks": ""
                          }
                        },
                        "type": "scattermapbox"
                      }
                    ],
                    "scatterpolar": [
                      {
                        "marker": {
                          "colorbar": {
                            "outlinewidth": 0,
                            "ticks": ""
                          }
                        },
                        "type": "scatterpolar"
                      }
                    ],
                    "scatterpolargl": [
                      {
                        "marker": {
                          "colorbar": {
                            "outlinewidth": 0,
                            "ticks": ""
                          }
                        },
                        "type": "scatterpolargl"
                      }
                    ],
                    "scatterternary": [
                      {
                        "marker": {
                          "colorbar": {
                            "outlinewidth": 0,
                            "ticks": ""
                          }
                        },
                        "type": "scatterternary"
                      }
                    ],
                    "surface": [
                      {
                        "colorbar": {
                          "outlinewidth": 0,
                          "ticks": ""
                        },
                        "colorscale": [
                          [
                            0,
                            "#0d0887"
                          ],
                          [
                            0.1111111111111111,
                            "#46039f"
                          ],
                          [
                            0.2222222222222222,
                            "#7201a8"
                          ],
                          [
                            0.3333333333333333,
                            "#9c179e"
                          ],
                          [
                            0.4444444444444444,
                            "#bd3786"
                          ],
                          [
                            0.5555555555555556,
                            "#d8576b"
                          ],
                          [
                            0.6666666666666666,
                            "#ed7953"
                          ],
                          [
                            0.7777777777777778,
                            "#fb9f3a"
                          ],
                          [
                            0.8888888888888888,
                            "#fdca26"
                          ],
                          [
                            1,
                            "#f0f921"
                          ]
                        ],
                        "type": "surface"
                      }
                    ],
                    "table": [
                      {
                        "cells": {
                          "fill": {
                            "color": "#EBF0F8"
                          },
                          "line": {
                            "color": "white"
                          }
                        },
                        "header": {
                          "fill": {
                            "color": "#C8D4E3"
                          },
                          "line": {
                            "color": "white"
                          }
                        },
                        "type": "table"
                      }
                    ]
                  },
                  "layout": {
                    "annotationdefaults": {
                      "arrowcolor": "#2a3f5f",
                      "arrowhead": 0,
                      "arrowwidth": 1
                    },
                    "autotypenumbers": "strict",
                    "coloraxis": {
                      "colorbar": {
                        "outlinewidth": 0,
                        "ticks": ""
                      }
                    },
                    "colorscale": {
                      "diverging": [
                        [
                          0,
                          "#8e0152"
                        ],
                        [
                          0.1,
                          "#c51b7d"
                        ],
                        [
                          0.2,
                          "#de77ae"
                        ],
                        [
                          0.3,
                          "#f1b6da"
                        ],
                        [
                          0.4,
                          "#fde0ef"
                        ],
                        [
                          0.5,
                          "#f7f7f7"
                        ],
                        [
                          0.6,
                          "#e6f5d0"
                        ],
                        [
                          0.7,
                          "#b8e186"
                        ],
                        [
                          0.8,
                          "#7fbc41"
                        ],
                        [
                          0.9,
                          "#4d9221"
                        ],
                        [
                          1,
                          "#276419"
                        ]
                      ],
                      "sequential": [
                        [
                          0,
                          "#0d0887"
                        ],
                        [
                          0.1111111111111111,
                          "#46039f"
                        ],
                        [
                          0.2222222222222222,
                          "#7201a8"
                        ],
                        [
                          0.3333333333333333,
                          "#9c179e"
                        ],
                        [
                          0.4444444444444444,
                          "#bd3786"
                        ],
                        [
                          0.5555555555555556,
                          "#d8576b"
                        ],
                        [
                          0.6666666666666666,
                          "#ed7953"
                        ],
                        [
                          0.7777777777777778,
                          "#fb9f3a"
                        ],
                        [
                          0.8888888888888888,
                          "#fdca26"
                        ],
                        [
                          1,
                          "#f0f921"
                        ]
                      ],
                      "sequentialminus": [
                        [
                          0,
                          "#0d0887"
                        ],
                        [
                          0.1111111111111111,
                          "#46039f"
                        ],
                        [
                          0.2222222222222222,
                          "#7201a8"
                        ],
                        [
                          0.3333333333333333,
                          "#9c179e"
                        ],
                        [
                          0.4444444444444444,
                          "#bd3786"
                        ],
                        [
                          0.5555555555555556,
                          "#d8576b"
                        ],
                        [
                          0.6666666666666666,
                          "#ed7953"
                        ],
                        [
                          0.7777777777777778,
                          "#fb9f3a"
                        ],
                        [
                          0.8888888888888888,
                          "#fdca26"
                        ],
                        [
                          1,
                          "#f0f921"
                        ]
                      ]
                    },
                    "colorway": [
                      "#636efa",
                      "#EF553B",
                      "#00cc96",
                      "#ab63fa",
                      "#FFA15A",
                      "#19d3f3",
                      "#FF6692",
                      "#B6E880",
                      "#FF97FF",
                      "#FECB52"
                    ],
                    "font": {
                      "color": "#2a3f5f"
                    },
                    "geo": {
                      "bgcolor": "white",
                      "lakecolor": "white",
                      "landcolor": "#E5ECF6",
                      "showlakes": true,
                      "showland": true,
                      "subunitcolor": "white"
                    },
                    "hoverlabel": {
                      "align": "left"
                    },
                    "hovermode": "closest",
                    "mapbox": {
                      "style": "light"
                    },
                    "paper_bgcolor": "white",
                    "plot_bgcolor": "#E5ECF6",
                    "polar": {
                      "angularaxis": {
                        "gridcolor": "white",
                        "linecolor": "white",
                        "ticks": ""
                      },
                      "bgcolor": "#E5ECF6",
                      "radialaxis": {
                        "gridcolor": "white",
                        "linecolor": "white",
                        "ticks": ""
                      }
                    },
                    "scene": {
                      "xaxis": {
                        "backgroundcolor": "#E5ECF6",
                        "gridcolor": "white",
                        "gridwidth": 2,
                        "linecolor": "white",
                        "showbackground": true,
                        "ticks": "",
                        "zerolinecolor": "white"
                      },
                      "yaxis": {
                        "backgroundcolor": "#E5ECF6",
                        "gridcolor": "white",
                        "gridwidth": 2,
                        "linecolor": "white",
                        "showbackground": true,
                        "ticks": "",
                        "zerolinecolor": "white"
                      },
                      "zaxis": {
                        "backgroundcolor": "#E5ECF6",
                        "gridcolor": "white",
                        "gridwidth": 2,
                        "linecolor": "white",
                        "showbackground": true,
                        "ticks": "",
                        "zerolinecolor": "white"
                      }
                    },
                    "shapedefaults": {
                      "line": {
                        "color": "#2a3f5f"
                      }
                    },
                    "ternary": {
                      "aaxis": {
                        "gridcolor": "white",
                        "linecolor": "white",
                        "ticks": ""
                      },
                      "baxis": {
                        "gridcolor": "white",
                        "linecolor": "white",
                        "ticks": ""
                      },
                      "bgcolor": "#E5ECF6",
                      "caxis": {
                        "gridcolor": "white",
                        "linecolor": "white",
                        "ticks": ""
                      }
                    },
                    "title": {
                      "x": 0.05
                    },
                    "xaxis": {
                      "automargin": true,
                      "gridcolor": "white",
                      "linecolor": "white",
                      "ticks": "",
                      "title": {
                        "standoff": 15
                      },
                      "zerolinecolor": "white",
                      "zerolinewidth": 2
                    },
                    "yaxis": {
                      "automargin": true,
                      "gridcolor": "white",
                      "linecolor": "white",
                      "ticks": "",
                      "title": {
                        "standoff": 15
                      },
                      "zerolinecolor": "white",
                      "zerolinewidth": 2
                    }
                  }
                },
                "xaxis": {
                  "anchor": "y",
                  "domain": [
                    0,
                    1
                  ],
                  "title": {
                    "text": "score"
                  }
                },
                "yaxis": {
                  "anchor": "x",
                  "domain": [
                    0,
                    1
                  ],
                  "title": {
                    "text": "count"
                  }
                }
              }
            }
          },
          "metadata": {},
          "output_type": "display_data"
        }
      ],
      "source": [
        "px.histogram(Atacante, x='score').show()"
      ]
    },
    {
      "attachments": {},
      "cell_type": "markdown",
      "metadata": {},
      "source": [
        "Criando um Classificador "
      ]
    },
    {
      "cell_type": "code",
      "execution_count": 9,
      "metadata": {
        "colab": {
          "base_uri": "https://localhost:8080/"
        },
        "id": "qTPyqEiaw_Xm",
        "outputId": "c010f2db-877b-44cd-81c4-aa2a1381e58e"
      },
      "outputs": [
        {
          "name": "stdout",
          "output_type": "stream",
          "text": [
            "desvio de 43.54624494712086\n",
            "media de 52.81655929721811\n"
          ]
        }
      ],
      "source": [
        "dev = Atacante['score'].std()\n",
        "media = Atacante['score'].mean()\n",
        "print(f'desvio de {dev}\\nmedia de {media}')"
      ]
    },
    {
      "cell_type": "code",
      "execution_count": 10,
      "metadata": {
        "id": "X3lRynuuxSze"
      },
      "outputs": [],
      "source": [
        "bom = media + dev * 2\n",
        "normal = media  + dev\n",
        "fraco = media - dev\n",
        "muito_fraco = media - dev * 2"
      ]
    },
    {
      "cell_type": "code",
      "execution_count": 16,
      "metadata": {
        "id": "jCibECFRswqa"
      },
      "outputs": [],
      "source": [
        "def assign_grade(score):\n",
        "    if score > bom:\n",
        "        return 'Excelente'\n",
        "    elif score > normal:\n",
        "        return 'Bom'\n",
        "    elif score > fraco:\n",
        "        return 'Mediano'\n",
        "    elif score > muito_fraco:\n",
        "        return 'Ruim'\n",
        "    else:\n",
        "        return 'Muito_ruim'"
      ]
    },
    {
      "cell_type": "code",
      "execution_count": 17,
      "metadata": {
        "id": "Ua6mSHfjttkw"
      },
      "outputs": [],
      "source": [
        "Atacante['Desempenho'] = Atacante['score'].apply(assign_grade)"
      ]
    },
    {
      "cell_type": "code",
      "execution_count": 18,
      "metadata": {
        "colab": {
          "base_uri": "https://localhost:8080/",
          "height": 542
        },
        "id": "t0vBYhJyt3uz",
        "outputId": "7347a5bd-266b-4f8d-c947-f673341e844e"
      },
      "outputs": [
        {
          "data": {
            "application/vnd.plotly.v1+json": {
              "config": {
                "plotlyServerURL": "https://plot.ly"
              },
              "data": [
                {
                  "alignmentgroup": "True",
                  "bingroup": "x",
                  "hovertemplate": "Desempenho=%{x}<br>count=%{y}<extra></extra>",
                  "legendgroup": "",
                  "marker": {
                    "color": "#636efa",
                    "pattern": {
                      "shape": ""
                    }
                  },
                  "name": "",
                  "offsetgroup": "",
                  "orientation": "v",
                  "showlegend": false,
                  "type": "histogram",
                  "x": [
                    "Excelente",
                    "Excelente",
                    "Excelente",
                    "Excelente",
                    "Excelente",
                    "Excelente",
                    "Excelente",
                    "Excelente",
                    "Excelente",
                    "Excelente",
                    "Excelente",
                    "Excelente",
                    "Excelente",
                    "Excelente",
                    "Excelente",
                    "Excelente",
                    "Excelente",
                    "Excelente",
                    "Excelente",
                    "Excelente",
                    "Excelente",
                    "Bom",
                    "Bom",
                    "Bom",
                    "Bom",
                    "Bom",
                    "Bom",
                    "Bom",
                    "Bom",
                    "Bom",
                    "Bom",
                    "Bom",
                    "Bom",
                    "Bom",
                    "Bom",
                    "Bom",
                    "Bom",
                    "Bom",
                    "Bom",
                    "Bom",
                    "Bom",
                    "Bom",
                    "Bom",
                    "Bom",
                    "Bom",
                    "Bom",
                    "Bom",
                    "Bom",
                    "Bom",
                    "Bom",
                    "Bom",
                    "Bom",
                    "Bom",
                    "Bom",
                    "Bom",
                    "Bom",
                    "Bom",
                    "Bom",
                    "Bom",
                    "Bom",
                    "Bom",
                    "Bom",
                    "Bom",
                    "Bom",
                    "Bom",
                    "Bom",
                    "Bom",
                    "Bom",
                    "Bom",
                    "Bom",
                    "Bom",
                    "Bom",
                    "Bom",
                    "Bom",
                    "Bom",
                    "Bom",
                    "Bom",
                    "Bom",
                    "Bom",
                    "Bom",
                    "Bom",
                    "Bom",
                    "Bom",
                    "Bom",
                    "Bom",
                    "Bom",
                    "Bom",
                    "Bom",
                    "Bom",
                    "Bom",
                    "Bom",
                    "Bom",
                    "Bom",
                    "Bom",
                    "Bom",
                    "Bom",
                    "Bom",
                    "Bom",
                    "Bom",
                    "Bom",
                    "Bom",
                    "Bom",
                    "Bom",
                    "Bom",
                    "Bom",
                    "Bom",
                    "Bom",
                    "Bom",
                    "Bom",
                    "Bom",
                    "Bom",
                    "Mediano",
                    "Mediano",
                    "Mediano",
                    "Mediano",
                    "Mediano",
                    "Mediano",
                    "Mediano",
                    "Mediano",
                    "Mediano",
                    "Mediano",
                    "Mediano",
                    "Mediano",
                    "Mediano",
                    "Mediano",
                    "Mediano",
                    "Mediano",
                    "Mediano",
                    "Mediano",
                    "Mediano",
                    "Mediano",
                    "Mediano",
                    "Mediano",
                    "Mediano",
                    "Mediano",
                    "Mediano",
                    "Mediano",
                    "Mediano",
                    "Mediano",
                    "Mediano",
                    "Mediano",
                    "Mediano",
                    "Mediano",
                    "Mediano",
                    "Mediano",
                    "Mediano",
                    "Mediano",
                    "Mediano",
                    "Mediano",
                    "Mediano",
                    "Mediano",
                    "Mediano",
                    "Mediano",
                    "Mediano",
                    "Mediano",
                    "Mediano",
                    "Mediano",
                    "Mediano",
                    "Mediano",
                    "Mediano",
                    "Mediano",
                    "Mediano",
                    "Mediano",
                    "Mediano",
                    "Mediano",
                    "Mediano",
                    "Mediano",
                    "Mediano",
                    "Mediano",
                    "Mediano",
                    "Mediano",
                    "Mediano",
                    "Mediano",
                    "Mediano",
                    "Mediano",
                    "Mediano",
                    "Mediano",
                    "Mediano",
                    "Mediano",
                    "Mediano",
                    "Mediano",
                    "Mediano",
                    "Mediano",
                    "Mediano",
                    "Mediano",
                    "Mediano",
                    "Mediano",
                    "Mediano",
                    "Mediano",
                    "Mediano",
                    "Mediano",
                    "Mediano",
                    "Mediano",
                    "Mediano",
                    "Mediano",
                    "Mediano",
                    "Mediano",
                    "Mediano",
                    "Mediano",
                    "Mediano",
                    "Mediano",
                    "Mediano",
                    "Mediano",
                    "Mediano",
                    "Mediano",
                    "Mediano",
                    "Mediano",
                    "Mediano",
                    "Mediano",
                    "Mediano",
                    "Mediano",
                    "Mediano",
                    "Mediano",
                    "Mediano",
                    "Mediano",
                    "Mediano",
                    "Mediano",
                    "Mediano",
                    "Mediano",
                    "Mediano",
                    "Mediano",
                    "Mediano",
                    "Mediano",
                    "Mediano",
                    "Mediano",
                    "Mediano",
                    "Mediano",
                    "Mediano",
                    "Mediano",
                    "Mediano",
                    "Mediano",
                    "Mediano",
                    "Mediano",
                    "Mediano",
                    "Mediano",
                    "Mediano",
                    "Mediano",
                    "Mediano",
                    "Mediano",
                    "Mediano",
                    "Mediano",
                    "Mediano",
                    "Mediano",
                    "Mediano",
                    "Mediano",
                    "Mediano",
                    "Mediano",
                    "Mediano",
                    "Mediano",
                    "Mediano",
                    "Mediano",
                    "Mediano",
                    "Mediano",
                    "Mediano",
                    "Mediano",
                    "Mediano",
                    "Mediano",
                    "Mediano",
                    "Mediano",
                    "Mediano",
                    "Mediano",
                    "Mediano",
                    "Mediano",
                    "Mediano",
                    "Mediano",
                    "Mediano",
                    "Mediano",
                    "Mediano",
                    "Mediano",
                    "Mediano",
                    "Mediano",
                    "Mediano",
                    "Mediano",
                    "Mediano",
                    "Mediano",
                    "Mediano",
                    "Mediano",
                    "Mediano",
                    "Mediano",
                    "Mediano",
                    "Mediano",
                    "Mediano",
                    "Mediano",
                    "Mediano",
                    "Mediano",
                    "Mediano",
                    "Mediano",
                    "Mediano",
                    "Mediano",
                    "Mediano",
                    "Mediano",
                    "Mediano",
                    "Mediano",
                    "Mediano",
                    "Mediano",
                    "Mediano",
                    "Mediano",
                    "Mediano",
                    "Mediano",
                    "Mediano",
                    "Mediano",
                    "Mediano",
                    "Mediano",
                    "Mediano",
                    "Mediano",
                    "Mediano",
                    "Mediano",
                    "Mediano",
                    "Mediano",
                    "Mediano",
                    "Mediano",
                    "Mediano",
                    "Mediano",
                    "Mediano",
                    "Mediano",
                    "Mediano",
                    "Mediano",
                    "Mediano",
                    "Mediano",
                    "Mediano",
                    "Mediano",
                    "Mediano",
                    "Mediano",
                    "Mediano",
                    "Mediano",
                    "Mediano",
                    "Mediano",
                    "Mediano",
                    "Mediano",
                    "Mediano",
                    "Mediano",
                    "Mediano",
                    "Mediano",
                    "Mediano",
                    "Mediano",
                    "Mediano",
                    "Mediano",
                    "Mediano",
                    "Mediano",
                    "Mediano",
                    "Mediano",
                    "Mediano",
                    "Mediano",
                    "Mediano",
                    "Mediano",
                    "Mediano",
                    "Mediano",
                    "Mediano",
                    "Mediano",
                    "Mediano",
                    "Mediano",
                    "Mediano",
                    "Mediano",
                    "Mediano",
                    "Mediano",
                    "Mediano",
                    "Mediano",
                    "Mediano",
                    "Mediano",
                    "Mediano",
                    "Mediano",
                    "Mediano",
                    "Mediano",
                    "Mediano",
                    "Mediano",
                    "Mediano",
                    "Mediano",
                    "Mediano",
                    "Mediano",
                    "Mediano",
                    "Mediano",
                    "Mediano",
                    "Mediano",
                    "Mediano",
                    "Mediano",
                    "Mediano",
                    "Mediano",
                    "Mediano",
                    "Mediano",
                    "Mediano",
                    "Mediano",
                    "Mediano",
                    "Mediano",
                    "Mediano",
                    "Mediano",
                    "Mediano",
                    "Mediano",
                    "Mediano",
                    "Mediano",
                    "Mediano",
                    "Mediano",
                    "Mediano",
                    "Mediano",
                    "Mediano",
                    "Mediano",
                    "Mediano",
                    "Mediano",
                    "Mediano",
                    "Mediano",
                    "Mediano",
                    "Mediano",
                    "Mediano",
                    "Mediano",
                    "Mediano",
                    "Mediano",
                    "Mediano",
                    "Mediano",
                    "Mediano",
                    "Mediano",
                    "Mediano",
                    "Mediano",
                    "Mediano",
                    "Mediano",
                    "Mediano",
                    "Mediano",
                    "Mediano",
                    "Mediano",
                    "Mediano",
                    "Mediano",
                    "Mediano",
                    "Mediano",
                    "Mediano",
                    "Mediano",
                    "Mediano",
                    "Mediano",
                    "Mediano",
                    "Mediano",
                    "Mediano",
                    "Mediano",
                    "Mediano",
                    "Mediano",
                    "Mediano",
                    "Mediano",
                    "Mediano",
                    "Mediano",
                    "Mediano",
                    "Mediano",
                    "Mediano",
                    "Mediano",
                    "Mediano",
                    "Mediano",
                    "Mediano",
                    "Mediano",
                    "Mediano",
                    "Mediano",
                    "Mediano",
                    "Mediano",
                    "Mediano",
                    "Mediano",
                    "Mediano",
                    "Mediano",
                    "Mediano",
                    "Mediano",
                    "Mediano",
                    "Mediano",
                    "Mediano",
                    "Mediano",
                    "Mediano",
                    "Mediano",
                    "Mediano",
                    "Mediano",
                    "Mediano",
                    "Mediano",
                    "Mediano",
                    "Mediano",
                    "Mediano",
                    "Mediano",
                    "Mediano",
                    "Mediano",
                    "Mediano",
                    "Mediano",
                    "Mediano",
                    "Mediano",
                    "Mediano",
                    "Mediano",
                    "Mediano",
                    "Mediano",
                    "Mediano",
                    "Mediano",
                    "Mediano",
                    "Mediano",
                    "Mediano",
                    "Mediano",
                    "Mediano",
                    "Mediano",
                    "Mediano",
                    "Mediano",
                    "Mediano",
                    "Mediano",
                    "Mediano",
                    "Mediano",
                    "Mediano",
                    "Mediano",
                    "Mediano",
                    "Mediano",
                    "Mediano",
                    "Mediano",
                    "Mediano",
                    "Mediano",
                    "Mediano",
                    "Mediano",
                    "Mediano",
                    "Mediano",
                    "Mediano",
                    "Mediano",
                    "Mediano",
                    "Mediano",
                    "Mediano",
                    "Mediano",
                    "Mediano",
                    "Mediano",
                    "Mediano",
                    "Mediano",
                    "Mediano",
                    "Mediano",
                    "Mediano",
                    "Mediano",
                    "Mediano",
                    "Mediano",
                    "Mediano",
                    "Mediano",
                    "Mediano",
                    "Mediano",
                    "Mediano",
                    "Mediano",
                    "Mediano",
                    "Mediano",
                    "Mediano",
                    "Mediano",
                    "Mediano",
                    "Mediano",
                    "Mediano",
                    "Mediano",
                    "Mediano",
                    "Mediano",
                    "Mediano",
                    "Mediano",
                    "Mediano",
                    "Mediano",
                    "Mediano",
                    "Mediano",
                    "Mediano",
                    "Mediano",
                    "Mediano",
                    "Ruim",
                    "Ruim",
                    "Ruim",
                    "Ruim",
                    "Ruim",
                    "Ruim",
                    "Ruim",
                    "Ruim",
                    "Ruim",
                    "Ruim",
                    "Ruim",
                    "Ruim",
                    "Ruim",
                    "Ruim",
                    "Ruim",
                    "Ruim",
                    "Ruim",
                    "Ruim",
                    "Ruim",
                    "Ruim",
                    "Ruim",
                    "Ruim",
                    "Ruim",
                    "Ruim",
                    "Ruim",
                    "Ruim",
                    "Ruim",
                    "Ruim",
                    "Ruim",
                    "Ruim",
                    "Ruim",
                    "Ruim",
                    "Ruim",
                    "Ruim",
                    "Ruim",
                    "Ruim",
                    "Ruim",
                    "Ruim",
                    "Ruim",
                    "Ruim",
                    "Ruim",
                    "Ruim",
                    "Ruim",
                    "Ruim",
                    "Ruim",
                    "Ruim",
                    "Ruim",
                    "Ruim",
                    "Ruim",
                    "Ruim",
                    "Ruim",
                    "Ruim",
                    "Ruim",
                    "Ruim",
                    "Ruim",
                    "Ruim",
                    "Ruim",
                    "Ruim",
                    "Ruim",
                    "Ruim",
                    "Ruim",
                    "Ruim",
                    "Ruim",
                    "Ruim",
                    "Ruim",
                    "Ruim",
                    "Ruim",
                    "Ruim",
                    "Ruim",
                    "Ruim",
                    "Ruim",
                    "Ruim",
                    "Ruim",
                    "Ruim",
                    "Ruim",
                    "Ruim",
                    "Ruim",
                    "Ruim",
                    "Ruim",
                    "Ruim",
                    "Ruim",
                    "Ruim",
                    "Ruim",
                    "Ruim",
                    "Ruim",
                    "Ruim",
                    "Ruim",
                    "Ruim",
                    "Ruim",
                    "Ruim",
                    "Ruim",
                    "Ruim",
                    "Ruim",
                    "Ruim",
                    "Ruim",
                    "Ruim",
                    "Ruim",
                    "Ruim",
                    "Ruim",
                    "Ruim",
                    "Ruim",
                    "Ruim",
                    "Ruim",
                    "Ruim",
                    "Ruim",
                    "Ruim",
                    "Ruim",
                    "Ruim",
                    "Ruim",
                    "Ruim",
                    "Ruim",
                    "Ruim",
                    "Ruim",
                    "Ruim",
                    "Ruim",
                    "Ruim",
                    "Ruim",
                    "Ruim",
                    "Ruim",
                    "Ruim",
                    "Ruim",
                    "Ruim",
                    "Ruim",
                    "Ruim",
                    "Ruim",
                    "Ruim",
                    "Ruim",
                    "Ruim",
                    "Ruim",
                    "Ruim",
                    "Ruim",
                    "Ruim",
                    "Ruim",
                    "Ruim",
                    "Ruim",
                    "Ruim",
                    "Ruim",
                    "Ruim",
                    "Muito_ruim"
                  ],
                  "xaxis": "x",
                  "yaxis": "y"
                }
              ],
              "layout": {
                "barmode": "relative",
                "legend": {
                  "tracegroupgap": 0
                },
                "margin": {
                  "t": 60
                },
                "template": {
                  "data": {
                    "bar": [
                      {
                        "error_x": {
                          "color": "#2a3f5f"
                        },
                        "error_y": {
                          "color": "#2a3f5f"
                        },
                        "marker": {
                          "line": {
                            "color": "#E5ECF6",
                            "width": 0.5
                          },
                          "pattern": {
                            "fillmode": "overlay",
                            "size": 10,
                            "solidity": 0.2
                          }
                        },
                        "type": "bar"
                      }
                    ],
                    "barpolar": [
                      {
                        "marker": {
                          "line": {
                            "color": "#E5ECF6",
                            "width": 0.5
                          },
                          "pattern": {
                            "fillmode": "overlay",
                            "size": 10,
                            "solidity": 0.2
                          }
                        },
                        "type": "barpolar"
                      }
                    ],
                    "carpet": [
                      {
                        "aaxis": {
                          "endlinecolor": "#2a3f5f",
                          "gridcolor": "white",
                          "linecolor": "white",
                          "minorgridcolor": "white",
                          "startlinecolor": "#2a3f5f"
                        },
                        "baxis": {
                          "endlinecolor": "#2a3f5f",
                          "gridcolor": "white",
                          "linecolor": "white",
                          "minorgridcolor": "white",
                          "startlinecolor": "#2a3f5f"
                        },
                        "type": "carpet"
                      }
                    ],
                    "choropleth": [
                      {
                        "colorbar": {
                          "outlinewidth": 0,
                          "ticks": ""
                        },
                        "type": "choropleth"
                      }
                    ],
                    "contour": [
                      {
                        "colorbar": {
                          "outlinewidth": 0,
                          "ticks": ""
                        },
                        "colorscale": [
                          [
                            0,
                            "#0d0887"
                          ],
                          [
                            0.1111111111111111,
                            "#46039f"
                          ],
                          [
                            0.2222222222222222,
                            "#7201a8"
                          ],
                          [
                            0.3333333333333333,
                            "#9c179e"
                          ],
                          [
                            0.4444444444444444,
                            "#bd3786"
                          ],
                          [
                            0.5555555555555556,
                            "#d8576b"
                          ],
                          [
                            0.6666666666666666,
                            "#ed7953"
                          ],
                          [
                            0.7777777777777778,
                            "#fb9f3a"
                          ],
                          [
                            0.8888888888888888,
                            "#fdca26"
                          ],
                          [
                            1,
                            "#f0f921"
                          ]
                        ],
                        "type": "contour"
                      }
                    ],
                    "contourcarpet": [
                      {
                        "colorbar": {
                          "outlinewidth": 0,
                          "ticks": ""
                        },
                        "type": "contourcarpet"
                      }
                    ],
                    "heatmap": [
                      {
                        "colorbar": {
                          "outlinewidth": 0,
                          "ticks": ""
                        },
                        "colorscale": [
                          [
                            0,
                            "#0d0887"
                          ],
                          [
                            0.1111111111111111,
                            "#46039f"
                          ],
                          [
                            0.2222222222222222,
                            "#7201a8"
                          ],
                          [
                            0.3333333333333333,
                            "#9c179e"
                          ],
                          [
                            0.4444444444444444,
                            "#bd3786"
                          ],
                          [
                            0.5555555555555556,
                            "#d8576b"
                          ],
                          [
                            0.6666666666666666,
                            "#ed7953"
                          ],
                          [
                            0.7777777777777778,
                            "#fb9f3a"
                          ],
                          [
                            0.8888888888888888,
                            "#fdca26"
                          ],
                          [
                            1,
                            "#f0f921"
                          ]
                        ],
                        "type": "heatmap"
                      }
                    ],
                    "heatmapgl": [
                      {
                        "colorbar": {
                          "outlinewidth": 0,
                          "ticks": ""
                        },
                        "colorscale": [
                          [
                            0,
                            "#0d0887"
                          ],
                          [
                            0.1111111111111111,
                            "#46039f"
                          ],
                          [
                            0.2222222222222222,
                            "#7201a8"
                          ],
                          [
                            0.3333333333333333,
                            "#9c179e"
                          ],
                          [
                            0.4444444444444444,
                            "#bd3786"
                          ],
                          [
                            0.5555555555555556,
                            "#d8576b"
                          ],
                          [
                            0.6666666666666666,
                            "#ed7953"
                          ],
                          [
                            0.7777777777777778,
                            "#fb9f3a"
                          ],
                          [
                            0.8888888888888888,
                            "#fdca26"
                          ],
                          [
                            1,
                            "#f0f921"
                          ]
                        ],
                        "type": "heatmapgl"
                      }
                    ],
                    "histogram": [
                      {
                        "marker": {
                          "pattern": {
                            "fillmode": "overlay",
                            "size": 10,
                            "solidity": 0.2
                          }
                        },
                        "type": "histogram"
                      }
                    ],
                    "histogram2d": [
                      {
                        "colorbar": {
                          "outlinewidth": 0,
                          "ticks": ""
                        },
                        "colorscale": [
                          [
                            0,
                            "#0d0887"
                          ],
                          [
                            0.1111111111111111,
                            "#46039f"
                          ],
                          [
                            0.2222222222222222,
                            "#7201a8"
                          ],
                          [
                            0.3333333333333333,
                            "#9c179e"
                          ],
                          [
                            0.4444444444444444,
                            "#bd3786"
                          ],
                          [
                            0.5555555555555556,
                            "#d8576b"
                          ],
                          [
                            0.6666666666666666,
                            "#ed7953"
                          ],
                          [
                            0.7777777777777778,
                            "#fb9f3a"
                          ],
                          [
                            0.8888888888888888,
                            "#fdca26"
                          ],
                          [
                            1,
                            "#f0f921"
                          ]
                        ],
                        "type": "histogram2d"
                      }
                    ],
                    "histogram2dcontour": [
                      {
                        "colorbar": {
                          "outlinewidth": 0,
                          "ticks": ""
                        },
                        "colorscale": [
                          [
                            0,
                            "#0d0887"
                          ],
                          [
                            0.1111111111111111,
                            "#46039f"
                          ],
                          [
                            0.2222222222222222,
                            "#7201a8"
                          ],
                          [
                            0.3333333333333333,
                            "#9c179e"
                          ],
                          [
                            0.4444444444444444,
                            "#bd3786"
                          ],
                          [
                            0.5555555555555556,
                            "#d8576b"
                          ],
                          [
                            0.6666666666666666,
                            "#ed7953"
                          ],
                          [
                            0.7777777777777778,
                            "#fb9f3a"
                          ],
                          [
                            0.8888888888888888,
                            "#fdca26"
                          ],
                          [
                            1,
                            "#f0f921"
                          ]
                        ],
                        "type": "histogram2dcontour"
                      }
                    ],
                    "mesh3d": [
                      {
                        "colorbar": {
                          "outlinewidth": 0,
                          "ticks": ""
                        },
                        "type": "mesh3d"
                      }
                    ],
                    "parcoords": [
                      {
                        "line": {
                          "colorbar": {
                            "outlinewidth": 0,
                            "ticks": ""
                          }
                        },
                        "type": "parcoords"
                      }
                    ],
                    "pie": [
                      {
                        "automargin": true,
                        "type": "pie"
                      }
                    ],
                    "scatter": [
                      {
                        "fillpattern": {
                          "fillmode": "overlay",
                          "size": 10,
                          "solidity": 0.2
                        },
                        "type": "scatter"
                      }
                    ],
                    "scatter3d": [
                      {
                        "line": {
                          "colorbar": {
                            "outlinewidth": 0,
                            "ticks": ""
                          }
                        },
                        "marker": {
                          "colorbar": {
                            "outlinewidth": 0,
                            "ticks": ""
                          }
                        },
                        "type": "scatter3d"
                      }
                    ],
                    "scattercarpet": [
                      {
                        "marker": {
                          "colorbar": {
                            "outlinewidth": 0,
                            "ticks": ""
                          }
                        },
                        "type": "scattercarpet"
                      }
                    ],
                    "scattergeo": [
                      {
                        "marker": {
                          "colorbar": {
                            "outlinewidth": 0,
                            "ticks": ""
                          }
                        },
                        "type": "scattergeo"
                      }
                    ],
                    "scattergl": [
                      {
                        "marker": {
                          "colorbar": {
                            "outlinewidth": 0,
                            "ticks": ""
                          }
                        },
                        "type": "scattergl"
                      }
                    ],
                    "scattermapbox": [
                      {
                        "marker": {
                          "colorbar": {
                            "outlinewidth": 0,
                            "ticks": ""
                          }
                        },
                        "type": "scattermapbox"
                      }
                    ],
                    "scatterpolar": [
                      {
                        "marker": {
                          "colorbar": {
                            "outlinewidth": 0,
                            "ticks": ""
                          }
                        },
                        "type": "scatterpolar"
                      }
                    ],
                    "scatterpolargl": [
                      {
                        "marker": {
                          "colorbar": {
                            "outlinewidth": 0,
                            "ticks": ""
                          }
                        },
                        "type": "scatterpolargl"
                      }
                    ],
                    "scatterternary": [
                      {
                        "marker": {
                          "colorbar": {
                            "outlinewidth": 0,
                            "ticks": ""
                          }
                        },
                        "type": "scatterternary"
                      }
                    ],
                    "surface": [
                      {
                        "colorbar": {
                          "outlinewidth": 0,
                          "ticks": ""
                        },
                        "colorscale": [
                          [
                            0,
                            "#0d0887"
                          ],
                          [
                            0.1111111111111111,
                            "#46039f"
                          ],
                          [
                            0.2222222222222222,
                            "#7201a8"
                          ],
                          [
                            0.3333333333333333,
                            "#9c179e"
                          ],
                          [
                            0.4444444444444444,
                            "#bd3786"
                          ],
                          [
                            0.5555555555555556,
                            "#d8576b"
                          ],
                          [
                            0.6666666666666666,
                            "#ed7953"
                          ],
                          [
                            0.7777777777777778,
                            "#fb9f3a"
                          ],
                          [
                            0.8888888888888888,
                            "#fdca26"
                          ],
                          [
                            1,
                            "#f0f921"
                          ]
                        ],
                        "type": "surface"
                      }
                    ],
                    "table": [
                      {
                        "cells": {
                          "fill": {
                            "color": "#EBF0F8"
                          },
                          "line": {
                            "color": "white"
                          }
                        },
                        "header": {
                          "fill": {
                            "color": "#C8D4E3"
                          },
                          "line": {
                            "color": "white"
                          }
                        },
                        "type": "table"
                      }
                    ]
                  },
                  "layout": {
                    "annotationdefaults": {
                      "arrowcolor": "#2a3f5f",
                      "arrowhead": 0,
                      "arrowwidth": 1
                    },
                    "autotypenumbers": "strict",
                    "coloraxis": {
                      "colorbar": {
                        "outlinewidth": 0,
                        "ticks": ""
                      }
                    },
                    "colorscale": {
                      "diverging": [
                        [
                          0,
                          "#8e0152"
                        ],
                        [
                          0.1,
                          "#c51b7d"
                        ],
                        [
                          0.2,
                          "#de77ae"
                        ],
                        [
                          0.3,
                          "#f1b6da"
                        ],
                        [
                          0.4,
                          "#fde0ef"
                        ],
                        [
                          0.5,
                          "#f7f7f7"
                        ],
                        [
                          0.6,
                          "#e6f5d0"
                        ],
                        [
                          0.7,
                          "#b8e186"
                        ],
                        [
                          0.8,
                          "#7fbc41"
                        ],
                        [
                          0.9,
                          "#4d9221"
                        ],
                        [
                          1,
                          "#276419"
                        ]
                      ],
                      "sequential": [
                        [
                          0,
                          "#0d0887"
                        ],
                        [
                          0.1111111111111111,
                          "#46039f"
                        ],
                        [
                          0.2222222222222222,
                          "#7201a8"
                        ],
                        [
                          0.3333333333333333,
                          "#9c179e"
                        ],
                        [
                          0.4444444444444444,
                          "#bd3786"
                        ],
                        [
                          0.5555555555555556,
                          "#d8576b"
                        ],
                        [
                          0.6666666666666666,
                          "#ed7953"
                        ],
                        [
                          0.7777777777777778,
                          "#fb9f3a"
                        ],
                        [
                          0.8888888888888888,
                          "#fdca26"
                        ],
                        [
                          1,
                          "#f0f921"
                        ]
                      ],
                      "sequentialminus": [
                        [
                          0,
                          "#0d0887"
                        ],
                        [
                          0.1111111111111111,
                          "#46039f"
                        ],
                        [
                          0.2222222222222222,
                          "#7201a8"
                        ],
                        [
                          0.3333333333333333,
                          "#9c179e"
                        ],
                        [
                          0.4444444444444444,
                          "#bd3786"
                        ],
                        [
                          0.5555555555555556,
                          "#d8576b"
                        ],
                        [
                          0.6666666666666666,
                          "#ed7953"
                        ],
                        [
                          0.7777777777777778,
                          "#fb9f3a"
                        ],
                        [
                          0.8888888888888888,
                          "#fdca26"
                        ],
                        [
                          1,
                          "#f0f921"
                        ]
                      ]
                    },
                    "colorway": [
                      "#636efa",
                      "#EF553B",
                      "#00cc96",
                      "#ab63fa",
                      "#FFA15A",
                      "#19d3f3",
                      "#FF6692",
                      "#B6E880",
                      "#FF97FF",
                      "#FECB52"
                    ],
                    "font": {
                      "color": "#2a3f5f"
                    },
                    "geo": {
                      "bgcolor": "white",
                      "lakecolor": "white",
                      "landcolor": "#E5ECF6",
                      "showlakes": true,
                      "showland": true,
                      "subunitcolor": "white"
                    },
                    "hoverlabel": {
                      "align": "left"
                    },
                    "hovermode": "closest",
                    "mapbox": {
                      "style": "light"
                    },
                    "paper_bgcolor": "white",
                    "plot_bgcolor": "#E5ECF6",
                    "polar": {
                      "angularaxis": {
                        "gridcolor": "white",
                        "linecolor": "white",
                        "ticks": ""
                      },
                      "bgcolor": "#E5ECF6",
                      "radialaxis": {
                        "gridcolor": "white",
                        "linecolor": "white",
                        "ticks": ""
                      }
                    },
                    "scene": {
                      "xaxis": {
                        "backgroundcolor": "#E5ECF6",
                        "gridcolor": "white",
                        "gridwidth": 2,
                        "linecolor": "white",
                        "showbackground": true,
                        "ticks": "",
                        "zerolinecolor": "white"
                      },
                      "yaxis": {
                        "backgroundcolor": "#E5ECF6",
                        "gridcolor": "white",
                        "gridwidth": 2,
                        "linecolor": "white",
                        "showbackground": true,
                        "ticks": "",
                        "zerolinecolor": "white"
                      },
                      "zaxis": {
                        "backgroundcolor": "#E5ECF6",
                        "gridcolor": "white",
                        "gridwidth": 2,
                        "linecolor": "white",
                        "showbackground": true,
                        "ticks": "",
                        "zerolinecolor": "white"
                      }
                    },
                    "shapedefaults": {
                      "line": {
                        "color": "#2a3f5f"
                      }
                    },
                    "ternary": {
                      "aaxis": {
                        "gridcolor": "white",
                        "linecolor": "white",
                        "ticks": ""
                      },
                      "baxis": {
                        "gridcolor": "white",
                        "linecolor": "white",
                        "ticks": ""
                      },
                      "bgcolor": "#E5ECF6",
                      "caxis": {
                        "gridcolor": "white",
                        "linecolor": "white",
                        "ticks": ""
                      }
                    },
                    "title": {
                      "x": 0.05
                    },
                    "xaxis": {
                      "automargin": true,
                      "gridcolor": "white",
                      "linecolor": "white",
                      "ticks": "",
                      "title": {
                        "standoff": 15
                      },
                      "zerolinecolor": "white",
                      "zerolinewidth": 2
                    },
                    "yaxis": {
                      "automargin": true,
                      "gridcolor": "white",
                      "linecolor": "white",
                      "ticks": "",
                      "title": {
                        "standoff": 15
                      },
                      "zerolinecolor": "white",
                      "zerolinewidth": 2
                    }
                  }
                },
                "xaxis": {
                  "anchor": "y",
                  "domain": [
                    0,
                    1
                  ],
                  "title": {
                    "text": "Desempenho"
                  }
                },
                "yaxis": {
                  "anchor": "x",
                  "domain": [
                    0,
                    1
                  ],
                  "title": {
                    "text": "count"
                  }
                }
              }
            }
          },
          "metadata": {},
          "output_type": "display_data"
        }
      ],
      "source": [
        "px.histogram(Atacante, x = 'Desempenho').show()"
      ]
    },
    {
      "cell_type": "code",
      "execution_count": 20,
      "metadata": {
        "colab": {
          "base_uri": "https://localhost:8080/",
          "height": 1000
        },
        "id": "HkRyTH4iuXOV",
        "outputId": "17e3e16e-bade-4b37-9aae-bcbdd774339a"
      },
      "outputs": [
        {
          "data": {
            "text/html": [
              "<div>\n",
              "<style scoped>\n",
              "    .dataframe tbody tr th:only-of-type {\n",
              "        vertical-align: middle;\n",
              "    }\n",
              "\n",
              "    .dataframe tbody tr th {\n",
              "        vertical-align: top;\n",
              "    }\n",
              "\n",
              "    .dataframe thead th {\n",
              "        text-align: right;\n",
              "    }\n",
              "</style>\n",
              "<table border=\"1\" class=\"dataframe\">\n",
              "  <thead>\n",
              "    <tr style=\"text-align: right;\">\n",
              "      <th></th>\n",
              "      <th>_c0</th>\n",
              "      <th>Rk</th>\n",
              "      <th>Player</th>\n",
              "      <th>Nation</th>\n",
              "      <th>Pos</th>\n",
              "      <th>Squad</th>\n",
              "      <th>Comp</th>\n",
              "      <th>Age</th>\n",
              "      <th>Born</th>\n",
              "      <th>MP</th>\n",
              "      <th>...</th>\n",
              "      <th>PKwon</th>\n",
              "      <th>PKcon</th>\n",
              "      <th>OG</th>\n",
              "      <th>Recov</th>\n",
              "      <th>AerWon</th>\n",
              "      <th>AerLost</th>\n",
              "      <th>AerWon%</th>\n",
              "      <th>GPJ</th>\n",
              "      <th>score</th>\n",
              "      <th>Desempenho</th>\n",
              "    </tr>\n",
              "  </thead>\n",
              "  <tbody>\n",
              "    <tr>\n",
              "      <th>263</th>\n",
              "      <td>1057</td>\n",
              "      <td>1058</td>\n",
              "      <td>Erling Haaland</td>\n",
              "      <td>NOR</td>\n",
              "      <td>FW</td>\n",
              "      <td>Manchester City</td>\n",
              "      <td>Premier League</td>\n",
              "      <td>22</td>\n",
              "      <td>2000</td>\n",
              "      <td>20</td>\n",
              "      <td>...</td>\n",
              "      <td>0.05</td>\n",
              "      <td>0.00</td>\n",
              "      <td>0.0</td>\n",
              "      <td>1.10</td>\n",
              "      <td>1.37</td>\n",
              "      <td>1.26</td>\n",
              "      <td>52.1</td>\n",
              "      <td>1.250000</td>\n",
              "      <td>243.92</td>\n",
              "      <td>Excelente</td>\n",
              "    </tr>\n",
              "    <tr>\n",
              "      <th>326</th>\n",
              "      <td>1260</td>\n",
              "      <td>1261</td>\n",
              "      <td>Harry Kane</td>\n",
              "      <td>ENG</td>\n",
              "      <td>FW</td>\n",
              "      <td>Tottenham</td>\n",
              "      <td>Premier League</td>\n",
              "      <td>29</td>\n",
              "      <td>1993</td>\n",
              "      <td>23</td>\n",
              "      <td>...</td>\n",
              "      <td>0.04</td>\n",
              "      <td>0.00</td>\n",
              "      <td>0.0</td>\n",
              "      <td>2.15</td>\n",
              "      <td>1.75</td>\n",
              "      <td>2.02</td>\n",
              "      <td>46.5</td>\n",
              "      <td>0.739130</td>\n",
              "      <td>201.96</td>\n",
              "      <td>Excelente</td>\n",
              "    </tr>\n",
              "    <tr>\n",
              "      <th>628</th>\n",
              "      <td>2451</td>\n",
              "      <td>2452</td>\n",
              "      <td>Ivan Toney</td>\n",
              "      <td>ENG</td>\n",
              "      <td>FW</td>\n",
              "      <td>Brentford</td>\n",
              "      <td>Premier League</td>\n",
              "      <td>26</td>\n",
              "      <td>1996</td>\n",
              "      <td>20</td>\n",
              "      <td>...</td>\n",
              "      <td>0.15</td>\n",
              "      <td>0.00</td>\n",
              "      <td>0.0</td>\n",
              "      <td>2.96</td>\n",
              "      <td>3.47</td>\n",
              "      <td>3.72</td>\n",
              "      <td>48.3</td>\n",
              "      <td>0.700000</td>\n",
              "      <td>173.44</td>\n",
              "      <td>Excelente</td>\n",
              "    </tr>\n",
              "    <tr>\n",
              "      <th>355</th>\n",
              "      <td>1358</td>\n",
              "      <td>1359</td>\n",
              "      <td>Alexandre Lacazette</td>\n",
              "      <td>FRA</td>\n",
              "      <td>FW</td>\n",
              "      <td>Lyon</td>\n",
              "      <td>Ligue 1</td>\n",
              "      <td>31</td>\n",
              "      <td>1991</td>\n",
              "      <td>22</td>\n",
              "      <td>...</td>\n",
              "      <td>0.05</td>\n",
              "      <td>0.00</td>\n",
              "      <td>0.0</td>\n",
              "      <td>2.76</td>\n",
              "      <td>0.93</td>\n",
              "      <td>1.12</td>\n",
              "      <td>45.5</td>\n",
              "      <td>0.590909</td>\n",
              "      <td>171.34</td>\n",
              "      <td>Excelente</td>\n",
              "    </tr>\n",
              "    <tr>\n",
              "      <th>44</th>\n",
              "      <td>184</td>\n",
              "      <td>185</td>\n",
              "      <td>Folarin Balogun</td>\n",
              "      <td>ENG</td>\n",
              "      <td>FW</td>\n",
              "      <td>Reims</td>\n",
              "      <td>Ligue 1</td>\n",
              "      <td>21</td>\n",
              "      <td>2001</td>\n",
              "      <td>21</td>\n",
              "      <td>...</td>\n",
              "      <td>0.11</td>\n",
              "      <td>0.00</td>\n",
              "      <td>0.0</td>\n",
              "      <td>2.94</td>\n",
              "      <td>0.51</td>\n",
              "      <td>2.03</td>\n",
              "      <td>20.0</td>\n",
              "      <td>0.666667</td>\n",
              "      <td>169.47</td>\n",
              "      <td>Excelente</td>\n",
              "    </tr>\n",
              "    <tr>\n",
              "      <th>481</th>\n",
              "      <td>1858</td>\n",
              "      <td>1859</td>\n",
              "      <td>Victor Osimhen</td>\n",
              "      <td>NGA</td>\n",
              "      <td>FW</td>\n",
              "      <td>Napoli</td>\n",
              "      <td>Serie A</td>\n",
              "      <td>24</td>\n",
              "      <td>1998</td>\n",
              "      <td>17</td>\n",
              "      <td>...</td>\n",
              "      <td>0.06</td>\n",
              "      <td>0.06</td>\n",
              "      <td>0.0</td>\n",
              "      <td>1.54</td>\n",
              "      <td>2.12</td>\n",
              "      <td>2.18</td>\n",
              "      <td>49.3</td>\n",
              "      <td>0.941176</td>\n",
              "      <td>168.24</td>\n",
              "      <td>Excelente</td>\n",
              "    </tr>\n",
              "    <tr>\n",
              "      <th>200</th>\n",
              "      <td>788</td>\n",
              "      <td>789</td>\n",
              "      <td>Breel Embolo</td>\n",
              "      <td>SUI</td>\n",
              "      <td>FW</td>\n",
              "      <td>Monaco</td>\n",
              "      <td>Ligue 1</td>\n",
              "      <td>25</td>\n",
              "      <td>1997</td>\n",
              "      <td>23</td>\n",
              "      <td>...</td>\n",
              "      <td>0.12</td>\n",
              "      <td>0.06</td>\n",
              "      <td>0.0</td>\n",
              "      <td>2.87</td>\n",
              "      <td>1.58</td>\n",
              "      <td>2.05</td>\n",
              "      <td>43.5</td>\n",
              "      <td>0.521739</td>\n",
              "      <td>165.50</td>\n",
              "      <td>Excelente</td>\n",
              "    </tr>\n",
              "    <tr>\n",
              "      <th>65</th>\n",
              "      <td>252</td>\n",
              "      <td>253</td>\n",
              "      <td>Wissam Ben Yedder</td>\n",
              "      <td>FRA</td>\n",
              "      <td>FW</td>\n",
              "      <td>Monaco</td>\n",
              "      <td>Ligue 1</td>\n",
              "      <td>32</td>\n",
              "      <td>1990</td>\n",
              "      <td>19</td>\n",
              "      <td>...</td>\n",
              "      <td>0.08</td>\n",
              "      <td>0.00</td>\n",
              "      <td>0.0</td>\n",
              "      <td>2.62</td>\n",
              "      <td>0.63</td>\n",
              "      <td>1.19</td>\n",
              "      <td>34.8</td>\n",
              "      <td>0.736842</td>\n",
              "      <td>164.65</td>\n",
              "      <td>Excelente</td>\n",
              "    </tr>\n",
              "    <tr>\n",
              "      <th>220</th>\n",
              "      <td>899</td>\n",
              "      <td>900</td>\n",
              "      <td>Niclas F�llkrug</td>\n",
              "      <td>GER</td>\n",
              "      <td>FW</td>\n",
              "      <td>Werder Bremen</td>\n",
              "      <td>Bundesliga</td>\n",
              "      <td>30</td>\n",
              "      <td>1993</td>\n",
              "      <td>19</td>\n",
              "      <td>...</td>\n",
              "      <td>0.00</td>\n",
              "      <td>0.00</td>\n",
              "      <td>0.0</td>\n",
              "      <td>3.35</td>\n",
              "      <td>5.14</td>\n",
              "      <td>3.68</td>\n",
              "      <td>58.3</td>\n",
              "      <td>0.684211</td>\n",
              "      <td>163.21</td>\n",
              "      <td>Excelente</td>\n",
              "    </tr>\n",
              "    <tr>\n",
              "      <th>143</th>\n",
              "      <td>605</td>\n",
              "      <td>606</td>\n",
              "      <td>Jonathan David</td>\n",
              "      <td>CAN</td>\n",
              "      <td>FW</td>\n",
              "      <td>Lille</td>\n",
              "      <td>Ligue 1</td>\n",
              "      <td>23</td>\n",
              "      <td>2000</td>\n",
              "      <td>21</td>\n",
              "      <td>...</td>\n",
              "      <td>0.00</td>\n",
              "      <td>0.00</td>\n",
              "      <td>0.0</td>\n",
              "      <td>2.51</td>\n",
              "      <td>0.31</td>\n",
              "      <td>1.74</td>\n",
              "      <td>15.0</td>\n",
              "      <td>0.571429</td>\n",
              "      <td>158.19</td>\n",
              "      <td>Excelente</td>\n",
              "    </tr>\n",
              "    <tr>\n",
              "      <th>376</th>\n",
              "      <td>1455</td>\n",
              "      <td>1456</td>\n",
              "      <td>Ademola Lookman</td>\n",
              "      <td>NGA</td>\n",
              "      <td>FWMF</td>\n",
              "      <td>Atalanta</td>\n",
              "      <td>Serie A</td>\n",
              "      <td>25</td>\n",
              "      <td>1997</td>\n",
              "      <td>21</td>\n",
              "      <td>...</td>\n",
              "      <td>0.07</td>\n",
              "      <td>0.00</td>\n",
              "      <td>0.0</td>\n",
              "      <td>4.86</td>\n",
              "      <td>0.21</td>\n",
              "      <td>0.63</td>\n",
              "      <td>25.0</td>\n",
              "      <td>0.571429</td>\n",
              "      <td>155.85</td>\n",
              "      <td>Excelente</td>\n",
              "    </tr>\n",
              "    <tr>\n",
              "      <th>402</th>\n",
              "      <td>1575</td>\n",
              "      <td>1576</td>\n",
              "      <td>Lautaro Mart�nez</td>\n",
              "      <td>ARG</td>\n",
              "      <td>FW</td>\n",
              "      <td>Inter</td>\n",
              "      <td>Serie A</td>\n",
              "      <td>25</td>\n",
              "      <td>1997</td>\n",
              "      <td>21</td>\n",
              "      <td>...</td>\n",
              "      <td>0.05</td>\n",
              "      <td>0.00</td>\n",
              "      <td>0.0</td>\n",
              "      <td>3.06</td>\n",
              "      <td>1.29</td>\n",
              "      <td>1.51</td>\n",
              "      <td>46.2</td>\n",
              "      <td>0.571429</td>\n",
              "      <td>155.80</td>\n",
              "      <td>Excelente</td>\n",
              "    </tr>\n",
              "    <tr>\n",
              "      <th>527</th>\n",
              "      <td>2045</td>\n",
              "      <td>2046</td>\n",
              "      <td>Marcus Rashford</td>\n",
              "      <td>ENG</td>\n",
              "      <td>FW</td>\n",
              "      <td>Manchester Utd</td>\n",
              "      <td>Premier League</td>\n",
              "      <td>25</td>\n",
              "      <td>1997</td>\n",
              "      <td>22</td>\n",
              "      <td>...</td>\n",
              "      <td>0.00</td>\n",
              "      <td>0.00</td>\n",
              "      <td>0.0</td>\n",
              "      <td>2.96</td>\n",
              "      <td>0.85</td>\n",
              "      <td>1.51</td>\n",
              "      <td>36.2</td>\n",
              "      <td>0.500000</td>\n",
              "      <td>154.89</td>\n",
              "      <td>Excelente</td>\n",
              "    </tr>\n",
              "    <tr>\n",
              "      <th>371</th>\n",
              "      <td>1426</td>\n",
              "      <td>1427</td>\n",
              "      <td>Robert Lewandowski</td>\n",
              "      <td>POL</td>\n",
              "      <td>FW</td>\n",
              "      <td>Barcelona</td>\n",
              "      <td>La Liga</td>\n",
              "      <td>34</td>\n",
              "      <td>1988</td>\n",
              "      <td>17</td>\n",
              "      <td>...</td>\n",
              "      <td>0.00</td>\n",
              "      <td>0.00</td>\n",
              "      <td>0.0</td>\n",
              "      <td>1.82</td>\n",
              "      <td>1.49</td>\n",
              "      <td>1.42</td>\n",
              "      <td>51.2</td>\n",
              "      <td>0.823529</td>\n",
              "      <td>153.66</td>\n",
              "      <td>Excelente</td>\n",
              "    </tr>\n",
              "    <tr>\n",
              "      <th>409</th>\n",
              "      <td>1609</td>\n",
              "      <td>1610</td>\n",
              "      <td>Kylian Mbapp�</td>\n",
              "      <td>FRA</td>\n",
              "      <td>FW</td>\n",
              "      <td>Paris S-G</td>\n",
              "      <td>Ligue 1</td>\n",
              "      <td>24</td>\n",
              "      <td>1998</td>\n",
              "      <td>19</td>\n",
              "      <td>...</td>\n",
              "      <td>0.06</td>\n",
              "      <td>0.00</td>\n",
              "      <td>0.0</td>\n",
              "      <td>1.72</td>\n",
              "      <td>0.37</td>\n",
              "      <td>0.31</td>\n",
              "      <td>54.5</td>\n",
              "      <td>0.684211</td>\n",
              "      <td>152.23</td>\n",
              "      <td>Excelente</td>\n",
              "    </tr>\n",
              "    <tr>\n",
              "      <th>312</th>\n",
              "      <td>1221</td>\n",
              "      <td>1222</td>\n",
              "      <td>Joselu</td>\n",
              "      <td>ESP</td>\n",
              "      <td>FW</td>\n",
              "      <td>Espanyol</td>\n",
              "      <td>La Liga</td>\n",
              "      <td>32</td>\n",
              "      <td>1990</td>\n",
              "      <td>19</td>\n",
              "      <td>...</td>\n",
              "      <td>0.11</td>\n",
              "      <td>0.00</td>\n",
              "      <td>0.0</td>\n",
              "      <td>2.37</td>\n",
              "      <td>5.84</td>\n",
              "      <td>3.47</td>\n",
              "      <td>62.7</td>\n",
              "      <td>0.578947</td>\n",
              "      <td>151.69</td>\n",
              "      <td>Excelente</td>\n",
              "    </tr>\n",
              "    <tr>\n",
              "      <th>17</th>\n",
              "      <td>72</td>\n",
              "      <td>73</td>\n",
              "      <td>Miguel Almir�n</td>\n",
              "      <td>PAR</td>\n",
              "      <td>FW</td>\n",
              "      <td>Newcastle Utd</td>\n",
              "      <td>Premier League</td>\n",
              "      <td>29</td>\n",
              "      <td>1994</td>\n",
              "      <td>22</td>\n",
              "      <td>...</td>\n",
              "      <td>0.00</td>\n",
              "      <td>0.00</td>\n",
              "      <td>0.0</td>\n",
              "      <td>5.10</td>\n",
              "      <td>0.20</td>\n",
              "      <td>0.45</td>\n",
              "      <td>30.8</td>\n",
              "      <td>0.454545</td>\n",
              "      <td>151.06</td>\n",
              "      <td>Excelente</td>\n",
              "    </tr>\n",
              "    <tr>\n",
              "      <th>165</th>\n",
              "      <td>669</td>\n",
              "      <td>670</td>\n",
              "      <td>Habib Diallo</td>\n",
              "      <td>SEN</td>\n",
              "      <td>FW</td>\n",
              "      <td>Strasbourg</td>\n",
              "      <td>Ligue 1</td>\n",
              "      <td>27</td>\n",
              "      <td>1995</td>\n",
              "      <td>22</td>\n",
              "      <td>...</td>\n",
              "      <td>0.00</td>\n",
              "      <td>0.00</td>\n",
              "      <td>0.0</td>\n",
              "      <td>2.57</td>\n",
              "      <td>3.51</td>\n",
              "      <td>4.33</td>\n",
              "      <td>44.8</td>\n",
              "      <td>0.454545</td>\n",
              "      <td>149.62</td>\n",
              "      <td>Excelente</td>\n",
              "    </tr>\n",
              "    <tr>\n",
              "      <th>428</th>\n",
              "      <td>1687</td>\n",
              "      <td>1688</td>\n",
              "      <td>Terem Moffi</td>\n",
              "      <td>NGA</td>\n",
              "      <td>FW</td>\n",
              "      <td>Lorient</td>\n",
              "      <td>Ligue 1</td>\n",
              "      <td>23</td>\n",
              "      <td>1999</td>\n",
              "      <td>18</td>\n",
              "      <td>...</td>\n",
              "      <td>0.00</td>\n",
              "      <td>0.00</td>\n",
              "      <td>0.0</td>\n",
              "      <td>2.27</td>\n",
              "      <td>0.84</td>\n",
              "      <td>3.05</td>\n",
              "      <td>21.7</td>\n",
              "      <td>0.666667</td>\n",
              "      <td>149.29</td>\n",
              "      <td>Excelente</td>\n",
              "    </tr>\n",
              "    <tr>\n",
              "      <th>425</th>\n",
              "      <td>1680</td>\n",
              "      <td>1681</td>\n",
              "      <td>Aleksandar Mitrovi?</td>\n",
              "      <td>SRB</td>\n",
              "      <td>FW</td>\n",
              "      <td>Fulham</td>\n",
              "      <td>Premier League</td>\n",
              "      <td>28</td>\n",
              "      <td>1994</td>\n",
              "      <td>19</td>\n",
              "      <td>...</td>\n",
              "      <td>0.11</td>\n",
              "      <td>0.00</td>\n",
              "      <td>0.0</td>\n",
              "      <td>2.76</td>\n",
              "      <td>4.64</td>\n",
              "      <td>4.64</td>\n",
              "      <td>50.0</td>\n",
              "      <td>0.578947</td>\n",
              "      <td>145.16</td>\n",
              "      <td>Excelente</td>\n",
              "    </tr>\n",
              "    <tr>\n",
              "      <th>250</th>\n",
              "      <td>1012</td>\n",
              "      <td>1013</td>\n",
              "      <td>Vincenzo Grifo</td>\n",
              "      <td>ITA</td>\n",
              "      <td>FWMF</td>\n",
              "      <td>Freiburg</td>\n",
              "      <td>Bundesliga</td>\n",
              "      <td>29</td>\n",
              "      <td>1993</td>\n",
              "      <td>19</td>\n",
              "      <td>...</td>\n",
              "      <td>0.07</td>\n",
              "      <td>0.00</td>\n",
              "      <td>0.0</td>\n",
              "      <td>4.90</td>\n",
              "      <td>0.42</td>\n",
              "      <td>0.56</td>\n",
              "      <td>42.9</td>\n",
              "      <td>0.578947</td>\n",
              "      <td>143.91</td>\n",
              "      <td>Excelente</td>\n",
              "    </tr>\n",
              "  </tbody>\n",
              "</table>\n",
              "<p>21 rows × 128 columns</p>\n",
              "</div>"
            ],
            "text/plain": [
              "      _c0    Rk               Player Nation   Pos            Squad  \\\n",
              "263  1057  1058       Erling Haaland    NOR    FW  Manchester City   \n",
              "326  1260  1261           Harry Kane    ENG    FW        Tottenham   \n",
              "628  2451  2452           Ivan Toney    ENG    FW        Brentford   \n",
              "355  1358  1359  Alexandre Lacazette    FRA    FW             Lyon   \n",
              "44    184   185      Folarin Balogun    ENG    FW            Reims   \n",
              "481  1858  1859       Victor Osimhen    NGA    FW           Napoli   \n",
              "200   788   789         Breel Embolo    SUI    FW           Monaco   \n",
              "65    252   253    Wissam Ben Yedder    FRA    FW           Monaco   \n",
              "220   899   900      Niclas F�llkrug    GER    FW    Werder Bremen   \n",
              "143   605   606       Jonathan David    CAN    FW            Lille   \n",
              "376  1455  1456      Ademola Lookman    NGA  FWMF         Atalanta   \n",
              "402  1575  1576     Lautaro Mart�nez    ARG    FW            Inter   \n",
              "527  2045  2046      Marcus Rashford    ENG    FW   Manchester Utd   \n",
              "371  1426  1427   Robert Lewandowski    POL    FW        Barcelona   \n",
              "409  1609  1610        Kylian Mbapp�    FRA    FW        Paris S-G   \n",
              "312  1221  1222               Joselu    ESP    FW         Espanyol   \n",
              "17     72    73       Miguel Almir�n    PAR    FW    Newcastle Utd   \n",
              "165   669   670         Habib Diallo    SEN    FW       Strasbourg   \n",
              "428  1687  1688          Terem Moffi    NGA    FW          Lorient   \n",
              "425  1680  1681  Aleksandar Mitrovi?    SRB    FW           Fulham   \n",
              "250  1012  1013       Vincenzo Grifo    ITA  FWMF         Freiburg   \n",
              "\n",
              "               Comp  Age  Born  MP  ...  PKwon  PKcon   OG  Recov  AerWon  \\\n",
              "263  Premier League   22  2000  20  ...   0.05   0.00  0.0   1.10    1.37   \n",
              "326  Premier League   29  1993  23  ...   0.04   0.00  0.0   2.15    1.75   \n",
              "628  Premier League   26  1996  20  ...   0.15   0.00  0.0   2.96    3.47   \n",
              "355         Ligue 1   31  1991  22  ...   0.05   0.00  0.0   2.76    0.93   \n",
              "44          Ligue 1   21  2001  21  ...   0.11   0.00  0.0   2.94    0.51   \n",
              "481         Serie A   24  1998  17  ...   0.06   0.06  0.0   1.54    2.12   \n",
              "200         Ligue 1   25  1997  23  ...   0.12   0.06  0.0   2.87    1.58   \n",
              "65          Ligue 1   32  1990  19  ...   0.08   0.00  0.0   2.62    0.63   \n",
              "220      Bundesliga   30  1993  19  ...   0.00   0.00  0.0   3.35    5.14   \n",
              "143         Ligue 1   23  2000  21  ...   0.00   0.00  0.0   2.51    0.31   \n",
              "376         Serie A   25  1997  21  ...   0.07   0.00  0.0   4.86    0.21   \n",
              "402         Serie A   25  1997  21  ...   0.05   0.00  0.0   3.06    1.29   \n",
              "527  Premier League   25  1997  22  ...   0.00   0.00  0.0   2.96    0.85   \n",
              "371         La Liga   34  1988  17  ...   0.00   0.00  0.0   1.82    1.49   \n",
              "409         Ligue 1   24  1998  19  ...   0.06   0.00  0.0   1.72    0.37   \n",
              "312         La Liga   32  1990  19  ...   0.11   0.00  0.0   2.37    5.84   \n",
              "17   Premier League   29  1994  22  ...   0.00   0.00  0.0   5.10    0.20   \n",
              "165         Ligue 1   27  1995  22  ...   0.00   0.00  0.0   2.57    3.51   \n",
              "428         Ligue 1   23  1999  18  ...   0.00   0.00  0.0   2.27    0.84   \n",
              "425  Premier League   28  1994  19  ...   0.11   0.00  0.0   2.76    4.64   \n",
              "250      Bundesliga   29  1993  19  ...   0.07   0.00  0.0   4.90    0.42   \n",
              "\n",
              "     AerLost  AerWon%       GPJ   score  Desempenho  \n",
              "263     1.26     52.1  1.250000  243.92   Excelente  \n",
              "326     2.02     46.5  0.739130  201.96   Excelente  \n",
              "628     3.72     48.3  0.700000  173.44   Excelente  \n",
              "355     1.12     45.5  0.590909  171.34   Excelente  \n",
              "44      2.03     20.0  0.666667  169.47   Excelente  \n",
              "481     2.18     49.3  0.941176  168.24   Excelente  \n",
              "200     2.05     43.5  0.521739  165.50   Excelente  \n",
              "65      1.19     34.8  0.736842  164.65   Excelente  \n",
              "220     3.68     58.3  0.684211  163.21   Excelente  \n",
              "143     1.74     15.0  0.571429  158.19   Excelente  \n",
              "376     0.63     25.0  0.571429  155.85   Excelente  \n",
              "402     1.51     46.2  0.571429  155.80   Excelente  \n",
              "527     1.51     36.2  0.500000  154.89   Excelente  \n",
              "371     1.42     51.2  0.823529  153.66   Excelente  \n",
              "409     0.31     54.5  0.684211  152.23   Excelente  \n",
              "312     3.47     62.7  0.578947  151.69   Excelente  \n",
              "17      0.45     30.8  0.454545  151.06   Excelente  \n",
              "165     4.33     44.8  0.454545  149.62   Excelente  \n",
              "428     3.05     21.7  0.666667  149.29   Excelente  \n",
              "425     4.64     50.0  0.578947  145.16   Excelente  \n",
              "250     0.56     42.9  0.578947  143.91   Excelente  \n",
              "\n",
              "[21 rows x 128 columns]"
            ]
          },
          "execution_count": 20,
          "metadata": {},
          "output_type": "execute_result"
        }
      ],
      "source": [
        "Atacante[Atacante['Desempenho'] == 'Excelente'].head(50)"
      ]
    },
    {
      "cell_type": "code",
      "execution_count": 80,
      "metadata": {
        "id": "y2qnv2X80OPW"
      },
      "outputs": [],
      "source": [
        "Atacante.to_csv('/content/Atacantes.csv')"
      ]
    }
  ],
  "metadata": {
    "colab": {
      "provenance": []
    },
    "kernelspec": {
      "display_name": "Python 3",
      "name": "python3"
    },
    "language_info": {
      "codemirror_mode": {
        "name": "ipython",
        "version": 3
      },
      "file_extension": ".py",
      "mimetype": "text/x-python",
      "name": "python",
      "nbconvert_exporter": "python",
      "pygments_lexer": "ipython3",
      "version": "3.9.7"
    }
  },
  "nbformat": 4,
  "nbformat_minor": 0
}
